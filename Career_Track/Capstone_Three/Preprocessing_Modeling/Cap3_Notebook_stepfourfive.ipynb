{
 "cells": [
  {
   "cell_type": "markdown",
   "metadata": {},
   "source": [
    "# Capstone 3 - Book Recommendation System\n",
    "\n",
    "# Pre Processing and Training Data Development\n",
    "\n",
    "Pre Processing and Training Data Development is the fourth step in the Data Science Method. The following will be performed in this step:\n",
    "\n",
    "1. Create dummy or indicator features for categorical variables\n",
    "2. Standardize the magnitude of numeric features\n",
    "3. Split into testing and training datasets\n",
    "4. Apply scaler to the testing set\n",
    "\n",
    "# Modeling\n",
    "\n",
    "Modeling is the fifth step in the Data Science Method.  The following will be performed in this step:\n",
    "\n",
    "1. Fit Models with Training Data Set\n",
    "2. Review Model Outcomes — Iterate over additional models as needed.\n",
    "3. Identify the Final Model"
   ]
  },
  {
   "cell_type": "code",
   "execution_count": 43,
   "metadata": {},
   "outputs": [],
   "source": [
    "#load python packages\n",
    "import os\n",
    "import pandas as pd\n",
    "import pandas.api.types as ptypes\n",
    "import datetime\n",
    "import seaborn as sns\n",
    "import matplotlib.pyplot as plt\n",
    "import numpy as np\n",
    "%matplotlib inline\n",
    "import warnings \n",
    "warnings.filterwarnings('ignore')"
   ]
  },
  {
   "cell_type": "code",
   "execution_count": 44,
   "metadata": {},
   "outputs": [
    {
     "data": {
      "text/html": [
       "<div>\n",
       "<style scoped>\n",
       "    .dataframe tbody tr th:only-of-type {\n",
       "        vertical-align: middle;\n",
       "    }\n",
       "\n",
       "    .dataframe tbody tr th {\n",
       "        vertical-align: top;\n",
       "    }\n",
       "\n",
       "    .dataframe thead th {\n",
       "        text-align: right;\n",
       "    }\n",
       "</style>\n",
       "<table border=\"1\" class=\"dataframe\">\n",
       "  <thead>\n",
       "    <tr style=\"text-align: right;\">\n",
       "      <th></th>\n",
       "      <th>Unnamed: 0</th>\n",
       "      <th>ISBN</th>\n",
       "      <th>Book-Title</th>\n",
       "      <th>Book-Author</th>\n",
       "      <th>Year-Of-Publication</th>\n",
       "      <th>Publisher</th>\n",
       "      <th>User-ID</th>\n",
       "      <th>Book-Rating</th>\n",
       "      <th>Location</th>\n",
       "      <th>Age</th>\n",
       "    </tr>\n",
       "  </thead>\n",
       "  <tbody>\n",
       "    <tr>\n",
       "      <th>0</th>\n",
       "      <td>13715</td>\n",
       "      <td>0002005018</td>\n",
       "      <td>Clara Callan</td>\n",
       "      <td>Richard Bruce Wright</td>\n",
       "      <td>2001</td>\n",
       "      <td>HarperFlamingo Canada</td>\n",
       "      <td>85526.0</td>\n",
       "      <td>0.0</td>\n",
       "      <td>victoria, british columbia, canada</td>\n",
       "      <td>36.0</td>\n",
       "    </tr>\n",
       "    <tr>\n",
       "      <th>1</th>\n",
       "      <td>13716</td>\n",
       "      <td>0804106304</td>\n",
       "      <td>The Joy Luck Club</td>\n",
       "      <td>Amy Tan</td>\n",
       "      <td>1994</td>\n",
       "      <td>Prentice Hall (K-12)</td>\n",
       "      <td>85526.0</td>\n",
       "      <td>0.0</td>\n",
       "      <td>victoria, british columbia, canada</td>\n",
       "      <td>36.0</td>\n",
       "    </tr>\n",
       "    <tr>\n",
       "      <th>2</th>\n",
       "      <td>13717</td>\n",
       "      <td>0786868716</td>\n",
       "      <td>The Five People You Meet in Heaven</td>\n",
       "      <td>Mitch Albom</td>\n",
       "      <td>2003</td>\n",
       "      <td>Hyperion</td>\n",
       "      <td>85526.0</td>\n",
       "      <td>0.0</td>\n",
       "      <td>victoria, british columbia, canada</td>\n",
       "      <td>36.0</td>\n",
       "    </tr>\n",
       "    <tr>\n",
       "      <th>3</th>\n",
       "      <td>13718</td>\n",
       "      <td>0060929790</td>\n",
       "      <td>One Hundred Years of Solitude</td>\n",
       "      <td>Gabriel Garcia Marquez</td>\n",
       "      <td>1998</td>\n",
       "      <td>Perennial</td>\n",
       "      <td>85526.0</td>\n",
       "      <td>0.0</td>\n",
       "      <td>victoria, british columbia, canada</td>\n",
       "      <td>36.0</td>\n",
       "    </tr>\n",
       "    <tr>\n",
       "      <th>4</th>\n",
       "      <td>13719</td>\n",
       "      <td>0452282152</td>\n",
       "      <td>Girl with a Pearl Earring</td>\n",
       "      <td>Tracy Chevalier</td>\n",
       "      <td>2001</td>\n",
       "      <td>Plume Books</td>\n",
       "      <td>85526.0</td>\n",
       "      <td>7.0</td>\n",
       "      <td>victoria, british columbia, canada</td>\n",
       "      <td>36.0</td>\n",
       "    </tr>\n",
       "  </tbody>\n",
       "</table>\n",
       "</div>"
      ],
      "text/plain": [
       "   Unnamed: 0        ISBN                          Book-Title  \\\n",
       "0       13715  0002005018                        Clara Callan   \n",
       "1       13716  0804106304                   The Joy Luck Club   \n",
       "2       13717  0786868716  The Five People You Meet in Heaven   \n",
       "3       13718  0060929790       One Hundred Years of Solitude   \n",
       "4       13719  0452282152           Girl with a Pearl Earring   \n",
       "\n",
       "              Book-Author  Year-Of-Publication              Publisher  \\\n",
       "0    Richard Bruce Wright                 2001  HarperFlamingo Canada   \n",
       "1                 Amy Tan                 1994   Prentice Hall (K-12)   \n",
       "2             Mitch Albom                 2003               Hyperion   \n",
       "3  Gabriel Garcia Marquez                 1998              Perennial   \n",
       "4         Tracy Chevalier                 2001            Plume Books   \n",
       "\n",
       "   User-ID  Book-Rating                            Location   Age  \n",
       "0  85526.0          0.0  victoria, british columbia, canada  36.0  \n",
       "1  85526.0          0.0  victoria, british columbia, canada  36.0  \n",
       "2  85526.0          0.0  victoria, british columbia, canada  36.0  \n",
       "3  85526.0          0.0  victoria, british columbia, canada  36.0  \n",
       "4  85526.0          7.0  victoria, british columbia, canada  36.0  "
      ]
     },
     "execution_count": 44,
     "metadata": {},
     "output_type": "execute_result"
    }
   ],
   "source": [
    "df = pd.read_csv(\"../Data_Wrangle_EDA/data/Cap3_step23_output.csv\")\n",
    "df.head()"
   ]
  },
  {
   "cell_type": "code",
   "execution_count": 45,
   "metadata": {},
   "outputs": [
    {
     "data": {
      "text/html": [
       "<div>\n",
       "<style scoped>\n",
       "    .dataframe tbody tr th:only-of-type {\n",
       "        vertical-align: middle;\n",
       "    }\n",
       "\n",
       "    .dataframe tbody tr th {\n",
       "        vertical-align: top;\n",
       "    }\n",
       "\n",
       "    .dataframe thead th {\n",
       "        text-align: right;\n",
       "    }\n",
       "</style>\n",
       "<table border=\"1\" class=\"dataframe\">\n",
       "  <thead>\n",
       "    <tr style=\"text-align: right;\">\n",
       "      <th></th>\n",
       "      <th>ISBN</th>\n",
       "      <th>Book-Title</th>\n",
       "      <th>Book-Author</th>\n",
       "      <th>Year-Of-Publication</th>\n",
       "      <th>Publisher</th>\n",
       "      <th>User-ID</th>\n",
       "      <th>Book-Rating</th>\n",
       "      <th>Location</th>\n",
       "      <th>Age</th>\n",
       "    </tr>\n",
       "  </thead>\n",
       "  <tbody>\n",
       "    <tr>\n",
       "      <th>0</th>\n",
       "      <td>0002005018</td>\n",
       "      <td>Clara Callan</td>\n",
       "      <td>Richard Bruce Wright</td>\n",
       "      <td>2001</td>\n",
       "      <td>HarperFlamingo Canada</td>\n",
       "      <td>85526.0</td>\n",
       "      <td>0.0</td>\n",
       "      <td>victoria, british columbia, canada</td>\n",
       "      <td>36.0</td>\n",
       "    </tr>\n",
       "    <tr>\n",
       "      <th>1</th>\n",
       "      <td>0804106304</td>\n",
       "      <td>The Joy Luck Club</td>\n",
       "      <td>Amy Tan</td>\n",
       "      <td>1994</td>\n",
       "      <td>Prentice Hall (K-12)</td>\n",
       "      <td>85526.0</td>\n",
       "      <td>0.0</td>\n",
       "      <td>victoria, british columbia, canada</td>\n",
       "      <td>36.0</td>\n",
       "    </tr>\n",
       "    <tr>\n",
       "      <th>2</th>\n",
       "      <td>0786868716</td>\n",
       "      <td>The Five People You Meet in Heaven</td>\n",
       "      <td>Mitch Albom</td>\n",
       "      <td>2003</td>\n",
       "      <td>Hyperion</td>\n",
       "      <td>85526.0</td>\n",
       "      <td>0.0</td>\n",
       "      <td>victoria, british columbia, canada</td>\n",
       "      <td>36.0</td>\n",
       "    </tr>\n",
       "    <tr>\n",
       "      <th>3</th>\n",
       "      <td>0060929790</td>\n",
       "      <td>One Hundred Years of Solitude</td>\n",
       "      <td>Gabriel Garcia Marquez</td>\n",
       "      <td>1998</td>\n",
       "      <td>Perennial</td>\n",
       "      <td>85526.0</td>\n",
       "      <td>0.0</td>\n",
       "      <td>victoria, british columbia, canada</td>\n",
       "      <td>36.0</td>\n",
       "    </tr>\n",
       "    <tr>\n",
       "      <th>4</th>\n",
       "      <td>0452282152</td>\n",
       "      <td>Girl with a Pearl Earring</td>\n",
       "      <td>Tracy Chevalier</td>\n",
       "      <td>2001</td>\n",
       "      <td>Plume Books</td>\n",
       "      <td>85526.0</td>\n",
       "      <td>7.0</td>\n",
       "      <td>victoria, british columbia, canada</td>\n",
       "      <td>36.0</td>\n",
       "    </tr>\n",
       "  </tbody>\n",
       "</table>\n",
       "</div>"
      ],
      "text/plain": [
       "         ISBN                          Book-Title             Book-Author  \\\n",
       "0  0002005018                        Clara Callan    Richard Bruce Wright   \n",
       "1  0804106304                   The Joy Luck Club                 Amy Tan   \n",
       "2  0786868716  The Five People You Meet in Heaven             Mitch Albom   \n",
       "3  0060929790       One Hundred Years of Solitude  Gabriel Garcia Marquez   \n",
       "4  0452282152           Girl with a Pearl Earring         Tracy Chevalier   \n",
       "\n",
       "   Year-Of-Publication              Publisher  User-ID  Book-Rating  \\\n",
       "0                 2001  HarperFlamingo Canada  85526.0          0.0   \n",
       "1                 1994   Prentice Hall (K-12)  85526.0          0.0   \n",
       "2                 2003               Hyperion  85526.0          0.0   \n",
       "3                 1998              Perennial  85526.0          0.0   \n",
       "4                 2001            Plume Books  85526.0          7.0   \n",
       "\n",
       "                             Location   Age  \n",
       "0  victoria, british columbia, canada  36.0  \n",
       "1  victoria, british columbia, canada  36.0  \n",
       "2  victoria, british columbia, canada  36.0  \n",
       "3  victoria, british columbia, canada  36.0  \n",
       "4  victoria, british columbia, canada  36.0  "
      ]
     },
     "execution_count": 45,
     "metadata": {},
     "output_type": "execute_result"
    }
   ],
   "source": [
    "df = df.drop([\"Unnamed: 0\"], axis=1)\n",
    "df.head()"
   ]
  },
  {
   "cell_type": "code",
   "execution_count": 46,
   "metadata": {},
   "outputs": [
    {
     "data": {
      "text/plain": [
       "(429486, 9)"
      ]
     },
     "execution_count": 46,
     "metadata": {},
     "output_type": "execute_result"
    }
   ],
   "source": [
    "df.shape"
   ]
  },
  {
   "cell_type": "code",
   "execution_count": 47,
   "metadata": {},
   "outputs": [
    {
     "data": {
      "text/html": [
       "<div>\n",
       "<style scoped>\n",
       "    .dataframe tbody tr th:only-of-type {\n",
       "        vertical-align: middle;\n",
       "    }\n",
       "\n",
       "    .dataframe tbody tr th {\n",
       "        vertical-align: top;\n",
       "    }\n",
       "\n",
       "    .dataframe thead th {\n",
       "        text-align: right;\n",
       "    }\n",
       "</style>\n",
       "<table border=\"1\" class=\"dataframe\">\n",
       "  <thead>\n",
       "    <tr style=\"text-align: right;\">\n",
       "      <th></th>\n",
       "      <th>ISBN</th>\n",
       "      <th>Book-Title</th>\n",
       "      <th>Book-Author</th>\n",
       "      <th>Year-Of-Publication</th>\n",
       "      <th>Publisher</th>\n",
       "      <th>User-ID</th>\n",
       "      <th>Book-Rating</th>\n",
       "      <th>Location</th>\n",
       "      <th>Age</th>\n",
       "    </tr>\n",
       "  </thead>\n",
       "  <tbody>\n",
       "    <tr>\n",
       "      <th>429481</th>\n",
       "      <td>0263827461</td>\n",
       "      <td>A Poor Relation (Historical Romance: Regency)</td>\n",
       "      <td>Joanna Maitland</td>\n",
       "      <td>2001</td>\n",
       "      <td>Harlequin Mills &amp;amp; Boon Ltd</td>\n",
       "      <td>163759.0</td>\n",
       "      <td>5.0</td>\n",
       "      <td>abertillery, wales, united kingdom</td>\n",
       "      <td>37.0</td>\n",
       "    </tr>\n",
       "    <tr>\n",
       "      <th>429482</th>\n",
       "      <td>0263816575</td>\n",
       "      <td>Mistress of Madderlea (Historical Romance: Reg...</td>\n",
       "      <td>Mary Nichols</td>\n",
       "      <td>1999</td>\n",
       "      <td>Harlequin Mills &amp;amp; Boon Ltd</td>\n",
       "      <td>163759.0</td>\n",
       "      <td>5.0</td>\n",
       "      <td>abertillery, wales, united kingdom</td>\n",
       "      <td>37.0</td>\n",
       "    </tr>\n",
       "    <tr>\n",
       "      <th>429483</th>\n",
       "      <td>0440222974</td>\n",
       "      <td>A Fire in Heaven</td>\n",
       "      <td>Annee Carter</td>\n",
       "      <td>1998</td>\n",
       "      <td>Dell Publishing Company</td>\n",
       "      <td>163759.0</td>\n",
       "      <td>5.0</td>\n",
       "      <td>abertillery, wales, united kingdom</td>\n",
       "      <td>37.0</td>\n",
       "    </tr>\n",
       "    <tr>\n",
       "      <th>429484</th>\n",
       "      <td>0373059191</td>\n",
       "      <td>Mr. Easy  (Man Of The Month) (Silhouette Desir...</td>\n",
       "      <td>Cait London</td>\n",
       "      <td>1995</td>\n",
       "      <td>Silhouette</td>\n",
       "      <td>163759.0</td>\n",
       "      <td>4.0</td>\n",
       "      <td>abertillery, wales, united kingdom</td>\n",
       "      <td>37.0</td>\n",
       "    </tr>\n",
       "    <tr>\n",
       "      <th>429485</th>\n",
       "      <td>0373760930</td>\n",
       "      <td>Groom Candidate  (Man Of The Month/The Tallchi...</td>\n",
       "      <td>Cait London</td>\n",
       "      <td>1997</td>\n",
       "      <td>Silhouette</td>\n",
       "      <td>163759.0</td>\n",
       "      <td>4.0</td>\n",
       "      <td>abertillery, wales, united kingdom</td>\n",
       "      <td>37.0</td>\n",
       "    </tr>\n",
       "  </tbody>\n",
       "</table>\n",
       "</div>"
      ],
      "text/plain": [
       "              ISBN                                         Book-Title  \\\n",
       "429481  0263827461      A Poor Relation (Historical Romance: Regency)   \n",
       "429482  0263816575  Mistress of Madderlea (Historical Romance: Reg...   \n",
       "429483  0440222974                                   A Fire in Heaven   \n",
       "429484  0373059191  Mr. Easy  (Man Of The Month) (Silhouette Desir...   \n",
       "429485  0373760930  Groom Candidate  (Man Of The Month/The Tallchi...   \n",
       "\n",
       "            Book-Author  Year-Of-Publication                       Publisher  \\\n",
       "429481  Joanna Maitland                 2001  Harlequin Mills &amp; Boon Ltd   \n",
       "429482     Mary Nichols                 1999  Harlequin Mills &amp; Boon Ltd   \n",
       "429483     Annee Carter                 1998         Dell Publishing Company   \n",
       "429484      Cait London                 1995                      Silhouette   \n",
       "429485      Cait London                 1997                      Silhouette   \n",
       "\n",
       "         User-ID  Book-Rating                            Location   Age  \n",
       "429481  163759.0          5.0  abertillery, wales, united kingdom  37.0  \n",
       "429482  163759.0          5.0  abertillery, wales, united kingdom  37.0  \n",
       "429483  163759.0          5.0  abertillery, wales, united kingdom  37.0  \n",
       "429484  163759.0          4.0  abertillery, wales, united kingdom  37.0  \n",
       "429485  163759.0          4.0  abertillery, wales, united kingdom  37.0  "
      ]
     },
     "execution_count": 47,
     "metadata": {},
     "output_type": "execute_result"
    }
   ],
   "source": [
    "df.tail()"
   ]
  },
  {
   "cell_type": "code",
   "execution_count": 48,
   "metadata": {},
   "outputs": [
    {
     "name": "stdout",
     "output_type": "stream",
     "text": [
      "<class 'pandas.core.frame.DataFrame'>\n",
      "RangeIndex: 429486 entries, 0 to 429485\n",
      "Data columns (total 9 columns):\n",
      " #   Column               Non-Null Count   Dtype  \n",
      "---  ------               --------------   -----  \n",
      " 0   ISBN                 429486 non-null  object \n",
      " 1   Book-Title           429486 non-null  object \n",
      " 2   Book-Author          429486 non-null  object \n",
      " 3   Year-Of-Publication  429486 non-null  int64  \n",
      " 4   Publisher            429486 non-null  object \n",
      " 5   User-ID              429486 non-null  float64\n",
      " 6   Book-Rating          429486 non-null  float64\n",
      " 7   Location             429486 non-null  object \n",
      " 8   Age                  429486 non-null  float64\n",
      "dtypes: float64(3), int64(1), object(5)\n",
      "memory usage: 29.5+ MB\n"
     ]
    }
   ],
   "source": [
    "df.info()"
   ]
  },
  {
   "cell_type": "code",
   "execution_count": 49,
   "metadata": {},
   "outputs": [
    {
     "data": {
      "text/html": [
       "<div>\n",
       "<style scoped>\n",
       "    .dataframe tbody tr th:only-of-type {\n",
       "        vertical-align: middle;\n",
       "    }\n",
       "\n",
       "    .dataframe tbody tr th {\n",
       "        vertical-align: top;\n",
       "    }\n",
       "\n",
       "    .dataframe thead th {\n",
       "        text-align: right;\n",
       "    }\n",
       "</style>\n",
       "<table border=\"1\" class=\"dataframe\">\n",
       "  <thead>\n",
       "    <tr style=\"text-align: right;\">\n",
       "      <th></th>\n",
       "      <th>User-ID</th>\n",
       "      <th>ISBN</th>\n",
       "      <th>Book-Rating</th>\n",
       "    </tr>\n",
       "  </thead>\n",
       "  <tbody>\n",
       "    <tr>\n",
       "      <th>0</th>\n",
       "      <td>85526.0</td>\n",
       "      <td>0002005018</td>\n",
       "      <td>0.0</td>\n",
       "    </tr>\n",
       "    <tr>\n",
       "      <th>1</th>\n",
       "      <td>85526.0</td>\n",
       "      <td>0804106304</td>\n",
       "      <td>0.0</td>\n",
       "    </tr>\n",
       "    <tr>\n",
       "      <th>2</th>\n",
       "      <td>85526.0</td>\n",
       "      <td>0786868716</td>\n",
       "      <td>0.0</td>\n",
       "    </tr>\n",
       "    <tr>\n",
       "      <th>3</th>\n",
       "      <td>85526.0</td>\n",
       "      <td>0060929790</td>\n",
       "      <td>0.0</td>\n",
       "    </tr>\n",
       "    <tr>\n",
       "      <th>4</th>\n",
       "      <td>85526.0</td>\n",
       "      <td>0452282152</td>\n",
       "      <td>7.0</td>\n",
       "    </tr>\n",
       "  </tbody>\n",
       "</table>\n",
       "</div>"
      ],
      "text/plain": [
       "   User-ID        ISBN  Book-Rating\n",
       "0  85526.0  0002005018          0.0\n",
       "1  85526.0  0804106304          0.0\n",
       "2  85526.0  0786868716          0.0\n",
       "3  85526.0  0060929790          0.0\n",
       "4  85526.0  0452282152          7.0"
      ]
     },
     "execution_count": 49,
     "metadata": {},
     "output_type": "execute_result"
    }
   ],
   "source": [
    "df_reviews = df[['User-ID','ISBN','Book-Rating']]\n",
    "df_reviews.head()"
   ]
  },
  {
   "cell_type": "code",
   "execution_count": 50,
   "metadata": {},
   "outputs": [
    {
     "data": {
      "text/plain": [
       "(429486, 3)"
      ]
     },
     "execution_count": 50,
     "metadata": {},
     "output_type": "execute_result"
    }
   ],
   "source": [
    "df_reviews.shape"
   ]
  },
  {
   "cell_type": "markdown",
   "metadata": {},
   "source": [
    "# This size is too big for my computer memory.  Using smaller sample size of 300000."
   ]
  },
  {
   "cell_type": "code",
   "execution_count": 51,
   "metadata": {},
   "outputs": [
    {
     "data": {
      "text/html": [
       "<div>\n",
       "<style scoped>\n",
       "    .dataframe tbody tr th:only-of-type {\n",
       "        vertical-align: middle;\n",
       "    }\n",
       "\n",
       "    .dataframe tbody tr th {\n",
       "        vertical-align: top;\n",
       "    }\n",
       "\n",
       "    .dataframe thead th {\n",
       "        text-align: right;\n",
       "    }\n",
       "</style>\n",
       "<table border=\"1\" class=\"dataframe\">\n",
       "  <thead>\n",
       "    <tr style=\"text-align: right;\">\n",
       "      <th></th>\n",
       "      <th>User-ID</th>\n",
       "      <th>ISBN</th>\n",
       "      <th>Book-Rating</th>\n",
       "    </tr>\n",
       "  </thead>\n",
       "  <tbody>\n",
       "    <tr>\n",
       "      <th>124756</th>\n",
       "      <td>13093.0</td>\n",
       "      <td>0345441109</td>\n",
       "      <td>0.0</td>\n",
       "    </tr>\n",
       "    <tr>\n",
       "      <th>261251</th>\n",
       "      <td>105374.0</td>\n",
       "      <td>0345404114</td>\n",
       "      <td>0.0</td>\n",
       "    </tr>\n",
       "    <tr>\n",
       "      <th>11937</th>\n",
       "      <td>230522.0</td>\n",
       "      <td>0590407201</td>\n",
       "      <td>10.0</td>\n",
       "    </tr>\n",
       "    <tr>\n",
       "      <th>271158</th>\n",
       "      <td>259829.0</td>\n",
       "      <td>0886771528</td>\n",
       "      <td>0.0</td>\n",
       "    </tr>\n",
       "    <tr>\n",
       "      <th>220988</th>\n",
       "      <td>222050.0</td>\n",
       "      <td>0486272842</td>\n",
       "      <td>10.0</td>\n",
       "    </tr>\n",
       "  </tbody>\n",
       "</table>\n",
       "</div>"
      ],
      "text/plain": [
       "         User-ID        ISBN  Book-Rating\n",
       "124756   13093.0  0345441109          0.0\n",
       "261251  105374.0  0345404114          0.0\n",
       "11937   230522.0  0590407201         10.0\n",
       "271158  259829.0  0886771528          0.0\n",
       "220988  222050.0  0486272842         10.0"
      ]
     },
     "execution_count": 51,
     "metadata": {},
     "output_type": "execute_result"
    }
   ],
   "source": [
    "df_sample = df_reviews.sample(n=300000, random_state=1)\n",
    "df_sample.head()"
   ]
  },
  {
   "cell_type": "code",
   "execution_count": 52,
   "metadata": {},
   "outputs": [
    {
     "data": {
      "text/html": [
       "<div>\n",
       "<style scoped>\n",
       "    .dataframe tbody tr th:only-of-type {\n",
       "        vertical-align: middle;\n",
       "    }\n",
       "\n",
       "    .dataframe tbody tr th {\n",
       "        vertical-align: top;\n",
       "    }\n",
       "\n",
       "    .dataframe thead th {\n",
       "        text-align: right;\n",
       "    }\n",
       "</style>\n",
       "<table border=\"1\" class=\"dataframe\">\n",
       "  <thead>\n",
       "    <tr style=\"text-align: right;\">\n",
       "      <th></th>\n",
       "      <th>userID</th>\n",
       "      <th>itemID</th>\n",
       "      <th>rating</th>\n",
       "    </tr>\n",
       "  </thead>\n",
       "  <tbody>\n",
       "    <tr>\n",
       "      <th>124756</th>\n",
       "      <td>13093.0</td>\n",
       "      <td>0345441109</td>\n",
       "      <td>0.0</td>\n",
       "    </tr>\n",
       "    <tr>\n",
       "      <th>261251</th>\n",
       "      <td>105374.0</td>\n",
       "      <td>0345404114</td>\n",
       "      <td>0.0</td>\n",
       "    </tr>\n",
       "    <tr>\n",
       "      <th>11937</th>\n",
       "      <td>230522.0</td>\n",
       "      <td>0590407201</td>\n",
       "      <td>10.0</td>\n",
       "    </tr>\n",
       "    <tr>\n",
       "      <th>271158</th>\n",
       "      <td>259829.0</td>\n",
       "      <td>0886771528</td>\n",
       "      <td>0.0</td>\n",
       "    </tr>\n",
       "    <tr>\n",
       "      <th>220988</th>\n",
       "      <td>222050.0</td>\n",
       "      <td>0486272842</td>\n",
       "      <td>10.0</td>\n",
       "    </tr>\n",
       "  </tbody>\n",
       "</table>\n",
       "</div>"
      ],
      "text/plain": [
       "          userID      itemID  rating\n",
       "124756   13093.0  0345441109     0.0\n",
       "261251  105374.0  0345404114     0.0\n",
       "11937   230522.0  0590407201    10.0\n",
       "271158  259829.0  0886771528     0.0\n",
       "220988  222050.0  0486272842    10.0"
      ]
     },
     "execution_count": 52,
     "metadata": {},
     "output_type": "execute_result"
    }
   ],
   "source": [
    "df_sample.rename(columns = {'User-ID' : 'userID', 'ISBN' : 'itemID', 'Book-Rating' : 'rating'}, inplace=True)\n",
    "df_sample.head()"
   ]
  },
  {
   "cell_type": "code",
   "execution_count": 53,
   "metadata": {},
   "outputs": [],
   "source": [
    "df_sample['bookId']=pd.factorize(df_sample['itemID'].tolist())[0]"
   ]
  },
  {
   "cell_type": "code",
   "execution_count": 54,
   "metadata": {},
   "outputs": [
    {
     "data": {
      "text/plain": [
       "userID      1279\n",
       "itemID    127205\n",
       "rating        11\n",
       "bookId    127205\n",
       "dtype: int64"
      ]
     },
     "execution_count": 54,
     "metadata": {},
     "output_type": "execute_result"
    }
   ],
   "source": [
    "df_sample.nunique()"
   ]
  },
  {
   "cell_type": "code",
   "execution_count": 55,
   "metadata": {},
   "outputs": [
    {
     "data": {
      "text/plain": [
       "array([ 0., 10.,  9.,  8.,  7.,  5.,  6.,  4.,  3.,  2.,  1.])"
      ]
     },
     "execution_count": 55,
     "metadata": {},
     "output_type": "execute_result"
    }
   ],
   "source": [
    "df_sample['rating'].unique()"
   ]
  },
  {
   "cell_type": "markdown",
   "metadata": {},
   "source": [
    "# Using scikit-surprise"
   ]
  },
  {
   "cell_type": "markdown",
   "metadata": {},
   "source": [
    "## 1. NormalPredictor"
   ]
  },
  {
   "cell_type": "code",
   "execution_count": 56,
   "metadata": {},
   "outputs": [
    {
     "data": {
      "text/plain": [
       "{'test_rmse': array([4.50543058, 4.50663899]),\n",
       " 'test_mae': array([3.38393716, 3.38691787]),\n",
       " 'fit_time': (0.3248107433319092, 0.3547942638397217),\n",
       " 'test_time': (1.6360652446746826, 1.9468896389007568)}"
      ]
     },
     "execution_count": 56,
     "metadata": {},
     "output_type": "execute_result"
    }
   ],
   "source": [
    "from surprise import NormalPredictor\n",
    "from surprise import Dataset\n",
    "from surprise import Reader\n",
    "from surprise.model_selection import cross_validate\n",
    "\n",
    "# A reader is still needed but only the rating_scale param is requiered.\n",
    "reader = Reader(rating_scale=(0, 10))\n",
    "\n",
    "# The columns must correspond to user id, item id and ratings (in that order).\n",
    "data = Dataset.load_from_df(df_sample[['userID', 'bookId', 'rating']], reader)\n",
    "\n",
    "# We can now use this dataset as we please, e.g. calling cross_validate\n",
    "cross_validate(NormalPredictor(), data, cv=2)"
   ]
  },
  {
   "cell_type": "markdown",
   "metadata": {},
   "source": [
    "## 2. SVD with 3 fold cross validation"
   ]
  },
  {
   "cell_type": "code",
   "execution_count": 57,
   "metadata": {},
   "outputs": [
    {
     "name": "stdout",
     "output_type": "stream",
     "text": [
      "RMSE: 3.2242\n",
      "RMSE: 3.2299\n",
      "RMSE: 3.2389\n"
     ]
    }
   ],
   "source": [
    "from surprise import SVD\n",
    "from surprise import accuracy\n",
    "from surprise.model_selection import KFold\n",
    "\n",
    "# define a cross-validation iterator\n",
    "kf = KFold(n_splits=3)\n",
    "\n",
    "algo_SVD = SVD()\n",
    "\n",
    "for trainset, testset in kf.split(data):\n",
    "\n",
    "    # train and test algorithm.\n",
    "    algo_SVD.fit(trainset)\n",
    "    predictions = algo_SVD.test(testset)\n",
    "\n",
    "    # Compute and print Root Mean Squared Error\n",
    "    accuracy.rmse(predictions, verbose=True)"
   ]
  },
  {
   "cell_type": "markdown",
   "metadata": {},
   "source": [
    "## 3. SVD with 3 fold cross validation and GridSearchCV"
   ]
  },
  {
   "cell_type": "code",
   "execution_count": null,
   "metadata": {},
   "outputs": [],
   "source": []
  },
  {
   "cell_type": "code",
   "execution_count": 58,
   "metadata": {},
   "outputs": [
    {
     "name": "stdout",
     "output_type": "stream",
     "text": [
      "3.1945679065104113\n",
      "{'n_epochs': 10, 'lr_all': 0.005, 'reg_all': 0.4}\n"
     ]
    }
   ],
   "source": [
    "from surprise import SVD\n",
    "from surprise.model_selection import GridSearchCV\n",
    "\n",
    "param_grid = {'n_epochs': [5, 10], 'lr_all': [0.002, 0.005],\n",
    "              'reg_all': [0.4, 0.6]}\n",
    "gs = GridSearchCV(SVD, param_grid, measures=['rmse', 'mae'], cv=3)\n",
    "\n",
    "gs.fit(data)\n",
    "\n",
    "# best RMSE score\n",
    "print(gs.best_score['rmse'])\n",
    "\n",
    "# combination of parameters that gave the best RMSE score\n",
    "print(gs.best_params['rmse'])"
   ]
  },
  {
   "cell_type": "code",
   "execution_count": null,
   "metadata": {},
   "outputs": [],
   "source": []
  },
  {
   "cell_type": "markdown",
   "metadata": {},
   "source": [
    "## 4. K Nearest Neighbor with 3 fold cross validation and Cosine Similarity and user based."
   ]
  },
  {
   "cell_type": "code",
   "execution_count": 59,
   "metadata": {},
   "outputs": [
    {
     "name": "stdout",
     "output_type": "stream",
     "text": [
      "Computing the cosine similarity matrix...\n",
      "Done computing similarity matrix.\n",
      "RMSE: 3.8721\n",
      "Computing the cosine similarity matrix...\n",
      "Done computing similarity matrix.\n",
      "RMSE: 3.8727\n",
      "Computing the cosine similarity matrix...\n",
      "Done computing similarity matrix.\n",
      "RMSE: 3.8850\n"
     ]
    }
   ],
   "source": [
    "from surprise import KNNBasic\n",
    "from surprise.model_selection import KFold\n",
    "\n",
    "sim_options = {'name': 'cosine',\n",
    "               'min_support' : 1,\n",
    "               'user_based': True    # compute similarities between users\n",
    "               #'user_based': False  # compute  similarities between items\n",
    "               }\n",
    "algo_KNN = KNNBasic(sim_options=sim_options)\n",
    "\n",
    "# define a cross-validation iterator\n",
    "kf = KFold(n_splits=3)\n",
    "\n",
    "# The columns must correspond to user id, item id and ratings (in that order).\n",
    "data_small = Dataset.load_from_df(df_sample[['userID', 'bookId', 'rating']], reader)\n",
    "\n",
    "for trainset, testset in kf.split(data_small):\n",
    "\n",
    "    # train and test algorithm.\n",
    "    algo_KNN.fit(trainset)\n",
    "    predictions = algo_KNN.test(testset)\n",
    "\n",
    "    # Compute and print Root Mean Squared Error\n",
    "    accuracy.rmse(predictions, verbose=True)"
   ]
  },
  {
   "cell_type": "markdown",
   "metadata": {},
   "source": [
    "# Predictions"
   ]
  },
  {
   "cell_type": "markdown",
   "metadata": {},
   "source": [
    "SVD with 3 fold cross validation using the best parameters found with GridSearchCV is the best model."
   ]
  },
  {
   "cell_type": "markdown",
   "metadata": {},
   "source": [
    "Using 5 fold cross validation."
   ]
  },
  {
   "cell_type": "markdown",
   "metadata": {},
   "source": [
    "## Question:  How to train on the full dataset?"
   ]
  },
  {
   "cell_type": "code",
   "execution_count": 60,
   "metadata": {},
   "outputs": [
    {
     "name": "stdout",
     "output_type": "stream",
     "text": [
      "RMSE: 3.1913\n",
      "RMSE: 3.2083\n",
      "RMSE: 3.2071\n",
      "RMSE: 3.1800\n",
      "RMSE: 3.1800\n"
     ]
    }
   ],
   "source": [
    "# define a cross-validation iterator\n",
    "kf = KFold(n_splits=5)\n",
    "\n",
    "algo_SVD = SVD(n_epochs = 10, lr_all = 0.005, reg_all = 0.4)\n",
    "\n",
    "for trainset, testset in kf.split(data):\n",
    "\n",
    "    # train and test algorithm.\n",
    "    algo_SVD.fit(trainset)\n",
    "    predictions = algo_SVD.test(testset)\n",
    "\n",
    "    # Compute and print Root Mean Squared Error\n",
    "    accuracy.rmse(predictions, verbose=True)\n"
   ]
  },
  {
   "cell_type": "code",
   "execution_count": 61,
   "metadata": {},
   "outputs": [
    {
     "data": {
      "text/html": [
       "<div>\n",
       "<style scoped>\n",
       "    .dataframe tbody tr th:only-of-type {\n",
       "        vertical-align: middle;\n",
       "    }\n",
       "\n",
       "    .dataframe tbody tr th {\n",
       "        vertical-align: top;\n",
       "    }\n",
       "\n",
       "    .dataframe thead th {\n",
       "        text-align: right;\n",
       "    }\n",
       "</style>\n",
       "<table border=\"1\" class=\"dataframe\">\n",
       "  <thead>\n",
       "    <tr style=\"text-align: right;\">\n",
       "      <th></th>\n",
       "      <th>userID</th>\n",
       "      <th>itemID</th>\n",
       "      <th>rating</th>\n",
       "      <th>bookId</th>\n",
       "    </tr>\n",
       "  </thead>\n",
       "  <tbody>\n",
       "    <tr>\n",
       "      <th>11937</th>\n",
       "      <td>230522.0</td>\n",
       "      <td>0590407201</td>\n",
       "      <td>10.0</td>\n",
       "      <td>2</td>\n",
       "    </tr>\n",
       "    <tr>\n",
       "      <th>220988</th>\n",
       "      <td>222050.0</td>\n",
       "      <td>0486272842</td>\n",
       "      <td>10.0</td>\n",
       "      <td>4</td>\n",
       "    </tr>\n",
       "    <tr>\n",
       "      <th>253147</th>\n",
       "      <td>78783.0</td>\n",
       "      <td>0449223604</td>\n",
       "      <td>9.0</td>\n",
       "      <td>11</td>\n",
       "    </tr>\n",
       "    <tr>\n",
       "      <th>28167</th>\n",
       "      <td>31556.0</td>\n",
       "      <td>0061099155</td>\n",
       "      <td>8.0</td>\n",
       "      <td>14</td>\n",
       "    </tr>\n",
       "    <tr>\n",
       "      <th>277297</th>\n",
       "      <td>46443.0</td>\n",
       "      <td>0836270045</td>\n",
       "      <td>7.0</td>\n",
       "      <td>17</td>\n",
       "    </tr>\n",
       "    <tr>\n",
       "      <th>...</th>\n",
       "      <td>...</td>\n",
       "      <td>...</td>\n",
       "      <td>...</td>\n",
       "      <td>...</td>\n",
       "    </tr>\n",
       "    <tr>\n",
       "      <th>365312</th>\n",
       "      <td>168387.0</td>\n",
       "      <td>0688003435</td>\n",
       "      <td>8.0</td>\n",
       "      <td>33437</td>\n",
       "    </tr>\n",
       "    <tr>\n",
       "      <th>421789</th>\n",
       "      <td>33145.0</td>\n",
       "      <td>2742722629</td>\n",
       "      <td>8.0</td>\n",
       "      <td>127203</td>\n",
       "    </tr>\n",
       "    <tr>\n",
       "      <th>151016</th>\n",
       "      <td>63714.0</td>\n",
       "      <td>0714121649</td>\n",
       "      <td>10.0</td>\n",
       "      <td>127204</td>\n",
       "    </tr>\n",
       "    <tr>\n",
       "      <th>93435</th>\n",
       "      <td>95932.0</td>\n",
       "      <td>0140196161</td>\n",
       "      <td>7.0</td>\n",
       "      <td>38009</td>\n",
       "    </tr>\n",
       "    <tr>\n",
       "      <th>308059</th>\n",
       "      <td>108405.0</td>\n",
       "      <td>0425178765</td>\n",
       "      <td>8.0</td>\n",
       "      <td>19596</td>\n",
       "    </tr>\n",
       "  </tbody>\n",
       "</table>\n",
       "<p>74863 rows × 4 columns</p>\n",
       "</div>"
      ],
      "text/plain": [
       "          userID      itemID  rating  bookId\n",
       "11937   230522.0  0590407201    10.0       2\n",
       "220988  222050.0  0486272842    10.0       4\n",
       "253147   78783.0  0449223604     9.0      11\n",
       "28167    31556.0  0061099155     8.0      14\n",
       "277297   46443.0  0836270045     7.0      17\n",
       "...          ...         ...     ...     ...\n",
       "365312  168387.0  0688003435     8.0   33437\n",
       "421789   33145.0  2742722629     8.0  127203\n",
       "151016   63714.0  0714121649    10.0  127204\n",
       "93435    95932.0  0140196161     7.0   38009\n",
       "308059  108405.0  0425178765     8.0   19596\n",
       "\n",
       "[74863 rows x 4 columns]"
      ]
     },
     "execution_count": 61,
     "metadata": {},
     "output_type": "execute_result"
    }
   ],
   "source": [
    "df_sample[df_sample['rating'] > 4.0]"
   ]
  },
  {
   "cell_type": "code",
   "execution_count": 62,
   "metadata": {},
   "outputs": [
    {
     "data": {
      "text/plain": [
       "Prediction(uid=230522.0, iid=2, r_ui=None, est=1.685919791594414, details={'was_impossible': False})"
      ]
     },
     "execution_count": 62,
     "metadata": {},
     "output_type": "execute_result"
    }
   ],
   "source": [
    "algo_SVD.predict(uid = 230522.0, iid = 2)"
   ]
  },
  {
   "cell_type": "code",
   "execution_count": 63,
   "metadata": {},
   "outputs": [
    {
     "data": {
      "text/plain": [
       "Prediction(uid=78783.0, iid=11, r_ui=None, est=1.1778163380652158, details={'was_impossible': False})"
      ]
     },
     "execution_count": 63,
     "metadata": {},
     "output_type": "execute_result"
    }
   ],
   "source": [
    "algo_SVD.predict(uid = 78783.0, iid = 11)"
   ]
  },
  {
   "cell_type": "code",
   "execution_count": 64,
   "metadata": {},
   "outputs": [
    {
     "data": {
      "text/plain": [
       "Prediction(uid=95932.0, iid=38009, r_ui=None, est=2.3869396292249205, details={'was_impossible': False})"
      ]
     },
     "execution_count": 64,
     "metadata": {},
     "output_type": "execute_result"
    }
   ],
   "source": [
    "algo_SVD.predict(uid = 95932.0, iid = 38009)"
   ]
  },
  {
   "cell_type": "code",
   "execution_count": 65,
   "metadata": {},
   "outputs": [
    {
     "data": {
      "text/plain": [
       "Prediction(uid=95932.0, iid=2, r_ui=None, est=2.446908221594215, details={'was_impossible': False})"
      ]
     },
     "execution_count": 65,
     "metadata": {},
     "output_type": "execute_result"
    }
   ],
   "source": [
    "algo_SVD.predict(uid = 95932.0, iid = 2)"
   ]
  },
  {
   "cell_type": "code",
   "execution_count": null,
   "metadata": {},
   "outputs": [],
   "source": []
  },
  {
   "cell_type": "code",
   "execution_count": 39,
   "metadata": {},
   "outputs": [],
   "source": [
    "#df_sample['bookId']=pd.factorize(df_sample['itemID'].tolist())[0]"
   ]
  },
  {
   "cell_type": "code",
   "execution_count": null,
   "metadata": {},
   "outputs": [],
   "source": []
  },
  {
   "cell_type": "code",
   "execution_count": null,
   "metadata": {},
   "outputs": [],
   "source": []
  },
  {
   "cell_type": "markdown",
   "metadata": {},
   "source": [
    "# Top 10 predictions for all users"
   ]
  },
  {
   "cell_type": "markdown",
   "metadata": {},
   "source": [
    "Note:  The following memory intensive model prediction cannot run on my computer!  "
   ]
  },
  {
   "cell_type": "code",
   "execution_count": null,
   "metadata": {},
   "outputs": [],
   "source": [
    "from surprise import SVD\n",
    "from surprise.model_selection import GridSearchCV\n",
    "\n",
    "def get_top_n(predictions, n=10):\n",
    "    \"\"\"Return the top-N recommendation for each user from a set of predictions.\n",
    "\n",
    "    Args:\n",
    "        predictions(list of Prediction objects): The list of predictions, as\n",
    "            returned by the test method of an algorithm.\n",
    "        n(int): The number of recommendation to output for each user. Default\n",
    "            is 10.\n",
    "\n",
    "    Returns:\n",
    "    A dict where keys are user (raw) ids and values are lists of tuples:\n",
    "        [(raw item id, rating estimation), ...] of size n.\n",
    "    \"\"\"\n",
    "\n",
    "    # First map the predictions to each user.\n",
    "    top_n = defaultdict(list)\n",
    "    for uid, iid, true_r, est, _ in predictions:\n",
    "        top_n[uid].append((iid, est))\n",
    "\n",
    "    # Then sort the predictions for each user and retrieve the k highest ones.\n",
    "    for uid, user_ratings in top_n.items():\n",
    "        user_ratings.sort(key=lambda x: x[1], reverse=True)\n",
    "        top_n[uid] = user_ratings[:n]\n",
    "\n",
    "    return top_n\n",
    "\n",
    "\n",
    "\n",
    "svd_model = SVD()\n",
    "\n",
    "# First train an SVD algorithm on the input data\n",
    "trainset = data.build_full_trainset()\n",
    "svd_model.fit(trainset)\n",
    "\n",
    "# Then predict ratings for all pairs (u, i) that are NOT in the training set.\n",
    "testset = trainset.build_anti_testset()\n",
    "predictions = svd_model.test(testset)\n",
    "\n",
    "top_n = get_top_n(predictions, n=10)\n",
    "\n",
    "# Print the recommended items for each user\n",
    "for uid, user_ratings in top_n.items():\n",
    "    print(uid, [iid for (iid, _) in user_ratings])"
   ]
  },
  {
   "cell_type": "code",
   "execution_count": null,
   "metadata": {},
   "outputs": [],
   "source": []
  },
  {
   "cell_type": "code",
   "execution_count": null,
   "metadata": {},
   "outputs": [],
   "source": []
  },
  {
   "cell_type": "code",
   "execution_count": null,
   "metadata": {},
   "outputs": [],
   "source": []
  },
  {
   "cell_type": "code",
   "execution_count": null,
   "metadata": {},
   "outputs": [],
   "source": []
  },
  {
   "cell_type": "code",
   "execution_count": null,
   "metadata": {},
   "outputs": [],
   "source": []
  },
  {
   "cell_type": "code",
   "execution_count": null,
   "metadata": {},
   "outputs": [],
   "source": []
  },
  {
   "cell_type": "code",
   "execution_count": null,
   "metadata": {},
   "outputs": [],
   "source": []
  },
  {
   "cell_type": "code",
   "execution_count": null,
   "metadata": {},
   "outputs": [],
   "source": []
  },
  {
   "cell_type": "code",
   "execution_count": null,
   "metadata": {},
   "outputs": [],
   "source": []
  },
  {
   "cell_type": "code",
   "execution_count": null,
   "metadata": {},
   "outputs": [],
   "source": []
  },
  {
   "cell_type": "code",
   "execution_count": null,
   "metadata": {},
   "outputs": [],
   "source": []
  },
  {
   "cell_type": "code",
   "execution_count": null,
   "metadata": {},
   "outputs": [],
   "source": []
  },
  {
   "cell_type": "code",
   "execution_count": null,
   "metadata": {},
   "outputs": [],
   "source": []
  }
 ],
 "metadata": {
  "kernelspec": {
   "display_name": "Python 3",
   "language": "python",
   "name": "python3"
  },
  "language_info": {
   "codemirror_mode": {
    "name": "ipython",
    "version": 3
   },
   "file_extension": ".py",
   "mimetype": "text/x-python",
   "name": "python",
   "nbconvert_exporter": "python",
   "pygments_lexer": "ipython3",
   "version": "3.7.3"
  }
 },
 "nbformat": 4,
 "nbformat_minor": 2
}
