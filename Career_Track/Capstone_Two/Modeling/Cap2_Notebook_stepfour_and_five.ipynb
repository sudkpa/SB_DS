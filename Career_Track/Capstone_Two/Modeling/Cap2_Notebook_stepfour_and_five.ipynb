{
 "cells": [
  {
   "cell_type": "markdown",
   "metadata": {},
   "source": [
    "# Capstone 2 - Lending Club Loan Defaults Prediction¶\n",
    "\n",
    "# Modeling\n",
    "\n",
    "\n",
    "Modeling is the fifth step in the Data Science Method.  The following will be performed in this step:\n",
    "\n",
    "1. Fit Models with Training Data Set\n",
    "2. Review Model Outcomes — Iterate over additional models as needed.\n",
    "3. Identify the Final Model"
   ]
  },
  {
   "cell_type": "code",
   "execution_count": 80,
   "metadata": {},
   "outputs": [],
   "source": [
    "#load python packages\n",
    "import os\n",
    "import pandas as pd\n",
    "import pandas.api.types as ptypes\n",
    "import datetime\n",
    "import seaborn as sns\n",
    "import matplotlib.pyplot as plt\n",
    "import numpy as np\n",
    "%matplotlib inline\n",
    "import warnings # For handling error messages.\n",
    "#warnings.simplefilter(action=\"ignore\", category=FutureWarning)\n",
    "warnings.filterwarnings('ignore')"
   ]
  },
  {
   "cell_type": "code",
   "execution_count": 40,
   "metadata": {},
   "outputs": [
    {
     "data": {
      "text/html": [
       "<div>\n",
       "<style scoped>\n",
       "    .dataframe tbody tr th:only-of-type {\n",
       "        vertical-align: middle;\n",
       "    }\n",
       "\n",
       "    .dataframe tbody tr th {\n",
       "        vertical-align: top;\n",
       "    }\n",
       "\n",
       "    .dataframe thead th {\n",
       "        text-align: right;\n",
       "    }\n",
       "</style>\n",
       "<table border=\"1\" class=\"dataframe\">\n",
       "  <thead>\n",
       "    <tr style=\"text-align: right;\">\n",
       "      <th></th>\n",
       "      <th>loan_amnt</th>\n",
       "      <th>int_rate</th>\n",
       "      <th>annual_inc</th>\n",
       "      <th>dti</th>\n",
       "      <th>delinq_2yrs</th>\n",
       "      <th>inq_last_6mths</th>\n",
       "      <th>mths_since_last_delinq</th>\n",
       "      <th>mths_since_last_record</th>\n",
       "      <th>pub_rec</th>\n",
       "      <th>revol_bal</th>\n",
       "      <th>...</th>\n",
       "      <th>initial_list_status</th>\n",
       "      <th>application_type</th>\n",
       "      <th>verification_status_joint</th>\n",
       "      <th>hardship_flag</th>\n",
       "      <th>hardship_type</th>\n",
       "      <th>hardship_reason</th>\n",
       "      <th>hardship_status</th>\n",
       "      <th>hardship_loan_status</th>\n",
       "      <th>debt_settlement_flag</th>\n",
       "      <th>settlement_status</th>\n",
       "    </tr>\n",
       "  </thead>\n",
       "  <tbody>\n",
       "    <tr>\n",
       "      <th>0</th>\n",
       "      <td>2500</td>\n",
       "      <td>13.56</td>\n",
       "      <td>55000.0</td>\n",
       "      <td>18.24</td>\n",
       "      <td>0.0</td>\n",
       "      <td>1.0</td>\n",
       "      <td>0.0</td>\n",
       "      <td>45.0</td>\n",
       "      <td>1.0</td>\n",
       "      <td>4341</td>\n",
       "      <td>...</td>\n",
       "      <td>w</td>\n",
       "      <td>Individual</td>\n",
       "      <td>NaN</td>\n",
       "      <td>N</td>\n",
       "      <td>NaN</td>\n",
       "      <td>NaN</td>\n",
       "      <td>NaN</td>\n",
       "      <td>NaN</td>\n",
       "      <td>N</td>\n",
       "      <td>NaN</td>\n",
       "    </tr>\n",
       "    <tr>\n",
       "      <th>1</th>\n",
       "      <td>30000</td>\n",
       "      <td>18.94</td>\n",
       "      <td>90000.0</td>\n",
       "      <td>26.52</td>\n",
       "      <td>0.0</td>\n",
       "      <td>0.0</td>\n",
       "      <td>71.0</td>\n",
       "      <td>75.0</td>\n",
       "      <td>1.0</td>\n",
       "      <td>12315</td>\n",
       "      <td>...</td>\n",
       "      <td>w</td>\n",
       "      <td>Individual</td>\n",
       "      <td>NaN</td>\n",
       "      <td>N</td>\n",
       "      <td>NaN</td>\n",
       "      <td>NaN</td>\n",
       "      <td>NaN</td>\n",
       "      <td>NaN</td>\n",
       "      <td>N</td>\n",
       "      <td>NaN</td>\n",
       "    </tr>\n",
       "    <tr>\n",
       "      <th>2</th>\n",
       "      <td>5000</td>\n",
       "      <td>17.97</td>\n",
       "      <td>59280.0</td>\n",
       "      <td>10.51</td>\n",
       "      <td>0.0</td>\n",
       "      <td>0.0</td>\n",
       "      <td>0.0</td>\n",
       "      <td>0.0</td>\n",
       "      <td>0.0</td>\n",
       "      <td>4599</td>\n",
       "      <td>...</td>\n",
       "      <td>w</td>\n",
       "      <td>Individual</td>\n",
       "      <td>NaN</td>\n",
       "      <td>N</td>\n",
       "      <td>NaN</td>\n",
       "      <td>NaN</td>\n",
       "      <td>NaN</td>\n",
       "      <td>NaN</td>\n",
       "      <td>N</td>\n",
       "      <td>NaN</td>\n",
       "    </tr>\n",
       "    <tr>\n",
       "      <th>3</th>\n",
       "      <td>4000</td>\n",
       "      <td>18.94</td>\n",
       "      <td>92000.0</td>\n",
       "      <td>16.74</td>\n",
       "      <td>0.0</td>\n",
       "      <td>0.0</td>\n",
       "      <td>0.0</td>\n",
       "      <td>0.0</td>\n",
       "      <td>0.0</td>\n",
       "      <td>5468</td>\n",
       "      <td>...</td>\n",
       "      <td>w</td>\n",
       "      <td>Individual</td>\n",
       "      <td>NaN</td>\n",
       "      <td>N</td>\n",
       "      <td>NaN</td>\n",
       "      <td>NaN</td>\n",
       "      <td>NaN</td>\n",
       "      <td>NaN</td>\n",
       "      <td>N</td>\n",
       "      <td>NaN</td>\n",
       "    </tr>\n",
       "    <tr>\n",
       "      <th>4</th>\n",
       "      <td>30000</td>\n",
       "      <td>16.14</td>\n",
       "      <td>57250.0</td>\n",
       "      <td>26.35</td>\n",
       "      <td>0.0</td>\n",
       "      <td>0.0</td>\n",
       "      <td>0.0</td>\n",
       "      <td>0.0</td>\n",
       "      <td>0.0</td>\n",
       "      <td>829</td>\n",
       "      <td>...</td>\n",
       "      <td>w</td>\n",
       "      <td>Individual</td>\n",
       "      <td>NaN</td>\n",
       "      <td>N</td>\n",
       "      <td>NaN</td>\n",
       "      <td>NaN</td>\n",
       "      <td>NaN</td>\n",
       "      <td>NaN</td>\n",
       "      <td>N</td>\n",
       "      <td>NaN</td>\n",
       "    </tr>\n",
       "  </tbody>\n",
       "</table>\n",
       "<p>5 rows × 87 columns</p>\n",
       "</div>"
      ],
      "text/plain": [
       "   loan_amnt  int_rate  annual_inc    dti  delinq_2yrs  inq_last_6mths  \\\n",
       "0       2500     13.56     55000.0  18.24          0.0             1.0   \n",
       "1      30000     18.94     90000.0  26.52          0.0             0.0   \n",
       "2       5000     17.97     59280.0  10.51          0.0             0.0   \n",
       "3       4000     18.94     92000.0  16.74          0.0             0.0   \n",
       "4      30000     16.14     57250.0  26.35          0.0             0.0   \n",
       "\n",
       "   mths_since_last_delinq  mths_since_last_record  pub_rec  revol_bal  ...  \\\n",
       "0                     0.0                    45.0      1.0       4341  ...   \n",
       "1                    71.0                    75.0      1.0      12315  ...   \n",
       "2                     0.0                     0.0      0.0       4599  ...   \n",
       "3                     0.0                     0.0      0.0       5468  ...   \n",
       "4                     0.0                     0.0      0.0        829  ...   \n",
       "\n",
       "   initial_list_status  application_type  verification_status_joint  \\\n",
       "0                    w        Individual                        NaN   \n",
       "1                    w        Individual                        NaN   \n",
       "2                    w        Individual                        NaN   \n",
       "3                    w        Individual                        NaN   \n",
       "4                    w        Individual                        NaN   \n",
       "\n",
       "   hardship_flag  hardship_type  hardship_reason  hardship_status  \\\n",
       "0              N            NaN              NaN              NaN   \n",
       "1              N            NaN              NaN              NaN   \n",
       "2              N            NaN              NaN              NaN   \n",
       "3              N            NaN              NaN              NaN   \n",
       "4              N            NaN              NaN              NaN   \n",
       "\n",
       "   hardship_loan_status  debt_settlement_flag  settlement_status  \n",
       "0                   NaN                     N                NaN  \n",
       "1                   NaN                     N                NaN  \n",
       "2                   NaN                     N                NaN  \n",
       "3                   NaN                     N                NaN  \n",
       "4                   NaN                     N                NaN  \n",
       "\n",
       "[5 rows x 87 columns]"
      ]
     },
     "execution_count": 40,
     "metadata": {},
     "output_type": "execute_result"
    }
   ],
   "source": [
    "# Read data output created in the EDA step\n",
    "df = pd.read_csv(\"../EDA/data/Cap2_step3_output.csv\", dtype={'verification_status_joint':object,'hardship_type':object, 'hardship_reason':object, 'hardship_status':object, 'hardship_loan_status':object, 'settlement_status':object}, index_col=\"Unnamed: 0\")\n",
    "df.head(5)"
   ]
  },
  {
   "cell_type": "code",
   "execution_count": 41,
   "metadata": {},
   "outputs": [
    {
     "data": {
      "text/plain": [
       "(2150627, 87)"
      ]
     },
     "execution_count": 41,
     "metadata": {},
     "output_type": "execute_result"
    }
   ],
   "source": [
    "df.shape"
   ]
  },
  {
   "cell_type": "code",
   "execution_count": 42,
   "metadata": {},
   "outputs": [
    {
     "name": "stdout",
     "output_type": "stream",
     "text": [
      "<class 'pandas.core.frame.DataFrame'>\n",
      "Int64Index: 2150627 entries, 0 to 2260667\n",
      "Data columns (total 87 columns):\n",
      " #   Column                                      Dtype  \n",
      "---  ------                                      -----  \n",
      " 0   loan_amnt                                   int64  \n",
      " 1   int_rate                                    float64\n",
      " 2   annual_inc                                  float64\n",
      " 3   dti                                         float64\n",
      " 4   delinq_2yrs                                 float64\n",
      " 5   inq_last_6mths                              float64\n",
      " 6   mths_since_last_delinq                      float64\n",
      " 7   mths_since_last_record                      float64\n",
      " 8   pub_rec                                     float64\n",
      " 9   revol_bal                                   int64  \n",
      " 10  revol_util                                  float64\n",
      " 11  out_prncp                                   float64\n",
      " 12  total_pymnt                                 float64\n",
      " 13  total_rec_int                               float64\n",
      " 14  recoveries                                  float64\n",
      " 15  last_pymnt_amnt                             float64\n",
      " 16  collections_12_mths_ex_med                  float64\n",
      " 17  mths_since_last_major_derog                 float64\n",
      " 18  annual_inc_joint                            float64\n",
      " 19  dti_joint                                   float64\n",
      " 20  acc_now_delinq                              float64\n",
      " 21  tot_coll_amt                                float64\n",
      " 22  tot_cur_bal                                 float64\n",
      " 23  open_acc_6m                                 float64\n",
      " 24  open_act_il                                 float64\n",
      " 25  total_bal_il                                float64\n",
      " 26  il_util                                     float64\n",
      " 27  max_bal_bc                                  float64\n",
      " 28  all_util                                    float64\n",
      " 29  total_rev_hi_lim                            float64\n",
      " 30  inq_fi                                      float64\n",
      " 31  inq_last_12m                                float64\n",
      " 32  avg_cur_bal                                 float64\n",
      " 33  bc_util                                     float64\n",
      " 34  chargeoff_within_12_mths                    float64\n",
      " 35  delinq_amnt                                 float64\n",
      " 36  mths_since_recent_bc_dlq                    float64\n",
      " 37  mths_since_recent_inq                       float64\n",
      " 38  mths_since_recent_revol_delinq              float64\n",
      " 39  num_accts_ever_120_pd                       float64\n",
      " 40  num_tl_120dpd_2m                            float64\n",
      " 41  num_tl_30dpd                                float64\n",
      " 42  num_tl_90g_dpd_24m                          float64\n",
      " 43  pct_tl_nvr_dlq                              float64\n",
      " 44  percent_bc_gt_75                            float64\n",
      " 45  pub_rec_bankruptcies                        float64\n",
      " 46  tax_liens                                   float64\n",
      " 47  total_bal_ex_mort                           float64\n",
      " 48  total_bc_limit                              float64\n",
      " 49  total_il_high_credit_limit                  float64\n",
      " 50  revol_bal_joint                             float64\n",
      " 51  sec_app_inq_last_6mths                      float64\n",
      " 52  sec_app_mort_acc                            float64\n",
      " 53  sec_app_open_acc                            float64\n",
      " 54  sec_app_revol_util                          float64\n",
      " 55  sec_app_open_act_il                         float64\n",
      " 56  sec_app_chargeoff_within_12_mths            float64\n",
      " 57  sec_app_collections_12_mths_ex_med          float64\n",
      " 58  sec_app_mths_since_last_major_derog         float64\n",
      " 59  deferral_term                               float64\n",
      " 60  hardship_amount                             float64\n",
      " 61  hardship_dpd                                float64\n",
      " 62  orig_projected_additional_accrued_interest  float64\n",
      " 63  hardship_last_payment_amount                float64\n",
      " 64  settlement_amount                           float64\n",
      " 65  settlement_percentage                       float64\n",
      " 66  settlement_term                             float64\n",
      " 67  term                                        object \n",
      " 68  grade                                       object \n",
      " 69  sub_grade                                   object \n",
      " 70  home_ownership                              object \n",
      " 71  verification_status                         object \n",
      " 72  loan_status                                 object \n",
      " 73  pymnt_plan                                  object \n",
      " 74  title                                       object \n",
      " 75  zip_code                                    object \n",
      " 76  addr_state                                  object \n",
      " 77  initial_list_status                         object \n",
      " 78  application_type                            object \n",
      " 79  verification_status_joint                   object \n",
      " 80  hardship_flag                               object \n",
      " 81  hardship_type                               object \n",
      " 82  hardship_reason                             object \n",
      " 83  hardship_status                             object \n",
      " 84  hardship_loan_status                        object \n",
      " 85  debt_settlement_flag                        object \n",
      " 86  settlement_status                           object \n",
      "dtypes: float64(65), int64(2), object(20)\n",
      "memory usage: 1.4+ GB\n"
     ]
    }
   ],
   "source": [
    "df.info()"
   ]
  },
  {
   "cell_type": "code",
   "execution_count": 43,
   "metadata": {},
   "outputs": [
    {
     "data": {
      "text/html": [
       "<div>\n",
       "<style scoped>\n",
       "    .dataframe tbody tr th:only-of-type {\n",
       "        vertical-align: middle;\n",
       "    }\n",
       "\n",
       "    .dataframe tbody tr th {\n",
       "        vertical-align: top;\n",
       "    }\n",
       "\n",
       "    .dataframe thead th {\n",
       "        text-align: right;\n",
       "    }\n",
       "</style>\n",
       "<table border=\"1\" class=\"dataframe\">\n",
       "  <thead>\n",
       "    <tr style=\"text-align: right;\">\n",
       "      <th></th>\n",
       "      <th>loan_amnt</th>\n",
       "      <th>int_rate</th>\n",
       "      <th>annual_inc</th>\n",
       "      <th>dti</th>\n",
       "      <th>delinq_2yrs</th>\n",
       "      <th>inq_last_6mths</th>\n",
       "      <th>mths_since_last_delinq</th>\n",
       "      <th>mths_since_last_record</th>\n",
       "      <th>pub_rec</th>\n",
       "      <th>revol_bal</th>\n",
       "      <th>...</th>\n",
       "      <th>sec_app_collections_12_mths_ex_med</th>\n",
       "      <th>sec_app_mths_since_last_major_derog</th>\n",
       "      <th>deferral_term</th>\n",
       "      <th>hardship_amount</th>\n",
       "      <th>hardship_dpd</th>\n",
       "      <th>orig_projected_additional_accrued_interest</th>\n",
       "      <th>hardship_last_payment_amount</th>\n",
       "      <th>settlement_amount</th>\n",
       "      <th>settlement_percentage</th>\n",
       "      <th>settlement_term</th>\n",
       "    </tr>\n",
       "  </thead>\n",
       "  <tbody>\n",
       "    <tr>\n",
       "      <th>count</th>\n",
       "      <td>2.150627e+06</td>\n",
       "      <td>2.150627e+06</td>\n",
       "      <td>2.150627e+06</td>\n",
       "      <td>2.150627e+06</td>\n",
       "      <td>2.150627e+06</td>\n",
       "      <td>2.150627e+06</td>\n",
       "      <td>2.150627e+06</td>\n",
       "      <td>2.150627e+06</td>\n",
       "      <td>2.150627e+06</td>\n",
       "      <td>2.150627e+06</td>\n",
       "      <td>...</td>\n",
       "      <td>2.150627e+06</td>\n",
       "      <td>2.150627e+06</td>\n",
       "      <td>2.150627e+06</td>\n",
       "      <td>2.150627e+06</td>\n",
       "      <td>2.150627e+06</td>\n",
       "      <td>2.150627e+06</td>\n",
       "      <td>2.150627e+06</td>\n",
       "      <td>2.150627e+06</td>\n",
       "      <td>2.150627e+06</td>\n",
       "      <td>2.150627e+06</td>\n",
       "    </tr>\n",
       "    <tr>\n",
       "      <th>mean</th>\n",
       "      <td>1.455534e+04</td>\n",
       "      <td>1.315755e+01</td>\n",
       "      <td>6.911525e+04</td>\n",
       "      <td>1.910219e+01</td>\n",
       "      <td>3.019622e-01</td>\n",
       "      <td>5.717709e-01</td>\n",
       "      <td>1.680994e+01</td>\n",
       "      <td>1.166151e+01</td>\n",
       "      <td>1.972904e-01</td>\n",
       "      <td>1.522785e+04</td>\n",
       "      <td>...</td>\n",
       "      <td>3.856550e-03</td>\n",
       "      <td>6.066408e-01</td>\n",
       "      <td>1.407915e-02</td>\n",
       "      <td>7.129102e-01</td>\n",
       "      <td>6.392043e-02</td>\n",
       "      <td>1.664888e+00</td>\n",
       "      <td>8.860760e-01</td>\n",
       "      <td>7.394659e+01</td>\n",
       "      <td>7.149019e-01</td>\n",
       "      <td>1.966361e-01</td>\n",
       "    </tr>\n",
       "    <tr>\n",
       "      <th>std</th>\n",
       "      <td>8.859252e+03</td>\n",
       "      <td>4.824323e+00</td>\n",
       "      <td>3.159676e+04</td>\n",
       "      <td>1.439575e+01</td>\n",
       "      <td>8.613410e-01</td>\n",
       "      <td>8.803719e-01</td>\n",
       "      <td>2.308542e+01</td>\n",
       "      <td>2.867152e+01</td>\n",
       "      <td>5.606472e-01</td>\n",
       "      <td>1.705110e+04</td>\n",
       "      <td>...</td>\n",
       "      <td>9.259225e-02</td>\n",
       "      <td>5.605731e+00</td>\n",
       "      <td>2.050347e-01</td>\n",
       "      <td>1.360392e+01</td>\n",
       "      <td>1.144538e+00</td>\n",
       "      <td>3.550980e+01</td>\n",
       "      <td>1.851189e+01</td>\n",
       "      <td>7.449337e+02</td>\n",
       "      <td>5.868766e+00</td>\n",
       "      <td>1.883835e+00</td>\n",
       "    </tr>\n",
       "    <tr>\n",
       "      <th>min</th>\n",
       "      <td>5.000000e+02</td>\n",
       "      <td>5.310000e+00</td>\n",
       "      <td>0.000000e+00</td>\n",
       "      <td>-1.000000e+00</td>\n",
       "      <td>0.000000e+00</td>\n",
       "      <td>0.000000e+00</td>\n",
       "      <td>0.000000e+00</td>\n",
       "      <td>0.000000e+00</td>\n",
       "      <td>0.000000e+00</td>\n",
       "      <td>0.000000e+00</td>\n",
       "      <td>...</td>\n",
       "      <td>0.000000e+00</td>\n",
       "      <td>0.000000e+00</td>\n",
       "      <td>0.000000e+00</td>\n",
       "      <td>0.000000e+00</td>\n",
       "      <td>0.000000e+00</td>\n",
       "      <td>0.000000e+00</td>\n",
       "      <td>0.000000e+00</td>\n",
       "      <td>0.000000e+00</td>\n",
       "      <td>0.000000e+00</td>\n",
       "      <td>0.000000e+00</td>\n",
       "    </tr>\n",
       "    <tr>\n",
       "      <th>25%</th>\n",
       "      <td>8.000000e+03</td>\n",
       "      <td>9.670000e+00</td>\n",
       "      <td>4.500000e+04</td>\n",
       "      <td>1.219000e+01</td>\n",
       "      <td>0.000000e+00</td>\n",
       "      <td>0.000000e+00</td>\n",
       "      <td>0.000000e+00</td>\n",
       "      <td>0.000000e+00</td>\n",
       "      <td>0.000000e+00</td>\n",
       "      <td>5.810000e+03</td>\n",
       "      <td>...</td>\n",
       "      <td>0.000000e+00</td>\n",
       "      <td>0.000000e+00</td>\n",
       "      <td>0.000000e+00</td>\n",
       "      <td>0.000000e+00</td>\n",
       "      <td>0.000000e+00</td>\n",
       "      <td>0.000000e+00</td>\n",
       "      <td>0.000000e+00</td>\n",
       "      <td>0.000000e+00</td>\n",
       "      <td>0.000000e+00</td>\n",
       "      <td>0.000000e+00</td>\n",
       "    </tr>\n",
       "    <tr>\n",
       "      <th>50%</th>\n",
       "      <td>1.200000e+04</td>\n",
       "      <td>1.269000e+01</td>\n",
       "      <td>6.400000e+04</td>\n",
       "      <td>1.815000e+01</td>\n",
       "      <td>0.000000e+00</td>\n",
       "      <td>0.000000e+00</td>\n",
       "      <td>0.000000e+00</td>\n",
       "      <td>0.000000e+00</td>\n",
       "      <td>0.000000e+00</td>\n",
       "      <td>1.096600e+04</td>\n",
       "      <td>...</td>\n",
       "      <td>0.000000e+00</td>\n",
       "      <td>0.000000e+00</td>\n",
       "      <td>0.000000e+00</td>\n",
       "      <td>0.000000e+00</td>\n",
       "      <td>0.000000e+00</td>\n",
       "      <td>0.000000e+00</td>\n",
       "      <td>0.000000e+00</td>\n",
       "      <td>0.000000e+00</td>\n",
       "      <td>0.000000e+00</td>\n",
       "      <td>0.000000e+00</td>\n",
       "    </tr>\n",
       "    <tr>\n",
       "      <th>75%</th>\n",
       "      <td>2.000000e+04</td>\n",
       "      <td>1.599000e+01</td>\n",
       "      <td>8.800000e+04</td>\n",
       "      <td>2.476000e+01</td>\n",
       "      <td>0.000000e+00</td>\n",
       "      <td>1.000000e+00</td>\n",
       "      <td>3.000000e+01</td>\n",
       "      <td>0.000000e+00</td>\n",
       "      <td>0.000000e+00</td>\n",
       "      <td>1.927500e+04</td>\n",
       "      <td>...</td>\n",
       "      <td>0.000000e+00</td>\n",
       "      <td>0.000000e+00</td>\n",
       "      <td>0.000000e+00</td>\n",
       "      <td>0.000000e+00</td>\n",
       "      <td>0.000000e+00</td>\n",
       "      <td>0.000000e+00</td>\n",
       "      <td>0.000000e+00</td>\n",
       "      <td>0.000000e+00</td>\n",
       "      <td>0.000000e+00</td>\n",
       "      <td>0.000000e+00</td>\n",
       "    </tr>\n",
       "    <tr>\n",
       "      <th>max</th>\n",
       "      <td>4.000000e+04</td>\n",
       "      <td>3.099000e+01</td>\n",
       "      <td>1.635000e+05</td>\n",
       "      <td>9.990000e+02</td>\n",
       "      <td>5.800000e+01</td>\n",
       "      <td>3.300000e+01</td>\n",
       "      <td>2.260000e+02</td>\n",
       "      <td>1.290000e+02</td>\n",
       "      <td>8.600000e+01</td>\n",
       "      <td>9.597540e+05</td>\n",
       "      <td>...</td>\n",
       "      <td>2.300000e+01</td>\n",
       "      <td>1.850000e+02</td>\n",
       "      <td>3.000000e+00</td>\n",
       "      <td>9.439400e+02</td>\n",
       "      <td>3.700000e+01</td>\n",
       "      <td>2.680890e+03</td>\n",
       "      <td>1.407860e+03</td>\n",
       "      <td>3.360100e+04</td>\n",
       "      <td>5.213500e+02</td>\n",
       "      <td>1.810000e+02</td>\n",
       "    </tr>\n",
       "  </tbody>\n",
       "</table>\n",
       "<p>8 rows × 67 columns</p>\n",
       "</div>"
      ],
      "text/plain": [
       "          loan_amnt      int_rate    annual_inc           dti   delinq_2yrs  \\\n",
       "count  2.150627e+06  2.150627e+06  2.150627e+06  2.150627e+06  2.150627e+06   \n",
       "mean   1.455534e+04  1.315755e+01  6.911525e+04  1.910219e+01  3.019622e-01   \n",
       "std    8.859252e+03  4.824323e+00  3.159676e+04  1.439575e+01  8.613410e-01   \n",
       "min    5.000000e+02  5.310000e+00  0.000000e+00 -1.000000e+00  0.000000e+00   \n",
       "25%    8.000000e+03  9.670000e+00  4.500000e+04  1.219000e+01  0.000000e+00   \n",
       "50%    1.200000e+04  1.269000e+01  6.400000e+04  1.815000e+01  0.000000e+00   \n",
       "75%    2.000000e+04  1.599000e+01  8.800000e+04  2.476000e+01  0.000000e+00   \n",
       "max    4.000000e+04  3.099000e+01  1.635000e+05  9.990000e+02  5.800000e+01   \n",
       "\n",
       "       inq_last_6mths  mths_since_last_delinq  mths_since_last_record  \\\n",
       "count    2.150627e+06            2.150627e+06            2.150627e+06   \n",
       "mean     5.717709e-01            1.680994e+01            1.166151e+01   \n",
       "std      8.803719e-01            2.308542e+01            2.867152e+01   \n",
       "min      0.000000e+00            0.000000e+00            0.000000e+00   \n",
       "25%      0.000000e+00            0.000000e+00            0.000000e+00   \n",
       "50%      0.000000e+00            0.000000e+00            0.000000e+00   \n",
       "75%      1.000000e+00            3.000000e+01            0.000000e+00   \n",
       "max      3.300000e+01            2.260000e+02            1.290000e+02   \n",
       "\n",
       "            pub_rec     revol_bal  ...  sec_app_collections_12_mths_ex_med  \\\n",
       "count  2.150627e+06  2.150627e+06  ...                        2.150627e+06   \n",
       "mean   1.972904e-01  1.522785e+04  ...                        3.856550e-03   \n",
       "std    5.606472e-01  1.705110e+04  ...                        9.259225e-02   \n",
       "min    0.000000e+00  0.000000e+00  ...                        0.000000e+00   \n",
       "25%    0.000000e+00  5.810000e+03  ...                        0.000000e+00   \n",
       "50%    0.000000e+00  1.096600e+04  ...                        0.000000e+00   \n",
       "75%    0.000000e+00  1.927500e+04  ...                        0.000000e+00   \n",
       "max    8.600000e+01  9.597540e+05  ...                        2.300000e+01   \n",
       "\n",
       "       sec_app_mths_since_last_major_derog  deferral_term  hardship_amount  \\\n",
       "count                         2.150627e+06   2.150627e+06     2.150627e+06   \n",
       "mean                          6.066408e-01   1.407915e-02     7.129102e-01   \n",
       "std                           5.605731e+00   2.050347e-01     1.360392e+01   \n",
       "min                           0.000000e+00   0.000000e+00     0.000000e+00   \n",
       "25%                           0.000000e+00   0.000000e+00     0.000000e+00   \n",
       "50%                           0.000000e+00   0.000000e+00     0.000000e+00   \n",
       "75%                           0.000000e+00   0.000000e+00     0.000000e+00   \n",
       "max                           1.850000e+02   3.000000e+00     9.439400e+02   \n",
       "\n",
       "       hardship_dpd  orig_projected_additional_accrued_interest  \\\n",
       "count  2.150627e+06                                2.150627e+06   \n",
       "mean   6.392043e-02                                1.664888e+00   \n",
       "std    1.144538e+00                                3.550980e+01   \n",
       "min    0.000000e+00                                0.000000e+00   \n",
       "25%    0.000000e+00                                0.000000e+00   \n",
       "50%    0.000000e+00                                0.000000e+00   \n",
       "75%    0.000000e+00                                0.000000e+00   \n",
       "max    3.700000e+01                                2.680890e+03   \n",
       "\n",
       "       hardship_last_payment_amount  settlement_amount  settlement_percentage  \\\n",
       "count                  2.150627e+06       2.150627e+06           2.150627e+06   \n",
       "mean                   8.860760e-01       7.394659e+01           7.149019e-01   \n",
       "std                    1.851189e+01       7.449337e+02           5.868766e+00   \n",
       "min                    0.000000e+00       0.000000e+00           0.000000e+00   \n",
       "25%                    0.000000e+00       0.000000e+00           0.000000e+00   \n",
       "50%                    0.000000e+00       0.000000e+00           0.000000e+00   \n",
       "75%                    0.000000e+00       0.000000e+00           0.000000e+00   \n",
       "max                    1.407860e+03       3.360100e+04           5.213500e+02   \n",
       "\n",
       "       settlement_term  \n",
       "count     2.150627e+06  \n",
       "mean      1.966361e-01  \n",
       "std       1.883835e+00  \n",
       "min       0.000000e+00  \n",
       "25%       0.000000e+00  \n",
       "50%       0.000000e+00  \n",
       "75%       0.000000e+00  \n",
       "max       1.810000e+02  \n",
       "\n",
       "[8 rows x 67 columns]"
      ]
     },
     "execution_count": 43,
     "metadata": {},
     "output_type": "execute_result"
    }
   ],
   "source": [
    "df.describe()"
   ]
  },
  {
   "cell_type": "code",
   "execution_count": 44,
   "metadata": {},
   "outputs": [
    {
     "data": {
      "text/plain": [
       "112xx    22865\n",
       "945xx    21787\n",
       "750xx    21749\n",
       "606xx    20025\n",
       "300xx    19156\n",
       "         ...  \n",
       "643xx        1\n",
       "872xx        1\n",
       "507xx        1\n",
       "892xx        1\n",
       "849xx        1\n",
       "Name: zip_code, Length: 955, dtype: int64"
      ]
     },
     "execution_count": 44,
     "metadata": {},
     "output_type": "execute_result"
    }
   ],
   "source": [
    "df['zip_code'].value_counts()"
   ]
  },
  {
   "cell_type": "markdown",
   "metadata": {},
   "source": [
    "## 'loan_status' is the response variable.\n",
    "## Plan to predict fully paid and charged off status\n",
    "## Features of interest are: \n",
    "'tot_cur_bal', 'annual_inc_joint', 'annual_inc', 'mths_since_last_record', 'mths_since_last_major_derog', 'collections_12_mths_ex_med', 'pub_rec_bankruptcies', 'tax_liens', '\n",
    "## Features to not consider are\n",
    "'title','zip_code','addr_state'\n",
    "\n"
   ]
  },
  {
   "cell_type": "code",
   "execution_count": 45,
   "metadata": {},
   "outputs": [],
   "source": [
    "df_sel = df.drop(['title', 'zip_code', 'addr_state'], axis=1)"
   ]
  },
  {
   "cell_type": "code",
   "execution_count": 46,
   "metadata": {},
   "outputs": [
    {
     "data": {
      "text/plain": [
       "' \\n# Check these values in df_sel\\n\\nloan_amnt                                   \\nannual_inc   \\nrevol_bal  \\ntot_cur_bal\\ntotal_bal_il\\nmax_bal_bc                                  \\navg_cur_bal  \\ntax_liens      \\ntotal_bal_ex_mort   \\ntotal_bc_limit    \\ntotal_il_high_credit_limit     \\nrevol_bal_joint        \\nhardship_amount      \\nhardship_last_payment_amount      \\nsettlement_amount                  \\n'"
      ]
     },
     "execution_count": 46,
     "metadata": {},
     "output_type": "execute_result"
    }
   ],
   "source": [
    "''' \n",
    "# Check these values in df_sel\n",
    "\n",
    "loan_amnt                                   \n",
    "annual_inc   \n",
    "revol_bal  \n",
    "tot_cur_bal\n",
    "total_bal_il\n",
    "max_bal_bc                                  \n",
    "avg_cur_bal  \n",
    "tax_liens      \n",
    "total_bal_ex_mort   \n",
    "total_bc_limit    \n",
    "total_il_high_credit_limit     \n",
    "revol_bal_joint        \n",
    "hardship_amount      \n",
    "hardship_last_payment_amount      \n",
    "settlement_amount                  \n",
    "'''"
   ]
  },
  {
   "cell_type": "code",
   "execution_count": 47,
   "metadata": {},
   "outputs": [
    {
     "data": {
      "text/plain": [
       "10000    183149\n",
       "20000    123816\n",
       "12000    118794\n",
       "15000    118790\n",
       "5000      83452\n",
       "          ...  \n",
       "725           1\n",
       "550           1\n",
       "950           1\n",
       "850           1\n",
       "750           1\n",
       "Name: loan_amnt, Length: 1571, dtype: int64"
      ]
     },
     "execution_count": 47,
     "metadata": {},
     "output_type": "execute_result"
    }
   ],
   "source": [
    "df_sel['loan_amnt'].value_counts()"
   ]
  },
  {
   "cell_type": "code",
   "execution_count": 48,
   "metadata": {},
   "outputs": [
    {
     "data": {
      "text/plain": [
       "60000.0     87189\n",
       "50000.0     76355\n",
       "65000.0     64903\n",
       "70000.0     62078\n",
       "80000.0     59833\n",
       "            ...  \n",
       "44271.0         1\n",
       "44269.0         1\n",
       "94657.0         1\n",
       "94659.0         1\n",
       "131070.0        1\n",
       "Name: annual_inc, Length: 83915, dtype: int64"
      ]
     },
     "execution_count": 48,
     "metadata": {},
     "output_type": "execute_result"
    }
   ],
   "source": [
    "df_sel['annual_inc'].value_counts()"
   ]
  },
  {
   "cell_type": "code",
   "execution_count": 49,
   "metadata": {},
   "outputs": [
    {
     "data": {
      "text/plain": [
       "0         11980\n",
       "8           209\n",
       "2           163\n",
       "10          159\n",
       "5235        158\n",
       "          ...  \n",
       "94025         1\n",
       "96074         1\n",
       "85837         1\n",
       "110417        1\n",
       "109518        1\n",
       "Name: revol_bal, Length: 88143, dtype: int64"
      ]
     },
     "execution_count": 49,
     "metadata": {},
     "output_type": "execute_result"
    }
   ],
   "source": [
    "df_sel['revol_bal'].value_counts()"
   ]
  },
  {
   "cell_type": "code",
   "execution_count": 50,
   "metadata": {},
   "outputs": [
    {
     "data": {
      "text/plain": [
       "0.0         69031\n",
       "14186.0        41\n",
       "20275.0        39\n",
       "22831.0        38\n",
       "23442.0        38\n",
       "            ...  \n",
       "309690.0        1\n",
       "309689.0        1\n",
       "309686.0        1\n",
       "509276.0        1\n",
       "381300.0        1\n",
       "Name: tot_cur_bal, Length: 447363, dtype: int64"
      ]
     },
     "execution_count": 50,
     "metadata": {},
     "output_type": "execute_result"
    }
   ],
   "source": [
    "df_sel['tot_cur_bal'].value_counts()"
   ]
  },
  {
   "cell_type": "code",
   "execution_count": 51,
   "metadata": {},
   "outputs": [
    {
     "data": {
      "text/plain": [
       "0.0         986116\n",
       "10000.0         98\n",
       "15000.0         90\n",
       "5000.0          83\n",
       "5500.0          76\n",
       "             ...  \n",
       "339145.0         1\n",
       "339113.0         1\n",
       "339092.0         1\n",
       "339074.0         1\n",
       "84262.0          1\n",
       "Name: total_bal_il, Length: 152044, dtype: int64"
      ]
     },
     "execution_count": 51,
     "metadata": {},
     "output_type": "execute_result"
    }
   ],
   "source": [
    "df_sel['total_bal_il'].value_counts()"
   ]
  },
  {
   "cell_type": "code",
   "execution_count": 52,
   "metadata": {},
   "outputs": [
    {
     "data": {
      "text/plain": [
       "0.0         866592\n",
       "8.0            544\n",
       "3000.0         522\n",
       "2000.0         495\n",
       "4000.0         437\n",
       "             ...  \n",
       "27465.0          1\n",
       "27460.0          1\n",
       "27456.0          1\n",
       "27453.0          1\n",
       "131035.0         1\n",
       "Name: max_bal_bc, Length: 30086, dtype: int64"
      ]
     },
     "execution_count": 52,
     "metadata": {},
     "output_type": "execute_result"
    }
   ],
   "source": [
    "df_sel['max_bal_bc'].value_counts()"
   ]
  },
  {
   "cell_type": "code",
   "execution_count": 53,
   "metadata": {},
   "outputs": [
    {
     "data": {
      "text/plain": [
       "0.0         69048\n",
       "2277.0        269\n",
       "2442.0        267\n",
       "2148.0        265\n",
       "2025.0        265\n",
       "            ...  \n",
       "72094.0         1\n",
       "72092.0         1\n",
       "72087.0         1\n",
       "72086.0         1\n",
       "131042.0        1\n",
       "Name: avg_cur_bal, Length: 80280, dtype: int64"
      ]
     },
     "execution_count": 53,
     "metadata": {},
     "output_type": "execute_result"
    }
   ],
   "source": [
    "df_sel['avg_cur_bal'].value_counts()"
   ]
  },
  {
   "cell_type": "code",
   "execution_count": 54,
   "metadata": {},
   "outputs": [
    {
     "data": {
      "text/plain": [
       "0.0     2092608\n",
       "1.0       39790\n",
       "2.0       10776\n",
       "3.0        3866\n",
       "4.0        1673\n",
       "5.0         851\n",
       "6.0         443\n",
       "7.0         204\n",
       "8.0         135\n",
       "9.0          81\n",
       "10.0         62\n",
       "11.0         32\n",
       "12.0         19\n",
       "13.0         12\n",
       "14.0         11\n",
       "15.0         11\n",
       "17.0          7\n",
       "18.0          6\n",
       "22.0          5\n",
       "21.0          5\n",
       "16.0          5\n",
       "19.0          2\n",
       "20.0          2\n",
       "61.0          2\n",
       "24.0          2\n",
       "46.0          2\n",
       "45.0          2\n",
       "37.0          1\n",
       "53.0          1\n",
       "52.0          1\n",
       "48.0          1\n",
       "39.0          1\n",
       "34.0          1\n",
       "85.0          1\n",
       "29.0          1\n",
       "28.0          1\n",
       "27.0          1\n",
       "25.0          1\n",
       "23.0          1\n",
       "63.0          1\n",
       "Name: tax_liens, dtype: int64"
      ]
     },
     "execution_count": 54,
     "metadata": {},
     "output_type": "execute_result"
    }
   ],
   "source": [
    "df_sel['tax_liens'].value_counts()"
   ]
  },
  {
   "cell_type": "code",
   "execution_count": 55,
   "metadata": {},
   "outputs": [
    {
     "data": {
      "text/plain": [
       "0.0         49942\n",
       "24214.0        57\n",
       "23068.0        57\n",
       "20275.0        57\n",
       "19095.0        56\n",
       "            ...  \n",
       "320651.0        1\n",
       "194012.0        1\n",
       "194009.0        1\n",
       "320659.0        1\n",
       "125310.0        1\n",
       "Name: total_bal_ex_mort, Length: 194363, dtype: int64"
      ]
     },
     "execution_count": 55,
     "metadata": {},
     "output_type": "execute_result"
    }
   ],
   "source": [
    "df_sel['total_bal_ex_mort'].value_counts()"
   ]
  },
  {
   "cell_type": "code",
   "execution_count": 56,
   "metadata": {},
   "outputs": [
    {
     "data": {
      "text/plain": [
       "0.0        73131\n",
       "5000.0     16656\n",
       "6000.0     14857\n",
       "10000.0    14392\n",
       "7000.0     14119\n",
       "           ...  \n",
       "38144.0        1\n",
       "38143.0        1\n",
       "38132.0        1\n",
       "38130.0        1\n",
       "29778.0        1\n",
       "Name: total_bc_limit, Length: 18408, dtype: int64"
      ]
     },
     "execution_count": 56,
     "metadata": {},
     "output_type": "execute_result"
    }
   ],
   "source": [
    "df_sel['total_bc_limit'].value_counts()"
   ]
  },
  {
   "cell_type": "code",
   "execution_count": 57,
   "metadata": {},
   "outputs": [
    {
     "data": {
      "text/plain": [
       "0.0         324857\n",
       "10000.0      13083\n",
       "15000.0       9912\n",
       "5000.0        8071\n",
       "20000.0       7998\n",
       "             ...  \n",
       "211627.0         1\n",
       "211619.0         1\n",
       "211611.0         1\n",
       "211608.0         1\n",
       "194698.0         1\n",
       "Name: total_il_high_credit_limit, Length: 179974, dtype: int64"
      ]
     },
     "execution_count": 57,
     "metadata": {},
     "output_type": "execute_result"
    }
   ],
   "source": [
    "df_sel['total_il_high_credit_limit'].value_counts()"
   ]
  },
  {
   "cell_type": "code",
   "execution_count": 58,
   "metadata": {},
   "outputs": [
    {
     "data": {
      "text/plain": [
       "0.0         2045053\n",
       "20804.0          10\n",
       "21072.0           9\n",
       "11771.0           9\n",
       "10041.0           9\n",
       "             ...   \n",
       "29454.0           1\n",
       "29455.0           1\n",
       "29456.0           1\n",
       "29458.0           1\n",
       "130981.0          1\n",
       "Name: revol_bal_joint, Length: 55621, dtype: int64"
      ]
     },
     "execution_count": 58,
     "metadata": {},
     "output_type": "execute_result"
    }
   ],
   "source": [
    "df_sel['revol_bal_joint'].value_counts()"
   ]
  },
  {
   "cell_type": "code",
   "execution_count": 59,
   "metadata": {},
   "outputs": [
    {
     "data": {
      "text/plain": [
       "0.00      2140534\n",
       "94.59           5\n",
       "48.56           5\n",
       "53.05           5\n",
       "69.90           5\n",
       "           ...   \n",
       "101.21          1\n",
       "482.40          1\n",
       "156.07          1\n",
       "568.60          1\n",
       "420.62          1\n",
       "Name: hardship_amount, Length: 8553, dtype: int64"
      ]
     },
     "execution_count": 59,
     "metadata": {},
     "output_type": "execute_result"
    }
   ],
   "source": [
    "df_sel['hardship_amount'].value_counts()"
   ]
  },
  {
   "cell_type": "code",
   "execution_count": 60,
   "metadata": {},
   "outputs": [
    {
     "data": {
      "text/plain": [
       "0.00      2140534\n",
       "0.02           25\n",
       "0.03           25\n",
       "0.12           23\n",
       "0.11           22\n",
       "           ...   \n",
       "482.10          1\n",
       "575.35          1\n",
       "157.82          1\n",
       "73.23           1\n",
       "373.61          1\n",
       "Name: hardship_last_payment_amount, Length: 8388, dtype: int64"
      ]
     },
     "execution_count": 60,
     "metadata": {},
     "output_type": "execute_result"
    }
   ],
   "source": [
    "df_sel['hardship_last_payment_amount'].value_counts()"
   ]
  },
  {
   "cell_type": "code",
   "execution_count": 61,
   "metadata": {},
   "outputs": [
    {
     "data": {
      "text/plain": [
       "0.00        2118442\n",
       "5000.00          61\n",
       "4000.00          49\n",
       "3000.00          48\n",
       "6000.00          47\n",
       "             ...   \n",
       "10857.25          1\n",
       "10858.00          1\n",
       "1048.80           1\n",
       "1600.01           1\n",
       "6226.00           1\n",
       "Name: settlement_amount, Length: 21005, dtype: int64"
      ]
     },
     "execution_count": 61,
     "metadata": {},
     "output_type": "execute_result"
    }
   ],
   "source": [
    "df_sel['settlement_amount'].value_counts()"
   ]
  },
  {
   "cell_type": "code",
   "execution_count": 62,
   "metadata": {},
   "outputs": [
    {
     "data": {
      "text/plain": [
       "['term',\n",
       " 'grade',\n",
       " 'sub_grade',\n",
       " 'home_ownership',\n",
       " 'verification_status',\n",
       " 'pymnt_plan',\n",
       " 'initial_list_status',\n",
       " 'application_type',\n",
       " 'verification_status_joint',\n",
       " 'hardship_flag',\n",
       " 'hardship_type',\n",
       " 'hardship_reason',\n",
       " 'hardship_status',\n",
       " 'hardship_loan_status',\n",
       " 'debt_settlement_flag',\n",
       " 'settlement_status']"
      ]
     },
     "execution_count": 62,
     "metadata": {},
     "output_type": "execute_result"
    }
   ],
   "source": [
    "# Create a list of object columns.  Exclude response variable 'loan_status'\n",
    "cols_obj = []\n",
    "for col in df_sel.columns:\n",
    "    if df_sel[col].dtype == object:\n",
    "        cols_obj.append(col)\n",
    "cols_obj.remove('loan_status')\n",
    "cols_obj"
   ]
  },
  {
   "cell_type": "code",
   "execution_count": 63,
   "metadata": {},
   "outputs": [
    {
     "data": {
      "text/html": [
       "<div>\n",
       "<style scoped>\n",
       "    .dataframe tbody tr th:only-of-type {\n",
       "        vertical-align: middle;\n",
       "    }\n",
       "\n",
       "    .dataframe tbody tr th {\n",
       "        vertical-align: top;\n",
       "    }\n",
       "\n",
       "    .dataframe thead th {\n",
       "        text-align: right;\n",
       "    }\n",
       "</style>\n",
       "<table border=\"1\" class=\"dataframe\">\n",
       "  <thead>\n",
       "    <tr style=\"text-align: right;\">\n",
       "      <th></th>\n",
       "      <th>loan_amnt</th>\n",
       "      <th>int_rate</th>\n",
       "      <th>annual_inc</th>\n",
       "      <th>dti</th>\n",
       "      <th>delinq_2yrs</th>\n",
       "      <th>inq_last_6mths</th>\n",
       "      <th>mths_since_last_delinq</th>\n",
       "      <th>mths_since_last_record</th>\n",
       "      <th>pub_rec</th>\n",
       "      <th>revol_bal</th>\n",
       "      <th>...</th>\n",
       "      <th>hardship_loan_status_Current</th>\n",
       "      <th>hardship_loan_status_In Grace Period</th>\n",
       "      <th>hardship_loan_status_Issued</th>\n",
       "      <th>hardship_loan_status_Late (16-30 days)</th>\n",
       "      <th>hardship_loan_status_Late (31-120 days)</th>\n",
       "      <th>debt_settlement_flag_N</th>\n",
       "      <th>debt_settlement_flag_Y</th>\n",
       "      <th>settlement_status_ACTIVE</th>\n",
       "      <th>settlement_status_BROKEN</th>\n",
       "      <th>settlement_status_COMPLETE</th>\n",
       "    </tr>\n",
       "  </thead>\n",
       "  <tbody>\n",
       "    <tr>\n",
       "      <th>0</th>\n",
       "      <td>2500</td>\n",
       "      <td>13.56</td>\n",
       "      <td>55000.0</td>\n",
       "      <td>18.24</td>\n",
       "      <td>0.0</td>\n",
       "      <td>1.0</td>\n",
       "      <td>0.0</td>\n",
       "      <td>45.0</td>\n",
       "      <td>1.0</td>\n",
       "      <td>4341</td>\n",
       "      <td>...</td>\n",
       "      <td>0</td>\n",
       "      <td>0</td>\n",
       "      <td>0</td>\n",
       "      <td>0</td>\n",
       "      <td>0</td>\n",
       "      <td>1</td>\n",
       "      <td>0</td>\n",
       "      <td>0</td>\n",
       "      <td>0</td>\n",
       "      <td>0</td>\n",
       "    </tr>\n",
       "    <tr>\n",
       "      <th>1</th>\n",
       "      <td>30000</td>\n",
       "      <td>18.94</td>\n",
       "      <td>90000.0</td>\n",
       "      <td>26.52</td>\n",
       "      <td>0.0</td>\n",
       "      <td>0.0</td>\n",
       "      <td>71.0</td>\n",
       "      <td>75.0</td>\n",
       "      <td>1.0</td>\n",
       "      <td>12315</td>\n",
       "      <td>...</td>\n",
       "      <td>0</td>\n",
       "      <td>0</td>\n",
       "      <td>0</td>\n",
       "      <td>0</td>\n",
       "      <td>0</td>\n",
       "      <td>1</td>\n",
       "      <td>0</td>\n",
       "      <td>0</td>\n",
       "      <td>0</td>\n",
       "      <td>0</td>\n",
       "    </tr>\n",
       "    <tr>\n",
       "      <th>2</th>\n",
       "      <td>5000</td>\n",
       "      <td>17.97</td>\n",
       "      <td>59280.0</td>\n",
       "      <td>10.51</td>\n",
       "      <td>0.0</td>\n",
       "      <td>0.0</td>\n",
       "      <td>0.0</td>\n",
       "      <td>0.0</td>\n",
       "      <td>0.0</td>\n",
       "      <td>4599</td>\n",
       "      <td>...</td>\n",
       "      <td>0</td>\n",
       "      <td>0</td>\n",
       "      <td>0</td>\n",
       "      <td>0</td>\n",
       "      <td>0</td>\n",
       "      <td>1</td>\n",
       "      <td>0</td>\n",
       "      <td>0</td>\n",
       "      <td>0</td>\n",
       "      <td>0</td>\n",
       "    </tr>\n",
       "    <tr>\n",
       "      <th>3</th>\n",
       "      <td>4000</td>\n",
       "      <td>18.94</td>\n",
       "      <td>92000.0</td>\n",
       "      <td>16.74</td>\n",
       "      <td>0.0</td>\n",
       "      <td>0.0</td>\n",
       "      <td>0.0</td>\n",
       "      <td>0.0</td>\n",
       "      <td>0.0</td>\n",
       "      <td>5468</td>\n",
       "      <td>...</td>\n",
       "      <td>0</td>\n",
       "      <td>0</td>\n",
       "      <td>0</td>\n",
       "      <td>0</td>\n",
       "      <td>0</td>\n",
       "      <td>1</td>\n",
       "      <td>0</td>\n",
       "      <td>0</td>\n",
       "      <td>0</td>\n",
       "      <td>0</td>\n",
       "    </tr>\n",
       "    <tr>\n",
       "      <th>4</th>\n",
       "      <td>30000</td>\n",
       "      <td>16.14</td>\n",
       "      <td>57250.0</td>\n",
       "      <td>26.35</td>\n",
       "      <td>0.0</td>\n",
       "      <td>0.0</td>\n",
       "      <td>0.0</td>\n",
       "      <td>0.0</td>\n",
       "      <td>0.0</td>\n",
       "      <td>829</td>\n",
       "      <td>...</td>\n",
       "      <td>0</td>\n",
       "      <td>0</td>\n",
       "      <td>0</td>\n",
       "      <td>0</td>\n",
       "      <td>0</td>\n",
       "      <td>1</td>\n",
       "      <td>0</td>\n",
       "      <td>0</td>\n",
       "      <td>0</td>\n",
       "      <td>0</td>\n",
       "    </tr>\n",
       "  </tbody>\n",
       "</table>\n",
       "<p>5 rows × 155 columns</p>\n",
       "</div>"
      ],
      "text/plain": [
       "   loan_amnt  int_rate  annual_inc    dti  delinq_2yrs  inq_last_6mths  \\\n",
       "0       2500     13.56     55000.0  18.24          0.0             1.0   \n",
       "1      30000     18.94     90000.0  26.52          0.0             0.0   \n",
       "2       5000     17.97     59280.0  10.51          0.0             0.0   \n",
       "3       4000     18.94     92000.0  16.74          0.0             0.0   \n",
       "4      30000     16.14     57250.0  26.35          0.0             0.0   \n",
       "\n",
       "   mths_since_last_delinq  mths_since_last_record  pub_rec  revol_bal  ...  \\\n",
       "0                     0.0                    45.0      1.0       4341  ...   \n",
       "1                    71.0                    75.0      1.0      12315  ...   \n",
       "2                     0.0                     0.0      0.0       4599  ...   \n",
       "3                     0.0                     0.0      0.0       5468  ...   \n",
       "4                     0.0                     0.0      0.0        829  ...   \n",
       "\n",
       "   hardship_loan_status_Current  hardship_loan_status_In Grace Period  \\\n",
       "0                             0                                     0   \n",
       "1                             0                                     0   \n",
       "2                             0                                     0   \n",
       "3                             0                                     0   \n",
       "4                             0                                     0   \n",
       "\n",
       "   hardship_loan_status_Issued  hardship_loan_status_Late (16-30 days)  \\\n",
       "0                            0                                       0   \n",
       "1                            0                                       0   \n",
       "2                            0                                       0   \n",
       "3                            0                                       0   \n",
       "4                            0                                       0   \n",
       "\n",
       "   hardship_loan_status_Late (31-120 days)  debt_settlement_flag_N  \\\n",
       "0                                        0                       1   \n",
       "1                                        0                       1   \n",
       "2                                        0                       1   \n",
       "3                                        0                       1   \n",
       "4                                        0                       1   \n",
       "\n",
       "   debt_settlement_flag_Y  settlement_status_ACTIVE  settlement_status_BROKEN  \\\n",
       "0                       0                         0                         0   \n",
       "1                       0                         0                         0   \n",
       "2                       0                         0                         0   \n",
       "3                       0                         0                         0   \n",
       "4                       0                         0                         0   \n",
       "\n",
       "   settlement_status_COMPLETE  \n",
       "0                           0  \n",
       "1                           0  \n",
       "2                           0  \n",
       "3                           0  \n",
       "4                           0  \n",
       "\n",
       "[5 rows x 155 columns]"
      ]
     },
     "execution_count": 63,
     "metadata": {},
     "output_type": "execute_result"
    }
   ],
   "source": [
    "df_sel = pd.concat([df_sel.drop(cols_obj, axis=1), pd.get_dummies(df_sel[cols_obj])], axis=1)\n",
    "df_sel.head(5)"
   ]
  },
  {
   "cell_type": "code",
   "execution_count": 64,
   "metadata": {},
   "outputs": [
    {
     "data": {
      "text/html": [
       "<div>\n",
       "<style scoped>\n",
       "    .dataframe tbody tr th:only-of-type {\n",
       "        vertical-align: middle;\n",
       "    }\n",
       "\n",
       "    .dataframe tbody tr th {\n",
       "        vertical-align: top;\n",
       "    }\n",
       "\n",
       "    .dataframe thead th {\n",
       "        text-align: right;\n",
       "    }\n",
       "</style>\n",
       "<table border=\"1\" class=\"dataframe\">\n",
       "  <thead>\n",
       "    <tr style=\"text-align: right;\">\n",
       "      <th></th>\n",
       "      <th>loan_amnt</th>\n",
       "      <th>int_rate</th>\n",
       "      <th>annual_inc</th>\n",
       "      <th>dti</th>\n",
       "      <th>delinq_2yrs</th>\n",
       "      <th>inq_last_6mths</th>\n",
       "      <th>mths_since_last_delinq</th>\n",
       "      <th>mths_since_last_record</th>\n",
       "      <th>pub_rec</th>\n",
       "      <th>revol_bal</th>\n",
       "      <th>...</th>\n",
       "      <th>hardship_loan_status_Current</th>\n",
       "      <th>hardship_loan_status_In Grace Period</th>\n",
       "      <th>hardship_loan_status_Issued</th>\n",
       "      <th>hardship_loan_status_Late (16-30 days)</th>\n",
       "      <th>hardship_loan_status_Late (31-120 days)</th>\n",
       "      <th>debt_settlement_flag_N</th>\n",
       "      <th>debt_settlement_flag_Y</th>\n",
       "      <th>settlement_status_ACTIVE</th>\n",
       "      <th>settlement_status_BROKEN</th>\n",
       "      <th>settlement_status_COMPLETE</th>\n",
       "    </tr>\n",
       "  </thead>\n",
       "  <tbody>\n",
       "    <tr>\n",
       "      <th>2000016</th>\n",
       "      <td>13500</td>\n",
       "      <td>12.49</td>\n",
       "      <td>150000.0</td>\n",
       "      <td>15.33</td>\n",
       "      <td>0.0</td>\n",
       "      <td>1.0</td>\n",
       "      <td>0.0</td>\n",
       "      <td>105.0</td>\n",
       "      <td>1.0</td>\n",
       "      <td>23134</td>\n",
       "      <td>...</td>\n",
       "      <td>0</td>\n",
       "      <td>0</td>\n",
       "      <td>0</td>\n",
       "      <td>0</td>\n",
       "      <td>0</td>\n",
       "      <td>1</td>\n",
       "      <td>0</td>\n",
       "      <td>0</td>\n",
       "      <td>0</td>\n",
       "      <td>0</td>\n",
       "    </tr>\n",
       "    <tr>\n",
       "      <th>1713591</th>\n",
       "      <td>7000</td>\n",
       "      <td>19.52</td>\n",
       "      <td>35000.0</td>\n",
       "      <td>15.09</td>\n",
       "      <td>0.0</td>\n",
       "      <td>2.0</td>\n",
       "      <td>57.0</td>\n",
       "      <td>0.0</td>\n",
       "      <td>0.0</td>\n",
       "      <td>11499</td>\n",
       "      <td>...</td>\n",
       "      <td>0</td>\n",
       "      <td>0</td>\n",
       "      <td>0</td>\n",
       "      <td>0</td>\n",
       "      <td>0</td>\n",
       "      <td>1</td>\n",
       "      <td>0</td>\n",
       "      <td>0</td>\n",
       "      <td>0</td>\n",
       "      <td>0</td>\n",
       "    </tr>\n",
       "    <tr>\n",
       "      <th>1032964</th>\n",
       "      <td>14000</td>\n",
       "      <td>8.18</td>\n",
       "      <td>95000.0</td>\n",
       "      <td>33.49</td>\n",
       "      <td>0.0</td>\n",
       "      <td>1.0</td>\n",
       "      <td>33.0</td>\n",
       "      <td>0.0</td>\n",
       "      <td>0.0</td>\n",
       "      <td>58335</td>\n",
       "      <td>...</td>\n",
       "      <td>0</td>\n",
       "      <td>0</td>\n",
       "      <td>0</td>\n",
       "      <td>0</td>\n",
       "      <td>0</td>\n",
       "      <td>1</td>\n",
       "      <td>0</td>\n",
       "      <td>0</td>\n",
       "      <td>0</td>\n",
       "      <td>0</td>\n",
       "    </tr>\n",
       "    <tr>\n",
       "      <th>1098104</th>\n",
       "      <td>25000</td>\n",
       "      <td>19.19</td>\n",
       "      <td>86569.0</td>\n",
       "      <td>15.18</td>\n",
       "      <td>1.0</td>\n",
       "      <td>1.0</td>\n",
       "      <td>10.0</td>\n",
       "      <td>0.0</td>\n",
       "      <td>0.0</td>\n",
       "      <td>22224</td>\n",
       "      <td>...</td>\n",
       "      <td>0</td>\n",
       "      <td>0</td>\n",
       "      <td>0</td>\n",
       "      <td>0</td>\n",
       "      <td>0</td>\n",
       "      <td>1</td>\n",
       "      <td>0</td>\n",
       "      <td>0</td>\n",
       "      <td>0</td>\n",
       "      <td>0</td>\n",
       "    </tr>\n",
       "    <tr>\n",
       "      <th>883595</th>\n",
       "      <td>10000</td>\n",
       "      <td>11.44</td>\n",
       "      <td>45000.0</td>\n",
       "      <td>21.76</td>\n",
       "      <td>0.0</td>\n",
       "      <td>0.0</td>\n",
       "      <td>39.0</td>\n",
       "      <td>0.0</td>\n",
       "      <td>0.0</td>\n",
       "      <td>5277</td>\n",
       "      <td>...</td>\n",
       "      <td>0</td>\n",
       "      <td>0</td>\n",
       "      <td>0</td>\n",
       "      <td>0</td>\n",
       "      <td>0</td>\n",
       "      <td>1</td>\n",
       "      <td>0</td>\n",
       "      <td>0</td>\n",
       "      <td>0</td>\n",
       "      <td>0</td>\n",
       "    </tr>\n",
       "  </tbody>\n",
       "</table>\n",
       "<p>5 rows × 155 columns</p>\n",
       "</div>"
      ],
      "text/plain": [
       "         loan_amnt  int_rate  annual_inc    dti  delinq_2yrs  inq_last_6mths  \\\n",
       "2000016      13500     12.49    150000.0  15.33          0.0             1.0   \n",
       "1713591       7000     19.52     35000.0  15.09          0.0             2.0   \n",
       "1032964      14000      8.18     95000.0  33.49          0.0             1.0   \n",
       "1098104      25000     19.19     86569.0  15.18          1.0             1.0   \n",
       "883595       10000     11.44     45000.0  21.76          0.0             0.0   \n",
       "\n",
       "         mths_since_last_delinq  mths_since_last_record  pub_rec  revol_bal  \\\n",
       "2000016                     0.0                   105.0      1.0      23134   \n",
       "1713591                    57.0                     0.0      0.0      11499   \n",
       "1032964                    33.0                     0.0      0.0      58335   \n",
       "1098104                    10.0                     0.0      0.0      22224   \n",
       "883595                     39.0                     0.0      0.0       5277   \n",
       "\n",
       "         ...  hardship_loan_status_Current  \\\n",
       "2000016  ...                             0   \n",
       "1713591  ...                             0   \n",
       "1032964  ...                             0   \n",
       "1098104  ...                             0   \n",
       "883595   ...                             0   \n",
       "\n",
       "         hardship_loan_status_In Grace Period  hardship_loan_status_Issued  \\\n",
       "2000016                                     0                            0   \n",
       "1713591                                     0                            0   \n",
       "1032964                                     0                            0   \n",
       "1098104                                     0                            0   \n",
       "883595                                      0                            0   \n",
       "\n",
       "         hardship_loan_status_Late (16-30 days)  \\\n",
       "2000016                                       0   \n",
       "1713591                                       0   \n",
       "1032964                                       0   \n",
       "1098104                                       0   \n",
       "883595                                        0   \n",
       "\n",
       "         hardship_loan_status_Late (31-120 days)  debt_settlement_flag_N  \\\n",
       "2000016                                        0                       1   \n",
       "1713591                                        0                       1   \n",
       "1032964                                        0                       1   \n",
       "1098104                                        0                       1   \n",
       "883595                                         0                       1   \n",
       "\n",
       "         debt_settlement_flag_Y  settlement_status_ACTIVE  \\\n",
       "2000016                       0                         0   \n",
       "1713591                       0                         0   \n",
       "1032964                       0                         0   \n",
       "1098104                       0                         0   \n",
       "883595                        0                         0   \n",
       "\n",
       "         settlement_status_BROKEN  settlement_status_COMPLETE  \n",
       "2000016                         0                           0  \n",
       "1713591                         0                           0  \n",
       "1032964                         0                           0  \n",
       "1098104                         0                           0  \n",
       "883595                          0                           0  \n",
       "\n",
       "[5 rows x 155 columns]"
      ]
     },
     "execution_count": 64,
     "metadata": {},
     "output_type": "execute_result"
    }
   ],
   "source": [
    "# Using a sample size of 200,000 for modeling, due to Memory error when using all 2 million observations.\n",
    "df_sample = df_sel.sample(200000)\n",
    "df_sample.head()"
   ]
  },
  {
   "cell_type": "code",
   "execution_count": 65,
   "metadata": {},
   "outputs": [],
   "source": [
    "y = df_sample['loan_status']\n",
    "X = df_sample.drop(['loan_status'], axis=1)"
   ]
  },
  {
   "cell_type": "code",
   "execution_count": 66,
   "metadata": {},
   "outputs": [],
   "source": [
    "from sklearn.model_selection import train_test_split\n",
    "\n",
    "y = y.ravel()\n",
    "X_train, X_test, y_train, y_test = train_test_split(X, y, test_size=0.25, random_state=1)"
   ]
  },
  {
   "cell_type": "code",
   "execution_count": 67,
   "metadata": {},
   "outputs": [
    {
     "data": {
      "text/plain": [
       "array([[ 0.12252752, -0.65684013,  0.7603537 , ..., -0.08212912,\n",
       "        -0.04752286, -0.07673198],\n",
       "       [-0.6019688 ,  3.21626781, -0.5728059 , ..., -0.08212912,\n",
       "        -0.04752286, -0.07673198],\n",
       "       [ 1.75264423,  0.00386652,  0.91906317, ..., -0.08212912,\n",
       "        -0.04752286, -0.07673198],\n",
       "       ...,\n",
       "       [ 0.50741618, -0.35030538, -0.44583832, ..., -0.08212912,\n",
       "        -0.04752286, -0.07673198],\n",
       "       [ 1.47812805,  0.10742556, -0.22364505, ..., -0.08212912,\n",
       "        -0.04752286, -0.07673198],\n",
       "       [-0.94723658, -0.35030538, -0.89022485, ..., -0.08212912,\n",
       "        -0.04752286, -0.07673198]])"
      ]
     },
     "execution_count": 67,
     "metadata": {},
     "output_type": "execute_result"
    }
   ],
   "source": [
    "from sklearn import preprocessing as ppg\n",
    "\n",
    "scaler = ppg.StandardScaler().fit(X_train)\n",
    "X_train_scaled=scaler.transform(X_train)\n",
    "X_train_scaled"
   ]
  },
  {
   "cell_type": "code",
   "execution_count": 68,
   "metadata": {},
   "outputs": [
    {
     "data": {
      "text/plain": [
       "array([[ 0.62061873,  1.20722251,  0.50641854, ..., -0.08212912,\n",
       "        -0.04752286, -0.07673198],\n",
       "       [-0.96421696, -0.1121196 , -0.92196675, ..., -0.08212912,\n",
       "        -0.04752286, -0.07673198],\n",
       "       [ 0.05460599, -0.13904495,  0.03029011, ..., -0.08212912,\n",
       "        -0.04752286, -0.07673198],\n",
       "       ...,\n",
       "       [ 1.71868347, -0.35651892,  0.82383749, ..., -0.08212912,\n",
       "        -0.04752286, -0.07673198],\n",
       "       [ 1.52623913,  0.08878493,  1.96654571, ..., -0.08212912,\n",
       "        -0.04752286, -0.07673198],\n",
       "       [-0.62460931, -1.62408152,  0.03029011, ..., -0.08212912,\n",
       "        -0.04752286, -0.07673198]])"
      ]
     },
     "execution_count": 68,
     "metadata": {},
     "output_type": "execute_result"
    }
   ],
   "source": [
    "X_test_scaled = scaler.transform(X_test)\n",
    "X_test_scaled"
   ]
  },
  {
   "cell_type": "code",
   "execution_count": null,
   "metadata": {},
   "outputs": [],
   "source": []
  },
  {
   "cell_type": "markdown",
   "metadata": {},
   "source": [
    "# Logistic Regression"
   ]
  },
  {
   "cell_type": "code",
   "execution_count": 69,
   "metadata": {},
   "outputs": [
    {
     "name": "stderr",
     "output_type": "stream",
     "text": [
      "C:\\Users\\Umesh\\AppData\\Roaming\\Python\\Python37\\site-packages\\sklearn\\linear_model\\_logistic.py:764: ConvergenceWarning: lbfgs failed to converge (status=1):\n",
      "STOP: TOTAL NO. of ITERATIONS REACHED LIMIT.\n",
      "\n",
      "Increase the number of iterations (max_iter) or scale the data as shown in:\n",
      "    https://scikit-learn.org/stable/modules/preprocessing.html\n",
      "Please also refer to the documentation for alternative solver options:\n",
      "    https://scikit-learn.org/stable/modules/linear_model.html#logistic-regression\n",
      "  extra_warning_msg=_LOGISTIC_SOLVER_CONVERGENCE_MSG)\n"
     ]
    },
    {
     "name": "stdout",
     "output_type": "stream",
     "text": [
      "0.97438\n"
     ]
    }
   ],
   "source": [
    "from sklearn.linear_model import LogisticRegression\n",
    "from sklearn.metrics import accuracy_score\n",
    "\n",
    "clf = LogisticRegression(max_iter=200)\n",
    "# Fit the model on the trainng data.\n",
    "clf.fit(X_train_scaled, y_train)\n",
    "y_pred_log = clf.predict(X_test_scaled)\n",
    "# Print the accuracy from the testing data.\n",
    "print(accuracy_score(y_pred_log, y_test))"
   ]
  },
  {
   "cell_type": "code",
   "execution_count": 70,
   "metadata": {},
   "outputs": [
    {
     "data": {
      "text/plain": [
       "array([[ 5789,    10,     0,     2,     3,   112,     0,     0,     1],\n",
       "       [    1, 19725,     0,     0,     0,   368,     1,     1,     5],\n",
       "       [    0,     1,     0,     0,     0,     0,     0,     0,     0],\n",
       "       [    6,     0,     0,     9,     2,     0,     0,     0,     0],\n",
       "       [    1,     0,     0,     4,    29,    17,     0,     0,     0],\n",
       "       [   17,     4,     0,     2,     9, 23135,     0,     0,     0],\n",
       "       [    0,   188,     0,     0,     0,     4,     0,     1,     0],\n",
       "       [    0,    78,     0,     0,     0,     1,     0,     0,     1],\n",
       "       [    0,   432,     0,     0,     0,     4,     1,     4,    32]],\n",
       "      dtype=int64)"
      ]
     },
     "execution_count": 70,
     "metadata": {},
     "output_type": "execute_result"
    }
   ],
   "source": [
    "from sklearn.metrics import confusion_matrix\n",
    "\n",
    "pl_log = confusion_matrix(y_test,y_pred_log)\n",
    "pl_log"
   ]
  },
  {
   "cell_type": "code",
   "execution_count": 81,
   "metadata": {},
   "outputs": [
    {
     "name": "stdout",
     "output_type": "stream",
     "text": [
      "                                                     precision    recall  f1-score   support\n",
      "\n",
      "                                        Charged Off       1.00      0.98      0.99      5917\n",
      "                                            Current       0.97      0.98      0.97     20101\n",
      "                                            Default       0.00      0.00      0.00         1\n",
      "Does not meet the credit policy. Status:Charged Off       0.53      0.53      0.53        17\n",
      " Does not meet the credit policy. Status:Fully Paid       0.67      0.57      0.62        51\n",
      "                                         Fully Paid       0.98      1.00      0.99     23167\n",
      "                                    In Grace Period       0.00      0.00      0.00       193\n",
      "                                  Late (16-30 days)       0.00      0.00      0.00        80\n",
      "                                 Late (31-120 days)       0.82      0.07      0.12       473\n",
      "\n",
      "                                           accuracy                           0.97     50000\n",
      "                                          macro avg       0.55      0.46      0.47     50000\n",
      "                                       weighted avg       0.97      0.97      0.97     50000\n",
      "\n"
     ]
    }
   ],
   "source": [
    "from sklearn.metrics import classification_report\n",
    "\n",
    "cl_rep_log = classification_report(y_test,y_pred_log)\n",
    "print(cl_rep_log)"
   ]
  },
  {
   "cell_type": "markdown",
   "metadata": {},
   "source": [
    "# Random Forest"
   ]
  },
  {
   "cell_type": "code",
   "execution_count": 72,
   "metadata": {},
   "outputs": [
    {
     "name": "stdout",
     "output_type": "stream",
     "text": [
      "0.97136\n"
     ]
    }
   ],
   "source": [
    "from sklearn.ensemble import RandomForestClassifier\n",
    "\n",
    "clf = RandomForestClassifier(n_estimators=30, random_state = 1,n_jobs=-1)\n",
    "model_res = clf.fit(X_train_scaled, y_train)\n",
    "y_pred_ranf = model_res.predict(X_test_scaled)\n",
    "print(accuracy_score(y_test, y_pred_ranf))"
   ]
  },
  {
   "cell_type": "code",
   "execution_count": 73,
   "metadata": {},
   "outputs": [
    {
     "data": {
      "text/plain": [
       "array(['Fully Paid', 'Current', 'Fully Paid', ..., 'Current', 'Current',\n",
       "       'Current'], dtype=object)"
      ]
     },
     "execution_count": 73,
     "metadata": {},
     "output_type": "execute_result"
    }
   ],
   "source": [
    "y_pred_ranf"
   ]
  },
  {
   "cell_type": "code",
   "execution_count": 74,
   "metadata": {},
   "outputs": [
    {
     "data": {
      "text/plain": [
       "array([[ 5446,     0,     0,     0,     0,   471,     0,     0,     0],\n",
       "       [    1, 19948,     0,     0,     0,   146,     0,     0,     6],\n",
       "       [    0,     1,     0,     0,     0,     0,     0,     0,     0],\n",
       "       [   13,     0,     0,     3,     1,     0,     0,     0,     0],\n",
       "       [    0,     0,     0,     0,    12,    39,     0,     0,     0],\n",
       "       [   43,     0,     0,     0,     0, 23124,     0,     0,     0],\n",
       "       [    0,   188,     0,     0,     0,     4,     0,     0,     1],\n",
       "       [    0,    78,     0,     0,     0,     1,     0,     0,     1],\n",
       "       [    5,   431,     0,     0,     0,     2,     0,     0,    35]],\n",
       "      dtype=int64)"
      ]
     },
     "execution_count": 74,
     "metadata": {},
     "output_type": "execute_result"
    }
   ],
   "source": [
    "pl_ranf = confusion_matrix(y_test,y_pred_ranf)\n",
    "pl_ranf"
   ]
  },
  {
   "cell_type": "code",
   "execution_count": 82,
   "metadata": {},
   "outputs": [
    {
     "name": "stdout",
     "output_type": "stream",
     "text": [
      "                                                     precision    recall  f1-score   support\n",
      "\n",
      "                                        Charged Off       0.99      0.92      0.95      5917\n",
      "                                            Current       0.97      0.99      0.98     20101\n",
      "                                            Default       0.00      0.00      0.00         1\n",
      "Does not meet the credit policy. Status:Charged Off       1.00      0.18      0.30        17\n",
      " Does not meet the credit policy. Status:Fully Paid       0.92      0.24      0.38        51\n",
      "                                         Fully Paid       0.97      1.00      0.98     23167\n",
      "                                    In Grace Period       0.00      0.00      0.00       193\n",
      "                                  Late (16-30 days)       0.00      0.00      0.00        80\n",
      "                                 Late (31-120 days)       0.81      0.07      0.14       473\n",
      "\n",
      "                                           accuracy                           0.97     50000\n",
      "                                          macro avg       0.63      0.38      0.41     50000\n",
      "                                       weighted avg       0.96      0.97      0.96     50000\n",
      "\n"
     ]
    }
   ],
   "source": [
    "cl_rep_ranf = classification_report(y_test,y_pred_ranf)\n",
    "print(cl_rep_ranf)"
   ]
  },
  {
   "cell_type": "markdown",
   "metadata": {},
   "source": [
    "# Gradient Boosting"
   ]
  },
  {
   "cell_type": "code",
   "execution_count": 76,
   "metadata": {},
   "outputs": [
    {
     "name": "stdout",
     "output_type": "stream",
     "text": [
      "Learning rate:  0.05\n",
      "Accuracy score (training): 0.707\n",
      "Accuracy score (validation): 0.708\n",
      "\n",
      "Learning rate:  0.1\n",
      "Accuracy score (training): 0.116\n",
      "Accuracy score (validation): 0.117\n",
      "\n",
      "Learning rate:  0.25\n",
      "Accuracy score (training): 0.770\n",
      "Accuracy score (validation): 0.770\n",
      "\n",
      "Learning rate:  0.5\n",
      "Accuracy score (training): 0.311\n",
      "Accuracy score (validation): 0.312\n",
      "\n",
      "Learning rate:  0.75\n",
      "Accuracy score (training): 0.010\n",
      "Accuracy score (validation): 0.009\n",
      "\n",
      "Learning rate:  1\n",
      "Accuracy score (training): 0.012\n",
      "Accuracy score (validation): 0.011\n",
      "\n"
     ]
    }
   ],
   "source": [
    "from sklearn.ensemble import GradientBoostingClassifier\n",
    "\n",
    "learning_rates = [0.05, 0.1, 0.25, 0.5, 0.75, 1]\n",
    "#learning_rates = [0.1]\n",
    "for learning_rate in learning_rates:\n",
    "    gb = GradientBoostingClassifier(n_estimators=20, learning_rate = learning_rate, max_features=2, max_depth = 2, random_state = 0)\n",
    "    gb.fit(X_train_scaled, y_train)\n",
    "    print(\"Learning rate: \", learning_rate)\n",
    "    print(\"Accuracy score (training): {0:.3f}\".format(gb.score(X_train_scaled, y_train)))\n",
    "    print(\"Accuracy score (validation): {0:.3f}\".format(gb.score(X_test_scaled, y_test)))\n",
    "    print()"
   ]
  },
  {
   "cell_type": "code",
   "execution_count": 77,
   "metadata": {},
   "outputs": [
    {
     "name": "stdout",
     "output_type": "stream",
     "text": [
      "0.0114\n"
     ]
    }
   ],
   "source": [
    "gb = GradientBoostingClassifier(n_estimators=20, learning_rate = 1, max_features=2, max_depth = 2, random_state = 0)\n",
    "gb.fit(X_train_scaled, y_train)\n",
    "y_pred_gdbst = gb.predict(X_test_scaled)\n",
    "print(accuracy_score(y_test, y_pred_gdbst))"
   ]
  },
  {
   "cell_type": "code",
   "execution_count": 78,
   "metadata": {},
   "outputs": [
    {
     "data": {
      "text/plain": [
       "array([[  205,     0,     0,     0,     0,    62,     0,   350,  5300],\n",
       "       [ 2190,     0,     0,     0,     0,     0,     0,   608, 17303],\n",
       "       [    0,     0,     0,     0,     0,     0,     0,     0,     1],\n",
       "       [    0,     0,     0,     0,     0,     0,     0,     0,    17],\n",
       "       [    0,     0,     0,     0,     0,     0,     0,     1,    50],\n",
       "       [  439,     0,     0,     0,     0,     0,     0,   825, 21903],\n",
       "       [   25,     0,     0,     0,     0,     0,     0,     5,   163],\n",
       "       [   13,     0,     0,     0,     0,     0,     0,     0,    67],\n",
       "       [   80,     0,     0,     0,     0,     7,     0,    21,   365]],\n",
       "      dtype=int64)"
      ]
     },
     "execution_count": 78,
     "metadata": {},
     "output_type": "execute_result"
    }
   ],
   "source": [
    "pl_gbst = confusion_matrix(y_test,y_pred_gdbst)\n",
    "pl_gbst"
   ]
  },
  {
   "cell_type": "code",
   "execution_count": 83,
   "metadata": {},
   "outputs": [
    {
     "name": "stdout",
     "output_type": "stream",
     "text": [
      "                                                     precision    recall  f1-score   support\n",
      "\n",
      "                                        Charged Off       0.07      0.03      0.05      5917\n",
      "                                            Current       0.00      0.00      0.00     20101\n",
      "                                            Default       0.00      0.00      0.00         1\n",
      "Does not meet the credit policy. Status:Charged Off       0.00      0.00      0.00        17\n",
      " Does not meet the credit policy. Status:Fully Paid       0.00      0.00      0.00        51\n",
      "                                         Fully Paid       0.00      0.00      0.00     23167\n",
      "                                    In Grace Period       0.00      0.00      0.00       193\n",
      "                                  Late (16-30 days)       0.00      0.00      0.00        80\n",
      "                                 Late (31-120 days)       0.01      0.77      0.02       473\n",
      "\n",
      "                                           accuracy                           0.01     50000\n",
      "                                          macro avg       0.01      0.09      0.01     50000\n",
      "                                       weighted avg       0.01      0.01      0.01     50000\n",
      "\n"
     ]
    }
   ],
   "source": [
    "cl_rep_gbst = classification_report(y_test,y_pred_gdbst)\n",
    "print(cl_rep_gbst)"
   ]
  },
  {
   "cell_type": "markdown",
   "metadata": {},
   "source": [
    "# Compare Models"
   ]
  },
  {
   "cell_type": "code",
   "execution_count": null,
   "metadata": {},
   "outputs": [],
   "source": []
  },
  {
   "cell_type": "markdown",
   "metadata": {},
   "source": [
    "# Create and compare models using pycaret"
   ]
  },
  {
   "cell_type": "code",
   "execution_count": null,
   "metadata": {},
   "outputs": [],
   "source": []
  },
  {
   "cell_type": "code",
   "execution_count": null,
   "metadata": {},
   "outputs": [],
   "source": []
  },
  {
   "cell_type": "code",
   "execution_count": null,
   "metadata": {},
   "outputs": [],
   "source": []
  },
  {
   "cell_type": "code",
   "execution_count": null,
   "metadata": {},
   "outputs": [],
   "source": []
  },
  {
   "cell_type": "code",
   "execution_count": null,
   "metadata": {},
   "outputs": [],
   "source": []
  }
 ],
 "metadata": {
  "kernelspec": {
   "display_name": "Python 3",
   "language": "python",
   "name": "python3"
  },
  "language_info": {
   "codemirror_mode": {
    "name": "ipython",
    "version": 3
   },
   "file_extension": ".py",
   "mimetype": "text/x-python",
   "name": "python",
   "nbconvert_exporter": "python",
   "pygments_lexer": "ipython3",
   "version": "3.7.3"
  }
 },
 "nbformat": 4,
 "nbformat_minor": 2
}
