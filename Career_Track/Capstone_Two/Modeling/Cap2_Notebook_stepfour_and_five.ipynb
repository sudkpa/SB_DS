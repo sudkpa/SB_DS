{
 "cells": [
  {
   "cell_type": "markdown",
   "metadata": {},
   "source": [
    "# Capstone 2 - Lending Club Loan Defaults Prediction¶\n",
    "\n",
    "# Modeling\n",
    "\n",
    "\n",
    "Modeling is the fifth step in the Data Science Method.  The following will be performed in this step:\n",
    "\n",
    "1. Fit Models with Training Data Set\n",
    "2. Review Model Outcomes — Iterate over additional models as needed.\n",
    "3. Identify the Final Model"
   ]
  },
  {
   "cell_type": "code",
   "execution_count": 1,
   "metadata": {},
   "outputs": [],
   "source": [
    "#load python packages\n",
    "import os\n",
    "import pandas as pd\n",
    "import pandas.api.types as ptypes\n",
    "import datetime\n",
    "import seaborn as sns\n",
    "import matplotlib.pyplot as plt\n",
    "import numpy as np\n",
    "%matplotlib inline\n",
    "import warnings # For handling error messages.\n",
    "#warnings.simplefilter(action=\"ignore\", category=FutureWarning)\n",
    "warnings.filterwarnings('ignore')"
   ]
  },
  {
   "cell_type": "code",
   "execution_count": 2,
   "metadata": {},
   "outputs": [
    {
     "data": {
      "text/html": [
       "<div>\n",
       "<style scoped>\n",
       "    .dataframe tbody tr th:only-of-type {\n",
       "        vertical-align: middle;\n",
       "    }\n",
       "\n",
       "    .dataframe tbody tr th {\n",
       "        vertical-align: top;\n",
       "    }\n",
       "\n",
       "    .dataframe thead th {\n",
       "        text-align: right;\n",
       "    }\n",
       "</style>\n",
       "<table border=\"1\" class=\"dataframe\">\n",
       "  <thead>\n",
       "    <tr style=\"text-align: right;\">\n",
       "      <th></th>\n",
       "      <th>loan_amnt</th>\n",
       "      <th>int_rate</th>\n",
       "      <th>annual_inc</th>\n",
       "      <th>dti</th>\n",
       "      <th>delinq_2yrs</th>\n",
       "      <th>inq_last_6mths</th>\n",
       "      <th>mths_since_last_delinq</th>\n",
       "      <th>mths_since_last_record</th>\n",
       "      <th>pub_rec</th>\n",
       "      <th>revol_bal</th>\n",
       "      <th>...</th>\n",
       "      <th>initial_list_status</th>\n",
       "      <th>application_type</th>\n",
       "      <th>verification_status_joint</th>\n",
       "      <th>hardship_flag</th>\n",
       "      <th>hardship_type</th>\n",
       "      <th>hardship_reason</th>\n",
       "      <th>hardship_status</th>\n",
       "      <th>hardship_loan_status</th>\n",
       "      <th>debt_settlement_flag</th>\n",
       "      <th>settlement_status</th>\n",
       "    </tr>\n",
       "  </thead>\n",
       "  <tbody>\n",
       "    <tr>\n",
       "      <th>0</th>\n",
       "      <td>2500</td>\n",
       "      <td>13.56</td>\n",
       "      <td>55000.0</td>\n",
       "      <td>18.24</td>\n",
       "      <td>0.0</td>\n",
       "      <td>1.0</td>\n",
       "      <td>0.0</td>\n",
       "      <td>45.0</td>\n",
       "      <td>1.0</td>\n",
       "      <td>4341</td>\n",
       "      <td>...</td>\n",
       "      <td>w</td>\n",
       "      <td>Individual</td>\n",
       "      <td>NaN</td>\n",
       "      <td>N</td>\n",
       "      <td>NaN</td>\n",
       "      <td>NaN</td>\n",
       "      <td>NaN</td>\n",
       "      <td>NaN</td>\n",
       "      <td>N</td>\n",
       "      <td>NaN</td>\n",
       "    </tr>\n",
       "    <tr>\n",
       "      <th>1</th>\n",
       "      <td>30000</td>\n",
       "      <td>18.94</td>\n",
       "      <td>90000.0</td>\n",
       "      <td>26.52</td>\n",
       "      <td>0.0</td>\n",
       "      <td>0.0</td>\n",
       "      <td>71.0</td>\n",
       "      <td>75.0</td>\n",
       "      <td>1.0</td>\n",
       "      <td>12315</td>\n",
       "      <td>...</td>\n",
       "      <td>w</td>\n",
       "      <td>Individual</td>\n",
       "      <td>NaN</td>\n",
       "      <td>N</td>\n",
       "      <td>NaN</td>\n",
       "      <td>NaN</td>\n",
       "      <td>NaN</td>\n",
       "      <td>NaN</td>\n",
       "      <td>N</td>\n",
       "      <td>NaN</td>\n",
       "    </tr>\n",
       "    <tr>\n",
       "      <th>2</th>\n",
       "      <td>5000</td>\n",
       "      <td>17.97</td>\n",
       "      <td>59280.0</td>\n",
       "      <td>10.51</td>\n",
       "      <td>0.0</td>\n",
       "      <td>0.0</td>\n",
       "      <td>0.0</td>\n",
       "      <td>0.0</td>\n",
       "      <td>0.0</td>\n",
       "      <td>4599</td>\n",
       "      <td>...</td>\n",
       "      <td>w</td>\n",
       "      <td>Individual</td>\n",
       "      <td>NaN</td>\n",
       "      <td>N</td>\n",
       "      <td>NaN</td>\n",
       "      <td>NaN</td>\n",
       "      <td>NaN</td>\n",
       "      <td>NaN</td>\n",
       "      <td>N</td>\n",
       "      <td>NaN</td>\n",
       "    </tr>\n",
       "    <tr>\n",
       "      <th>3</th>\n",
       "      <td>4000</td>\n",
       "      <td>18.94</td>\n",
       "      <td>92000.0</td>\n",
       "      <td>16.74</td>\n",
       "      <td>0.0</td>\n",
       "      <td>0.0</td>\n",
       "      <td>0.0</td>\n",
       "      <td>0.0</td>\n",
       "      <td>0.0</td>\n",
       "      <td>5468</td>\n",
       "      <td>...</td>\n",
       "      <td>w</td>\n",
       "      <td>Individual</td>\n",
       "      <td>NaN</td>\n",
       "      <td>N</td>\n",
       "      <td>NaN</td>\n",
       "      <td>NaN</td>\n",
       "      <td>NaN</td>\n",
       "      <td>NaN</td>\n",
       "      <td>N</td>\n",
       "      <td>NaN</td>\n",
       "    </tr>\n",
       "    <tr>\n",
       "      <th>4</th>\n",
       "      <td>30000</td>\n",
       "      <td>16.14</td>\n",
       "      <td>57250.0</td>\n",
       "      <td>26.35</td>\n",
       "      <td>0.0</td>\n",
       "      <td>0.0</td>\n",
       "      <td>0.0</td>\n",
       "      <td>0.0</td>\n",
       "      <td>0.0</td>\n",
       "      <td>829</td>\n",
       "      <td>...</td>\n",
       "      <td>w</td>\n",
       "      <td>Individual</td>\n",
       "      <td>NaN</td>\n",
       "      <td>N</td>\n",
       "      <td>NaN</td>\n",
       "      <td>NaN</td>\n",
       "      <td>NaN</td>\n",
       "      <td>NaN</td>\n",
       "      <td>N</td>\n",
       "      <td>NaN</td>\n",
       "    </tr>\n",
       "  </tbody>\n",
       "</table>\n",
       "<p>5 rows × 87 columns</p>\n",
       "</div>"
      ],
      "text/plain": [
       "   loan_amnt  int_rate  annual_inc    dti  delinq_2yrs  inq_last_6mths  \\\n",
       "0       2500     13.56     55000.0  18.24          0.0             1.0   \n",
       "1      30000     18.94     90000.0  26.52          0.0             0.0   \n",
       "2       5000     17.97     59280.0  10.51          0.0             0.0   \n",
       "3       4000     18.94     92000.0  16.74          0.0             0.0   \n",
       "4      30000     16.14     57250.0  26.35          0.0             0.0   \n",
       "\n",
       "   mths_since_last_delinq  mths_since_last_record  pub_rec  revol_bal  ...  \\\n",
       "0                     0.0                    45.0      1.0       4341  ...   \n",
       "1                    71.0                    75.0      1.0      12315  ...   \n",
       "2                     0.0                     0.0      0.0       4599  ...   \n",
       "3                     0.0                     0.0      0.0       5468  ...   \n",
       "4                     0.0                     0.0      0.0        829  ...   \n",
       "\n",
       "   initial_list_status  application_type  verification_status_joint  \\\n",
       "0                    w        Individual                        NaN   \n",
       "1                    w        Individual                        NaN   \n",
       "2                    w        Individual                        NaN   \n",
       "3                    w        Individual                        NaN   \n",
       "4                    w        Individual                        NaN   \n",
       "\n",
       "   hardship_flag  hardship_type  hardship_reason  hardship_status  \\\n",
       "0              N            NaN              NaN              NaN   \n",
       "1              N            NaN              NaN              NaN   \n",
       "2              N            NaN              NaN              NaN   \n",
       "3              N            NaN              NaN              NaN   \n",
       "4              N            NaN              NaN              NaN   \n",
       "\n",
       "   hardship_loan_status  debt_settlement_flag  settlement_status  \n",
       "0                   NaN                     N                NaN  \n",
       "1                   NaN                     N                NaN  \n",
       "2                   NaN                     N                NaN  \n",
       "3                   NaN                     N                NaN  \n",
       "4                   NaN                     N                NaN  \n",
       "\n",
       "[5 rows x 87 columns]"
      ]
     },
     "execution_count": 2,
     "metadata": {},
     "output_type": "execute_result"
    }
   ],
   "source": [
    "# Read data output created in the EDA step\n",
    "df = pd.read_csv(\"../EDA/data/Cap2_step3_output.csv\", dtype={'verification_status_joint':object,'hardship_type':object, 'hardship_reason':object, 'hardship_status':object, 'hardship_loan_status':object, 'settlement_status':object}, index_col=\"Unnamed: 0\")\n",
    "df.head(5)"
   ]
  },
  {
   "cell_type": "code",
   "execution_count": 3,
   "metadata": {},
   "outputs": [
    {
     "data": {
      "text/plain": [
       "(2150627, 87)"
      ]
     },
     "execution_count": 3,
     "metadata": {},
     "output_type": "execute_result"
    }
   ],
   "source": [
    "df.shape"
   ]
  },
  {
   "cell_type": "code",
   "execution_count": 4,
   "metadata": {},
   "outputs": [
    {
     "name": "stdout",
     "output_type": "stream",
     "text": [
      "<class 'pandas.core.frame.DataFrame'>\n",
      "Int64Index: 2150627 entries, 0 to 2260667\n",
      "Data columns (total 87 columns):\n",
      " #   Column                                      Dtype  \n",
      "---  ------                                      -----  \n",
      " 0   loan_amnt                                   int64  \n",
      " 1   int_rate                                    float64\n",
      " 2   annual_inc                                  float64\n",
      " 3   dti                                         float64\n",
      " 4   delinq_2yrs                                 float64\n",
      " 5   inq_last_6mths                              float64\n",
      " 6   mths_since_last_delinq                      float64\n",
      " 7   mths_since_last_record                      float64\n",
      " 8   pub_rec                                     float64\n",
      " 9   revol_bal                                   int64  \n",
      " 10  revol_util                                  float64\n",
      " 11  out_prncp                                   float64\n",
      " 12  total_pymnt                                 float64\n",
      " 13  total_rec_int                               float64\n",
      " 14  recoveries                                  float64\n",
      " 15  last_pymnt_amnt                             float64\n",
      " 16  collections_12_mths_ex_med                  float64\n",
      " 17  mths_since_last_major_derog                 float64\n",
      " 18  annual_inc_joint                            float64\n",
      " 19  dti_joint                                   float64\n",
      " 20  acc_now_delinq                              float64\n",
      " 21  tot_coll_amt                                float64\n",
      " 22  tot_cur_bal                                 float64\n",
      " 23  open_acc_6m                                 float64\n",
      " 24  open_act_il                                 float64\n",
      " 25  total_bal_il                                float64\n",
      " 26  il_util                                     float64\n",
      " 27  max_bal_bc                                  float64\n",
      " 28  all_util                                    float64\n",
      " 29  total_rev_hi_lim                            float64\n",
      " 30  inq_fi                                      float64\n",
      " 31  inq_last_12m                                float64\n",
      " 32  avg_cur_bal                                 float64\n",
      " 33  bc_util                                     float64\n",
      " 34  chargeoff_within_12_mths                    float64\n",
      " 35  delinq_amnt                                 float64\n",
      " 36  mths_since_recent_bc_dlq                    float64\n",
      " 37  mths_since_recent_inq                       float64\n",
      " 38  mths_since_recent_revol_delinq              float64\n",
      " 39  num_accts_ever_120_pd                       float64\n",
      " 40  num_tl_120dpd_2m                            float64\n",
      " 41  num_tl_30dpd                                float64\n",
      " 42  num_tl_90g_dpd_24m                          float64\n",
      " 43  pct_tl_nvr_dlq                              float64\n",
      " 44  percent_bc_gt_75                            float64\n",
      " 45  pub_rec_bankruptcies                        float64\n",
      " 46  tax_liens                                   float64\n",
      " 47  total_bal_ex_mort                           float64\n",
      " 48  total_bc_limit                              float64\n",
      " 49  total_il_high_credit_limit                  float64\n",
      " 50  revol_bal_joint                             float64\n",
      " 51  sec_app_inq_last_6mths                      float64\n",
      " 52  sec_app_mort_acc                            float64\n",
      " 53  sec_app_open_acc                            float64\n",
      " 54  sec_app_revol_util                          float64\n",
      " 55  sec_app_open_act_il                         float64\n",
      " 56  sec_app_chargeoff_within_12_mths            float64\n",
      " 57  sec_app_collections_12_mths_ex_med          float64\n",
      " 58  sec_app_mths_since_last_major_derog         float64\n",
      " 59  deferral_term                               float64\n",
      " 60  hardship_amount                             float64\n",
      " 61  hardship_dpd                                float64\n",
      " 62  orig_projected_additional_accrued_interest  float64\n",
      " 63  hardship_last_payment_amount                float64\n",
      " 64  settlement_amount                           float64\n",
      " 65  settlement_percentage                       float64\n",
      " 66  settlement_term                             float64\n",
      " 67  term                                        object \n",
      " 68  grade                                       object \n",
      " 69  sub_grade                                   object \n",
      " 70  home_ownership                              object \n",
      " 71  verification_status                         object \n",
      " 72  loan_status                                 object \n",
      " 73  pymnt_plan                                  object \n",
      " 74  title                                       object \n",
      " 75  zip_code                                    object \n",
      " 76  addr_state                                  object \n",
      " 77  initial_list_status                         object \n",
      " 78  application_type                            object \n",
      " 79  verification_status_joint                   object \n",
      " 80  hardship_flag                               object \n",
      " 81  hardship_type                               object \n",
      " 82  hardship_reason                             object \n",
      " 83  hardship_status                             object \n",
      " 84  hardship_loan_status                        object \n",
      " 85  debt_settlement_flag                        object \n",
      " 86  settlement_status                           object \n",
      "dtypes: float64(65), int64(2), object(20)\n",
      "memory usage: 1.4+ GB\n"
     ]
    }
   ],
   "source": [
    "df.info()"
   ]
  },
  {
   "cell_type": "code",
   "execution_count": 5,
   "metadata": {},
   "outputs": [
    {
     "data": {
      "text/html": [
       "<div>\n",
       "<style scoped>\n",
       "    .dataframe tbody tr th:only-of-type {\n",
       "        vertical-align: middle;\n",
       "    }\n",
       "\n",
       "    .dataframe tbody tr th {\n",
       "        vertical-align: top;\n",
       "    }\n",
       "\n",
       "    .dataframe thead th {\n",
       "        text-align: right;\n",
       "    }\n",
       "</style>\n",
       "<table border=\"1\" class=\"dataframe\">\n",
       "  <thead>\n",
       "    <tr style=\"text-align: right;\">\n",
       "      <th></th>\n",
       "      <th>loan_amnt</th>\n",
       "      <th>int_rate</th>\n",
       "      <th>annual_inc</th>\n",
       "      <th>dti</th>\n",
       "      <th>delinq_2yrs</th>\n",
       "      <th>inq_last_6mths</th>\n",
       "      <th>mths_since_last_delinq</th>\n",
       "      <th>mths_since_last_record</th>\n",
       "      <th>pub_rec</th>\n",
       "      <th>revol_bal</th>\n",
       "      <th>...</th>\n",
       "      <th>sec_app_collections_12_mths_ex_med</th>\n",
       "      <th>sec_app_mths_since_last_major_derog</th>\n",
       "      <th>deferral_term</th>\n",
       "      <th>hardship_amount</th>\n",
       "      <th>hardship_dpd</th>\n",
       "      <th>orig_projected_additional_accrued_interest</th>\n",
       "      <th>hardship_last_payment_amount</th>\n",
       "      <th>settlement_amount</th>\n",
       "      <th>settlement_percentage</th>\n",
       "      <th>settlement_term</th>\n",
       "    </tr>\n",
       "  </thead>\n",
       "  <tbody>\n",
       "    <tr>\n",
       "      <th>count</th>\n",
       "      <td>2.150627e+06</td>\n",
       "      <td>2.150627e+06</td>\n",
       "      <td>2.150627e+06</td>\n",
       "      <td>2.150627e+06</td>\n",
       "      <td>2.150627e+06</td>\n",
       "      <td>2.150627e+06</td>\n",
       "      <td>2.150627e+06</td>\n",
       "      <td>2.150627e+06</td>\n",
       "      <td>2.150627e+06</td>\n",
       "      <td>2.150627e+06</td>\n",
       "      <td>...</td>\n",
       "      <td>2.150627e+06</td>\n",
       "      <td>2.150627e+06</td>\n",
       "      <td>2.150627e+06</td>\n",
       "      <td>2.150627e+06</td>\n",
       "      <td>2.150627e+06</td>\n",
       "      <td>2.150627e+06</td>\n",
       "      <td>2.150627e+06</td>\n",
       "      <td>2.150627e+06</td>\n",
       "      <td>2.150627e+06</td>\n",
       "      <td>2.150627e+06</td>\n",
       "    </tr>\n",
       "    <tr>\n",
       "      <th>mean</th>\n",
       "      <td>1.455534e+04</td>\n",
       "      <td>1.315755e+01</td>\n",
       "      <td>6.911525e+04</td>\n",
       "      <td>1.910219e+01</td>\n",
       "      <td>3.019622e-01</td>\n",
       "      <td>5.717709e-01</td>\n",
       "      <td>1.680994e+01</td>\n",
       "      <td>1.166151e+01</td>\n",
       "      <td>1.972904e-01</td>\n",
       "      <td>1.522785e+04</td>\n",
       "      <td>...</td>\n",
       "      <td>3.856550e-03</td>\n",
       "      <td>6.066408e-01</td>\n",
       "      <td>1.407915e-02</td>\n",
       "      <td>7.129102e-01</td>\n",
       "      <td>6.392043e-02</td>\n",
       "      <td>1.664888e+00</td>\n",
       "      <td>8.860760e-01</td>\n",
       "      <td>7.394659e+01</td>\n",
       "      <td>7.149019e-01</td>\n",
       "      <td>1.966361e-01</td>\n",
       "    </tr>\n",
       "    <tr>\n",
       "      <th>std</th>\n",
       "      <td>8.859252e+03</td>\n",
       "      <td>4.824323e+00</td>\n",
       "      <td>3.159676e+04</td>\n",
       "      <td>1.439575e+01</td>\n",
       "      <td>8.613410e-01</td>\n",
       "      <td>8.803719e-01</td>\n",
       "      <td>2.308542e+01</td>\n",
       "      <td>2.867152e+01</td>\n",
       "      <td>5.606472e-01</td>\n",
       "      <td>1.705110e+04</td>\n",
       "      <td>...</td>\n",
       "      <td>9.259225e-02</td>\n",
       "      <td>5.605731e+00</td>\n",
       "      <td>2.050347e-01</td>\n",
       "      <td>1.360392e+01</td>\n",
       "      <td>1.144538e+00</td>\n",
       "      <td>3.550980e+01</td>\n",
       "      <td>1.851189e+01</td>\n",
       "      <td>7.449337e+02</td>\n",
       "      <td>5.868766e+00</td>\n",
       "      <td>1.883835e+00</td>\n",
       "    </tr>\n",
       "    <tr>\n",
       "      <th>min</th>\n",
       "      <td>5.000000e+02</td>\n",
       "      <td>5.310000e+00</td>\n",
       "      <td>0.000000e+00</td>\n",
       "      <td>-1.000000e+00</td>\n",
       "      <td>0.000000e+00</td>\n",
       "      <td>0.000000e+00</td>\n",
       "      <td>0.000000e+00</td>\n",
       "      <td>0.000000e+00</td>\n",
       "      <td>0.000000e+00</td>\n",
       "      <td>0.000000e+00</td>\n",
       "      <td>...</td>\n",
       "      <td>0.000000e+00</td>\n",
       "      <td>0.000000e+00</td>\n",
       "      <td>0.000000e+00</td>\n",
       "      <td>0.000000e+00</td>\n",
       "      <td>0.000000e+00</td>\n",
       "      <td>0.000000e+00</td>\n",
       "      <td>0.000000e+00</td>\n",
       "      <td>0.000000e+00</td>\n",
       "      <td>0.000000e+00</td>\n",
       "      <td>0.000000e+00</td>\n",
       "    </tr>\n",
       "    <tr>\n",
       "      <th>25%</th>\n",
       "      <td>8.000000e+03</td>\n",
       "      <td>9.670000e+00</td>\n",
       "      <td>4.500000e+04</td>\n",
       "      <td>1.219000e+01</td>\n",
       "      <td>0.000000e+00</td>\n",
       "      <td>0.000000e+00</td>\n",
       "      <td>0.000000e+00</td>\n",
       "      <td>0.000000e+00</td>\n",
       "      <td>0.000000e+00</td>\n",
       "      <td>5.810000e+03</td>\n",
       "      <td>...</td>\n",
       "      <td>0.000000e+00</td>\n",
       "      <td>0.000000e+00</td>\n",
       "      <td>0.000000e+00</td>\n",
       "      <td>0.000000e+00</td>\n",
       "      <td>0.000000e+00</td>\n",
       "      <td>0.000000e+00</td>\n",
       "      <td>0.000000e+00</td>\n",
       "      <td>0.000000e+00</td>\n",
       "      <td>0.000000e+00</td>\n",
       "      <td>0.000000e+00</td>\n",
       "    </tr>\n",
       "    <tr>\n",
       "      <th>50%</th>\n",
       "      <td>1.200000e+04</td>\n",
       "      <td>1.269000e+01</td>\n",
       "      <td>6.400000e+04</td>\n",
       "      <td>1.815000e+01</td>\n",
       "      <td>0.000000e+00</td>\n",
       "      <td>0.000000e+00</td>\n",
       "      <td>0.000000e+00</td>\n",
       "      <td>0.000000e+00</td>\n",
       "      <td>0.000000e+00</td>\n",
       "      <td>1.096600e+04</td>\n",
       "      <td>...</td>\n",
       "      <td>0.000000e+00</td>\n",
       "      <td>0.000000e+00</td>\n",
       "      <td>0.000000e+00</td>\n",
       "      <td>0.000000e+00</td>\n",
       "      <td>0.000000e+00</td>\n",
       "      <td>0.000000e+00</td>\n",
       "      <td>0.000000e+00</td>\n",
       "      <td>0.000000e+00</td>\n",
       "      <td>0.000000e+00</td>\n",
       "      <td>0.000000e+00</td>\n",
       "    </tr>\n",
       "    <tr>\n",
       "      <th>75%</th>\n",
       "      <td>2.000000e+04</td>\n",
       "      <td>1.599000e+01</td>\n",
       "      <td>8.800000e+04</td>\n",
       "      <td>2.476000e+01</td>\n",
       "      <td>0.000000e+00</td>\n",
       "      <td>1.000000e+00</td>\n",
       "      <td>3.000000e+01</td>\n",
       "      <td>0.000000e+00</td>\n",
       "      <td>0.000000e+00</td>\n",
       "      <td>1.927500e+04</td>\n",
       "      <td>...</td>\n",
       "      <td>0.000000e+00</td>\n",
       "      <td>0.000000e+00</td>\n",
       "      <td>0.000000e+00</td>\n",
       "      <td>0.000000e+00</td>\n",
       "      <td>0.000000e+00</td>\n",
       "      <td>0.000000e+00</td>\n",
       "      <td>0.000000e+00</td>\n",
       "      <td>0.000000e+00</td>\n",
       "      <td>0.000000e+00</td>\n",
       "      <td>0.000000e+00</td>\n",
       "    </tr>\n",
       "    <tr>\n",
       "      <th>max</th>\n",
       "      <td>4.000000e+04</td>\n",
       "      <td>3.099000e+01</td>\n",
       "      <td>1.635000e+05</td>\n",
       "      <td>9.990000e+02</td>\n",
       "      <td>5.800000e+01</td>\n",
       "      <td>3.300000e+01</td>\n",
       "      <td>2.260000e+02</td>\n",
       "      <td>1.290000e+02</td>\n",
       "      <td>8.600000e+01</td>\n",
       "      <td>9.597540e+05</td>\n",
       "      <td>...</td>\n",
       "      <td>2.300000e+01</td>\n",
       "      <td>1.850000e+02</td>\n",
       "      <td>3.000000e+00</td>\n",
       "      <td>9.439400e+02</td>\n",
       "      <td>3.700000e+01</td>\n",
       "      <td>2.680890e+03</td>\n",
       "      <td>1.407860e+03</td>\n",
       "      <td>3.360100e+04</td>\n",
       "      <td>5.213500e+02</td>\n",
       "      <td>1.810000e+02</td>\n",
       "    </tr>\n",
       "  </tbody>\n",
       "</table>\n",
       "<p>8 rows × 67 columns</p>\n",
       "</div>"
      ],
      "text/plain": [
       "          loan_amnt      int_rate    annual_inc           dti   delinq_2yrs  \\\n",
       "count  2.150627e+06  2.150627e+06  2.150627e+06  2.150627e+06  2.150627e+06   \n",
       "mean   1.455534e+04  1.315755e+01  6.911525e+04  1.910219e+01  3.019622e-01   \n",
       "std    8.859252e+03  4.824323e+00  3.159676e+04  1.439575e+01  8.613410e-01   \n",
       "min    5.000000e+02  5.310000e+00  0.000000e+00 -1.000000e+00  0.000000e+00   \n",
       "25%    8.000000e+03  9.670000e+00  4.500000e+04  1.219000e+01  0.000000e+00   \n",
       "50%    1.200000e+04  1.269000e+01  6.400000e+04  1.815000e+01  0.000000e+00   \n",
       "75%    2.000000e+04  1.599000e+01  8.800000e+04  2.476000e+01  0.000000e+00   \n",
       "max    4.000000e+04  3.099000e+01  1.635000e+05  9.990000e+02  5.800000e+01   \n",
       "\n",
       "       inq_last_6mths  mths_since_last_delinq  mths_since_last_record  \\\n",
       "count    2.150627e+06            2.150627e+06            2.150627e+06   \n",
       "mean     5.717709e-01            1.680994e+01            1.166151e+01   \n",
       "std      8.803719e-01            2.308542e+01            2.867152e+01   \n",
       "min      0.000000e+00            0.000000e+00            0.000000e+00   \n",
       "25%      0.000000e+00            0.000000e+00            0.000000e+00   \n",
       "50%      0.000000e+00            0.000000e+00            0.000000e+00   \n",
       "75%      1.000000e+00            3.000000e+01            0.000000e+00   \n",
       "max      3.300000e+01            2.260000e+02            1.290000e+02   \n",
       "\n",
       "            pub_rec     revol_bal  ...  sec_app_collections_12_mths_ex_med  \\\n",
       "count  2.150627e+06  2.150627e+06  ...                        2.150627e+06   \n",
       "mean   1.972904e-01  1.522785e+04  ...                        3.856550e-03   \n",
       "std    5.606472e-01  1.705110e+04  ...                        9.259225e-02   \n",
       "min    0.000000e+00  0.000000e+00  ...                        0.000000e+00   \n",
       "25%    0.000000e+00  5.810000e+03  ...                        0.000000e+00   \n",
       "50%    0.000000e+00  1.096600e+04  ...                        0.000000e+00   \n",
       "75%    0.000000e+00  1.927500e+04  ...                        0.000000e+00   \n",
       "max    8.600000e+01  9.597540e+05  ...                        2.300000e+01   \n",
       "\n",
       "       sec_app_mths_since_last_major_derog  deferral_term  hardship_amount  \\\n",
       "count                         2.150627e+06   2.150627e+06     2.150627e+06   \n",
       "mean                          6.066408e-01   1.407915e-02     7.129102e-01   \n",
       "std                           5.605731e+00   2.050347e-01     1.360392e+01   \n",
       "min                           0.000000e+00   0.000000e+00     0.000000e+00   \n",
       "25%                           0.000000e+00   0.000000e+00     0.000000e+00   \n",
       "50%                           0.000000e+00   0.000000e+00     0.000000e+00   \n",
       "75%                           0.000000e+00   0.000000e+00     0.000000e+00   \n",
       "max                           1.850000e+02   3.000000e+00     9.439400e+02   \n",
       "\n",
       "       hardship_dpd  orig_projected_additional_accrued_interest  \\\n",
       "count  2.150627e+06                                2.150627e+06   \n",
       "mean   6.392043e-02                                1.664888e+00   \n",
       "std    1.144538e+00                                3.550980e+01   \n",
       "min    0.000000e+00                                0.000000e+00   \n",
       "25%    0.000000e+00                                0.000000e+00   \n",
       "50%    0.000000e+00                                0.000000e+00   \n",
       "75%    0.000000e+00                                0.000000e+00   \n",
       "max    3.700000e+01                                2.680890e+03   \n",
       "\n",
       "       hardship_last_payment_amount  settlement_amount  settlement_percentage  \\\n",
       "count                  2.150627e+06       2.150627e+06           2.150627e+06   \n",
       "mean                   8.860760e-01       7.394659e+01           7.149019e-01   \n",
       "std                    1.851189e+01       7.449337e+02           5.868766e+00   \n",
       "min                    0.000000e+00       0.000000e+00           0.000000e+00   \n",
       "25%                    0.000000e+00       0.000000e+00           0.000000e+00   \n",
       "50%                    0.000000e+00       0.000000e+00           0.000000e+00   \n",
       "75%                    0.000000e+00       0.000000e+00           0.000000e+00   \n",
       "max                    1.407860e+03       3.360100e+04           5.213500e+02   \n",
       "\n",
       "       settlement_term  \n",
       "count     2.150627e+06  \n",
       "mean      1.966361e-01  \n",
       "std       1.883835e+00  \n",
       "min       0.000000e+00  \n",
       "25%       0.000000e+00  \n",
       "50%       0.000000e+00  \n",
       "75%       0.000000e+00  \n",
       "max       1.810000e+02  \n",
       "\n",
       "[8 rows x 67 columns]"
      ]
     },
     "execution_count": 5,
     "metadata": {},
     "output_type": "execute_result"
    }
   ],
   "source": [
    "df.describe()"
   ]
  },
  {
   "cell_type": "code",
   "execution_count": 6,
   "metadata": {},
   "outputs": [
    {
     "data": {
      "text/plain": [
       "112xx    22865\n",
       "945xx    21787\n",
       "750xx    21749\n",
       "606xx    20025\n",
       "300xx    19156\n",
       "         ...  \n",
       "375xx        1\n",
       "872xx        1\n",
       "055xx        1\n",
       "399xx        1\n",
       "524xx        1\n",
       "Name: zip_code, Length: 955, dtype: int64"
      ]
     },
     "execution_count": 6,
     "metadata": {},
     "output_type": "execute_result"
    }
   ],
   "source": [
    "df['zip_code'].value_counts()"
   ]
  },
  {
   "cell_type": "markdown",
   "metadata": {},
   "source": [
    "## 'loan_status' is the response variable.\n",
    "## Plan to predict fully paid and charged off status\n",
    "## Features of interest are: \n",
    "'tot_cur_bal', 'annual_inc_joint', 'annual_inc', 'mths_since_last_record', 'mths_since_last_major_derog', 'collections_12_mths_ex_med', 'pub_rec_bankruptcies', 'tax_liens', '\n",
    "## Features to not consider are\n",
    "'title','zip_code','addr_state'\n",
    "\n"
   ]
  },
  {
   "cell_type": "code",
   "execution_count": 7,
   "metadata": {},
   "outputs": [],
   "source": [
    "df_sel = df.drop(['title', 'zip_code', 'addr_state'], axis=1)"
   ]
  },
  {
   "cell_type": "markdown",
   "metadata": {},
   "source": [
    "''' \n",
    "# Check these values in df_sel\n",
    "\n",
    "loan_amnt                                   \n",
    "annual_inc   \n",
    "revol_bal  \n",
    "tot_cur_bal\n",
    "total_bal_il\n",
    "max_bal_bc                                  \n",
    "avg_cur_bal  \n",
    "tax_liens      \n",
    "total_bal_ex_mort   \n",
    "total_bc_limit    \n",
    "total_il_high_credit_limit     \n",
    "revol_bal_joint        \n",
    "hardship_amount      \n",
    "hardship_last_payment_amount      \n",
    "settlement_amount                  \n",
    "'''"
   ]
  },
  {
   "cell_type": "code",
   "execution_count": 8,
   "metadata": {},
   "outputs": [
    {
     "data": {
      "text/plain": [
       "10000    183149\n",
       "20000    123816\n",
       "12000    118794\n",
       "15000    118790\n",
       "5000      83452\n",
       "          ...  \n",
       "725           1\n",
       "550           1\n",
       "950           1\n",
       "850           1\n",
       "750           1\n",
       "Name: loan_amnt, Length: 1571, dtype: int64"
      ]
     },
     "execution_count": 8,
     "metadata": {},
     "output_type": "execute_result"
    }
   ],
   "source": [
    "df_sel['loan_amnt'].value_counts()"
   ]
  },
  {
   "cell_type": "code",
   "execution_count": 9,
   "metadata": {},
   "outputs": [
    {
     "data": {
      "text/plain": [
       "60000.0     87189\n",
       "50000.0     76355\n",
       "65000.0     64903\n",
       "70000.0     62078\n",
       "80000.0     59833\n",
       "            ...  \n",
       "44271.0         1\n",
       "44269.0         1\n",
       "94657.0         1\n",
       "94659.0         1\n",
       "131070.0        1\n",
       "Name: annual_inc, Length: 83915, dtype: int64"
      ]
     },
     "execution_count": 9,
     "metadata": {},
     "output_type": "execute_result"
    }
   ],
   "source": [
    "df_sel['annual_inc'].value_counts()"
   ]
  },
  {
   "cell_type": "code",
   "execution_count": 10,
   "metadata": {},
   "outputs": [
    {
     "data": {
      "text/plain": [
       "0         11980\n",
       "8           209\n",
       "2           163\n",
       "10          159\n",
       "5235        158\n",
       "          ...  \n",
       "94025         1\n",
       "96074         1\n",
       "85837         1\n",
       "110417        1\n",
       "109518        1\n",
       "Name: revol_bal, Length: 88143, dtype: int64"
      ]
     },
     "execution_count": 10,
     "metadata": {},
     "output_type": "execute_result"
    }
   ],
   "source": [
    "df_sel['revol_bal'].value_counts()"
   ]
  },
  {
   "cell_type": "code",
   "execution_count": 11,
   "metadata": {},
   "outputs": [
    {
     "data": {
      "text/plain": [
       "0.0         69031\n",
       "14186.0        41\n",
       "20275.0        39\n",
       "22831.0        38\n",
       "23442.0        38\n",
       "            ...  \n",
       "309690.0        1\n",
       "309689.0        1\n",
       "309686.0        1\n",
       "509276.0        1\n",
       "381300.0        1\n",
       "Name: tot_cur_bal, Length: 447363, dtype: int64"
      ]
     },
     "execution_count": 11,
     "metadata": {},
     "output_type": "execute_result"
    }
   ],
   "source": [
    "df_sel['tot_cur_bal'].value_counts()"
   ]
  },
  {
   "cell_type": "code",
   "execution_count": 12,
   "metadata": {},
   "outputs": [
    {
     "data": {
      "text/plain": [
       "0.0         986116\n",
       "10000.0         98\n",
       "15000.0         90\n",
       "5000.0          83\n",
       "5500.0          76\n",
       "             ...  \n",
       "339145.0         1\n",
       "339113.0         1\n",
       "339092.0         1\n",
       "339074.0         1\n",
       "84262.0          1\n",
       "Name: total_bal_il, Length: 152044, dtype: int64"
      ]
     },
     "execution_count": 12,
     "metadata": {},
     "output_type": "execute_result"
    }
   ],
   "source": [
    "df_sel['total_bal_il'].value_counts()"
   ]
  },
  {
   "cell_type": "code",
   "execution_count": 13,
   "metadata": {},
   "outputs": [
    {
     "data": {
      "text/plain": [
       "0.0         866592\n",
       "8.0            544\n",
       "3000.0         522\n",
       "2000.0         495\n",
       "4000.0         437\n",
       "             ...  \n",
       "27465.0          1\n",
       "27460.0          1\n",
       "27456.0          1\n",
       "27453.0          1\n",
       "131035.0         1\n",
       "Name: max_bal_bc, Length: 30086, dtype: int64"
      ]
     },
     "execution_count": 13,
     "metadata": {},
     "output_type": "execute_result"
    }
   ],
   "source": [
    "df_sel['max_bal_bc'].value_counts()"
   ]
  },
  {
   "cell_type": "code",
   "execution_count": 14,
   "metadata": {},
   "outputs": [
    {
     "data": {
      "text/plain": [
       "0.0         69048\n",
       "2277.0        269\n",
       "2442.0        267\n",
       "2148.0        265\n",
       "2025.0        265\n",
       "            ...  \n",
       "72094.0         1\n",
       "72092.0         1\n",
       "72087.0         1\n",
       "72086.0         1\n",
       "131042.0        1\n",
       "Name: avg_cur_bal, Length: 80280, dtype: int64"
      ]
     },
     "execution_count": 14,
     "metadata": {},
     "output_type": "execute_result"
    }
   ],
   "source": [
    "df_sel['avg_cur_bal'].value_counts()"
   ]
  },
  {
   "cell_type": "code",
   "execution_count": 15,
   "metadata": {},
   "outputs": [
    {
     "data": {
      "text/plain": [
       "0.0     2092608\n",
       "1.0       39790\n",
       "2.0       10776\n",
       "3.0        3866\n",
       "4.0        1673\n",
       "5.0         851\n",
       "6.0         443\n",
       "7.0         204\n",
       "8.0         135\n",
       "9.0          81\n",
       "10.0         62\n",
       "11.0         32\n",
       "12.0         19\n",
       "13.0         12\n",
       "14.0         11\n",
       "15.0         11\n",
       "17.0          7\n",
       "18.0          6\n",
       "22.0          5\n",
       "21.0          5\n",
       "16.0          5\n",
       "19.0          2\n",
       "20.0          2\n",
       "61.0          2\n",
       "24.0          2\n",
       "46.0          2\n",
       "45.0          2\n",
       "37.0          1\n",
       "53.0          1\n",
       "52.0          1\n",
       "48.0          1\n",
       "39.0          1\n",
       "34.0          1\n",
       "85.0          1\n",
       "29.0          1\n",
       "28.0          1\n",
       "27.0          1\n",
       "25.0          1\n",
       "23.0          1\n",
       "63.0          1\n",
       "Name: tax_liens, dtype: int64"
      ]
     },
     "execution_count": 15,
     "metadata": {},
     "output_type": "execute_result"
    }
   ],
   "source": [
    "df_sel['tax_liens'].value_counts()"
   ]
  },
  {
   "cell_type": "code",
   "execution_count": 16,
   "metadata": {},
   "outputs": [
    {
     "data": {
      "text/plain": [
       "0.0         49942\n",
       "24214.0        57\n",
       "23068.0        57\n",
       "20275.0        57\n",
       "19095.0        56\n",
       "            ...  \n",
       "320651.0        1\n",
       "194012.0        1\n",
       "194009.0        1\n",
       "320659.0        1\n",
       "125310.0        1\n",
       "Name: total_bal_ex_mort, Length: 194363, dtype: int64"
      ]
     },
     "execution_count": 16,
     "metadata": {},
     "output_type": "execute_result"
    }
   ],
   "source": [
    "df_sel['total_bal_ex_mort'].value_counts()"
   ]
  },
  {
   "cell_type": "code",
   "execution_count": 17,
   "metadata": {},
   "outputs": [
    {
     "data": {
      "text/plain": [
       "0.0        73131\n",
       "5000.0     16656\n",
       "6000.0     14857\n",
       "10000.0    14392\n",
       "7000.0     14119\n",
       "           ...  \n",
       "38144.0        1\n",
       "38143.0        1\n",
       "38132.0        1\n",
       "38130.0        1\n",
       "29778.0        1\n",
       "Name: total_bc_limit, Length: 18408, dtype: int64"
      ]
     },
     "execution_count": 17,
     "metadata": {},
     "output_type": "execute_result"
    }
   ],
   "source": [
    "df_sel['total_bc_limit'].value_counts()"
   ]
  },
  {
   "cell_type": "code",
   "execution_count": 18,
   "metadata": {},
   "outputs": [
    {
     "data": {
      "text/plain": [
       "0.0         324857\n",
       "10000.0      13083\n",
       "15000.0       9912\n",
       "5000.0        8071\n",
       "20000.0       7998\n",
       "             ...  \n",
       "211627.0         1\n",
       "211619.0         1\n",
       "211611.0         1\n",
       "211608.0         1\n",
       "194698.0         1\n",
       "Name: total_il_high_credit_limit, Length: 179974, dtype: int64"
      ]
     },
     "execution_count": 18,
     "metadata": {},
     "output_type": "execute_result"
    }
   ],
   "source": [
    "df_sel['total_il_high_credit_limit'].value_counts()"
   ]
  },
  {
   "cell_type": "code",
   "execution_count": 19,
   "metadata": {},
   "outputs": [
    {
     "data": {
      "text/plain": [
       "0.0         2045053\n",
       "20804.0          10\n",
       "21072.0           9\n",
       "11771.0           9\n",
       "10041.0           9\n",
       "             ...   \n",
       "29454.0           1\n",
       "29455.0           1\n",
       "29456.0           1\n",
       "29458.0           1\n",
       "130981.0          1\n",
       "Name: revol_bal_joint, Length: 55621, dtype: int64"
      ]
     },
     "execution_count": 19,
     "metadata": {},
     "output_type": "execute_result"
    }
   ],
   "source": [
    "df_sel['revol_bal_joint'].value_counts()"
   ]
  },
  {
   "cell_type": "code",
   "execution_count": 20,
   "metadata": {},
   "outputs": [
    {
     "data": {
      "text/plain": [
       "0.00      2140534\n",
       "94.59           5\n",
       "48.56           5\n",
       "53.05           5\n",
       "69.90           5\n",
       "           ...   \n",
       "101.21          1\n",
       "482.40          1\n",
       "156.07          1\n",
       "568.60          1\n",
       "420.62          1\n",
       "Name: hardship_amount, Length: 8553, dtype: int64"
      ]
     },
     "execution_count": 20,
     "metadata": {},
     "output_type": "execute_result"
    }
   ],
   "source": [
    "df_sel['hardship_amount'].value_counts()"
   ]
  },
  {
   "cell_type": "code",
   "execution_count": 21,
   "metadata": {},
   "outputs": [
    {
     "data": {
      "text/plain": [
       "0.00      2140534\n",
       "0.02           25\n",
       "0.03           25\n",
       "0.12           23\n",
       "0.11           22\n",
       "           ...   \n",
       "482.10          1\n",
       "575.35          1\n",
       "157.82          1\n",
       "73.23           1\n",
       "373.61          1\n",
       "Name: hardship_last_payment_amount, Length: 8388, dtype: int64"
      ]
     },
     "execution_count": 21,
     "metadata": {},
     "output_type": "execute_result"
    }
   ],
   "source": [
    "df_sel['hardship_last_payment_amount'].value_counts()"
   ]
  },
  {
   "cell_type": "code",
   "execution_count": 22,
   "metadata": {},
   "outputs": [
    {
     "data": {
      "text/plain": [
       "0.00        2118442\n",
       "5000.00          61\n",
       "4000.00          49\n",
       "3000.00          48\n",
       "6000.00          47\n",
       "             ...   \n",
       "10857.25          1\n",
       "10858.00          1\n",
       "1048.80           1\n",
       "1600.01           1\n",
       "6226.00           1\n",
       "Name: settlement_amount, Length: 21005, dtype: int64"
      ]
     },
     "execution_count": 22,
     "metadata": {},
     "output_type": "execute_result"
    }
   ],
   "source": [
    "df_sel['settlement_amount'].value_counts()"
   ]
  },
  {
   "cell_type": "code",
   "execution_count": 23,
   "metadata": {},
   "outputs": [
    {
     "data": {
      "text/plain": [
       "Fully Paid                                             994300\n",
       "Current                                                867316\n",
       "Charged Off                                            253510\n",
       "Late (31-120 days)                                      20918\n",
       "In Grace Period                                          8418\n",
       "Late (16-30 days)                                        3533\n",
       "Does not meet the credit policy. Status:Fully Paid       1886\n",
       "Does not meet the credit policy. Status:Charged Off       715\n",
       "Default                                                    31\n",
       "Name: loan_status, dtype: int64"
      ]
     },
     "execution_count": 23,
     "metadata": {},
     "output_type": "execute_result"
    }
   ],
   "source": [
    "df_sel['loan_status'].value_counts()"
   ]
  },
  {
   "cell_type": "code",
   "execution_count": 24,
   "metadata": {},
   "outputs": [
    {
     "data": {
      "text/plain": [
       "(2150627, 84)"
      ]
     },
     "execution_count": 24,
     "metadata": {},
     "output_type": "execute_result"
    }
   ],
   "source": [
    "df_sel.shape"
   ]
  },
  {
   "cell_type": "code",
   "execution_count": 25,
   "metadata": {},
   "outputs": [
    {
     "data": {
      "text/plain": [
       "(1250411, 84)"
      ]
     },
     "execution_count": 25,
     "metadata": {},
     "output_type": "execute_result"
    }
   ],
   "source": [
    "# Dropping irrelevant loan_status\n",
    "\n",
    "df_sel.reset_index()\n",
    "df_sel = df_sel[~(df_sel['loan_status'] == 'In Grace Period')]\n",
    "df_sel = df_sel[~(df_sel['loan_status'] == 'Current')]\n",
    "df_sel = df_sel[~(df_sel['loan_status'] == 'Late (31-120 days)')]\n",
    "df_sel = df_sel[~(df_sel['loan_status'] == 'Default')]\n",
    "df_sel = df_sel[~(df_sel['loan_status'] == 'Late (16-30 days)')]\n",
    "df_sel.shape"
   ]
  },
  {
   "cell_type": "code",
   "execution_count": 26,
   "metadata": {},
   "outputs": [
    {
     "data": {
      "text/plain": [
       "Fully Paid                                             994300\n",
       "Charged Off                                            253510\n",
       "Does not meet the credit policy. Status:Fully Paid       1886\n",
       "Does not meet the credit policy. Status:Charged Off       715\n",
       "Name: loan_status, dtype: int64"
      ]
     },
     "execution_count": 26,
     "metadata": {},
     "output_type": "execute_result"
    }
   ],
   "source": [
    "df_sel['loan_status'].value_counts()"
   ]
  },
  {
   "cell_type": "code",
   "execution_count": 27,
   "metadata": {},
   "outputs": [],
   "source": [
    "# Setting '%Fully Paid' to 0\n",
    "# Setting '%Charges Off' to 1\n",
    "\n",
    "df_sel['loan_status'] = df_sel['loan_status'].replace(['Fully Paid', 'Does not meet the credit policy. Status:Fully Paid'], '0')\n",
    "df_sel['loan_status'] = df_sel['loan_status'].replace(['Charged Off', 'Does not meet the credit policy. Status:Charged Off'], '1')"
   ]
  },
  {
   "cell_type": "code",
   "execution_count": 28,
   "metadata": {},
   "outputs": [
    {
     "data": {
      "text/plain": [
       "0    996186\n",
       "1    254225\n",
       "Name: loan_status, dtype: int64"
      ]
     },
     "execution_count": 28,
     "metadata": {},
     "output_type": "execute_result"
    }
   ],
   "source": [
    "df_sel['loan_status'].value_counts()"
   ]
  },
  {
   "cell_type": "code",
   "execution_count": 29,
   "metadata": {},
   "outputs": [],
   "source": [
    "df_sel['loan_status'] = pd.to_numeric(df_sel['loan_status'])"
   ]
  },
  {
   "cell_type": "code",
   "execution_count": 30,
   "metadata": {},
   "outputs": [
    {
     "name": "stdout",
     "output_type": "stream",
     "text": [
      "<class 'pandas.core.frame.DataFrame'>\n",
      "Int64Index: 1250411 entries, 100 to 2260664\n",
      "Data columns (total 84 columns):\n",
      " #   Column                                      Non-Null Count    Dtype  \n",
      "---  ------                                      --------------    -----  \n",
      " 0   loan_amnt                                   1250411 non-null  int64  \n",
      " 1   int_rate                                    1250411 non-null  float64\n",
      " 2   annual_inc                                  1250411 non-null  float64\n",
      " 3   dti                                         1250411 non-null  float64\n",
      " 4   delinq_2yrs                                 1250411 non-null  float64\n",
      " 5   inq_last_6mths                              1250411 non-null  float64\n",
      " 6   mths_since_last_delinq                      1250411 non-null  float64\n",
      " 7   mths_since_last_record                      1250411 non-null  float64\n",
      " 8   pub_rec                                     1250411 non-null  float64\n",
      " 9   revol_bal                                   1250411 non-null  int64  \n",
      " 10  revol_util                                  1250411 non-null  float64\n",
      " 11  out_prncp                                   1250411 non-null  float64\n",
      " 12  total_pymnt                                 1250411 non-null  float64\n",
      " 13  total_rec_int                               1250411 non-null  float64\n",
      " 14  recoveries                                  1250411 non-null  float64\n",
      " 15  last_pymnt_amnt                             1250411 non-null  float64\n",
      " 16  collections_12_mths_ex_med                  1250411 non-null  float64\n",
      " 17  mths_since_last_major_derog                 1250411 non-null  float64\n",
      " 18  annual_inc_joint                            1250411 non-null  float64\n",
      " 19  dti_joint                                   1250411 non-null  float64\n",
      " 20  acc_now_delinq                              1250411 non-null  float64\n",
      " 21  tot_coll_amt                                1250411 non-null  float64\n",
      " 22  tot_cur_bal                                 1250411 non-null  float64\n",
      " 23  open_acc_6m                                 1250411 non-null  float64\n",
      " 24  open_act_il                                 1250411 non-null  float64\n",
      " 25  total_bal_il                                1250411 non-null  float64\n",
      " 26  il_util                                     1250411 non-null  float64\n",
      " 27  max_bal_bc                                  1250411 non-null  float64\n",
      " 28  all_util                                    1250411 non-null  float64\n",
      " 29  total_rev_hi_lim                            1250411 non-null  float64\n",
      " 30  inq_fi                                      1250411 non-null  float64\n",
      " 31  inq_last_12m                                1250411 non-null  float64\n",
      " 32  avg_cur_bal                                 1250411 non-null  float64\n",
      " 33  bc_util                                     1250411 non-null  float64\n",
      " 34  chargeoff_within_12_mths                    1250411 non-null  float64\n",
      " 35  delinq_amnt                                 1250411 non-null  float64\n",
      " 36  mths_since_recent_bc_dlq                    1250411 non-null  float64\n",
      " 37  mths_since_recent_inq                       1250411 non-null  float64\n",
      " 38  mths_since_recent_revol_delinq              1250411 non-null  float64\n",
      " 39  num_accts_ever_120_pd                       1250411 non-null  float64\n",
      " 40  num_tl_120dpd_2m                            1250411 non-null  float64\n",
      " 41  num_tl_30dpd                                1250411 non-null  float64\n",
      " 42  num_tl_90g_dpd_24m                          1250411 non-null  float64\n",
      " 43  pct_tl_nvr_dlq                              1250411 non-null  float64\n",
      " 44  percent_bc_gt_75                            1250411 non-null  float64\n",
      " 45  pub_rec_bankruptcies                        1250411 non-null  float64\n",
      " 46  tax_liens                                   1250411 non-null  float64\n",
      " 47  total_bal_ex_mort                           1250411 non-null  float64\n",
      " 48  total_bc_limit                              1250411 non-null  float64\n",
      " 49  total_il_high_credit_limit                  1250411 non-null  float64\n",
      " 50  revol_bal_joint                             1250411 non-null  float64\n",
      " 51  sec_app_inq_last_6mths                      1250411 non-null  float64\n",
      " 52  sec_app_mort_acc                            1250411 non-null  float64\n",
      " 53  sec_app_open_acc                            1250411 non-null  float64\n",
      " 54  sec_app_revol_util                          1250411 non-null  float64\n",
      " 55  sec_app_open_act_il                         1250411 non-null  float64\n",
      " 56  sec_app_chargeoff_within_12_mths            1250411 non-null  float64\n",
      " 57  sec_app_collections_12_mths_ex_med          1250411 non-null  float64\n",
      " 58  sec_app_mths_since_last_major_derog         1250411 non-null  float64\n",
      " 59  deferral_term                               1250411 non-null  float64\n",
      " 60  hardship_amount                             1250411 non-null  float64\n",
      " 61  hardship_dpd                                1250411 non-null  float64\n",
      " 62  orig_projected_additional_accrued_interest  1250411 non-null  float64\n",
      " 63  hardship_last_payment_amount                1250411 non-null  float64\n",
      " 64  settlement_amount                           1250411 non-null  float64\n",
      " 65  settlement_percentage                       1250411 non-null  float64\n",
      " 66  settlement_term                             1250411 non-null  float64\n",
      " 67  term                                        1250411 non-null  object \n",
      " 68  grade                                       1250411 non-null  object \n",
      " 69  sub_grade                                   1250411 non-null  object \n",
      " 70  home_ownership                              1250411 non-null  object \n",
      " 71  verification_status                         1250411 non-null  object \n",
      " 72  loan_status                                 1250411 non-null  int64  \n",
      " 73  pymnt_plan                                  1250411 non-null  object \n",
      " 74  initial_list_status                         1250411 non-null  object \n",
      " 75  application_type                            1250411 non-null  object \n",
      " 76  verification_status_joint                   22734 non-null    object \n",
      " 77  hardship_flag                               1250411 non-null  object \n",
      " 78  hardship_type                               5092 non-null     object \n",
      " 79  hardship_reason                             5092 non-null     object \n",
      " 80  hardship_status                             5092 non-null     object \n",
      " 81  hardship_loan_status                        5092 non-null     object \n",
      " 82  debt_settlement_flag                        1250411 non-null  object \n",
      " 83  settlement_status                           31165 non-null    object \n",
      "dtypes: float64(65), int64(3), object(16)\n",
      "memory usage: 810.9+ MB\n"
     ]
    }
   ],
   "source": [
    "df_sel.info()"
   ]
  },
  {
   "cell_type": "code",
   "execution_count": null,
   "metadata": {},
   "outputs": [],
   "source": []
  },
  {
   "cell_type": "code",
   "execution_count": 31,
   "metadata": {},
   "outputs": [
    {
     "data": {
      "text/plain": [
       "['term',\n",
       " 'grade',\n",
       " 'sub_grade',\n",
       " 'home_ownership',\n",
       " 'verification_status',\n",
       " 'pymnt_plan',\n",
       " 'initial_list_status',\n",
       " 'application_type',\n",
       " 'verification_status_joint',\n",
       " 'hardship_flag',\n",
       " 'hardship_type',\n",
       " 'hardship_reason',\n",
       " 'hardship_status',\n",
       " 'hardship_loan_status',\n",
       " 'debt_settlement_flag',\n",
       " 'settlement_status']"
      ]
     },
     "execution_count": 31,
     "metadata": {},
     "output_type": "execute_result"
    }
   ],
   "source": [
    "# Create a list of object columns.  Exclude response variable 'loan_status'\n",
    "cols_obj = []\n",
    "for col in df_sel.columns:\n",
    "    if df_sel[col].dtype == object:\n",
    "        cols_obj.append(col)\n",
    "#cols_obj.remove('loan_status')\n",
    "cols_obj"
   ]
  },
  {
   "cell_type": "code",
   "execution_count": 32,
   "metadata": {},
   "outputs": [
    {
     "data": {
      "text/html": [
       "<div>\n",
       "<style scoped>\n",
       "    .dataframe tbody tr th:only-of-type {\n",
       "        vertical-align: middle;\n",
       "    }\n",
       "\n",
       "    .dataframe tbody tr th {\n",
       "        vertical-align: top;\n",
       "    }\n",
       "\n",
       "    .dataframe thead th {\n",
       "        text-align: right;\n",
       "    }\n",
       "</style>\n",
       "<table border=\"1\" class=\"dataframe\">\n",
       "  <thead>\n",
       "    <tr style=\"text-align: right;\">\n",
       "      <th></th>\n",
       "      <th>loan_amnt</th>\n",
       "      <th>int_rate</th>\n",
       "      <th>annual_inc</th>\n",
       "      <th>dti</th>\n",
       "      <th>delinq_2yrs</th>\n",
       "      <th>inq_last_6mths</th>\n",
       "      <th>mths_since_last_delinq</th>\n",
       "      <th>mths_since_last_record</th>\n",
       "      <th>pub_rec</th>\n",
       "      <th>revol_bal</th>\n",
       "      <th>...</th>\n",
       "      <th>hardship_loan_status_Current</th>\n",
       "      <th>hardship_loan_status_In Grace Period</th>\n",
       "      <th>hardship_loan_status_Issued</th>\n",
       "      <th>hardship_loan_status_Late (16-30 days)</th>\n",
       "      <th>hardship_loan_status_Late (31-120 days)</th>\n",
       "      <th>debt_settlement_flag_N</th>\n",
       "      <th>debt_settlement_flag_Y</th>\n",
       "      <th>settlement_status_ACTIVE</th>\n",
       "      <th>settlement_status_BROKEN</th>\n",
       "      <th>settlement_status_COMPLETE</th>\n",
       "    </tr>\n",
       "  </thead>\n",
       "  <tbody>\n",
       "    <tr>\n",
       "      <th>100</th>\n",
       "      <td>30000</td>\n",
       "      <td>22.35</td>\n",
       "      <td>100000.0</td>\n",
       "      <td>30.46</td>\n",
       "      <td>0.0</td>\n",
       "      <td>0.0</td>\n",
       "      <td>51.0</td>\n",
       "      <td>84.0</td>\n",
       "      <td>1.0</td>\n",
       "      <td>15603</td>\n",
       "      <td>...</td>\n",
       "      <td>0</td>\n",
       "      <td>0</td>\n",
       "      <td>0</td>\n",
       "      <td>0</td>\n",
       "      <td>0</td>\n",
       "      <td>1</td>\n",
       "      <td>0</td>\n",
       "      <td>0</td>\n",
       "      <td>0</td>\n",
       "      <td>0</td>\n",
       "    </tr>\n",
       "    <tr>\n",
       "      <th>152</th>\n",
       "      <td>40000</td>\n",
       "      <td>16.14</td>\n",
       "      <td>45000.0</td>\n",
       "      <td>50.53</td>\n",
       "      <td>0.0</td>\n",
       "      <td>0.0</td>\n",
       "      <td>0.0</td>\n",
       "      <td>0.0</td>\n",
       "      <td>0.0</td>\n",
       "      <td>34971</td>\n",
       "      <td>...</td>\n",
       "      <td>0</td>\n",
       "      <td>0</td>\n",
       "      <td>0</td>\n",
       "      <td>0</td>\n",
       "      <td>0</td>\n",
       "      <td>1</td>\n",
       "      <td>0</td>\n",
       "      <td>0</td>\n",
       "      <td>0</td>\n",
       "      <td>0</td>\n",
       "    </tr>\n",
       "    <tr>\n",
       "      <th>170</th>\n",
       "      <td>20000</td>\n",
       "      <td>7.56</td>\n",
       "      <td>100000.0</td>\n",
       "      <td>18.92</td>\n",
       "      <td>0.0</td>\n",
       "      <td>0.0</td>\n",
       "      <td>48.0</td>\n",
       "      <td>0.0</td>\n",
       "      <td>0.0</td>\n",
       "      <td>25416</td>\n",
       "      <td>...</td>\n",
       "      <td>0</td>\n",
       "      <td>0</td>\n",
       "      <td>0</td>\n",
       "      <td>0</td>\n",
       "      <td>0</td>\n",
       "      <td>1</td>\n",
       "      <td>0</td>\n",
       "      <td>0</td>\n",
       "      <td>0</td>\n",
       "      <td>0</td>\n",
       "    </tr>\n",
       "    <tr>\n",
       "      <th>186</th>\n",
       "      <td>4500</td>\n",
       "      <td>11.31</td>\n",
       "      <td>38500.0</td>\n",
       "      <td>4.64</td>\n",
       "      <td>0.0</td>\n",
       "      <td>0.0</td>\n",
       "      <td>25.0</td>\n",
       "      <td>0.0</td>\n",
       "      <td>0.0</td>\n",
       "      <td>4472</td>\n",
       "      <td>...</td>\n",
       "      <td>0</td>\n",
       "      <td>0</td>\n",
       "      <td>0</td>\n",
       "      <td>0</td>\n",
       "      <td>0</td>\n",
       "      <td>1</td>\n",
       "      <td>0</td>\n",
       "      <td>0</td>\n",
       "      <td>0</td>\n",
       "      <td>0</td>\n",
       "    </tr>\n",
       "    <tr>\n",
       "      <th>269</th>\n",
       "      <td>20000</td>\n",
       "      <td>17.97</td>\n",
       "      <td>57000.0</td>\n",
       "      <td>22.18</td>\n",
       "      <td>0.0</td>\n",
       "      <td>0.0</td>\n",
       "      <td>0.0</td>\n",
       "      <td>0.0</td>\n",
       "      <td>0.0</td>\n",
       "      <td>33356</td>\n",
       "      <td>...</td>\n",
       "      <td>0</td>\n",
       "      <td>0</td>\n",
       "      <td>0</td>\n",
       "      <td>0</td>\n",
       "      <td>0</td>\n",
       "      <td>1</td>\n",
       "      <td>0</td>\n",
       "      <td>0</td>\n",
       "      <td>0</td>\n",
       "      <td>0</td>\n",
       "    </tr>\n",
       "  </tbody>\n",
       "</table>\n",
       "<p>5 rows × 154 columns</p>\n",
       "</div>"
      ],
      "text/plain": [
       "     loan_amnt  int_rate  annual_inc    dti  delinq_2yrs  inq_last_6mths  \\\n",
       "100      30000     22.35    100000.0  30.46          0.0             0.0   \n",
       "152      40000     16.14     45000.0  50.53          0.0             0.0   \n",
       "170      20000      7.56    100000.0  18.92          0.0             0.0   \n",
       "186       4500     11.31     38500.0   4.64          0.0             0.0   \n",
       "269      20000     17.97     57000.0  22.18          0.0             0.0   \n",
       "\n",
       "     mths_since_last_delinq  mths_since_last_record  pub_rec  revol_bal  ...  \\\n",
       "100                    51.0                    84.0      1.0      15603  ...   \n",
       "152                     0.0                     0.0      0.0      34971  ...   \n",
       "170                    48.0                     0.0      0.0      25416  ...   \n",
       "186                    25.0                     0.0      0.0       4472  ...   \n",
       "269                     0.0                     0.0      0.0      33356  ...   \n",
       "\n",
       "     hardship_loan_status_Current  hardship_loan_status_In Grace Period  \\\n",
       "100                             0                                     0   \n",
       "152                             0                                     0   \n",
       "170                             0                                     0   \n",
       "186                             0                                     0   \n",
       "269                             0                                     0   \n",
       "\n",
       "     hardship_loan_status_Issued  hardship_loan_status_Late (16-30 days)  \\\n",
       "100                            0                                       0   \n",
       "152                            0                                       0   \n",
       "170                            0                                       0   \n",
       "186                            0                                       0   \n",
       "269                            0                                       0   \n",
       "\n",
       "     hardship_loan_status_Late (31-120 days)  debt_settlement_flag_N  \\\n",
       "100                                        0                       1   \n",
       "152                                        0                       1   \n",
       "170                                        0                       1   \n",
       "186                                        0                       1   \n",
       "269                                        0                       1   \n",
       "\n",
       "     debt_settlement_flag_Y  settlement_status_ACTIVE  \\\n",
       "100                       0                         0   \n",
       "152                       0                         0   \n",
       "170                       0                         0   \n",
       "186                       0                         0   \n",
       "269                       0                         0   \n",
       "\n",
       "     settlement_status_BROKEN  settlement_status_COMPLETE  \n",
       "100                         0                           0  \n",
       "152                         0                           0  \n",
       "170                         0                           0  \n",
       "186                         0                           0  \n",
       "269                         0                           0  \n",
       "\n",
       "[5 rows x 154 columns]"
      ]
     },
     "execution_count": 32,
     "metadata": {},
     "output_type": "execute_result"
    }
   ],
   "source": [
    "df_sel = pd.concat([df_sel.drop(cols_obj, axis=1), pd.get_dummies(df_sel[cols_obj])], axis=1)\n",
    "df_sel.head(5)"
   ]
  },
  {
   "cell_type": "code",
   "execution_count": 33,
   "metadata": {},
   "outputs": [
    {
     "data": {
      "text/html": [
       "<div>\n",
       "<style scoped>\n",
       "    .dataframe tbody tr th:only-of-type {\n",
       "        vertical-align: middle;\n",
       "    }\n",
       "\n",
       "    .dataframe tbody tr th {\n",
       "        vertical-align: top;\n",
       "    }\n",
       "\n",
       "    .dataframe thead th {\n",
       "        text-align: right;\n",
       "    }\n",
       "</style>\n",
       "<table border=\"1\" class=\"dataframe\">\n",
       "  <thead>\n",
       "    <tr style=\"text-align: right;\">\n",
       "      <th></th>\n",
       "      <th>loan_amnt</th>\n",
       "      <th>int_rate</th>\n",
       "      <th>annual_inc</th>\n",
       "      <th>dti</th>\n",
       "      <th>delinq_2yrs</th>\n",
       "      <th>inq_last_6mths</th>\n",
       "      <th>mths_since_last_delinq</th>\n",
       "      <th>mths_since_last_record</th>\n",
       "      <th>pub_rec</th>\n",
       "      <th>revol_bal</th>\n",
       "      <th>...</th>\n",
       "      <th>hardship_loan_status_Current</th>\n",
       "      <th>hardship_loan_status_In Grace Period</th>\n",
       "      <th>hardship_loan_status_Issued</th>\n",
       "      <th>hardship_loan_status_Late (16-30 days)</th>\n",
       "      <th>hardship_loan_status_Late (31-120 days)</th>\n",
       "      <th>debt_settlement_flag_N</th>\n",
       "      <th>debt_settlement_flag_Y</th>\n",
       "      <th>settlement_status_ACTIVE</th>\n",
       "      <th>settlement_status_BROKEN</th>\n",
       "      <th>settlement_status_COMPLETE</th>\n",
       "    </tr>\n",
       "  </thead>\n",
       "  <tbody>\n",
       "    <tr>\n",
       "      <th>1318331</th>\n",
       "      <td>6000</td>\n",
       "      <td>14.31</td>\n",
       "      <td>60000.0</td>\n",
       "      <td>19.70</td>\n",
       "      <td>0.0</td>\n",
       "      <td>0.0</td>\n",
       "      <td>33.0</td>\n",
       "      <td>0.0</td>\n",
       "      <td>0.0</td>\n",
       "      <td>3497</td>\n",
       "      <td>...</td>\n",
       "      <td>0</td>\n",
       "      <td>0</td>\n",
       "      <td>0</td>\n",
       "      <td>0</td>\n",
       "      <td>0</td>\n",
       "      <td>1</td>\n",
       "      <td>0</td>\n",
       "      <td>0</td>\n",
       "      <td>0</td>\n",
       "      <td>0</td>\n",
       "    </tr>\n",
       "    <tr>\n",
       "      <th>2063326</th>\n",
       "      <td>18500</td>\n",
       "      <td>11.99</td>\n",
       "      <td>85000.0</td>\n",
       "      <td>5.84</td>\n",
       "      <td>1.0</td>\n",
       "      <td>0.0</td>\n",
       "      <td>22.0</td>\n",
       "      <td>0.0</td>\n",
       "      <td>0.0</td>\n",
       "      <td>14176</td>\n",
       "      <td>...</td>\n",
       "      <td>0</td>\n",
       "      <td>0</td>\n",
       "      <td>0</td>\n",
       "      <td>0</td>\n",
       "      <td>0</td>\n",
       "      <td>1</td>\n",
       "      <td>0</td>\n",
       "      <td>0</td>\n",
       "      <td>0</td>\n",
       "      <td>0</td>\n",
       "    </tr>\n",
       "    <tr>\n",
       "      <th>1806310</th>\n",
       "      <td>12075</td>\n",
       "      <td>12.12</td>\n",
       "      <td>45000.0</td>\n",
       "      <td>29.43</td>\n",
       "      <td>0.0</td>\n",
       "      <td>0.0</td>\n",
       "      <td>0.0</td>\n",
       "      <td>0.0</td>\n",
       "      <td>0.0</td>\n",
       "      <td>35382</td>\n",
       "      <td>...</td>\n",
       "      <td>0</td>\n",
       "      <td>0</td>\n",
       "      <td>0</td>\n",
       "      <td>0</td>\n",
       "      <td>0</td>\n",
       "      <td>1</td>\n",
       "      <td>0</td>\n",
       "      <td>0</td>\n",
       "      <td>0</td>\n",
       "      <td>0</td>\n",
       "    </tr>\n",
       "    <tr>\n",
       "      <th>1113587</th>\n",
       "      <td>28000</td>\n",
       "      <td>6.24</td>\n",
       "      <td>110000.0</td>\n",
       "      <td>18.12</td>\n",
       "      <td>0.0</td>\n",
       "      <td>2.0</td>\n",
       "      <td>0.0</td>\n",
       "      <td>0.0</td>\n",
       "      <td>0.0</td>\n",
       "      <td>23249</td>\n",
       "      <td>...</td>\n",
       "      <td>0</td>\n",
       "      <td>0</td>\n",
       "      <td>0</td>\n",
       "      <td>0</td>\n",
       "      <td>0</td>\n",
       "      <td>1</td>\n",
       "      <td>0</td>\n",
       "      <td>0</td>\n",
       "      <td>0</td>\n",
       "      <td>0</td>\n",
       "    </tr>\n",
       "    <tr>\n",
       "      <th>1692661</th>\n",
       "      <td>15850</td>\n",
       "      <td>19.52</td>\n",
       "      <td>69000.0</td>\n",
       "      <td>29.77</td>\n",
       "      <td>0.0</td>\n",
       "      <td>2.0</td>\n",
       "      <td>0.0</td>\n",
       "      <td>0.0</td>\n",
       "      <td>0.0</td>\n",
       "      <td>16721</td>\n",
       "      <td>...</td>\n",
       "      <td>0</td>\n",
       "      <td>0</td>\n",
       "      <td>0</td>\n",
       "      <td>0</td>\n",
       "      <td>0</td>\n",
       "      <td>1</td>\n",
       "      <td>0</td>\n",
       "      <td>0</td>\n",
       "      <td>0</td>\n",
       "      <td>0</td>\n",
       "    </tr>\n",
       "  </tbody>\n",
       "</table>\n",
       "<p>5 rows × 154 columns</p>\n",
       "</div>"
      ],
      "text/plain": [
       "         loan_amnt  int_rate  annual_inc    dti  delinq_2yrs  inq_last_6mths  \\\n",
       "1318331       6000     14.31     60000.0  19.70          0.0             0.0   \n",
       "2063326      18500     11.99     85000.0   5.84          1.0             0.0   \n",
       "1806310      12075     12.12     45000.0  29.43          0.0             0.0   \n",
       "1113587      28000      6.24    110000.0  18.12          0.0             2.0   \n",
       "1692661      15850     19.52     69000.0  29.77          0.0             2.0   \n",
       "\n",
       "         mths_since_last_delinq  mths_since_last_record  pub_rec  revol_bal  \\\n",
       "1318331                    33.0                     0.0      0.0       3497   \n",
       "2063326                    22.0                     0.0      0.0      14176   \n",
       "1806310                     0.0                     0.0      0.0      35382   \n",
       "1113587                     0.0                     0.0      0.0      23249   \n",
       "1692661                     0.0                     0.0      0.0      16721   \n",
       "\n",
       "         ...  hardship_loan_status_Current  \\\n",
       "1318331  ...                             0   \n",
       "2063326  ...                             0   \n",
       "1806310  ...                             0   \n",
       "1113587  ...                             0   \n",
       "1692661  ...                             0   \n",
       "\n",
       "         hardship_loan_status_In Grace Period  hardship_loan_status_Issued  \\\n",
       "1318331                                     0                            0   \n",
       "2063326                                     0                            0   \n",
       "1806310                                     0                            0   \n",
       "1113587                                     0                            0   \n",
       "1692661                                     0                            0   \n",
       "\n",
       "         hardship_loan_status_Late (16-30 days)  \\\n",
       "1318331                                       0   \n",
       "2063326                                       0   \n",
       "1806310                                       0   \n",
       "1113587                                       0   \n",
       "1692661                                       0   \n",
       "\n",
       "         hardship_loan_status_Late (31-120 days)  debt_settlement_flag_N  \\\n",
       "1318331                                        0                       1   \n",
       "2063326                                        0                       1   \n",
       "1806310                                        0                       1   \n",
       "1113587                                        0                       1   \n",
       "1692661                                        0                       1   \n",
       "\n",
       "         debt_settlement_flag_Y  settlement_status_ACTIVE  \\\n",
       "1318331                       0                         0   \n",
       "2063326                       0                         0   \n",
       "1806310                       0                         0   \n",
       "1113587                       0                         0   \n",
       "1692661                       0                         0   \n",
       "\n",
       "         settlement_status_BROKEN  settlement_status_COMPLETE  \n",
       "1318331                         0                           0  \n",
       "2063326                         0                           0  \n",
       "1806310                         0                           0  \n",
       "1113587                         0                           0  \n",
       "1692661                         0                           0  \n",
       "\n",
       "[5 rows x 154 columns]"
      ]
     },
     "execution_count": 33,
     "metadata": {},
     "output_type": "execute_result"
    }
   ],
   "source": [
    "# Using a sample size of 200,000 for modeling, due to Memory error when using all observations.\n",
    "df_sample = df_sel.sample(200000)\n",
    "df_sample.head()"
   ]
  },
  {
   "cell_type": "code",
   "execution_count": 34,
   "metadata": {},
   "outputs": [],
   "source": [
    "y = df_sample['loan_status']\n",
    "X = df_sample.drop(['loan_status'], axis=1)"
   ]
  },
  {
   "cell_type": "code",
   "execution_count": 35,
   "metadata": {},
   "outputs": [],
   "source": [
    "from sklearn.model_selection import train_test_split\n",
    "\n",
    "y = y.ravel()\n",
    "X_train, X_test, y_train, y_test = train_test_split(X, y, test_size=0.25, random_state=1)"
   ]
  },
  {
   "cell_type": "code",
   "execution_count": 36,
   "metadata": {},
   "outputs": [
    {
     "data": {
      "text/plain": [
       "array([[-0.95081311, -0.48456093, -1.40449803, ..., -0.10244843,\n",
       "        -0.06105058, -0.10251486],\n",
       "       [-0.47566664,  0.008189  , -0.01587412, ..., -0.10244843,\n",
       "        -0.06105058, -0.10251486],\n",
       "       [-0.47566664, -0.97309932, -0.30651633, ..., -0.10244843,\n",
       "        -0.06105058, -0.10251486],\n",
       "       ...,\n",
       "       [ 0.35583969,  0.14716975,  0.30706167, ..., -0.10244843,\n",
       "        -0.06105058, -0.10251486],\n",
       "       [-0.2380934 , -0.47192632,  2.05091495, ..., -0.10244843,\n",
       "        -0.06105058, -0.10251486],\n",
       "       [ 0.11826645, -1.1373493 , -0.16119523, ..., -0.10244843,\n",
       "        -0.06105058, -0.10251486]])"
      ]
     },
     "execution_count": 36,
     "metadata": {},
     "output_type": "execute_result"
    }
   ],
   "source": [
    "from sklearn import preprocessing as ppg\n",
    "\n",
    "scaler = ppg.StandardScaler().fit(X_train)\n",
    "X_train_scaled=scaler.transform(X_train)\n",
    "X_train_scaled"
   ]
  },
  {
   "cell_type": "code",
   "execution_count": 37,
   "metadata": {},
   "outputs": [
    {
     "data": {
      "text/plain": [
       "array([[-0.47566664,  1.31165996, -0.19361798, ..., -0.10244843,\n",
       "        -0.06105058, -0.10251486],\n",
       "       [ 1.30613264,  0.57464084, -0.27422275, ..., -0.10244843,\n",
       "        -0.06105058, -0.10251486],\n",
       "       [-0.11930678, -1.076282  ,  0.37164883, ..., -0.10244843,\n",
       "        -0.06105058, -0.10251486],\n",
       "       ...,\n",
       "       [-0.47566664, -1.27001274, -0.40339707, ..., -0.10244843,\n",
       "        -0.06105058, -0.10251486],\n",
       "       [-0.90329847, -0.37084941, -0.85550718, ..., -0.10244843,\n",
       "        -0.06105058, -0.10251486],\n",
       "       [ 0.01729783, -1.34792619,  0.98522684, ..., -0.10244843,\n",
       "        -0.06105058, -0.10251486]])"
      ]
     },
     "execution_count": 37,
     "metadata": {},
     "output_type": "execute_result"
    }
   ],
   "source": [
    "X_test_scaled = scaler.transform(X_test)\n",
    "X_test_scaled"
   ]
  },
  {
   "cell_type": "code",
   "execution_count": null,
   "metadata": {},
   "outputs": [],
   "source": []
  },
  {
   "cell_type": "markdown",
   "metadata": {},
   "source": [
    "# Logistic Regression"
   ]
  },
  {
   "cell_type": "code",
   "execution_count": 38,
   "metadata": {},
   "outputs": [
    {
     "name": "stdout",
     "output_type": "stream",
     "text": [
      "Tuned Logistic Regression Parameters: {'C': 100}\n",
      "Best score is 0.9952799999999999\n",
      "Accuracy score is 0.99576\n"
     ]
    }
   ],
   "source": [
    "# Using K fold cross validation and Grid search to get the most accurate prediction\n",
    "\n",
    "from sklearn.linear_model import LogisticRegression\n",
    "from sklearn.metrics import accuracy_score\n",
    "from sklearn.model_selection import GridSearchCV\n",
    "\n",
    "#the grid of parameters to search over\n",
    "Cs = [0.001, 0.1, 1, 10, 100]\n",
    "\n",
    "param_grid = {'C': Cs}\n",
    "logreg = LogisticRegression()\n",
    "logreg_cv = GridSearchCV(logreg, param_grid, cv=5)\n",
    "logreg_cv.fit(X_train_scaled, y_train)\n",
    "print(\"Tuned Logistic Regression Parameters: {}\".format(logreg_cv.best_params_)) \n",
    "print(\"Best score is {}\".format(logreg_cv.best_score_))\n",
    "# Print the accuracy from the testing data.\n",
    "print(\"Accuracy score is {}\".format(accuracy_score(logreg_cv.predict(X_test_scaled), y_test)))\n"
   ]
  },
  {
   "cell_type": "code",
   "execution_count": 39,
   "metadata": {},
   "outputs": [
    {
     "data": {
      "text/plain": [
       "array([[39755,    36],\n",
       "       [  176, 10033]], dtype=int64)"
      ]
     },
     "execution_count": 39,
     "metadata": {},
     "output_type": "execute_result"
    }
   ],
   "source": [
    "from sklearn.metrics import confusion_matrix\n",
    "\n",
    "y_pred_log = logreg_cv.predict(X_test_scaled)\n",
    "pl_log = confusion_matrix(y_test,y_pred_log)\n",
    "pl_log"
   ]
  },
  {
   "cell_type": "code",
   "execution_count": 40,
   "metadata": {},
   "outputs": [
    {
     "name": "stdout",
     "output_type": "stream",
     "text": [
      "              precision    recall  f1-score   support\n",
      "\n",
      "           0       1.00      1.00      1.00     39791\n",
      "           1       1.00      0.98      0.99     10209\n",
      "\n",
      "    accuracy                           1.00     50000\n",
      "   macro avg       1.00      0.99      0.99     50000\n",
      "weighted avg       1.00      1.00      1.00     50000\n",
      "\n"
     ]
    }
   ],
   "source": [
    "from sklearn.metrics import classification_report\n",
    "\n",
    "cl_rep_log = classification_report(y_test,y_pred_log)\n",
    "print(cl_rep_log)"
   ]
  },
  {
   "cell_type": "code",
   "execution_count": 41,
   "metadata": {},
   "outputs": [
    {
     "name": "stdout",
     "output_type": "stream",
     "text": [
      "Test Data Set Logistic Regression: Accuracy=0.996\n",
      "Test Data Set Logistic Regression: f1-score=0.996\n",
      "Test Data Set Logistic Regression: roc_auc_score=0.991\n"
     ]
    }
   ],
   "source": [
    "from sklearn.metrics import accuracy_score, f1_score, roc_auc_score\n",
    "\n",
    "ac = accuracy_score(y_test, y_pred_log)\n",
    "print('Test Data Set Logistic Regression: Accuracy=%.3f' % (ac))\n",
    "\n",
    "f1 = f1_score(y_test, y_pred_log, average='weighted')\n",
    "print('Test Data Set Logistic Regression: f1-score=%.3f' % (f1))\n",
    "\n",
    "roc_auc = roc_auc_score(y_test, y_pred_log)\n",
    "print('Test Data Set Logistic Regression: roc_auc_score=%.3f' % (roc_auc))"
   ]
  },
  {
   "cell_type": "markdown",
   "metadata": {},
   "source": [
    "# Random Forest"
   ]
  },
  {
   "cell_type": "code",
   "execution_count": 42,
   "metadata": {},
   "outputs": [
    {
     "name": "stdout",
     "output_type": "stream",
     "text": [
      "Tuned Random Forest Parameters: {'n_estimators': 50}\n",
      "Best score is 0.9866199999999999\n",
      "Accuracy score is 0.9863\n"
     ]
    }
   ],
   "source": [
    "from sklearn.ensemble import RandomForestClassifier\n",
    "\n",
    "#clf = RandomForestClassifier(n_estimators=30, random_state = 1,n_jobs=-1)\n",
    "#model_res = clf.fit(X_train_scaled, y_train)\n",
    "#y_pred_ranf = model_res.predict(X_test_scaled)\n",
    "\n",
    "param_grid = {'n_estimators': [10,20,30,40,50]}\n",
    "clf = RandomForestClassifier(random_state = 1,n_jobs=-1)\n",
    "clf_cv = GridSearchCV(clf, param_grid, cv=5)\n",
    "clf_cv.fit(X_train_scaled, y_train)\n",
    "y_pred_ranf = clf_cv.predict(X_test_scaled)\n",
    "print(\"Tuned Random Forest Parameters: {}\".format(clf_cv.best_params_)) \n",
    "print(\"Best score is {}\".format(clf_cv.best_score_))\n",
    "print(\"Accuracy score is {}\".format(accuracy_score(y_test, y_pred_ranf)))\n"
   ]
  },
  {
   "cell_type": "code",
   "execution_count": 43,
   "metadata": {},
   "outputs": [
    {
     "data": {
      "text/plain": [
       "array([0, 1, 0, ..., 1, 0, 0], dtype=int64)"
      ]
     },
     "execution_count": 43,
     "metadata": {},
     "output_type": "execute_result"
    }
   ],
   "source": [
    "y_pred_ranf"
   ]
  },
  {
   "cell_type": "code",
   "execution_count": 44,
   "metadata": {},
   "outputs": [
    {
     "data": {
      "text/plain": [
       "array([[39774,    17],\n",
       "       [  668,  9541]], dtype=int64)"
      ]
     },
     "execution_count": 44,
     "metadata": {},
     "output_type": "execute_result"
    }
   ],
   "source": [
    "pl_ranf = confusion_matrix(y_test,y_pred_ranf)\n",
    "pl_ranf"
   ]
  },
  {
   "cell_type": "code",
   "execution_count": 45,
   "metadata": {},
   "outputs": [
    {
     "name": "stdout",
     "output_type": "stream",
     "text": [
      "              precision    recall  f1-score   support\n",
      "\n",
      "           0       0.98      1.00      0.99     39791\n",
      "           1       1.00      0.93      0.97     10209\n",
      "\n",
      "    accuracy                           0.99     50000\n",
      "   macro avg       0.99      0.97      0.98     50000\n",
      "weighted avg       0.99      0.99      0.99     50000\n",
      "\n"
     ]
    }
   ],
   "source": [
    "cl_rep_ranf = classification_report(y_test,y_pred_ranf)\n",
    "print(cl_rep_ranf)"
   ]
  },
  {
   "cell_type": "code",
   "execution_count": 46,
   "metadata": {},
   "outputs": [
    {
     "name": "stdout",
     "output_type": "stream",
     "text": [
      "Test Data Set Random Forest: Accuracy=0.986\n",
      "Test Data Set Random Forest: f1-score=0.986\n",
      "Test Data Set Random Forest: roc_auc_score=0.967\n"
     ]
    }
   ],
   "source": [
    "ac = accuracy_score(y_test, y_pred_ranf)\n",
    "print('Test Data Set Random Forest: Accuracy=%.3f' % (ac))\n",
    "\n",
    "f1 = f1_score(y_test, y_pred_ranf, average='weighted')\n",
    "print('Test Data Set Random Forest: f1-score=%.3f' % (f1))\n",
    "\n",
    "roc_auc = roc_auc_score(y_test, y_pred_ranf)\n",
    "print('Test Data Set Random Forest: roc_auc_score=%.3f' % (roc_auc))"
   ]
  },
  {
   "cell_type": "markdown",
   "metadata": {},
   "source": [
    "# Gradient Boosting"
   ]
  },
  {
   "cell_type": "code",
   "execution_count": 47,
   "metadata": {},
   "outputs": [
    {
     "name": "stdout",
     "output_type": "stream",
     "text": [
      "Tuned Gradient Boosting Parameters: {'learning_rate': 1}\n",
      "Best score is 0.8846933333333334\n",
      "Accuracy score is 0.88178\n"
     ]
    }
   ],
   "source": [
    "from sklearn.ensemble import GradientBoostingClassifier\n",
    "\n",
    "learning_rates = [0.05, 0.1, 0.25, 0.5, 0.75, 1]\n",
    "    \n",
    "param_grid = {'learning_rate': learning_rates}\n",
    "gb = GradientBoostingClassifier(n_estimators=30, max_features=2, max_depth = 2, random_state = 0)\n",
    "gb_cv = GridSearchCV(gb, param_grid, cv=5)\n",
    "gb_cv.fit(X_train_scaled, y_train)\n",
    "y_pred_gdbst = gb_cv.predict(X_test_scaled)\n",
    "print(\"Tuned Gradient Boosting Parameters: {}\".format(gb_cv.best_params_)) \n",
    "print(\"Best score is {}\".format(gb_cv.best_score_))\n",
    "print(\"Accuracy score is {}\".format(accuracy_score(y_test, y_pred_gdbst)))"
   ]
  },
  {
   "cell_type": "code",
   "execution_count": 48,
   "metadata": {},
   "outputs": [
    {
     "data": {
      "text/plain": [
       "array([[38163,  1628],\n",
       "       [ 4283,  5926]], dtype=int64)"
      ]
     },
     "execution_count": 48,
     "metadata": {},
     "output_type": "execute_result"
    }
   ],
   "source": [
    "pl_gbst = confusion_matrix(y_test,y_pred_gdbst)\n",
    "pl_gbst"
   ]
  },
  {
   "cell_type": "code",
   "execution_count": 49,
   "metadata": {},
   "outputs": [
    {
     "name": "stdout",
     "output_type": "stream",
     "text": [
      "              precision    recall  f1-score   support\n",
      "\n",
      "           0       0.90      0.96      0.93     39791\n",
      "           1       0.78      0.58      0.67     10209\n",
      "\n",
      "    accuracy                           0.88     50000\n",
      "   macro avg       0.84      0.77      0.80     50000\n",
      "weighted avg       0.88      0.88      0.87     50000\n",
      "\n"
     ]
    }
   ],
   "source": [
    "cl_rep_gbst = classification_report(y_test,y_pred_gdbst)\n",
    "print(cl_rep_gbst)"
   ]
  },
  {
   "cell_type": "code",
   "execution_count": 50,
   "metadata": {},
   "outputs": [
    {
     "name": "stdout",
     "output_type": "stream",
     "text": [
      "Test Data Set Gradient Boosting: Accuracy=0.882\n",
      "Test Data Set Gradient Boosting: f1-score=0.875\n",
      "Test Data Set Gradient Boosting: roc_auc_score=0.770\n"
     ]
    }
   ],
   "source": [
    "ac = accuracy_score(y_test, y_pred_gdbst)\n",
    "print('Test Data Set Gradient Boosting: Accuracy=%.3f' % (ac))\n",
    "\n",
    "f1 = f1_score(y_test, y_pred_gdbst, average='weighted')\n",
    "print('Test Data Set Gradient Boosting: f1-score=%.3f' % (f1))\n",
    "\n",
    "roc_auc = roc_auc_score(y_test, y_pred_gdbst)\n",
    "print('Test Data Set Gradient Boosting: roc_auc_score=%.3f' % (roc_auc))"
   ]
  },
  {
   "cell_type": "markdown",
   "metadata": {},
   "source": [
    "# Compare Models"
   ]
  },
  {
   "cell_type": "markdown",
   "metadata": {},
   "source": [
    "Based on the accuracy score and classification report, Logistic regression using 5 fold cross validation and Grid Search performed the best."
   ]
  },
  {
   "cell_type": "markdown",
   "metadata": {},
   "source": [
    "| Model | Accuracy| f1_score|roc_auc_score|\n",
    "| --- | --- | --- | --- |\n",
    "| Logistic Regression | 0.996 | 0.996 |0.991|\n",
    "| Random Forest | 0.986 | 0.986 |0.967|\n",
    "| Gradient Boosting | 0.882 | 0.875 |0.770|"
   ]
  },
  {
   "cell_type": "markdown",
   "metadata": {},
   "source": [
    "# Logistic Regression and Random Forest models are over-fitting.  Doing further analysis of features."
   ]
  },
  {
   "cell_type": "markdown",
   "metadata": {},
   "source": [
    "# Feature importance with Forest of Trees"
   ]
  },
  {
   "cell_type": "code",
   "execution_count": 51,
   "metadata": {},
   "outputs": [
    {
     "data": {
      "text/plain": [
       "(150000, 153)"
      ]
     },
     "execution_count": 51,
     "metadata": {},
     "output_type": "execute_result"
    }
   ],
   "source": [
    "X_train_scaled.shape"
   ]
  },
  {
   "cell_type": "code",
   "execution_count": 52,
   "metadata": {},
   "outputs": [
    {
     "name": "stdout",
     "output_type": "stream",
     "text": [
      "Feature ranking:\n",
      "1. feature 14 (0.167638)\n",
      "2. feature 15 (0.138024)\n",
      "3. feature 12 (0.118886)\n",
      "4. feature 0 (0.049638)\n",
      "5. feature 13 (0.025553)\n",
      "6. feature 148 (0.025499)\n",
      "7. feature 149 (0.024158)\n",
      "8. feature 1 (0.022368)\n",
      "9. feature 68 (0.016505)\n",
      "10. feature 67 (0.016384)\n",
      "11. feature 65 (0.011916)\n",
      "12. feature 3 (0.011427)\n",
      "13. feature 2 (0.011399)\n",
      "14. feature 9 (0.011295)\n",
      "15. feature 10 (0.010879)\n",
      "16. feature 48 (0.010612)\n",
      "17. feature 29 (0.010484)\n",
      "18. feature 33 (0.010443)\n",
      "19. feature 152 (0.010242)\n",
      "20. feature 47 (0.009950)\n",
      "21. feature 32 (0.009851)\n",
      "22. feature 37 (0.009845)\n",
      "23. feature 22 (0.009737)\n",
      "24. feature 44 (0.009635)\n",
      "25. feature 49 (0.009515)\n",
      "26. feature 150 (0.008670)\n",
      "27. feature 43 (0.008492)\n",
      "28. feature 5 (0.008332)\n",
      "29. feature 6 (0.008091)\n",
      "30. feature 28 (0.008076)\n",
      "31. feature 69 (0.007229)\n",
      "32. feature 38 (0.006550)\n",
      "33. feature 26 (0.006037)\n",
      "34. feature 27 (0.005853)\n",
      "35. feature 17 (0.005837)\n",
      "36. feature 21 (0.005627)\n",
      "37. feature 36 (0.005589)\n",
      "38. feature 66 (0.005402)\n",
      "39. feature 4 (0.005397)\n",
      "40. feature 39 (0.005255)\n",
      "41. feature 70 (0.005235)\n",
      "42. feature 73 (0.005229)\n",
      "43. feature 31 (0.005016)\n",
      "44. feature 7 (0.004896)\n",
      "45. feature 25 (0.004751)\n",
      "46. feature 24 (0.004740)\n",
      "47. feature 23 (0.004728)\n",
      "48. feature 30 (0.004335)\n",
      "49. feature 117 (0.004160)\n",
      "50. feature 8 (0.004151)\n",
      "51. feature 72 (0.004134)\n",
      "52. feature 122 (0.004028)\n",
      "53. feature 119 (0.003962)\n",
      "54. feature 121 (0.003952)\n",
      "55. feature 116 (0.003945)\n",
      "56. feature 118 (0.003811)\n",
      "57. feature 112 (0.003638)\n",
      "58. feature 45 (0.003534)\n",
      "59. feature 71 (0.003206)\n",
      "60. feature 42 (0.002699)\n",
      "61. feature 74 (0.002673)\n",
      "62. feature 115 (0.002589)\n",
      "63. feature 64 (0.002407)\n",
      "64. feature 151 (0.002243)\n",
      "65. feature 46 (0.002045)\n",
      "66. feature 16 (0.001393)\n",
      "67. feature 88 (0.001372)\n",
      "68. feature 87 (0.001351)\n",
      "69. feature 89 (0.001327)\n",
      "70. feature 86 (0.001274)\n",
      "71. feature 90 (0.001234)\n",
      "72. feature 59 (0.001189)\n",
      "73. feature 130 (0.001128)\n",
      "74. feature 81 (0.001097)\n",
      "75. feature 92 (0.001096)\n",
      "76. feature 83 (0.001058)\n",
      "77. feature 82 (0.001053)\n",
      "78. feature 93 (0.001050)\n",
      "79. feature 84 (0.001015)\n",
      "80. feature 91 (0.001009)\n",
      "81. feature 94 (0.000986)\n",
      "82. feature 85 (0.000975)\n",
      "83. feature 76 (0.000965)\n",
      "84. feature 141 (0.000930)\n",
      "85. feature 75 (0.000925)\n",
      "86. feature 80 (0.000905)\n",
      "87. feature 95 (0.000868)\n",
      "88. feature 34 (0.000820)\n",
      "89. feature 97 (0.000757)\n",
      "90. feature 96 (0.000732)\n",
      "91. feature 98 (0.000710)\n",
      "92. feature 61 (0.000697)\n",
      "93. feature 100 (0.000691)\n",
      "94. feature 79 (0.000690)\n",
      "95. feature 146 (0.000627)\n",
      "96. feature 99 (0.000607)\n",
      "97. feature 78 (0.000543)\n",
      "98. feature 77 (0.000536)\n",
      "99. feature 19 (0.000495)\n",
      "100. feature 124 (0.000458)\n",
      "101. feature 18 (0.000453)\n",
      "102. feature 101 (0.000427)\n",
      "103. feature 35 (0.000401)\n",
      "104. feature 123 (0.000400)\n",
      "105. feature 20 (0.000393)\n",
      "106. feature 54 (0.000369)\n",
      "107. feature 103 (0.000364)\n",
      "108. feature 125 (0.000345)\n",
      "109. feature 50 (0.000339)\n",
      "110. feature 60 (0.000331)\n",
      "111. feature 102 (0.000319)\n",
      "112. feature 53 (0.000310)\n",
      "113. feature 55 (0.000295)\n",
      "114. feature 142 (0.000292)\n",
      "115. feature 104 (0.000292)\n",
      "116. feature 63 (0.000285)\n",
      "117. feature 41 (0.000278)\n",
      "118. feature 51 (0.000255)\n",
      "119. feature 105 (0.000230)\n",
      "120. feature 52 (0.000213)\n",
      "121. feature 106 (0.000212)\n",
      "122. feature 58 (0.000210)\n",
      "123. feature 126 (0.000201)\n",
      "124. feature 62 (0.000167)\n",
      "125. feature 137 (0.000137)\n",
      "126. feature 127 (0.000136)\n",
      "127. feature 107 (0.000132)\n",
      "128. feature 108 (0.000130)\n",
      "129. feature 139 (0.000115)\n",
      "130. feature 144 (0.000111)\n",
      "131. feature 110 (0.000106)\n",
      "132. feature 133 (0.000093)\n",
      "133. feature 57 (0.000091)\n",
      "134. feature 143 (0.000085)\n",
      "135. feature 40 (0.000081)\n",
      "136. feature 136 (0.000074)\n",
      "137. feature 109 (0.000071)\n",
      "138. feature 135 (0.000050)\n",
      "139. feature 56 (0.000049)\n",
      "140. feature 111 (0.000046)\n",
      "141. feature 114 (0.000043)\n",
      "142. feature 138 (0.000036)\n",
      "143. feature 147 (0.000015)\n",
      "144. feature 131 (0.000011)\n",
      "145. feature 134 (0.000009)\n",
      "146. feature 132 (0.000007)\n",
      "147. feature 113 (0.000006)\n",
      "148. feature 145 (0.000000)\n",
      "149. feature 11 (0.000000)\n",
      "150. feature 120 (0.000000)\n",
      "151. feature 140 (0.000000)\n",
      "152. feature 128 (0.000000)\n",
      "153. feature 129 (0.000000)\n"
     ]
    }
   ],
   "source": [
    "from sklearn.ensemble import ExtraTreesClassifier\n",
    "\n",
    "forest = ExtraTreesClassifier(n_estimators=250,\n",
    "                              random_state=0)\n",
    "\n",
    "forest = forest.fit(X_train_scaled, y_train)\n",
    "importances = forest.feature_importances_\n",
    "std = np.std([tree.feature_importances_ for tree in forest.estimators_],\n",
    "             axis=0)\n",
    "indices = np.argsort(importances)[::-1]\n",
    "\n",
    "# Print the feature ranking\n",
    "print(\"Feature ranking:\")\n",
    "\n",
    "for f in range(X_train_scaled.shape[1]):\n",
    "    print(\"%d. feature %d (%f)\" % (f + 1, indices[f], importances[indices[f]]))\n"
   ]
  },
  {
   "cell_type": "code",
   "execution_count": 53,
   "metadata": {},
   "outputs": [
    {
     "data": {
      "image/png": "[encoded data removed]",
      "text/plain": [
       "<Figure size 1440x1440 with 1 Axes>"
      ]
     },
     "metadata": {
      "needs_background": "light"
     },
     "output_type": "display_data"
    }
   ],
   "source": [
    "# Plot the impurity-based feature importances of the forest\n",
    "plt.figure(figsize=(20,20))\n",
    "plt.title(\"Feature importances\")\n",
    "plt.bar(range(X_train_scaled.shape[1]), importances[indices],\n",
    "        color=\"r\", yerr=std[indices], align=\"center\")\n",
    "plt.xticks(range(X_train_scaled.shape[1]), indices)\n",
    "plt.xlim([-1, X_train_scaled.shape[1]])\n",
    "plt.show()"
   ]
  },
  {
   "cell_type": "code",
   "execution_count": 79,
   "metadata": {},
   "outputs": [
    {
     "data": {
      "text/plain": [
       "(150000, 4)"
      ]
     },
     "execution_count": 79,
     "metadata": {},
     "output_type": "execute_result"
    }
   ],
   "source": [
    "# Feature selection based on the above feature importance\n",
    "from sklearn.feature_selection import SelectFromModel\n",
    "\n",
    "model = SelectFromModel(forest, prefit=True, threshold=0.03)\n",
    "X_train_new = model.transform(X_train_scaled)\n",
    "X_train_new.shape"
   ]
  },
  {
   "cell_type": "code",
   "execution_count": 80,
   "metadata": {},
   "outputs": [
    {
     "data": {
      "text/plain": [
       "(50000, 4)"
      ]
     },
     "execution_count": 80,
     "metadata": {},
     "output_type": "execute_result"
    }
   ],
   "source": [
    "X_test_new = model.transform(X_test_scaled)\n",
    "X_test_new.shape"
   ]
  },
  {
   "cell_type": "code",
   "execution_count": 90,
   "metadata": {},
   "outputs": [
    {
     "data": {
      "text/plain": [
       "array([ 0, 12, 14, 15], dtype=int64)"
      ]
     },
     "execution_count": 90,
     "metadata": {},
     "output_type": "execute_result"
    }
   ],
   "source": [
    "model.get_support(True)"
   ]
  },
  {
   "cell_type": "code",
   "execution_count": 91,
   "metadata": {},
   "outputs": [],
   "source": [
    "X_cols = X_test.columns"
   ]
  },
  {
   "cell_type": "code",
   "execution_count": 94,
   "metadata": {},
   "outputs": [
    {
     "data": {
      "text/plain": [
       "'loan_amnt'"
      ]
     },
     "execution_count": 94,
     "metadata": {},
     "output_type": "execute_result"
    }
   ],
   "source": [
    "X_cols[0]"
   ]
  },
  {
   "cell_type": "code",
   "execution_count": 95,
   "metadata": {},
   "outputs": [
    {
     "data": {
      "text/plain": [
       "'total_pymnt'"
      ]
     },
     "execution_count": 95,
     "metadata": {},
     "output_type": "execute_result"
    }
   ],
   "source": [
    "X_cols[12]"
   ]
  },
  {
   "cell_type": "code",
   "execution_count": 96,
   "metadata": {},
   "outputs": [
    {
     "data": {
      "text/plain": [
       "'recoveries'"
      ]
     },
     "execution_count": 96,
     "metadata": {},
     "output_type": "execute_result"
    }
   ],
   "source": [
    "X_cols[14]"
   ]
  },
  {
   "cell_type": "code",
   "execution_count": 97,
   "metadata": {},
   "outputs": [
    {
     "data": {
      "text/plain": [
       "'last_pymnt_amnt'"
      ]
     },
     "execution_count": 97,
     "metadata": {},
     "output_type": "execute_result"
    }
   ],
   "source": [
    "X_cols[15]"
   ]
  },
  {
   "cell_type": "code",
   "execution_count": 81,
   "metadata": {},
   "outputs": [
    {
     "name": "stdout",
     "output_type": "stream",
     "text": [
      "Tuned Logistic Regression Parameters: {'C': 100}\n",
      "Best score is 0.9908533333333333\n",
      "Accuracy score is 0.99084\n"
     ]
    }
   ],
   "source": [
    "# Using K fold cross validation and Grid search to get the most accurate prediction\n",
    "\n",
    "from sklearn.linear_model import LogisticRegression\n",
    "from sklearn.metrics import accuracy_score\n",
    "from sklearn.model_selection import GridSearchCV\n",
    "\n",
    "#the grid of parameters to search over\n",
    "Cs = [0.001, 0.1, 1, 10, 100]\n",
    "\n",
    "param_grid = {'C': Cs}\n",
    "logreg = LogisticRegression()\n",
    "logreg_cv = GridSearchCV(logreg, param_grid, cv=5)\n",
    "logreg_cv.fit(X_train_new, y_train)\n",
    "print(\"Tuned Logistic Regression Parameters: {}\".format(logreg_cv.best_params_)) \n",
    "print(\"Best score is {}\".format(logreg_cv.best_score_))\n",
    "# Print the accuracy from the testing data.\n",
    "print(\"Accuracy score is {}\".format(accuracy_score(logreg_cv.predict(X_test_new), y_test)))\n"
   ]
  },
  {
   "cell_type": "code",
   "execution_count": 82,
   "metadata": {},
   "outputs": [
    {
     "data": {
      "text/plain": [
       "array([[39742,    49],\n",
       "       [  409,  9800]], dtype=int64)"
      ]
     },
     "execution_count": 82,
     "metadata": {},
     "output_type": "execute_result"
    }
   ],
   "source": [
    "y_pred_log = logreg_cv.predict(X_test_new)\n",
    "pl_log = confusion_matrix(y_test,y_pred_log)\n",
    "pl_log"
   ]
  },
  {
   "cell_type": "code",
   "execution_count": 83,
   "metadata": {},
   "outputs": [
    {
     "name": "stdout",
     "output_type": "stream",
     "text": [
      "              precision    recall  f1-score   support\n",
      "\n",
      "           0       0.99      1.00      0.99     39791\n",
      "           1       1.00      0.96      0.98     10209\n",
      "\n",
      "    accuracy                           0.99     50000\n",
      "   macro avg       0.99      0.98      0.99     50000\n",
      "weighted avg       0.99      0.99      0.99     50000\n",
      "\n"
     ]
    }
   ],
   "source": [
    "cl_rep_log = classification_report(y_test,y_pred_log)\n",
    "print(cl_rep_log)"
   ]
  },
  {
   "cell_type": "code",
   "execution_count": 84,
   "metadata": {},
   "outputs": [
    {
     "name": "stdout",
     "output_type": "stream",
     "text": [
      "Test Data Set Logistic Regression: Accuracy=0.991\n",
      "Test Data Set Logistic Regression: f1-score=0.991\n",
      "Test Data Set Logistic Regression: roc_auc_score=0.979\n"
     ]
    }
   ],
   "source": [
    "ac = accuracy_score(y_test, y_pred_log)\n",
    "print('Test Data Set Logistic Regression: Accuracy=%.3f' % (ac))\n",
    "\n",
    "f1 = f1_score(y_test, y_pred_log, average='weighted')\n",
    "print('Test Data Set Logistic Regression: f1-score=%.3f' % (f1))\n",
    "\n",
    "roc_auc = roc_auc_score(y_test, y_pred_log)\n",
    "print('Test Data Set Logistic Regression: roc_auc_score=%.3f' % (roc_auc))"
   ]
  },
  {
   "cell_type": "code",
   "execution_count": null,
   "metadata": {},
   "outputs": [],
   "source": []
  }
 ],
 "metadata": {
  "kernelspec": {
   "display_name": "Python 3",
   "language": "python",
   "name": "python3"
  },
  "language_info": {
   "codemirror_mode": {
    "name": "ipython",
    "version": 3
   },
   "file_extension": ".py",
   "mimetype": "text/x-python",
   "name": "python",
   "nbconvert_exporter": "python",
   "pygments_lexer": "ipython3",
   "version": "3.7.3"
  }
 },
 "nbformat": 4,
 "nbformat_minor": 2
}
