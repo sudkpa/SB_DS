{
 "cells": [
  {
   "cell_type": "markdown",
   "metadata": {},
   "source": [
    "# Capstone 2 - Lending Club Loan Defaults Prediction¶\n",
    "\n",
    "# Modeling\n",
    "\n",
    "\n",
    "Modeling is the fifth step in the Data Science Method.  The following will be performed in this step:\n",
    "\n",
    "1. Fit Models with Training Data Set\n",
    "2. Review Model Outcomes — Iterate over additional models as needed.\n",
    "3. Identify the Final Model"
   ]
  },
  {
   "cell_type": "code",
   "execution_count": 1,
   "metadata": {},
   "outputs": [],
   "source": [
    "#load python packages\n",
    "import os\n",
    "import pandas as pd\n",
    "import pandas.api.types as ptypes\n",
    "import datetime\n",
    "import seaborn as sns\n",
    "import matplotlib.pyplot as plt\n",
    "import numpy as np\n",
    "%matplotlib inline\n",
    "import warnings # For handling error messages.\n",
    "#warnings.simplefilter(action=\"ignore\", category=FutureWarning)\n",
    "warnings.filterwarnings('ignore')"
   ]
  },
  {
   "cell_type": "code",
   "execution_count": 2,
   "metadata": {},
   "outputs": [
    {
     "data": {
      "text/html": [
       "<div>\n",
       "<style scoped>\n",
       "    .dataframe tbody tr th:only-of-type {\n",
       "        vertical-align: middle;\n",
       "    }\n",
       "\n",
       "    .dataframe tbody tr th {\n",
       "        vertical-align: top;\n",
       "    }\n",
       "\n",
       "    .dataframe thead th {\n",
       "        text-align: right;\n",
       "    }\n",
       "</style>\n",
       "<table border=\"1\" class=\"dataframe\">\n",
       "  <thead>\n",
       "    <tr style=\"text-align: right;\">\n",
       "      <th></th>\n",
       "      <th>loan_amnt</th>\n",
       "      <th>int_rate</th>\n",
       "      <th>annual_inc</th>\n",
       "      <th>dti</th>\n",
       "      <th>delinq_2yrs</th>\n",
       "      <th>inq_last_6mths</th>\n",
       "      <th>mths_since_last_delinq</th>\n",
       "      <th>mths_since_last_record</th>\n",
       "      <th>pub_rec</th>\n",
       "      <th>revol_bal</th>\n",
       "      <th>...</th>\n",
       "      <th>initial_list_status</th>\n",
       "      <th>application_type</th>\n",
       "      <th>verification_status_joint</th>\n",
       "      <th>hardship_flag</th>\n",
       "      <th>hardship_type</th>\n",
       "      <th>hardship_reason</th>\n",
       "      <th>hardship_status</th>\n",
       "      <th>hardship_loan_status</th>\n",
       "      <th>debt_settlement_flag</th>\n",
       "      <th>settlement_status</th>\n",
       "    </tr>\n",
       "  </thead>\n",
       "  <tbody>\n",
       "    <tr>\n",
       "      <th>0</th>\n",
       "      <td>2500</td>\n",
       "      <td>13.56</td>\n",
       "      <td>55000.0</td>\n",
       "      <td>18.24</td>\n",
       "      <td>0.0</td>\n",
       "      <td>1.0</td>\n",
       "      <td>0.0</td>\n",
       "      <td>45.0</td>\n",
       "      <td>1.0</td>\n",
       "      <td>4341</td>\n",
       "      <td>...</td>\n",
       "      <td>w</td>\n",
       "      <td>Individual</td>\n",
       "      <td>NaN</td>\n",
       "      <td>N</td>\n",
       "      <td>NaN</td>\n",
       "      <td>NaN</td>\n",
       "      <td>NaN</td>\n",
       "      <td>NaN</td>\n",
       "      <td>N</td>\n",
       "      <td>NaN</td>\n",
       "    </tr>\n",
       "    <tr>\n",
       "      <th>1</th>\n",
       "      <td>30000</td>\n",
       "      <td>18.94</td>\n",
       "      <td>90000.0</td>\n",
       "      <td>26.52</td>\n",
       "      <td>0.0</td>\n",
       "      <td>0.0</td>\n",
       "      <td>71.0</td>\n",
       "      <td>75.0</td>\n",
       "      <td>1.0</td>\n",
       "      <td>12315</td>\n",
       "      <td>...</td>\n",
       "      <td>w</td>\n",
       "      <td>Individual</td>\n",
       "      <td>NaN</td>\n",
       "      <td>N</td>\n",
       "      <td>NaN</td>\n",
       "      <td>NaN</td>\n",
       "      <td>NaN</td>\n",
       "      <td>NaN</td>\n",
       "      <td>N</td>\n",
       "      <td>NaN</td>\n",
       "    </tr>\n",
       "    <tr>\n",
       "      <th>2</th>\n",
       "      <td>5000</td>\n",
       "      <td>17.97</td>\n",
       "      <td>59280.0</td>\n",
       "      <td>10.51</td>\n",
       "      <td>0.0</td>\n",
       "      <td>0.0</td>\n",
       "      <td>0.0</td>\n",
       "      <td>0.0</td>\n",
       "      <td>0.0</td>\n",
       "      <td>4599</td>\n",
       "      <td>...</td>\n",
       "      <td>w</td>\n",
       "      <td>Individual</td>\n",
       "      <td>NaN</td>\n",
       "      <td>N</td>\n",
       "      <td>NaN</td>\n",
       "      <td>NaN</td>\n",
       "      <td>NaN</td>\n",
       "      <td>NaN</td>\n",
       "      <td>N</td>\n",
       "      <td>NaN</td>\n",
       "    </tr>\n",
       "    <tr>\n",
       "      <th>3</th>\n",
       "      <td>4000</td>\n",
       "      <td>18.94</td>\n",
       "      <td>92000.0</td>\n",
       "      <td>16.74</td>\n",
       "      <td>0.0</td>\n",
       "      <td>0.0</td>\n",
       "      <td>0.0</td>\n",
       "      <td>0.0</td>\n",
       "      <td>0.0</td>\n",
       "      <td>5468</td>\n",
       "      <td>...</td>\n",
       "      <td>w</td>\n",
       "      <td>Individual</td>\n",
       "      <td>NaN</td>\n",
       "      <td>N</td>\n",
       "      <td>NaN</td>\n",
       "      <td>NaN</td>\n",
       "      <td>NaN</td>\n",
       "      <td>NaN</td>\n",
       "      <td>N</td>\n",
       "      <td>NaN</td>\n",
       "    </tr>\n",
       "    <tr>\n",
       "      <th>4</th>\n",
       "      <td>30000</td>\n",
       "      <td>16.14</td>\n",
       "      <td>57250.0</td>\n",
       "      <td>26.35</td>\n",
       "      <td>0.0</td>\n",
       "      <td>0.0</td>\n",
       "      <td>0.0</td>\n",
       "      <td>0.0</td>\n",
       "      <td>0.0</td>\n",
       "      <td>829</td>\n",
       "      <td>...</td>\n",
       "      <td>w</td>\n",
       "      <td>Individual</td>\n",
       "      <td>NaN</td>\n",
       "      <td>N</td>\n",
       "      <td>NaN</td>\n",
       "      <td>NaN</td>\n",
       "      <td>NaN</td>\n",
       "      <td>NaN</td>\n",
       "      <td>N</td>\n",
       "      <td>NaN</td>\n",
       "    </tr>\n",
       "  </tbody>\n",
       "</table>\n",
       "<p>5 rows × 87 columns</p>\n",
       "</div>"
      ],
      "text/plain": [
       "   loan_amnt  int_rate  annual_inc    dti  delinq_2yrs  inq_last_6mths  \\\n",
       "0       2500     13.56     55000.0  18.24          0.0             1.0   \n",
       "1      30000     18.94     90000.0  26.52          0.0             0.0   \n",
       "2       5000     17.97     59280.0  10.51          0.0             0.0   \n",
       "3       4000     18.94     92000.0  16.74          0.0             0.0   \n",
       "4      30000     16.14     57250.0  26.35          0.0             0.0   \n",
       "\n",
       "   mths_since_last_delinq  mths_since_last_record  pub_rec  revol_bal  ...  \\\n",
       "0                     0.0                    45.0      1.0       4341  ...   \n",
       "1                    71.0                    75.0      1.0      12315  ...   \n",
       "2                     0.0                     0.0      0.0       4599  ...   \n",
       "3                     0.0                     0.0      0.0       5468  ...   \n",
       "4                     0.0                     0.0      0.0        829  ...   \n",
       "\n",
       "   initial_list_status  application_type  verification_status_joint  \\\n",
       "0                    w        Individual                        NaN   \n",
       "1                    w        Individual                        NaN   \n",
       "2                    w        Individual                        NaN   \n",
       "3                    w        Individual                        NaN   \n",
       "4                    w        Individual                        NaN   \n",
       "\n",
       "   hardship_flag  hardship_type  hardship_reason  hardship_status  \\\n",
       "0              N            NaN              NaN              NaN   \n",
       "1              N            NaN              NaN              NaN   \n",
       "2              N            NaN              NaN              NaN   \n",
       "3              N            NaN              NaN              NaN   \n",
       "4              N            NaN              NaN              NaN   \n",
       "\n",
       "   hardship_loan_status  debt_settlement_flag  settlement_status  \n",
       "0                   NaN                     N                NaN  \n",
       "1                   NaN                     N                NaN  \n",
       "2                   NaN                     N                NaN  \n",
       "3                   NaN                     N                NaN  \n",
       "4                   NaN                     N                NaN  \n",
       "\n",
       "[5 rows x 87 columns]"
      ]
     },
     "execution_count": 2,
     "metadata": {},
     "output_type": "execute_result"
    }
   ],
   "source": [
    "# Read data output created in the EDA step\n",
    "df = pd.read_csv(\"../EDA/data/Cap2_step3_output.csv\", dtype={'verification_status_joint':object,'hardship_type':object, 'hardship_reason':object, 'hardship_status':object, 'hardship_loan_status':object, 'settlement_status':object}, index_col=\"Unnamed: 0\")\n",
    "df.head(5)"
   ]
  },
  {
   "cell_type": "code",
   "execution_count": 3,
   "metadata": {},
   "outputs": [
    {
     "data": {
      "text/plain": [
       "(2150627, 87)"
      ]
     },
     "execution_count": 3,
     "metadata": {},
     "output_type": "execute_result"
    }
   ],
   "source": [
    "df.shape"
   ]
  },
  {
   "cell_type": "code",
   "execution_count": 4,
   "metadata": {},
   "outputs": [
    {
     "name": "stdout",
     "output_type": "stream",
     "text": [
      "<class 'pandas.core.frame.DataFrame'>\n",
      "Int64Index: 2150627 entries, 0 to 2260667\n",
      "Data columns (total 87 columns):\n",
      " #   Column                                      Dtype  \n",
      "---  ------                                      -----  \n",
      " 0   loan_amnt                                   int64  \n",
      " 1   int_rate                                    float64\n",
      " 2   annual_inc                                  float64\n",
      " 3   dti                                         float64\n",
      " 4   delinq_2yrs                                 float64\n",
      " 5   inq_last_6mths                              float64\n",
      " 6   mths_since_last_delinq                      float64\n",
      " 7   mths_since_last_record                      float64\n",
      " 8   pub_rec                                     float64\n",
      " 9   revol_bal                                   int64  \n",
      " 10  revol_util                                  float64\n",
      " 11  out_prncp                                   float64\n",
      " 12  total_pymnt                                 float64\n",
      " 13  total_rec_int                               float64\n",
      " 14  recoveries                                  float64\n",
      " 15  last_pymnt_amnt                             float64\n",
      " 16  collections_12_mths_ex_med                  float64\n",
      " 17  mths_since_last_major_derog                 float64\n",
      " 18  annual_inc_joint                            float64\n",
      " 19  dti_joint                                   float64\n",
      " 20  acc_now_delinq                              float64\n",
      " 21  tot_coll_amt                                float64\n",
      " 22  tot_cur_bal                                 float64\n",
      " 23  open_acc_6m                                 float64\n",
      " 24  open_act_il                                 float64\n",
      " 25  total_bal_il                                float64\n",
      " 26  il_util                                     float64\n",
      " 27  max_bal_bc                                  float64\n",
      " 28  all_util                                    float64\n",
      " 29  total_rev_hi_lim                            float64\n",
      " 30  inq_fi                                      float64\n",
      " 31  inq_last_12m                                float64\n",
      " 32  avg_cur_bal                                 float64\n",
      " 33  bc_util                                     float64\n",
      " 34  chargeoff_within_12_mths                    float64\n",
      " 35  delinq_amnt                                 float64\n",
      " 36  mths_since_recent_bc_dlq                    float64\n",
      " 37  mths_since_recent_inq                       float64\n",
      " 38  mths_since_recent_revol_delinq              float64\n",
      " 39  num_accts_ever_120_pd                       float64\n",
      " 40  num_tl_120dpd_2m                            float64\n",
      " 41  num_tl_30dpd                                float64\n",
      " 42  num_tl_90g_dpd_24m                          float64\n",
      " 43  pct_tl_nvr_dlq                              float64\n",
      " 44  percent_bc_gt_75                            float64\n",
      " 45  pub_rec_bankruptcies                        float64\n",
      " 46  tax_liens                                   float64\n",
      " 47  total_bal_ex_mort                           float64\n",
      " 48  total_bc_limit                              float64\n",
      " 49  total_il_high_credit_limit                  float64\n",
      " 50  revol_bal_joint                             float64\n",
      " 51  sec_app_inq_last_6mths                      float64\n",
      " 52  sec_app_mort_acc                            float64\n",
      " 53  sec_app_open_acc                            float64\n",
      " 54  sec_app_revol_util                          float64\n",
      " 55  sec_app_open_act_il                         float64\n",
      " 56  sec_app_chargeoff_within_12_mths            float64\n",
      " 57  sec_app_collections_12_mths_ex_med          float64\n",
      " 58  sec_app_mths_since_last_major_derog         float64\n",
      " 59  deferral_term                               float64\n",
      " 60  hardship_amount                             float64\n",
      " 61  hardship_dpd                                float64\n",
      " 62  orig_projected_additional_accrued_interest  float64\n",
      " 63  hardship_last_payment_amount                float64\n",
      " 64  settlement_amount                           float64\n",
      " 65  settlement_percentage                       float64\n",
      " 66  settlement_term                             float64\n",
      " 67  term                                        object \n",
      " 68  grade                                       object \n",
      " 69  sub_grade                                   object \n",
      " 70  home_ownership                              object \n",
      " 71  verification_status                         object \n",
      " 72  loan_status                                 object \n",
      " 73  pymnt_plan                                  object \n",
      " 74  title                                       object \n",
      " 75  zip_code                                    object \n",
      " 76  addr_state                                  object \n",
      " 77  initial_list_status                         object \n",
      " 78  application_type                            object \n",
      " 79  verification_status_joint                   object \n",
      " 80  hardship_flag                               object \n",
      " 81  hardship_type                               object \n",
      " 82  hardship_reason                             object \n",
      " 83  hardship_status                             object \n",
      " 84  hardship_loan_status                        object \n",
      " 85  debt_settlement_flag                        object \n",
      " 86  settlement_status                           object \n",
      "dtypes: float64(65), int64(2), object(20)\n",
      "memory usage: 1.4+ GB\n"
     ]
    }
   ],
   "source": [
    "df.info()"
   ]
  },
  {
   "cell_type": "code",
   "execution_count": 5,
   "metadata": {},
   "outputs": [
    {
     "data": {
      "text/html": [
       "<div>\n",
       "<style scoped>\n",
       "    .dataframe tbody tr th:only-of-type {\n",
       "        vertical-align: middle;\n",
       "    }\n",
       "\n",
       "    .dataframe tbody tr th {\n",
       "        vertical-align: top;\n",
       "    }\n",
       "\n",
       "    .dataframe thead th {\n",
       "        text-align: right;\n",
       "    }\n",
       "</style>\n",
       "<table border=\"1\" class=\"dataframe\">\n",
       "  <thead>\n",
       "    <tr style=\"text-align: right;\">\n",
       "      <th></th>\n",
       "      <th>loan_amnt</th>\n",
       "      <th>int_rate</th>\n",
       "      <th>annual_inc</th>\n",
       "      <th>dti</th>\n",
       "      <th>delinq_2yrs</th>\n",
       "      <th>inq_last_6mths</th>\n",
       "      <th>mths_since_last_delinq</th>\n",
       "      <th>mths_since_last_record</th>\n",
       "      <th>pub_rec</th>\n",
       "      <th>revol_bal</th>\n",
       "      <th>...</th>\n",
       "      <th>sec_app_collections_12_mths_ex_med</th>\n",
       "      <th>sec_app_mths_since_last_major_derog</th>\n",
       "      <th>deferral_term</th>\n",
       "      <th>hardship_amount</th>\n",
       "      <th>hardship_dpd</th>\n",
       "      <th>orig_projected_additional_accrued_interest</th>\n",
       "      <th>hardship_last_payment_amount</th>\n",
       "      <th>settlement_amount</th>\n",
       "      <th>settlement_percentage</th>\n",
       "      <th>settlement_term</th>\n",
       "    </tr>\n",
       "  </thead>\n",
       "  <tbody>\n",
       "    <tr>\n",
       "      <th>count</th>\n",
       "      <td>2.150627e+06</td>\n",
       "      <td>2.150627e+06</td>\n",
       "      <td>2.150627e+06</td>\n",
       "      <td>2.150627e+06</td>\n",
       "      <td>2.150627e+06</td>\n",
       "      <td>2.150627e+06</td>\n",
       "      <td>2.150627e+06</td>\n",
       "      <td>2.150627e+06</td>\n",
       "      <td>2.150627e+06</td>\n",
       "      <td>2.150627e+06</td>\n",
       "      <td>...</td>\n",
       "      <td>2.150627e+06</td>\n",
       "      <td>2.150627e+06</td>\n",
       "      <td>2.150627e+06</td>\n",
       "      <td>2.150627e+06</td>\n",
       "      <td>2.150627e+06</td>\n",
       "      <td>2.150627e+06</td>\n",
       "      <td>2.150627e+06</td>\n",
       "      <td>2.150627e+06</td>\n",
       "      <td>2.150627e+06</td>\n",
       "      <td>2.150627e+06</td>\n",
       "    </tr>\n",
       "    <tr>\n",
       "      <th>mean</th>\n",
       "      <td>1.455534e+04</td>\n",
       "      <td>1.315755e+01</td>\n",
       "      <td>6.911525e+04</td>\n",
       "      <td>1.910219e+01</td>\n",
       "      <td>3.019622e-01</td>\n",
       "      <td>5.717709e-01</td>\n",
       "      <td>1.680994e+01</td>\n",
       "      <td>1.166151e+01</td>\n",
       "      <td>1.972904e-01</td>\n",
       "      <td>1.522785e+04</td>\n",
       "      <td>...</td>\n",
       "      <td>3.856550e-03</td>\n",
       "      <td>6.066408e-01</td>\n",
       "      <td>1.407915e-02</td>\n",
       "      <td>7.129102e-01</td>\n",
       "      <td>6.392043e-02</td>\n",
       "      <td>1.664888e+00</td>\n",
       "      <td>8.860760e-01</td>\n",
       "      <td>7.394659e+01</td>\n",
       "      <td>7.149019e-01</td>\n",
       "      <td>1.966361e-01</td>\n",
       "    </tr>\n",
       "    <tr>\n",
       "      <th>std</th>\n",
       "      <td>8.859252e+03</td>\n",
       "      <td>4.824323e+00</td>\n",
       "      <td>3.159676e+04</td>\n",
       "      <td>1.439575e+01</td>\n",
       "      <td>8.613410e-01</td>\n",
       "      <td>8.803719e-01</td>\n",
       "      <td>2.308542e+01</td>\n",
       "      <td>2.867152e+01</td>\n",
       "      <td>5.606472e-01</td>\n",
       "      <td>1.705110e+04</td>\n",
       "      <td>...</td>\n",
       "      <td>9.259225e-02</td>\n",
       "      <td>5.605731e+00</td>\n",
       "      <td>2.050347e-01</td>\n",
       "      <td>1.360392e+01</td>\n",
       "      <td>1.144538e+00</td>\n",
       "      <td>3.550980e+01</td>\n",
       "      <td>1.851189e+01</td>\n",
       "      <td>7.449337e+02</td>\n",
       "      <td>5.868766e+00</td>\n",
       "      <td>1.883835e+00</td>\n",
       "    </tr>\n",
       "    <tr>\n",
       "      <th>min</th>\n",
       "      <td>5.000000e+02</td>\n",
       "      <td>5.310000e+00</td>\n",
       "      <td>0.000000e+00</td>\n",
       "      <td>-1.000000e+00</td>\n",
       "      <td>0.000000e+00</td>\n",
       "      <td>0.000000e+00</td>\n",
       "      <td>0.000000e+00</td>\n",
       "      <td>0.000000e+00</td>\n",
       "      <td>0.000000e+00</td>\n",
       "      <td>0.000000e+00</td>\n",
       "      <td>...</td>\n",
       "      <td>0.000000e+00</td>\n",
       "      <td>0.000000e+00</td>\n",
       "      <td>0.000000e+00</td>\n",
       "      <td>0.000000e+00</td>\n",
       "      <td>0.000000e+00</td>\n",
       "      <td>0.000000e+00</td>\n",
       "      <td>0.000000e+00</td>\n",
       "      <td>0.000000e+00</td>\n",
       "      <td>0.000000e+00</td>\n",
       "      <td>0.000000e+00</td>\n",
       "    </tr>\n",
       "    <tr>\n",
       "      <th>25%</th>\n",
       "      <td>8.000000e+03</td>\n",
       "      <td>9.670000e+00</td>\n",
       "      <td>4.500000e+04</td>\n",
       "      <td>1.219000e+01</td>\n",
       "      <td>0.000000e+00</td>\n",
       "      <td>0.000000e+00</td>\n",
       "      <td>0.000000e+00</td>\n",
       "      <td>0.000000e+00</td>\n",
       "      <td>0.000000e+00</td>\n",
       "      <td>5.810000e+03</td>\n",
       "      <td>...</td>\n",
       "      <td>0.000000e+00</td>\n",
       "      <td>0.000000e+00</td>\n",
       "      <td>0.000000e+00</td>\n",
       "      <td>0.000000e+00</td>\n",
       "      <td>0.000000e+00</td>\n",
       "      <td>0.000000e+00</td>\n",
       "      <td>0.000000e+00</td>\n",
       "      <td>0.000000e+00</td>\n",
       "      <td>0.000000e+00</td>\n",
       "      <td>0.000000e+00</td>\n",
       "    </tr>\n",
       "    <tr>\n",
       "      <th>50%</th>\n",
       "      <td>1.200000e+04</td>\n",
       "      <td>1.269000e+01</td>\n",
       "      <td>6.400000e+04</td>\n",
       "      <td>1.815000e+01</td>\n",
       "      <td>0.000000e+00</td>\n",
       "      <td>0.000000e+00</td>\n",
       "      <td>0.000000e+00</td>\n",
       "      <td>0.000000e+00</td>\n",
       "      <td>0.000000e+00</td>\n",
       "      <td>1.096600e+04</td>\n",
       "      <td>...</td>\n",
       "      <td>0.000000e+00</td>\n",
       "      <td>0.000000e+00</td>\n",
       "      <td>0.000000e+00</td>\n",
       "      <td>0.000000e+00</td>\n",
       "      <td>0.000000e+00</td>\n",
       "      <td>0.000000e+00</td>\n",
       "      <td>0.000000e+00</td>\n",
       "      <td>0.000000e+00</td>\n",
       "      <td>0.000000e+00</td>\n",
       "      <td>0.000000e+00</td>\n",
       "    </tr>\n",
       "    <tr>\n",
       "      <th>75%</th>\n",
       "      <td>2.000000e+04</td>\n",
       "      <td>1.599000e+01</td>\n",
       "      <td>8.800000e+04</td>\n",
       "      <td>2.476000e+01</td>\n",
       "      <td>0.000000e+00</td>\n",
       "      <td>1.000000e+00</td>\n",
       "      <td>3.000000e+01</td>\n",
       "      <td>0.000000e+00</td>\n",
       "      <td>0.000000e+00</td>\n",
       "      <td>1.927500e+04</td>\n",
       "      <td>...</td>\n",
       "      <td>0.000000e+00</td>\n",
       "      <td>0.000000e+00</td>\n",
       "      <td>0.000000e+00</td>\n",
       "      <td>0.000000e+00</td>\n",
       "      <td>0.000000e+00</td>\n",
       "      <td>0.000000e+00</td>\n",
       "      <td>0.000000e+00</td>\n",
       "      <td>0.000000e+00</td>\n",
       "      <td>0.000000e+00</td>\n",
       "      <td>0.000000e+00</td>\n",
       "    </tr>\n",
       "    <tr>\n",
       "      <th>max</th>\n",
       "      <td>4.000000e+04</td>\n",
       "      <td>3.099000e+01</td>\n",
       "      <td>1.635000e+05</td>\n",
       "      <td>9.990000e+02</td>\n",
       "      <td>5.800000e+01</td>\n",
       "      <td>3.300000e+01</td>\n",
       "      <td>2.260000e+02</td>\n",
       "      <td>1.290000e+02</td>\n",
       "      <td>8.600000e+01</td>\n",
       "      <td>9.597540e+05</td>\n",
       "      <td>...</td>\n",
       "      <td>2.300000e+01</td>\n",
       "      <td>1.850000e+02</td>\n",
       "      <td>3.000000e+00</td>\n",
       "      <td>9.439400e+02</td>\n",
       "      <td>3.700000e+01</td>\n",
       "      <td>2.680890e+03</td>\n",
       "      <td>1.407860e+03</td>\n",
       "      <td>3.360100e+04</td>\n",
       "      <td>5.213500e+02</td>\n",
       "      <td>1.810000e+02</td>\n",
       "    </tr>\n",
       "  </tbody>\n",
       "</table>\n",
       "<p>8 rows × 67 columns</p>\n",
       "</div>"
      ],
      "text/plain": [
       "          loan_amnt      int_rate    annual_inc           dti   delinq_2yrs  \\\n",
       "count  2.150627e+06  2.150627e+06  2.150627e+06  2.150627e+06  2.150627e+06   \n",
       "mean   1.455534e+04  1.315755e+01  6.911525e+04  1.910219e+01  3.019622e-01   \n",
       "std    8.859252e+03  4.824323e+00  3.159676e+04  1.439575e+01  8.613410e-01   \n",
       "min    5.000000e+02  5.310000e+00  0.000000e+00 -1.000000e+00  0.000000e+00   \n",
       "25%    8.000000e+03  9.670000e+00  4.500000e+04  1.219000e+01  0.000000e+00   \n",
       "50%    1.200000e+04  1.269000e+01  6.400000e+04  1.815000e+01  0.000000e+00   \n",
       "75%    2.000000e+04  1.599000e+01  8.800000e+04  2.476000e+01  0.000000e+00   \n",
       "max    4.000000e+04  3.099000e+01  1.635000e+05  9.990000e+02  5.800000e+01   \n",
       "\n",
       "       inq_last_6mths  mths_since_last_delinq  mths_since_last_record  \\\n",
       "count    2.150627e+06            2.150627e+06            2.150627e+06   \n",
       "mean     5.717709e-01            1.680994e+01            1.166151e+01   \n",
       "std      8.803719e-01            2.308542e+01            2.867152e+01   \n",
       "min      0.000000e+00            0.000000e+00            0.000000e+00   \n",
       "25%      0.000000e+00            0.000000e+00            0.000000e+00   \n",
       "50%      0.000000e+00            0.000000e+00            0.000000e+00   \n",
       "75%      1.000000e+00            3.000000e+01            0.000000e+00   \n",
       "max      3.300000e+01            2.260000e+02            1.290000e+02   \n",
       "\n",
       "            pub_rec     revol_bal  ...  sec_app_collections_12_mths_ex_med  \\\n",
       "count  2.150627e+06  2.150627e+06  ...                        2.150627e+06   \n",
       "mean   1.972904e-01  1.522785e+04  ...                        3.856550e-03   \n",
       "std    5.606472e-01  1.705110e+04  ...                        9.259225e-02   \n",
       "min    0.000000e+00  0.000000e+00  ...                        0.000000e+00   \n",
       "25%    0.000000e+00  5.810000e+03  ...                        0.000000e+00   \n",
       "50%    0.000000e+00  1.096600e+04  ...                        0.000000e+00   \n",
       "75%    0.000000e+00  1.927500e+04  ...                        0.000000e+00   \n",
       "max    8.600000e+01  9.597540e+05  ...                        2.300000e+01   \n",
       "\n",
       "       sec_app_mths_since_last_major_derog  deferral_term  hardship_amount  \\\n",
       "count                         2.150627e+06   2.150627e+06     2.150627e+06   \n",
       "mean                          6.066408e-01   1.407915e-02     7.129102e-01   \n",
       "std                           5.605731e+00   2.050347e-01     1.360392e+01   \n",
       "min                           0.000000e+00   0.000000e+00     0.000000e+00   \n",
       "25%                           0.000000e+00   0.000000e+00     0.000000e+00   \n",
       "50%                           0.000000e+00   0.000000e+00     0.000000e+00   \n",
       "75%                           0.000000e+00   0.000000e+00     0.000000e+00   \n",
       "max                           1.850000e+02   3.000000e+00     9.439400e+02   \n",
       "\n",
       "       hardship_dpd  orig_projected_additional_accrued_interest  \\\n",
       "count  2.150627e+06                                2.150627e+06   \n",
       "mean   6.392043e-02                                1.664888e+00   \n",
       "std    1.144538e+00                                3.550980e+01   \n",
       "min    0.000000e+00                                0.000000e+00   \n",
       "25%    0.000000e+00                                0.000000e+00   \n",
       "50%    0.000000e+00                                0.000000e+00   \n",
       "75%    0.000000e+00                                0.000000e+00   \n",
       "max    3.700000e+01                                2.680890e+03   \n",
       "\n",
       "       hardship_last_payment_amount  settlement_amount  settlement_percentage  \\\n",
       "count                  2.150627e+06       2.150627e+06           2.150627e+06   \n",
       "mean                   8.860760e-01       7.394659e+01           7.149019e-01   \n",
       "std                    1.851189e+01       7.449337e+02           5.868766e+00   \n",
       "min                    0.000000e+00       0.000000e+00           0.000000e+00   \n",
       "25%                    0.000000e+00       0.000000e+00           0.000000e+00   \n",
       "50%                    0.000000e+00       0.000000e+00           0.000000e+00   \n",
       "75%                    0.000000e+00       0.000000e+00           0.000000e+00   \n",
       "max                    1.407860e+03       3.360100e+04           5.213500e+02   \n",
       "\n",
       "       settlement_term  \n",
       "count     2.150627e+06  \n",
       "mean      1.966361e-01  \n",
       "std       1.883835e+00  \n",
       "min       0.000000e+00  \n",
       "25%       0.000000e+00  \n",
       "50%       0.000000e+00  \n",
       "75%       0.000000e+00  \n",
       "max       1.810000e+02  \n",
       "\n",
       "[8 rows x 67 columns]"
      ]
     },
     "execution_count": 5,
     "metadata": {},
     "output_type": "execute_result"
    }
   ],
   "source": [
    "df.describe()"
   ]
  },
  {
   "cell_type": "code",
   "execution_count": 6,
   "metadata": {},
   "outputs": [
    {
     "data": {
      "text/plain": [
       "112xx    22865\n",
       "945xx    21787\n",
       "750xx    21749\n",
       "606xx    20025\n",
       "300xx    19156\n",
       "         ...  \n",
       "375xx        1\n",
       "521xx        1\n",
       "733xx        1\n",
       "663xx        1\n",
       "568xx        1\n",
       "Name: zip_code, Length: 955, dtype: int64"
      ]
     },
     "execution_count": 6,
     "metadata": {},
     "output_type": "execute_result"
    }
   ],
   "source": [
    "df['zip_code'].value_counts()"
   ]
  },
  {
   "cell_type": "markdown",
   "metadata": {},
   "source": [
    "## 'loan_status' is the response variable.\n",
    "## Plan to predict fully paid and charged off status\n",
    "## Features of interest are: \n",
    "'tot_cur_bal', 'annual_inc_joint', 'annual_inc', 'mths_since_last_record', 'mths_since_last_major_derog', 'collections_12_mths_ex_med', 'pub_rec_bankruptcies', 'tax_liens', '\n",
    "## Features to not consider are\n",
    "'title','zip_code','addr_state'\n",
    "\n"
   ]
  },
  {
   "cell_type": "code",
   "execution_count": 7,
   "metadata": {},
   "outputs": [],
   "source": [
    "df_sel = df.drop(['title', 'zip_code', 'addr_state'], axis=1)"
   ]
  },
  {
   "cell_type": "markdown",
   "metadata": {},
   "source": [
    "''' \n",
    "# Check these values in df_sel\n",
    "\n",
    "loan_amnt                                   \n",
    "annual_inc   \n",
    "revol_bal  \n",
    "tot_cur_bal\n",
    "total_bal_il\n",
    "max_bal_bc                                  \n",
    "avg_cur_bal  \n",
    "tax_liens      \n",
    "total_bal_ex_mort   \n",
    "total_bc_limit    \n",
    "total_il_high_credit_limit     \n",
    "revol_bal_joint        \n",
    "hardship_amount      \n",
    "hardship_last_payment_amount      \n",
    "settlement_amount                  \n",
    "'''"
   ]
  },
  {
   "cell_type": "code",
   "execution_count": 8,
   "metadata": {},
   "outputs": [
    {
     "data": {
      "text/plain": [
       "10000    183149\n",
       "20000    123816\n",
       "12000    118794\n",
       "15000    118790\n",
       "5000      83452\n",
       "          ...  \n",
       "725           1\n",
       "550           1\n",
       "950           1\n",
       "850           1\n",
       "750           1\n",
       "Name: loan_amnt, Length: 1571, dtype: int64"
      ]
     },
     "execution_count": 8,
     "metadata": {},
     "output_type": "execute_result"
    }
   ],
   "source": [
    "df_sel['loan_amnt'].value_counts()"
   ]
  },
  {
   "cell_type": "code",
   "execution_count": 9,
   "metadata": {},
   "outputs": [
    {
     "data": {
      "text/plain": [
       "60000.0     87189\n",
       "50000.0     76355\n",
       "65000.0     64903\n",
       "70000.0     62078\n",
       "80000.0     59833\n",
       "            ...  \n",
       "44271.0         1\n",
       "44269.0         1\n",
       "94657.0         1\n",
       "94659.0         1\n",
       "131070.0        1\n",
       "Name: annual_inc, Length: 83915, dtype: int64"
      ]
     },
     "execution_count": 9,
     "metadata": {},
     "output_type": "execute_result"
    }
   ],
   "source": [
    "df_sel['annual_inc'].value_counts()"
   ]
  },
  {
   "cell_type": "code",
   "execution_count": 10,
   "metadata": {},
   "outputs": [
    {
     "data": {
      "text/plain": [
       "0         11980\n",
       "8           209\n",
       "2           163\n",
       "10          159\n",
       "5235        158\n",
       "          ...  \n",
       "94025         1\n",
       "96074         1\n",
       "85837         1\n",
       "110417        1\n",
       "109518        1\n",
       "Name: revol_bal, Length: 88143, dtype: int64"
      ]
     },
     "execution_count": 10,
     "metadata": {},
     "output_type": "execute_result"
    }
   ],
   "source": [
    "df_sel['revol_bal'].value_counts()"
   ]
  },
  {
   "cell_type": "code",
   "execution_count": 11,
   "metadata": {},
   "outputs": [
    {
     "data": {
      "text/plain": [
       "0.0         69031\n",
       "14186.0        41\n",
       "20275.0        39\n",
       "22831.0        38\n",
       "23442.0        38\n",
       "            ...  \n",
       "309690.0        1\n",
       "309689.0        1\n",
       "309686.0        1\n",
       "509276.0        1\n",
       "381300.0        1\n",
       "Name: tot_cur_bal, Length: 447363, dtype: int64"
      ]
     },
     "execution_count": 11,
     "metadata": {},
     "output_type": "execute_result"
    }
   ],
   "source": [
    "df_sel['tot_cur_bal'].value_counts()"
   ]
  },
  {
   "cell_type": "code",
   "execution_count": 12,
   "metadata": {},
   "outputs": [
    {
     "data": {
      "text/plain": [
       "0.0         986116\n",
       "10000.0         98\n",
       "15000.0         90\n",
       "5000.0          83\n",
       "5500.0          76\n",
       "             ...  \n",
       "339145.0         1\n",
       "339113.0         1\n",
       "339092.0         1\n",
       "339074.0         1\n",
       "84262.0          1\n",
       "Name: total_bal_il, Length: 152044, dtype: int64"
      ]
     },
     "execution_count": 12,
     "metadata": {},
     "output_type": "execute_result"
    }
   ],
   "source": [
    "df_sel['total_bal_il'].value_counts()"
   ]
  },
  {
   "cell_type": "code",
   "execution_count": 13,
   "metadata": {},
   "outputs": [
    {
     "data": {
      "text/plain": [
       "0.0         866592\n",
       "8.0            544\n",
       "3000.0         522\n",
       "2000.0         495\n",
       "4000.0         437\n",
       "             ...  \n",
       "27465.0          1\n",
       "27460.0          1\n",
       "27456.0          1\n",
       "27453.0          1\n",
       "131035.0         1\n",
       "Name: max_bal_bc, Length: 30086, dtype: int64"
      ]
     },
     "execution_count": 13,
     "metadata": {},
     "output_type": "execute_result"
    }
   ],
   "source": [
    "df_sel['max_bal_bc'].value_counts()"
   ]
  },
  {
   "cell_type": "code",
   "execution_count": 14,
   "metadata": {},
   "outputs": [
    {
     "data": {
      "text/plain": [
       "0.0         69048\n",
       "2277.0        269\n",
       "2442.0        267\n",
       "2148.0        265\n",
       "2025.0        265\n",
       "            ...  \n",
       "72094.0         1\n",
       "72092.0         1\n",
       "72087.0         1\n",
       "72086.0         1\n",
       "131042.0        1\n",
       "Name: avg_cur_bal, Length: 80280, dtype: int64"
      ]
     },
     "execution_count": 14,
     "metadata": {},
     "output_type": "execute_result"
    }
   ],
   "source": [
    "df_sel['avg_cur_bal'].value_counts()"
   ]
  },
  {
   "cell_type": "code",
   "execution_count": 15,
   "metadata": {},
   "outputs": [
    {
     "data": {
      "text/plain": [
       "0.0     2092608\n",
       "1.0       39790\n",
       "2.0       10776\n",
       "3.0        3866\n",
       "4.0        1673\n",
       "5.0         851\n",
       "6.0         443\n",
       "7.0         204\n",
       "8.0         135\n",
       "9.0          81\n",
       "10.0         62\n",
       "11.0         32\n",
       "12.0         19\n",
       "13.0         12\n",
       "14.0         11\n",
       "15.0         11\n",
       "17.0          7\n",
       "18.0          6\n",
       "22.0          5\n",
       "21.0          5\n",
       "16.0          5\n",
       "19.0          2\n",
       "20.0          2\n",
       "61.0          2\n",
       "24.0          2\n",
       "46.0          2\n",
       "45.0          2\n",
       "37.0          1\n",
       "53.0          1\n",
       "52.0          1\n",
       "48.0          1\n",
       "39.0          1\n",
       "34.0          1\n",
       "85.0          1\n",
       "29.0          1\n",
       "28.0          1\n",
       "27.0          1\n",
       "25.0          1\n",
       "23.0          1\n",
       "63.0          1\n",
       "Name: tax_liens, dtype: int64"
      ]
     },
     "execution_count": 15,
     "metadata": {},
     "output_type": "execute_result"
    }
   ],
   "source": [
    "df_sel['tax_liens'].value_counts()"
   ]
  },
  {
   "cell_type": "code",
   "execution_count": 16,
   "metadata": {},
   "outputs": [
    {
     "data": {
      "text/plain": [
       "0.0         49942\n",
       "24214.0        57\n",
       "23068.0        57\n",
       "20275.0        57\n",
       "19095.0        56\n",
       "            ...  \n",
       "320651.0        1\n",
       "194012.0        1\n",
       "194009.0        1\n",
       "320659.0        1\n",
       "125310.0        1\n",
       "Name: total_bal_ex_mort, Length: 194363, dtype: int64"
      ]
     },
     "execution_count": 16,
     "metadata": {},
     "output_type": "execute_result"
    }
   ],
   "source": [
    "df_sel['total_bal_ex_mort'].value_counts()"
   ]
  },
  {
   "cell_type": "code",
   "execution_count": 17,
   "metadata": {},
   "outputs": [
    {
     "data": {
      "text/plain": [
       "0.0        73131\n",
       "5000.0     16656\n",
       "6000.0     14857\n",
       "10000.0    14392\n",
       "7000.0     14119\n",
       "           ...  \n",
       "38144.0        1\n",
       "38143.0        1\n",
       "38132.0        1\n",
       "38130.0        1\n",
       "29778.0        1\n",
       "Name: total_bc_limit, Length: 18408, dtype: int64"
      ]
     },
     "execution_count": 17,
     "metadata": {},
     "output_type": "execute_result"
    }
   ],
   "source": [
    "df_sel['total_bc_limit'].value_counts()"
   ]
  },
  {
   "cell_type": "code",
   "execution_count": 18,
   "metadata": {},
   "outputs": [
    {
     "data": {
      "text/plain": [
       "0.0         324857\n",
       "10000.0      13083\n",
       "15000.0       9912\n",
       "5000.0        8071\n",
       "20000.0       7998\n",
       "             ...  \n",
       "211627.0         1\n",
       "211619.0         1\n",
       "211611.0         1\n",
       "211608.0         1\n",
       "194698.0         1\n",
       "Name: total_il_high_credit_limit, Length: 179974, dtype: int64"
      ]
     },
     "execution_count": 18,
     "metadata": {},
     "output_type": "execute_result"
    }
   ],
   "source": [
    "df_sel['total_il_high_credit_limit'].value_counts()"
   ]
  },
  {
   "cell_type": "code",
   "execution_count": 19,
   "metadata": {},
   "outputs": [
    {
     "data": {
      "text/plain": [
       "0.0         2045053\n",
       "20804.0          10\n",
       "21072.0           9\n",
       "11771.0           9\n",
       "10041.0           9\n",
       "             ...   \n",
       "29454.0           1\n",
       "29455.0           1\n",
       "29456.0           1\n",
       "29458.0           1\n",
       "130981.0          1\n",
       "Name: revol_bal_joint, Length: 55621, dtype: int64"
      ]
     },
     "execution_count": 19,
     "metadata": {},
     "output_type": "execute_result"
    }
   ],
   "source": [
    "df_sel['revol_bal_joint'].value_counts()"
   ]
  },
  {
   "cell_type": "code",
   "execution_count": 20,
   "metadata": {},
   "outputs": [
    {
     "data": {
      "text/plain": [
       "0.00      2140534\n",
       "94.59           5\n",
       "48.56           5\n",
       "53.05           5\n",
       "69.90           5\n",
       "           ...   \n",
       "101.21          1\n",
       "482.40          1\n",
       "156.07          1\n",
       "568.60          1\n",
       "420.62          1\n",
       "Name: hardship_amount, Length: 8553, dtype: int64"
      ]
     },
     "execution_count": 20,
     "metadata": {},
     "output_type": "execute_result"
    }
   ],
   "source": [
    "df_sel['hardship_amount'].value_counts()"
   ]
  },
  {
   "cell_type": "code",
   "execution_count": 21,
   "metadata": {},
   "outputs": [
    {
     "data": {
      "text/plain": [
       "0.00      2140534\n",
       "0.02           25\n",
       "0.03           25\n",
       "0.12           23\n",
       "0.11           22\n",
       "           ...   \n",
       "482.10          1\n",
       "575.35          1\n",
       "157.82          1\n",
       "73.23           1\n",
       "373.61          1\n",
       "Name: hardship_last_payment_amount, Length: 8388, dtype: int64"
      ]
     },
     "execution_count": 21,
     "metadata": {},
     "output_type": "execute_result"
    }
   ],
   "source": [
    "df_sel['hardship_last_payment_amount'].value_counts()"
   ]
  },
  {
   "cell_type": "code",
   "execution_count": 22,
   "metadata": {},
   "outputs": [
    {
     "data": {
      "text/plain": [
       "0.00        2118442\n",
       "5000.00          61\n",
       "4000.00          49\n",
       "3000.00          48\n",
       "6000.00          47\n",
       "             ...   \n",
       "10857.25          1\n",
       "10858.00          1\n",
       "1048.80           1\n",
       "1600.01           1\n",
       "6226.00           1\n",
       "Name: settlement_amount, Length: 21005, dtype: int64"
      ]
     },
     "execution_count": 22,
     "metadata": {},
     "output_type": "execute_result"
    }
   ],
   "source": [
    "df_sel['settlement_amount'].value_counts()"
   ]
  },
  {
   "cell_type": "code",
   "execution_count": 23,
   "metadata": {},
   "outputs": [
    {
     "data": {
      "text/plain": [
       "['term',\n",
       " 'grade',\n",
       " 'sub_grade',\n",
       " 'home_ownership',\n",
       " 'verification_status',\n",
       " 'pymnt_plan',\n",
       " 'initial_list_status',\n",
       " 'application_type',\n",
       " 'verification_status_joint',\n",
       " 'hardship_flag',\n",
       " 'hardship_type',\n",
       " 'hardship_reason',\n",
       " 'hardship_status',\n",
       " 'hardship_loan_status',\n",
       " 'debt_settlement_flag',\n",
       " 'settlement_status']"
      ]
     },
     "execution_count": 23,
     "metadata": {},
     "output_type": "execute_result"
    }
   ],
   "source": [
    "# Create a list of object columns.  Exclude response variable 'loan_status'\n",
    "cols_obj = []\n",
    "for col in df_sel.columns:\n",
    "    if df_sel[col].dtype == object:\n",
    "        cols_obj.append(col)\n",
    "cols_obj.remove('loan_status')\n",
    "cols_obj"
   ]
  },
  {
   "cell_type": "code",
   "execution_count": 24,
   "metadata": {},
   "outputs": [
    {
     "data": {
      "text/html": [
       "<div>\n",
       "<style scoped>\n",
       "    .dataframe tbody tr th:only-of-type {\n",
       "        vertical-align: middle;\n",
       "    }\n",
       "\n",
       "    .dataframe tbody tr th {\n",
       "        vertical-align: top;\n",
       "    }\n",
       "\n",
       "    .dataframe thead th {\n",
       "        text-align: right;\n",
       "    }\n",
       "</style>\n",
       "<table border=\"1\" class=\"dataframe\">\n",
       "  <thead>\n",
       "    <tr style=\"text-align: right;\">\n",
       "      <th></th>\n",
       "      <th>loan_amnt</th>\n",
       "      <th>int_rate</th>\n",
       "      <th>annual_inc</th>\n",
       "      <th>dti</th>\n",
       "      <th>delinq_2yrs</th>\n",
       "      <th>inq_last_6mths</th>\n",
       "      <th>mths_since_last_delinq</th>\n",
       "      <th>mths_since_last_record</th>\n",
       "      <th>pub_rec</th>\n",
       "      <th>revol_bal</th>\n",
       "      <th>...</th>\n",
       "      <th>hardship_loan_status_Current</th>\n",
       "      <th>hardship_loan_status_In Grace Period</th>\n",
       "      <th>hardship_loan_status_Issued</th>\n",
       "      <th>hardship_loan_status_Late (16-30 days)</th>\n",
       "      <th>hardship_loan_status_Late (31-120 days)</th>\n",
       "      <th>debt_settlement_flag_N</th>\n",
       "      <th>debt_settlement_flag_Y</th>\n",
       "      <th>settlement_status_ACTIVE</th>\n",
       "      <th>settlement_status_BROKEN</th>\n",
       "      <th>settlement_status_COMPLETE</th>\n",
       "    </tr>\n",
       "  </thead>\n",
       "  <tbody>\n",
       "    <tr>\n",
       "      <th>0</th>\n",
       "      <td>2500</td>\n",
       "      <td>13.56</td>\n",
       "      <td>55000.0</td>\n",
       "      <td>18.24</td>\n",
       "      <td>0.0</td>\n",
       "      <td>1.0</td>\n",
       "      <td>0.0</td>\n",
       "      <td>45.0</td>\n",
       "      <td>1.0</td>\n",
       "      <td>4341</td>\n",
       "      <td>...</td>\n",
       "      <td>0</td>\n",
       "      <td>0</td>\n",
       "      <td>0</td>\n",
       "      <td>0</td>\n",
       "      <td>0</td>\n",
       "      <td>1</td>\n",
       "      <td>0</td>\n",
       "      <td>0</td>\n",
       "      <td>0</td>\n",
       "      <td>0</td>\n",
       "    </tr>\n",
       "    <tr>\n",
       "      <th>1</th>\n",
       "      <td>30000</td>\n",
       "      <td>18.94</td>\n",
       "      <td>90000.0</td>\n",
       "      <td>26.52</td>\n",
       "      <td>0.0</td>\n",
       "      <td>0.0</td>\n",
       "      <td>71.0</td>\n",
       "      <td>75.0</td>\n",
       "      <td>1.0</td>\n",
       "      <td>12315</td>\n",
       "      <td>...</td>\n",
       "      <td>0</td>\n",
       "      <td>0</td>\n",
       "      <td>0</td>\n",
       "      <td>0</td>\n",
       "      <td>0</td>\n",
       "      <td>1</td>\n",
       "      <td>0</td>\n",
       "      <td>0</td>\n",
       "      <td>0</td>\n",
       "      <td>0</td>\n",
       "    </tr>\n",
       "    <tr>\n",
       "      <th>2</th>\n",
       "      <td>5000</td>\n",
       "      <td>17.97</td>\n",
       "      <td>59280.0</td>\n",
       "      <td>10.51</td>\n",
       "      <td>0.0</td>\n",
       "      <td>0.0</td>\n",
       "      <td>0.0</td>\n",
       "      <td>0.0</td>\n",
       "      <td>0.0</td>\n",
       "      <td>4599</td>\n",
       "      <td>...</td>\n",
       "      <td>0</td>\n",
       "      <td>0</td>\n",
       "      <td>0</td>\n",
       "      <td>0</td>\n",
       "      <td>0</td>\n",
       "      <td>1</td>\n",
       "      <td>0</td>\n",
       "      <td>0</td>\n",
       "      <td>0</td>\n",
       "      <td>0</td>\n",
       "    </tr>\n",
       "    <tr>\n",
       "      <th>3</th>\n",
       "      <td>4000</td>\n",
       "      <td>18.94</td>\n",
       "      <td>92000.0</td>\n",
       "      <td>16.74</td>\n",
       "      <td>0.0</td>\n",
       "      <td>0.0</td>\n",
       "      <td>0.0</td>\n",
       "      <td>0.0</td>\n",
       "      <td>0.0</td>\n",
       "      <td>5468</td>\n",
       "      <td>...</td>\n",
       "      <td>0</td>\n",
       "      <td>0</td>\n",
       "      <td>0</td>\n",
       "      <td>0</td>\n",
       "      <td>0</td>\n",
       "      <td>1</td>\n",
       "      <td>0</td>\n",
       "      <td>0</td>\n",
       "      <td>0</td>\n",
       "      <td>0</td>\n",
       "    </tr>\n",
       "    <tr>\n",
       "      <th>4</th>\n",
       "      <td>30000</td>\n",
       "      <td>16.14</td>\n",
       "      <td>57250.0</td>\n",
       "      <td>26.35</td>\n",
       "      <td>0.0</td>\n",
       "      <td>0.0</td>\n",
       "      <td>0.0</td>\n",
       "      <td>0.0</td>\n",
       "      <td>0.0</td>\n",
       "      <td>829</td>\n",
       "      <td>...</td>\n",
       "      <td>0</td>\n",
       "      <td>0</td>\n",
       "      <td>0</td>\n",
       "      <td>0</td>\n",
       "      <td>0</td>\n",
       "      <td>1</td>\n",
       "      <td>0</td>\n",
       "      <td>0</td>\n",
       "      <td>0</td>\n",
       "      <td>0</td>\n",
       "    </tr>\n",
       "  </tbody>\n",
       "</table>\n",
       "<p>5 rows × 155 columns</p>\n",
       "</div>"
      ],
      "text/plain": [
       "   loan_amnt  int_rate  annual_inc    dti  delinq_2yrs  inq_last_6mths  \\\n",
       "0       2500     13.56     55000.0  18.24          0.0             1.0   \n",
       "1      30000     18.94     90000.0  26.52          0.0             0.0   \n",
       "2       5000     17.97     59280.0  10.51          0.0             0.0   \n",
       "3       4000     18.94     92000.0  16.74          0.0             0.0   \n",
       "4      30000     16.14     57250.0  26.35          0.0             0.0   \n",
       "\n",
       "   mths_since_last_delinq  mths_since_last_record  pub_rec  revol_bal  ...  \\\n",
       "0                     0.0                    45.0      1.0       4341  ...   \n",
       "1                    71.0                    75.0      1.0      12315  ...   \n",
       "2                     0.0                     0.0      0.0       4599  ...   \n",
       "3                     0.0                     0.0      0.0       5468  ...   \n",
       "4                     0.0                     0.0      0.0        829  ...   \n",
       "\n",
       "   hardship_loan_status_Current  hardship_loan_status_In Grace Period  \\\n",
       "0                             0                                     0   \n",
       "1                             0                                     0   \n",
       "2                             0                                     0   \n",
       "3                             0                                     0   \n",
       "4                             0                                     0   \n",
       "\n",
       "   hardship_loan_status_Issued  hardship_loan_status_Late (16-30 days)  \\\n",
       "0                            0                                       0   \n",
       "1                            0                                       0   \n",
       "2                            0                                       0   \n",
       "3                            0                                       0   \n",
       "4                            0                                       0   \n",
       "\n",
       "   hardship_loan_status_Late (31-120 days)  debt_settlement_flag_N  \\\n",
       "0                                        0                       1   \n",
       "1                                        0                       1   \n",
       "2                                        0                       1   \n",
       "3                                        0                       1   \n",
       "4                                        0                       1   \n",
       "\n",
       "   debt_settlement_flag_Y  settlement_status_ACTIVE  settlement_status_BROKEN  \\\n",
       "0                       0                         0                         0   \n",
       "1                       0                         0                         0   \n",
       "2                       0                         0                         0   \n",
       "3                       0                         0                         0   \n",
       "4                       0                         0                         0   \n",
       "\n",
       "   settlement_status_COMPLETE  \n",
       "0                           0  \n",
       "1                           0  \n",
       "2                           0  \n",
       "3                           0  \n",
       "4                           0  \n",
       "\n",
       "[5 rows x 155 columns]"
      ]
     },
     "execution_count": 24,
     "metadata": {},
     "output_type": "execute_result"
    }
   ],
   "source": [
    "df_sel = pd.concat([df_sel.drop(cols_obj, axis=1), pd.get_dummies(df_sel[cols_obj])], axis=1)\n",
    "df_sel.head(5)"
   ]
  },
  {
   "cell_type": "code",
   "execution_count": 25,
   "metadata": {},
   "outputs": [
    {
     "data": {
      "text/html": [
       "<div>\n",
       "<style scoped>\n",
       "    .dataframe tbody tr th:only-of-type {\n",
       "        vertical-align: middle;\n",
       "    }\n",
       "\n",
       "    .dataframe tbody tr th {\n",
       "        vertical-align: top;\n",
       "    }\n",
       "\n",
       "    .dataframe thead th {\n",
       "        text-align: right;\n",
       "    }\n",
       "</style>\n",
       "<table border=\"1\" class=\"dataframe\">\n",
       "  <thead>\n",
       "    <tr style=\"text-align: right;\">\n",
       "      <th></th>\n",
       "      <th>loan_amnt</th>\n",
       "      <th>int_rate</th>\n",
       "      <th>annual_inc</th>\n",
       "      <th>dti</th>\n",
       "      <th>delinq_2yrs</th>\n",
       "      <th>inq_last_6mths</th>\n",
       "      <th>mths_since_last_delinq</th>\n",
       "      <th>mths_since_last_record</th>\n",
       "      <th>pub_rec</th>\n",
       "      <th>revol_bal</th>\n",
       "      <th>...</th>\n",
       "      <th>hardship_loan_status_Current</th>\n",
       "      <th>hardship_loan_status_In Grace Period</th>\n",
       "      <th>hardship_loan_status_Issued</th>\n",
       "      <th>hardship_loan_status_Late (16-30 days)</th>\n",
       "      <th>hardship_loan_status_Late (31-120 days)</th>\n",
       "      <th>debt_settlement_flag_N</th>\n",
       "      <th>debt_settlement_flag_Y</th>\n",
       "      <th>settlement_status_ACTIVE</th>\n",
       "      <th>settlement_status_BROKEN</th>\n",
       "      <th>settlement_status_COMPLETE</th>\n",
       "    </tr>\n",
       "  </thead>\n",
       "  <tbody>\n",
       "    <tr>\n",
       "      <th>1839955</th>\n",
       "      <td>6000</td>\n",
       "      <td>7.90</td>\n",
       "      <td>45000.0</td>\n",
       "      <td>22.89</td>\n",
       "      <td>0.0</td>\n",
       "      <td>3.0</td>\n",
       "      <td>0.0</td>\n",
       "      <td>0.0</td>\n",
       "      <td>0.0</td>\n",
       "      <td>7181</td>\n",
       "      <td>...</td>\n",
       "      <td>0</td>\n",
       "      <td>0</td>\n",
       "      <td>0</td>\n",
       "      <td>0</td>\n",
       "      <td>0</td>\n",
       "      <td>1</td>\n",
       "      <td>0</td>\n",
       "      <td>0</td>\n",
       "      <td>0</td>\n",
       "      <td>0</td>\n",
       "    </tr>\n",
       "    <tr>\n",
       "      <th>1639565</th>\n",
       "      <td>25300</td>\n",
       "      <td>17.99</td>\n",
       "      <td>58584.0</td>\n",
       "      <td>14.07</td>\n",
       "      <td>0.0</td>\n",
       "      <td>0.0</td>\n",
       "      <td>0.0</td>\n",
       "      <td>0.0</td>\n",
       "      <td>0.0</td>\n",
       "      <td>10110</td>\n",
       "      <td>...</td>\n",
       "      <td>0</td>\n",
       "      <td>0</td>\n",
       "      <td>0</td>\n",
       "      <td>0</td>\n",
       "      <td>0</td>\n",
       "      <td>1</td>\n",
       "      <td>0</td>\n",
       "      <td>0</td>\n",
       "      <td>0</td>\n",
       "      <td>0</td>\n",
       "    </tr>\n",
       "    <tr>\n",
       "      <th>44669</th>\n",
       "      <td>10000</td>\n",
       "      <td>10.33</td>\n",
       "      <td>90000.0</td>\n",
       "      <td>8.87</td>\n",
       "      <td>0.0</td>\n",
       "      <td>0.0</td>\n",
       "      <td>28.0</td>\n",
       "      <td>0.0</td>\n",
       "      <td>0.0</td>\n",
       "      <td>10817</td>\n",
       "      <td>...</td>\n",
       "      <td>0</td>\n",
       "      <td>0</td>\n",
       "      <td>0</td>\n",
       "      <td>0</td>\n",
       "      <td>0</td>\n",
       "      <td>1</td>\n",
       "      <td>0</td>\n",
       "      <td>0</td>\n",
       "      <td>0</td>\n",
       "      <td>0</td>\n",
       "    </tr>\n",
       "    <tr>\n",
       "      <th>2245055</th>\n",
       "      <td>4800</td>\n",
       "      <td>7.21</td>\n",
       "      <td>125000.0</td>\n",
       "      <td>7.56</td>\n",
       "      <td>0.0</td>\n",
       "      <td>0.0</td>\n",
       "      <td>0.0</td>\n",
       "      <td>0.0</td>\n",
       "      <td>0.0</td>\n",
       "      <td>38760</td>\n",
       "      <td>...</td>\n",
       "      <td>0</td>\n",
       "      <td>0</td>\n",
       "      <td>0</td>\n",
       "      <td>0</td>\n",
       "      <td>0</td>\n",
       "      <td>1</td>\n",
       "      <td>0</td>\n",
       "      <td>0</td>\n",
       "      <td>0</td>\n",
       "      <td>0</td>\n",
       "    </tr>\n",
       "    <tr>\n",
       "      <th>1884322</th>\n",
       "      <td>4000</td>\n",
       "      <td>19.24</td>\n",
       "      <td>35800.0</td>\n",
       "      <td>23.73</td>\n",
       "      <td>0.0</td>\n",
       "      <td>3.0</td>\n",
       "      <td>64.0</td>\n",
       "      <td>0.0</td>\n",
       "      <td>0.0</td>\n",
       "      <td>6039</td>\n",
       "      <td>...</td>\n",
       "      <td>0</td>\n",
       "      <td>0</td>\n",
       "      <td>0</td>\n",
       "      <td>0</td>\n",
       "      <td>0</td>\n",
       "      <td>1</td>\n",
       "      <td>0</td>\n",
       "      <td>0</td>\n",
       "      <td>0</td>\n",
       "      <td>0</td>\n",
       "    </tr>\n",
       "  </tbody>\n",
       "</table>\n",
       "<p>5 rows × 155 columns</p>\n",
       "</div>"
      ],
      "text/plain": [
       "         loan_amnt  int_rate  annual_inc    dti  delinq_2yrs  inq_last_6mths  \\\n",
       "1839955       6000      7.90     45000.0  22.89          0.0             3.0   \n",
       "1639565      25300     17.99     58584.0  14.07          0.0             0.0   \n",
       "44669        10000     10.33     90000.0   8.87          0.0             0.0   \n",
       "2245055       4800      7.21    125000.0   7.56          0.0             0.0   \n",
       "1884322       4000     19.24     35800.0  23.73          0.0             3.0   \n",
       "\n",
       "         mths_since_last_delinq  mths_since_last_record  pub_rec  revol_bal  \\\n",
       "1839955                     0.0                     0.0      0.0       7181   \n",
       "1639565                     0.0                     0.0      0.0      10110   \n",
       "44669                      28.0                     0.0      0.0      10817   \n",
       "2245055                     0.0                     0.0      0.0      38760   \n",
       "1884322                    64.0                     0.0      0.0       6039   \n",
       "\n",
       "         ...  hardship_loan_status_Current  \\\n",
       "1839955  ...                             0   \n",
       "1639565  ...                             0   \n",
       "44669    ...                             0   \n",
       "2245055  ...                             0   \n",
       "1884322  ...                             0   \n",
       "\n",
       "         hardship_loan_status_In Grace Period  hardship_loan_status_Issued  \\\n",
       "1839955                                     0                            0   \n",
       "1639565                                     0                            0   \n",
       "44669                                       0                            0   \n",
       "2245055                                     0                            0   \n",
       "1884322                                     0                            0   \n",
       "\n",
       "         hardship_loan_status_Late (16-30 days)  \\\n",
       "1839955                                       0   \n",
       "1639565                                       0   \n",
       "44669                                         0   \n",
       "2245055                                       0   \n",
       "1884322                                       0   \n",
       "\n",
       "         hardship_loan_status_Late (31-120 days)  debt_settlement_flag_N  \\\n",
       "1839955                                        0                       1   \n",
       "1639565                                        0                       1   \n",
       "44669                                          0                       1   \n",
       "2245055                                        0                       1   \n",
       "1884322                                        0                       1   \n",
       "\n",
       "         debt_settlement_flag_Y  settlement_status_ACTIVE  \\\n",
       "1839955                       0                         0   \n",
       "1639565                       0                         0   \n",
       "44669                         0                         0   \n",
       "2245055                       0                         0   \n",
       "1884322                       0                         0   \n",
       "\n",
       "         settlement_status_BROKEN  settlement_status_COMPLETE  \n",
       "1839955                         0                           0  \n",
       "1639565                         0                           0  \n",
       "44669                           0                           0  \n",
       "2245055                         0                           0  \n",
       "1884322                         0                           0  \n",
       "\n",
       "[5 rows x 155 columns]"
      ]
     },
     "execution_count": 25,
     "metadata": {},
     "output_type": "execute_result"
    }
   ],
   "source": [
    "# Using a sample size of 200,000 for modeling, due to Memory error when using all 2 million observations.\n",
    "df_sample = df_sel.sample(200000)\n",
    "df_sample.head()"
   ]
  },
  {
   "cell_type": "code",
   "execution_count": 26,
   "metadata": {},
   "outputs": [],
   "source": [
    "y = df_sample['loan_status']\n",
    "X = df_sample.drop(['loan_status'], axis=1)"
   ]
  },
  {
   "cell_type": "code",
   "execution_count": 27,
   "metadata": {},
   "outputs": [],
   "source": [
    "from sklearn.model_selection import train_test_split\n",
    "\n",
    "y = y.ravel()\n",
    "X_train, X_test, y_train, y_test = train_test_split(X, y, test_size=0.25, random_state=1)"
   ]
  },
  {
   "cell_type": "code",
   "execution_count": 28,
   "metadata": {},
   "outputs": [
    {
     "data": {
      "text/plain": [
       "array([[ 1.74138432, -1.23373268,  1.60777147, ..., -0.0829886 ,\n",
       "        -0.04491542, -0.08021515],\n",
       "       [-0.01979553,  0.89430734, -0.22887155, ..., -0.0829886 ,\n",
       "        -0.04491542, -0.08021515],\n",
       "       [-1.08101929, -0.03489532, -1.24219184, ..., -0.0829886 ,\n",
       "        -0.04491542, -0.08021515],\n",
       "       ...,\n",
       "       [-1.08101929, -0.44971794, -1.02052802, ..., -0.0829886 ,\n",
       "        -0.04491542, -0.08021515],\n",
       "       [-1.36325965, -0.13860097, -0.83053047, ..., -0.0829886 ,\n",
       "        -0.04491542, -0.08021515],\n",
       "       [ 1.28979974, -1.28351139,  0.02445852, ..., -0.0829886 ,\n",
       "        -0.04491542, -0.08021515]])"
      ]
     },
     "execution_count": 28,
     "metadata": {},
     "output_type": "execute_result"
    }
   ],
   "source": [
    "from sklearn import preprocessing as ppg\n",
    "\n",
    "scaler = ppg.StandardScaler().fit(X_train)\n",
    "X_train_scaled=scaler.transform(X_train)\n",
    "X_train_scaled"
   ]
  },
  {
   "cell_type": "code",
   "execution_count": 29,
   "metadata": {},
   "outputs": [
    {
     "data": {
      "text/plain": [
       "array([[ 0.18341753,  0.191183  , -1.24219184, ..., -0.0829886 ,\n",
       "        -0.04491542, -0.08021515],\n",
       "       [ 0.38663059, -0.08674815, -0.52970101, ..., -0.0829886 ,\n",
       "        -0.04491542, -0.08021515],\n",
       "       [-0.29074628, -0.05978468, -0.92552925, ..., -0.0829886 ,\n",
       "        -0.04491542, -0.08021515],\n",
       "       ...,\n",
       "       [ 1.24464129,  1.41905795,  0.75658243, ..., -0.0829886 ,\n",
       "        -0.04491542, -0.08021515],\n",
       "       [-0.44880088, -0.88320757,  1.14227746, ..., -0.0829886 ,\n",
       "        -0.04491542, -0.08021515],\n",
       "       [-1.13746736,  0.23888761, -0.79886421, ..., -0.0829886 ,\n",
       "        -0.04491542, -0.08021515]])"
      ]
     },
     "execution_count": 29,
     "metadata": {},
     "output_type": "execute_result"
    }
   ],
   "source": [
    "X_test_scaled = scaler.transform(X_test)\n",
    "X_test_scaled"
   ]
  },
  {
   "cell_type": "code",
   "execution_count": null,
   "metadata": {},
   "outputs": [],
   "source": []
  },
  {
   "cell_type": "markdown",
   "metadata": {},
   "source": [
    "# Logistic Regression"
   ]
  },
  {
   "cell_type": "code",
   "execution_count": 30,
   "metadata": {},
   "outputs": [
    {
     "name": "stdout",
     "output_type": "stream",
     "text": [
      "Tuned Logistic Regression Parameters: {'C': 100}\n",
      "Best score is 0.97462\n",
      "0.97306\n"
     ]
    }
   ],
   "source": [
    "# Using K fold cross validation and Grid search to get the most accurate prediction\n",
    "\n",
    "from sklearn.linear_model import LogisticRegression\n",
    "from sklearn.metrics import accuracy_score\n",
    "from sklearn.model_selection import GridSearchCV\n",
    "\n",
    "#the grid of parameters to search over\n",
    "Cs = [0.001, 0.1, 1, 10, 100]\n",
    "\n",
    "param_grid = {'C': Cs}\n",
    "logreg = LogisticRegression()\n",
    "logreg_cv = GridSearchCV(logreg, param_grid, cv=5)\n",
    "logreg_cv.fit(X_train_scaled, y_train)\n",
    "print(\"Tuned Logistic Regression Parameters: {}\".format(logreg_cv.best_params_)) \n",
    "print(\"Best score is {}\".format(logreg_cv.best_score_))\n",
    "# Print the accuracy from the testing data.\n",
    "print(accuracy_score(logreg_cv.predict(X_test_scaled), y_test))\n",
    "\n",
    "#clf = LogisticRegression(max_iter=200)\n",
    "# Fit the model on the trainng data.\n",
    "#clf.fit(X_train_scaled, y_train)\n",
    "#y_pred_log = clf.predict(X_test_scaled)\n",
    "# Print the accuracy from the testing data.\n",
    "#print(accuracy_score(y_pred_log, y_test))"
   ]
  },
  {
   "cell_type": "code",
   "execution_count": 31,
   "metadata": {},
   "outputs": [
    {
     "data": {
      "text/plain": [
       "array([[ 5781,    11,     0,     3,   111,     1,     0,     2],\n",
       "       [    2, 19905,     0,     0,   382,     0,     3,     9],\n",
       "       [    7,     0,     4,     4,     1,     0,     0,     0],\n",
       "       [    0,     0,     2,    18,    14,     0,     0,     0],\n",
       "       [   16,    22,     0,     8, 22907,     1,     0,     0],\n",
       "       [    0,   207,     0,     0,     3,     0,     0,     3],\n",
       "       [    0,    76,     0,     0,     1,     0,     0,     2],\n",
       "       [    0,   449,     0,     0,     6,     1,     0,    38]],\n",
       "      dtype=int64)"
      ]
     },
     "execution_count": 31,
     "metadata": {},
     "output_type": "execute_result"
    }
   ],
   "source": [
    "from sklearn.metrics import confusion_matrix\n",
    "\n",
    "y_pred_log = logreg_cv.predict(X_test_scaled)\n",
    "pl_log = confusion_matrix(y_test,y_pred_log)\n",
    "pl_log"
   ]
  },
  {
   "cell_type": "code",
   "execution_count": 32,
   "metadata": {},
   "outputs": [
    {
     "name": "stdout",
     "output_type": "stream",
     "text": [
      "                                                     precision    recall  f1-score   support\n",
      "\n",
      "                                        Charged Off       1.00      0.98      0.99      5909\n",
      "                                            Current       0.96      0.98      0.97     20301\n",
      "Does not meet the credit policy. Status:Charged Off       0.67      0.25      0.36        16\n",
      " Does not meet the credit policy. Status:Fully Paid       0.55      0.53      0.54        34\n",
      "                                         Fully Paid       0.98      1.00      0.99     22954\n",
      "                                    In Grace Period       0.00      0.00      0.00       213\n",
      "                                  Late (16-30 days)       0.00      0.00      0.00        79\n",
      "                                 Late (31-120 days)       0.70      0.08      0.14       494\n",
      "\n",
      "                                           accuracy                           0.97     50000\n",
      "                                          macro avg       0.61      0.48      0.50     50000\n",
      "                                       weighted avg       0.97      0.97      0.97     50000\n",
      "\n"
     ]
    }
   ],
   "source": [
    "from sklearn.metrics import classification_report\n",
    "\n",
    "cl_rep_log = classification_report(y_test,y_pred_log)\n",
    "print(cl_rep_log)"
   ]
  },
  {
   "cell_type": "code",
   "execution_count": 41,
   "metadata": {},
   "outputs": [
    {
     "name": "stdout",
     "output_type": "stream",
     "text": [
      "Test Data Set Logistic Regression: Accuracy=0.973\n",
      "Test Data Set Logistic Regression: f1-score=0.966\n"
     ]
    },
    {
     "ename": "ValueError",
     "evalue": "could not convert string to float: 'Current'",
     "output_type": "error",
     "traceback": [
      "\u001b[1;31m---------------------------------------------------------------------------\u001b[0m",
      "\u001b[1;31mValueError\u001b[0m                                Traceback (most recent call last)",
      "\u001b[1;32m<ipython-input-41-f5afcda3e51c>\u001b[0m in \u001b[0;36m<module>\u001b[1;34m\u001b[0m\n\u001b[0;32m      7\u001b[0m \u001b[0mprint\u001b[0m\u001b[1;33m(\u001b[0m\u001b[1;34m'Test Data Set Logistic Regression: f1-score=%.3f'\u001b[0m \u001b[1;33m%\u001b[0m \u001b[1;33m(\u001b[0m\u001b[0mf1\u001b[0m\u001b[1;33m)\u001b[0m\u001b[1;33m)\u001b[0m\u001b[1;33m\u001b[0m\u001b[1;33m\u001b[0m\u001b[0m\n\u001b[0;32m      8\u001b[0m \u001b[1;33m\u001b[0m\u001b[0m\n\u001b[1;32m----> 9\u001b[1;33m \u001b[0mroc_auc\u001b[0m \u001b[1;33m=\u001b[0m \u001b[0mroc_auc_score\u001b[0m\u001b[1;33m(\u001b[0m\u001b[0my_test\u001b[0m\u001b[1;33m,\u001b[0m \u001b[0my_pred_log\u001b[0m\u001b[1;33m)\u001b[0m\u001b[1;33m\u001b[0m\u001b[1;33m\u001b[0m\u001b[0m\n\u001b[0m\u001b[0;32m     10\u001b[0m \u001b[0mprint\u001b[0m\u001b[1;33m(\u001b[0m\u001b[1;34m'Test Data Set Logistic Regression: roc_auc_score=%.3f'\u001b[0m \u001b[1;33m%\u001b[0m \u001b[1;33m(\u001b[0m\u001b[0mroc_auc\u001b[0m\u001b[1;33m)\u001b[0m\u001b[1;33m)\u001b[0m\u001b[1;33m\u001b[0m\u001b[1;33m\u001b[0m\u001b[0m\n",
      "\u001b[1;32m~\\AppData\\Roaming\\Python\\Python37\\site-packages\\sklearn\\utils\\validation.py\u001b[0m in \u001b[0;36minner_f\u001b[1;34m(*args, **kwargs)\u001b[0m\n\u001b[0;32m     70\u001b[0m                           FutureWarning)\n\u001b[0;32m     71\u001b[0m         \u001b[0mkwargs\u001b[0m\u001b[1;33m.\u001b[0m\u001b[0mupdate\u001b[0m\u001b[1;33m(\u001b[0m\u001b[1;33m{\u001b[0m\u001b[0mk\u001b[0m\u001b[1;33m:\u001b[0m \u001b[0marg\u001b[0m \u001b[1;32mfor\u001b[0m \u001b[0mk\u001b[0m\u001b[1;33m,\u001b[0m \u001b[0marg\u001b[0m \u001b[1;32min\u001b[0m \u001b[0mzip\u001b[0m\u001b[1;33m(\u001b[0m\u001b[0msig\u001b[0m\u001b[1;33m.\u001b[0m\u001b[0mparameters\u001b[0m\u001b[1;33m,\u001b[0m \u001b[0margs\u001b[0m\u001b[1;33m)\u001b[0m\u001b[1;33m}\u001b[0m\u001b[1;33m)\u001b[0m\u001b[1;33m\u001b[0m\u001b[1;33m\u001b[0m\u001b[0m\n\u001b[1;32m---> 72\u001b[1;33m         \u001b[1;32mreturn\u001b[0m \u001b[0mf\u001b[0m\u001b[1;33m(\u001b[0m\u001b[1;33m**\u001b[0m\u001b[0mkwargs\u001b[0m\u001b[1;33m)\u001b[0m\u001b[1;33m\u001b[0m\u001b[1;33m\u001b[0m\u001b[0m\n\u001b[0m\u001b[0;32m     73\u001b[0m     \u001b[1;32mreturn\u001b[0m \u001b[0minner_f\u001b[0m\u001b[1;33m\u001b[0m\u001b[1;33m\u001b[0m\u001b[0m\n\u001b[0;32m     74\u001b[0m \u001b[1;33m\u001b[0m\u001b[0m\n",
      "\u001b[1;32m~\\AppData\\Roaming\\Python\\Python37\\site-packages\\sklearn\\metrics\\_ranking.py\u001b[0m in \u001b[0;36mroc_auc_score\u001b[1;34m(y_true, y_score, average, sample_weight, max_fpr, multi_class, labels)\u001b[0m\n\u001b[0;32m    370\u001b[0m     \u001b[0my_type\u001b[0m \u001b[1;33m=\u001b[0m \u001b[0mtype_of_target\u001b[0m\u001b[1;33m(\u001b[0m\u001b[0my_true\u001b[0m\u001b[1;33m)\u001b[0m\u001b[1;33m\u001b[0m\u001b[1;33m\u001b[0m\u001b[0m\n\u001b[0;32m    371\u001b[0m     \u001b[0my_true\u001b[0m \u001b[1;33m=\u001b[0m \u001b[0mcheck_array\u001b[0m\u001b[1;33m(\u001b[0m\u001b[0my_true\u001b[0m\u001b[1;33m,\u001b[0m \u001b[0mensure_2d\u001b[0m\u001b[1;33m=\u001b[0m\u001b[1;32mFalse\u001b[0m\u001b[1;33m,\u001b[0m \u001b[0mdtype\u001b[0m\u001b[1;33m=\u001b[0m\u001b[1;32mNone\u001b[0m\u001b[1;33m)\u001b[0m\u001b[1;33m\u001b[0m\u001b[1;33m\u001b[0m\u001b[0m\n\u001b[1;32m--> 372\u001b[1;33m     \u001b[0my_score\u001b[0m \u001b[1;33m=\u001b[0m \u001b[0mcheck_array\u001b[0m\u001b[1;33m(\u001b[0m\u001b[0my_score\u001b[0m\u001b[1;33m,\u001b[0m \u001b[0mensure_2d\u001b[0m\u001b[1;33m=\u001b[0m\u001b[1;32mFalse\u001b[0m\u001b[1;33m)\u001b[0m\u001b[1;33m\u001b[0m\u001b[1;33m\u001b[0m\u001b[0m\n\u001b[0m\u001b[0;32m    373\u001b[0m \u001b[1;33m\u001b[0m\u001b[0m\n\u001b[0;32m    374\u001b[0m     if y_type == \"multiclass\" or (y_type == \"binary\" and\n",
      "\u001b[1;32m~\\AppData\\Roaming\\Python\\Python37\\site-packages\\sklearn\\utils\\validation.py\u001b[0m in \u001b[0;36minner_f\u001b[1;34m(*args, **kwargs)\u001b[0m\n\u001b[0;32m     70\u001b[0m                           FutureWarning)\n\u001b[0;32m     71\u001b[0m         \u001b[0mkwargs\u001b[0m\u001b[1;33m.\u001b[0m\u001b[0mupdate\u001b[0m\u001b[1;33m(\u001b[0m\u001b[1;33m{\u001b[0m\u001b[0mk\u001b[0m\u001b[1;33m:\u001b[0m \u001b[0marg\u001b[0m \u001b[1;32mfor\u001b[0m \u001b[0mk\u001b[0m\u001b[1;33m,\u001b[0m \u001b[0marg\u001b[0m \u001b[1;32min\u001b[0m \u001b[0mzip\u001b[0m\u001b[1;33m(\u001b[0m\u001b[0msig\u001b[0m\u001b[1;33m.\u001b[0m\u001b[0mparameters\u001b[0m\u001b[1;33m,\u001b[0m \u001b[0margs\u001b[0m\u001b[1;33m)\u001b[0m\u001b[1;33m}\u001b[0m\u001b[1;33m)\u001b[0m\u001b[1;33m\u001b[0m\u001b[1;33m\u001b[0m\u001b[0m\n\u001b[1;32m---> 72\u001b[1;33m         \u001b[1;32mreturn\u001b[0m \u001b[0mf\u001b[0m\u001b[1;33m(\u001b[0m\u001b[1;33m**\u001b[0m\u001b[0mkwargs\u001b[0m\u001b[1;33m)\u001b[0m\u001b[1;33m\u001b[0m\u001b[1;33m\u001b[0m\u001b[0m\n\u001b[0m\u001b[0;32m     73\u001b[0m     \u001b[1;32mreturn\u001b[0m \u001b[0minner_f\u001b[0m\u001b[1;33m\u001b[0m\u001b[1;33m\u001b[0m\u001b[0m\n\u001b[0;32m     74\u001b[0m \u001b[1;33m\u001b[0m\u001b[0m\n",
      "\u001b[1;32m~\\AppData\\Roaming\\Python\\Python37\\site-packages\\sklearn\\utils\\validation.py\u001b[0m in \u001b[0;36mcheck_array\u001b[1;34m(array, accept_sparse, accept_large_sparse, dtype, order, copy, force_all_finite, ensure_2d, allow_nd, ensure_min_samples, ensure_min_features, estimator)\u001b[0m\n\u001b[0;32m    596\u001b[0m                     \u001b[0marray\u001b[0m \u001b[1;33m=\u001b[0m \u001b[0marray\u001b[0m\u001b[1;33m.\u001b[0m\u001b[0mastype\u001b[0m\u001b[1;33m(\u001b[0m\u001b[0mdtype\u001b[0m\u001b[1;33m,\u001b[0m \u001b[0mcasting\u001b[0m\u001b[1;33m=\u001b[0m\u001b[1;34m\"unsafe\"\u001b[0m\u001b[1;33m,\u001b[0m \u001b[0mcopy\u001b[0m\u001b[1;33m=\u001b[0m\u001b[1;32mFalse\u001b[0m\u001b[1;33m)\u001b[0m\u001b[1;33m\u001b[0m\u001b[1;33m\u001b[0m\u001b[0m\n\u001b[0;32m    597\u001b[0m                 \u001b[1;32melse\u001b[0m\u001b[1;33m:\u001b[0m\u001b[1;33m\u001b[0m\u001b[1;33m\u001b[0m\u001b[0m\n\u001b[1;32m--> 598\u001b[1;33m                     \u001b[0marray\u001b[0m \u001b[1;33m=\u001b[0m \u001b[0mnp\u001b[0m\u001b[1;33m.\u001b[0m\u001b[0masarray\u001b[0m\u001b[1;33m(\u001b[0m\u001b[0marray\u001b[0m\u001b[1;33m,\u001b[0m \u001b[0morder\u001b[0m\u001b[1;33m=\u001b[0m\u001b[0morder\u001b[0m\u001b[1;33m,\u001b[0m \u001b[0mdtype\u001b[0m\u001b[1;33m=\u001b[0m\u001b[0mdtype\u001b[0m\u001b[1;33m)\u001b[0m\u001b[1;33m\u001b[0m\u001b[1;33m\u001b[0m\u001b[0m\n\u001b[0m\u001b[0;32m    599\u001b[0m             \u001b[1;32mexcept\u001b[0m \u001b[0mComplexWarning\u001b[0m\u001b[1;33m:\u001b[0m\u001b[1;33m\u001b[0m\u001b[1;33m\u001b[0m\u001b[0m\n\u001b[0;32m    600\u001b[0m                 raise ValueError(\"Complex data not supported\\n\"\n",
      "\u001b[1;32m~\\Anaconda3\\lib\\site-packages\\numpy\\core\\_asarray.py\u001b[0m in \u001b[0;36masarray\u001b[1;34m(a, dtype, order)\u001b[0m\n\u001b[0;32m     81\u001b[0m \u001b[1;33m\u001b[0m\u001b[0m\n\u001b[0;32m     82\u001b[0m     \"\"\"\n\u001b[1;32m---> 83\u001b[1;33m     \u001b[1;32mreturn\u001b[0m \u001b[0marray\u001b[0m\u001b[1;33m(\u001b[0m\u001b[0ma\u001b[0m\u001b[1;33m,\u001b[0m \u001b[0mdtype\u001b[0m\u001b[1;33m,\u001b[0m \u001b[0mcopy\u001b[0m\u001b[1;33m=\u001b[0m\u001b[1;32mFalse\u001b[0m\u001b[1;33m,\u001b[0m \u001b[0morder\u001b[0m\u001b[1;33m=\u001b[0m\u001b[0morder\u001b[0m\u001b[1;33m)\u001b[0m\u001b[1;33m\u001b[0m\u001b[1;33m\u001b[0m\u001b[0m\n\u001b[0m\u001b[0;32m     84\u001b[0m \u001b[1;33m\u001b[0m\u001b[0m\n\u001b[0;32m     85\u001b[0m \u001b[1;33m\u001b[0m\u001b[0m\n",
      "\u001b[1;31mValueError\u001b[0m: could not convert string to float: 'Current'"
     ]
    }
   ],
   "source": [
    "from sklearn.metrics import accuracy_score, f1_score, roc_auc_score\n",
    "\n",
    "ac = accuracy_score(y_test, y_pred_log)\n",
    "print('Test Data Set Logistic Regression: Accuracy=%.3f' % (ac))\n",
    "\n",
    "f1 = f1_score(y_test, y_pred_log, average='weighted')\n",
    "print('Test Data Set Logistic Regression: f1-score=%.3f' % (f1))\n",
    "\n",
    "roc_auc = roc_auc_score(y_test, y_pred_log)\n",
    "print('Test Data Set Logistic Regression: roc_auc_score=%.3f' % (roc_auc))"
   ]
  },
  {
   "cell_type": "markdown",
   "metadata": {},
   "source": [
    "# Question - Create points plot similar to Case study?  "
   ]
  },
  {
   "cell_type": "markdown",
   "metadata": {},
   "source": [
    "# Question - Other metrics - ROC_AUC, accuracy, log-loss"
   ]
  },
  {
   "cell_type": "markdown",
   "metadata": {},
   "source": [
    "# Random Forest"
   ]
  },
  {
   "cell_type": "code",
   "execution_count": 33,
   "metadata": {},
   "outputs": [
    {
     "name": "stdout",
     "output_type": "stream",
     "text": [
      "0.97146\n"
     ]
    }
   ],
   "source": [
    "from sklearn.ensemble import RandomForestClassifier\n",
    "\n",
    "clf = RandomForestClassifier(n_estimators=30, random_state = 1,n_jobs=-1)\n",
    "model_res = clf.fit(X_train_scaled, y_train)\n",
    "y_pred_ranf = model_res.predict(X_test_scaled)\n",
    "print(accuracy_score(y_test, y_pred_ranf))"
   ]
  },
  {
   "cell_type": "code",
   "execution_count": 34,
   "metadata": {},
   "outputs": [
    {
     "data": {
      "text/plain": [
       "array(['Current', 'Current', 'Charged Off', ..., 'Current', 'Fully Paid',\n",
       "       'Fully Paid'], dtype=object)"
      ]
     },
     "execution_count": 34,
     "metadata": {},
     "output_type": "execute_result"
    }
   ],
   "source": [
    "y_pred_ranf"
   ]
  },
  {
   "cell_type": "code",
   "execution_count": 35,
   "metadata": {},
   "outputs": [
    {
     "data": {
      "text/plain": [
       "array([[ 5447,     0,     0,     0,   462,     0,     0,     0],\n",
       "       [    1, 20163,     0,     0,   134,     0,     0,     3],\n",
       "       [   14,     0,     2,     0,     0,     0,     0,     0],\n",
       "       [    0,     0,     0,    13,    21,     0,     0,     0],\n",
       "       [   38,     0,     0,     1, 22915,     0,     0,     0],\n",
       "       [    1,   210,     0,     0,     1,     0,     0,     1],\n",
       "       [    0,    76,     0,     0,     1,     0,     0,     2],\n",
       "       [    2,   458,     0,     0,     1,     0,     0,    33]],\n",
       "      dtype=int64)"
      ]
     },
     "execution_count": 35,
     "metadata": {},
     "output_type": "execute_result"
    }
   ],
   "source": [
    "pl_ranf = confusion_matrix(y_test,y_pred_ranf)\n",
    "pl_ranf"
   ]
  },
  {
   "cell_type": "code",
   "execution_count": 36,
   "metadata": {},
   "outputs": [
    {
     "name": "stdout",
     "output_type": "stream",
     "text": [
      "                                                     precision    recall  f1-score   support\n",
      "\n",
      "                                        Charged Off       0.99      0.92      0.95      5909\n",
      "                                            Current       0.96      0.99      0.98     20301\n",
      "Does not meet the credit policy. Status:Charged Off       1.00      0.12      0.22        16\n",
      " Does not meet the credit policy. Status:Fully Paid       0.93      0.38      0.54        34\n",
      "                                         Fully Paid       0.97      1.00      0.99     22954\n",
      "                                    In Grace Period       0.00      0.00      0.00       213\n",
      "                                  Late (16-30 days)       0.00      0.00      0.00        79\n",
      "                                 Late (31-120 days)       0.85      0.07      0.12       494\n",
      "\n",
      "                                           accuracy                           0.97     50000\n",
      "                                          macro avg       0.71      0.44      0.48     50000\n",
      "                                       weighted avg       0.96      0.97      0.96     50000\n",
      "\n"
     ]
    }
   ],
   "source": [
    "cl_rep_ranf = classification_report(y_test,y_pred_ranf)\n",
    "print(cl_rep_ranf)"
   ]
  },
  {
   "cell_type": "markdown",
   "metadata": {},
   "source": [
    "# Gradient Boosting"
   ]
  },
  {
   "cell_type": "code",
   "execution_count": 37,
   "metadata": {},
   "outputs": [
    {
     "name": "stdout",
     "output_type": "stream",
     "text": [
      "Learning rate:  0.05\n",
      "Accuracy score (training): 0.795\n",
      "Accuracy score (validation): 0.791\n",
      "\n",
      "Learning rate:  0.1\n",
      "Accuracy score (training): 0.831\n",
      "Accuracy score (validation): 0.827\n",
      "\n",
      "Learning rate:  0.25\n",
      "Accuracy score (training): 0.905\n",
      "Accuracy score (validation): 0.905\n",
      "\n",
      "Learning rate:  0.5\n",
      "Accuracy score (training): 0.786\n",
      "Accuracy score (validation): 0.782\n",
      "\n",
      "Learning rate:  0.75\n",
      "Accuracy score (training): 0.749\n",
      "Accuracy score (validation): 0.746\n",
      "\n",
      "Learning rate:  1\n",
      "Accuracy score (training): 0.009\n",
      "Accuracy score (validation): 0.009\n",
      "\n"
     ]
    }
   ],
   "source": [
    "from sklearn.ensemble import GradientBoostingClassifier\n",
    "\n",
    "learning_rates = [0.05, 0.1, 0.25, 0.5, 0.75, 1]\n",
    "for learning_rate in learning_rates:\n",
    "    gb = GradientBoostingClassifier(n_estimators=20, learning_rate = learning_rate, max_features=2, max_depth = 2, random_state = 0)\n",
    "    gb.fit(X_train_scaled, y_train)\n",
    "    print(\"Learning rate: \", learning_rate)\n",
    "    print(\"Accuracy score (training): {0:.3f}\".format(gb.score(X_train_scaled, y_train)))\n",
    "    print(\"Accuracy score (validation): {0:.3f}\".format(gb.score(X_test_scaled, y_test)))\n",
    "    print()"
   ]
  },
  {
   "cell_type": "code",
   "execution_count": 38,
   "metadata": {},
   "outputs": [
    {
     "name": "stdout",
     "output_type": "stream",
     "text": [
      "0.9047\n"
     ]
    }
   ],
   "source": [
    "gb = GradientBoostingClassifier(n_estimators=20, learning_rate = 0.25, max_features=2, max_depth = 2, random_state = 0)\n",
    "gb.fit(X_train_scaled, y_train)\n",
    "y_pred_gdbst = gb.predict(X_test_scaled)\n",
    "print(accuracy_score(y_test, y_pred_gdbst))"
   ]
  },
  {
   "cell_type": "code",
   "execution_count": 39,
   "metadata": {},
   "outputs": [
    {
     "data": {
      "text/plain": [
       "array([[ 3897,   897,     0,     0,  1112,     0,     0,     3],\n",
       "       [    4, 19859,     0,     1,   431,     2,     1,     3],\n",
       "       [    3,     0,     0,     5,     8,     0,     0,     0],\n",
       "       [    0,     0,     0,     6,    28,     0,     0,     0],\n",
       "       [   10,  1478,     0,     3, 21462,     0,     0,     1],\n",
       "       [    1,   205,     0,     0,     4,     0,     1,     2],\n",
       "       [    0,    73,     0,     0,     4,     0,     2,     0],\n",
       "       [   20,   445,     0,     0,    13,     2,     5,     9]],\n",
       "      dtype=int64)"
      ]
     },
     "execution_count": 39,
     "metadata": {},
     "output_type": "execute_result"
    }
   ],
   "source": [
    "pl_gbst = confusion_matrix(y_test,y_pred_gdbst)\n",
    "pl_gbst"
   ]
  },
  {
   "cell_type": "code",
   "execution_count": 40,
   "metadata": {},
   "outputs": [
    {
     "name": "stdout",
     "output_type": "stream",
     "text": [
      "                                                     precision    recall  f1-score   support\n",
      "\n",
      "                                        Charged Off       0.99      0.66      0.79      5909\n",
      "                                            Current       0.87      0.98      0.92     20301\n",
      "Does not meet the credit policy. Status:Charged Off       0.00      0.00      0.00        16\n",
      " Does not meet the credit policy. Status:Fully Paid       0.40      0.18      0.24        34\n",
      "                                         Fully Paid       0.93      0.94      0.93     22954\n",
      "                                    In Grace Period       0.00      0.00      0.00       213\n",
      "                                  Late (16-30 days)       0.22      0.03      0.05        79\n",
      "                                 Late (31-120 days)       0.50      0.02      0.04       494\n",
      "\n",
      "                                           accuracy                           0.90     50000\n",
      "                                          macro avg       0.49      0.35      0.37     50000\n",
      "                                       weighted avg       0.90      0.90      0.90     50000\n",
      "\n"
     ]
    }
   ],
   "source": [
    "cl_rep_gbst = classification_report(y_test,y_pred_gdbst)\n",
    "print(cl_rep_gbst)"
   ]
  },
  {
   "cell_type": "markdown",
   "metadata": {},
   "source": [
    "# Compare Models"
   ]
  },
  {
   "cell_type": "markdown",
   "metadata": {},
   "source": [
    "Based on the accuracy score and classification report, Logistic regression using 5 fold cross validation and Grid Search performed the best."
   ]
  },
  {
   "cell_type": "markdown",
   "metadata": {},
   "source": [
    "# Question: Use 5 fold cross validation and grid search for the last two models?"
   ]
  },
  {
   "cell_type": "markdown",
   "metadata": {},
   "source": [
    "# Question: Create a table showing f1 score, ROC_AUC, log-loss for all models?"
   ]
  },
  {
   "cell_type": "markdown",
   "metadata": {},
   "source": [
    "# Create and compare models using pycaret"
   ]
  },
  {
   "cell_type": "code",
   "execution_count": null,
   "metadata": {},
   "outputs": [],
   "source": []
  },
  {
   "cell_type": "code",
   "execution_count": null,
   "metadata": {},
   "outputs": [],
   "source": []
  },
  {
   "cell_type": "code",
   "execution_count": null,
   "metadata": {},
   "outputs": [],
   "source": []
  },
  {
   "cell_type": "code",
   "execution_count": null,
   "metadata": {},
   "outputs": [],
   "source": []
  },
  {
   "cell_type": "code",
   "execution_count": null,
   "metadata": {},
   "outputs": [],
   "source": []
  }
 ],
 "metadata": {
  "kernelspec": {
   "display_name": "Python 3",
   "language": "python",
   "name": "python3"
  },
  "language_info": {
   "codemirror_mode": {
    "name": "ipython",
    "version": 3
   },
   "file_extension": ".py",
   "mimetype": "text/x-python",
   "name": "python",
   "nbconvert_exporter": "python",
   "pygments_lexer": "ipython3",
   "version": "3.7.3"
  }
 },
 "nbformat": 4,
 "nbformat_minor": 2
}
