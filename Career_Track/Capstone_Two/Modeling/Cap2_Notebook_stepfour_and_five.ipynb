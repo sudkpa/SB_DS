{
 "cells": [
  {
   "cell_type": "markdown",
   "metadata": {},
   "source": [
    "# Capstone 2 - Lending Club Loan Defaults Prediction¶\n",
    "\n",
    "# Modeling\n",
    "\n",
    "\n",
    "Modeling is the fifth step in the Data Science Method.  The following will be performed in this step:\n",
    "\n",
    "1. Fit Models with Training Data Set\n",
    "2. Review Model Outcomes — Iterate over additional models as needed.\n",
    "3. Identify the Final Model"
   ]
  },
  {
   "cell_type": "code",
   "execution_count": 1,
   "metadata": {},
   "outputs": [],
   "source": [
    "#load python packages\n",
    "import os\n",
    "import pandas as pd\n",
    "import pandas.api.types as ptypes\n",
    "import datetime\n",
    "import seaborn as sns\n",
    "import matplotlib.pyplot as plt\n",
    "import numpy as np\n",
    "%matplotlib inline\n",
    "import warnings # For handling error messages.\n",
    "#warnings.simplefilter(action=\"ignore\", category=FutureWarning)\n",
    "warnings.filterwarnings('ignore')"
   ]
  },
  {
   "cell_type": "code",
   "execution_count": 2,
   "metadata": {},
   "outputs": [
    {
     "data": {
      "text/html": [
       "<div>\n",
       "<style scoped>\n",
       "    .dataframe tbody tr th:only-of-type {\n",
       "        vertical-align: middle;\n",
       "    }\n",
       "\n",
       "    .dataframe tbody tr th {\n",
       "        vertical-align: top;\n",
       "    }\n",
       "\n",
       "    .dataframe thead th {\n",
       "        text-align: right;\n",
       "    }\n",
       "</style>\n",
       "<table border=\"1\" class=\"dataframe\">\n",
       "  <thead>\n",
       "    <tr style=\"text-align: right;\">\n",
       "      <th></th>\n",
       "      <th>loan_amnt</th>\n",
       "      <th>int_rate</th>\n",
       "      <th>annual_inc</th>\n",
       "      <th>dti</th>\n",
       "      <th>delinq_2yrs</th>\n",
       "      <th>inq_last_6mths</th>\n",
       "      <th>mths_since_last_delinq</th>\n",
       "      <th>mths_since_last_record</th>\n",
       "      <th>pub_rec</th>\n",
       "      <th>revol_bal</th>\n",
       "      <th>...</th>\n",
       "      <th>initial_list_status</th>\n",
       "      <th>application_type</th>\n",
       "      <th>verification_status_joint</th>\n",
       "      <th>hardship_flag</th>\n",
       "      <th>hardship_type</th>\n",
       "      <th>hardship_reason</th>\n",
       "      <th>hardship_status</th>\n",
       "      <th>hardship_loan_status</th>\n",
       "      <th>debt_settlement_flag</th>\n",
       "      <th>settlement_status</th>\n",
       "    </tr>\n",
       "  </thead>\n",
       "  <tbody>\n",
       "    <tr>\n",
       "      <th>0</th>\n",
       "      <td>2500</td>\n",
       "      <td>13.56</td>\n",
       "      <td>55000.0</td>\n",
       "      <td>18.24</td>\n",
       "      <td>0.0</td>\n",
       "      <td>1.0</td>\n",
       "      <td>0.0</td>\n",
       "      <td>45.0</td>\n",
       "      <td>1.0</td>\n",
       "      <td>4341</td>\n",
       "      <td>...</td>\n",
       "      <td>w</td>\n",
       "      <td>Individual</td>\n",
       "      <td>NaN</td>\n",
       "      <td>N</td>\n",
       "      <td>NaN</td>\n",
       "      <td>NaN</td>\n",
       "      <td>NaN</td>\n",
       "      <td>NaN</td>\n",
       "      <td>N</td>\n",
       "      <td>NaN</td>\n",
       "    </tr>\n",
       "    <tr>\n",
       "      <th>1</th>\n",
       "      <td>30000</td>\n",
       "      <td>18.94</td>\n",
       "      <td>90000.0</td>\n",
       "      <td>26.52</td>\n",
       "      <td>0.0</td>\n",
       "      <td>0.0</td>\n",
       "      <td>71.0</td>\n",
       "      <td>75.0</td>\n",
       "      <td>1.0</td>\n",
       "      <td>12315</td>\n",
       "      <td>...</td>\n",
       "      <td>w</td>\n",
       "      <td>Individual</td>\n",
       "      <td>NaN</td>\n",
       "      <td>N</td>\n",
       "      <td>NaN</td>\n",
       "      <td>NaN</td>\n",
       "      <td>NaN</td>\n",
       "      <td>NaN</td>\n",
       "      <td>N</td>\n",
       "      <td>NaN</td>\n",
       "    </tr>\n",
       "    <tr>\n",
       "      <th>2</th>\n",
       "      <td>5000</td>\n",
       "      <td>17.97</td>\n",
       "      <td>59280.0</td>\n",
       "      <td>10.51</td>\n",
       "      <td>0.0</td>\n",
       "      <td>0.0</td>\n",
       "      <td>0.0</td>\n",
       "      <td>0.0</td>\n",
       "      <td>0.0</td>\n",
       "      <td>4599</td>\n",
       "      <td>...</td>\n",
       "      <td>w</td>\n",
       "      <td>Individual</td>\n",
       "      <td>NaN</td>\n",
       "      <td>N</td>\n",
       "      <td>NaN</td>\n",
       "      <td>NaN</td>\n",
       "      <td>NaN</td>\n",
       "      <td>NaN</td>\n",
       "      <td>N</td>\n",
       "      <td>NaN</td>\n",
       "    </tr>\n",
       "    <tr>\n",
       "      <th>3</th>\n",
       "      <td>4000</td>\n",
       "      <td>18.94</td>\n",
       "      <td>92000.0</td>\n",
       "      <td>16.74</td>\n",
       "      <td>0.0</td>\n",
       "      <td>0.0</td>\n",
       "      <td>0.0</td>\n",
       "      <td>0.0</td>\n",
       "      <td>0.0</td>\n",
       "      <td>5468</td>\n",
       "      <td>...</td>\n",
       "      <td>w</td>\n",
       "      <td>Individual</td>\n",
       "      <td>NaN</td>\n",
       "      <td>N</td>\n",
       "      <td>NaN</td>\n",
       "      <td>NaN</td>\n",
       "      <td>NaN</td>\n",
       "      <td>NaN</td>\n",
       "      <td>N</td>\n",
       "      <td>NaN</td>\n",
       "    </tr>\n",
       "    <tr>\n",
       "      <th>4</th>\n",
       "      <td>30000</td>\n",
       "      <td>16.14</td>\n",
       "      <td>57250.0</td>\n",
       "      <td>26.35</td>\n",
       "      <td>0.0</td>\n",
       "      <td>0.0</td>\n",
       "      <td>0.0</td>\n",
       "      <td>0.0</td>\n",
       "      <td>0.0</td>\n",
       "      <td>829</td>\n",
       "      <td>...</td>\n",
       "      <td>w</td>\n",
       "      <td>Individual</td>\n",
       "      <td>NaN</td>\n",
       "      <td>N</td>\n",
       "      <td>NaN</td>\n",
       "      <td>NaN</td>\n",
       "      <td>NaN</td>\n",
       "      <td>NaN</td>\n",
       "      <td>N</td>\n",
       "      <td>NaN</td>\n",
       "    </tr>\n",
       "  </tbody>\n",
       "</table>\n",
       "<p>5 rows × 87 columns</p>\n",
       "</div>"
      ],
      "text/plain": [
       "   loan_amnt  int_rate  annual_inc    dti  delinq_2yrs  inq_last_6mths  \\\n",
       "0       2500     13.56     55000.0  18.24          0.0             1.0   \n",
       "1      30000     18.94     90000.0  26.52          0.0             0.0   \n",
       "2       5000     17.97     59280.0  10.51          0.0             0.0   \n",
       "3       4000     18.94     92000.0  16.74          0.0             0.0   \n",
       "4      30000     16.14     57250.0  26.35          0.0             0.0   \n",
       "\n",
       "   mths_since_last_delinq  mths_since_last_record  pub_rec  revol_bal  ...  \\\n",
       "0                     0.0                    45.0      1.0       4341  ...   \n",
       "1                    71.0                    75.0      1.0      12315  ...   \n",
       "2                     0.0                     0.0      0.0       4599  ...   \n",
       "3                     0.0                     0.0      0.0       5468  ...   \n",
       "4                     0.0                     0.0      0.0        829  ...   \n",
       "\n",
       "   initial_list_status  application_type  verification_status_joint  \\\n",
       "0                    w        Individual                        NaN   \n",
       "1                    w        Individual                        NaN   \n",
       "2                    w        Individual                        NaN   \n",
       "3                    w        Individual                        NaN   \n",
       "4                    w        Individual                        NaN   \n",
       "\n",
       "   hardship_flag  hardship_type  hardship_reason  hardship_status  \\\n",
       "0              N            NaN              NaN              NaN   \n",
       "1              N            NaN              NaN              NaN   \n",
       "2              N            NaN              NaN              NaN   \n",
       "3              N            NaN              NaN              NaN   \n",
       "4              N            NaN              NaN              NaN   \n",
       "\n",
       "   hardship_loan_status  debt_settlement_flag  settlement_status  \n",
       "0                   NaN                     N                NaN  \n",
       "1                   NaN                     N                NaN  \n",
       "2                   NaN                     N                NaN  \n",
       "3                   NaN                     N                NaN  \n",
       "4                   NaN                     N                NaN  \n",
       "\n",
       "[5 rows x 87 columns]"
      ]
     },
     "execution_count": 2,
     "metadata": {},
     "output_type": "execute_result"
    }
   ],
   "source": [
    "# Read data output created in the EDA step\n",
    "df = pd.read_csv(\"../EDA/data/Cap2_step3_output.csv\", dtype={'verification_status_joint':object,'hardship_type':object, 'hardship_reason':object, 'hardship_status':object, 'hardship_loan_status':object, 'settlement_status':object}, index_col=\"Unnamed: 0\")\n",
    "df.head(5)"
   ]
  },
  {
   "cell_type": "code",
   "execution_count": 3,
   "metadata": {},
   "outputs": [
    {
     "data": {
      "text/plain": [
       "(2150627, 87)"
      ]
     },
     "execution_count": 3,
     "metadata": {},
     "output_type": "execute_result"
    }
   ],
   "source": [
    "df.shape"
   ]
  },
  {
   "cell_type": "code",
   "execution_count": 4,
   "metadata": {},
   "outputs": [
    {
     "name": "stdout",
     "output_type": "stream",
     "text": [
      "<class 'pandas.core.frame.DataFrame'>\n",
      "Int64Index: 2150627 entries, 0 to 2260667\n",
      "Data columns (total 87 columns):\n",
      " #   Column                                      Dtype  \n",
      "---  ------                                      -----  \n",
      " 0   loan_amnt                                   int64  \n",
      " 1   int_rate                                    float64\n",
      " 2   annual_inc                                  float64\n",
      " 3   dti                                         float64\n",
      " 4   delinq_2yrs                                 float64\n",
      " 5   inq_last_6mths                              float64\n",
      " 6   mths_since_last_delinq                      float64\n",
      " 7   mths_since_last_record                      float64\n",
      " 8   pub_rec                                     float64\n",
      " 9   revol_bal                                   int64  \n",
      " 10  revol_util                                  float64\n",
      " 11  out_prncp                                   float64\n",
      " 12  total_pymnt                                 float64\n",
      " 13  total_rec_int                               float64\n",
      " 14  recoveries                                  float64\n",
      " 15  last_pymnt_amnt                             float64\n",
      " 16  collections_12_mths_ex_med                  float64\n",
      " 17  mths_since_last_major_derog                 float64\n",
      " 18  annual_inc_joint                            float64\n",
      " 19  dti_joint                                   float64\n",
      " 20  acc_now_delinq                              float64\n",
      " 21  tot_coll_amt                                float64\n",
      " 22  tot_cur_bal                                 float64\n",
      " 23  open_acc_6m                                 float64\n",
      " 24  open_act_il                                 float64\n",
      " 25  total_bal_il                                float64\n",
      " 26  il_util                                     float64\n",
      " 27  max_bal_bc                                  float64\n",
      " 28  all_util                                    float64\n",
      " 29  total_rev_hi_lim                            float64\n",
      " 30  inq_fi                                      float64\n",
      " 31  inq_last_12m                                float64\n",
      " 32  avg_cur_bal                                 float64\n",
      " 33  bc_util                                     float64\n",
      " 34  chargeoff_within_12_mths                    float64\n",
      " 35  delinq_amnt                                 float64\n",
      " 36  mths_since_recent_bc_dlq                    float64\n",
      " 37  mths_since_recent_inq                       float64\n",
      " 38  mths_since_recent_revol_delinq              float64\n",
      " 39  num_accts_ever_120_pd                       float64\n",
      " 40  num_tl_120dpd_2m                            float64\n",
      " 41  num_tl_30dpd                                float64\n",
      " 42  num_tl_90g_dpd_24m                          float64\n",
      " 43  pct_tl_nvr_dlq                              float64\n",
      " 44  percent_bc_gt_75                            float64\n",
      " 45  pub_rec_bankruptcies                        float64\n",
      " 46  tax_liens                                   float64\n",
      " 47  total_bal_ex_mort                           float64\n",
      " 48  total_bc_limit                              float64\n",
      " 49  total_il_high_credit_limit                  float64\n",
      " 50  revol_bal_joint                             float64\n",
      " 51  sec_app_inq_last_6mths                      float64\n",
      " 52  sec_app_mort_acc                            float64\n",
      " 53  sec_app_open_acc                            float64\n",
      " 54  sec_app_revol_util                          float64\n",
      " 55  sec_app_open_act_il                         float64\n",
      " 56  sec_app_chargeoff_within_12_mths            float64\n",
      " 57  sec_app_collections_12_mths_ex_med          float64\n",
      " 58  sec_app_mths_since_last_major_derog         float64\n",
      " 59  deferral_term                               float64\n",
      " 60  hardship_amount                             float64\n",
      " 61  hardship_dpd                                float64\n",
      " 62  orig_projected_additional_accrued_interest  float64\n",
      " 63  hardship_last_payment_amount                float64\n",
      " 64  settlement_amount                           float64\n",
      " 65  settlement_percentage                       float64\n",
      " 66  settlement_term                             float64\n",
      " 67  term                                        object \n",
      " 68  grade                                       object \n",
      " 69  sub_grade                                   object \n",
      " 70  home_ownership                              object \n",
      " 71  verification_status                         object \n",
      " 72  loan_status                                 object \n",
      " 73  pymnt_plan                                  object \n",
      " 74  title                                       object \n",
      " 75  zip_code                                    object \n",
      " 76  addr_state                                  object \n",
      " 77  initial_list_status                         object \n",
      " 78  application_type                            object \n",
      " 79  verification_status_joint                   object \n",
      " 80  hardship_flag                               object \n",
      " 81  hardship_type                               object \n",
      " 82  hardship_reason                             object \n",
      " 83  hardship_status                             object \n",
      " 84  hardship_loan_status                        object \n",
      " 85  debt_settlement_flag                        object \n",
      " 86  settlement_status                           object \n",
      "dtypes: float64(65), int64(2), object(20)\n",
      "memory usage: 1.4+ GB\n"
     ]
    }
   ],
   "source": [
    "df.info()"
   ]
  },
  {
   "cell_type": "code",
   "execution_count": 5,
   "metadata": {},
   "outputs": [
    {
     "data": {
      "text/html": [
       "<div>\n",
       "<style scoped>\n",
       "    .dataframe tbody tr th:only-of-type {\n",
       "        vertical-align: middle;\n",
       "    }\n",
       "\n",
       "    .dataframe tbody tr th {\n",
       "        vertical-align: top;\n",
       "    }\n",
       "\n",
       "    .dataframe thead th {\n",
       "        text-align: right;\n",
       "    }\n",
       "</style>\n",
       "<table border=\"1\" class=\"dataframe\">\n",
       "  <thead>\n",
       "    <tr style=\"text-align: right;\">\n",
       "      <th></th>\n",
       "      <th>loan_amnt</th>\n",
       "      <th>int_rate</th>\n",
       "      <th>annual_inc</th>\n",
       "      <th>dti</th>\n",
       "      <th>delinq_2yrs</th>\n",
       "      <th>inq_last_6mths</th>\n",
       "      <th>mths_since_last_delinq</th>\n",
       "      <th>mths_since_last_record</th>\n",
       "      <th>pub_rec</th>\n",
       "      <th>revol_bal</th>\n",
       "      <th>...</th>\n",
       "      <th>sec_app_collections_12_mths_ex_med</th>\n",
       "      <th>sec_app_mths_since_last_major_derog</th>\n",
       "      <th>deferral_term</th>\n",
       "      <th>hardship_amount</th>\n",
       "      <th>hardship_dpd</th>\n",
       "      <th>orig_projected_additional_accrued_interest</th>\n",
       "      <th>hardship_last_payment_amount</th>\n",
       "      <th>settlement_amount</th>\n",
       "      <th>settlement_percentage</th>\n",
       "      <th>settlement_term</th>\n",
       "    </tr>\n",
       "  </thead>\n",
       "  <tbody>\n",
       "    <tr>\n",
       "      <th>count</th>\n",
       "      <td>2.150627e+06</td>\n",
       "      <td>2.150627e+06</td>\n",
       "      <td>2.150627e+06</td>\n",
       "      <td>2.150627e+06</td>\n",
       "      <td>2.150627e+06</td>\n",
       "      <td>2.150627e+06</td>\n",
       "      <td>2.150627e+06</td>\n",
       "      <td>2.150627e+06</td>\n",
       "      <td>2.150627e+06</td>\n",
       "      <td>2.150627e+06</td>\n",
       "      <td>...</td>\n",
       "      <td>2.150627e+06</td>\n",
       "      <td>2.150627e+06</td>\n",
       "      <td>2.150627e+06</td>\n",
       "      <td>2.150627e+06</td>\n",
       "      <td>2.150627e+06</td>\n",
       "      <td>2.150627e+06</td>\n",
       "      <td>2.150627e+06</td>\n",
       "      <td>2.150627e+06</td>\n",
       "      <td>2.150627e+06</td>\n",
       "      <td>2.150627e+06</td>\n",
       "    </tr>\n",
       "    <tr>\n",
       "      <th>mean</th>\n",
       "      <td>1.455534e+04</td>\n",
       "      <td>1.315755e+01</td>\n",
       "      <td>6.911525e+04</td>\n",
       "      <td>1.910219e+01</td>\n",
       "      <td>3.019622e-01</td>\n",
       "      <td>5.717709e-01</td>\n",
       "      <td>1.680994e+01</td>\n",
       "      <td>1.166151e+01</td>\n",
       "      <td>1.972904e-01</td>\n",
       "      <td>1.522785e+04</td>\n",
       "      <td>...</td>\n",
       "      <td>3.856550e-03</td>\n",
       "      <td>6.066408e-01</td>\n",
       "      <td>1.407915e-02</td>\n",
       "      <td>7.129102e-01</td>\n",
       "      <td>6.392043e-02</td>\n",
       "      <td>1.664888e+00</td>\n",
       "      <td>8.860760e-01</td>\n",
       "      <td>7.394659e+01</td>\n",
       "      <td>7.149019e-01</td>\n",
       "      <td>1.966361e-01</td>\n",
       "    </tr>\n",
       "    <tr>\n",
       "      <th>std</th>\n",
       "      <td>8.859252e+03</td>\n",
       "      <td>4.824323e+00</td>\n",
       "      <td>3.159676e+04</td>\n",
       "      <td>1.439575e+01</td>\n",
       "      <td>8.613410e-01</td>\n",
       "      <td>8.803719e-01</td>\n",
       "      <td>2.308542e+01</td>\n",
       "      <td>2.867152e+01</td>\n",
       "      <td>5.606472e-01</td>\n",
       "      <td>1.705110e+04</td>\n",
       "      <td>...</td>\n",
       "      <td>9.259225e-02</td>\n",
       "      <td>5.605731e+00</td>\n",
       "      <td>2.050347e-01</td>\n",
       "      <td>1.360392e+01</td>\n",
       "      <td>1.144538e+00</td>\n",
       "      <td>3.550980e+01</td>\n",
       "      <td>1.851189e+01</td>\n",
       "      <td>7.449337e+02</td>\n",
       "      <td>5.868766e+00</td>\n",
       "      <td>1.883835e+00</td>\n",
       "    </tr>\n",
       "    <tr>\n",
       "      <th>min</th>\n",
       "      <td>5.000000e+02</td>\n",
       "      <td>5.310000e+00</td>\n",
       "      <td>0.000000e+00</td>\n",
       "      <td>-1.000000e+00</td>\n",
       "      <td>0.000000e+00</td>\n",
       "      <td>0.000000e+00</td>\n",
       "      <td>0.000000e+00</td>\n",
       "      <td>0.000000e+00</td>\n",
       "      <td>0.000000e+00</td>\n",
       "      <td>0.000000e+00</td>\n",
       "      <td>...</td>\n",
       "      <td>0.000000e+00</td>\n",
       "      <td>0.000000e+00</td>\n",
       "      <td>0.000000e+00</td>\n",
       "      <td>0.000000e+00</td>\n",
       "      <td>0.000000e+00</td>\n",
       "      <td>0.000000e+00</td>\n",
       "      <td>0.000000e+00</td>\n",
       "      <td>0.000000e+00</td>\n",
       "      <td>0.000000e+00</td>\n",
       "      <td>0.000000e+00</td>\n",
       "    </tr>\n",
       "    <tr>\n",
       "      <th>25%</th>\n",
       "      <td>8.000000e+03</td>\n",
       "      <td>9.670000e+00</td>\n",
       "      <td>4.500000e+04</td>\n",
       "      <td>1.219000e+01</td>\n",
       "      <td>0.000000e+00</td>\n",
       "      <td>0.000000e+00</td>\n",
       "      <td>0.000000e+00</td>\n",
       "      <td>0.000000e+00</td>\n",
       "      <td>0.000000e+00</td>\n",
       "      <td>5.810000e+03</td>\n",
       "      <td>...</td>\n",
       "      <td>0.000000e+00</td>\n",
       "      <td>0.000000e+00</td>\n",
       "      <td>0.000000e+00</td>\n",
       "      <td>0.000000e+00</td>\n",
       "      <td>0.000000e+00</td>\n",
       "      <td>0.000000e+00</td>\n",
       "      <td>0.000000e+00</td>\n",
       "      <td>0.000000e+00</td>\n",
       "      <td>0.000000e+00</td>\n",
       "      <td>0.000000e+00</td>\n",
       "    </tr>\n",
       "    <tr>\n",
       "      <th>50%</th>\n",
       "      <td>1.200000e+04</td>\n",
       "      <td>1.269000e+01</td>\n",
       "      <td>6.400000e+04</td>\n",
       "      <td>1.815000e+01</td>\n",
       "      <td>0.000000e+00</td>\n",
       "      <td>0.000000e+00</td>\n",
       "      <td>0.000000e+00</td>\n",
       "      <td>0.000000e+00</td>\n",
       "      <td>0.000000e+00</td>\n",
       "      <td>1.096600e+04</td>\n",
       "      <td>...</td>\n",
       "      <td>0.000000e+00</td>\n",
       "      <td>0.000000e+00</td>\n",
       "      <td>0.000000e+00</td>\n",
       "      <td>0.000000e+00</td>\n",
       "      <td>0.000000e+00</td>\n",
       "      <td>0.000000e+00</td>\n",
       "      <td>0.000000e+00</td>\n",
       "      <td>0.000000e+00</td>\n",
       "      <td>0.000000e+00</td>\n",
       "      <td>0.000000e+00</td>\n",
       "    </tr>\n",
       "    <tr>\n",
       "      <th>75%</th>\n",
       "      <td>2.000000e+04</td>\n",
       "      <td>1.599000e+01</td>\n",
       "      <td>8.800000e+04</td>\n",
       "      <td>2.476000e+01</td>\n",
       "      <td>0.000000e+00</td>\n",
       "      <td>1.000000e+00</td>\n",
       "      <td>3.000000e+01</td>\n",
       "      <td>0.000000e+00</td>\n",
       "      <td>0.000000e+00</td>\n",
       "      <td>1.927500e+04</td>\n",
       "      <td>...</td>\n",
       "      <td>0.000000e+00</td>\n",
       "      <td>0.000000e+00</td>\n",
       "      <td>0.000000e+00</td>\n",
       "      <td>0.000000e+00</td>\n",
       "      <td>0.000000e+00</td>\n",
       "      <td>0.000000e+00</td>\n",
       "      <td>0.000000e+00</td>\n",
       "      <td>0.000000e+00</td>\n",
       "      <td>0.000000e+00</td>\n",
       "      <td>0.000000e+00</td>\n",
       "    </tr>\n",
       "    <tr>\n",
       "      <th>max</th>\n",
       "      <td>4.000000e+04</td>\n",
       "      <td>3.099000e+01</td>\n",
       "      <td>1.635000e+05</td>\n",
       "      <td>9.990000e+02</td>\n",
       "      <td>5.800000e+01</td>\n",
       "      <td>3.300000e+01</td>\n",
       "      <td>2.260000e+02</td>\n",
       "      <td>1.290000e+02</td>\n",
       "      <td>8.600000e+01</td>\n",
       "      <td>9.597540e+05</td>\n",
       "      <td>...</td>\n",
       "      <td>2.300000e+01</td>\n",
       "      <td>1.850000e+02</td>\n",
       "      <td>3.000000e+00</td>\n",
       "      <td>9.439400e+02</td>\n",
       "      <td>3.700000e+01</td>\n",
       "      <td>2.680890e+03</td>\n",
       "      <td>1.407860e+03</td>\n",
       "      <td>3.360100e+04</td>\n",
       "      <td>5.213500e+02</td>\n",
       "      <td>1.810000e+02</td>\n",
       "    </tr>\n",
       "  </tbody>\n",
       "</table>\n",
       "<p>8 rows × 67 columns</p>\n",
       "</div>"
      ],
      "text/plain": [
       "          loan_amnt      int_rate    annual_inc           dti   delinq_2yrs  \\\n",
       "count  2.150627e+06  2.150627e+06  2.150627e+06  2.150627e+06  2.150627e+06   \n",
       "mean   1.455534e+04  1.315755e+01  6.911525e+04  1.910219e+01  3.019622e-01   \n",
       "std    8.859252e+03  4.824323e+00  3.159676e+04  1.439575e+01  8.613410e-01   \n",
       "min    5.000000e+02  5.310000e+00  0.000000e+00 -1.000000e+00  0.000000e+00   \n",
       "25%    8.000000e+03  9.670000e+00  4.500000e+04  1.219000e+01  0.000000e+00   \n",
       "50%    1.200000e+04  1.269000e+01  6.400000e+04  1.815000e+01  0.000000e+00   \n",
       "75%    2.000000e+04  1.599000e+01  8.800000e+04  2.476000e+01  0.000000e+00   \n",
       "max    4.000000e+04  3.099000e+01  1.635000e+05  9.990000e+02  5.800000e+01   \n",
       "\n",
       "       inq_last_6mths  mths_since_last_delinq  mths_since_last_record  \\\n",
       "count    2.150627e+06            2.150627e+06            2.150627e+06   \n",
       "mean     5.717709e-01            1.680994e+01            1.166151e+01   \n",
       "std      8.803719e-01            2.308542e+01            2.867152e+01   \n",
       "min      0.000000e+00            0.000000e+00            0.000000e+00   \n",
       "25%      0.000000e+00            0.000000e+00            0.000000e+00   \n",
       "50%      0.000000e+00            0.000000e+00            0.000000e+00   \n",
       "75%      1.000000e+00            3.000000e+01            0.000000e+00   \n",
       "max      3.300000e+01            2.260000e+02            1.290000e+02   \n",
       "\n",
       "            pub_rec     revol_bal  ...  sec_app_collections_12_mths_ex_med  \\\n",
       "count  2.150627e+06  2.150627e+06  ...                        2.150627e+06   \n",
       "mean   1.972904e-01  1.522785e+04  ...                        3.856550e-03   \n",
       "std    5.606472e-01  1.705110e+04  ...                        9.259225e-02   \n",
       "min    0.000000e+00  0.000000e+00  ...                        0.000000e+00   \n",
       "25%    0.000000e+00  5.810000e+03  ...                        0.000000e+00   \n",
       "50%    0.000000e+00  1.096600e+04  ...                        0.000000e+00   \n",
       "75%    0.000000e+00  1.927500e+04  ...                        0.000000e+00   \n",
       "max    8.600000e+01  9.597540e+05  ...                        2.300000e+01   \n",
       "\n",
       "       sec_app_mths_since_last_major_derog  deferral_term  hardship_amount  \\\n",
       "count                         2.150627e+06   2.150627e+06     2.150627e+06   \n",
       "mean                          6.066408e-01   1.407915e-02     7.129102e-01   \n",
       "std                           5.605731e+00   2.050347e-01     1.360392e+01   \n",
       "min                           0.000000e+00   0.000000e+00     0.000000e+00   \n",
       "25%                           0.000000e+00   0.000000e+00     0.000000e+00   \n",
       "50%                           0.000000e+00   0.000000e+00     0.000000e+00   \n",
       "75%                           0.000000e+00   0.000000e+00     0.000000e+00   \n",
       "max                           1.850000e+02   3.000000e+00     9.439400e+02   \n",
       "\n",
       "       hardship_dpd  orig_projected_additional_accrued_interest  \\\n",
       "count  2.150627e+06                                2.150627e+06   \n",
       "mean   6.392043e-02                                1.664888e+00   \n",
       "std    1.144538e+00                                3.550980e+01   \n",
       "min    0.000000e+00                                0.000000e+00   \n",
       "25%    0.000000e+00                                0.000000e+00   \n",
       "50%    0.000000e+00                                0.000000e+00   \n",
       "75%    0.000000e+00                                0.000000e+00   \n",
       "max    3.700000e+01                                2.680890e+03   \n",
       "\n",
       "       hardship_last_payment_amount  settlement_amount  settlement_percentage  \\\n",
       "count                  2.150627e+06       2.150627e+06           2.150627e+06   \n",
       "mean                   8.860760e-01       7.394659e+01           7.149019e-01   \n",
       "std                    1.851189e+01       7.449337e+02           5.868766e+00   \n",
       "min                    0.000000e+00       0.000000e+00           0.000000e+00   \n",
       "25%                    0.000000e+00       0.000000e+00           0.000000e+00   \n",
       "50%                    0.000000e+00       0.000000e+00           0.000000e+00   \n",
       "75%                    0.000000e+00       0.000000e+00           0.000000e+00   \n",
       "max                    1.407860e+03       3.360100e+04           5.213500e+02   \n",
       "\n",
       "       settlement_term  \n",
       "count     2.150627e+06  \n",
       "mean      1.966361e-01  \n",
       "std       1.883835e+00  \n",
       "min       0.000000e+00  \n",
       "25%       0.000000e+00  \n",
       "50%       0.000000e+00  \n",
       "75%       0.000000e+00  \n",
       "max       1.810000e+02  \n",
       "\n",
       "[8 rows x 67 columns]"
      ]
     },
     "execution_count": 5,
     "metadata": {},
     "output_type": "execute_result"
    }
   ],
   "source": [
    "df.describe()"
   ]
  },
  {
   "cell_type": "code",
   "execution_count": 6,
   "metadata": {},
   "outputs": [
    {
     "data": {
      "text/plain": [
       "112xx    22865\n",
       "945xx    21787\n",
       "750xx    21749\n",
       "606xx    20025\n",
       "300xx    19156\n",
       "         ...  \n",
       "509xx        1\n",
       "732xx        1\n",
       "399xx        1\n",
       "513xx        1\n",
       "849xx        1\n",
       "Name: zip_code, Length: 955, dtype: int64"
      ]
     },
     "execution_count": 6,
     "metadata": {},
     "output_type": "execute_result"
    }
   ],
   "source": [
    "df['zip_code'].value_counts()"
   ]
  },
  {
   "cell_type": "markdown",
   "metadata": {},
   "source": [
    "## 'loan_status' is the response variable.\n",
    "## Plan to predict fully paid and charged off status\n",
    "## Features of interest are: \n",
    "'tot_cur_bal', 'annual_inc_joint', 'annual_inc', 'mths_since_last_record', 'mths_since_last_major_derog', 'collections_12_mths_ex_med', 'pub_rec_bankruptcies', 'tax_liens', '\n",
    "## Features to not consider are\n",
    "'title','zip_code','addr_state','recoveries', 'debt_settlement_flag', 'settlement_amount', ' settlement_percentage', 'settlement_term', 'settlement_status', 'last_pymnt_amnt'\n",
    "\n"
   ]
  },
  {
   "cell_type": "code",
   "execution_count": 7,
   "metadata": {},
   "outputs": [],
   "source": [
    "df_sel = df.drop(['total_pymnt','acc_now_delinq', 'delinq_amnt', 'tot_coll_amt', 'title', 'zip_code', 'addr_state', 'recoveries', 'debt_settlement_flag', 'settlement_amount', 'settlement_percentage', 'settlement_term', 'settlement_status', 'last_pymnt_amnt'], axis=1)"
   ]
  },
  {
   "cell_type": "markdown",
   "metadata": {},
   "source": [
    "''' \n",
    "# Check these values in df_sel\n",
    "\n",
    "loan_amnt                                   \n",
    "annual_inc   \n",
    "revol_bal  \n",
    "tot_cur_bal\n",
    "total_bal_il\n",
    "max_bal_bc                                  \n",
    "avg_cur_bal  \n",
    "tax_liens      \n",
    "total_bal_ex_mort   \n",
    "total_bc_limit    \n",
    "total_il_high_credit_limit     \n",
    "revol_bal_joint        \n",
    "hardship_amount      \n",
    "hardship_last_payment_amount                        \n",
    "'''"
   ]
  },
  {
   "cell_type": "code",
   "execution_count": 8,
   "metadata": {},
   "outputs": [
    {
     "data": {
      "text/plain": [
       "10000    183149\n",
       "20000    123816\n",
       "12000    118794\n",
       "15000    118790\n",
       "5000      83452\n",
       "          ...  \n",
       "725           1\n",
       "550           1\n",
       "950           1\n",
       "850           1\n",
       "750           1\n",
       "Name: loan_amnt, Length: 1571, dtype: int64"
      ]
     },
     "execution_count": 8,
     "metadata": {},
     "output_type": "execute_result"
    }
   ],
   "source": [
    "df_sel['loan_amnt'].value_counts()"
   ]
  },
  {
   "cell_type": "code",
   "execution_count": 9,
   "metadata": {},
   "outputs": [
    {
     "data": {
      "text/plain": [
       "60000.0     87189\n",
       "50000.0     76355\n",
       "65000.0     64903\n",
       "70000.0     62078\n",
       "80000.0     59833\n",
       "            ...  \n",
       "44271.0         1\n",
       "44269.0         1\n",
       "94657.0         1\n",
       "94659.0         1\n",
       "131070.0        1\n",
       "Name: annual_inc, Length: 83915, dtype: int64"
      ]
     },
     "execution_count": 9,
     "metadata": {},
     "output_type": "execute_result"
    }
   ],
   "source": [
    "df_sel['annual_inc'].value_counts()"
   ]
  },
  {
   "cell_type": "code",
   "execution_count": 10,
   "metadata": {},
   "outputs": [
    {
     "data": {
      "text/plain": [
       "0         11980\n",
       "8           209\n",
       "2           163\n",
       "10          159\n",
       "5235        158\n",
       "          ...  \n",
       "94025         1\n",
       "96074         1\n",
       "85837         1\n",
       "110417        1\n",
       "109518        1\n",
       "Name: revol_bal, Length: 88143, dtype: int64"
      ]
     },
     "execution_count": 10,
     "metadata": {},
     "output_type": "execute_result"
    }
   ],
   "source": [
    "df_sel['revol_bal'].value_counts()"
   ]
  },
  {
   "cell_type": "code",
   "execution_count": 11,
   "metadata": {},
   "outputs": [
    {
     "data": {
      "text/plain": [
       "0.0         69031\n",
       "14186.0        41\n",
       "20275.0        39\n",
       "22831.0        38\n",
       "23442.0        38\n",
       "            ...  \n",
       "309690.0        1\n",
       "309689.0        1\n",
       "309686.0        1\n",
       "509276.0        1\n",
       "381300.0        1\n",
       "Name: tot_cur_bal, Length: 447363, dtype: int64"
      ]
     },
     "execution_count": 11,
     "metadata": {},
     "output_type": "execute_result"
    }
   ],
   "source": [
    "df_sel['tot_cur_bal'].value_counts()"
   ]
  },
  {
   "cell_type": "code",
   "execution_count": 12,
   "metadata": {},
   "outputs": [
    {
     "data": {
      "text/plain": [
       "0.0         986116\n",
       "10000.0         98\n",
       "15000.0         90\n",
       "5000.0          83\n",
       "5500.0          76\n",
       "             ...  \n",
       "339145.0         1\n",
       "339113.0         1\n",
       "339092.0         1\n",
       "339074.0         1\n",
       "84262.0          1\n",
       "Name: total_bal_il, Length: 152044, dtype: int64"
      ]
     },
     "execution_count": 12,
     "metadata": {},
     "output_type": "execute_result"
    }
   ],
   "source": [
    "df_sel['total_bal_il'].value_counts()"
   ]
  },
  {
   "cell_type": "code",
   "execution_count": 13,
   "metadata": {},
   "outputs": [
    {
     "data": {
      "text/plain": [
       "0.0         866592\n",
       "8.0            544\n",
       "3000.0         522\n",
       "2000.0         495\n",
       "4000.0         437\n",
       "             ...  \n",
       "27465.0          1\n",
       "27460.0          1\n",
       "27456.0          1\n",
       "27453.0          1\n",
       "131035.0         1\n",
       "Name: max_bal_bc, Length: 30086, dtype: int64"
      ]
     },
     "execution_count": 13,
     "metadata": {},
     "output_type": "execute_result"
    }
   ],
   "source": [
    "df_sel['max_bal_bc'].value_counts()"
   ]
  },
  {
   "cell_type": "code",
   "execution_count": 14,
   "metadata": {},
   "outputs": [
    {
     "data": {
      "text/plain": [
       "0.0         69048\n",
       "2277.0        269\n",
       "2442.0        267\n",
       "2148.0        265\n",
       "2025.0        265\n",
       "            ...  \n",
       "72094.0         1\n",
       "72092.0         1\n",
       "72087.0         1\n",
       "72086.0         1\n",
       "131042.0        1\n",
       "Name: avg_cur_bal, Length: 80280, dtype: int64"
      ]
     },
     "execution_count": 14,
     "metadata": {},
     "output_type": "execute_result"
    }
   ],
   "source": [
    "df_sel['avg_cur_bal'].value_counts()"
   ]
  },
  {
   "cell_type": "code",
   "execution_count": 15,
   "metadata": {},
   "outputs": [
    {
     "data": {
      "text/plain": [
       "0.0     2092608\n",
       "1.0       39790\n",
       "2.0       10776\n",
       "3.0        3866\n",
       "4.0        1673\n",
       "5.0         851\n",
       "6.0         443\n",
       "7.0         204\n",
       "8.0         135\n",
       "9.0          81\n",
       "10.0         62\n",
       "11.0         32\n",
       "12.0         19\n",
       "13.0         12\n",
       "14.0         11\n",
       "15.0         11\n",
       "17.0          7\n",
       "18.0          6\n",
       "22.0          5\n",
       "21.0          5\n",
       "16.0          5\n",
       "19.0          2\n",
       "20.0          2\n",
       "61.0          2\n",
       "24.0          2\n",
       "46.0          2\n",
       "45.0          2\n",
       "37.0          1\n",
       "53.0          1\n",
       "52.0          1\n",
       "48.0          1\n",
       "39.0          1\n",
       "34.0          1\n",
       "85.0          1\n",
       "29.0          1\n",
       "28.0          1\n",
       "27.0          1\n",
       "25.0          1\n",
       "23.0          1\n",
       "63.0          1\n",
       "Name: tax_liens, dtype: int64"
      ]
     },
     "execution_count": 15,
     "metadata": {},
     "output_type": "execute_result"
    }
   ],
   "source": [
    "df_sel['tax_liens'].value_counts()"
   ]
  },
  {
   "cell_type": "code",
   "execution_count": 16,
   "metadata": {},
   "outputs": [
    {
     "data": {
      "text/plain": [
       "0.0         49942\n",
       "24214.0        57\n",
       "23068.0        57\n",
       "20275.0        57\n",
       "19095.0        56\n",
       "            ...  \n",
       "320651.0        1\n",
       "194012.0        1\n",
       "194009.0        1\n",
       "320659.0        1\n",
       "125310.0        1\n",
       "Name: total_bal_ex_mort, Length: 194363, dtype: int64"
      ]
     },
     "execution_count": 16,
     "metadata": {},
     "output_type": "execute_result"
    }
   ],
   "source": [
    "df_sel['total_bal_ex_mort'].value_counts()"
   ]
  },
  {
   "cell_type": "code",
   "execution_count": 17,
   "metadata": {},
   "outputs": [
    {
     "data": {
      "text/plain": [
       "0.0        73131\n",
       "5000.0     16656\n",
       "6000.0     14857\n",
       "10000.0    14392\n",
       "7000.0     14119\n",
       "           ...  \n",
       "38144.0        1\n",
       "38143.0        1\n",
       "38132.0        1\n",
       "38130.0        1\n",
       "29778.0        1\n",
       "Name: total_bc_limit, Length: 18408, dtype: int64"
      ]
     },
     "execution_count": 17,
     "metadata": {},
     "output_type": "execute_result"
    }
   ],
   "source": [
    "df_sel['total_bc_limit'].value_counts()"
   ]
  },
  {
   "cell_type": "code",
   "execution_count": 18,
   "metadata": {},
   "outputs": [
    {
     "data": {
      "text/plain": [
       "0.0         324857\n",
       "10000.0      13083\n",
       "15000.0       9912\n",
       "5000.0        8071\n",
       "20000.0       7998\n",
       "             ...  \n",
       "211627.0         1\n",
       "211619.0         1\n",
       "211611.0         1\n",
       "211608.0         1\n",
       "194698.0         1\n",
       "Name: total_il_high_credit_limit, Length: 179974, dtype: int64"
      ]
     },
     "execution_count": 18,
     "metadata": {},
     "output_type": "execute_result"
    }
   ],
   "source": [
    "df_sel['total_il_high_credit_limit'].value_counts()"
   ]
  },
  {
   "cell_type": "code",
   "execution_count": 19,
   "metadata": {},
   "outputs": [
    {
     "data": {
      "text/plain": [
       "0.0         2045053\n",
       "20804.0          10\n",
       "21072.0           9\n",
       "11771.0           9\n",
       "10041.0           9\n",
       "             ...   \n",
       "29454.0           1\n",
       "29455.0           1\n",
       "29456.0           1\n",
       "29458.0           1\n",
       "130981.0          1\n",
       "Name: revol_bal_joint, Length: 55621, dtype: int64"
      ]
     },
     "execution_count": 19,
     "metadata": {},
     "output_type": "execute_result"
    }
   ],
   "source": [
    "df_sel['revol_bal_joint'].value_counts()"
   ]
  },
  {
   "cell_type": "code",
   "execution_count": 20,
   "metadata": {},
   "outputs": [
    {
     "data": {
      "text/plain": [
       "0.00      2140534\n",
       "94.59           5\n",
       "48.56           5\n",
       "53.05           5\n",
       "69.90           5\n",
       "           ...   \n",
       "101.21          1\n",
       "482.40          1\n",
       "156.07          1\n",
       "568.60          1\n",
       "420.62          1\n",
       "Name: hardship_amount, Length: 8553, dtype: int64"
      ]
     },
     "execution_count": 20,
     "metadata": {},
     "output_type": "execute_result"
    }
   ],
   "source": [
    "df_sel['hardship_amount'].value_counts()"
   ]
  },
  {
   "cell_type": "code",
   "execution_count": 21,
   "metadata": {},
   "outputs": [
    {
     "data": {
      "text/plain": [
       "0.00      2140534\n",
       "0.02           25\n",
       "0.03           25\n",
       "0.12           23\n",
       "0.11           22\n",
       "           ...   \n",
       "482.10          1\n",
       "575.35          1\n",
       "157.82          1\n",
       "73.23           1\n",
       "373.61          1\n",
       "Name: hardship_last_payment_amount, Length: 8388, dtype: int64"
      ]
     },
     "execution_count": 21,
     "metadata": {},
     "output_type": "execute_result"
    }
   ],
   "source": [
    "df_sel['hardship_last_payment_amount'].value_counts()"
   ]
  },
  {
   "cell_type": "code",
   "execution_count": 22,
   "metadata": {},
   "outputs": [
    {
     "data": {
      "text/plain": [
       "Fully Paid                                             994300\n",
       "Current                                                867316\n",
       "Charged Off                                            253510\n",
       "Late (31-120 days)                                      20918\n",
       "In Grace Period                                          8418\n",
       "Late (16-30 days)                                        3533\n",
       "Does not meet the credit policy. Status:Fully Paid       1886\n",
       "Does not meet the credit policy. Status:Charged Off       715\n",
       "Default                                                    31\n",
       "Name: loan_status, dtype: int64"
      ]
     },
     "execution_count": 22,
     "metadata": {},
     "output_type": "execute_result"
    }
   ],
   "source": [
    "df_sel['loan_status'].value_counts()"
   ]
  },
  {
   "cell_type": "code",
   "execution_count": 23,
   "metadata": {},
   "outputs": [
    {
     "data": {
      "text/plain": [
       "(2150627, 73)"
      ]
     },
     "execution_count": 23,
     "metadata": {},
     "output_type": "execute_result"
    }
   ],
   "source": [
    "df_sel.shape"
   ]
  },
  {
   "cell_type": "code",
   "execution_count": 24,
   "metadata": {},
   "outputs": [
    {
     "data": {
      "text/plain": [
       "(1250411, 73)"
      ]
     },
     "execution_count": 24,
     "metadata": {},
     "output_type": "execute_result"
    }
   ],
   "source": [
    "# Dropping irrelevant loan_status\n",
    "\n",
    "df_sel.reset_index()\n",
    "df_sel = df_sel[~(df_sel['loan_status'] == 'In Grace Period')]\n",
    "df_sel = df_sel[~(df_sel['loan_status'] == 'Current')]\n",
    "df_sel = df_sel[~(df_sel['loan_status'] == 'Late (31-120 days)')]\n",
    "df_sel = df_sel[~(df_sel['loan_status'] == 'Default')]\n",
    "df_sel = df_sel[~(df_sel['loan_status'] == 'Late (16-30 days)')]\n",
    "df_sel.shape"
   ]
  },
  {
   "cell_type": "code",
   "execution_count": 25,
   "metadata": {},
   "outputs": [
    {
     "data": {
      "text/plain": [
       "Fully Paid                                             994300\n",
       "Charged Off                                            253510\n",
       "Does not meet the credit policy. Status:Fully Paid       1886\n",
       "Does not meet the credit policy. Status:Charged Off       715\n",
       "Name: loan_status, dtype: int64"
      ]
     },
     "execution_count": 25,
     "metadata": {},
     "output_type": "execute_result"
    }
   ],
   "source": [
    "df_sel['loan_status'].value_counts()"
   ]
  },
  {
   "cell_type": "code",
   "execution_count": 26,
   "metadata": {},
   "outputs": [],
   "source": [
    "# Setting '%Fully Paid' to 0\n",
    "# Setting '%Charges Off' to 1\n",
    "\n",
    "df_sel['loan_status'] = df_sel['loan_status'].replace(['Fully Paid', 'Does not meet the credit policy. Status:Fully Paid'], '0')\n",
    "df_sel['loan_status'] = df_sel['loan_status'].replace(['Charged Off', 'Does not meet the credit policy. Status:Charged Off'], '1')"
   ]
  },
  {
   "cell_type": "code",
   "execution_count": 27,
   "metadata": {},
   "outputs": [
    {
     "data": {
      "text/plain": [
       "0    996186\n",
       "1    254225\n",
       "Name: loan_status, dtype: int64"
      ]
     },
     "execution_count": 27,
     "metadata": {},
     "output_type": "execute_result"
    }
   ],
   "source": [
    "df_sel['loan_status'].value_counts()"
   ]
  },
  {
   "cell_type": "code",
   "execution_count": 28,
   "metadata": {},
   "outputs": [],
   "source": [
    "df_sel['loan_status'] = pd.to_numeric(df_sel['loan_status'])"
   ]
  },
  {
   "cell_type": "code",
   "execution_count": 29,
   "metadata": {},
   "outputs": [
    {
     "data": {
      "text/plain": [
       "(1250411, 73)"
      ]
     },
     "execution_count": 29,
     "metadata": {},
     "output_type": "execute_result"
    }
   ],
   "source": [
    "df_sel.shape"
   ]
  },
  {
   "cell_type": "code",
   "execution_count": 30,
   "metadata": {},
   "outputs": [
    {
     "name": "stdout",
     "output_type": "stream",
     "text": [
      "<class 'pandas.core.frame.DataFrame'>\n",
      "Int64Index: 1250411 entries, 100 to 2260664\n",
      "Data columns (total 73 columns):\n",
      " #   Column                                      Non-Null Count    Dtype  \n",
      "---  ------                                      --------------    -----  \n",
      " 0   loan_amnt                                   1250411 non-null  int64  \n",
      " 1   int_rate                                    1250411 non-null  float64\n",
      " 2   annual_inc                                  1250411 non-null  float64\n",
      " 3   dti                                         1250411 non-null  float64\n",
      " 4   delinq_2yrs                                 1250411 non-null  float64\n",
      " 5   inq_last_6mths                              1250411 non-null  float64\n",
      " 6   mths_since_last_delinq                      1250411 non-null  float64\n",
      " 7   mths_since_last_record                      1250411 non-null  float64\n",
      " 8   pub_rec                                     1250411 non-null  float64\n",
      " 9   revol_bal                                   1250411 non-null  int64  \n",
      " 10  revol_util                                  1250411 non-null  float64\n",
      " 11  out_prncp                                   1250411 non-null  float64\n",
      " 12  total_rec_int                               1250411 non-null  float64\n",
      " 13  collections_12_mths_ex_med                  1250411 non-null  float64\n",
      " 14  mths_since_last_major_derog                 1250411 non-null  float64\n",
      " 15  annual_inc_joint                            1250411 non-null  float64\n",
      " 16  dti_joint                                   1250411 non-null  float64\n",
      " 17  tot_cur_bal                                 1250411 non-null  float64\n",
      " 18  open_acc_6m                                 1250411 non-null  float64\n",
      " 19  open_act_il                                 1250411 non-null  float64\n",
      " 20  total_bal_il                                1250411 non-null  float64\n",
      " 21  il_util                                     1250411 non-null  float64\n",
      " 22  max_bal_bc                                  1250411 non-null  float64\n",
      " 23  all_util                                    1250411 non-null  float64\n",
      " 24  total_rev_hi_lim                            1250411 non-null  float64\n",
      " 25  inq_fi                                      1250411 non-null  float64\n",
      " 26  inq_last_12m                                1250411 non-null  float64\n",
      " 27  avg_cur_bal                                 1250411 non-null  float64\n",
      " 28  bc_util                                     1250411 non-null  float64\n",
      " 29  chargeoff_within_12_mths                    1250411 non-null  float64\n",
      " 30  mths_since_recent_bc_dlq                    1250411 non-null  float64\n",
      " 31  mths_since_recent_inq                       1250411 non-null  float64\n",
      " 32  mths_since_recent_revol_delinq              1250411 non-null  float64\n",
      " 33  num_accts_ever_120_pd                       1250411 non-null  float64\n",
      " 34  num_tl_120dpd_2m                            1250411 non-null  float64\n",
      " 35  num_tl_30dpd                                1250411 non-null  float64\n",
      " 36  num_tl_90g_dpd_24m                          1250411 non-null  float64\n",
      " 37  pct_tl_nvr_dlq                              1250411 non-null  float64\n",
      " 38  percent_bc_gt_75                            1250411 non-null  float64\n",
      " 39  pub_rec_bankruptcies                        1250411 non-null  float64\n",
      " 40  tax_liens                                   1250411 non-null  float64\n",
      " 41  total_bal_ex_mort                           1250411 non-null  float64\n",
      " 42  total_bc_limit                              1250411 non-null  float64\n",
      " 43  total_il_high_credit_limit                  1250411 non-null  float64\n",
      " 44  revol_bal_joint                             1250411 non-null  float64\n",
      " 45  sec_app_inq_last_6mths                      1250411 non-null  float64\n",
      " 46  sec_app_mort_acc                            1250411 non-null  float64\n",
      " 47  sec_app_open_acc                            1250411 non-null  float64\n",
      " 48  sec_app_revol_util                          1250411 non-null  float64\n",
      " 49  sec_app_open_act_il                         1250411 non-null  float64\n",
      " 50  sec_app_chargeoff_within_12_mths            1250411 non-null  float64\n",
      " 51  sec_app_collections_12_mths_ex_med          1250411 non-null  float64\n",
      " 52  sec_app_mths_since_last_major_derog         1250411 non-null  float64\n",
      " 53  deferral_term                               1250411 non-null  float64\n",
      " 54  hardship_amount                             1250411 non-null  float64\n",
      " 55  hardship_dpd                                1250411 non-null  float64\n",
      " 56  orig_projected_additional_accrued_interest  1250411 non-null  float64\n",
      " 57  hardship_last_payment_amount                1250411 non-null  float64\n",
      " 58  term                                        1250411 non-null  object \n",
      " 59  grade                                       1250411 non-null  object \n",
      " 60  sub_grade                                   1250411 non-null  object \n",
      " 61  home_ownership                              1250411 non-null  object \n",
      " 62  verification_status                         1250411 non-null  object \n",
      " 63  loan_status                                 1250411 non-null  int64  \n",
      " 64  pymnt_plan                                  1250411 non-null  object \n",
      " 65  initial_list_status                         1250411 non-null  object \n",
      " 66  application_type                            1250411 non-null  object \n",
      " 67  verification_status_joint                   22734 non-null    object \n",
      " 68  hardship_flag                               1250411 non-null  object \n",
      " 69  hardship_type                               5092 non-null     object \n",
      " 70  hardship_reason                             5092 non-null     object \n",
      " 71  hardship_status                             5092 non-null     object \n",
      " 72  hardship_loan_status                        5092 non-null     object \n",
      "dtypes: float64(56), int64(3), object(14)\n",
      "memory usage: 706.0+ MB\n"
     ]
    }
   ],
   "source": [
    "df_sel.info()"
   ]
  },
  {
   "cell_type": "code",
   "execution_count": null,
   "metadata": {},
   "outputs": [],
   "source": []
  },
  {
   "cell_type": "code",
   "execution_count": 31,
   "metadata": {},
   "outputs": [
    {
     "data": {
      "text/plain": [
       "['term',\n",
       " 'grade',\n",
       " 'sub_grade',\n",
       " 'home_ownership',\n",
       " 'verification_status',\n",
       " 'pymnt_plan',\n",
       " 'initial_list_status',\n",
       " 'application_type',\n",
       " 'verification_status_joint',\n",
       " 'hardship_flag',\n",
       " 'hardship_type',\n",
       " 'hardship_reason',\n",
       " 'hardship_status',\n",
       " 'hardship_loan_status']"
      ]
     },
     "execution_count": 31,
     "metadata": {},
     "output_type": "execute_result"
    }
   ],
   "source": [
    "# Create a list of object columns.  Exclude response variable 'loan_status'\n",
    "cols_obj = []\n",
    "for col in df_sel.columns:\n",
    "    if df_sel[col].dtype == object:\n",
    "        cols_obj.append(col)\n",
    "#cols_obj.remove('loan_status')\n",
    "cols_obj"
   ]
  },
  {
   "cell_type": "code",
   "execution_count": 32,
   "metadata": {},
   "outputs": [
    {
     "data": {
      "text/html": [
       "<div>\n",
       "<style scoped>\n",
       "    .dataframe tbody tr th:only-of-type {\n",
       "        vertical-align: middle;\n",
       "    }\n",
       "\n",
       "    .dataframe tbody tr th {\n",
       "        vertical-align: top;\n",
       "    }\n",
       "\n",
       "    .dataframe thead th {\n",
       "        text-align: right;\n",
       "    }\n",
       "</style>\n",
       "<table border=\"1\" class=\"dataframe\">\n",
       "  <thead>\n",
       "    <tr style=\"text-align: right;\">\n",
       "      <th></th>\n",
       "      <th>loan_amnt</th>\n",
       "      <th>int_rate</th>\n",
       "      <th>annual_inc</th>\n",
       "      <th>dti</th>\n",
       "      <th>delinq_2yrs</th>\n",
       "      <th>inq_last_6mths</th>\n",
       "      <th>mths_since_last_delinq</th>\n",
       "      <th>mths_since_last_record</th>\n",
       "      <th>pub_rec</th>\n",
       "      <th>revol_bal</th>\n",
       "      <th>...</th>\n",
       "      <th>hardship_reason_REDUCED_HOURS</th>\n",
       "      <th>hardship_reason_UNEMPLOYMENT</th>\n",
       "      <th>hardship_status_ACTIVE</th>\n",
       "      <th>hardship_status_BROKEN</th>\n",
       "      <th>hardship_status_COMPLETED</th>\n",
       "      <th>hardship_loan_status_Current</th>\n",
       "      <th>hardship_loan_status_In Grace Period</th>\n",
       "      <th>hardship_loan_status_Issued</th>\n",
       "      <th>hardship_loan_status_Late (16-30 days)</th>\n",
       "      <th>hardship_loan_status_Late (31-120 days)</th>\n",
       "    </tr>\n",
       "  </thead>\n",
       "  <tbody>\n",
       "    <tr>\n",
       "      <th>100</th>\n",
       "      <td>30000</td>\n",
       "      <td>22.35</td>\n",
       "      <td>100000.0</td>\n",
       "      <td>30.46</td>\n",
       "      <td>0.0</td>\n",
       "      <td>0.0</td>\n",
       "      <td>51.0</td>\n",
       "      <td>84.0</td>\n",
       "      <td>1.0</td>\n",
       "      <td>15603</td>\n",
       "      <td>...</td>\n",
       "      <td>0</td>\n",
       "      <td>0</td>\n",
       "      <td>0</td>\n",
       "      <td>0</td>\n",
       "      <td>0</td>\n",
       "      <td>0</td>\n",
       "      <td>0</td>\n",
       "      <td>0</td>\n",
       "      <td>0</td>\n",
       "      <td>0</td>\n",
       "    </tr>\n",
       "    <tr>\n",
       "      <th>152</th>\n",
       "      <td>40000</td>\n",
       "      <td>16.14</td>\n",
       "      <td>45000.0</td>\n",
       "      <td>50.53</td>\n",
       "      <td>0.0</td>\n",
       "      <td>0.0</td>\n",
       "      <td>0.0</td>\n",
       "      <td>0.0</td>\n",
       "      <td>0.0</td>\n",
       "      <td>34971</td>\n",
       "      <td>...</td>\n",
       "      <td>0</td>\n",
       "      <td>0</td>\n",
       "      <td>0</td>\n",
       "      <td>0</td>\n",
       "      <td>0</td>\n",
       "      <td>0</td>\n",
       "      <td>0</td>\n",
       "      <td>0</td>\n",
       "      <td>0</td>\n",
       "      <td>0</td>\n",
       "    </tr>\n",
       "    <tr>\n",
       "      <th>170</th>\n",
       "      <td>20000</td>\n",
       "      <td>7.56</td>\n",
       "      <td>100000.0</td>\n",
       "      <td>18.92</td>\n",
       "      <td>0.0</td>\n",
       "      <td>0.0</td>\n",
       "      <td>48.0</td>\n",
       "      <td>0.0</td>\n",
       "      <td>0.0</td>\n",
       "      <td>25416</td>\n",
       "      <td>...</td>\n",
       "      <td>0</td>\n",
       "      <td>0</td>\n",
       "      <td>0</td>\n",
       "      <td>0</td>\n",
       "      <td>0</td>\n",
       "      <td>0</td>\n",
       "      <td>0</td>\n",
       "      <td>0</td>\n",
       "      <td>0</td>\n",
       "      <td>0</td>\n",
       "    </tr>\n",
       "    <tr>\n",
       "      <th>186</th>\n",
       "      <td>4500</td>\n",
       "      <td>11.31</td>\n",
       "      <td>38500.0</td>\n",
       "      <td>4.64</td>\n",
       "      <td>0.0</td>\n",
       "      <td>0.0</td>\n",
       "      <td>25.0</td>\n",
       "      <td>0.0</td>\n",
       "      <td>0.0</td>\n",
       "      <td>4472</td>\n",
       "      <td>...</td>\n",
       "      <td>0</td>\n",
       "      <td>0</td>\n",
       "      <td>0</td>\n",
       "      <td>0</td>\n",
       "      <td>0</td>\n",
       "      <td>0</td>\n",
       "      <td>0</td>\n",
       "      <td>0</td>\n",
       "      <td>0</td>\n",
       "      <td>0</td>\n",
       "    </tr>\n",
       "    <tr>\n",
       "      <th>269</th>\n",
       "      <td>20000</td>\n",
       "      <td>17.97</td>\n",
       "      <td>57000.0</td>\n",
       "      <td>22.18</td>\n",
       "      <td>0.0</td>\n",
       "      <td>0.0</td>\n",
       "      <td>0.0</td>\n",
       "      <td>0.0</td>\n",
       "      <td>0.0</td>\n",
       "      <td>33356</td>\n",
       "      <td>...</td>\n",
       "      <td>0</td>\n",
       "      <td>0</td>\n",
       "      <td>0</td>\n",
       "      <td>0</td>\n",
       "      <td>0</td>\n",
       "      <td>0</td>\n",
       "      <td>0</td>\n",
       "      <td>0</td>\n",
       "      <td>0</td>\n",
       "      <td>0</td>\n",
       "    </tr>\n",
       "  </tbody>\n",
       "</table>\n",
       "<p>5 rows × 140 columns</p>\n",
       "</div>"
      ],
      "text/plain": [
       "     loan_amnt  int_rate  annual_inc    dti  delinq_2yrs  inq_last_6mths  \\\n",
       "100      30000     22.35    100000.0  30.46          0.0             0.0   \n",
       "152      40000     16.14     45000.0  50.53          0.0             0.0   \n",
       "170      20000      7.56    100000.0  18.92          0.0             0.0   \n",
       "186       4500     11.31     38500.0   4.64          0.0             0.0   \n",
       "269      20000     17.97     57000.0  22.18          0.0             0.0   \n",
       "\n",
       "     mths_since_last_delinq  mths_since_last_record  pub_rec  revol_bal  ...  \\\n",
       "100                    51.0                    84.0      1.0      15603  ...   \n",
       "152                     0.0                     0.0      0.0      34971  ...   \n",
       "170                    48.0                     0.0      0.0      25416  ...   \n",
       "186                    25.0                     0.0      0.0       4472  ...   \n",
       "269                     0.0                     0.0      0.0      33356  ...   \n",
       "\n",
       "     hardship_reason_REDUCED_HOURS  hardship_reason_UNEMPLOYMENT  \\\n",
       "100                              0                             0   \n",
       "152                              0                             0   \n",
       "170                              0                             0   \n",
       "186                              0                             0   \n",
       "269                              0                             0   \n",
       "\n",
       "     hardship_status_ACTIVE  hardship_status_BROKEN  \\\n",
       "100                       0                       0   \n",
       "152                       0                       0   \n",
       "170                       0                       0   \n",
       "186                       0                       0   \n",
       "269                       0                       0   \n",
       "\n",
       "     hardship_status_COMPLETED  hardship_loan_status_Current  \\\n",
       "100                          0                             0   \n",
       "152                          0                             0   \n",
       "170                          0                             0   \n",
       "186                          0                             0   \n",
       "269                          0                             0   \n",
       "\n",
       "     hardship_loan_status_In Grace Period  hardship_loan_status_Issued  \\\n",
       "100                                     0                            0   \n",
       "152                                     0                            0   \n",
       "170                                     0                            0   \n",
       "186                                     0                            0   \n",
       "269                                     0                            0   \n",
       "\n",
       "     hardship_loan_status_Late (16-30 days)  \\\n",
       "100                                       0   \n",
       "152                                       0   \n",
       "170                                       0   \n",
       "186                                       0   \n",
       "269                                       0   \n",
       "\n",
       "     hardship_loan_status_Late (31-120 days)  \n",
       "100                                        0  \n",
       "152                                        0  \n",
       "170                                        0  \n",
       "186                                        0  \n",
       "269                                        0  \n",
       "\n",
       "[5 rows x 140 columns]"
      ]
     },
     "execution_count": 32,
     "metadata": {},
     "output_type": "execute_result"
    }
   ],
   "source": [
    "df_sel = pd.concat([df_sel.drop(cols_obj, axis=1), pd.get_dummies(df_sel[cols_obj])], axis=1)\n",
    "df_sel.head(5)"
   ]
  },
  {
   "cell_type": "code",
   "execution_count": 33,
   "metadata": {},
   "outputs": [
    {
     "data": {
      "text/html": [
       "<div>\n",
       "<style scoped>\n",
       "    .dataframe tbody tr th:only-of-type {\n",
       "        vertical-align: middle;\n",
       "    }\n",
       "\n",
       "    .dataframe tbody tr th {\n",
       "        vertical-align: top;\n",
       "    }\n",
       "\n",
       "    .dataframe thead th {\n",
       "        text-align: right;\n",
       "    }\n",
       "</style>\n",
       "<table border=\"1\" class=\"dataframe\">\n",
       "  <thead>\n",
       "    <tr style=\"text-align: right;\">\n",
       "      <th></th>\n",
       "      <th>loan_amnt</th>\n",
       "      <th>int_rate</th>\n",
       "      <th>annual_inc</th>\n",
       "      <th>dti</th>\n",
       "      <th>delinq_2yrs</th>\n",
       "      <th>inq_last_6mths</th>\n",
       "      <th>mths_since_last_delinq</th>\n",
       "      <th>mths_since_last_record</th>\n",
       "      <th>pub_rec</th>\n",
       "      <th>revol_bal</th>\n",
       "      <th>...</th>\n",
       "      <th>hardship_reason_REDUCED_HOURS</th>\n",
       "      <th>hardship_reason_UNEMPLOYMENT</th>\n",
       "      <th>hardship_status_ACTIVE</th>\n",
       "      <th>hardship_status_BROKEN</th>\n",
       "      <th>hardship_status_COMPLETED</th>\n",
       "      <th>hardship_loan_status_Current</th>\n",
       "      <th>hardship_loan_status_In Grace Period</th>\n",
       "      <th>hardship_loan_status_Issued</th>\n",
       "      <th>hardship_loan_status_Late (16-30 days)</th>\n",
       "      <th>hardship_loan_status_Late (31-120 days)</th>\n",
       "    </tr>\n",
       "  </thead>\n",
       "  <tbody>\n",
       "    <tr>\n",
       "      <th>1255524</th>\n",
       "      <td>13875</td>\n",
       "      <td>12.29</td>\n",
       "      <td>72200.0</td>\n",
       "      <td>20.46</td>\n",
       "      <td>0.0</td>\n",
       "      <td>0.0</td>\n",
       "      <td>30.0</td>\n",
       "      <td>0.0</td>\n",
       "      <td>0.0</td>\n",
       "      <td>9022</td>\n",
       "      <td>...</td>\n",
       "      <td>0</td>\n",
       "      <td>0</td>\n",
       "      <td>0</td>\n",
       "      <td>0</td>\n",
       "      <td>0</td>\n",
       "      <td>0</td>\n",
       "      <td>0</td>\n",
       "      <td>0</td>\n",
       "      <td>0</td>\n",
       "      <td>0</td>\n",
       "    </tr>\n",
       "    <tr>\n",
       "      <th>535155</th>\n",
       "      <td>21600</td>\n",
       "      <td>13.49</td>\n",
       "      <td>54000.0</td>\n",
       "      <td>16.62</td>\n",
       "      <td>0.0</td>\n",
       "      <td>0.0</td>\n",
       "      <td>0.0</td>\n",
       "      <td>0.0</td>\n",
       "      <td>0.0</td>\n",
       "      <td>21088</td>\n",
       "      <td>...</td>\n",
       "      <td>0</td>\n",
       "      <td>0</td>\n",
       "      <td>0</td>\n",
       "      <td>0</td>\n",
       "      <td>0</td>\n",
       "      <td>0</td>\n",
       "      <td>0</td>\n",
       "      <td>0</td>\n",
       "      <td>0</td>\n",
       "      <td>0</td>\n",
       "    </tr>\n",
       "    <tr>\n",
       "      <th>1768585</th>\n",
       "      <td>6350</td>\n",
       "      <td>13.11</td>\n",
       "      <td>61000.0</td>\n",
       "      <td>17.09</td>\n",
       "      <td>0.0</td>\n",
       "      <td>0.0</td>\n",
       "      <td>0.0</td>\n",
       "      <td>0.0</td>\n",
       "      <td>0.0</td>\n",
       "      <td>29773</td>\n",
       "      <td>...</td>\n",
       "      <td>0</td>\n",
       "      <td>0</td>\n",
       "      <td>0</td>\n",
       "      <td>0</td>\n",
       "      <td>0</td>\n",
       "      <td>0</td>\n",
       "      <td>0</td>\n",
       "      <td>0</td>\n",
       "      <td>0</td>\n",
       "      <td>0</td>\n",
       "    </tr>\n",
       "    <tr>\n",
       "      <th>1784142</th>\n",
       "      <td>24000</td>\n",
       "      <td>7.62</td>\n",
       "      <td>95000.0</td>\n",
       "      <td>17.72</td>\n",
       "      <td>0.0</td>\n",
       "      <td>1.0</td>\n",
       "      <td>0.0</td>\n",
       "      <td>0.0</td>\n",
       "      <td>0.0</td>\n",
       "      <td>15652</td>\n",
       "      <td>...</td>\n",
       "      <td>0</td>\n",
       "      <td>0</td>\n",
       "      <td>0</td>\n",
       "      <td>0</td>\n",
       "      <td>0</td>\n",
       "      <td>0</td>\n",
       "      <td>0</td>\n",
       "      <td>0</td>\n",
       "      <td>0</td>\n",
       "      <td>0</td>\n",
       "    </tr>\n",
       "    <tr>\n",
       "      <th>531923</th>\n",
       "      <td>12000</td>\n",
       "      <td>12.79</td>\n",
       "      <td>60000.0</td>\n",
       "      <td>13.24</td>\n",
       "      <td>1.0</td>\n",
       "      <td>0.0</td>\n",
       "      <td>11.0</td>\n",
       "      <td>0.0</td>\n",
       "      <td>0.0</td>\n",
       "      <td>4092</td>\n",
       "      <td>...</td>\n",
       "      <td>0</td>\n",
       "      <td>0</td>\n",
       "      <td>0</td>\n",
       "      <td>0</td>\n",
       "      <td>0</td>\n",
       "      <td>0</td>\n",
       "      <td>0</td>\n",
       "      <td>0</td>\n",
       "      <td>0</td>\n",
       "      <td>0</td>\n",
       "    </tr>\n",
       "  </tbody>\n",
       "</table>\n",
       "<p>5 rows × 140 columns</p>\n",
       "</div>"
      ],
      "text/plain": [
       "         loan_amnt  int_rate  annual_inc    dti  delinq_2yrs  inq_last_6mths  \\\n",
       "1255524      13875     12.29     72200.0  20.46          0.0             0.0   \n",
       "535155       21600     13.49     54000.0  16.62          0.0             0.0   \n",
       "1768585       6350     13.11     61000.0  17.09          0.0             0.0   \n",
       "1784142      24000      7.62     95000.0  17.72          0.0             1.0   \n",
       "531923       12000     12.79     60000.0  13.24          1.0             0.0   \n",
       "\n",
       "         mths_since_last_delinq  mths_since_last_record  pub_rec  revol_bal  \\\n",
       "1255524                    30.0                     0.0      0.0       9022   \n",
       "535155                      0.0                     0.0      0.0      21088   \n",
       "1768585                     0.0                     0.0      0.0      29773   \n",
       "1784142                     0.0                     0.0      0.0      15652   \n",
       "531923                     11.0                     0.0      0.0       4092   \n",
       "\n",
       "         ...  hardship_reason_REDUCED_HOURS  hardship_reason_UNEMPLOYMENT  \\\n",
       "1255524  ...                              0                             0   \n",
       "535155   ...                              0                             0   \n",
       "1768585  ...                              0                             0   \n",
       "1784142  ...                              0                             0   \n",
       "531923   ...                              0                             0   \n",
       "\n",
       "         hardship_status_ACTIVE  hardship_status_BROKEN  \\\n",
       "1255524                       0                       0   \n",
       "535155                        0                       0   \n",
       "1768585                       0                       0   \n",
       "1784142                       0                       0   \n",
       "531923                        0                       0   \n",
       "\n",
       "         hardship_status_COMPLETED  hardship_loan_status_Current  \\\n",
       "1255524                          0                             0   \n",
       "535155                           0                             0   \n",
       "1768585                          0                             0   \n",
       "1784142                          0                             0   \n",
       "531923                           0                             0   \n",
       "\n",
       "         hardship_loan_status_In Grace Period  hardship_loan_status_Issued  \\\n",
       "1255524                                     0                            0   \n",
       "535155                                      0                            0   \n",
       "1768585                                     0                            0   \n",
       "1784142                                     0                            0   \n",
       "531923                                      0                            0   \n",
       "\n",
       "         hardship_loan_status_Late (16-30 days)  \\\n",
       "1255524                                       0   \n",
       "535155                                        0   \n",
       "1768585                                       0   \n",
       "1784142                                       0   \n",
       "531923                                        0   \n",
       "\n",
       "         hardship_loan_status_Late (31-120 days)  \n",
       "1255524                                        0  \n",
       "535155                                         0  \n",
       "1768585                                        0  \n",
       "1784142                                        0  \n",
       "531923                                         0  \n",
       "\n",
       "[5 rows x 140 columns]"
      ]
     },
     "execution_count": 33,
     "metadata": {},
     "output_type": "execute_result"
    }
   ],
   "source": [
    "# Using a sample size of 200,000 for modeling, due to Memory error when using all observations.\n",
    "df_sample = df_sel.sample(200000)\n",
    "df_sample.head()"
   ]
  },
  {
   "cell_type": "code",
   "execution_count": 34,
   "metadata": {},
   "outputs": [],
   "source": [
    "y = df_sample['loan_status']\n",
    "X = df_sample.drop(['loan_status'], axis=1)"
   ]
  },
  {
   "cell_type": "code",
   "execution_count": 35,
   "metadata": {},
   "outputs": [],
   "source": [
    "from sklearn.model_selection import train_test_split\n",
    "\n",
    "y = y.ravel()\n",
    "X_train, X_test, y_train, y_test = train_test_split(X, y, test_size=0.25, random_state=1)"
   ]
  },
  {
   "cell_type": "code",
   "execution_count": 36,
   "metadata": {},
   "outputs": [
    {
     "data": {
      "text/plain": [
       "array([[ 7.12891811e-01, -1.22683310e-01, -7.59459577e-01, ...,\n",
       "        -2.58199750e-03, -4.15890995e-02, -1.48340288e-02],\n",
       "       [-4.76759209e-01,  2.45900413e-01,  5.18752405e-02, ...,\n",
       "        -2.58199750e-03, -4.15890995e-02, -1.48340288e-02],\n",
       "       [ 4.74961607e-01, -1.03887713e+00, -2.07751901e-01, ...,\n",
       "        -2.58199750e-03, -4.15890995e-02, -1.48340288e-02],\n",
       "       ...,\n",
       "       [-4.76759209e-01, -1.12152346e-01,  5.18752405e-02, ...,\n",
       "        -2.58199750e-03, -4.15890995e-02, -1.48340288e-02],\n",
       "       [-8.98801174e-04, -3.90169783e-01, -5.97192614e-01, ...,\n",
       "        -2.58199750e-03, -4.15890995e-02, -1.48340288e-02],\n",
       "       [-6.84705628e-03,  2.56271238e+00, -4.54849377e-02, ...,\n",
       "        -2.58199750e-03, -4.15890995e-02, -1.48340288e-02]])"
      ]
     },
     "execution_count": 36,
     "metadata": {},
     "output_type": "execute_result"
    }
   ],
   "source": [
    "from sklearn import preprocessing as ppg\n",
    "\n",
    "scaler = ppg.StandardScaler().fit(X_train)\n",
    "X_train_scaled=scaler.transform(X_train)\n",
    "X_train_scaled"
   ]
  },
  {
   "cell_type": "code",
   "execution_count": 37,
   "metadata": {},
   "outputs": [
    {
     "data": {
      "text/plain": [
       "array([[ 0.71289181, -0.17533813, -0.17529851, ..., -0.002582  ,\n",
       "        -0.0415891 , -0.01483403],\n",
       "       [-0.33400109, -0.07002849, -0.43492565, ..., -0.002582  ,\n",
       "        -0.0415891 , -0.01483403],\n",
       "       [-0.95261962, -0.49126703, -1.01908672, ..., -0.002582  ,\n",
       "        -0.0415891 , -0.01483403],\n",
       "       ...,\n",
       "       [-0.11391565,  0.66713895, -0.45115235, ..., -0.002582  ,\n",
       "        -0.0415891 , -0.01483403],\n",
       "       [-0.47675921, -0.56498378, -0.59719261, ..., -0.002582  ,\n",
       "        -0.0415891 , -0.01483403],\n",
       "       [-0.23882901,  0.72821854, -0.75945958, ..., -0.002582  ,\n",
       "        -0.0415891 , -0.01483403]])"
      ]
     },
     "execution_count": 37,
     "metadata": {},
     "output_type": "execute_result"
    }
   ],
   "source": [
    "X_test_scaled = scaler.transform(X_test)\n",
    "X_test_scaled"
   ]
  },
  {
   "cell_type": "code",
   "execution_count": null,
   "metadata": {},
   "outputs": [],
   "source": []
  },
  {
   "cell_type": "markdown",
   "metadata": {},
   "source": [
    "# Logistic Regression"
   ]
  },
  {
   "cell_type": "code",
   "execution_count": 38,
   "metadata": {},
   "outputs": [
    {
     "name": "stdout",
     "output_type": "stream",
     "text": [
      "Tuned Logistic Regression Parameters: {'C': 10}\n",
      "Best score is 0.8013933333333334\n",
      "Accuracy score is 0.80496\n"
     ]
    }
   ],
   "source": [
    "# Using K fold cross validation and Grid search to get the most accurate prediction\n",
    "\n",
    "from sklearn.linear_model import LogisticRegression\n",
    "from sklearn.metrics import accuracy_score\n",
    "from sklearn.model_selection import GridSearchCV\n",
    "\n",
    "#the grid of parameters to search over\n",
    "Cs = [0.001, 0.1, 1, 10, 100]\n",
    "\n",
    "param_grid = {'C': Cs}\n",
    "logreg = LogisticRegression()\n",
    "logreg_cv = GridSearchCV(logreg, param_grid, cv=5)\n",
    "logreg_cv.fit(X_train_scaled, y_train)\n",
    "print(\"Tuned Logistic Regression Parameters: {}\".format(logreg_cv.best_params_)) \n",
    "print(\"Best score is {}\".format(logreg_cv.best_score_))\n",
    "# Print the accuracy from the testing data.\n",
    "print(\"Accuracy score is {}\".format(accuracy_score(logreg_cv.predict(X_test_scaled), y_test)))\n"
   ]
  },
  {
   "cell_type": "code",
   "execution_count": 39,
   "metadata": {},
   "outputs": [
    {
     "data": {
      "text/plain": [
       "array([[39195,   867],\n",
       "       [ 8885,  1053]], dtype=int64)"
      ]
     },
     "execution_count": 39,
     "metadata": {},
     "output_type": "execute_result"
    }
   ],
   "source": [
    "from sklearn.metrics import confusion_matrix\n",
    "\n",
    "y_pred_log = logreg_cv.predict(X_test_scaled)\n",
    "pl_log = confusion_matrix(y_test,y_pred_log)\n",
    "pl_log"
   ]
  },
  {
   "cell_type": "code",
   "execution_count": 40,
   "metadata": {},
   "outputs": [
    {
     "name": "stdout",
     "output_type": "stream",
     "text": [
      "              precision    recall  f1-score   support\n",
      "\n",
      "           0       0.82      0.98      0.89     40062\n",
      "           1       0.55      0.11      0.18      9938\n",
      "\n",
      "    accuracy                           0.80     50000\n",
      "   macro avg       0.68      0.54      0.53     50000\n",
      "weighted avg       0.76      0.80      0.75     50000\n",
      "\n"
     ]
    }
   ],
   "source": [
    "from sklearn.metrics import classification_report\n",
    "\n",
    "cl_rep_log = classification_report(y_test,y_pred_log)\n",
    "print(cl_rep_log)"
   ]
  },
  {
   "cell_type": "code",
   "execution_count": 41,
   "metadata": {},
   "outputs": [
    {
     "name": "stdout",
     "output_type": "stream",
     "text": [
      "Test Data Set Logistic Regression: Accuracy=0.805\n",
      "Test Data Set Logistic Regression: f1-score=0.748\n",
      "Test Data Set Logistic Regression: roc_auc_score=0.542\n"
     ]
    }
   ],
   "source": [
    "from sklearn.metrics import accuracy_score, f1_score, roc_auc_score\n",
    "\n",
    "ac = accuracy_score(y_test, y_pred_log)\n",
    "print('Test Data Set Logistic Regression: Accuracy=%.3f' % (ac))\n",
    "\n",
    "f1 = f1_score(y_test, y_pred_log, average='weighted')\n",
    "print('Test Data Set Logistic Regression: f1-score=%.3f' % (f1))\n",
    "\n",
    "roc_auc = roc_auc_score(y_test, y_pred_log)\n",
    "print('Test Data Set Logistic Regression: roc_auc_score=%.3f' % (roc_auc))"
   ]
  },
  {
   "cell_type": "markdown",
   "metadata": {},
   "source": [
    "# Random Forest"
   ]
  },
  {
   "cell_type": "code",
   "execution_count": 42,
   "metadata": {},
   "outputs": [
    {
     "name": "stdout",
     "output_type": "stream",
     "text": [
      "Tuned Random Forest Parameters: {'n_estimators': 50}\n",
      "Best score is 0.8019599999999999\n",
      "Accuracy score is 0.80598\n"
     ]
    }
   ],
   "source": [
    "from sklearn.ensemble import RandomForestClassifier\n",
    "\n",
    "param_grid = {'n_estimators': [10,20,30,40,50]}\n",
    "clf = RandomForestClassifier(random_state = 1,n_jobs=-1)\n",
    "clf_cv = GridSearchCV(clf, param_grid, cv=5)\n",
    "clf_cv.fit(X_train_scaled, y_train)\n",
    "y_pred_ranf = clf_cv.predict(X_test_scaled)\n",
    "print(\"Tuned Random Forest Parameters: {}\".format(clf_cv.best_params_)) \n",
    "print(\"Best score is {}\".format(clf_cv.best_score_))\n",
    "print(\"Accuracy score is {}\".format(accuracy_score(y_test, y_pred_ranf)))\n"
   ]
  },
  {
   "cell_type": "code",
   "execution_count": 43,
   "metadata": {},
   "outputs": [
    {
     "data": {
      "text/plain": [
       "array([0, 0, 0, ..., 0, 0, 0], dtype=int64)"
      ]
     },
     "execution_count": 43,
     "metadata": {},
     "output_type": "execute_result"
    }
   ],
   "source": [
    "y_pred_ranf"
   ]
  },
  {
   "cell_type": "code",
   "execution_count": 44,
   "metadata": {},
   "outputs": [
    {
     "data": {
      "text/plain": [
       "array([[39346,   716],\n",
       "       [ 8985,   953]], dtype=int64)"
      ]
     },
     "execution_count": 44,
     "metadata": {},
     "output_type": "execute_result"
    }
   ],
   "source": [
    "pl_ranf = confusion_matrix(y_test,y_pred_ranf)\n",
    "pl_ranf"
   ]
  },
  {
   "cell_type": "code",
   "execution_count": 45,
   "metadata": {},
   "outputs": [
    {
     "name": "stdout",
     "output_type": "stream",
     "text": [
      "              precision    recall  f1-score   support\n",
      "\n",
      "           0       0.81      0.98      0.89     40062\n",
      "           1       0.57      0.10      0.16      9938\n",
      "\n",
      "    accuracy                           0.81     50000\n",
      "   macro avg       0.69      0.54      0.53     50000\n",
      "weighted avg       0.77      0.81      0.75     50000\n",
      "\n"
     ]
    }
   ],
   "source": [
    "cl_rep_ranf = classification_report(y_test,y_pred_ranf)\n",
    "print(cl_rep_ranf)"
   ]
  },
  {
   "cell_type": "code",
   "execution_count": 46,
   "metadata": {},
   "outputs": [
    {
     "name": "stdout",
     "output_type": "stream",
     "text": [
      "Test Data Set Random Forest: Accuracy=0.806\n",
      "Test Data Set Random Forest: f1-score=0.746\n",
      "Test Data Set Random Forest: roc_auc_score=0.539\n"
     ]
    }
   ],
   "source": [
    "ac = accuracy_score(y_test, y_pred_ranf)\n",
    "print('Test Data Set Random Forest: Accuracy=%.3f' % (ac))\n",
    "\n",
    "f1 = f1_score(y_test, y_pred_ranf, average='weighted')\n",
    "print('Test Data Set Random Forest: f1-score=%.3f' % (f1))\n",
    "\n",
    "roc_auc = roc_auc_score(y_test, y_pred_ranf)\n",
    "print('Test Data Set Random Forest: roc_auc_score=%.3f' % (roc_auc))"
   ]
  },
  {
   "cell_type": "markdown",
   "metadata": {},
   "source": [
    "# Gradient Boosting"
   ]
  },
  {
   "cell_type": "code",
   "execution_count": 47,
   "metadata": {},
   "outputs": [
    {
     "name": "stdout",
     "output_type": "stream",
     "text": [
      "Tuned Gradient Boosting Parameters: {'learning_rate': 0.5}\n",
      "Best score is 0.7988133333333334\n",
      "Accuracy score is 0.80318\n"
     ]
    }
   ],
   "source": [
    "from sklearn.ensemble import GradientBoostingClassifier\n",
    "\n",
    "learning_rates = [0.05, 0.1, 0.25, 0.5, 0.75, 1]\n",
    "    \n",
    "param_grid = {'learning_rate': learning_rates}\n",
    "gb = GradientBoostingClassifier(n_estimators=30, max_features=2, max_depth = 2, random_state = 0)\n",
    "gb_cv = GridSearchCV(gb, param_grid, cv=5)\n",
    "gb_cv.fit(X_train_scaled, y_train)\n",
    "y_pred_gdbst = gb_cv.predict(X_test_scaled)\n",
    "print(\"Tuned Gradient Boosting Parameters: {}\".format(gb_cv.best_params_)) \n",
    "print(\"Best score is {}\".format(gb_cv.best_score_))\n",
    "print(\"Accuracy score is {}\".format(accuracy_score(y_test, y_pred_gdbst)))"
   ]
  },
  {
   "cell_type": "code",
   "execution_count": 48,
   "metadata": {},
   "outputs": [
    {
     "data": {
      "text/plain": [
       "array([[39535,   527],\n",
       "       [ 9314,   624]], dtype=int64)"
      ]
     },
     "execution_count": 48,
     "metadata": {},
     "output_type": "execute_result"
    }
   ],
   "source": [
    "pl_gbst = confusion_matrix(y_test,y_pred_gdbst)\n",
    "pl_gbst"
   ]
  },
  {
   "cell_type": "code",
   "execution_count": 49,
   "metadata": {},
   "outputs": [
    {
     "name": "stdout",
     "output_type": "stream",
     "text": [
      "              precision    recall  f1-score   support\n",
      "\n",
      "           0       0.81      0.99      0.89     40062\n",
      "           1       0.54      0.06      0.11      9938\n",
      "\n",
      "    accuracy                           0.80     50000\n",
      "   macro avg       0.68      0.52      0.50     50000\n",
      "weighted avg       0.76      0.80      0.73     50000\n",
      "\n"
     ]
    }
   ],
   "source": [
    "cl_rep_gbst = classification_report(y_test,y_pred_gdbst)\n",
    "print(cl_rep_gbst)"
   ]
  },
  {
   "cell_type": "code",
   "execution_count": 50,
   "metadata": {},
   "outputs": [
    {
     "name": "stdout",
     "output_type": "stream",
     "text": [
      "Test Data Set Gradient Boosting: Accuracy=0.803\n",
      "Test Data Set Gradient Boosting: f1-score=0.735\n",
      "Test Data Set Gradient Boosting: roc_auc_score=0.525\n"
     ]
    }
   ],
   "source": [
    "ac = accuracy_score(y_test, y_pred_gdbst)\n",
    "print('Test Data Set Gradient Boosting: Accuracy=%.3f' % (ac))\n",
    "\n",
    "f1 = f1_score(y_test, y_pred_gdbst, average='weighted')\n",
    "print('Test Data Set Gradient Boosting: f1-score=%.3f' % (f1))\n",
    "\n",
    "roc_auc = roc_auc_score(y_test, y_pred_gdbst)\n",
    "print('Test Data Set Gradient Boosting: roc_auc_score=%.3f' % (roc_auc))"
   ]
  },
  {
   "cell_type": "markdown",
   "metadata": {},
   "source": [
    "# Compare Models"
   ]
  },
  {
   "cell_type": "markdown",
   "metadata": {},
   "source": [
    "Based on the accuracy score and classification report, Random Forest and Logistic Regression using 5 fold cross validation and Grid Search performed the best."
   ]
  },
  {
   "cell_type": "markdown",
   "metadata": {},
   "source": [
    "| Model | Accuracy| f1_score|roc_auc_score|\n",
    "| --- | --- | --- | --- |\n",
    "| Logistic Regression | 0.805 | 0.748 |0.542|\n",
    "| Random Forest | 0.806 | 0.746 |0.539|\n",
    "| Gradient Boosting | 0.803 | 0.735 |0.525|"
   ]
  },
  {
   "cell_type": "markdown",
   "metadata": {},
   "source": [
    "# Doing further analysis of features to select the best model."
   ]
  },
  {
   "cell_type": "markdown",
   "metadata": {},
   "source": [
    "# Feature importance with Forest of Trees"
   ]
  },
  {
   "cell_type": "code",
   "execution_count": 51,
   "metadata": {},
   "outputs": [
    {
     "data": {
      "text/plain": [
       "(150000, 139)"
      ]
     },
     "execution_count": 51,
     "metadata": {},
     "output_type": "execute_result"
    }
   ],
   "source": [
    "X_train_scaled.shape"
   ]
  },
  {
   "cell_type": "code",
   "execution_count": 52,
   "metadata": {},
   "outputs": [
    {
     "name": "stdout",
     "output_type": "stream",
     "text": [
      "Feature ranking:\n",
      "1. feature 12 (0.037696)\n",
      "2. feature 1 (0.037677)\n",
      "3. feature 3 (0.034844)\n",
      "4. feature 0 (0.034813)\n",
      "5. feature 2 (0.033786)\n",
      "6. feature 10 (0.033249)\n",
      "7. feature 9 (0.032585)\n",
      "8. feature 28 (0.031042)\n",
      "9. feature 42 (0.030889)\n",
      "10. feature 27 (0.030198)\n",
      "11. feature 17 (0.030096)\n",
      "12. feature 41 (0.030050)\n",
      "13. feature 24 (0.029857)\n",
      "14. feature 31 (0.029783)\n",
      "15. feature 43 (0.029133)\n",
      "16. feature 38 (0.027597)\n",
      "17. feature 5 (0.024283)\n",
      "18. feature 6 (0.023306)\n",
      "19. feature 37 (0.022355)\n",
      "20. feature 32 (0.018307)\n",
      "21. feature 14 (0.016087)\n",
      "22. feature 23 (0.015539)\n",
      "23. feature 30 (0.015325)\n",
      "24. feature 4 (0.014885)\n",
      "25. feature 33 (0.014305)\n",
      "26. feature 22 (0.014137)\n",
      "27. feature 21 (0.013257)\n",
      "28. feature 26 (0.012763)\n",
      "29. feature 20 (0.012563)\n",
      "30. feature 7 (0.012383)\n",
      "31. feature 19 (0.012023)\n",
      "32. feature 18 (0.011732)\n",
      "33. feature 59 (0.011050)\n",
      "34. feature 25 (0.010972)\n",
      "35. feature 8 (0.010185)\n",
      "36. feature 58 (0.010090)\n",
      "37. feature 60 (0.009985)\n",
      "38. feature 109 (0.009622)\n",
      "39. feature 110 (0.009266)\n",
      "40. feature 39 (0.008677)\n",
      "41. feature 112 (0.008521)\n",
      "42. feature 113 (0.008425)\n",
      "43. feature 108 (0.007535)\n",
      "44. feature 107 (0.006770)\n",
      "45. feature 61 (0.006749)\n",
      "46. feature 36 (0.006480)\n",
      "47. feature 103 (0.006158)\n",
      "48. feature 64 (0.006059)\n",
      "49. feature 106 (0.005196)\n",
      "50. feature 40 (0.004796)\n",
      "51. feature 63 (0.004696)\n",
      "52. feature 62 (0.003722)\n",
      "53. feature 13 (0.003538)\n",
      "54. feature 65 (0.003236)\n",
      "55. feature 79 (0.003012)\n",
      "56. feature 80 (0.002919)\n",
      "57. feature 78 (0.002836)\n",
      "58. feature 81 (0.002683)\n",
      "59. feature 77 (0.002559)\n",
      "60. feature 83 (0.002291)\n",
      "61. feature 84 (0.002262)\n",
      "62. feature 85 (0.002111)\n",
      "63. feature 82 (0.002026)\n",
      "64. feature 86 (0.001988)\n",
      "65. feature 29 (0.001968)\n",
      "66. feature 74 (0.001832)\n",
      "67. feature 75 (0.001756)\n",
      "68. feature 88 (0.001681)\n",
      "69. feature 73 (0.001614)\n",
      "70. feature 87 (0.001588)\n",
      "71. feature 72 (0.001565)\n",
      "72. feature 76 (0.001561)\n",
      "73. feature 90 (0.001533)\n",
      "74. feature 53 (0.001472)\n",
      "75. feature 121 (0.001440)\n",
      "76. feature 89 (0.001425)\n",
      "77. feature 91 (0.001277)\n",
      "78. feature 71 (0.001176)\n",
      "79. feature 16 (0.001065)\n",
      "80. feature 66 (0.001018)\n",
      "81. feature 132 (0.001015)\n",
      "82. feature 70 (0.001014)\n",
      "83. feature 15 (0.000982)\n",
      "84. feature 67 (0.000979)\n",
      "85. feature 55 (0.000914)\n",
      "86. feature 35 (0.000842)\n",
      "87. feature 68 (0.000812)\n",
      "88. feature 92 (0.000808)\n",
      "89. feature 69 (0.000784)\n",
      "90. feature 93 (0.000778)\n",
      "91. feature 115 (0.000774)\n",
      "92. feature 114 (0.000770)\n",
      "93. feature 48 (0.000768)\n",
      "94. feature 116 (0.000739)\n",
      "95. feature 137 (0.000736)\n",
      "96. feature 47 (0.000679)\n",
      "97. feature 44 (0.000675)\n",
      "98. feature 49 (0.000636)\n",
      "99. feature 94 (0.000627)\n",
      "100. feature 45 (0.000624)\n",
      "101. feature 95 (0.000574)\n",
      "102. feature 96 (0.000480)\n",
      "103. feature 52 (0.000478)\n",
      "104. feature 46 (0.000470)\n",
      "105. feature 54 (0.000413)\n",
      "106. feature 133 (0.000373)\n",
      "107. feature 97 (0.000364)\n",
      "108. feature 117 (0.000351)\n",
      "109. feature 57 (0.000309)\n",
      "110. feature 118 (0.000299)\n",
      "111. feature 51 (0.000266)\n",
      "112. feature 98 (0.000259)\n",
      "113. feature 34 (0.000245)\n",
      "114. feature 99 (0.000241)\n",
      "115. feature 100 (0.000220)\n",
      "116. feature 135 (0.000217)\n",
      "117. feature 56 (0.000206)\n",
      "118. feature 101 (0.000196)\n",
      "119. feature 128 (0.000179)\n",
      "120. feature 130 (0.000158)\n",
      "121. feature 50 (0.000145)\n",
      "122. feature 134 (0.000138)\n",
      "123. feature 124 (0.000117)\n",
      "124. feature 127 (0.000079)\n",
      "125. feature 102 (0.000075)\n",
      "126. feature 126 (0.000073)\n",
      "127. feature 105 (0.000073)\n",
      "128. feature 129 (0.000033)\n",
      "129. feature 138 (0.000031)\n",
      "130. feature 122 (0.000017)\n",
      "131. feature 123 (0.000016)\n",
      "132. feature 125 (0.000011)\n",
      "133. feature 136 (0.000004)\n",
      "134. feature 104 (0.000002)\n",
      "135. feature 11 (0.000000)\n",
      "136. feature 120 (0.000000)\n",
      "137. feature 131 (0.000000)\n",
      "138. feature 119 (0.000000)\n",
      "139. feature 111 (0.000000)\n"
     ]
    }
   ],
   "source": [
    "from sklearn.ensemble import ExtraTreesClassifier\n",
    "\n",
    "forest = ExtraTreesClassifier(n_estimators=250,\n",
    "                              random_state=0)\n",
    "\n",
    "forest = forest.fit(X_train_scaled, y_train)\n",
    "importances = forest.feature_importances_\n",
    "std = np.std([tree.feature_importances_ for tree in forest.estimators_],\n",
    "             axis=0)\n",
    "indices = np.argsort(importances)[::-1]\n",
    "\n",
    "# Print the feature ranking\n",
    "print(\"Feature ranking:\")\n",
    "\n",
    "for f in range(X_train_scaled.shape[1]):\n",
    "    print(\"%d. feature %d (%f)\" % (f + 1, indices[f], importances[indices[f]]))\n"
   ]
  },
  {
   "cell_type": "code",
   "execution_count": 53,
   "metadata": {},
   "outputs": [
    {
     "data": {
      "image/png": "[encoded data removed]",
      "text/plain": [
       "<Figure size 1440x1440 with 1 Axes>"
      ]
     },
     "metadata": {
      "needs_background": "light"
     },
     "output_type": "display_data"
    }
   ],
   "source": [
    "# Plot the impurity-based feature importances of the forest\n",
    "plt.figure(figsize=(20,20))\n",
    "plt.title(\"Feature importances\")\n",
    "plt.bar(range(X_train_scaled.shape[1]), importances[indices],\n",
    "        color=\"r\", yerr=std[indices], align=\"center\")\n",
    "plt.xticks(range(X_train_scaled.shape[1]), indices)\n",
    "plt.xlim([-1, X_train_scaled.shape[1]])\n",
    "plt.show()"
   ]
  },
  {
   "cell_type": "code",
   "execution_count": 54,
   "metadata": {},
   "outputs": [
    {
     "data": {
      "text/plain": [
       "(150000, 20)"
      ]
     },
     "execution_count": 54,
     "metadata": {},
     "output_type": "execute_result"
    }
   ],
   "source": [
    "# Feature selection based on the above feature importance\n",
    "from sklearn.feature_selection import SelectFromModel\n",
    "\n",
    "model = SelectFromModel(forest, prefit=True, threshold=0.018)\n",
    "X_train_new = model.transform(X_train_scaled)\n",
    "X_train_new.shape"
   ]
  },
  {
   "cell_type": "code",
   "execution_count": 55,
   "metadata": {},
   "outputs": [
    {
     "data": {
      "text/plain": [
       "(50000, 20)"
      ]
     },
     "execution_count": 55,
     "metadata": {},
     "output_type": "execute_result"
    }
   ],
   "source": [
    "X_test_new = model.transform(X_test_scaled)\n",
    "X_test_new.shape"
   ]
  },
  {
   "cell_type": "code",
   "execution_count": 56,
   "metadata": {},
   "outputs": [
    {
     "data": {
      "text/plain": [
       "array([ 0,  1,  2,  3,  5,  6,  9, 10, 12, 17, 24, 27, 28, 31, 32, 37, 38,\n",
       "       41, 42, 43], dtype=int64)"
      ]
     },
     "execution_count": 56,
     "metadata": {},
     "output_type": "execute_result"
    }
   ],
   "source": [
    "model.get_support(True)"
   ]
  },
  {
   "cell_type": "code",
   "execution_count": 57,
   "metadata": {},
   "outputs": [],
   "source": [
    "X_cols = X_test.columns"
   ]
  },
  {
   "cell_type": "code",
   "execution_count": 58,
   "metadata": {},
   "outputs": [
    {
     "name": "stdout",
     "output_type": "stream",
     "text": [
      "Features selected by scikit learn SelecFromModel are:\n",
      "\n",
      "loan_amnt\n",
      "int_rate\n",
      "annual_inc\n",
      "dti\n",
      "inq_last_6mths\n",
      "mths_since_last_delinq\n",
      "revol_bal\n",
      "revol_util\n",
      "total_rec_int\n",
      "tot_cur_bal\n",
      "total_rev_hi_lim\n",
      "avg_cur_bal\n",
      "bc_util\n",
      "mths_since_recent_inq\n",
      "mths_since_recent_revol_delinq\n",
      "pct_tl_nvr_dlq\n",
      "percent_bc_gt_75\n",
      "total_bal_ex_mort\n",
      "total_bc_limit\n",
      "total_il_high_credit_limit\n"
     ]
    }
   ],
   "source": [
    "print(\"Features selected by scikit learn SelecFromModel are:\\n\")\n",
    "for i in model.get_support(True):\n",
    "    print(X_cols[i])"
   ]
  },
  {
   "cell_type": "code",
   "execution_count": 59,
   "metadata": {},
   "outputs": [
    {
     "name": "stdout",
     "output_type": "stream",
     "text": [
      "Tuned Random Forest Parameters: {'n_estimators': 50}\n",
      "Best score is 0.8009466666666667\n",
      "Accuracy score is 0.80502\n"
     ]
    }
   ],
   "source": [
    "# Using K fold cross validation and Grid search to get the most accurate prediction\n",
    "\n",
    "param_grid = {'n_estimators': [10,20,30,40,50]}\n",
    "clf = RandomForestClassifier(random_state = 1,n_jobs=-1)\n",
    "clf_cv = GridSearchCV(clf, param_grid, cv=5)\n",
    "clf_cv.fit(X_train_new, y_train)\n",
    "y_pred_ranf = clf_cv.predict(X_test_new)\n",
    "print(\"Tuned Random Forest Parameters: {}\".format(clf_cv.best_params_)) \n",
    "print(\"Best score is {}\".format(clf_cv.best_score_))\n",
    "print(\"Accuracy score is {}\".format(accuracy_score(y_test, y_pred_ranf)))"
   ]
  },
  {
   "cell_type": "code",
   "execution_count": 60,
   "metadata": {},
   "outputs": [
    {
     "data": {
      "text/plain": [
       "array([[39402,   660],\n",
       "       [ 9089,   849]], dtype=int64)"
      ]
     },
     "execution_count": 60,
     "metadata": {},
     "output_type": "execute_result"
    }
   ],
   "source": [
    "pl_ranf = confusion_matrix(y_test,y_pred_ranf)\n",
    "pl_ranf"
   ]
  },
  {
   "cell_type": "code",
   "execution_count": 61,
   "metadata": {},
   "outputs": [
    {
     "name": "stdout",
     "output_type": "stream",
     "text": [
      "              precision    recall  f1-score   support\n",
      "\n",
      "           0       0.81      0.98      0.89     40062\n",
      "           1       0.56      0.09      0.15      9938\n",
      "\n",
      "    accuracy                           0.81     50000\n",
      "   macro avg       0.69      0.53      0.52     50000\n",
      "weighted avg       0.76      0.81      0.74     50000\n",
      "\n"
     ]
    }
   ],
   "source": [
    "cl_rep_ranf = classification_report(y_test,y_pred_ranf)\n",
    "print(cl_rep_ranf)"
   ]
  },
  {
   "cell_type": "code",
   "execution_count": 62,
   "metadata": {},
   "outputs": [
    {
     "name": "stdout",
     "output_type": "stream",
     "text": [
      "Test Data Set Random Forest: Accuracy=0.805\n",
      "Test Data Set Random Forest: f1-score=0.743\n",
      "Test Data Set Random Forest: roc_auc_score=0.534\n"
     ]
    }
   ],
   "source": [
    "ac = accuracy_score(y_test, y_pred_ranf)\n",
    "print('Test Data Set Random Forest: Accuracy=%.3f' % (ac))\n",
    "\n",
    "f1 = f1_score(y_test, y_pred_ranf, average='weighted')\n",
    "print('Test Data Set Random Forest: f1-score=%.3f' % (f1))\n",
    "\n",
    "roc_auc = roc_auc_score(y_test, y_pred_ranf)\n",
    "print('Test Data Set Random Forest: roc_auc_score=%.3f' % (roc_auc))"
   ]
  },
  {
   "cell_type": "code",
   "execution_count": null,
   "metadata": {},
   "outputs": [],
   "source": []
  },
  {
   "cell_type": "code",
   "execution_count": 63,
   "metadata": {},
   "outputs": [
    {
     "name": "stdout",
     "output_type": "stream",
     "text": [
      "Tuned Logistic Regression Parameters: {'C': 0.001}\n",
      "Best score is 0.79766\n",
      "Accuracy score is 0.80264\n"
     ]
    }
   ],
   "source": [
    "Cs = [0.001, 0.1, 1, 10, 100]\n",
    "\n",
    "param_grid = {'C': Cs}\n",
    "logreg = LogisticRegression()\n",
    "logreg_cv = GridSearchCV(logreg, param_grid, cv=5)\n",
    "logreg_cv.fit(X_train_new, y_train)\n",
    "print(\"Tuned Logistic Regression Parameters: {}\".format(logreg_cv.best_params_)) \n",
    "print(\"Best score is {}\".format(logreg_cv.best_score_))\n",
    "y_pred_log = logreg_cv.predict(X_test_new)\n",
    "# Print the accuracy from the testing data.\n",
    "print(\"Accuracy score is {}\".format(accuracy_score(y_pred_log, y_test)))"
   ]
  },
  {
   "cell_type": "code",
   "execution_count": 64,
   "metadata": {},
   "outputs": [
    {
     "data": {
      "text/plain": [
       "array([[39447,   615],\n",
       "       [ 9253,   685]], dtype=int64)"
      ]
     },
     "execution_count": 64,
     "metadata": {},
     "output_type": "execute_result"
    }
   ],
   "source": [
    "pl_log = confusion_matrix(y_test,y_pred_log)\n",
    "pl_log"
   ]
  },
  {
   "cell_type": "code",
   "execution_count": 65,
   "metadata": {},
   "outputs": [
    {
     "name": "stdout",
     "output_type": "stream",
     "text": [
      "              precision    recall  f1-score   support\n",
      "\n",
      "           0       0.81      0.98      0.89     40062\n",
      "           1       0.53      0.07      0.12      9938\n",
      "\n",
      "    accuracy                           0.80     50000\n",
      "   macro avg       0.67      0.53      0.51     50000\n",
      "weighted avg       0.75      0.80      0.74     50000\n",
      "\n"
     ]
    }
   ],
   "source": [
    "cl_rep_log = classification_report(y_test,y_pred_log)\n",
    "print(cl_rep_log)"
   ]
  },
  {
   "cell_type": "code",
   "execution_count": 66,
   "metadata": {},
   "outputs": [
    {
     "name": "stdout",
     "output_type": "stream",
     "text": [
      "Test Data Set Logistic Regression: Accuracy=0.803\n",
      "Test Data Set Logistic Regression: f1-score=0.736\n",
      "Test Data Set Logistic Regression: roc_auc_score=0.527\n"
     ]
    }
   ],
   "source": [
    "ac = accuracy_score(y_test, y_pred_log)\n",
    "print('Test Data Set Logistic Regression: Accuracy=%.3f' % (ac))\n",
    "\n",
    "f1 = f1_score(y_test, y_pred_log, average='weighted')\n",
    "print('Test Data Set Logistic Regression: f1-score=%.3f' % (f1))\n",
    "\n",
    "roc_auc = roc_auc_score(y_test, y_pred_log)\n",
    "print('Test Data Set Logistic Regression: roc_auc_score=%.3f' % (roc_auc))"
   ]
  },
  {
   "cell_type": "markdown",
   "metadata": {},
   "source": [
    "| Model | Accuracy| f1_score|roc_auc_score|\n",
    "| --- | --- | --- | --- |\n",
    "| Logistic Regression | 0.803 | 0.736 |0.527|\n",
    "| Random Forest | 0.805 | 0.743 |0.534|"
   ]
  },
  {
   "cell_type": "markdown",
   "metadata": {},
   "source": [
    "# Random Forest is the best model."
   ]
  },
  {
   "cell_type": "code",
   "execution_count": null,
   "metadata": {},
   "outputs": [],
   "source": []
  }
 ],
 "metadata": {
  "kernelspec": {
   "display_name": "Python 3",
   "language": "python",
   "name": "python3"
  },
  "language_info": {
   "codemirror_mode": {
    "name": "ipython",
    "version": 3
   },
   "file_extension": ".py",
   "mimetype": "text/x-python",
   "name": "python",
   "nbconvert_exporter": "python",
   "pygments_lexer": "ipython3",
   "version": "3.7.3"
  }
 },
 "nbformat": 4,
 "nbformat_minor": 2
}
