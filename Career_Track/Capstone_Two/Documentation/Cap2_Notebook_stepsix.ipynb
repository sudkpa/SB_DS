{
 "cells": [
  {
   "cell_type": "markdown",
   "metadata": {},
   "source": [
    "# Capstone 2 - Lending Club Loan Paid or Charged Off Prediction\n",
    "\n",
    "# Documentation\n",
    "\n",
    "Documentation is the sixth step in the Data Science Method.  The following will be performed in this step:\n",
    "\n",
    "1. Review the Results\n",
    "2. Finalize Code\n",
    "3. Finalize Documentation\n",
    "4. Create a Project Report\n",
    "5. Create a Slide Deck for the Executive Audience"
   ]
  },
  {
   "cell_type": "code",
   "execution_count": 284,
   "metadata": {},
   "outputs": [],
   "source": [
    "#load python packages\n",
    "import os\n",
    "import pandas as pd\n",
    "import pandas.api.types as ptypes\n",
    "import datetime\n",
    "import seaborn as sns\n",
    "import matplotlib.pyplot as plt\n",
    "import numpy as np\n",
    "%matplotlib inline\n",
    "import warnings # For handling error messages.\n",
    "#warnings.simplefilter(action=\"ignore\", category=FutureWarning)\n",
    "warnings.filterwarnings('ignore')"
   ]
  },
  {
   "cell_type": "code",
   "execution_count": null,
   "metadata": {},
   "outputs": [],
   "source": []
  },
  {
   "cell_type": "markdown",
   "metadata": {},
   "source": [
    "# Best Model - Logistic Regression"
   ]
  },
  {
   "cell_type": "code",
   "execution_count": 285,
   "metadata": {},
   "outputs": [
    {
     "data": {
      "text/html": [
       "<div>\n",
       "<style scoped>\n",
       "    .dataframe tbody tr th:only-of-type {\n",
       "        vertical-align: middle;\n",
       "    }\n",
       "\n",
       "    .dataframe tbody tr th {\n",
       "        vertical-align: top;\n",
       "    }\n",
       "\n",
       "    .dataframe thead th {\n",
       "        text-align: right;\n",
       "    }\n",
       "</style>\n",
       "<table border=\"1\" class=\"dataframe\">\n",
       "  <thead>\n",
       "    <tr style=\"text-align: right;\">\n",
       "      <th></th>\n",
       "      <th>loan_amnt</th>\n",
       "      <th>int_rate</th>\n",
       "      <th>annual_inc</th>\n",
       "      <th>dti</th>\n",
       "      <th>delinq_2yrs</th>\n",
       "      <th>inq_last_6mths</th>\n",
       "      <th>mths_since_last_delinq</th>\n",
       "      <th>mths_since_last_record</th>\n",
       "      <th>pub_rec</th>\n",
       "      <th>revol_bal</th>\n",
       "      <th>...</th>\n",
       "      <th>initial_list_status</th>\n",
       "      <th>application_type</th>\n",
       "      <th>verification_status_joint</th>\n",
       "      <th>hardship_flag</th>\n",
       "      <th>hardship_type</th>\n",
       "      <th>hardship_reason</th>\n",
       "      <th>hardship_status</th>\n",
       "      <th>hardship_loan_status</th>\n",
       "      <th>debt_settlement_flag</th>\n",
       "      <th>settlement_status</th>\n",
       "    </tr>\n",
       "  </thead>\n",
       "  <tbody>\n",
       "    <tr>\n",
       "      <th>0</th>\n",
       "      <td>2500</td>\n",
       "      <td>13.56</td>\n",
       "      <td>55000.0</td>\n",
       "      <td>18.24</td>\n",
       "      <td>0.0</td>\n",
       "      <td>1.0</td>\n",
       "      <td>0.0</td>\n",
       "      <td>45.0</td>\n",
       "      <td>1.0</td>\n",
       "      <td>4341</td>\n",
       "      <td>...</td>\n",
       "      <td>w</td>\n",
       "      <td>Individual</td>\n",
       "      <td>NaN</td>\n",
       "      <td>N</td>\n",
       "      <td>NaN</td>\n",
       "      <td>NaN</td>\n",
       "      <td>NaN</td>\n",
       "      <td>NaN</td>\n",
       "      <td>N</td>\n",
       "      <td>NaN</td>\n",
       "    </tr>\n",
       "    <tr>\n",
       "      <th>1</th>\n",
       "      <td>30000</td>\n",
       "      <td>18.94</td>\n",
       "      <td>90000.0</td>\n",
       "      <td>26.52</td>\n",
       "      <td>0.0</td>\n",
       "      <td>0.0</td>\n",
       "      <td>71.0</td>\n",
       "      <td>75.0</td>\n",
       "      <td>1.0</td>\n",
       "      <td>12315</td>\n",
       "      <td>...</td>\n",
       "      <td>w</td>\n",
       "      <td>Individual</td>\n",
       "      <td>NaN</td>\n",
       "      <td>N</td>\n",
       "      <td>NaN</td>\n",
       "      <td>NaN</td>\n",
       "      <td>NaN</td>\n",
       "      <td>NaN</td>\n",
       "      <td>N</td>\n",
       "      <td>NaN</td>\n",
       "    </tr>\n",
       "    <tr>\n",
       "      <th>2</th>\n",
       "      <td>5000</td>\n",
       "      <td>17.97</td>\n",
       "      <td>59280.0</td>\n",
       "      <td>10.51</td>\n",
       "      <td>0.0</td>\n",
       "      <td>0.0</td>\n",
       "      <td>0.0</td>\n",
       "      <td>0.0</td>\n",
       "      <td>0.0</td>\n",
       "      <td>4599</td>\n",
       "      <td>...</td>\n",
       "      <td>w</td>\n",
       "      <td>Individual</td>\n",
       "      <td>NaN</td>\n",
       "      <td>N</td>\n",
       "      <td>NaN</td>\n",
       "      <td>NaN</td>\n",
       "      <td>NaN</td>\n",
       "      <td>NaN</td>\n",
       "      <td>N</td>\n",
       "      <td>NaN</td>\n",
       "    </tr>\n",
       "    <tr>\n",
       "      <th>3</th>\n",
       "      <td>4000</td>\n",
       "      <td>18.94</td>\n",
       "      <td>92000.0</td>\n",
       "      <td>16.74</td>\n",
       "      <td>0.0</td>\n",
       "      <td>0.0</td>\n",
       "      <td>0.0</td>\n",
       "      <td>0.0</td>\n",
       "      <td>0.0</td>\n",
       "      <td>5468</td>\n",
       "      <td>...</td>\n",
       "      <td>w</td>\n",
       "      <td>Individual</td>\n",
       "      <td>NaN</td>\n",
       "      <td>N</td>\n",
       "      <td>NaN</td>\n",
       "      <td>NaN</td>\n",
       "      <td>NaN</td>\n",
       "      <td>NaN</td>\n",
       "      <td>N</td>\n",
       "      <td>NaN</td>\n",
       "    </tr>\n",
       "    <tr>\n",
       "      <th>4</th>\n",
       "      <td>30000</td>\n",
       "      <td>16.14</td>\n",
       "      <td>57250.0</td>\n",
       "      <td>26.35</td>\n",
       "      <td>0.0</td>\n",
       "      <td>0.0</td>\n",
       "      <td>0.0</td>\n",
       "      <td>0.0</td>\n",
       "      <td>0.0</td>\n",
       "      <td>829</td>\n",
       "      <td>...</td>\n",
       "      <td>w</td>\n",
       "      <td>Individual</td>\n",
       "      <td>NaN</td>\n",
       "      <td>N</td>\n",
       "      <td>NaN</td>\n",
       "      <td>NaN</td>\n",
       "      <td>NaN</td>\n",
       "      <td>NaN</td>\n",
       "      <td>N</td>\n",
       "      <td>NaN</td>\n",
       "    </tr>\n",
       "  </tbody>\n",
       "</table>\n",
       "<p>5 rows × 87 columns</p>\n",
       "</div>"
      ],
      "text/plain": [
       "   loan_amnt  int_rate  annual_inc    dti  delinq_2yrs  inq_last_6mths  \\\n",
       "0       2500     13.56     55000.0  18.24          0.0             1.0   \n",
       "1      30000     18.94     90000.0  26.52          0.0             0.0   \n",
       "2       5000     17.97     59280.0  10.51          0.0             0.0   \n",
       "3       4000     18.94     92000.0  16.74          0.0             0.0   \n",
       "4      30000     16.14     57250.0  26.35          0.0             0.0   \n",
       "\n",
       "   mths_since_last_delinq  mths_since_last_record  pub_rec  revol_bal  ...  \\\n",
       "0                     0.0                    45.0      1.0       4341  ...   \n",
       "1                    71.0                    75.0      1.0      12315  ...   \n",
       "2                     0.0                     0.0      0.0       4599  ...   \n",
       "3                     0.0                     0.0      0.0       5468  ...   \n",
       "4                     0.0                     0.0      0.0        829  ...   \n",
       "\n",
       "   initial_list_status  application_type  verification_status_joint  \\\n",
       "0                    w        Individual                        NaN   \n",
       "1                    w        Individual                        NaN   \n",
       "2                    w        Individual                        NaN   \n",
       "3                    w        Individual                        NaN   \n",
       "4                    w        Individual                        NaN   \n",
       "\n",
       "   hardship_flag  hardship_type  hardship_reason  hardship_status  \\\n",
       "0              N            NaN              NaN              NaN   \n",
       "1              N            NaN              NaN              NaN   \n",
       "2              N            NaN              NaN              NaN   \n",
       "3              N            NaN              NaN              NaN   \n",
       "4              N            NaN              NaN              NaN   \n",
       "\n",
       "   hardship_loan_status  debt_settlement_flag  settlement_status  \n",
       "0                   NaN                     N                NaN  \n",
       "1                   NaN                     N                NaN  \n",
       "2                   NaN                     N                NaN  \n",
       "3                   NaN                     N                NaN  \n",
       "4                   NaN                     N                NaN  \n",
       "\n",
       "[5 rows x 87 columns]"
      ]
     },
     "execution_count": 285,
     "metadata": {},
     "output_type": "execute_result"
    }
   ],
   "source": [
    "# Read data output created in the EDA step\n",
    "df = pd.read_csv(\"../EDA/data/Cap2_step3_output.csv\", dtype={'verification_status_joint':object,'hardship_type':object, 'hardship_reason':object, 'hardship_status':object, 'hardship_loan_status':object, 'settlement_status':object}, index_col=\"Unnamed: 0\")\n",
    "df.head(5)"
   ]
  },
  {
   "cell_type": "code",
   "execution_count": 286,
   "metadata": {},
   "outputs": [
    {
     "data": {
      "text/plain": [
       "(2150627, 87)"
      ]
     },
     "execution_count": 286,
     "metadata": {},
     "output_type": "execute_result"
    }
   ],
   "source": [
    "df.shape"
   ]
  },
  {
   "cell_type": "code",
   "execution_count": 287,
   "metadata": {},
   "outputs": [],
   "source": [
    "# Drop unwanted columns\n",
    "df_sel = df.drop(['title', 'zip_code', 'addr_state', 'recoveries', 'debt_settlement_flag', 'settlement_amount', 'settlement_percentage', 'settlement_term', 'settlement_status'], axis=1)"
   ]
  },
  {
   "cell_type": "code",
   "execution_count": 288,
   "metadata": {},
   "outputs": [
    {
     "data": {
      "text/plain": [
       "(1250411, 78)"
      ]
     },
     "execution_count": 288,
     "metadata": {},
     "output_type": "execute_result"
    }
   ],
   "source": [
    "# Drop irrelevant loan_status\n",
    "\n",
    "df_sel.reset_index()\n",
    "df_sel = df_sel[~(df_sel['loan_status'] == 'In Grace Period')]\n",
    "df_sel = df_sel[~(df_sel['loan_status'] == 'Current')]\n",
    "df_sel = df_sel[~(df_sel['loan_status'] == 'Late (31-120 days)')]\n",
    "df_sel = df_sel[~(df_sel['loan_status'] == 'Default')]\n",
    "df_sel = df_sel[~(df_sel['loan_status'] == 'Late (16-30 days)')]\n",
    "df_sel.shape"
   ]
  },
  {
   "cell_type": "code",
   "execution_count": 289,
   "metadata": {},
   "outputs": [],
   "source": [
    "# Loan status:\n",
    "# Setting '%Fully Paid' to 0\n",
    "# Setting '%Charges Off' to 1\n",
    "\n",
    "df_sel['loan_status'] = df_sel['loan_status'].replace(['Fully Paid', 'Does not meet the credit policy. Status:Fully Paid'], '0')\n",
    "df_sel['loan_status'] = df_sel['loan_status'].replace(['Charged Off', 'Does not meet the credit policy. Status:Charged Off'], '1')"
   ]
  },
  {
   "cell_type": "code",
   "execution_count": 290,
   "metadata": {},
   "outputs": [],
   "source": [
    "df_sel['loan_status'] = pd.to_numeric(df_sel['loan_status'])"
   ]
  },
  {
   "cell_type": "code",
   "execution_count": 291,
   "metadata": {},
   "outputs": [],
   "source": [
    "# Create a list of object columns.  \n",
    "cols_obj = []\n",
    "for col in df_sel.columns:\n",
    "    if df_sel[col].dtype == object:\n",
    "        cols_obj.append(col)"
   ]
  },
  {
   "cell_type": "code",
   "execution_count": 292,
   "metadata": {},
   "outputs": [
    {
     "data": {
      "text/html": [
       "<div>\n",
       "<style scoped>\n",
       "    .dataframe tbody tr th:only-of-type {\n",
       "        vertical-align: middle;\n",
       "    }\n",
       "\n",
       "    .dataframe tbody tr th {\n",
       "        vertical-align: top;\n",
       "    }\n",
       "\n",
       "    .dataframe thead th {\n",
       "        text-align: right;\n",
       "    }\n",
       "</style>\n",
       "<table border=\"1\" class=\"dataframe\">\n",
       "  <thead>\n",
       "    <tr style=\"text-align: right;\">\n",
       "      <th></th>\n",
       "      <th>loan_amnt</th>\n",
       "      <th>int_rate</th>\n",
       "      <th>annual_inc</th>\n",
       "      <th>dti</th>\n",
       "      <th>delinq_2yrs</th>\n",
       "      <th>inq_last_6mths</th>\n",
       "      <th>mths_since_last_delinq</th>\n",
       "      <th>mths_since_last_record</th>\n",
       "      <th>pub_rec</th>\n",
       "      <th>revol_bal</th>\n",
       "      <th>...</th>\n",
       "      <th>hardship_reason_REDUCED_HOURS</th>\n",
       "      <th>hardship_reason_UNEMPLOYMENT</th>\n",
       "      <th>hardship_status_ACTIVE</th>\n",
       "      <th>hardship_status_BROKEN</th>\n",
       "      <th>hardship_status_COMPLETED</th>\n",
       "      <th>hardship_loan_status_Current</th>\n",
       "      <th>hardship_loan_status_In Grace Period</th>\n",
       "      <th>hardship_loan_status_Issued</th>\n",
       "      <th>hardship_loan_status_Late (16-30 days)</th>\n",
       "      <th>hardship_loan_status_Late (31-120 days)</th>\n",
       "    </tr>\n",
       "  </thead>\n",
       "  <tbody>\n",
       "    <tr>\n",
       "      <th>100</th>\n",
       "      <td>30000</td>\n",
       "      <td>22.35</td>\n",
       "      <td>100000.0</td>\n",
       "      <td>30.46</td>\n",
       "      <td>0.0</td>\n",
       "      <td>0.0</td>\n",
       "      <td>51.0</td>\n",
       "      <td>84.0</td>\n",
       "      <td>1.0</td>\n",
       "      <td>15603</td>\n",
       "      <td>...</td>\n",
       "      <td>0</td>\n",
       "      <td>0</td>\n",
       "      <td>0</td>\n",
       "      <td>0</td>\n",
       "      <td>0</td>\n",
       "      <td>0</td>\n",
       "      <td>0</td>\n",
       "      <td>0</td>\n",
       "      <td>0</td>\n",
       "      <td>0</td>\n",
       "    </tr>\n",
       "    <tr>\n",
       "      <th>152</th>\n",
       "      <td>40000</td>\n",
       "      <td>16.14</td>\n",
       "      <td>45000.0</td>\n",
       "      <td>50.53</td>\n",
       "      <td>0.0</td>\n",
       "      <td>0.0</td>\n",
       "      <td>0.0</td>\n",
       "      <td>0.0</td>\n",
       "      <td>0.0</td>\n",
       "      <td>34971</td>\n",
       "      <td>...</td>\n",
       "      <td>0</td>\n",
       "      <td>0</td>\n",
       "      <td>0</td>\n",
       "      <td>0</td>\n",
       "      <td>0</td>\n",
       "      <td>0</td>\n",
       "      <td>0</td>\n",
       "      <td>0</td>\n",
       "      <td>0</td>\n",
       "      <td>0</td>\n",
       "    </tr>\n",
       "    <tr>\n",
       "      <th>170</th>\n",
       "      <td>20000</td>\n",
       "      <td>7.56</td>\n",
       "      <td>100000.0</td>\n",
       "      <td>18.92</td>\n",
       "      <td>0.0</td>\n",
       "      <td>0.0</td>\n",
       "      <td>48.0</td>\n",
       "      <td>0.0</td>\n",
       "      <td>0.0</td>\n",
       "      <td>25416</td>\n",
       "      <td>...</td>\n",
       "      <td>0</td>\n",
       "      <td>0</td>\n",
       "      <td>0</td>\n",
       "      <td>0</td>\n",
       "      <td>0</td>\n",
       "      <td>0</td>\n",
       "      <td>0</td>\n",
       "      <td>0</td>\n",
       "      <td>0</td>\n",
       "      <td>0</td>\n",
       "    </tr>\n",
       "    <tr>\n",
       "      <th>186</th>\n",
       "      <td>4500</td>\n",
       "      <td>11.31</td>\n",
       "      <td>38500.0</td>\n",
       "      <td>4.64</td>\n",
       "      <td>0.0</td>\n",
       "      <td>0.0</td>\n",
       "      <td>25.0</td>\n",
       "      <td>0.0</td>\n",
       "      <td>0.0</td>\n",
       "      <td>4472</td>\n",
       "      <td>...</td>\n",
       "      <td>0</td>\n",
       "      <td>0</td>\n",
       "      <td>0</td>\n",
       "      <td>0</td>\n",
       "      <td>0</td>\n",
       "      <td>0</td>\n",
       "      <td>0</td>\n",
       "      <td>0</td>\n",
       "      <td>0</td>\n",
       "      <td>0</td>\n",
       "    </tr>\n",
       "    <tr>\n",
       "      <th>269</th>\n",
       "      <td>20000</td>\n",
       "      <td>17.97</td>\n",
       "      <td>57000.0</td>\n",
       "      <td>22.18</td>\n",
       "      <td>0.0</td>\n",
       "      <td>0.0</td>\n",
       "      <td>0.0</td>\n",
       "      <td>0.0</td>\n",
       "      <td>0.0</td>\n",
       "      <td>33356</td>\n",
       "      <td>...</td>\n",
       "      <td>0</td>\n",
       "      <td>0</td>\n",
       "      <td>0</td>\n",
       "      <td>0</td>\n",
       "      <td>0</td>\n",
       "      <td>0</td>\n",
       "      <td>0</td>\n",
       "      <td>0</td>\n",
       "      <td>0</td>\n",
       "      <td>0</td>\n",
       "    </tr>\n",
       "  </tbody>\n",
       "</table>\n",
       "<p>5 rows × 145 columns</p>\n",
       "</div>"
      ],
      "text/plain": [
       "     loan_amnt  int_rate  annual_inc    dti  delinq_2yrs  inq_last_6mths  \\\n",
       "100      30000     22.35    100000.0  30.46          0.0             0.0   \n",
       "152      40000     16.14     45000.0  50.53          0.0             0.0   \n",
       "170      20000      7.56    100000.0  18.92          0.0             0.0   \n",
       "186       4500     11.31     38500.0   4.64          0.0             0.0   \n",
       "269      20000     17.97     57000.0  22.18          0.0             0.0   \n",
       "\n",
       "     mths_since_last_delinq  mths_since_last_record  pub_rec  revol_bal  ...  \\\n",
       "100                    51.0                    84.0      1.0      15603  ...   \n",
       "152                     0.0                     0.0      0.0      34971  ...   \n",
       "170                    48.0                     0.0      0.0      25416  ...   \n",
       "186                    25.0                     0.0      0.0       4472  ...   \n",
       "269                     0.0                     0.0      0.0      33356  ...   \n",
       "\n",
       "     hardship_reason_REDUCED_HOURS  hardship_reason_UNEMPLOYMENT  \\\n",
       "100                              0                             0   \n",
       "152                              0                             0   \n",
       "170                              0                             0   \n",
       "186                              0                             0   \n",
       "269                              0                             0   \n",
       "\n",
       "     hardship_status_ACTIVE  hardship_status_BROKEN  \\\n",
       "100                       0                       0   \n",
       "152                       0                       0   \n",
       "170                       0                       0   \n",
       "186                       0                       0   \n",
       "269                       0                       0   \n",
       "\n",
       "     hardship_status_COMPLETED  hardship_loan_status_Current  \\\n",
       "100                          0                             0   \n",
       "152                          0                             0   \n",
       "170                          0                             0   \n",
       "186                          0                             0   \n",
       "269                          0                             0   \n",
       "\n",
       "     hardship_loan_status_In Grace Period  hardship_loan_status_Issued  \\\n",
       "100                                     0                            0   \n",
       "152                                     0                            0   \n",
       "170                                     0                            0   \n",
       "186                                     0                            0   \n",
       "269                                     0                            0   \n",
       "\n",
       "     hardship_loan_status_Late (16-30 days)  \\\n",
       "100                                       0   \n",
       "152                                       0   \n",
       "170                                       0   \n",
       "186                                       0   \n",
       "269                                       0   \n",
       "\n",
       "     hardship_loan_status_Late (31-120 days)  \n",
       "100                                        0  \n",
       "152                                        0  \n",
       "170                                        0  \n",
       "186                                        0  \n",
       "269                                        0  \n",
       "\n",
       "[5 rows x 145 columns]"
      ]
     },
     "execution_count": 292,
     "metadata": {},
     "output_type": "execute_result"
    }
   ],
   "source": [
    "df_sel = pd.concat([df_sel.drop(cols_obj, axis=1), pd.get_dummies(df_sel[cols_obj])], axis=1)\n",
    "df_sel.head(5)"
   ]
  },
  {
   "cell_type": "code",
   "execution_count": 293,
   "metadata": {},
   "outputs": [
    {
     "data": {
      "text/html": [
       "<div>\n",
       "<style scoped>\n",
       "    .dataframe tbody tr th:only-of-type {\n",
       "        vertical-align: middle;\n",
       "    }\n",
       "\n",
       "    .dataframe tbody tr th {\n",
       "        vertical-align: top;\n",
       "    }\n",
       "\n",
       "    .dataframe thead th {\n",
       "        text-align: right;\n",
       "    }\n",
       "</style>\n",
       "<table border=\"1\" class=\"dataframe\">\n",
       "  <thead>\n",
       "    <tr style=\"text-align: right;\">\n",
       "      <th></th>\n",
       "      <th>loan_amnt</th>\n",
       "      <th>int_rate</th>\n",
       "      <th>annual_inc</th>\n",
       "      <th>dti</th>\n",
       "      <th>delinq_2yrs</th>\n",
       "      <th>inq_last_6mths</th>\n",
       "      <th>mths_since_last_delinq</th>\n",
       "      <th>mths_since_last_record</th>\n",
       "      <th>pub_rec</th>\n",
       "      <th>revol_bal</th>\n",
       "      <th>...</th>\n",
       "      <th>hardship_reason_REDUCED_HOURS</th>\n",
       "      <th>hardship_reason_UNEMPLOYMENT</th>\n",
       "      <th>hardship_status_ACTIVE</th>\n",
       "      <th>hardship_status_BROKEN</th>\n",
       "      <th>hardship_status_COMPLETED</th>\n",
       "      <th>hardship_loan_status_Current</th>\n",
       "      <th>hardship_loan_status_In Grace Period</th>\n",
       "      <th>hardship_loan_status_Issued</th>\n",
       "      <th>hardship_loan_status_Late (16-30 days)</th>\n",
       "      <th>hardship_loan_status_Late (31-120 days)</th>\n",
       "    </tr>\n",
       "  </thead>\n",
       "  <tbody>\n",
       "    <tr>\n",
       "      <th>1057622</th>\n",
       "      <td>8300</td>\n",
       "      <td>13.33</td>\n",
       "      <td>55761.45</td>\n",
       "      <td>15.88</td>\n",
       "      <td>0.0</td>\n",
       "      <td>1.0</td>\n",
       "      <td>0.0</td>\n",
       "      <td>0.0</td>\n",
       "      <td>0.0</td>\n",
       "      <td>5372</td>\n",
       "      <td>...</td>\n",
       "      <td>0</td>\n",
       "      <td>0</td>\n",
       "      <td>0</td>\n",
       "      <td>0</td>\n",
       "      <td>0</td>\n",
       "      <td>0</td>\n",
       "      <td>0</td>\n",
       "      <td>0</td>\n",
       "      <td>0</td>\n",
       "      <td>0</td>\n",
       "    </tr>\n",
       "    <tr>\n",
       "      <th>997083</th>\n",
       "      <td>14325</td>\n",
       "      <td>14.33</td>\n",
       "      <td>43000.00</td>\n",
       "      <td>31.06</td>\n",
       "      <td>0.0</td>\n",
       "      <td>0.0</td>\n",
       "      <td>0.0</td>\n",
       "      <td>88.0</td>\n",
       "      <td>1.0</td>\n",
       "      <td>10036</td>\n",
       "      <td>...</td>\n",
       "      <td>0</td>\n",
       "      <td>0</td>\n",
       "      <td>0</td>\n",
       "      <td>0</td>\n",
       "      <td>0</td>\n",
       "      <td>0</td>\n",
       "      <td>0</td>\n",
       "      <td>0</td>\n",
       "      <td>0</td>\n",
       "      <td>0</td>\n",
       "    </tr>\n",
       "    <tr>\n",
       "      <th>677635</th>\n",
       "      <td>15000</td>\n",
       "      <td>7.39</td>\n",
       "      <td>78000.00</td>\n",
       "      <td>16.95</td>\n",
       "      <td>0.0</td>\n",
       "      <td>1.0</td>\n",
       "      <td>78.0</td>\n",
       "      <td>0.0</td>\n",
       "      <td>0.0</td>\n",
       "      <td>16486</td>\n",
       "      <td>...</td>\n",
       "      <td>0</td>\n",
       "      <td>0</td>\n",
       "      <td>0</td>\n",
       "      <td>0</td>\n",
       "      <td>0</td>\n",
       "      <td>0</td>\n",
       "      <td>0</td>\n",
       "      <td>0</td>\n",
       "      <td>0</td>\n",
       "      <td>0</td>\n",
       "    </tr>\n",
       "    <tr>\n",
       "      <th>726486</th>\n",
       "      <td>7800</td>\n",
       "      <td>5.32</td>\n",
       "      <td>77000.00</td>\n",
       "      <td>25.26</td>\n",
       "      <td>1.0</td>\n",
       "      <td>0.0</td>\n",
       "      <td>11.0</td>\n",
       "      <td>0.0</td>\n",
       "      <td>0.0</td>\n",
       "      <td>14805</td>\n",
       "      <td>...</td>\n",
       "      <td>0</td>\n",
       "      <td>0</td>\n",
       "      <td>0</td>\n",
       "      <td>0</td>\n",
       "      <td>0</td>\n",
       "      <td>0</td>\n",
       "      <td>0</td>\n",
       "      <td>0</td>\n",
       "      <td>0</td>\n",
       "      <td>0</td>\n",
       "    </tr>\n",
       "    <tr>\n",
       "      <th>413532</th>\n",
       "      <td>18000</td>\n",
       "      <td>11.98</td>\n",
       "      <td>88000.00</td>\n",
       "      <td>26.86</td>\n",
       "      <td>0.0</td>\n",
       "      <td>1.0</td>\n",
       "      <td>0.0</td>\n",
       "      <td>0.0</td>\n",
       "      <td>0.0</td>\n",
       "      <td>41768</td>\n",
       "      <td>...</td>\n",
       "      <td>0</td>\n",
       "      <td>0</td>\n",
       "      <td>0</td>\n",
       "      <td>0</td>\n",
       "      <td>0</td>\n",
       "      <td>0</td>\n",
       "      <td>0</td>\n",
       "      <td>0</td>\n",
       "      <td>0</td>\n",
       "      <td>0</td>\n",
       "    </tr>\n",
       "  </tbody>\n",
       "</table>\n",
       "<p>5 rows × 145 columns</p>\n",
       "</div>"
      ],
      "text/plain": [
       "         loan_amnt  int_rate  annual_inc    dti  delinq_2yrs  inq_last_6mths  \\\n",
       "1057622       8300     13.33    55761.45  15.88          0.0             1.0   \n",
       "997083       14325     14.33    43000.00  31.06          0.0             0.0   \n",
       "677635       15000      7.39    78000.00  16.95          0.0             1.0   \n",
       "726486        7800      5.32    77000.00  25.26          1.0             0.0   \n",
       "413532       18000     11.98    88000.00  26.86          0.0             1.0   \n",
       "\n",
       "         mths_since_last_delinq  mths_since_last_record  pub_rec  revol_bal  \\\n",
       "1057622                     0.0                     0.0      0.0       5372   \n",
       "997083                      0.0                    88.0      1.0      10036   \n",
       "677635                     78.0                     0.0      0.0      16486   \n",
       "726486                     11.0                     0.0      0.0      14805   \n",
       "413532                      0.0                     0.0      0.0      41768   \n",
       "\n",
       "         ...  hardship_reason_REDUCED_HOURS  hardship_reason_UNEMPLOYMENT  \\\n",
       "1057622  ...                              0                             0   \n",
       "997083   ...                              0                             0   \n",
       "677635   ...                              0                             0   \n",
       "726486   ...                              0                             0   \n",
       "413532   ...                              0                             0   \n",
       "\n",
       "         hardship_status_ACTIVE  hardship_status_BROKEN  \\\n",
       "1057622                       0                       0   \n",
       "997083                        0                       0   \n",
       "677635                        0                       0   \n",
       "726486                        0                       0   \n",
       "413532                        0                       0   \n",
       "\n",
       "         hardship_status_COMPLETED  hardship_loan_status_Current  \\\n",
       "1057622                          0                             0   \n",
       "997083                           0                             0   \n",
       "677635                           0                             0   \n",
       "726486                           0                             0   \n",
       "413532                           0                             0   \n",
       "\n",
       "         hardship_loan_status_In Grace Period  hardship_loan_status_Issued  \\\n",
       "1057622                                     0                            0   \n",
       "997083                                      0                            0   \n",
       "677635                                      0                            0   \n",
       "726486                                      0                            0   \n",
       "413532                                      0                            0   \n",
       "\n",
       "         hardship_loan_status_Late (16-30 days)  \\\n",
       "1057622                                       0   \n",
       "997083                                        0   \n",
       "677635                                        0   \n",
       "726486                                        0   \n",
       "413532                                        0   \n",
       "\n",
       "         hardship_loan_status_Late (31-120 days)  \n",
       "1057622                                        0  \n",
       "997083                                         0  \n",
       "677635                                         0  \n",
       "726486                                         0  \n",
       "413532                                         0  \n",
       "\n",
       "[5 rows x 145 columns]"
      ]
     },
     "execution_count": 293,
     "metadata": {},
     "output_type": "execute_result"
    }
   ],
   "source": [
    "# Using a sample size of 200,000 for modeling, due to Memory error when using all observations.\n",
    "df_sample = df_sel.sample(200000)\n",
    "df_sample.head()"
   ]
  },
  {
   "cell_type": "code",
   "execution_count": 294,
   "metadata": {},
   "outputs": [],
   "source": [
    "y = df_sample['loan_status']\n",
    "X = df_sample.drop(['loan_status'], axis=1)"
   ]
  },
  {
   "cell_type": "code",
   "execution_count": 295,
   "metadata": {},
   "outputs": [],
   "source": [
    "from sklearn.model_selection import train_test_split\n",
    "\n",
    "y = y.ravel()\n",
    "X_train, X_test, y_train, y_test = train_test_split(X, y, test_size=0.25, random_state=1)"
   ]
  },
  {
   "cell_type": "code",
   "execution_count": 296,
   "metadata": {},
   "outputs": [
    {
     "data": {
      "text/plain": [
       "array([[ 0.71483663, -0.10888239, -0.76084915, ...,  0.        ,\n",
       "        -0.04439079, -0.01341762],\n",
       "       [-0.77308887, -0.92952326,  0.1122448 , ...,  0.        ,\n",
       "        -0.04439079, -0.01341762],\n",
       "       [ 0.71483663,  0.48181026, -0.27579696, ...,  0.        ,\n",
       "        -0.04439079, -0.01341762],\n",
       "       ...,\n",
       "       [ 0.11966643, -0.87256361, -0.43748102, ...,  0.        ,\n",
       "        -0.04439079, -0.01341762],\n",
       "       [ 0.43510663, -0.06669006, -0.38532174, ...,  0.        ,\n",
       "        -0.04439079, -0.01341762],\n",
       "       [-1.52300333,  0.48181026, -1.60160628, ...,  0.        ,\n",
       "        -0.04439079, -0.01341762]])"
      ]
     },
     "execution_count": 296,
     "metadata": {},
     "output_type": "execute_result"
    }
   ],
   "source": [
    "from sklearn import preprocessing as ppg\n",
    "\n",
    "scaler = ppg.StandardScaler().fit(X_train)\n",
    "X_train_scaled=scaler.transform(X_train)\n",
    "X_train_scaled"
   ]
  },
  {
   "cell_type": "code",
   "execution_count": 297,
   "metadata": {},
   "outputs": [
    {
     "data": {
      "text/plain": [
       "array([[-0.59453781,  0.1442716 , -0.14644971, ...,  0.        ,\n",
       "        -0.04439079, -0.01341762],\n",
       "       [-0.95163993, -0.38313255, -0.76084915, ...,  0.        ,\n",
       "        -0.04439079, -0.01341762],\n",
       "       [-0.35646973, -0.59409422, -0.53449146, ...,  0.        ,\n",
       "        -0.04439079, -0.01341762],\n",
       "       ...,\n",
       "       [ 3.09551743,  0.98811825,  2.63451619, ...,  0.        ,\n",
       "        -0.04439079, -0.01341762],\n",
       "       [-0.66000653,  0.21599857,  0.14458161, ...,  0.        ,\n",
       "        -0.04439079, -0.01341762],\n",
       "       [-0.23743569,  0.1442716 ,  1.01767555, ...,  0.        ,\n",
       "        -0.04439079, -0.01341762]])"
      ]
     },
     "execution_count": 297,
     "metadata": {},
     "output_type": "execute_result"
    }
   ],
   "source": [
    "X_test_scaled = scaler.transform(X_test)\n",
    "X_test_scaled"
   ]
  },
  {
   "cell_type": "markdown",
   "metadata": {},
   "source": [
    "# Feature importance with Forest of Trees"
   ]
  },
  {
   "cell_type": "code",
   "execution_count": 298,
   "metadata": {},
   "outputs": [
    {
     "data": {
      "text/plain": [
       "(150000, 144)"
      ]
     },
     "execution_count": 298,
     "metadata": {},
     "output_type": "execute_result"
    }
   ],
   "source": [
    "X_train_scaled.shape"
   ]
  },
  {
   "cell_type": "code",
   "execution_count": 299,
   "metadata": {},
   "outputs": [
    {
     "name": "stdout",
     "output_type": "stream",
     "text": [
      "Feature ranking:\n",
      "1. feature 14 (0.190773)\n",
      "2. feature 12 (0.141900)\n",
      "3. feature 0 (0.065950)\n",
      "4. feature 13 (0.033587)\n",
      "5. feature 1 (0.025745)\n",
      "6. feature 64 (0.019147)\n",
      "7. feature 3 (0.017430)\n",
      "8. feature 2 (0.017424)\n",
      "9. feature 63 (0.017196)\n",
      "10. feature 9 (0.017020)\n",
      "11. feature 10 (0.016750)\n",
      "12. feature 47 (0.015918)\n",
      "13. feature 32 (0.015808)\n",
      "14. feature 28 (0.015645)\n",
      "15. feature 46 (0.015277)\n",
      "16. feature 36 (0.014960)\n",
      "17. feature 31 (0.014919)\n",
      "18. feature 21 (0.014858)\n",
      "19. feature 48 (0.014542)\n",
      "20. feature 43 (0.014315)\n",
      "21. feature 5 (0.012739)\n",
      "22. feature 42 (0.012619)\n",
      "23. feature 6 (0.012359)\n",
      "24. feature 65 (0.010480)\n",
      "25. feature 27 (0.010006)\n",
      "26. feature 37 (0.009864)\n",
      "27. feature 16 (0.008774)\n",
      "28. feature 35 (0.008384)\n",
      "29. feature 20 (0.008197)\n",
      "30. feature 4 (0.008181)\n",
      "31. feature 25 (0.008061)\n",
      "32. feature 26 (0.007964)\n",
      "33. feature 38 (0.007927)\n",
      "34. feature 7 (0.006909)\n",
      "35. feature 30 (0.006725)\n",
      "36. feature 66 (0.006433)\n",
      "37. feature 22 (0.006294)\n",
      "38. feature 24 (0.006266)\n",
      "39. feature 23 (0.006233)\n",
      "40. feature 8 (0.005934)\n",
      "41. feature 117 (0.005753)\n",
      "42. feature 69 (0.005725)\n",
      "43. feature 118 (0.005718)\n",
      "44. feature 113 (0.005652)\n",
      "45. feature 29 (0.005544)\n",
      "46. feature 115 (0.005494)\n",
      "47. feature 114 (0.005334)\n",
      "48. feature 68 (0.005218)\n",
      "49. feature 112 (0.005191)\n",
      "50. feature 44 (0.005115)\n",
      "51. feature 108 (0.005048)\n",
      "52. feature 67 (0.004057)\n",
      "53. feature 41 (0.003696)\n",
      "54. feature 111 (0.003589)\n",
      "55. feature 70 (0.003178)\n",
      "56. feature 45 (0.002718)\n",
      "57. feature 83 (0.001999)\n",
      "58. feature 84 (0.001958)\n",
      "59. feature 15 (0.001929)\n",
      "60. feature 85 (0.001894)\n",
      "61. feature 82 (0.001875)\n",
      "62. feature 86 (0.001815)\n",
      "63. feature 78 (0.001534)\n",
      "64. feature 79 (0.001491)\n",
      "65. feature 80 (0.001480)\n",
      "66. feature 81 (0.001444)\n",
      "67. feature 58 (0.001415)\n",
      "68. feature 126 (0.001410)\n",
      "69. feature 88 (0.001403)\n",
      "70. feature 87 (0.001403)\n",
      "71. feature 77 (0.001385)\n",
      "72. feature 89 (0.001382)\n",
      "73. feature 72 (0.001313)\n",
      "74. feature 90 (0.001304)\n",
      "75. feature 91 (0.001223)\n",
      "76. feature 76 (0.001133)\n",
      "77. feature 71 (0.001100)\n",
      "78. feature 92 (0.001018)\n",
      "79. feature 93 (0.001017)\n",
      "80. feature 75 (0.001015)\n",
      "81. feature 94 (0.001004)\n",
      "82. feature 33 (0.001001)\n",
      "83. feature 73 (0.000887)\n",
      "84. feature 95 (0.000760)\n",
      "85. feature 74 (0.000751)\n",
      "86. feature 137 (0.000730)\n",
      "87. feature 96 (0.000710)\n",
      "88. feature 60 (0.000674)\n",
      "89. feature 18 (0.000581)\n",
      "90. feature 142 (0.000562)\n",
      "91. feature 17 (0.000553)\n",
      "92. feature 120 (0.000530)\n",
      "93. feature 97 (0.000517)\n",
      "94. feature 119 (0.000490)\n",
      "95. feature 34 (0.000451)\n",
      "96. feature 19 (0.000446)\n",
      "97. feature 121 (0.000429)\n",
      "98. feature 59 (0.000423)\n",
      "99. feature 98 (0.000421)\n",
      "100. feature 53 (0.000388)\n",
      "101. feature 49 (0.000377)\n",
      "102. feature 99 (0.000371)\n",
      "103. feature 52 (0.000354)\n",
      "104. feature 138 (0.000347)\n",
      "105. feature 40 (0.000340)\n",
      "106. feature 101 (0.000340)\n",
      "107. feature 54 (0.000335)\n",
      "108. feature 50 (0.000332)\n",
      "109. feature 100 (0.000292)\n",
      "110. feature 62 (0.000250)\n",
      "111. feature 51 (0.000239)\n",
      "112. feature 57 (0.000229)\n",
      "113. feature 102 (0.000216)\n",
      "114. feature 122 (0.000190)\n",
      "115. feature 103 (0.000188)\n",
      "116. feature 61 (0.000180)\n",
      "117. feature 140 (0.000160)\n",
      "118. feature 123 (0.000139)\n",
      "119. feature 133 (0.000131)\n",
      "120. feature 56 (0.000124)\n",
      "121. feature 106 (0.000119)\n",
      "122. feature 139 (0.000116)\n",
      "123. feature 104 (0.000116)\n",
      "124. feature 105 (0.000105)\n",
      "125. feature 39 (0.000103)\n",
      "126. feature 135 (0.000099)\n",
      "127. feature 129 (0.000078)\n",
      "128. feature 132 (0.000073)\n",
      "129. feature 55 (0.000071)\n",
      "130. feature 131 (0.000044)\n",
      "131. feature 134 (0.000039)\n",
      "132. feature 110 (0.000031)\n",
      "133. feature 143 (0.000026)\n",
      "134. feature 107 (0.000022)\n",
      "135. feature 127 (0.000013)\n",
      "136. feature 128 (0.000013)\n",
      "137. feature 130 (0.000009)\n",
      "138. feature 109 (0.000002)\n",
      "139. feature 11 (0.000000)\n",
      "140. feature 136 (0.000000)\n",
      "141. feature 125 (0.000000)\n",
      "142. feature 116 (0.000000)\n",
      "143. feature 141 (0.000000)\n",
      "144. feature 124 (0.000000)\n"
     ]
    }
   ],
   "source": [
    "from sklearn.ensemble import ExtraTreesClassifier\n",
    "\n",
    "forest = ExtraTreesClassifier(n_estimators=250,\n",
    "                              random_state=0)\n",
    "\n",
    "forest = forest.fit(X_train_scaled, y_train)\n",
    "importances = forest.feature_importances_\n",
    "std = np.std([tree.feature_importances_ for tree in forest.estimators_],\n",
    "             axis=0)\n",
    "indices = np.argsort(importances)[::-1]\n",
    "\n",
    "# Print the feature ranking\n",
    "print(\"Feature ranking:\")\n",
    "\n",
    "for f in range(X_train_scaled.shape[1]):\n",
    "    print(\"%d. feature %d (%f)\" % (f + 1, indices[f], importances[indices[f]]))\n"
   ]
  },
  {
   "cell_type": "code",
   "execution_count": 300,
   "metadata": {},
   "outputs": [
    {
     "data": {
      "image/png": "[encoded data removed]",
      "text/plain": [
       "<Figure size 1440x1440 with 1 Axes>"
      ]
     },
     "metadata": {
      "needs_background": "light"
     },
     "output_type": "display_data"
    }
   ],
   "source": [
    "# Plot the impurity-based feature importances of the forest\n",
    "plt.figure(figsize=(20,20))\n",
    "plt.title(\"Feature importances\")\n",
    "plt.bar(range(X_train_scaled.shape[1]), importances[indices],\n",
    "        color=\"r\", yerr=std[indices], align=\"center\")\n",
    "plt.xticks(range(X_train_scaled.shape[1]), indices)\n",
    "plt.xlim([-1, X_train_scaled.shape[1]])\n",
    "plt.show()"
   ]
  },
  {
   "cell_type": "markdown",
   "metadata": {},
   "source": [
    "# Feature selection using SelectFromModel"
   ]
  },
  {
   "cell_type": "code",
   "execution_count": 320,
   "metadata": {},
   "outputs": [
    {
     "data": {
      "text/plain": [
       "(150000, 6)"
      ]
     },
     "execution_count": 320,
     "metadata": {},
     "output_type": "execute_result"
    }
   ],
   "source": [
    "# Feature selection based on the above feature importance\n",
    "from sklearn.feature_selection import SelectFromModel\n",
    "\n",
    "model = SelectFromModel(forest, prefit=True, threshold=0.019)\n",
    "X_train_new = model.transform(X_train_scaled)\n",
    "X_train_new.shape"
   ]
  },
  {
   "cell_type": "code",
   "execution_count": 321,
   "metadata": {},
   "outputs": [
    {
     "data": {
      "text/plain": [
       "(50000, 6)"
      ]
     },
     "execution_count": 321,
     "metadata": {},
     "output_type": "execute_result"
    }
   ],
   "source": [
    "X_test_new = model.transform(X_test_scaled)\n",
    "X_test_new.shape"
   ]
  },
  {
   "cell_type": "code",
   "execution_count": 322,
   "metadata": {},
   "outputs": [
    {
     "data": {
      "text/plain": [
       "array([ 0,  1, 12, 13, 14, 64], dtype=int64)"
      ]
     },
     "execution_count": 322,
     "metadata": {},
     "output_type": "execute_result"
    }
   ],
   "source": [
    "model.get_support(True)"
   ]
  },
  {
   "cell_type": "code",
   "execution_count": 323,
   "metadata": {},
   "outputs": [],
   "source": [
    "X_cols = X_test.columns"
   ]
  },
  {
   "cell_type": "code",
   "execution_count": 324,
   "metadata": {},
   "outputs": [
    {
     "name": "stdout",
     "output_type": "stream",
     "text": [
      "Features selected by scikit learn SelecFromModel are:\n",
      "\n",
      "loan_amnt\n",
      "int_rate\n",
      "total_pymnt\n",
      "total_rec_int\n",
      "last_pymnt_amnt\n",
      "term_ 60 months\n"
     ]
    }
   ],
   "source": [
    "print(\"Features selected by scikit learn SelecFromModel are:\\n\")\n",
    "for i in model.get_support(True):\n",
    "    print(X_cols[i])"
   ]
  },
  {
   "cell_type": "code",
   "execution_count": 325,
   "metadata": {},
   "outputs": [
    {
     "name": "stdout",
     "output_type": "stream",
     "text": [
      "Tuned Logistic Regression Parameters: {'C': 100}\n",
      "Best score is 0.9926866666666667\n",
      "Accuracy score is 0.99264\n"
     ]
    }
   ],
   "source": [
    "# Using K fold cross validation and Grid search to get the most accurate prediction\n",
    "\n",
    "from sklearn.linear_model import LogisticRegression\n",
    "from sklearn.metrics import accuracy_score\n",
    "from sklearn.model_selection import GridSearchCV\n",
    "\n",
    "#the grid of parameters to search over\n",
    "Cs = [0.001, 0.1, 1, 10, 100]\n",
    "\n",
    "param_grid = {'C': Cs}\n",
    "logreg = LogisticRegression()\n",
    "logreg_cv = GridSearchCV(logreg, param_grid, cv=5)\n",
    "logreg_cv.fit(X_train_new, y_train)\n",
    "print(\"Tuned Logistic Regression Parameters: {}\".format(logreg_cv.best_params_)) \n",
    "print(\"Best score is {}\".format(logreg_cv.best_score_))\n",
    "# Print the accuracy from the testing data.\n",
    "print(\"Accuracy score is {}\".format(accuracy_score(logreg_cv.predict(X_test_new), y_test)))\n"
   ]
  },
  {
   "cell_type": "markdown",
   "metadata": {},
   "source": [
    "# Review the results"
   ]
  },
  {
   "cell_type": "code",
   "execution_count": 326,
   "metadata": {},
   "outputs": [
    {
     "data": {
      "text/plain": [
       "array([[39809,    42],\n",
       "       [  326,  9823]], dtype=int64)"
      ]
     },
     "execution_count": 326,
     "metadata": {},
     "output_type": "execute_result"
    }
   ],
   "source": [
    "from sklearn.metrics import confusion_matrix\n",
    "\n",
    "y_pred_log = logreg_cv.predict(X_test_new)\n",
    "pl_log = confusion_matrix(y_test,y_pred_log)\n",
    "pl_log"
   ]
  },
  {
   "cell_type": "code",
   "execution_count": 327,
   "metadata": {},
   "outputs": [
    {
     "data": {
      "text/plain": [
       "array([40135,  9865], dtype=int64)"
      ]
     },
     "execution_count": 327,
     "metadata": {},
     "output_type": "execute_result"
    }
   ],
   "source": [
    "np.bincount(y_pred_log)"
   ]
  },
  {
   "cell_type": "markdown",
   "metadata": {},
   "source": [
    "0 - Fully paid <br>\n",
    "1 - Charges off"
   ]
  },
  {
   "cell_type": "code",
   "execution_count": 328,
   "metadata": {},
   "outputs": [
    {
     "data": {
      "text/plain": [
       "array([39851, 10149], dtype=int64)"
      ]
     },
     "execution_count": 328,
     "metadata": {},
     "output_type": "execute_result"
    }
   ],
   "source": [
    "np.bincount(y_test)"
   ]
  },
  {
   "cell_type": "code",
   "execution_count": null,
   "metadata": {},
   "outputs": [],
   "source": []
  },
  {
   "cell_type": "code",
   "execution_count": 329,
   "metadata": {},
   "outputs": [
    {
     "name": "stdout",
     "output_type": "stream",
     "text": [
      "              precision    recall  f1-score   support\n",
      "\n",
      "           0       0.99      1.00      1.00     39851\n",
      "           1       1.00      0.97      0.98     10149\n",
      "\n",
      "    accuracy                           0.99     50000\n",
      "   macro avg       0.99      0.98      0.99     50000\n",
      "weighted avg       0.99      0.99      0.99     50000\n",
      "\n"
     ]
    }
   ],
   "source": [
    "from sklearn.metrics import classification_report\n",
    "\n",
    "cl_rep_log = classification_report(y_test,y_pred_log)\n",
    "print(cl_rep_log)"
   ]
  },
  {
   "cell_type": "code",
   "execution_count": 330,
   "metadata": {},
   "outputs": [
    {
     "name": "stdout",
     "output_type": "stream",
     "text": [
      "Test Data Set Logistic Regression: Accuracy=0.993\n",
      "Test Data Set Logistic Regression: f1-score=0.993\n",
      "Test Data Set Logistic Regression: roc_auc_score=0.983\n"
     ]
    }
   ],
   "source": [
    "from sklearn.metrics import accuracy_score, f1_score, roc_auc_score\n",
    "\n",
    "ac = accuracy_score(y_test, y_pred_log)\n",
    "print('Test Data Set Logistic Regression: Accuracy=%.3f' % (ac))\n",
    "\n",
    "f1 = f1_score(y_test, y_pred_log, average='weighted')\n",
    "print('Test Data Set Logistic Regression: f1-score=%.3f' % (f1))\n",
    "\n",
    "roc_auc = roc_auc_score(y_test, y_pred_log)\n",
    "print('Test Data Set Logistic Regression: roc_auc_score=%.3f' % (roc_auc))"
   ]
  },
  {
   "cell_type": "markdown",
   "metadata": {},
   "source": [
    "# Logistic Regression Metrics for various Threshold values in feature selection\n",
    "\n",
    "| Threshold | # Features selected | Accuracy| f1_score|roc_auc_score|\n",
    "| --- | --- | --- | --- | --- |\n",
    "|  0 | 144 | 0.993 | 0.993 | 0.983 |\n",
    "|  0.001 | 82 | 0.993 | 0.993 | 0.983 |\n",
    "|  0.002 | 57 | 0.993 | 0.993 | 0.983 |\n",
    "|  0.003 | 55 | 0.993 | 0.993 | 0.983 |\n",
    "| 0.005 | 51 | 0.993 | 0.993 | 0.983 |\n",
    "| 0.006 | 39 | 0.993 | 0.993 | 0.983 |\n",
    "| 0.007 | 34 | 0.993 | 0.993 | 0.983 |\n",
    "| 0.008 | 30 | 0.993 | 0.993 | 0.983 |\n",
    "| 0.01 | 25 | 0.993 | 0.993 | 0.983 |\n",
    "| 0.015 | 15 | 0.993 | 0.993 | 0.983 |\n",
    "| 0.016 | 11 | 0.993 | 0.993 | 0.983 |\n",
    "| 0.017 | 9 | 0.993 | 0.993 | 0.983 |\n",
    "| 0.018 | 7 | 0.993 | 0.993 | 0.983 |\n",
    "| 0.019 | 6 | 0.993 | 0.993 | 0.983 |"
   ]
  },
  {
   "cell_type": "markdown",
   "metadata": {},
   "source": [
    "# Figures for data story"
   ]
  },
  {
   "cell_type": "markdown",
   "metadata": {},
   "source": [
    "ROC curve"
   ]
  },
  {
   "cell_type": "code",
   "execution_count": 331,
   "metadata": {},
   "outputs": [
    {
     "data": {
      "text/plain": [
       "<sklearn.metrics._plot.roc_curve.RocCurveDisplay at 0x23894bf2ef0>"
      ]
     },
     "execution_count": 331,
     "metadata": {},
     "output_type": "execute_result"
    },
    {
     "data": {
      "image/png": "[encoded data removed]",
      "text/plain": [
       "<Figure size 432x288 with 1 Axes>"
      ]
     },
     "metadata": {
      "needs_background": "light"
     },
     "output_type": "display_data"
    }
   ],
   "source": [
    "from sklearn.metrics import plot_roc_curve\n",
    "\n",
    "plot_roc_curve(logreg_cv, X_test_new, y_test)"
   ]
  },
  {
   "cell_type": "markdown",
   "metadata": {},
   "source": [
    "# Finalize code"
   ]
  },
  {
   "cell_type": "markdown",
   "metadata": {},
   "source": [
    "Save the model"
   ]
  },
  {
   "cell_type": "code",
   "execution_count": 332,
   "metadata": {},
   "outputs": [
    {
     "data": {
      "text/plain": [
       "['models/model_loan.joblib']"
      ]
     },
     "execution_count": 332,
     "metadata": {},
     "output_type": "execute_result"
    }
   ],
   "source": [
    "import pickle\n",
    "s = pickle.dumps(logreg_cv)\n",
    "from joblib import dump, load\n",
    "dump(logreg_cv, 'models/model_loan.joblib') "
   ]
  },
  {
   "cell_type": "markdown",
   "metadata": {},
   "source": [
    "# Finalize documentation"
   ]
  },
  {
   "cell_type": "code",
   "execution_count": 333,
   "metadata": {},
   "outputs": [
    {
     "data": {
      "text/plain": [
       "{'mean_fit_time': array([0.19376459, 0.34942684, 0.40237484, 0.43795795, 0.42739029]),\n",
       " 'std_fit_time': array([0.01134306, 0.01547041, 0.01204624, 0.02489851, 0.01662924]),\n",
       " 'mean_score_time': array([0.00614767, 0.00190167, 0.00625253, 0.00200124, 0.00130148]),\n",
       " 'std_score_time': array([0.00480328, 0.00258058, 0.00765775, 0.00167361, 0.00260296]),\n",
       " 'param_C': masked_array(data=[0.001, 0.1, 1, 10, 100],\n",
       "              mask=[False, False, False, False, False],\n",
       "        fill_value='?',\n",
       "             dtype=object),\n",
       " 'params': [{'C': 0.001}, {'C': 0.1}, {'C': 1}, {'C': 10}, {'C': 100}],\n",
       " 'split0_test_score': array([0.93383333, 0.9855    , 0.99063333, 0.9921    , 0.99226667]),\n",
       " 'split1_test_score': array([0.9326    , 0.98613333, 0.99076667, 0.99236667, 0.9925    ]),\n",
       " 'split2_test_score': array([0.9343    , 0.986     , 0.99096667, 0.99216667, 0.99233333]),\n",
       " 'split3_test_score': array([0.9341    , 0.98706667, 0.9924    , 0.9935    , 0.9936    ]),\n",
       " 'split4_test_score': array([0.93506667, 0.98636667, 0.99146667, 0.99253333, 0.99273333]),\n",
       " 'mean_test_score': array([0.93398   , 0.98621333, 0.99124667, 0.99253333, 0.99268667]),\n",
       " 'std_test_score': array([0.00080294, 0.00051234, 0.00064243, 0.00050684, 0.00048424]),\n",
       " 'rank_test_score': array([5, 4, 3, 2, 1])}"
      ]
     },
     "execution_count": 333,
     "metadata": {},
     "output_type": "execute_result"
    }
   ],
   "source": [
    "logreg_cv.cv_results_"
   ]
  },
  {
   "cell_type": "code",
   "execution_count": 334,
   "metadata": {},
   "outputs": [
    {
     "data": {
      "text/plain": [
       "{'C': 100}"
      ]
     },
     "execution_count": 334,
     "metadata": {},
     "output_type": "execute_result"
    }
   ],
   "source": [
    "logreg_cv.best_params_"
   ]
  },
  {
   "cell_type": "code",
   "execution_count": 335,
   "metadata": {},
   "outputs": [
    {
     "data": {
      "text/plain": [
       "0.9926866666666667"
      ]
     },
     "execution_count": 335,
     "metadata": {},
     "output_type": "execute_result"
    }
   ],
   "source": [
    "logreg_cv.best_score_"
   ]
  },
  {
   "cell_type": "code",
   "execution_count": 336,
   "metadata": {},
   "outputs": [
    {
     "data": {
      "text/plain": [
       "4"
      ]
     },
     "execution_count": 336,
     "metadata": {},
     "output_type": "execute_result"
    }
   ],
   "source": [
    "logreg_cv.best_index_"
   ]
  },
  {
   "cell_type": "code",
   "execution_count": 337,
   "metadata": {},
   "outputs": [
    {
     "data": {
      "text/html": [
       "<div>\n",
       "<style scoped>\n",
       "    .dataframe tbody tr th:only-of-type {\n",
       "        vertical-align: middle;\n",
       "    }\n",
       "\n",
       "    .dataframe tbody tr th {\n",
       "        vertical-align: top;\n",
       "    }\n",
       "\n",
       "    .dataframe thead th {\n",
       "        text-align: right;\n",
       "    }\n",
       "</style>\n",
       "<table border=\"1\" class=\"dataframe\">\n",
       "  <thead>\n",
       "    <tr style=\"text-align: right;\">\n",
       "      <th></th>\n",
       "      <th>mean_fit_time</th>\n",
       "      <th>std_fit_time</th>\n",
       "      <th>mean_score_time</th>\n",
       "      <th>std_score_time</th>\n",
       "      <th>param_C</th>\n",
       "      <th>params</th>\n",
       "      <th>split0_test_score</th>\n",
       "      <th>split1_test_score</th>\n",
       "      <th>split2_test_score</th>\n",
       "      <th>split3_test_score</th>\n",
       "      <th>split4_test_score</th>\n",
       "      <th>mean_test_score</th>\n",
       "      <th>std_test_score</th>\n",
       "      <th>rank_test_score</th>\n",
       "    </tr>\n",
       "  </thead>\n",
       "  <tbody>\n",
       "    <tr>\n",
       "      <th>0</th>\n",
       "      <td>0.193765</td>\n",
       "      <td>0.011343</td>\n",
       "      <td>0.006148</td>\n",
       "      <td>0.004803</td>\n",
       "      <td>0.001</td>\n",
       "      <td>{'C': 0.001}</td>\n",
       "      <td>0.933833</td>\n",
       "      <td>0.932600</td>\n",
       "      <td>0.934300</td>\n",
       "      <td>0.934100</td>\n",
       "      <td>0.935067</td>\n",
       "      <td>0.933980</td>\n",
       "      <td>0.000803</td>\n",
       "      <td>5</td>\n",
       "    </tr>\n",
       "    <tr>\n",
       "      <th>1</th>\n",
       "      <td>0.349427</td>\n",
       "      <td>0.015470</td>\n",
       "      <td>0.001902</td>\n",
       "      <td>0.002581</td>\n",
       "      <td>0.1</td>\n",
       "      <td>{'C': 0.1}</td>\n",
       "      <td>0.985500</td>\n",
       "      <td>0.986133</td>\n",
       "      <td>0.986000</td>\n",
       "      <td>0.987067</td>\n",
       "      <td>0.986367</td>\n",
       "      <td>0.986213</td>\n",
       "      <td>0.000512</td>\n",
       "      <td>4</td>\n",
       "    </tr>\n",
       "    <tr>\n",
       "      <th>2</th>\n",
       "      <td>0.402375</td>\n",
       "      <td>0.012046</td>\n",
       "      <td>0.006253</td>\n",
       "      <td>0.007658</td>\n",
       "      <td>1</td>\n",
       "      <td>{'C': 1}</td>\n",
       "      <td>0.990633</td>\n",
       "      <td>0.990767</td>\n",
       "      <td>0.990967</td>\n",
       "      <td>0.992400</td>\n",
       "      <td>0.991467</td>\n",
       "      <td>0.991247</td>\n",
       "      <td>0.000642</td>\n",
       "      <td>3</td>\n",
       "    </tr>\n",
       "    <tr>\n",
       "      <th>3</th>\n",
       "      <td>0.437958</td>\n",
       "      <td>0.024899</td>\n",
       "      <td>0.002001</td>\n",
       "      <td>0.001674</td>\n",
       "      <td>10</td>\n",
       "      <td>{'C': 10}</td>\n",
       "      <td>0.992100</td>\n",
       "      <td>0.992367</td>\n",
       "      <td>0.992167</td>\n",
       "      <td>0.993500</td>\n",
       "      <td>0.992533</td>\n",
       "      <td>0.992533</td>\n",
       "      <td>0.000507</td>\n",
       "      <td>2</td>\n",
       "    </tr>\n",
       "    <tr>\n",
       "      <th>4</th>\n",
       "      <td>0.427390</td>\n",
       "      <td>0.016629</td>\n",
       "      <td>0.001301</td>\n",
       "      <td>0.002603</td>\n",
       "      <td>100</td>\n",
       "      <td>{'C': 100}</td>\n",
       "      <td>0.992267</td>\n",
       "      <td>0.992500</td>\n",
       "      <td>0.992333</td>\n",
       "      <td>0.993600</td>\n",
       "      <td>0.992733</td>\n",
       "      <td>0.992687</td>\n",
       "      <td>0.000484</td>\n",
       "      <td>1</td>\n",
       "    </tr>\n",
       "  </tbody>\n",
       "</table>\n",
       "</div>"
      ],
      "text/plain": [
       "   mean_fit_time  std_fit_time  mean_score_time  std_score_time param_C  \\\n",
       "0       0.193765      0.011343         0.006148        0.004803   0.001   \n",
       "1       0.349427      0.015470         0.001902        0.002581     0.1   \n",
       "2       0.402375      0.012046         0.006253        0.007658       1   \n",
       "3       0.437958      0.024899         0.002001        0.001674      10   \n",
       "4       0.427390      0.016629         0.001301        0.002603     100   \n",
       "\n",
       "         params  split0_test_score  split1_test_score  split2_test_score  \\\n",
       "0  {'C': 0.001}           0.933833           0.932600           0.934300   \n",
       "1    {'C': 0.1}           0.985500           0.986133           0.986000   \n",
       "2      {'C': 1}           0.990633           0.990767           0.990967   \n",
       "3     {'C': 10}           0.992100           0.992367           0.992167   \n",
       "4    {'C': 100}           0.992267           0.992500           0.992333   \n",
       "\n",
       "   split3_test_score  split4_test_score  mean_test_score  std_test_score  \\\n",
       "0           0.934100           0.935067         0.933980        0.000803   \n",
       "1           0.987067           0.986367         0.986213        0.000512   \n",
       "2           0.992400           0.991467         0.991247        0.000642   \n",
       "3           0.993500           0.992533         0.992533        0.000507   \n",
       "4           0.993600           0.992733         0.992687        0.000484   \n",
       "\n",
       "   rank_test_score  \n",
       "0                5  \n",
       "1                4  \n",
       "2                3  \n",
       "3                2  \n",
       "4                1  "
      ]
     },
     "execution_count": 337,
     "metadata": {},
     "output_type": "execute_result"
    }
   ],
   "source": [
    "results_df = pd.DataFrame(logreg_cv.cv_results_)\n",
    "results_df"
   ]
  },
  {
   "cell_type": "markdown",
   "metadata": {},
   "source": [
    "Save model results"
   ]
  },
  {
   "cell_type": "code",
   "execution_count": 338,
   "metadata": {},
   "outputs": [],
   "source": [
    "results_df.to_csv('models/model_results.csv')"
   ]
  },
  {
   "cell_type": "code",
   "execution_count": null,
   "metadata": {},
   "outputs": [],
   "source": []
  }
 ],
 "metadata": {
  "kernelspec": {
   "display_name": "Python 3",
   "language": "python",
   "name": "python3"
  },
  "language_info": {
   "codemirror_mode": {
    "name": "ipython",
    "version": 3
   },
   "file_extension": ".py",
   "mimetype": "text/x-python",
   "name": "python",
   "nbconvert_exporter": "python",
   "pygments_lexer": "ipython3",
   "version": "3.7.3"
  }
 },
 "nbformat": 4,
 "nbformat_minor": 2
}
