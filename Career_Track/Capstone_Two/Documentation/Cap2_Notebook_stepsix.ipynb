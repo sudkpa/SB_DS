{
 "cells": [
  {
   "cell_type": "markdown",
   "metadata": {},
   "source": [
    "# Capstone 2 - Lending Club Loan Paid or Charged Off Prediction\n",
    "\n",
    "# Documentation\n",
    "\n",
    "Documentation is the sixth step in the Data Science Method.  The following will be performed in this step:\n",
    "\n",
    "1. Review the Results\n",
    "2. Finalize Code\n",
    "3. Finalize Documentation\n",
    "4. Create a Project Report\n",
    "5. Create a Slide Deck for the Executive Audience"
   ]
  },
  {
   "cell_type": "code",
   "execution_count": 2,
   "metadata": {},
   "outputs": [],
   "source": [
    "#load python packages\n",
    "import os\n",
    "import pandas as pd\n",
    "import pandas.api.types as ptypes\n",
    "import datetime\n",
    "import seaborn as sns\n",
    "import matplotlib.pyplot as plt\n",
    "import numpy as np\n",
    "%matplotlib inline\n",
    "import warnings # For handling error messages.\n",
    "#warnings.simplefilter(action=\"ignore\", category=FutureWarning)\n",
    "warnings.filterwarnings('ignore')"
   ]
  },
  {
   "cell_type": "code",
   "execution_count": null,
   "metadata": {},
   "outputs": [],
   "source": []
  },
  {
   "cell_type": "markdown",
   "metadata": {},
   "source": [
    "# Best Model - Logistic Regression"
   ]
  },
  {
   "cell_type": "code",
   "execution_count": 3,
   "metadata": {},
   "outputs": [
    {
     "data": {
      "text/html": [
       "<div>\n",
       "<style scoped>\n",
       "    .dataframe tbody tr th:only-of-type {\n",
       "        vertical-align: middle;\n",
       "    }\n",
       "\n",
       "    .dataframe tbody tr th {\n",
       "        vertical-align: top;\n",
       "    }\n",
       "\n",
       "    .dataframe thead th {\n",
       "        text-align: right;\n",
       "    }\n",
       "</style>\n",
       "<table border=\"1\" class=\"dataframe\">\n",
       "  <thead>\n",
       "    <tr style=\"text-align: right;\">\n",
       "      <th></th>\n",
       "      <th>loan_amnt</th>\n",
       "      <th>int_rate</th>\n",
       "      <th>annual_inc</th>\n",
       "      <th>dti</th>\n",
       "      <th>delinq_2yrs</th>\n",
       "      <th>inq_last_6mths</th>\n",
       "      <th>mths_since_last_delinq</th>\n",
       "      <th>mths_since_last_record</th>\n",
       "      <th>pub_rec</th>\n",
       "      <th>revol_bal</th>\n",
       "      <th>...</th>\n",
       "      <th>initial_list_status</th>\n",
       "      <th>application_type</th>\n",
       "      <th>verification_status_joint</th>\n",
       "      <th>hardship_flag</th>\n",
       "      <th>hardship_type</th>\n",
       "      <th>hardship_reason</th>\n",
       "      <th>hardship_status</th>\n",
       "      <th>hardship_loan_status</th>\n",
       "      <th>debt_settlement_flag</th>\n",
       "      <th>settlement_status</th>\n",
       "    </tr>\n",
       "  </thead>\n",
       "  <tbody>\n",
       "    <tr>\n",
       "      <th>0</th>\n",
       "      <td>2500</td>\n",
       "      <td>13.56</td>\n",
       "      <td>55000.0</td>\n",
       "      <td>18.24</td>\n",
       "      <td>0.0</td>\n",
       "      <td>1.0</td>\n",
       "      <td>0.0</td>\n",
       "      <td>45.0</td>\n",
       "      <td>1.0</td>\n",
       "      <td>4341</td>\n",
       "      <td>...</td>\n",
       "      <td>w</td>\n",
       "      <td>Individual</td>\n",
       "      <td>NaN</td>\n",
       "      <td>N</td>\n",
       "      <td>NaN</td>\n",
       "      <td>NaN</td>\n",
       "      <td>NaN</td>\n",
       "      <td>NaN</td>\n",
       "      <td>N</td>\n",
       "      <td>NaN</td>\n",
       "    </tr>\n",
       "    <tr>\n",
       "      <th>1</th>\n",
       "      <td>30000</td>\n",
       "      <td>18.94</td>\n",
       "      <td>90000.0</td>\n",
       "      <td>26.52</td>\n",
       "      <td>0.0</td>\n",
       "      <td>0.0</td>\n",
       "      <td>71.0</td>\n",
       "      <td>75.0</td>\n",
       "      <td>1.0</td>\n",
       "      <td>12315</td>\n",
       "      <td>...</td>\n",
       "      <td>w</td>\n",
       "      <td>Individual</td>\n",
       "      <td>NaN</td>\n",
       "      <td>N</td>\n",
       "      <td>NaN</td>\n",
       "      <td>NaN</td>\n",
       "      <td>NaN</td>\n",
       "      <td>NaN</td>\n",
       "      <td>N</td>\n",
       "      <td>NaN</td>\n",
       "    </tr>\n",
       "    <tr>\n",
       "      <th>2</th>\n",
       "      <td>5000</td>\n",
       "      <td>17.97</td>\n",
       "      <td>59280.0</td>\n",
       "      <td>10.51</td>\n",
       "      <td>0.0</td>\n",
       "      <td>0.0</td>\n",
       "      <td>0.0</td>\n",
       "      <td>0.0</td>\n",
       "      <td>0.0</td>\n",
       "      <td>4599</td>\n",
       "      <td>...</td>\n",
       "      <td>w</td>\n",
       "      <td>Individual</td>\n",
       "      <td>NaN</td>\n",
       "      <td>N</td>\n",
       "      <td>NaN</td>\n",
       "      <td>NaN</td>\n",
       "      <td>NaN</td>\n",
       "      <td>NaN</td>\n",
       "      <td>N</td>\n",
       "      <td>NaN</td>\n",
       "    </tr>\n",
       "    <tr>\n",
       "      <th>3</th>\n",
       "      <td>4000</td>\n",
       "      <td>18.94</td>\n",
       "      <td>92000.0</td>\n",
       "      <td>16.74</td>\n",
       "      <td>0.0</td>\n",
       "      <td>0.0</td>\n",
       "      <td>0.0</td>\n",
       "      <td>0.0</td>\n",
       "      <td>0.0</td>\n",
       "      <td>5468</td>\n",
       "      <td>...</td>\n",
       "      <td>w</td>\n",
       "      <td>Individual</td>\n",
       "      <td>NaN</td>\n",
       "      <td>N</td>\n",
       "      <td>NaN</td>\n",
       "      <td>NaN</td>\n",
       "      <td>NaN</td>\n",
       "      <td>NaN</td>\n",
       "      <td>N</td>\n",
       "      <td>NaN</td>\n",
       "    </tr>\n",
       "    <tr>\n",
       "      <th>4</th>\n",
       "      <td>30000</td>\n",
       "      <td>16.14</td>\n",
       "      <td>57250.0</td>\n",
       "      <td>26.35</td>\n",
       "      <td>0.0</td>\n",
       "      <td>0.0</td>\n",
       "      <td>0.0</td>\n",
       "      <td>0.0</td>\n",
       "      <td>0.0</td>\n",
       "      <td>829</td>\n",
       "      <td>...</td>\n",
       "      <td>w</td>\n",
       "      <td>Individual</td>\n",
       "      <td>NaN</td>\n",
       "      <td>N</td>\n",
       "      <td>NaN</td>\n",
       "      <td>NaN</td>\n",
       "      <td>NaN</td>\n",
       "      <td>NaN</td>\n",
       "      <td>N</td>\n",
       "      <td>NaN</td>\n",
       "    </tr>\n",
       "  </tbody>\n",
       "</table>\n",
       "<p>5 rows × 87 columns</p>\n",
       "</div>"
      ],
      "text/plain": [
       "   loan_amnt  int_rate  annual_inc    dti  delinq_2yrs  inq_last_6mths  \\\n",
       "0       2500     13.56     55000.0  18.24          0.0             1.0   \n",
       "1      30000     18.94     90000.0  26.52          0.0             0.0   \n",
       "2       5000     17.97     59280.0  10.51          0.0             0.0   \n",
       "3       4000     18.94     92000.0  16.74          0.0             0.0   \n",
       "4      30000     16.14     57250.0  26.35          0.0             0.0   \n",
       "\n",
       "   mths_since_last_delinq  mths_since_last_record  pub_rec  revol_bal  ...  \\\n",
       "0                     0.0                    45.0      1.0       4341  ...   \n",
       "1                    71.0                    75.0      1.0      12315  ...   \n",
       "2                     0.0                     0.0      0.0       4599  ...   \n",
       "3                     0.0                     0.0      0.0       5468  ...   \n",
       "4                     0.0                     0.0      0.0        829  ...   \n",
       "\n",
       "   initial_list_status  application_type  verification_status_joint  \\\n",
       "0                    w        Individual                        NaN   \n",
       "1                    w        Individual                        NaN   \n",
       "2                    w        Individual                        NaN   \n",
       "3                    w        Individual                        NaN   \n",
       "4                    w        Individual                        NaN   \n",
       "\n",
       "   hardship_flag  hardship_type  hardship_reason  hardship_status  \\\n",
       "0              N            NaN              NaN              NaN   \n",
       "1              N            NaN              NaN              NaN   \n",
       "2              N            NaN              NaN              NaN   \n",
       "3              N            NaN              NaN              NaN   \n",
       "4              N            NaN              NaN              NaN   \n",
       "\n",
       "   hardship_loan_status  debt_settlement_flag  settlement_status  \n",
       "0                   NaN                     N                NaN  \n",
       "1                   NaN                     N                NaN  \n",
       "2                   NaN                     N                NaN  \n",
       "3                   NaN                     N                NaN  \n",
       "4                   NaN                     N                NaN  \n",
       "\n",
       "[5 rows x 87 columns]"
      ]
     },
     "execution_count": 3,
     "metadata": {},
     "output_type": "execute_result"
    }
   ],
   "source": [
    "# Read data output created in the EDA step\n",
    "df = pd.read_csv(\"../EDA/data/Cap2_step3_output.csv\", dtype={'verification_status_joint':object,'hardship_type':object, 'hardship_reason':object, 'hardship_status':object, 'hardship_loan_status':object, 'settlement_status':object}, index_col=\"Unnamed: 0\")\n",
    "df.head(5)"
   ]
  },
  {
   "cell_type": "code",
   "execution_count": 4,
   "metadata": {},
   "outputs": [
    {
     "data": {
      "text/plain": [
       "(2150627, 87)"
      ]
     },
     "execution_count": 4,
     "metadata": {},
     "output_type": "execute_result"
    }
   ],
   "source": [
    "df.shape"
   ]
  },
  {
   "cell_type": "code",
   "execution_count": 5,
   "metadata": {},
   "outputs": [],
   "source": [
    "# Drop unwanted columns\n",
    "df_sel = df.drop(['title', 'zip_code', 'addr_state'], axis=1)"
   ]
  },
  {
   "cell_type": "code",
   "execution_count": 6,
   "metadata": {},
   "outputs": [
    {
     "data": {
      "text/plain": [
       "(1250411, 84)"
      ]
     },
     "execution_count": 6,
     "metadata": {},
     "output_type": "execute_result"
    }
   ],
   "source": [
    "# Drop irrelevant loan_status\n",
    "\n",
    "df_sel.reset_index()\n",
    "df_sel = df_sel[~(df_sel['loan_status'] == 'In Grace Period')]\n",
    "df_sel = df_sel[~(df_sel['loan_status'] == 'Current')]\n",
    "df_sel = df_sel[~(df_sel['loan_status'] == 'Late (31-120 days)')]\n",
    "df_sel = df_sel[~(df_sel['loan_status'] == 'Default')]\n",
    "df_sel = df_sel[~(df_sel['loan_status'] == 'Late (16-30 days)')]\n",
    "df_sel.shape"
   ]
  },
  {
   "cell_type": "code",
   "execution_count": 7,
   "metadata": {},
   "outputs": [],
   "source": [
    "# Loan status:\n",
    "# Setting '%Fully Paid' to 0\n",
    "# Setting '%Charges Off' to 1\n",
    "\n",
    "df_sel['loan_status'] = df_sel['loan_status'].replace(['Fully Paid', 'Does not meet the credit policy. Status:Fully Paid'], '0')\n",
    "df_sel['loan_status'] = df_sel['loan_status'].replace(['Charged Off', 'Does not meet the credit policy. Status:Charged Off'], '1')"
   ]
  },
  {
   "cell_type": "code",
   "execution_count": 8,
   "metadata": {},
   "outputs": [],
   "source": [
    "df_sel['loan_status'] = pd.to_numeric(df_sel['loan_status'])"
   ]
  },
  {
   "cell_type": "code",
   "execution_count": 9,
   "metadata": {},
   "outputs": [],
   "source": [
    "# Create a list of object columns.  \n",
    "cols_obj = []\n",
    "for col in df_sel.columns:\n",
    "    if df_sel[col].dtype == object:\n",
    "        cols_obj.append(col)"
   ]
  },
  {
   "cell_type": "code",
   "execution_count": 10,
   "metadata": {},
   "outputs": [
    {
     "data": {
      "text/html": [
       "<div>\n",
       "<style scoped>\n",
       "    .dataframe tbody tr th:only-of-type {\n",
       "        vertical-align: middle;\n",
       "    }\n",
       "\n",
       "    .dataframe tbody tr th {\n",
       "        vertical-align: top;\n",
       "    }\n",
       "\n",
       "    .dataframe thead th {\n",
       "        text-align: right;\n",
       "    }\n",
       "</style>\n",
       "<table border=\"1\" class=\"dataframe\">\n",
       "  <thead>\n",
       "    <tr style=\"text-align: right;\">\n",
       "      <th></th>\n",
       "      <th>loan_amnt</th>\n",
       "      <th>int_rate</th>\n",
       "      <th>annual_inc</th>\n",
       "      <th>dti</th>\n",
       "      <th>delinq_2yrs</th>\n",
       "      <th>inq_last_6mths</th>\n",
       "      <th>mths_since_last_delinq</th>\n",
       "      <th>mths_since_last_record</th>\n",
       "      <th>pub_rec</th>\n",
       "      <th>revol_bal</th>\n",
       "      <th>...</th>\n",
       "      <th>hardship_loan_status_Current</th>\n",
       "      <th>hardship_loan_status_In Grace Period</th>\n",
       "      <th>hardship_loan_status_Issued</th>\n",
       "      <th>hardship_loan_status_Late (16-30 days)</th>\n",
       "      <th>hardship_loan_status_Late (31-120 days)</th>\n",
       "      <th>debt_settlement_flag_N</th>\n",
       "      <th>debt_settlement_flag_Y</th>\n",
       "      <th>settlement_status_ACTIVE</th>\n",
       "      <th>settlement_status_BROKEN</th>\n",
       "      <th>settlement_status_COMPLETE</th>\n",
       "    </tr>\n",
       "  </thead>\n",
       "  <tbody>\n",
       "    <tr>\n",
       "      <th>100</th>\n",
       "      <td>30000</td>\n",
       "      <td>22.35</td>\n",
       "      <td>100000.0</td>\n",
       "      <td>30.46</td>\n",
       "      <td>0.0</td>\n",
       "      <td>0.0</td>\n",
       "      <td>51.0</td>\n",
       "      <td>84.0</td>\n",
       "      <td>1.0</td>\n",
       "      <td>15603</td>\n",
       "      <td>...</td>\n",
       "      <td>0</td>\n",
       "      <td>0</td>\n",
       "      <td>0</td>\n",
       "      <td>0</td>\n",
       "      <td>0</td>\n",
       "      <td>1</td>\n",
       "      <td>0</td>\n",
       "      <td>0</td>\n",
       "      <td>0</td>\n",
       "      <td>0</td>\n",
       "    </tr>\n",
       "    <tr>\n",
       "      <th>152</th>\n",
       "      <td>40000</td>\n",
       "      <td>16.14</td>\n",
       "      <td>45000.0</td>\n",
       "      <td>50.53</td>\n",
       "      <td>0.0</td>\n",
       "      <td>0.0</td>\n",
       "      <td>0.0</td>\n",
       "      <td>0.0</td>\n",
       "      <td>0.0</td>\n",
       "      <td>34971</td>\n",
       "      <td>...</td>\n",
       "      <td>0</td>\n",
       "      <td>0</td>\n",
       "      <td>0</td>\n",
       "      <td>0</td>\n",
       "      <td>0</td>\n",
       "      <td>1</td>\n",
       "      <td>0</td>\n",
       "      <td>0</td>\n",
       "      <td>0</td>\n",
       "      <td>0</td>\n",
       "    </tr>\n",
       "    <tr>\n",
       "      <th>170</th>\n",
       "      <td>20000</td>\n",
       "      <td>7.56</td>\n",
       "      <td>100000.0</td>\n",
       "      <td>18.92</td>\n",
       "      <td>0.0</td>\n",
       "      <td>0.0</td>\n",
       "      <td>48.0</td>\n",
       "      <td>0.0</td>\n",
       "      <td>0.0</td>\n",
       "      <td>25416</td>\n",
       "      <td>...</td>\n",
       "      <td>0</td>\n",
       "      <td>0</td>\n",
       "      <td>0</td>\n",
       "      <td>0</td>\n",
       "      <td>0</td>\n",
       "      <td>1</td>\n",
       "      <td>0</td>\n",
       "      <td>0</td>\n",
       "      <td>0</td>\n",
       "      <td>0</td>\n",
       "    </tr>\n",
       "    <tr>\n",
       "      <th>186</th>\n",
       "      <td>4500</td>\n",
       "      <td>11.31</td>\n",
       "      <td>38500.0</td>\n",
       "      <td>4.64</td>\n",
       "      <td>0.0</td>\n",
       "      <td>0.0</td>\n",
       "      <td>25.0</td>\n",
       "      <td>0.0</td>\n",
       "      <td>0.0</td>\n",
       "      <td>4472</td>\n",
       "      <td>...</td>\n",
       "      <td>0</td>\n",
       "      <td>0</td>\n",
       "      <td>0</td>\n",
       "      <td>0</td>\n",
       "      <td>0</td>\n",
       "      <td>1</td>\n",
       "      <td>0</td>\n",
       "      <td>0</td>\n",
       "      <td>0</td>\n",
       "      <td>0</td>\n",
       "    </tr>\n",
       "    <tr>\n",
       "      <th>269</th>\n",
       "      <td>20000</td>\n",
       "      <td>17.97</td>\n",
       "      <td>57000.0</td>\n",
       "      <td>22.18</td>\n",
       "      <td>0.0</td>\n",
       "      <td>0.0</td>\n",
       "      <td>0.0</td>\n",
       "      <td>0.0</td>\n",
       "      <td>0.0</td>\n",
       "      <td>33356</td>\n",
       "      <td>...</td>\n",
       "      <td>0</td>\n",
       "      <td>0</td>\n",
       "      <td>0</td>\n",
       "      <td>0</td>\n",
       "      <td>0</td>\n",
       "      <td>1</td>\n",
       "      <td>0</td>\n",
       "      <td>0</td>\n",
       "      <td>0</td>\n",
       "      <td>0</td>\n",
       "    </tr>\n",
       "  </tbody>\n",
       "</table>\n",
       "<p>5 rows × 154 columns</p>\n",
       "</div>"
      ],
      "text/plain": [
       "     loan_amnt  int_rate  annual_inc    dti  delinq_2yrs  inq_last_6mths  \\\n",
       "100      30000     22.35    100000.0  30.46          0.0             0.0   \n",
       "152      40000     16.14     45000.0  50.53          0.0             0.0   \n",
       "170      20000      7.56    100000.0  18.92          0.0             0.0   \n",
       "186       4500     11.31     38500.0   4.64          0.0             0.0   \n",
       "269      20000     17.97     57000.0  22.18          0.0             0.0   \n",
       "\n",
       "     mths_since_last_delinq  mths_since_last_record  pub_rec  revol_bal  ...  \\\n",
       "100                    51.0                    84.0      1.0      15603  ...   \n",
       "152                     0.0                     0.0      0.0      34971  ...   \n",
       "170                    48.0                     0.0      0.0      25416  ...   \n",
       "186                    25.0                     0.0      0.0       4472  ...   \n",
       "269                     0.0                     0.0      0.0      33356  ...   \n",
       "\n",
       "     hardship_loan_status_Current  hardship_loan_status_In Grace Period  \\\n",
       "100                             0                                     0   \n",
       "152                             0                                     0   \n",
       "170                             0                                     0   \n",
       "186                             0                                     0   \n",
       "269                             0                                     0   \n",
       "\n",
       "     hardship_loan_status_Issued  hardship_loan_status_Late (16-30 days)  \\\n",
       "100                            0                                       0   \n",
       "152                            0                                       0   \n",
       "170                            0                                       0   \n",
       "186                            0                                       0   \n",
       "269                            0                                       0   \n",
       "\n",
       "     hardship_loan_status_Late (31-120 days)  debt_settlement_flag_N  \\\n",
       "100                                        0                       1   \n",
       "152                                        0                       1   \n",
       "170                                        0                       1   \n",
       "186                                        0                       1   \n",
       "269                                        0                       1   \n",
       "\n",
       "     debt_settlement_flag_Y  settlement_status_ACTIVE  \\\n",
       "100                       0                         0   \n",
       "152                       0                         0   \n",
       "170                       0                         0   \n",
       "186                       0                         0   \n",
       "269                       0                         0   \n",
       "\n",
       "     settlement_status_BROKEN  settlement_status_COMPLETE  \n",
       "100                         0                           0  \n",
       "152                         0                           0  \n",
       "170                         0                           0  \n",
       "186                         0                           0  \n",
       "269                         0                           0  \n",
       "\n",
       "[5 rows x 154 columns]"
      ]
     },
     "execution_count": 10,
     "metadata": {},
     "output_type": "execute_result"
    }
   ],
   "source": [
    "df_sel = pd.concat([df_sel.drop(cols_obj, axis=1), pd.get_dummies(df_sel[cols_obj])], axis=1)\n",
    "df_sel.head(5)"
   ]
  },
  {
   "cell_type": "code",
   "execution_count": 11,
   "metadata": {},
   "outputs": [
    {
     "data": {
      "text/html": [
       "<div>\n",
       "<style scoped>\n",
       "    .dataframe tbody tr th:only-of-type {\n",
       "        vertical-align: middle;\n",
       "    }\n",
       "\n",
       "    .dataframe tbody tr th {\n",
       "        vertical-align: top;\n",
       "    }\n",
       "\n",
       "    .dataframe thead th {\n",
       "        text-align: right;\n",
       "    }\n",
       "</style>\n",
       "<table border=\"1\" class=\"dataframe\">\n",
       "  <thead>\n",
       "    <tr style=\"text-align: right;\">\n",
       "      <th></th>\n",
       "      <th>loan_amnt</th>\n",
       "      <th>int_rate</th>\n",
       "      <th>annual_inc</th>\n",
       "      <th>dti</th>\n",
       "      <th>delinq_2yrs</th>\n",
       "      <th>inq_last_6mths</th>\n",
       "      <th>mths_since_last_delinq</th>\n",
       "      <th>mths_since_last_record</th>\n",
       "      <th>pub_rec</th>\n",
       "      <th>revol_bal</th>\n",
       "      <th>...</th>\n",
       "      <th>hardship_loan_status_Current</th>\n",
       "      <th>hardship_loan_status_In Grace Period</th>\n",
       "      <th>hardship_loan_status_Issued</th>\n",
       "      <th>hardship_loan_status_Late (16-30 days)</th>\n",
       "      <th>hardship_loan_status_Late (31-120 days)</th>\n",
       "      <th>debt_settlement_flag_N</th>\n",
       "      <th>debt_settlement_flag_Y</th>\n",
       "      <th>settlement_status_ACTIVE</th>\n",
       "      <th>settlement_status_BROKEN</th>\n",
       "      <th>settlement_status_COMPLETE</th>\n",
       "    </tr>\n",
       "  </thead>\n",
       "  <tbody>\n",
       "    <tr>\n",
       "      <th>1962921</th>\n",
       "      <td>8000</td>\n",
       "      <td>6.03</td>\n",
       "      <td>56000.0</td>\n",
       "      <td>16.35</td>\n",
       "      <td>0.0</td>\n",
       "      <td>0.0</td>\n",
       "      <td>0.0</td>\n",
       "      <td>0.0</td>\n",
       "      <td>0.0</td>\n",
       "      <td>8503</td>\n",
       "      <td>...</td>\n",
       "      <td>0</td>\n",
       "      <td>0</td>\n",
       "      <td>0</td>\n",
       "      <td>0</td>\n",
       "      <td>0</td>\n",
       "      <td>1</td>\n",
       "      <td>0</td>\n",
       "      <td>0</td>\n",
       "      <td>0</td>\n",
       "      <td>0</td>\n",
       "    </tr>\n",
       "    <tr>\n",
       "      <th>1057207</th>\n",
       "      <td>15000</td>\n",
       "      <td>9.99</td>\n",
       "      <td>63000.0</td>\n",
       "      <td>15.82</td>\n",
       "      <td>0.0</td>\n",
       "      <td>0.0</td>\n",
       "      <td>0.0</td>\n",
       "      <td>0.0</td>\n",
       "      <td>0.0</td>\n",
       "      <td>15028</td>\n",
       "      <td>...</td>\n",
       "      <td>0</td>\n",
       "      <td>0</td>\n",
       "      <td>0</td>\n",
       "      <td>0</td>\n",
       "      <td>0</td>\n",
       "      <td>1</td>\n",
       "      <td>0</td>\n",
       "      <td>0</td>\n",
       "      <td>0</td>\n",
       "      <td>0</td>\n",
       "    </tr>\n",
       "    <tr>\n",
       "      <th>571245</th>\n",
       "      <td>17500</td>\n",
       "      <td>8.59</td>\n",
       "      <td>75400.0</td>\n",
       "      <td>23.08</td>\n",
       "      <td>0.0</td>\n",
       "      <td>0.0</td>\n",
       "      <td>0.0</td>\n",
       "      <td>0.0</td>\n",
       "      <td>0.0</td>\n",
       "      <td>16263</td>\n",
       "      <td>...</td>\n",
       "      <td>0</td>\n",
       "      <td>0</td>\n",
       "      <td>0</td>\n",
       "      <td>0</td>\n",
       "      <td>0</td>\n",
       "      <td>1</td>\n",
       "      <td>0</td>\n",
       "      <td>0</td>\n",
       "      <td>0</td>\n",
       "      <td>0</td>\n",
       "    </tr>\n",
       "    <tr>\n",
       "      <th>1055629</th>\n",
       "      <td>10800</td>\n",
       "      <td>7.26</td>\n",
       "      <td>59000.0</td>\n",
       "      <td>14.83</td>\n",
       "      <td>0.0</td>\n",
       "      <td>0.0</td>\n",
       "      <td>0.0</td>\n",
       "      <td>0.0</td>\n",
       "      <td>0.0</td>\n",
       "      <td>8689</td>\n",
       "      <td>...</td>\n",
       "      <td>0</td>\n",
       "      <td>0</td>\n",
       "      <td>0</td>\n",
       "      <td>0</td>\n",
       "      <td>0</td>\n",
       "      <td>1</td>\n",
       "      <td>0</td>\n",
       "      <td>0</td>\n",
       "      <td>0</td>\n",
       "      <td>0</td>\n",
       "    </tr>\n",
       "    <tr>\n",
       "      <th>1421426</th>\n",
       "      <td>4400</td>\n",
       "      <td>11.39</td>\n",
       "      <td>70000.0</td>\n",
       "      <td>16.97</td>\n",
       "      <td>0.0</td>\n",
       "      <td>2.0</td>\n",
       "      <td>0.0</td>\n",
       "      <td>0.0</td>\n",
       "      <td>0.0</td>\n",
       "      <td>4915</td>\n",
       "      <td>...</td>\n",
       "      <td>0</td>\n",
       "      <td>0</td>\n",
       "      <td>0</td>\n",
       "      <td>0</td>\n",
       "      <td>0</td>\n",
       "      <td>1</td>\n",
       "      <td>0</td>\n",
       "      <td>0</td>\n",
       "      <td>0</td>\n",
       "      <td>0</td>\n",
       "    </tr>\n",
       "  </tbody>\n",
       "</table>\n",
       "<p>5 rows × 154 columns</p>\n",
       "</div>"
      ],
      "text/plain": [
       "         loan_amnt  int_rate  annual_inc    dti  delinq_2yrs  inq_last_6mths  \\\n",
       "1962921       8000      6.03     56000.0  16.35          0.0             0.0   \n",
       "1057207      15000      9.99     63000.0  15.82          0.0             0.0   \n",
       "571245       17500      8.59     75400.0  23.08          0.0             0.0   \n",
       "1055629      10800      7.26     59000.0  14.83          0.0             0.0   \n",
       "1421426       4400     11.39     70000.0  16.97          0.0             2.0   \n",
       "\n",
       "         mths_since_last_delinq  mths_since_last_record  pub_rec  revol_bal  \\\n",
       "1962921                     0.0                     0.0      0.0       8503   \n",
       "1057207                     0.0                     0.0      0.0      15028   \n",
       "571245                      0.0                     0.0      0.0      16263   \n",
       "1055629                     0.0                     0.0      0.0       8689   \n",
       "1421426                     0.0                     0.0      0.0       4915   \n",
       "\n",
       "         ...  hardship_loan_status_Current  \\\n",
       "1962921  ...                             0   \n",
       "1057207  ...                             0   \n",
       "571245   ...                             0   \n",
       "1055629  ...                             0   \n",
       "1421426  ...                             0   \n",
       "\n",
       "         hardship_loan_status_In Grace Period  hardship_loan_status_Issued  \\\n",
       "1962921                                     0                            0   \n",
       "1057207                                     0                            0   \n",
       "571245                                      0                            0   \n",
       "1055629                                     0                            0   \n",
       "1421426                                     0                            0   \n",
       "\n",
       "         hardship_loan_status_Late (16-30 days)  \\\n",
       "1962921                                       0   \n",
       "1057207                                       0   \n",
       "571245                                        0   \n",
       "1055629                                       0   \n",
       "1421426                                       0   \n",
       "\n",
       "         hardship_loan_status_Late (31-120 days)  debt_settlement_flag_N  \\\n",
       "1962921                                        0                       1   \n",
       "1057207                                        0                       1   \n",
       "571245                                         0                       1   \n",
       "1055629                                        0                       1   \n",
       "1421426                                        0                       1   \n",
       "\n",
       "         debt_settlement_flag_Y  settlement_status_ACTIVE  \\\n",
       "1962921                       0                         0   \n",
       "1057207                       0                         0   \n",
       "571245                        0                         0   \n",
       "1055629                       0                         0   \n",
       "1421426                       0                         0   \n",
       "\n",
       "         settlement_status_BROKEN  settlement_status_COMPLETE  \n",
       "1962921                         0                           0  \n",
       "1057207                         0                           0  \n",
       "571245                          0                           0  \n",
       "1055629                         0                           0  \n",
       "1421426                         0                           0  \n",
       "\n",
       "[5 rows x 154 columns]"
      ]
     },
     "execution_count": 11,
     "metadata": {},
     "output_type": "execute_result"
    }
   ],
   "source": [
    "# Using a sample size of 200,000 for modeling, due to Memory error when using all observations.\n",
    "df_sample = df_sel.sample(200000)\n",
    "df_sample.head()"
   ]
  },
  {
   "cell_type": "code",
   "execution_count": 12,
   "metadata": {},
   "outputs": [],
   "source": [
    "y = df_sample['loan_status']\n",
    "X = df_sample.drop(['loan_status'], axis=1)"
   ]
  },
  {
   "cell_type": "code",
   "execution_count": 13,
   "metadata": {},
   "outputs": [],
   "source": [
    "from sklearn.model_selection import train_test_split\n",
    "\n",
    "y = y.ravel()\n",
    "X_train, X_test, y_train, y_test = train_test_split(X, y, test_size=0.25, random_state=1)"
   ]
  },
  {
   "cell_type": "code",
   "execution_count": 14,
   "metadata": {},
   "outputs": [
    {
     "data": {
      "text/plain": [
       "array([[ 0.48006384, -0.9295428 ,  0.73055069, ..., -0.10419501,\n",
       "        -0.06170719, -0.10304479],\n",
       "       [-0.7035698 ,  0.41887033, -0.59385697, ..., -0.10419501,\n",
       "        -0.06170719, -0.10304479],\n",
       "       [ 1.31277093, -0.21641948,  0.21370868, ..., -0.10419501,\n",
       "        -0.06170719, -0.10304479],\n",
       "       ...,\n",
       "       [-0.70951771,  0.21271668,  0.01989292, ..., -0.10419501,\n",
       "        -0.06170719, -0.10304479],\n",
       "       [-1.04260054, -0.05444162, -0.7553701 , ..., -0.10419501,\n",
       "        -0.06170719, -0.10304479],\n",
       "       [-1.24780336,  0.48197858, -1.46602787, ..., -0.10419501,\n",
       "        -0.06170719, -0.10304479]])"
      ]
     },
     "execution_count": 14,
     "metadata": {},
     "output_type": "execute_result"
    }
   ],
   "source": [
    "from sklearn import preprocessing as ppg\n",
    "\n",
    "scaler = ppg.StandardScaler().fit(X_train)\n",
    "X_train_scaled=scaler.transform(X_train)\n",
    "X_train_scaled"
   ]
  },
  {
   "cell_type": "code",
   "execution_count": 15,
   "metadata": {},
   "outputs": [
    {
     "data": {
      "text/plain": [
       "array([[ 2.14547802,  0.28003216, -0.10931758, ..., -0.10419501,\n",
       "        -0.06170719, -0.10304479],\n",
       "       [-1.06639217, -0.74863246,  0.18140605, ..., -0.10419501,\n",
       "        -0.06170719, -0.10304479],\n",
       "       [-1.06639217, -0.21641948,  0.34291918, ..., -0.10419501,\n",
       "        -0.06170719, -0.10304479],\n",
       "       ...,\n",
       "       [ 1.31277093,  0.98263744,  1.57041896, ..., -0.10419501,\n",
       "        -0.06170719, -0.10304479],\n",
       "       [-1.06639217, -0.17434731,  1.66732684, ..., -0.10419501,\n",
       "        -0.06170719, -0.10304479],\n",
       "       [ 0.12318938, -1.06838097,  0.69824806, ..., -0.10419501,\n",
       "        -0.06170719, -0.10304479]])"
      ]
     },
     "execution_count": 15,
     "metadata": {},
     "output_type": "execute_result"
    }
   ],
   "source": [
    "X_test_scaled = scaler.transform(X_test)\n",
    "X_test_scaled"
   ]
  },
  {
   "cell_type": "markdown",
   "metadata": {},
   "source": [
    "# Feature importance with Forest of Trees"
   ]
  },
  {
   "cell_type": "code",
   "execution_count": 16,
   "metadata": {},
   "outputs": [
    {
     "data": {
      "text/plain": [
       "(150000, 153)"
      ]
     },
     "execution_count": 16,
     "metadata": {},
     "output_type": "execute_result"
    }
   ],
   "source": [
    "X_train_scaled.shape"
   ]
  },
  {
   "cell_type": "code",
   "execution_count": 17,
   "metadata": {},
   "outputs": [
    {
     "name": "stdout",
     "output_type": "stream",
     "text": [
      "Feature ranking:\n",
      "1. feature 14 (0.169179)\n",
      "2. feature 15 (0.140403)\n",
      "3. feature 12 (0.118719)\n",
      "4. feature 0 (0.052262)\n",
      "5. feature 148 (0.026682)\n",
      "6. feature 13 (0.026347)\n",
      "7. feature 149 (0.022912)\n",
      "8. feature 1 (0.021204)\n",
      "9. feature 68 (0.017002)\n",
      "10. feature 67 (0.014904)\n",
      "11. feature 2 (0.011376)\n",
      "12. feature 3 (0.011197)\n",
      "13. feature 9 (0.011000)\n",
      "14. feature 65 (0.010906)\n",
      "15. feature 10 (0.010751)\n",
      "16. feature 48 (0.010350)\n",
      "17. feature 33 (0.010219)\n",
      "18. feature 29 (0.010038)\n",
      "19. feature 152 (0.009810)\n",
      "20. feature 47 (0.009806)\n",
      "21. feature 37 (0.009603)\n",
      "22. feature 22 (0.009571)\n",
      "23. feature 32 (0.009568)\n",
      "24. feature 49 (0.009298)\n",
      "25. feature 44 (0.009227)\n",
      "26. feature 66 (0.008942)\n",
      "27. feature 69 (0.008541)\n",
      "28. feature 5 (0.008327)\n",
      "29. feature 43 (0.008305)\n",
      "30. feature 6 (0.007971)\n",
      "31. feature 28 (0.007913)\n",
      "32. feature 150 (0.007610)\n",
      "33. feature 38 (0.006479)\n",
      "34. feature 26 (0.006045)\n",
      "35. feature 17 (0.005893)\n",
      "36. feature 27 (0.005827)\n",
      "37. feature 21 (0.005461)\n",
      "38. feature 36 (0.005436)\n",
      "39. feature 73 (0.005359)\n",
      "40. feature 4 (0.005294)\n",
      "41. feature 39 (0.005266)\n",
      "42. feature 31 (0.005009)\n",
      "43. feature 24 (0.004769)\n",
      "44. feature 7 (0.004765)\n",
      "45. feature 25 (0.004758)\n",
      "46. feature 23 (0.004719)\n",
      "47. feature 70 (0.004690)\n",
      "48. feature 117 (0.004217)\n",
      "49. feature 30 (0.004135)\n",
      "50. feature 8 (0.004061)\n",
      "51. feature 119 (0.003968)\n",
      "52. feature 118 (0.003921)\n",
      "53. feature 116 (0.003871)\n",
      "54. feature 121 (0.003868)\n",
      "55. feature 122 (0.003861)\n",
      "56. feature 72 (0.003812)\n",
      "57. feature 45 (0.003502)\n",
      "58. feature 112 (0.003494)\n",
      "59. feature 71 (0.002894)\n",
      "60. feature 64 (0.002573)\n",
      "61. feature 42 (0.002501)\n",
      "62. feature 115 (0.002360)\n",
      "63. feature 74 (0.002256)\n",
      "64. feature 46 (0.001999)\n",
      "65. feature 151 (0.001923)\n",
      "66. feature 130 (0.001591)\n",
      "67. feature 59 (0.001428)\n",
      "68. feature 16 (0.001344)\n",
      "69. feature 88 (0.001314)\n",
      "70. feature 89 (0.001308)\n",
      "71. feature 86 (0.001303)\n",
      "72. feature 90 (0.001270)\n",
      "73. feature 87 (0.001248)\n",
      "74. feature 83 (0.001130)\n",
      "75. feature 82 (0.001124)\n",
      "76. feature 84 (0.001062)\n",
      "77. feature 92 (0.001012)\n",
      "78. feature 85 (0.001002)\n",
      "79. feature 93 (0.001002)\n",
      "80. feature 91 (0.000993)\n",
      "81. feature 94 (0.000990)\n",
      "82. feature 80 (0.000974)\n",
      "83. feature 76 (0.000965)\n",
      "84. feature 81 (0.000951)\n",
      "85. feature 95 (0.000872)\n",
      "86. feature 34 (0.000764)\n",
      "87. feature 75 (0.000746)\n",
      "88. feature 97 (0.000745)\n",
      "89. feature 98 (0.000701)\n",
      "90. feature 96 (0.000662)\n",
      "91. feature 79 (0.000662)\n",
      "92. feature 141 (0.000640)\n",
      "93. feature 99 (0.000617)\n",
      "94. feature 100 (0.000610)\n",
      "95. feature 61 (0.000599)\n",
      "96. feature 77 (0.000592)\n",
      "97. feature 78 (0.000494)\n",
      "98. feature 19 (0.000492)\n",
      "99. feature 146 (0.000463)\n",
      "100. feature 124 (0.000445)\n",
      "101. feature 102 (0.000445)\n",
      "102. feature 18 (0.000425)\n",
      "103. feature 123 (0.000423)\n",
      "104. feature 54 (0.000401)\n",
      "105. feature 101 (0.000396)\n",
      "106. feature 142 (0.000347)\n",
      "107. feature 63 (0.000340)\n",
      "108. feature 35 (0.000340)\n",
      "109. feature 20 (0.000336)\n",
      "110. feature 125 (0.000331)\n",
      "111. feature 50 (0.000330)\n",
      "112. feature 60 (0.000328)\n",
      "113. feature 53 (0.000325)\n",
      "114. feature 104 (0.000322)\n",
      "115. feature 103 (0.000296)\n",
      "116. feature 51 (0.000292)\n",
      "117. feature 55 (0.000283)\n",
      "118. feature 105 (0.000249)\n",
      "119. feature 41 (0.000221)\n",
      "120. feature 52 (0.000201)\n",
      "121. feature 58 (0.000199)\n",
      "122. feature 126 (0.000179)\n",
      "123. feature 62 (0.000161)\n",
      "124. feature 106 (0.000160)\n",
      "125. feature 127 (0.000145)\n",
      "126. feature 144 (0.000135)\n",
      "127. feature 107 (0.000132)\n",
      "128. feature 139 (0.000122)\n",
      "129. feature 137 (0.000121)\n",
      "130. feature 143 (0.000107)\n",
      "131. feature 108 (0.000106)\n",
      "132. feature 57 (0.000096)\n",
      "133. feature 110 (0.000095)\n",
      "134. feature 133 (0.000084)\n",
      "135. feature 109 (0.000081)\n",
      "136. feature 40 (0.000081)\n",
      "137. feature 56 (0.000057)\n",
      "138. feature 136 (0.000048)\n",
      "139. feature 135 (0.000046)\n",
      "140. feature 111 (0.000043)\n",
      "141. feature 114 (0.000042)\n",
      "142. feature 138 (0.000027)\n",
      "143. feature 147 (0.000024)\n",
      "144. feature 132 (0.000017)\n",
      "145. feature 131 (0.000007)\n",
      "146. feature 134 (0.000004)\n",
      "147. feature 113 (0.000002)\n",
      "148. feature 145 (0.000002)\n",
      "149. feature 129 (0.000000)\n",
      "150. feature 128 (0.000000)\n",
      "151. feature 11 (0.000000)\n",
      "152. feature 140 (0.000000)\n",
      "153. feature 120 (0.000000)\n"
     ]
    }
   ],
   "source": [
    "from sklearn.ensemble import ExtraTreesClassifier\n",
    "\n",
    "forest = ExtraTreesClassifier(n_estimators=250,\n",
    "                              random_state=0)\n",
    "\n",
    "forest = forest.fit(X_train_scaled, y_train)\n",
    "importances = forest.feature_importances_\n",
    "std = np.std([tree.feature_importances_ for tree in forest.estimators_],\n",
    "             axis=0)\n",
    "indices = np.argsort(importances)[::-1]\n",
    "\n",
    "# Print the feature ranking\n",
    "print(\"Feature ranking:\")\n",
    "\n",
    "for f in range(X_train_scaled.shape[1]):\n",
    "    print(\"%d. feature %d (%f)\" % (f + 1, indices[f], importances[indices[f]]))\n"
   ]
  },
  {
   "cell_type": "code",
   "execution_count": 388,
   "metadata": {},
   "outputs": [
    {
     "data": {
      "image/png": "[encoded data removed]",
      "text/plain": [
       "<Figure size 1440x1440 with 1 Axes>"
      ]
     },
     "metadata": {
      "needs_background": "light"
     },
     "output_type": "display_data"
    }
   ],
   "source": [
    "# Plot the impurity-based feature importances of the forest\n",
    "plt.figure(figsize=(20,20))\n",
    "plt.title(\"Feature importances\")\n",
    "plt.bar(range(X_train_scaled.shape[1]), importances[indices],\n",
    "        color=\"r\", yerr=std[indices], align=\"center\")\n",
    "plt.xticks(range(X_train_scaled.shape[1]), indices)\n",
    "plt.xlim([-1, X_train_scaled.shape[1]])\n",
    "plt.show()"
   ]
  },
  {
   "cell_type": "markdown",
   "metadata": {},
   "source": [
    "# Feature selection using SelectFromModel"
   ]
  },
  {
   "cell_type": "code",
   "execution_count": 389,
   "metadata": {},
   "outputs": [
    {
     "data": {
      "text/plain": [
       "(150000, 63)"
      ]
     },
     "execution_count": 389,
     "metadata": {},
     "output_type": "execute_result"
    }
   ],
   "source": [
    "# Feature selection based on the above feature importance\n",
    "from sklearn.feature_selection import SelectFromModel\n",
    "\n",
    "model = SelectFromModel(forest, prefit=True, threshold=0.002)\n",
    "X_train_new = model.transform(X_train_scaled)\n",
    "X_train_new.shape"
   ]
  },
  {
   "cell_type": "code",
   "execution_count": 390,
   "metadata": {},
   "outputs": [
    {
     "data": {
      "text/plain": [
       "(50000, 63)"
      ]
     },
     "execution_count": 390,
     "metadata": {},
     "output_type": "execute_result"
    }
   ],
   "source": [
    "X_test_new = model.transform(X_test_scaled)\n",
    "X_test_new.shape"
   ]
  },
  {
   "cell_type": "code",
   "execution_count": 391,
   "metadata": {},
   "outputs": [
    {
     "data": {
      "text/plain": [
       "array([  0,   1,   2,   3,   4,   5,   6,   7,   8,   9,  10,  12,  13,\n",
       "        14,  15,  17,  21,  22,  23,  24,  25,  26,  27,  28,  29,  30,\n",
       "        31,  32,  33,  36,  37,  38,  39,  42,  43,  44,  45,  47,  48,\n",
       "        49,  64,  65,  66,  67,  68,  69,  70,  71,  72,  73,  74, 112,\n",
       "       115, 116, 117, 118, 119, 121, 122, 148, 149, 150, 152], dtype=int64)"
      ]
     },
     "execution_count": 391,
     "metadata": {},
     "output_type": "execute_result"
    }
   ],
   "source": [
    "model.get_support(True)"
   ]
  },
  {
   "cell_type": "code",
   "execution_count": 392,
   "metadata": {},
   "outputs": [],
   "source": [
    "X_cols = X_test.columns"
   ]
  },
  {
   "cell_type": "code",
   "execution_count": 393,
   "metadata": {},
   "outputs": [
    {
     "name": "stdout",
     "output_type": "stream",
     "text": [
      "Features selected by scikit learn SelecFromModel are:\n",
      "\n",
      "loan_amnt\n",
      "int_rate\n",
      "annual_inc\n",
      "dti\n",
      "delinq_2yrs\n",
      "inq_last_6mths\n",
      "mths_since_last_delinq\n",
      "mths_since_last_record\n",
      "pub_rec\n",
      "revol_bal\n",
      "revol_util\n",
      "total_pymnt\n",
      "total_rec_int\n",
      "recoveries\n",
      "last_pymnt_amnt\n",
      "mths_since_last_major_derog\n",
      "tot_coll_amt\n",
      "tot_cur_bal\n",
      "open_acc_6m\n",
      "open_act_il\n",
      "total_bal_il\n",
      "il_util\n",
      "max_bal_bc\n",
      "all_util\n",
      "total_rev_hi_lim\n",
      "inq_fi\n",
      "inq_last_12m\n",
      "avg_cur_bal\n",
      "bc_util\n",
      "mths_since_recent_bc_dlq\n",
      "mths_since_recent_inq\n",
      "mths_since_recent_revol_delinq\n",
      "num_accts_ever_120_pd\n",
      "num_tl_90g_dpd_24m\n",
      "pct_tl_nvr_dlq\n",
      "percent_bc_gt_75\n",
      "pub_rec_bankruptcies\n",
      "total_bal_ex_mort\n",
      "total_bc_limit\n",
      "total_il_high_credit_limit\n",
      "settlement_amount\n",
      "settlement_percentage\n",
      "settlement_term\n",
      "term_ 36 months\n",
      "term_ 60 months\n",
      "grade_A\n",
      "grade_B\n",
      "grade_C\n",
      "grade_D\n",
      "grade_E\n",
      "grade_F\n",
      "home_ownership_MORTGAGE\n",
      "home_ownership_OWN\n",
      "home_ownership_RENT\n",
      "verification_status_Not Verified\n",
      "verification_status_Source Verified\n",
      "verification_status_Verified\n",
      "initial_list_status_f\n",
      "initial_list_status_w\n",
      "debt_settlement_flag_N\n",
      "debt_settlement_flag_Y\n",
      "settlement_status_ACTIVE\n",
      "settlement_status_COMPLETE\n"
     ]
    }
   ],
   "source": [
    "print(\"Features selected by scikit learn SelecFromModel are:\\n\")\n",
    "for i in model.get_support(True):\n",
    "    print(X_cols[i])"
   ]
  },
  {
   "cell_type": "code",
   "execution_count": 394,
   "metadata": {},
   "outputs": [
    {
     "name": "stdout",
     "output_type": "stream",
     "text": [
      "Tuned Logistic Regression Parameters: {'C': 100}\n",
      "Best score is 0.9956666666666667\n",
      "Accuracy score is 0.99666\n"
     ]
    }
   ],
   "source": [
    "# Using K fold cross validation and Grid search to get the most accurate prediction\n",
    "\n",
    "from sklearn.linear_model import LogisticRegression\n",
    "from sklearn.metrics import accuracy_score\n",
    "from sklearn.model_selection import GridSearchCV\n",
    "\n",
    "#the grid of parameters to search over\n",
    "Cs = [0.001, 0.1, 1, 10, 100]\n",
    "\n",
    "param_grid = {'C': Cs}\n",
    "logreg = LogisticRegression()\n",
    "logreg_cv = GridSearchCV(logreg, param_grid, cv=5)\n",
    "logreg_cv.fit(X_train_new, y_train)\n",
    "print(\"Tuned Logistic Regression Parameters: {}\".format(logreg_cv.best_params_)) \n",
    "print(\"Best score is {}\".format(logreg_cv.best_score_))\n",
    "# Print the accuracy from the testing data.\n",
    "print(\"Accuracy score is {}\".format(accuracy_score(logreg_cv.predict(X_test_new), y_test)))\n"
   ]
  },
  {
   "cell_type": "markdown",
   "metadata": {},
   "source": [
    "# Review the results"
   ]
  },
  {
   "cell_type": "code",
   "execution_count": 395,
   "metadata": {},
   "outputs": [
    {
     "data": {
      "text/plain": [
       "array([[39837,    30],\n",
       "       [  137,  9996]], dtype=int64)"
      ]
     },
     "execution_count": 395,
     "metadata": {},
     "output_type": "execute_result"
    }
   ],
   "source": [
    "from sklearn.metrics import confusion_matrix\n",
    "\n",
    "y_pred_log = logreg_cv.predict(X_test_new)\n",
    "pl_log = confusion_matrix(y_test,y_pred_log)\n",
    "pl_log"
   ]
  },
  {
   "cell_type": "code",
   "execution_count": 396,
   "metadata": {},
   "outputs": [
    {
     "data": {
      "text/plain": [
       "array([39974, 10026], dtype=int64)"
      ]
     },
     "execution_count": 396,
     "metadata": {},
     "output_type": "execute_result"
    }
   ],
   "source": [
    "np.bincount(y_pred_log)"
   ]
  },
  {
   "cell_type": "markdown",
   "metadata": {},
   "source": [
    "0 - Fully paid <br>\n",
    "1 - Charges off"
   ]
  },
  {
   "cell_type": "code",
   "execution_count": 397,
   "metadata": {},
   "outputs": [
    {
     "data": {
      "text/plain": [
       "array([39867, 10133], dtype=int64)"
      ]
     },
     "execution_count": 397,
     "metadata": {},
     "output_type": "execute_result"
    }
   ],
   "source": [
    "np.bincount(y_test)"
   ]
  },
  {
   "cell_type": "code",
   "execution_count": null,
   "metadata": {},
   "outputs": [],
   "source": []
  },
  {
   "cell_type": "code",
   "execution_count": 398,
   "metadata": {},
   "outputs": [
    {
     "name": "stdout",
     "output_type": "stream",
     "text": [
      "              precision    recall  f1-score   support\n",
      "\n",
      "           0       1.00      1.00      1.00     39867\n",
      "           1       1.00      0.99      0.99     10133\n",
      "\n",
      "    accuracy                           1.00     50000\n",
      "   macro avg       1.00      0.99      0.99     50000\n",
      "weighted avg       1.00      1.00      1.00     50000\n",
      "\n"
     ]
    }
   ],
   "source": [
    "from sklearn.metrics import classification_report\n",
    "\n",
    "cl_rep_log = classification_report(y_test,y_pred_log)\n",
    "print(cl_rep_log)"
   ]
  },
  {
   "cell_type": "code",
   "execution_count": 399,
   "metadata": {},
   "outputs": [
    {
     "name": "stdout",
     "output_type": "stream",
     "text": [
      "Test Data Set Logistic Regression: Accuracy=0.997\n",
      "Test Data Set Logistic Regression: f1-score=0.997\n",
      "Test Data Set Logistic Regression: roc_auc_score=0.993\n"
     ]
    }
   ],
   "source": [
    "from sklearn.metrics import accuracy_score, f1_score, roc_auc_score\n",
    "\n",
    "ac = accuracy_score(y_test, y_pred_log)\n",
    "print('Test Data Set Logistic Regression: Accuracy=%.3f' % (ac))\n",
    "\n",
    "f1 = f1_score(y_test, y_pred_log, average='weighted')\n",
    "print('Test Data Set Logistic Regression: f1-score=%.3f' % (f1))\n",
    "\n",
    "roc_auc = roc_auc_score(y_test, y_pred_log)\n",
    "print('Test Data Set Logistic Regression: roc_auc_score=%.3f' % (roc_auc))"
   ]
  },
  {
   "cell_type": "markdown",
   "metadata": {},
   "source": [
    "# Logistic Regression Metrics for various Threshold values in feature selection\n",
    "\n",
    "| Threshold | # Features selected | Accuracy| f1_score|roc_auc_score|\n",
    "| --- | --- | --- | --- | --- |\n",
    "|  0 | 153 | 0.996 | 0.996 | 0.990 |\n",
    "|  0.001 | 79 | 0.996 | 0.996 | 0.990 |\n",
    "|  0.002 | 63 | 0.997 | 0.997 | 0.993 |\n",
    "|  0.003 | 58 | 0.996 | 0.996 | 0.990 |\n",
    "|  0.004 | 50 | 0.996 | 0.996 | 0.991 |\n",
    "| 0.005 | 42 | 0.996 | 0.996 | 0.992 |\n",
    "| .01 | 18 | 0.996 | 0.996 | 0.991 |\n",
    "| .015 | 9 | 0.996 | 0.996 | 0.991 |\n",
    "| .02 | 8 | 0.996 | 0.996 | 0.991 |\n",
    "| .025 | 6 | 0.996 | 0.996 | 0.991 |\n",
    "| .03 | 4 | 0.991 | 0.991 | 0.981 |"
   ]
  },
  {
   "cell_type": "markdown",
   "metadata": {},
   "source": [
    "Threshold value of 0.002 for feature selection produces the best results for the Logistic Regression model using 63 features."
   ]
  },
  {
   "cell_type": "markdown",
   "metadata": {},
   "source": [
    "# Figures for data story"
   ]
  },
  {
   "cell_type": "markdown",
   "metadata": {},
   "source": [
    "ROC curve"
   ]
  },
  {
   "cell_type": "code",
   "execution_count": 400,
   "metadata": {},
   "outputs": [
    {
     "data": {
      "text/plain": [
       "<sklearn.metrics._plot.roc_curve.RocCurveDisplay at 0x23d9973beb8>"
      ]
     },
     "execution_count": 400,
     "metadata": {},
     "output_type": "execute_result"
    },
    {
     "data": {
      "image/png": "[encoded data removed]",
      "text/plain": [
       "<Figure size 432x288 with 1 Axes>"
      ]
     },
     "metadata": {
      "needs_background": "light"
     },
     "output_type": "display_data"
    }
   ],
   "source": [
    "from sklearn.metrics import plot_roc_curve\n",
    "\n",
    "plot_roc_curve(logreg_cv, X_test_new, y_test)"
   ]
  },
  {
   "cell_type": "markdown",
   "metadata": {},
   "source": [
    "# Finalize code"
   ]
  },
  {
   "cell_type": "markdown",
   "metadata": {},
   "source": [
    "Save the model"
   ]
  },
  {
   "cell_type": "code",
   "execution_count": 401,
   "metadata": {},
   "outputs": [
    {
     "data": {
      "text/plain": [
       "['models/model_loan.joblib']"
      ]
     },
     "execution_count": 401,
     "metadata": {},
     "output_type": "execute_result"
    }
   ],
   "source": [
    "import pickle\n",
    "s = pickle.dumps(logreg_cv)\n",
    "from joblib import dump, load\n",
    "dump(logreg_cv, 'models/model_loan.joblib') "
   ]
  },
  {
   "cell_type": "markdown",
   "metadata": {},
   "source": [
    "# Finalize documentation"
   ]
  },
  {
   "cell_type": "code",
   "execution_count": 402,
   "metadata": {},
   "outputs": [
    {
     "data": {
      "text/plain": [
       "{'mean_fit_time': array([1.01719193, 2.79483805, 2.75074272, 2.75830283, 2.6383934 ]),\n",
       " 'std_fit_time': array([0.08969137, 0.25650348, 0.21206668, 0.17418143, 0.04495134]),\n",
       " 'mean_score_time': array([0.00819502, 0.00799379, 0.00879407, 0.00879478, 0.00899506]),\n",
       " 'std_score_time': array([3.99542097e-04, 1.96951641e-06, 1.16617970e-03, 1.60074288e-03,\n",
       "        2.00057045e-03]),\n",
       " 'param_C': masked_array(data=[0.001, 0.1, 1, 10, 100],\n",
       "              mask=[False, False, False, False, False],\n",
       "        fill_value='?',\n",
       "             dtype=object),\n",
       " 'params': [{'C': 0.001}, {'C': 0.1}, {'C': 1}, {'C': 10}, {'C': 100}],\n",
       " 'split0_test_score': array([0.9509    , 0.99026667, 0.99406667, 0.99533333, 0.99606667]),\n",
       " 'split1_test_score': array([0.95316667, 0.99096667, 0.9946    , 0.9957    , 0.99563333]),\n",
       " 'split2_test_score': array([0.95243333, 0.9895    , 0.99356667, 0.99496667, 0.9948    ]),\n",
       " 'split3_test_score': array([0.95223333, 0.9904    , 0.9948    , 0.99563333, 0.99563333]),\n",
       " 'split4_test_score': array([0.9513    , 0.98936667, 0.99363333, 0.99553333, 0.9962    ]),\n",
       " 'mean_test_score': array([0.95200667, 0.9901    , 0.99413333, 0.99543333, 0.99566667]),\n",
       " 'std_test_score': array([0.00081279, 0.00059442, 0.00049755, 0.00026415, 0.00048944]),\n",
       " 'rank_test_score': array([5, 4, 3, 2, 1])}"
      ]
     },
     "execution_count": 402,
     "metadata": {},
     "output_type": "execute_result"
    }
   ],
   "source": [
    "logreg_cv.cv_results_"
   ]
  },
  {
   "cell_type": "code",
   "execution_count": 403,
   "metadata": {},
   "outputs": [
    {
     "data": {
      "text/plain": [
       "{'C': 100}"
      ]
     },
     "execution_count": 403,
     "metadata": {},
     "output_type": "execute_result"
    }
   ],
   "source": [
    "logreg_cv.best_params_"
   ]
  },
  {
   "cell_type": "code",
   "execution_count": 404,
   "metadata": {},
   "outputs": [
    {
     "data": {
      "text/plain": [
       "0.9956666666666667"
      ]
     },
     "execution_count": 404,
     "metadata": {},
     "output_type": "execute_result"
    }
   ],
   "source": [
    "logreg_cv.best_score_"
   ]
  },
  {
   "cell_type": "code",
   "execution_count": 405,
   "metadata": {},
   "outputs": [
    {
     "data": {
      "text/plain": [
       "4"
      ]
     },
     "execution_count": 405,
     "metadata": {},
     "output_type": "execute_result"
    }
   ],
   "source": [
    "logreg_cv.best_index_"
   ]
  },
  {
   "cell_type": "code",
   "execution_count": 406,
   "metadata": {},
   "outputs": [
    {
     "data": {
      "text/html": [
       "<div>\n",
       "<style scoped>\n",
       "    .dataframe tbody tr th:only-of-type {\n",
       "        vertical-align: middle;\n",
       "    }\n",
       "\n",
       "    .dataframe tbody tr th {\n",
       "        vertical-align: top;\n",
       "    }\n",
       "\n",
       "    .dataframe thead th {\n",
       "        text-align: right;\n",
       "    }\n",
       "</style>\n",
       "<table border=\"1\" class=\"dataframe\">\n",
       "  <thead>\n",
       "    <tr style=\"text-align: right;\">\n",
       "      <th></th>\n",
       "      <th>mean_fit_time</th>\n",
       "      <th>std_fit_time</th>\n",
       "      <th>mean_score_time</th>\n",
       "      <th>std_score_time</th>\n",
       "      <th>param_C</th>\n",
       "      <th>params</th>\n",
       "      <th>split0_test_score</th>\n",
       "      <th>split1_test_score</th>\n",
       "      <th>split2_test_score</th>\n",
       "      <th>split3_test_score</th>\n",
       "      <th>split4_test_score</th>\n",
       "      <th>mean_test_score</th>\n",
       "      <th>std_test_score</th>\n",
       "      <th>rank_test_score</th>\n",
       "    </tr>\n",
       "  </thead>\n",
       "  <tbody>\n",
       "    <tr>\n",
       "      <th>0</th>\n",
       "      <td>1.017192</td>\n",
       "      <td>0.089691</td>\n",
       "      <td>0.008195</td>\n",
       "      <td>0.000400</td>\n",
       "      <td>0.001</td>\n",
       "      <td>{'C': 0.001}</td>\n",
       "      <td>0.950900</td>\n",
       "      <td>0.953167</td>\n",
       "      <td>0.952433</td>\n",
       "      <td>0.952233</td>\n",
       "      <td>0.951300</td>\n",
       "      <td>0.952007</td>\n",
       "      <td>0.000813</td>\n",
       "      <td>5</td>\n",
       "    </tr>\n",
       "    <tr>\n",
       "      <th>1</th>\n",
       "      <td>2.794838</td>\n",
       "      <td>0.256503</td>\n",
       "      <td>0.007994</td>\n",
       "      <td>0.000002</td>\n",
       "      <td>0.1</td>\n",
       "      <td>{'C': 0.1}</td>\n",
       "      <td>0.990267</td>\n",
       "      <td>0.990967</td>\n",
       "      <td>0.989500</td>\n",
       "      <td>0.990400</td>\n",
       "      <td>0.989367</td>\n",
       "      <td>0.990100</td>\n",
       "      <td>0.000594</td>\n",
       "      <td>4</td>\n",
       "    </tr>\n",
       "    <tr>\n",
       "      <th>2</th>\n",
       "      <td>2.750743</td>\n",
       "      <td>0.212067</td>\n",
       "      <td>0.008794</td>\n",
       "      <td>0.001166</td>\n",
       "      <td>1</td>\n",
       "      <td>{'C': 1}</td>\n",
       "      <td>0.994067</td>\n",
       "      <td>0.994600</td>\n",
       "      <td>0.993567</td>\n",
       "      <td>0.994800</td>\n",
       "      <td>0.993633</td>\n",
       "      <td>0.994133</td>\n",
       "      <td>0.000498</td>\n",
       "      <td>3</td>\n",
       "    </tr>\n",
       "    <tr>\n",
       "      <th>3</th>\n",
       "      <td>2.758303</td>\n",
       "      <td>0.174181</td>\n",
       "      <td>0.008795</td>\n",
       "      <td>0.001601</td>\n",
       "      <td>10</td>\n",
       "      <td>{'C': 10}</td>\n",
       "      <td>0.995333</td>\n",
       "      <td>0.995700</td>\n",
       "      <td>0.994967</td>\n",
       "      <td>0.995633</td>\n",
       "      <td>0.995533</td>\n",
       "      <td>0.995433</td>\n",
       "      <td>0.000264</td>\n",
       "      <td>2</td>\n",
       "    </tr>\n",
       "    <tr>\n",
       "      <th>4</th>\n",
       "      <td>2.638393</td>\n",
       "      <td>0.044951</td>\n",
       "      <td>0.008995</td>\n",
       "      <td>0.002001</td>\n",
       "      <td>100</td>\n",
       "      <td>{'C': 100}</td>\n",
       "      <td>0.996067</td>\n",
       "      <td>0.995633</td>\n",
       "      <td>0.994800</td>\n",
       "      <td>0.995633</td>\n",
       "      <td>0.996200</td>\n",
       "      <td>0.995667</td>\n",
       "      <td>0.000489</td>\n",
       "      <td>1</td>\n",
       "    </tr>\n",
       "  </tbody>\n",
       "</table>\n",
       "</div>"
      ],
      "text/plain": [
       "   mean_fit_time  std_fit_time  mean_score_time  std_score_time param_C  \\\n",
       "0       1.017192      0.089691         0.008195        0.000400   0.001   \n",
       "1       2.794838      0.256503         0.007994        0.000002     0.1   \n",
       "2       2.750743      0.212067         0.008794        0.001166       1   \n",
       "3       2.758303      0.174181         0.008795        0.001601      10   \n",
       "4       2.638393      0.044951         0.008995        0.002001     100   \n",
       "\n",
       "         params  split0_test_score  split1_test_score  split2_test_score  \\\n",
       "0  {'C': 0.001}           0.950900           0.953167           0.952433   \n",
       "1    {'C': 0.1}           0.990267           0.990967           0.989500   \n",
       "2      {'C': 1}           0.994067           0.994600           0.993567   \n",
       "3     {'C': 10}           0.995333           0.995700           0.994967   \n",
       "4    {'C': 100}           0.996067           0.995633           0.994800   \n",
       "\n",
       "   split3_test_score  split4_test_score  mean_test_score  std_test_score  \\\n",
       "0           0.952233           0.951300         0.952007        0.000813   \n",
       "1           0.990400           0.989367         0.990100        0.000594   \n",
       "2           0.994800           0.993633         0.994133        0.000498   \n",
       "3           0.995633           0.995533         0.995433        0.000264   \n",
       "4           0.995633           0.996200         0.995667        0.000489   \n",
       "\n",
       "   rank_test_score  \n",
       "0                5  \n",
       "1                4  \n",
       "2                3  \n",
       "3                2  \n",
       "4                1  "
      ]
     },
     "execution_count": 406,
     "metadata": {},
     "output_type": "execute_result"
    }
   ],
   "source": [
    "results_df = pd.DataFrame(logreg_cv.cv_results_)\n",
    "results_df"
   ]
  },
  {
   "cell_type": "markdown",
   "metadata": {},
   "source": [
    "Save model results"
   ]
  },
  {
   "cell_type": "code",
   "execution_count": 407,
   "metadata": {},
   "outputs": [],
   "source": [
    "results_df.to_csv('models/model_results.csv')"
   ]
  },
  {
   "cell_type": "code",
   "execution_count": null,
   "metadata": {},
   "outputs": [],
   "source": []
  }
 ],
 "metadata": {
  "kernelspec": {
   "display_name": "Python 3",
   "language": "python",
   "name": "python3"
  },
  "language_info": {
   "codemirror_mode": {
    "name": "ipython",
    "version": 3
   },
   "file_extension": ".py",
   "mimetype": "text/x-python",
   "name": "python",
   "nbconvert_exporter": "python",
   "pygments_lexer": "ipython3",
   "version": "3.7.3"
  }
 },
 "nbformat": 4,
 "nbformat_minor": 2
}
