{
 "cells": [
  {
   "cell_type": "markdown",
   "metadata": {},
   "source": [
    "# Capstone 2 - Lending Club Loan Paid or Charged Off Prediction\n",
    "\n",
    "# Documentation\n",
    "\n",
    "Documentation is the sixth step in the Data Science Method.  The following will be performed in this step:\n",
    "\n",
    "1. Review the Results\n",
    "2. Finalize Code\n",
    "3. Finalize Documentation\n",
    "4. Create a Project Report\n",
    "5. Create a Slide Deck for the Executive Audience"
   ]
  },
  {
   "cell_type": "code",
   "execution_count": 1,
   "metadata": {},
   "outputs": [],
   "source": [
    "#load python packages\n",
    "import os\n",
    "import pandas as pd\n",
    "import pandas.api.types as ptypes\n",
    "import datetime\n",
    "import seaborn as sns\n",
    "import matplotlib.pyplot as plt\n",
    "import numpy as np\n",
    "%matplotlib inline\n",
    "import warnings # For handling error messages.\n",
    "#warnings.simplefilter(action=\"ignore\", category=FutureWarning)\n",
    "warnings.filterwarnings('ignore')"
   ]
  },
  {
   "cell_type": "code",
   "execution_count": null,
   "metadata": {},
   "outputs": [],
   "source": []
  },
  {
   "cell_type": "markdown",
   "metadata": {},
   "source": [
    "# Best Model - Logistic Regression"
   ]
  },
  {
   "cell_type": "code",
   "execution_count": 2,
   "metadata": {},
   "outputs": [
    {
     "data": {
      "text/html": [
       "<div>\n",
       "<style scoped>\n",
       "    .dataframe tbody tr th:only-of-type {\n",
       "        vertical-align: middle;\n",
       "    }\n",
       "\n",
       "    .dataframe tbody tr th {\n",
       "        vertical-align: top;\n",
       "    }\n",
       "\n",
       "    .dataframe thead th {\n",
       "        text-align: right;\n",
       "    }\n",
       "</style>\n",
       "<table border=\"1\" class=\"dataframe\">\n",
       "  <thead>\n",
       "    <tr style=\"text-align: right;\">\n",
       "      <th></th>\n",
       "      <th>loan_amnt</th>\n",
       "      <th>int_rate</th>\n",
       "      <th>annual_inc</th>\n",
       "      <th>dti</th>\n",
       "      <th>delinq_2yrs</th>\n",
       "      <th>inq_last_6mths</th>\n",
       "      <th>mths_since_last_delinq</th>\n",
       "      <th>mths_since_last_record</th>\n",
       "      <th>pub_rec</th>\n",
       "      <th>revol_bal</th>\n",
       "      <th>...</th>\n",
       "      <th>initial_list_status</th>\n",
       "      <th>application_type</th>\n",
       "      <th>verification_status_joint</th>\n",
       "      <th>hardship_flag</th>\n",
       "      <th>hardship_type</th>\n",
       "      <th>hardship_reason</th>\n",
       "      <th>hardship_status</th>\n",
       "      <th>hardship_loan_status</th>\n",
       "      <th>debt_settlement_flag</th>\n",
       "      <th>settlement_status</th>\n",
       "    </tr>\n",
       "  </thead>\n",
       "  <tbody>\n",
       "    <tr>\n",
       "      <th>0</th>\n",
       "      <td>2500</td>\n",
       "      <td>13.56</td>\n",
       "      <td>55000.0</td>\n",
       "      <td>18.24</td>\n",
       "      <td>0.0</td>\n",
       "      <td>1.0</td>\n",
       "      <td>0.0</td>\n",
       "      <td>45.0</td>\n",
       "      <td>1.0</td>\n",
       "      <td>4341</td>\n",
       "      <td>...</td>\n",
       "      <td>w</td>\n",
       "      <td>Individual</td>\n",
       "      <td>NaN</td>\n",
       "      <td>N</td>\n",
       "      <td>NaN</td>\n",
       "      <td>NaN</td>\n",
       "      <td>NaN</td>\n",
       "      <td>NaN</td>\n",
       "      <td>N</td>\n",
       "      <td>NaN</td>\n",
       "    </tr>\n",
       "    <tr>\n",
       "      <th>1</th>\n",
       "      <td>30000</td>\n",
       "      <td>18.94</td>\n",
       "      <td>90000.0</td>\n",
       "      <td>26.52</td>\n",
       "      <td>0.0</td>\n",
       "      <td>0.0</td>\n",
       "      <td>71.0</td>\n",
       "      <td>75.0</td>\n",
       "      <td>1.0</td>\n",
       "      <td>12315</td>\n",
       "      <td>...</td>\n",
       "      <td>w</td>\n",
       "      <td>Individual</td>\n",
       "      <td>NaN</td>\n",
       "      <td>N</td>\n",
       "      <td>NaN</td>\n",
       "      <td>NaN</td>\n",
       "      <td>NaN</td>\n",
       "      <td>NaN</td>\n",
       "      <td>N</td>\n",
       "      <td>NaN</td>\n",
       "    </tr>\n",
       "    <tr>\n",
       "      <th>2</th>\n",
       "      <td>5000</td>\n",
       "      <td>17.97</td>\n",
       "      <td>59280.0</td>\n",
       "      <td>10.51</td>\n",
       "      <td>0.0</td>\n",
       "      <td>0.0</td>\n",
       "      <td>0.0</td>\n",
       "      <td>0.0</td>\n",
       "      <td>0.0</td>\n",
       "      <td>4599</td>\n",
       "      <td>...</td>\n",
       "      <td>w</td>\n",
       "      <td>Individual</td>\n",
       "      <td>NaN</td>\n",
       "      <td>N</td>\n",
       "      <td>NaN</td>\n",
       "      <td>NaN</td>\n",
       "      <td>NaN</td>\n",
       "      <td>NaN</td>\n",
       "      <td>N</td>\n",
       "      <td>NaN</td>\n",
       "    </tr>\n",
       "    <tr>\n",
       "      <th>3</th>\n",
       "      <td>4000</td>\n",
       "      <td>18.94</td>\n",
       "      <td>92000.0</td>\n",
       "      <td>16.74</td>\n",
       "      <td>0.0</td>\n",
       "      <td>0.0</td>\n",
       "      <td>0.0</td>\n",
       "      <td>0.0</td>\n",
       "      <td>0.0</td>\n",
       "      <td>5468</td>\n",
       "      <td>...</td>\n",
       "      <td>w</td>\n",
       "      <td>Individual</td>\n",
       "      <td>NaN</td>\n",
       "      <td>N</td>\n",
       "      <td>NaN</td>\n",
       "      <td>NaN</td>\n",
       "      <td>NaN</td>\n",
       "      <td>NaN</td>\n",
       "      <td>N</td>\n",
       "      <td>NaN</td>\n",
       "    </tr>\n",
       "    <tr>\n",
       "      <th>4</th>\n",
       "      <td>30000</td>\n",
       "      <td>16.14</td>\n",
       "      <td>57250.0</td>\n",
       "      <td>26.35</td>\n",
       "      <td>0.0</td>\n",
       "      <td>0.0</td>\n",
       "      <td>0.0</td>\n",
       "      <td>0.0</td>\n",
       "      <td>0.0</td>\n",
       "      <td>829</td>\n",
       "      <td>...</td>\n",
       "      <td>w</td>\n",
       "      <td>Individual</td>\n",
       "      <td>NaN</td>\n",
       "      <td>N</td>\n",
       "      <td>NaN</td>\n",
       "      <td>NaN</td>\n",
       "      <td>NaN</td>\n",
       "      <td>NaN</td>\n",
       "      <td>N</td>\n",
       "      <td>NaN</td>\n",
       "    </tr>\n",
       "  </tbody>\n",
       "</table>\n",
       "<p>5 rows × 87 columns</p>\n",
       "</div>"
      ],
      "text/plain": [
       "   loan_amnt  int_rate  annual_inc    dti  delinq_2yrs  inq_last_6mths  \\\n",
       "0       2500     13.56     55000.0  18.24          0.0             1.0   \n",
       "1      30000     18.94     90000.0  26.52          0.0             0.0   \n",
       "2       5000     17.97     59280.0  10.51          0.0             0.0   \n",
       "3       4000     18.94     92000.0  16.74          0.0             0.0   \n",
       "4      30000     16.14     57250.0  26.35          0.0             0.0   \n",
       "\n",
       "   mths_since_last_delinq  mths_since_last_record  pub_rec  revol_bal  ...  \\\n",
       "0                     0.0                    45.0      1.0       4341  ...   \n",
       "1                    71.0                    75.0      1.0      12315  ...   \n",
       "2                     0.0                     0.0      0.0       4599  ...   \n",
       "3                     0.0                     0.0      0.0       5468  ...   \n",
       "4                     0.0                     0.0      0.0        829  ...   \n",
       "\n",
       "   initial_list_status  application_type  verification_status_joint  \\\n",
       "0                    w        Individual                        NaN   \n",
       "1                    w        Individual                        NaN   \n",
       "2                    w        Individual                        NaN   \n",
       "3                    w        Individual                        NaN   \n",
       "4                    w        Individual                        NaN   \n",
       "\n",
       "   hardship_flag  hardship_type  hardship_reason  hardship_status  \\\n",
       "0              N            NaN              NaN              NaN   \n",
       "1              N            NaN              NaN              NaN   \n",
       "2              N            NaN              NaN              NaN   \n",
       "3              N            NaN              NaN              NaN   \n",
       "4              N            NaN              NaN              NaN   \n",
       "\n",
       "   hardship_loan_status  debt_settlement_flag  settlement_status  \n",
       "0                   NaN                     N                NaN  \n",
       "1                   NaN                     N                NaN  \n",
       "2                   NaN                     N                NaN  \n",
       "3                   NaN                     N                NaN  \n",
       "4                   NaN                     N                NaN  \n",
       "\n",
       "[5 rows x 87 columns]"
      ]
     },
     "execution_count": 2,
     "metadata": {},
     "output_type": "execute_result"
    }
   ],
   "source": [
    "# Read data output created in the EDA step\n",
    "df = pd.read_csv(\"../EDA/data/Cap2_step3_output.csv\", dtype={'verification_status_joint':object,'hardship_type':object, 'hardship_reason':object, 'hardship_status':object, 'hardship_loan_status':object, 'settlement_status':object}, index_col=\"Unnamed: 0\")\n",
    "df.head(5)"
   ]
  },
  {
   "cell_type": "code",
   "execution_count": 3,
   "metadata": {},
   "outputs": [
    {
     "data": {
      "text/plain": [
       "(2150627, 87)"
      ]
     },
     "execution_count": 3,
     "metadata": {},
     "output_type": "execute_result"
    }
   ],
   "source": [
    "df.shape"
   ]
  },
  {
   "cell_type": "code",
   "execution_count": 4,
   "metadata": {},
   "outputs": [],
   "source": [
    "# Drop unwanted columns\n",
    "df_sel = df.drop(['total_pymnt','acc_now_delinq', 'delinq_amnt', 'tot_coll_amt', 'title', 'zip_code', 'addr_state', 'recoveries', 'debt_settlement_flag', 'settlement_amount', 'settlement_percentage', 'settlement_term', 'settlement_status'], axis=1)"
   ]
  },
  {
   "cell_type": "code",
   "execution_count": 5,
   "metadata": {},
   "outputs": [
    {
     "data": {
      "text/plain": [
       "(1250411, 74)"
      ]
     },
     "execution_count": 5,
     "metadata": {},
     "output_type": "execute_result"
    }
   ],
   "source": [
    "# Drop irrelevant loan_status\n",
    "\n",
    "df_sel.reset_index()\n",
    "df_sel = df_sel[~(df_sel['loan_status'] == 'In Grace Period')]\n",
    "df_sel = df_sel[~(df_sel['loan_status'] == 'Current')]\n",
    "df_sel = df_sel[~(df_sel['loan_status'] == 'Late (31-120 days)')]\n",
    "df_sel = df_sel[~(df_sel['loan_status'] == 'Default')]\n",
    "df_sel = df_sel[~(df_sel['loan_status'] == 'Late (16-30 days)')]\n",
    "df_sel.shape"
   ]
  },
  {
   "cell_type": "code",
   "execution_count": 6,
   "metadata": {},
   "outputs": [],
   "source": [
    "# Loan status:\n",
    "# Setting '%Fully Paid' to 0\n",
    "# Setting '%Charges Off' to 1\n",
    "\n",
    "df_sel['loan_status'] = df_sel['loan_status'].replace(['Fully Paid', 'Does not meet the credit policy. Status:Fully Paid'], '0')\n",
    "df_sel['loan_status'] = df_sel['loan_status'].replace(['Charged Off', 'Does not meet the credit policy. Status:Charged Off'], '1')"
   ]
  },
  {
   "cell_type": "code",
   "execution_count": 7,
   "metadata": {},
   "outputs": [],
   "source": [
    "df_sel['loan_status'] = pd.to_numeric(df_sel['loan_status'])"
   ]
  },
  {
   "cell_type": "code",
   "execution_count": 8,
   "metadata": {},
   "outputs": [],
   "source": [
    "# Create a list of object columns.  \n",
    "cols_obj = []\n",
    "for col in df_sel.columns:\n",
    "    if df_sel[col].dtype == object:\n",
    "        cols_obj.append(col)"
   ]
  },
  {
   "cell_type": "code",
   "execution_count": 9,
   "metadata": {},
   "outputs": [
    {
     "data": {
      "text/html": [
       "<div>\n",
       "<style scoped>\n",
       "    .dataframe tbody tr th:only-of-type {\n",
       "        vertical-align: middle;\n",
       "    }\n",
       "\n",
       "    .dataframe tbody tr th {\n",
       "        vertical-align: top;\n",
       "    }\n",
       "\n",
       "    .dataframe thead th {\n",
       "        text-align: right;\n",
       "    }\n",
       "</style>\n",
       "<table border=\"1\" class=\"dataframe\">\n",
       "  <thead>\n",
       "    <tr style=\"text-align: right;\">\n",
       "      <th></th>\n",
       "      <th>loan_amnt</th>\n",
       "      <th>int_rate</th>\n",
       "      <th>annual_inc</th>\n",
       "      <th>dti</th>\n",
       "      <th>delinq_2yrs</th>\n",
       "      <th>inq_last_6mths</th>\n",
       "      <th>mths_since_last_delinq</th>\n",
       "      <th>mths_since_last_record</th>\n",
       "      <th>pub_rec</th>\n",
       "      <th>revol_bal</th>\n",
       "      <th>...</th>\n",
       "      <th>hardship_reason_REDUCED_HOURS</th>\n",
       "      <th>hardship_reason_UNEMPLOYMENT</th>\n",
       "      <th>hardship_status_ACTIVE</th>\n",
       "      <th>hardship_status_BROKEN</th>\n",
       "      <th>hardship_status_COMPLETED</th>\n",
       "      <th>hardship_loan_status_Current</th>\n",
       "      <th>hardship_loan_status_In Grace Period</th>\n",
       "      <th>hardship_loan_status_Issued</th>\n",
       "      <th>hardship_loan_status_Late (16-30 days)</th>\n",
       "      <th>hardship_loan_status_Late (31-120 days)</th>\n",
       "    </tr>\n",
       "  </thead>\n",
       "  <tbody>\n",
       "    <tr>\n",
       "      <th>100</th>\n",
       "      <td>30000</td>\n",
       "      <td>22.35</td>\n",
       "      <td>100000.0</td>\n",
       "      <td>30.46</td>\n",
       "      <td>0.0</td>\n",
       "      <td>0.0</td>\n",
       "      <td>51.0</td>\n",
       "      <td>84.0</td>\n",
       "      <td>1.0</td>\n",
       "      <td>15603</td>\n",
       "      <td>...</td>\n",
       "      <td>0</td>\n",
       "      <td>0</td>\n",
       "      <td>0</td>\n",
       "      <td>0</td>\n",
       "      <td>0</td>\n",
       "      <td>0</td>\n",
       "      <td>0</td>\n",
       "      <td>0</td>\n",
       "      <td>0</td>\n",
       "      <td>0</td>\n",
       "    </tr>\n",
       "    <tr>\n",
       "      <th>152</th>\n",
       "      <td>40000</td>\n",
       "      <td>16.14</td>\n",
       "      <td>45000.0</td>\n",
       "      <td>50.53</td>\n",
       "      <td>0.0</td>\n",
       "      <td>0.0</td>\n",
       "      <td>0.0</td>\n",
       "      <td>0.0</td>\n",
       "      <td>0.0</td>\n",
       "      <td>34971</td>\n",
       "      <td>...</td>\n",
       "      <td>0</td>\n",
       "      <td>0</td>\n",
       "      <td>0</td>\n",
       "      <td>0</td>\n",
       "      <td>0</td>\n",
       "      <td>0</td>\n",
       "      <td>0</td>\n",
       "      <td>0</td>\n",
       "      <td>0</td>\n",
       "      <td>0</td>\n",
       "    </tr>\n",
       "    <tr>\n",
       "      <th>170</th>\n",
       "      <td>20000</td>\n",
       "      <td>7.56</td>\n",
       "      <td>100000.0</td>\n",
       "      <td>18.92</td>\n",
       "      <td>0.0</td>\n",
       "      <td>0.0</td>\n",
       "      <td>48.0</td>\n",
       "      <td>0.0</td>\n",
       "      <td>0.0</td>\n",
       "      <td>25416</td>\n",
       "      <td>...</td>\n",
       "      <td>0</td>\n",
       "      <td>0</td>\n",
       "      <td>0</td>\n",
       "      <td>0</td>\n",
       "      <td>0</td>\n",
       "      <td>0</td>\n",
       "      <td>0</td>\n",
       "      <td>0</td>\n",
       "      <td>0</td>\n",
       "      <td>0</td>\n",
       "    </tr>\n",
       "    <tr>\n",
       "      <th>186</th>\n",
       "      <td>4500</td>\n",
       "      <td>11.31</td>\n",
       "      <td>38500.0</td>\n",
       "      <td>4.64</td>\n",
       "      <td>0.0</td>\n",
       "      <td>0.0</td>\n",
       "      <td>25.0</td>\n",
       "      <td>0.0</td>\n",
       "      <td>0.0</td>\n",
       "      <td>4472</td>\n",
       "      <td>...</td>\n",
       "      <td>0</td>\n",
       "      <td>0</td>\n",
       "      <td>0</td>\n",
       "      <td>0</td>\n",
       "      <td>0</td>\n",
       "      <td>0</td>\n",
       "      <td>0</td>\n",
       "      <td>0</td>\n",
       "      <td>0</td>\n",
       "      <td>0</td>\n",
       "    </tr>\n",
       "    <tr>\n",
       "      <th>269</th>\n",
       "      <td>20000</td>\n",
       "      <td>17.97</td>\n",
       "      <td>57000.0</td>\n",
       "      <td>22.18</td>\n",
       "      <td>0.0</td>\n",
       "      <td>0.0</td>\n",
       "      <td>0.0</td>\n",
       "      <td>0.0</td>\n",
       "      <td>0.0</td>\n",
       "      <td>33356</td>\n",
       "      <td>...</td>\n",
       "      <td>0</td>\n",
       "      <td>0</td>\n",
       "      <td>0</td>\n",
       "      <td>0</td>\n",
       "      <td>0</td>\n",
       "      <td>0</td>\n",
       "      <td>0</td>\n",
       "      <td>0</td>\n",
       "      <td>0</td>\n",
       "      <td>0</td>\n",
       "    </tr>\n",
       "  </tbody>\n",
       "</table>\n",
       "<p>5 rows × 141 columns</p>\n",
       "</div>"
      ],
      "text/plain": [
       "     loan_amnt  int_rate  annual_inc    dti  delinq_2yrs  inq_last_6mths  \\\n",
       "100      30000     22.35    100000.0  30.46          0.0             0.0   \n",
       "152      40000     16.14     45000.0  50.53          0.0             0.0   \n",
       "170      20000      7.56    100000.0  18.92          0.0             0.0   \n",
       "186       4500     11.31     38500.0   4.64          0.0             0.0   \n",
       "269      20000     17.97     57000.0  22.18          0.0             0.0   \n",
       "\n",
       "     mths_since_last_delinq  mths_since_last_record  pub_rec  revol_bal  ...  \\\n",
       "100                    51.0                    84.0      1.0      15603  ...   \n",
       "152                     0.0                     0.0      0.0      34971  ...   \n",
       "170                    48.0                     0.0      0.0      25416  ...   \n",
       "186                    25.0                     0.0      0.0       4472  ...   \n",
       "269                     0.0                     0.0      0.0      33356  ...   \n",
       "\n",
       "     hardship_reason_REDUCED_HOURS  hardship_reason_UNEMPLOYMENT  \\\n",
       "100                              0                             0   \n",
       "152                              0                             0   \n",
       "170                              0                             0   \n",
       "186                              0                             0   \n",
       "269                              0                             0   \n",
       "\n",
       "     hardship_status_ACTIVE  hardship_status_BROKEN  \\\n",
       "100                       0                       0   \n",
       "152                       0                       0   \n",
       "170                       0                       0   \n",
       "186                       0                       0   \n",
       "269                       0                       0   \n",
       "\n",
       "     hardship_status_COMPLETED  hardship_loan_status_Current  \\\n",
       "100                          0                             0   \n",
       "152                          0                             0   \n",
       "170                          0                             0   \n",
       "186                          0                             0   \n",
       "269                          0                             0   \n",
       "\n",
       "     hardship_loan_status_In Grace Period  hardship_loan_status_Issued  \\\n",
       "100                                     0                            0   \n",
       "152                                     0                            0   \n",
       "170                                     0                            0   \n",
       "186                                     0                            0   \n",
       "269                                     0                            0   \n",
       "\n",
       "     hardship_loan_status_Late (16-30 days)  \\\n",
       "100                                       0   \n",
       "152                                       0   \n",
       "170                                       0   \n",
       "186                                       0   \n",
       "269                                       0   \n",
       "\n",
       "     hardship_loan_status_Late (31-120 days)  \n",
       "100                                        0  \n",
       "152                                        0  \n",
       "170                                        0  \n",
       "186                                        0  \n",
       "269                                        0  \n",
       "\n",
       "[5 rows x 141 columns]"
      ]
     },
     "execution_count": 9,
     "metadata": {},
     "output_type": "execute_result"
    }
   ],
   "source": [
    "df_sel = pd.concat([df_sel.drop(cols_obj, axis=1), pd.get_dummies(df_sel[cols_obj])], axis=1)\n",
    "df_sel.head(5)"
   ]
  },
  {
   "cell_type": "code",
   "execution_count": 10,
   "metadata": {},
   "outputs": [
    {
     "data": {
      "text/html": [
       "<div>\n",
       "<style scoped>\n",
       "    .dataframe tbody tr th:only-of-type {\n",
       "        vertical-align: middle;\n",
       "    }\n",
       "\n",
       "    .dataframe tbody tr th {\n",
       "        vertical-align: top;\n",
       "    }\n",
       "\n",
       "    .dataframe thead th {\n",
       "        text-align: right;\n",
       "    }\n",
       "</style>\n",
       "<table border=\"1\" class=\"dataframe\">\n",
       "  <thead>\n",
       "    <tr style=\"text-align: right;\">\n",
       "      <th></th>\n",
       "      <th>loan_amnt</th>\n",
       "      <th>int_rate</th>\n",
       "      <th>annual_inc</th>\n",
       "      <th>dti</th>\n",
       "      <th>delinq_2yrs</th>\n",
       "      <th>inq_last_6mths</th>\n",
       "      <th>mths_since_last_delinq</th>\n",
       "      <th>mths_since_last_record</th>\n",
       "      <th>pub_rec</th>\n",
       "      <th>revol_bal</th>\n",
       "      <th>...</th>\n",
       "      <th>hardship_reason_REDUCED_HOURS</th>\n",
       "      <th>hardship_reason_UNEMPLOYMENT</th>\n",
       "      <th>hardship_status_ACTIVE</th>\n",
       "      <th>hardship_status_BROKEN</th>\n",
       "      <th>hardship_status_COMPLETED</th>\n",
       "      <th>hardship_loan_status_Current</th>\n",
       "      <th>hardship_loan_status_In Grace Period</th>\n",
       "      <th>hardship_loan_status_Issued</th>\n",
       "      <th>hardship_loan_status_Late (16-30 days)</th>\n",
       "      <th>hardship_loan_status_Late (31-120 days)</th>\n",
       "    </tr>\n",
       "  </thead>\n",
       "  <tbody>\n",
       "    <tr>\n",
       "      <th>703792</th>\n",
       "      <td>17500</td>\n",
       "      <td>11.99</td>\n",
       "      <td>35000.0</td>\n",
       "      <td>24.79</td>\n",
       "      <td>1.0</td>\n",
       "      <td>0.0</td>\n",
       "      <td>6.0</td>\n",
       "      <td>0.0</td>\n",
       "      <td>0.0</td>\n",
       "      <td>13078</td>\n",
       "      <td>...</td>\n",
       "      <td>0</td>\n",
       "      <td>0</td>\n",
       "      <td>0</td>\n",
       "      <td>0</td>\n",
       "      <td>0</td>\n",
       "      <td>0</td>\n",
       "      <td>0</td>\n",
       "      <td>0</td>\n",
       "      <td>0</td>\n",
       "      <td>0</td>\n",
       "    </tr>\n",
       "    <tr>\n",
       "      <th>1481584</th>\n",
       "      <td>30000</td>\n",
       "      <td>9.44</td>\n",
       "      <td>125000.0</td>\n",
       "      <td>25.64</td>\n",
       "      <td>2.0</td>\n",
       "      <td>1.0</td>\n",
       "      <td>16.0</td>\n",
       "      <td>84.0</td>\n",
       "      <td>1.0</td>\n",
       "      <td>8586</td>\n",
       "      <td>...</td>\n",
       "      <td>0</td>\n",
       "      <td>0</td>\n",
       "      <td>0</td>\n",
       "      <td>0</td>\n",
       "      <td>0</td>\n",
       "      <td>0</td>\n",
       "      <td>0</td>\n",
       "      <td>0</td>\n",
       "      <td>0</td>\n",
       "      <td>0</td>\n",
       "    </tr>\n",
       "    <tr>\n",
       "      <th>1667980</th>\n",
       "      <td>3000</td>\n",
       "      <td>18.99</td>\n",
       "      <td>27000.0</td>\n",
       "      <td>6.98</td>\n",
       "      <td>0.0</td>\n",
       "      <td>0.0</td>\n",
       "      <td>0.0</td>\n",
       "      <td>0.0</td>\n",
       "      <td>0.0</td>\n",
       "      <td>1034</td>\n",
       "      <td>...</td>\n",
       "      <td>0</td>\n",
       "      <td>0</td>\n",
       "      <td>0</td>\n",
       "      <td>0</td>\n",
       "      <td>0</td>\n",
       "      <td>0</td>\n",
       "      <td>0</td>\n",
       "      <td>0</td>\n",
       "      <td>0</td>\n",
       "      <td>0</td>\n",
       "    </tr>\n",
       "    <tr>\n",
       "      <th>651880</th>\n",
       "      <td>7200</td>\n",
       "      <td>11.47</td>\n",
       "      <td>43680.0</td>\n",
       "      <td>29.12</td>\n",
       "      <td>0.0</td>\n",
       "      <td>1.0</td>\n",
       "      <td>34.0</td>\n",
       "      <td>0.0</td>\n",
       "      <td>0.0</td>\n",
       "      <td>9404</td>\n",
       "      <td>...</td>\n",
       "      <td>0</td>\n",
       "      <td>0</td>\n",
       "      <td>0</td>\n",
       "      <td>0</td>\n",
       "      <td>0</td>\n",
       "      <td>0</td>\n",
       "      <td>0</td>\n",
       "      <td>0</td>\n",
       "      <td>0</td>\n",
       "      <td>0</td>\n",
       "    </tr>\n",
       "    <tr>\n",
       "      <th>603647</th>\n",
       "      <td>3000</td>\n",
       "      <td>8.99</td>\n",
       "      <td>93000.0</td>\n",
       "      <td>23.35</td>\n",
       "      <td>0.0</td>\n",
       "      <td>1.0</td>\n",
       "      <td>0.0</td>\n",
       "      <td>0.0</td>\n",
       "      <td>0.0</td>\n",
       "      <td>5945</td>\n",
       "      <td>...</td>\n",
       "      <td>0</td>\n",
       "      <td>0</td>\n",
       "      <td>0</td>\n",
       "      <td>0</td>\n",
       "      <td>0</td>\n",
       "      <td>0</td>\n",
       "      <td>0</td>\n",
       "      <td>0</td>\n",
       "      <td>0</td>\n",
       "      <td>0</td>\n",
       "    </tr>\n",
       "  </tbody>\n",
       "</table>\n",
       "<p>5 rows × 141 columns</p>\n",
       "</div>"
      ],
      "text/plain": [
       "         loan_amnt  int_rate  annual_inc    dti  delinq_2yrs  inq_last_6mths  \\\n",
       "703792       17500     11.99     35000.0  24.79          1.0             0.0   \n",
       "1481584      30000      9.44    125000.0  25.64          2.0             1.0   \n",
       "1667980       3000     18.99     27000.0   6.98          0.0             0.0   \n",
       "651880        7200     11.47     43680.0  29.12          0.0             1.0   \n",
       "603647        3000      8.99     93000.0  23.35          0.0             1.0   \n",
       "\n",
       "         mths_since_last_delinq  mths_since_last_record  pub_rec  revol_bal  \\\n",
       "703792                      6.0                     0.0      0.0      13078   \n",
       "1481584                    16.0                    84.0      1.0       8586   \n",
       "1667980                     0.0                     0.0      0.0       1034   \n",
       "651880                     34.0                     0.0      0.0       9404   \n",
       "603647                      0.0                     0.0      0.0       5945   \n",
       "\n",
       "         ...  hardship_reason_REDUCED_HOURS  hardship_reason_UNEMPLOYMENT  \\\n",
       "703792   ...                              0                             0   \n",
       "1481584  ...                              0                             0   \n",
       "1667980  ...                              0                             0   \n",
       "651880   ...                              0                             0   \n",
       "603647   ...                              0                             0   \n",
       "\n",
       "         hardship_status_ACTIVE  hardship_status_BROKEN  \\\n",
       "703792                        0                       0   \n",
       "1481584                       0                       0   \n",
       "1667980                       0                       0   \n",
       "651880                        0                       0   \n",
       "603647                        0                       0   \n",
       "\n",
       "         hardship_status_COMPLETED  hardship_loan_status_Current  \\\n",
       "703792                           0                             0   \n",
       "1481584                          0                             0   \n",
       "1667980                          0                             0   \n",
       "651880                           0                             0   \n",
       "603647                           0                             0   \n",
       "\n",
       "         hardship_loan_status_In Grace Period  hardship_loan_status_Issued  \\\n",
       "703792                                      0                            0   \n",
       "1481584                                     0                            0   \n",
       "1667980                                     0                            0   \n",
       "651880                                      0                            0   \n",
       "603647                                      0                            0   \n",
       "\n",
       "         hardship_loan_status_Late (16-30 days)  \\\n",
       "703792                                        0   \n",
       "1481584                                       0   \n",
       "1667980                                       0   \n",
       "651880                                        0   \n",
       "603647                                        0   \n",
       "\n",
       "         hardship_loan_status_Late (31-120 days)  \n",
       "703792                                         0  \n",
       "1481584                                        0  \n",
       "1667980                                        0  \n",
       "651880                                         0  \n",
       "603647                                         0  \n",
       "\n",
       "[5 rows x 141 columns]"
      ]
     },
     "execution_count": 10,
     "metadata": {},
     "output_type": "execute_result"
    }
   ],
   "source": [
    "# Using a sample size of 200,000 for modeling, due to Memory error when using all observations.\n",
    "df_sample = df_sel.sample(200000)\n",
    "df_sample.head()"
   ]
  },
  {
   "cell_type": "code",
   "execution_count": 11,
   "metadata": {},
   "outputs": [],
   "source": [
    "y = df_sample['loan_status']\n",
    "X = df_sample.drop(['loan_status'], axis=1)"
   ]
  },
  {
   "cell_type": "code",
   "execution_count": 12,
   "metadata": {},
   "outputs": [],
   "source": [
    "from sklearn.model_selection import train_test_split\n",
    "\n",
    "y = y.ravel()\n",
    "X_train, X_test, y_train, y_test = train_test_split(X, y, test_size=0.25, random_state=1)"
   ]
  },
  {
   "cell_type": "code",
   "execution_count": 13,
   "metadata": {},
   "outputs": [
    {
     "data": {
      "text/plain": [
       "array([[ 0.11778192, -0.04515408, -0.11000308, ..., -0.00365151,\n",
       "        -0.04332262, -0.01183299],\n",
       "       [-0.12019216, -0.71828089,  1.02171368, ..., -0.00365151,\n",
       "        -0.04332262, -0.01183299],\n",
       "       [-0.59614032,  0.00548869, -0.75669838, ..., -0.00365151,\n",
       "        -0.04332262, -0.01183299],\n",
       "       ...,\n",
       "       [ 0.71271712, -1.23103894,  0.69836603, ..., -0.00365151,\n",
       "        -0.04332262, -0.01183299],\n",
       "       [ 3.0924579 ,  0.87485624, -1.24171985, ..., -0.00365151,\n",
       "        -0.04332262, -0.01183299],\n",
       "       [-1.19107551,  1.14495101, -1.4680632 , ..., -0.00365151,\n",
       "        -0.04332262, -0.01183299]])"
      ]
     },
     "execution_count": 13,
     "metadata": {},
     "output_type": "execute_result"
    }
   ],
   "source": [
    "from sklearn import preprocessing as ppg\n",
    "\n",
    "scaler = ppg.StandardScaler().fit(X_train)\n",
    "X_train_scaled=scaler.transform(X_train)\n",
    "X_train_scaled"
   ]
  },
  {
   "cell_type": "code",
   "execution_count": 14,
   "metadata": {},
   "outputs": [
    {
     "data": {
      "text/plain": [
       "array([[-0.47715328, -0.80901586,  2.06690261, ..., -0.00365151,\n",
       "        -0.04332262, -0.01183299],\n",
       "       [-0.62588708,  0.41907131, -0.14233785, ..., -0.00365151,\n",
       "        -0.04332262, -0.01183299],\n",
       "       [-0.2391792 ,  1.59651571, -1.17705032, ..., -0.00365151,\n",
       "        -0.04332262, -0.01183299],\n",
       "       ...,\n",
       "       [-0.2391792 ,  0.27769358,  0.21334456, ..., -0.00365151,\n",
       "        -0.04332262, -0.01183299],\n",
       "       [-0.2391792 ,  0.53934789, -0.59502455, ..., -0.00365151,\n",
       "        -0.04332262, -0.01183299],\n",
       "       [ 0.47474304,  0.3494375 ,  0.76303556, ..., -0.00365151,\n",
       "        -0.04332262, -0.01183299]])"
      ]
     },
     "execution_count": 14,
     "metadata": {},
     "output_type": "execute_result"
    }
   ],
   "source": [
    "X_test_scaled = scaler.transform(X_test)\n",
    "X_test_scaled"
   ]
  },
  {
   "cell_type": "markdown",
   "metadata": {},
   "source": [
    "# Feature importance with Forest of Trees"
   ]
  },
  {
   "cell_type": "code",
   "execution_count": 15,
   "metadata": {},
   "outputs": [
    {
     "data": {
      "text/plain": [
       "(150000, 140)"
      ]
     },
     "execution_count": 15,
     "metadata": {},
     "output_type": "execute_result"
    }
   ],
   "source": [
    "X_train_scaled.shape"
   ]
  },
  {
   "cell_type": "code",
   "execution_count": 16,
   "metadata": {},
   "outputs": [
    {
     "name": "stdout",
     "output_type": "stream",
     "text": [
      "Feature ranking:\n",
      "1. feature 13 (0.202832)\n",
      "2. feature 0 (0.035845)\n",
      "3. feature 12 (0.034623)\n",
      "4. feature 1 (0.031623)\n",
      "5. feature 3 (0.025366)\n",
      "6. feature 2 (0.024655)\n",
      "7. feature 10 (0.024247)\n",
      "8. feature 9 (0.023988)\n",
      "9. feature 29 (0.022889)\n",
      "10. feature 43 (0.022666)\n",
      "11. feature 25 (0.022109)\n",
      "12. feature 42 (0.021963)\n",
      "13. feature 28 (0.021743)\n",
      "14. feature 32 (0.021698)\n",
      "15. feature 18 (0.021670)\n",
      "16. feature 44 (0.021049)\n",
      "17. feature 39 (0.020268)\n",
      "18. feature 5 (0.017995)\n",
      "19. feature 6 (0.017421)\n",
      "20. feature 38 (0.017336)\n",
      "21. feature 60 (0.014160)\n",
      "22. feature 59 (0.013984)\n",
      "23. feature 33 (0.013894)\n",
      "24. feature 24 (0.013122)\n",
      "25. feature 15 (0.012214)\n",
      "26. feature 31 (0.011694)\n",
      "27. feature 4 (0.011392)\n",
      "28. feature 34 (0.010800)\n",
      "29. feature 23 (0.010740)\n",
      "30. feature 22 (0.010577)\n",
      "31. feature 7 (0.009522)\n",
      "32. feature 61 (0.009345)\n",
      "33. feature 27 (0.009305)\n",
      "34. feature 21 (0.008953)\n",
      "35. feature 20 (0.008772)\n",
      "36. feature 19 (0.008657)\n",
      "37. feature 26 (0.007876)\n",
      "38. feature 8 (0.007857)\n",
      "39. feature 110 (0.007264)\n",
      "40. feature 111 (0.007172)\n",
      "41. feature 114 (0.007066)\n",
      "42. feature 113 (0.007051)\n",
      "43. feature 40 (0.006809)\n",
      "44. feature 62 (0.006376)\n",
      "45. feature 109 (0.006296)\n",
      "46. feature 65 (0.006180)\n",
      "47. feature 108 (0.005857)\n",
      "48. feature 64 (0.005663)\n",
      "49. feature 104 (0.005596)\n",
      "50. feature 37 (0.005084)\n",
      "51. feature 107 (0.004350)\n",
      "52. feature 63 (0.003967)\n",
      "53. feature 41 (0.003571)\n",
      "54. feature 66 (0.003222)\n",
      "55. feature 14 (0.002720)\n",
      "56. feature 79 (0.002426)\n",
      "57. feature 80 (0.002405)\n",
      "58. feature 81 (0.002327)\n",
      "59. feature 82 (0.002279)\n",
      "60. feature 78 (0.002128)\n",
      "61. feature 84 (0.001837)\n",
      "62. feature 75 (0.001792)\n",
      "63. feature 86 (0.001742)\n",
      "64. feature 83 (0.001724)\n",
      "65. feature 85 (0.001713)\n",
      "66. feature 76 (0.001690)\n",
      "67. feature 77 (0.001653)\n",
      "68. feature 122 (0.001641)\n",
      "69. feature 54 (0.001539)\n",
      "70. feature 73 (0.001533)\n",
      "71. feature 87 (0.001519)\n",
      "72. feature 74 (0.001509)\n",
      "73. feature 30 (0.001390)\n",
      "74. feature 89 (0.001256)\n",
      "75. feature 88 (0.001212)\n",
      "76. feature 67 (0.001170)\n",
      "77. feature 68 (0.001167)\n",
      "78. feature 72 (0.001116)\n",
      "79. feature 133 (0.001043)\n",
      "80. feature 71 (0.001041)\n",
      "81. feature 91 (0.001041)\n",
      "82. feature 90 (0.001041)\n",
      "83. feature 92 (0.000952)\n",
      "84. feature 69 (0.000858)\n",
      "85. feature 36 (0.000810)\n",
      "86. feature 17 (0.000775)\n",
      "87. feature 70 (0.000750)\n",
      "88. feature 16 (0.000713)\n",
      "89. feature 56 (0.000700)\n",
      "90. feature 115 (0.000643)\n",
      "91. feature 116 (0.000629)\n",
      "92. feature 93 (0.000583)\n",
      "93. feature 49 (0.000570)\n",
      "94. feature 117 (0.000542)\n",
      "95. feature 94 (0.000527)\n",
      "96. feature 48 (0.000504)\n",
      "97. feature 45 (0.000504)\n",
      "98. feature 50 (0.000485)\n",
      "99. feature 46 (0.000473)\n",
      "100. feature 96 (0.000468)\n",
      "101. feature 95 (0.000461)\n",
      "102. feature 138 (0.000444)\n",
      "103. feature 55 (0.000437)\n",
      "104. feature 97 (0.000400)\n",
      "105. feature 134 (0.000374)\n",
      "106. feature 53 (0.000349)\n",
      "107. feature 47 (0.000317)\n",
      "108. feature 58 (0.000313)\n",
      "109. feature 118 (0.000300)\n",
      "110. feature 99 (0.000300)\n",
      "111. feature 98 (0.000287)\n",
      "112. feature 136 (0.000254)\n",
      "113. feature 52 (0.000226)\n",
      "114. feature 119 (0.000200)\n",
      "115. feature 100 (0.000190)\n",
      "116. feature 57 (0.000189)\n",
      "117. feature 35 (0.000153)\n",
      "118. feature 129 (0.000144)\n",
      "119. feature 101 (0.000138)\n",
      "120. feature 135 (0.000128)\n",
      "121. feature 102 (0.000125)\n",
      "122. feature 131 (0.000119)\n",
      "123. feature 127 (0.000116)\n",
      "124. feature 125 (0.000115)\n",
      "125. feature 51 (0.000099)\n",
      "126. feature 106 (0.000082)\n",
      "127. feature 103 (0.000057)\n",
      "128. feature 128 (0.000055)\n",
      "129. feature 130 (0.000035)\n",
      "130. feature 126 (0.000020)\n",
      "131. feature 139 (0.000018)\n",
      "132. feature 105 (0.000018)\n",
      "133. feature 123 (0.000011)\n",
      "134. feature 124 (0.000009)\n",
      "135. feature 137 (0.000005)\n",
      "136. feature 11 (0.000000)\n",
      "137. feature 132 (0.000000)\n",
      "138. feature 121 (0.000000)\n",
      "139. feature 120 (0.000000)\n",
      "140. feature 112 (0.000000)\n"
     ]
    }
   ],
   "source": [
    "from sklearn.ensemble import ExtraTreesClassifier\n",
    "\n",
    "forest = ExtraTreesClassifier(n_estimators=250,\n",
    "                              random_state=0)\n",
    "\n",
    "forest = forest.fit(X_train_scaled, y_train)\n",
    "importances = forest.feature_importances_\n",
    "std = np.std([tree.feature_importances_ for tree in forest.estimators_],\n",
    "             axis=0)\n",
    "indices = np.argsort(importances)[::-1]\n",
    "\n",
    "# Print the feature ranking\n",
    "print(\"Feature ranking:\")\n",
    "\n",
    "for f in range(X_train_scaled.shape[1]):\n",
    "    print(\"%d. feature %d (%f)\" % (f + 1, indices[f], importances[indices[f]]))\n"
   ]
  },
  {
   "cell_type": "code",
   "execution_count": 17,
   "metadata": {},
   "outputs": [
    {
     "data": {
      "image/png": "[encoded data removed]",
      "text/plain": [
       "<Figure size 1440x1440 with 1 Axes>"
      ]
     },
     "metadata": {
      "needs_background": "light"
     },
     "output_type": "display_data"
    }
   ],
   "source": [
    "# Plot the impurity-based feature importances of the forest\n",
    "plt.figure(figsize=(20,20))\n",
    "plt.title(\"Feature importances\")\n",
    "plt.bar(range(X_train_scaled.shape[1]), importances[indices],\n",
    "        color=\"r\", yerr=std[indices], align=\"center\")\n",
    "plt.xticks(range(X_train_scaled.shape[1]), indices)\n",
    "plt.xlim([-1, X_train_scaled.shape[1]])\n",
    "plt.show()"
   ]
  },
  {
   "cell_type": "markdown",
   "metadata": {},
   "source": [
    "# Feature selection using SelectFromModel"
   ]
  },
  {
   "cell_type": "code",
   "execution_count": 83,
   "metadata": {},
   "outputs": [
    {
     "data": {
      "text/plain": [
       "(150000, 17)"
      ]
     },
     "execution_count": 83,
     "metadata": {},
     "output_type": "execute_result"
    }
   ],
   "source": [
    "# Feature selection based on the above feature importance\n",
    "from sklearn.feature_selection import SelectFromModel\n",
    "\n",
    "model = SelectFromModel(forest, prefit=True, threshold=0.02)\n",
    "X_train_new = model.transform(X_train_scaled)\n",
    "X_train_new.shape"
   ]
  },
  {
   "cell_type": "code",
   "execution_count": 84,
   "metadata": {},
   "outputs": [
    {
     "data": {
      "text/plain": [
       "(50000, 17)"
      ]
     },
     "execution_count": 84,
     "metadata": {},
     "output_type": "execute_result"
    }
   ],
   "source": [
    "X_test_new = model.transform(X_test_scaled)\n",
    "X_test_new.shape"
   ]
  },
  {
   "cell_type": "code",
   "execution_count": 85,
   "metadata": {},
   "outputs": [
    {
     "data": {
      "text/plain": [
       "array([ 0,  1,  2,  3,  9, 10, 12, 13, 18, 25, 28, 29, 32, 39, 42, 43, 44],\n",
       "      dtype=int64)"
      ]
     },
     "execution_count": 85,
     "metadata": {},
     "output_type": "execute_result"
    }
   ],
   "source": [
    "model.get_support(True)"
   ]
  },
  {
   "cell_type": "code",
   "execution_count": 86,
   "metadata": {},
   "outputs": [],
   "source": [
    "X_cols = X_test.columns"
   ]
  },
  {
   "cell_type": "code",
   "execution_count": 87,
   "metadata": {},
   "outputs": [
    {
     "name": "stdout",
     "output_type": "stream",
     "text": [
      "Features selected by scikit learn SelecFromModel are:\n",
      "\n",
      "loan_amnt\n",
      "int_rate\n",
      "annual_inc\n",
      "dti\n",
      "revol_bal\n",
      "revol_util\n",
      "total_rec_int\n",
      "last_pymnt_amnt\n",
      "tot_cur_bal\n",
      "total_rev_hi_lim\n",
      "avg_cur_bal\n",
      "bc_util\n",
      "mths_since_recent_inq\n",
      "percent_bc_gt_75\n",
      "total_bal_ex_mort\n",
      "total_bc_limit\n",
      "total_il_high_credit_limit\n"
     ]
    }
   ],
   "source": [
    "print(\"Features selected by scikit learn SelecFromModel are:\\n\")\n",
    "for i in model.get_support(True):\n",
    "    print(X_cols[i])"
   ]
  },
  {
   "cell_type": "code",
   "execution_count": 88,
   "metadata": {},
   "outputs": [
    {
     "name": "stdout",
     "output_type": "stream",
     "text": [
      "Tuned Random Forest Parameters: {'n_estimators': 50}\n",
      "Best score is 0.9320999999999999\n",
      "Accuracy score is 0.93206\n"
     ]
    }
   ],
   "source": [
    "# Using K fold cross validation and Grid search to get the most accurate prediction\n",
    "\n",
    "from sklearn.ensemble import RandomForestClassifier\n",
    "from sklearn.metrics import accuracy_score\n",
    "from sklearn.model_selection import GridSearchCV\n",
    "\n",
    "param_grid = {'n_estimators': [10,20,30,40,50]}\n",
    "clf = RandomForestClassifier(random_state = 1,n_jobs=-1)\n",
    "clf_cv = GridSearchCV(clf, param_grid, cv=5)\n",
    "clf_cv.fit(X_train_new, y_train)\n",
    "y_pred_ranf = clf_cv.predict(X_test_new)\n",
    "print(\"Tuned Random Forest Parameters: {}\".format(clf_cv.best_params_)) \n",
    "print(\"Best score is {}\".format(clf_cv.best_score_))\n",
    "print(\"Accuracy score is {}\".format(accuracy_score(y_test, y_pred_ranf)))"
   ]
  },
  {
   "cell_type": "markdown",
   "metadata": {},
   "source": [
    "# Review the results"
   ]
  },
  {
   "cell_type": "code",
   "execution_count": 89,
   "metadata": {},
   "outputs": [
    {
     "data": {
      "text/plain": [
       "array([[38839,  1028],\n",
       "       [ 2369,  7764]], dtype=int64)"
      ]
     },
     "execution_count": 89,
     "metadata": {},
     "output_type": "execute_result"
    }
   ],
   "source": [
    "from sklearn.metrics import confusion_matrix\n",
    "\n",
    "pl_ranf = confusion_matrix(y_test,y_pred_ranf)\n",
    "pl_ranf"
   ]
  },
  {
   "cell_type": "code",
   "execution_count": 90,
   "metadata": {},
   "outputs": [
    {
     "data": {
      "text/plain": [
       "array([41208,  8792], dtype=int64)"
      ]
     },
     "execution_count": 90,
     "metadata": {},
     "output_type": "execute_result"
    }
   ],
   "source": [
    "np.bincount(y_pred_ranf)"
   ]
  },
  {
   "cell_type": "markdown",
   "metadata": {},
   "source": [
    "0 - Fully paid <br>\n",
    "1 - Charges off"
   ]
  },
  {
   "cell_type": "code",
   "execution_count": 91,
   "metadata": {},
   "outputs": [
    {
     "data": {
      "text/plain": [
       "array([39867, 10133], dtype=int64)"
      ]
     },
     "execution_count": 91,
     "metadata": {},
     "output_type": "execute_result"
    }
   ],
   "source": [
    "np.bincount(y_test)"
   ]
  },
  {
   "cell_type": "code",
   "execution_count": null,
   "metadata": {},
   "outputs": [],
   "source": []
  },
  {
   "cell_type": "code",
   "execution_count": 92,
   "metadata": {},
   "outputs": [
    {
     "name": "stdout",
     "output_type": "stream",
     "text": [
      "              precision    recall  f1-score   support\n",
      "\n",
      "           0       0.94      0.97      0.96     39867\n",
      "           1       0.88      0.77      0.82     10133\n",
      "\n",
      "    accuracy                           0.93     50000\n",
      "   macro avg       0.91      0.87      0.89     50000\n",
      "weighted avg       0.93      0.93      0.93     50000\n",
      "\n"
     ]
    }
   ],
   "source": [
    "from sklearn.metrics import classification_report\n",
    "\n",
    "cl_rep_ranf = classification_report(y_test,y_pred_ranf)\n",
    "print(cl_rep_ranf)"
   ]
  },
  {
   "cell_type": "code",
   "execution_count": 93,
   "metadata": {},
   "outputs": [
    {
     "name": "stdout",
     "output_type": "stream",
     "text": [
      "Test Data Set Random Forest: Accuracy=0.932\n",
      "Test Data Set Random Forest: f1-score=0.930\n",
      "Test Data Set Random Forest: roc_auc_score=0.870\n"
     ]
    }
   ],
   "source": [
    "from sklearn.metrics import accuracy_score, f1_score, roc_auc_score\n",
    "\n",
    "ac = accuracy_score(y_test, y_pred_ranf)\n",
    "print('Test Data Set Random Forest: Accuracy=%.3f' % (ac))\n",
    "\n",
    "f1 = f1_score(y_test, y_pred_ranf, average='weighted')\n",
    "print('Test Data Set Random Forest: f1-score=%.3f' % (f1))\n",
    "\n",
    "roc_auc = roc_auc_score(y_test, y_pred_ranf)\n",
    "print('Test Data Set Random Forest: roc_auc_score=%.3f' % (roc_auc))"
   ]
  },
  {
   "cell_type": "markdown",
   "metadata": {},
   "source": [
    "# Random Forest Metrics for various Threshold values in feature selection\n",
    "\n",
    "| Threshold | # Features selected | Accuracy| f1_score|roc_auc_score|\n",
    "| --- | --- | --- | --- | --- |\n",
    "|  0 | 140 | 0.907 | 0.902 | 0.812 |\n",
    "| 0.005 | 50 | 0.921 | 0.918 | 0.846 |\n",
    "| 0.007 | 42 | 0.920 | 0.917 | 0.844 |\n",
    "| 0.01 | 30 | 0.925 | 0.923 | 0.855 |\n",
    "| 0.02 | 17 | 0.932 | 0.930 | 0.870 |"
   ]
  },
  {
   "cell_type": "markdown",
   "metadata": {},
   "source": [
    "# Figures for data story"
   ]
  },
  {
   "cell_type": "markdown",
   "metadata": {},
   "source": [
    "ROC curve"
   ]
  },
  {
   "cell_type": "code",
   "execution_count": 94,
   "metadata": {},
   "outputs": [
    {
     "data": {
      "text/plain": [
       "<sklearn.metrics._plot.roc_curve.RocCurveDisplay at 0x27183477f28>"
      ]
     },
     "execution_count": 94,
     "metadata": {},
     "output_type": "execute_result"
    },
    {
     "data": {
      "image/png": "[encoded data removed]",
      "text/plain": [
       "<Figure size 432x288 with 1 Axes>"
      ]
     },
     "metadata": {
      "needs_background": "light"
     },
     "output_type": "display_data"
    }
   ],
   "source": [
    "from sklearn.metrics import plot_roc_curve\n",
    "\n",
    "plot_roc_curve(clf_cv, X_test_new, y_test)"
   ]
  },
  {
   "cell_type": "markdown",
   "metadata": {},
   "source": [
    "# Finalize code"
   ]
  },
  {
   "cell_type": "markdown",
   "metadata": {},
   "source": [
    "Save the model"
   ]
  },
  {
   "cell_type": "code",
   "execution_count": 96,
   "metadata": {},
   "outputs": [
    {
     "data": {
      "text/plain": [
       "['models/model_loan.joblib']"
      ]
     },
     "execution_count": 96,
     "metadata": {},
     "output_type": "execute_result"
    }
   ],
   "source": [
    "import pickle\n",
    "s = pickle.dumps(clf_cv)\n",
    "from joblib import dump, load\n",
    "dump(clf_cv, 'models/model_loan.joblib') "
   ]
  },
  {
   "cell_type": "markdown",
   "metadata": {},
   "source": [
    "# Finalize documentation"
   ]
  },
  {
   "cell_type": "code",
   "execution_count": 97,
   "metadata": {},
   "outputs": [
    {
     "data": {
      "text/plain": [
       "{'mean_fit_time': array([ 3.68902397,  4.86860251,  7.28330579,  9.337921  , 11.66381598]),\n",
       " 'std_fit_time': array([1.81129791, 0.16314651, 0.15936443, 0.14470416, 0.17208633]),\n",
       " 'mean_score_time': array([0.12377152, 0.12159429, 0.24131956, 0.24430342, 0.24008799]),\n",
       " 'std_score_time': array([0.00741419, 0.00574105, 0.00640673, 0.00787452, 0.00739294]),\n",
       " 'param_n_estimators': masked_array(data=[10, 20, 30, 40, 50],\n",
       "              mask=[False, False, False, False, False],\n",
       "        fill_value='?',\n",
       "             dtype=object),\n",
       " 'params': [{'n_estimators': 10},\n",
       "  {'n_estimators': 20},\n",
       "  {'n_estimators': 30},\n",
       "  {'n_estimators': 40},\n",
       "  {'n_estimators': 50}],\n",
       " 'split0_test_score': array([0.92533333, 0.9272    , 0.92946667, 0.9302    , 0.9304    ]),\n",
       " 'split1_test_score': array([0.92363333, 0.927     , 0.93016667, 0.93256667, 0.93256667]),\n",
       " 'split2_test_score': array([0.92563333, 0.9306    , 0.93203333, 0.93316667, 0.93446667]),\n",
       " 'split3_test_score': array([0.9225    , 0.9288    , 0.9298    , 0.93293333, 0.93253333]),\n",
       " 'split4_test_score': array([0.9187    , 0.92886667, 0.9292    , 0.93066667, 0.93053333]),\n",
       " 'mean_test_score': array([0.92316   , 0.92849333, 0.93013333, 0.93190667, 0.9321    ]),\n",
       " 'std_test_score': array([0.00250567, 0.00130952, 0.00100377, 0.00122699, 0.00150673]),\n",
       " 'rank_test_score': array([5, 4, 3, 2, 1])}"
      ]
     },
     "execution_count": 97,
     "metadata": {},
     "output_type": "execute_result"
    }
   ],
   "source": [
    "clf_cv.cv_results_"
   ]
  },
  {
   "cell_type": "code",
   "execution_count": 98,
   "metadata": {},
   "outputs": [
    {
     "data": {
      "text/plain": [
       "{'n_estimators': 50}"
      ]
     },
     "execution_count": 98,
     "metadata": {},
     "output_type": "execute_result"
    }
   ],
   "source": [
    "clf_cv.best_params_"
   ]
  },
  {
   "cell_type": "code",
   "execution_count": 99,
   "metadata": {},
   "outputs": [
    {
     "data": {
      "text/plain": [
       "0.9320999999999999"
      ]
     },
     "execution_count": 99,
     "metadata": {},
     "output_type": "execute_result"
    }
   ],
   "source": [
    "clf_cv.best_score_"
   ]
  },
  {
   "cell_type": "code",
   "execution_count": 100,
   "metadata": {},
   "outputs": [
    {
     "data": {
      "text/plain": [
       "4"
      ]
     },
     "execution_count": 100,
     "metadata": {},
     "output_type": "execute_result"
    }
   ],
   "source": [
    "clf_cv.best_index_"
   ]
  },
  {
   "cell_type": "code",
   "execution_count": 101,
   "metadata": {},
   "outputs": [
    {
     "data": {
      "text/html": [
       "<div>\n",
       "<style scoped>\n",
       "    .dataframe tbody tr th:only-of-type {\n",
       "        vertical-align: middle;\n",
       "    }\n",
       "\n",
       "    .dataframe tbody tr th {\n",
       "        vertical-align: top;\n",
       "    }\n",
       "\n",
       "    .dataframe thead th {\n",
       "        text-align: right;\n",
       "    }\n",
       "</style>\n",
       "<table border=\"1\" class=\"dataframe\">\n",
       "  <thead>\n",
       "    <tr style=\"text-align: right;\">\n",
       "      <th></th>\n",
       "      <th>mean_fit_time</th>\n",
       "      <th>std_fit_time</th>\n",
       "      <th>mean_score_time</th>\n",
       "      <th>std_score_time</th>\n",
       "      <th>param_n_estimators</th>\n",
       "      <th>params</th>\n",
       "      <th>split0_test_score</th>\n",
       "      <th>split1_test_score</th>\n",
       "      <th>split2_test_score</th>\n",
       "      <th>split3_test_score</th>\n",
       "      <th>split4_test_score</th>\n",
       "      <th>mean_test_score</th>\n",
       "      <th>std_test_score</th>\n",
       "      <th>rank_test_score</th>\n",
       "    </tr>\n",
       "  </thead>\n",
       "  <tbody>\n",
       "    <tr>\n",
       "      <th>0</th>\n",
       "      <td>3.689024</td>\n",
       "      <td>1.811298</td>\n",
       "      <td>0.123772</td>\n",
       "      <td>0.007414</td>\n",
       "      <td>10</td>\n",
       "      <td>{'n_estimators': 10}</td>\n",
       "      <td>0.925333</td>\n",
       "      <td>0.923633</td>\n",
       "      <td>0.925633</td>\n",
       "      <td>0.922500</td>\n",
       "      <td>0.918700</td>\n",
       "      <td>0.923160</td>\n",
       "      <td>0.002506</td>\n",
       "      <td>5</td>\n",
       "    </tr>\n",
       "    <tr>\n",
       "      <th>1</th>\n",
       "      <td>4.868603</td>\n",
       "      <td>0.163147</td>\n",
       "      <td>0.121594</td>\n",
       "      <td>0.005741</td>\n",
       "      <td>20</td>\n",
       "      <td>{'n_estimators': 20}</td>\n",
       "      <td>0.927200</td>\n",
       "      <td>0.927000</td>\n",
       "      <td>0.930600</td>\n",
       "      <td>0.928800</td>\n",
       "      <td>0.928867</td>\n",
       "      <td>0.928493</td>\n",
       "      <td>0.001310</td>\n",
       "      <td>4</td>\n",
       "    </tr>\n",
       "    <tr>\n",
       "      <th>2</th>\n",
       "      <td>7.283306</td>\n",
       "      <td>0.159364</td>\n",
       "      <td>0.241320</td>\n",
       "      <td>0.006407</td>\n",
       "      <td>30</td>\n",
       "      <td>{'n_estimators': 30}</td>\n",
       "      <td>0.929467</td>\n",
       "      <td>0.930167</td>\n",
       "      <td>0.932033</td>\n",
       "      <td>0.929800</td>\n",
       "      <td>0.929200</td>\n",
       "      <td>0.930133</td>\n",
       "      <td>0.001004</td>\n",
       "      <td>3</td>\n",
       "    </tr>\n",
       "    <tr>\n",
       "      <th>3</th>\n",
       "      <td>9.337921</td>\n",
       "      <td>0.144704</td>\n",
       "      <td>0.244303</td>\n",
       "      <td>0.007875</td>\n",
       "      <td>40</td>\n",
       "      <td>{'n_estimators': 40}</td>\n",
       "      <td>0.930200</td>\n",
       "      <td>0.932567</td>\n",
       "      <td>0.933167</td>\n",
       "      <td>0.932933</td>\n",
       "      <td>0.930667</td>\n",
       "      <td>0.931907</td>\n",
       "      <td>0.001227</td>\n",
       "      <td>2</td>\n",
       "    </tr>\n",
       "    <tr>\n",
       "      <th>4</th>\n",
       "      <td>11.663816</td>\n",
       "      <td>0.172086</td>\n",
       "      <td>0.240088</td>\n",
       "      <td>0.007393</td>\n",
       "      <td>50</td>\n",
       "      <td>{'n_estimators': 50}</td>\n",
       "      <td>0.930400</td>\n",
       "      <td>0.932567</td>\n",
       "      <td>0.934467</td>\n",
       "      <td>0.932533</td>\n",
       "      <td>0.930533</td>\n",
       "      <td>0.932100</td>\n",
       "      <td>0.001507</td>\n",
       "      <td>1</td>\n",
       "    </tr>\n",
       "  </tbody>\n",
       "</table>\n",
       "</div>"
      ],
      "text/plain": [
       "   mean_fit_time  std_fit_time  mean_score_time  std_score_time  \\\n",
       "0       3.689024      1.811298         0.123772        0.007414   \n",
       "1       4.868603      0.163147         0.121594        0.005741   \n",
       "2       7.283306      0.159364         0.241320        0.006407   \n",
       "3       9.337921      0.144704         0.244303        0.007875   \n",
       "4      11.663816      0.172086         0.240088        0.007393   \n",
       "\n",
       "  param_n_estimators                params  split0_test_score  \\\n",
       "0                 10  {'n_estimators': 10}           0.925333   \n",
       "1                 20  {'n_estimators': 20}           0.927200   \n",
       "2                 30  {'n_estimators': 30}           0.929467   \n",
       "3                 40  {'n_estimators': 40}           0.930200   \n",
       "4                 50  {'n_estimators': 50}           0.930400   \n",
       "\n",
       "   split1_test_score  split2_test_score  split3_test_score  split4_test_score  \\\n",
       "0           0.923633           0.925633           0.922500           0.918700   \n",
       "1           0.927000           0.930600           0.928800           0.928867   \n",
       "2           0.930167           0.932033           0.929800           0.929200   \n",
       "3           0.932567           0.933167           0.932933           0.930667   \n",
       "4           0.932567           0.934467           0.932533           0.930533   \n",
       "\n",
       "   mean_test_score  std_test_score  rank_test_score  \n",
       "0         0.923160        0.002506                5  \n",
       "1         0.928493        0.001310                4  \n",
       "2         0.930133        0.001004                3  \n",
       "3         0.931907        0.001227                2  \n",
       "4         0.932100        0.001507                1  "
      ]
     },
     "execution_count": 101,
     "metadata": {},
     "output_type": "execute_result"
    }
   ],
   "source": [
    "results_df = pd.DataFrame(clf_cv.cv_results_)\n",
    "results_df"
   ]
  },
  {
   "cell_type": "markdown",
   "metadata": {},
   "source": [
    "Save model results"
   ]
  },
  {
   "cell_type": "code",
   "execution_count": 102,
   "metadata": {},
   "outputs": [],
   "source": [
    "results_df.to_csv('models/model_results.csv')"
   ]
  },
  {
   "cell_type": "code",
   "execution_count": null,
   "metadata": {},
   "outputs": [],
   "source": []
  }
 ],
 "metadata": {
  "kernelspec": {
   "display_name": "Python 3",
   "language": "python",
   "name": "python3"
  },
  "language_info": {
   "codemirror_mode": {
    "name": "ipython",
    "version": 3
   },
   "file_extension": ".py",
   "mimetype": "text/x-python",
   "name": "python",
   "nbconvert_exporter": "python",
   "pygments_lexer": "ipython3",
   "version": "3.7.3"
  }
 },
 "nbformat": 4,
 "nbformat_minor": 2
}
