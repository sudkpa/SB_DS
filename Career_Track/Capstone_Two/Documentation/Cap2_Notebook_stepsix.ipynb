{
 "cells": [
  {
   "cell_type": "markdown",
   "metadata": {},
   "source": [
    "# Capstone 2 - Lending Club Loan Paid or Charged Off Prediction\n",
    "\n",
    "# Documentation\n",
    "\n",
    "Documentation is the sixth step in the Data Science Method.  The following will be performed in this step:\n",
    "\n",
    "1. Review the Results\n",
    "2. Finalize Code\n",
    "3. Finalize Documentation\n",
    "4. Create a Project Report\n",
    "5. Create a Slide Deck for the Executive Audience"
   ]
  },
  {
   "cell_type": "code",
   "execution_count": 1,
   "metadata": {},
   "outputs": [],
   "source": [
    "#load python packages\n",
    "import os\n",
    "import pandas as pd\n",
    "import pandas.api.types as ptypes\n",
    "import datetime\n",
    "import seaborn as sns\n",
    "import matplotlib.pyplot as plt\n",
    "import numpy as np\n",
    "%matplotlib inline\n",
    "import warnings # For handling error messages.\n",
    "#warnings.simplefilter(action=\"ignore\", category=FutureWarning)\n",
    "warnings.filterwarnings('ignore')"
   ]
  },
  {
   "cell_type": "code",
   "execution_count": null,
   "metadata": {},
   "outputs": [],
   "source": []
  },
  {
   "cell_type": "markdown",
   "metadata": {},
   "source": [
    "# Best Model - Logistic Regression"
   ]
  },
  {
   "cell_type": "code",
   "execution_count": 2,
   "metadata": {},
   "outputs": [
    {
     "data": {
      "text/html": [
       "<div>\n",
       "<style scoped>\n",
       "    .dataframe tbody tr th:only-of-type {\n",
       "        vertical-align: middle;\n",
       "    }\n",
       "\n",
       "    .dataframe tbody tr th {\n",
       "        vertical-align: top;\n",
       "    }\n",
       "\n",
       "    .dataframe thead th {\n",
       "        text-align: right;\n",
       "    }\n",
       "</style>\n",
       "<table border=\"1\" class=\"dataframe\">\n",
       "  <thead>\n",
       "    <tr style=\"text-align: right;\">\n",
       "      <th></th>\n",
       "      <th>loan_amnt</th>\n",
       "      <th>int_rate</th>\n",
       "      <th>annual_inc</th>\n",
       "      <th>dti</th>\n",
       "      <th>delinq_2yrs</th>\n",
       "      <th>inq_last_6mths</th>\n",
       "      <th>mths_since_last_delinq</th>\n",
       "      <th>mths_since_last_record</th>\n",
       "      <th>pub_rec</th>\n",
       "      <th>revol_bal</th>\n",
       "      <th>...</th>\n",
       "      <th>initial_list_status</th>\n",
       "      <th>application_type</th>\n",
       "      <th>verification_status_joint</th>\n",
       "      <th>hardship_flag</th>\n",
       "      <th>hardship_type</th>\n",
       "      <th>hardship_reason</th>\n",
       "      <th>hardship_status</th>\n",
       "      <th>hardship_loan_status</th>\n",
       "      <th>debt_settlement_flag</th>\n",
       "      <th>settlement_status</th>\n",
       "    </tr>\n",
       "  </thead>\n",
       "  <tbody>\n",
       "    <tr>\n",
       "      <th>0</th>\n",
       "      <td>2500</td>\n",
       "      <td>13.56</td>\n",
       "      <td>55000.0</td>\n",
       "      <td>18.24</td>\n",
       "      <td>0.0</td>\n",
       "      <td>1.0</td>\n",
       "      <td>0.0</td>\n",
       "      <td>45.0</td>\n",
       "      <td>1.0</td>\n",
       "      <td>4341</td>\n",
       "      <td>...</td>\n",
       "      <td>w</td>\n",
       "      <td>Individual</td>\n",
       "      <td>NaN</td>\n",
       "      <td>N</td>\n",
       "      <td>NaN</td>\n",
       "      <td>NaN</td>\n",
       "      <td>NaN</td>\n",
       "      <td>NaN</td>\n",
       "      <td>N</td>\n",
       "      <td>NaN</td>\n",
       "    </tr>\n",
       "    <tr>\n",
       "      <th>1</th>\n",
       "      <td>30000</td>\n",
       "      <td>18.94</td>\n",
       "      <td>90000.0</td>\n",
       "      <td>26.52</td>\n",
       "      <td>0.0</td>\n",
       "      <td>0.0</td>\n",
       "      <td>71.0</td>\n",
       "      <td>75.0</td>\n",
       "      <td>1.0</td>\n",
       "      <td>12315</td>\n",
       "      <td>...</td>\n",
       "      <td>w</td>\n",
       "      <td>Individual</td>\n",
       "      <td>NaN</td>\n",
       "      <td>N</td>\n",
       "      <td>NaN</td>\n",
       "      <td>NaN</td>\n",
       "      <td>NaN</td>\n",
       "      <td>NaN</td>\n",
       "      <td>N</td>\n",
       "      <td>NaN</td>\n",
       "    </tr>\n",
       "    <tr>\n",
       "      <th>2</th>\n",
       "      <td>5000</td>\n",
       "      <td>17.97</td>\n",
       "      <td>59280.0</td>\n",
       "      <td>10.51</td>\n",
       "      <td>0.0</td>\n",
       "      <td>0.0</td>\n",
       "      <td>0.0</td>\n",
       "      <td>0.0</td>\n",
       "      <td>0.0</td>\n",
       "      <td>4599</td>\n",
       "      <td>...</td>\n",
       "      <td>w</td>\n",
       "      <td>Individual</td>\n",
       "      <td>NaN</td>\n",
       "      <td>N</td>\n",
       "      <td>NaN</td>\n",
       "      <td>NaN</td>\n",
       "      <td>NaN</td>\n",
       "      <td>NaN</td>\n",
       "      <td>N</td>\n",
       "      <td>NaN</td>\n",
       "    </tr>\n",
       "    <tr>\n",
       "      <th>3</th>\n",
       "      <td>4000</td>\n",
       "      <td>18.94</td>\n",
       "      <td>92000.0</td>\n",
       "      <td>16.74</td>\n",
       "      <td>0.0</td>\n",
       "      <td>0.0</td>\n",
       "      <td>0.0</td>\n",
       "      <td>0.0</td>\n",
       "      <td>0.0</td>\n",
       "      <td>5468</td>\n",
       "      <td>...</td>\n",
       "      <td>w</td>\n",
       "      <td>Individual</td>\n",
       "      <td>NaN</td>\n",
       "      <td>N</td>\n",
       "      <td>NaN</td>\n",
       "      <td>NaN</td>\n",
       "      <td>NaN</td>\n",
       "      <td>NaN</td>\n",
       "      <td>N</td>\n",
       "      <td>NaN</td>\n",
       "    </tr>\n",
       "    <tr>\n",
       "      <th>4</th>\n",
       "      <td>30000</td>\n",
       "      <td>16.14</td>\n",
       "      <td>57250.0</td>\n",
       "      <td>26.35</td>\n",
       "      <td>0.0</td>\n",
       "      <td>0.0</td>\n",
       "      <td>0.0</td>\n",
       "      <td>0.0</td>\n",
       "      <td>0.0</td>\n",
       "      <td>829</td>\n",
       "      <td>...</td>\n",
       "      <td>w</td>\n",
       "      <td>Individual</td>\n",
       "      <td>NaN</td>\n",
       "      <td>N</td>\n",
       "      <td>NaN</td>\n",
       "      <td>NaN</td>\n",
       "      <td>NaN</td>\n",
       "      <td>NaN</td>\n",
       "      <td>N</td>\n",
       "      <td>NaN</td>\n",
       "    </tr>\n",
       "  </tbody>\n",
       "</table>\n",
       "<p>5 rows × 87 columns</p>\n",
       "</div>"
      ],
      "text/plain": [
       "   loan_amnt  int_rate  annual_inc    dti  delinq_2yrs  inq_last_6mths  \\\n",
       "0       2500     13.56     55000.0  18.24          0.0             1.0   \n",
       "1      30000     18.94     90000.0  26.52          0.0             0.0   \n",
       "2       5000     17.97     59280.0  10.51          0.0             0.0   \n",
       "3       4000     18.94     92000.0  16.74          0.0             0.0   \n",
       "4      30000     16.14     57250.0  26.35          0.0             0.0   \n",
       "\n",
       "   mths_since_last_delinq  mths_since_last_record  pub_rec  revol_bal  ...  \\\n",
       "0                     0.0                    45.0      1.0       4341  ...   \n",
       "1                    71.0                    75.0      1.0      12315  ...   \n",
       "2                     0.0                     0.0      0.0       4599  ...   \n",
       "3                     0.0                     0.0      0.0       5468  ...   \n",
       "4                     0.0                     0.0      0.0        829  ...   \n",
       "\n",
       "   initial_list_status  application_type  verification_status_joint  \\\n",
       "0                    w        Individual                        NaN   \n",
       "1                    w        Individual                        NaN   \n",
       "2                    w        Individual                        NaN   \n",
       "3                    w        Individual                        NaN   \n",
       "4                    w        Individual                        NaN   \n",
       "\n",
       "   hardship_flag  hardship_type  hardship_reason  hardship_status  \\\n",
       "0              N            NaN              NaN              NaN   \n",
       "1              N            NaN              NaN              NaN   \n",
       "2              N            NaN              NaN              NaN   \n",
       "3              N            NaN              NaN              NaN   \n",
       "4              N            NaN              NaN              NaN   \n",
       "\n",
       "   hardship_loan_status  debt_settlement_flag  settlement_status  \n",
       "0                   NaN                     N                NaN  \n",
       "1                   NaN                     N                NaN  \n",
       "2                   NaN                     N                NaN  \n",
       "3                   NaN                     N                NaN  \n",
       "4                   NaN                     N                NaN  \n",
       "\n",
       "[5 rows x 87 columns]"
      ]
     },
     "execution_count": 2,
     "metadata": {},
     "output_type": "execute_result"
    }
   ],
   "source": [
    "# Read data output created in the EDA step\n",
    "df = pd.read_csv(\"../EDA/data/Cap2_step3_output.csv\", dtype={'verification_status_joint':object,'hardship_type':object, 'hardship_reason':object, 'hardship_status':object, 'hardship_loan_status':object, 'settlement_status':object}, index_col=\"Unnamed: 0\")\n",
    "df.head(5)"
   ]
  },
  {
   "cell_type": "code",
   "execution_count": 3,
   "metadata": {},
   "outputs": [
    {
     "data": {
      "text/plain": [
       "(2150627, 87)"
      ]
     },
     "execution_count": 3,
     "metadata": {},
     "output_type": "execute_result"
    }
   ],
   "source": [
    "df.shape"
   ]
  },
  {
   "cell_type": "code",
   "execution_count": 4,
   "metadata": {},
   "outputs": [],
   "source": [
    "# Drop unwanted columns\n",
    "df_sel = df.drop(['title', 'zip_code', 'addr_state', 'recoveries', 'debt_settlement_flag', 'settlement_amount', 'settlement_percentage', 'settlement_term', 'settlement_status'], axis=1)"
   ]
  },
  {
   "cell_type": "code",
   "execution_count": 5,
   "metadata": {},
   "outputs": [
    {
     "data": {
      "text/plain": [
       "(1250411, 78)"
      ]
     },
     "execution_count": 5,
     "metadata": {},
     "output_type": "execute_result"
    }
   ],
   "source": [
    "# Drop irrelevant loan_status\n",
    "\n",
    "df_sel.reset_index()\n",
    "df_sel = df_sel[~(df_sel['loan_status'] == 'In Grace Period')]\n",
    "df_sel = df_sel[~(df_sel['loan_status'] == 'Current')]\n",
    "df_sel = df_sel[~(df_sel['loan_status'] == 'Late (31-120 days)')]\n",
    "df_sel = df_sel[~(df_sel['loan_status'] == 'Default')]\n",
    "df_sel = df_sel[~(df_sel['loan_status'] == 'Late (16-30 days)')]\n",
    "df_sel.shape"
   ]
  },
  {
   "cell_type": "code",
   "execution_count": 6,
   "metadata": {},
   "outputs": [],
   "source": [
    "# Loan status:\n",
    "# Setting '%Fully Paid' to 0\n",
    "# Setting '%Charges Off' to 1\n",
    "\n",
    "df_sel['loan_status'] = df_sel['loan_status'].replace(['Fully Paid', 'Does not meet the credit policy. Status:Fully Paid'], '0')\n",
    "df_sel['loan_status'] = df_sel['loan_status'].replace(['Charged Off', 'Does not meet the credit policy. Status:Charged Off'], '1')"
   ]
  },
  {
   "cell_type": "code",
   "execution_count": 7,
   "metadata": {},
   "outputs": [],
   "source": [
    "df_sel['loan_status'] = pd.to_numeric(df_sel['loan_status'])"
   ]
  },
  {
   "cell_type": "code",
   "execution_count": 8,
   "metadata": {},
   "outputs": [],
   "source": [
    "# Create a list of object columns.  \n",
    "cols_obj = []\n",
    "for col in df_sel.columns:\n",
    "    if df_sel[col].dtype == object:\n",
    "        cols_obj.append(col)"
   ]
  },
  {
   "cell_type": "code",
   "execution_count": 9,
   "metadata": {},
   "outputs": [
    {
     "data": {
      "text/html": [
       "<div>\n",
       "<style scoped>\n",
       "    .dataframe tbody tr th:only-of-type {\n",
       "        vertical-align: middle;\n",
       "    }\n",
       "\n",
       "    .dataframe tbody tr th {\n",
       "        vertical-align: top;\n",
       "    }\n",
       "\n",
       "    .dataframe thead th {\n",
       "        text-align: right;\n",
       "    }\n",
       "</style>\n",
       "<table border=\"1\" class=\"dataframe\">\n",
       "  <thead>\n",
       "    <tr style=\"text-align: right;\">\n",
       "      <th></th>\n",
       "      <th>loan_amnt</th>\n",
       "      <th>int_rate</th>\n",
       "      <th>annual_inc</th>\n",
       "      <th>dti</th>\n",
       "      <th>delinq_2yrs</th>\n",
       "      <th>inq_last_6mths</th>\n",
       "      <th>mths_since_last_delinq</th>\n",
       "      <th>mths_since_last_record</th>\n",
       "      <th>pub_rec</th>\n",
       "      <th>revol_bal</th>\n",
       "      <th>...</th>\n",
       "      <th>hardship_reason_REDUCED_HOURS</th>\n",
       "      <th>hardship_reason_UNEMPLOYMENT</th>\n",
       "      <th>hardship_status_ACTIVE</th>\n",
       "      <th>hardship_status_BROKEN</th>\n",
       "      <th>hardship_status_COMPLETED</th>\n",
       "      <th>hardship_loan_status_Current</th>\n",
       "      <th>hardship_loan_status_In Grace Period</th>\n",
       "      <th>hardship_loan_status_Issued</th>\n",
       "      <th>hardship_loan_status_Late (16-30 days)</th>\n",
       "      <th>hardship_loan_status_Late (31-120 days)</th>\n",
       "    </tr>\n",
       "  </thead>\n",
       "  <tbody>\n",
       "    <tr>\n",
       "      <th>100</th>\n",
       "      <td>30000</td>\n",
       "      <td>22.35</td>\n",
       "      <td>100000.0</td>\n",
       "      <td>30.46</td>\n",
       "      <td>0.0</td>\n",
       "      <td>0.0</td>\n",
       "      <td>51.0</td>\n",
       "      <td>84.0</td>\n",
       "      <td>1.0</td>\n",
       "      <td>15603</td>\n",
       "      <td>...</td>\n",
       "      <td>0</td>\n",
       "      <td>0</td>\n",
       "      <td>0</td>\n",
       "      <td>0</td>\n",
       "      <td>0</td>\n",
       "      <td>0</td>\n",
       "      <td>0</td>\n",
       "      <td>0</td>\n",
       "      <td>0</td>\n",
       "      <td>0</td>\n",
       "    </tr>\n",
       "    <tr>\n",
       "      <th>152</th>\n",
       "      <td>40000</td>\n",
       "      <td>16.14</td>\n",
       "      <td>45000.0</td>\n",
       "      <td>50.53</td>\n",
       "      <td>0.0</td>\n",
       "      <td>0.0</td>\n",
       "      <td>0.0</td>\n",
       "      <td>0.0</td>\n",
       "      <td>0.0</td>\n",
       "      <td>34971</td>\n",
       "      <td>...</td>\n",
       "      <td>0</td>\n",
       "      <td>0</td>\n",
       "      <td>0</td>\n",
       "      <td>0</td>\n",
       "      <td>0</td>\n",
       "      <td>0</td>\n",
       "      <td>0</td>\n",
       "      <td>0</td>\n",
       "      <td>0</td>\n",
       "      <td>0</td>\n",
       "    </tr>\n",
       "    <tr>\n",
       "      <th>170</th>\n",
       "      <td>20000</td>\n",
       "      <td>7.56</td>\n",
       "      <td>100000.0</td>\n",
       "      <td>18.92</td>\n",
       "      <td>0.0</td>\n",
       "      <td>0.0</td>\n",
       "      <td>48.0</td>\n",
       "      <td>0.0</td>\n",
       "      <td>0.0</td>\n",
       "      <td>25416</td>\n",
       "      <td>...</td>\n",
       "      <td>0</td>\n",
       "      <td>0</td>\n",
       "      <td>0</td>\n",
       "      <td>0</td>\n",
       "      <td>0</td>\n",
       "      <td>0</td>\n",
       "      <td>0</td>\n",
       "      <td>0</td>\n",
       "      <td>0</td>\n",
       "      <td>0</td>\n",
       "    </tr>\n",
       "    <tr>\n",
       "      <th>186</th>\n",
       "      <td>4500</td>\n",
       "      <td>11.31</td>\n",
       "      <td>38500.0</td>\n",
       "      <td>4.64</td>\n",
       "      <td>0.0</td>\n",
       "      <td>0.0</td>\n",
       "      <td>25.0</td>\n",
       "      <td>0.0</td>\n",
       "      <td>0.0</td>\n",
       "      <td>4472</td>\n",
       "      <td>...</td>\n",
       "      <td>0</td>\n",
       "      <td>0</td>\n",
       "      <td>0</td>\n",
       "      <td>0</td>\n",
       "      <td>0</td>\n",
       "      <td>0</td>\n",
       "      <td>0</td>\n",
       "      <td>0</td>\n",
       "      <td>0</td>\n",
       "      <td>0</td>\n",
       "    </tr>\n",
       "    <tr>\n",
       "      <th>269</th>\n",
       "      <td>20000</td>\n",
       "      <td>17.97</td>\n",
       "      <td>57000.0</td>\n",
       "      <td>22.18</td>\n",
       "      <td>0.0</td>\n",
       "      <td>0.0</td>\n",
       "      <td>0.0</td>\n",
       "      <td>0.0</td>\n",
       "      <td>0.0</td>\n",
       "      <td>33356</td>\n",
       "      <td>...</td>\n",
       "      <td>0</td>\n",
       "      <td>0</td>\n",
       "      <td>0</td>\n",
       "      <td>0</td>\n",
       "      <td>0</td>\n",
       "      <td>0</td>\n",
       "      <td>0</td>\n",
       "      <td>0</td>\n",
       "      <td>0</td>\n",
       "      <td>0</td>\n",
       "    </tr>\n",
       "  </tbody>\n",
       "</table>\n",
       "<p>5 rows × 145 columns</p>\n",
       "</div>"
      ],
      "text/plain": [
       "     loan_amnt  int_rate  annual_inc    dti  delinq_2yrs  inq_last_6mths  \\\n",
       "100      30000     22.35    100000.0  30.46          0.0             0.0   \n",
       "152      40000     16.14     45000.0  50.53          0.0             0.0   \n",
       "170      20000      7.56    100000.0  18.92          0.0             0.0   \n",
       "186       4500     11.31     38500.0   4.64          0.0             0.0   \n",
       "269      20000     17.97     57000.0  22.18          0.0             0.0   \n",
       "\n",
       "     mths_since_last_delinq  mths_since_last_record  pub_rec  revol_bal  ...  \\\n",
       "100                    51.0                    84.0      1.0      15603  ...   \n",
       "152                     0.0                     0.0      0.0      34971  ...   \n",
       "170                    48.0                     0.0      0.0      25416  ...   \n",
       "186                    25.0                     0.0      0.0       4472  ...   \n",
       "269                     0.0                     0.0      0.0      33356  ...   \n",
       "\n",
       "     hardship_reason_REDUCED_HOURS  hardship_reason_UNEMPLOYMENT  \\\n",
       "100                              0                             0   \n",
       "152                              0                             0   \n",
       "170                              0                             0   \n",
       "186                              0                             0   \n",
       "269                              0                             0   \n",
       "\n",
       "     hardship_status_ACTIVE  hardship_status_BROKEN  \\\n",
       "100                       0                       0   \n",
       "152                       0                       0   \n",
       "170                       0                       0   \n",
       "186                       0                       0   \n",
       "269                       0                       0   \n",
       "\n",
       "     hardship_status_COMPLETED  hardship_loan_status_Current  \\\n",
       "100                          0                             0   \n",
       "152                          0                             0   \n",
       "170                          0                             0   \n",
       "186                          0                             0   \n",
       "269                          0                             0   \n",
       "\n",
       "     hardship_loan_status_In Grace Period  hardship_loan_status_Issued  \\\n",
       "100                                     0                            0   \n",
       "152                                     0                            0   \n",
       "170                                     0                            0   \n",
       "186                                     0                            0   \n",
       "269                                     0                            0   \n",
       "\n",
       "     hardship_loan_status_Late (16-30 days)  \\\n",
       "100                                       0   \n",
       "152                                       0   \n",
       "170                                       0   \n",
       "186                                       0   \n",
       "269                                       0   \n",
       "\n",
       "     hardship_loan_status_Late (31-120 days)  \n",
       "100                                        0  \n",
       "152                                        0  \n",
       "170                                        0  \n",
       "186                                        0  \n",
       "269                                        0  \n",
       "\n",
       "[5 rows x 145 columns]"
      ]
     },
     "execution_count": 9,
     "metadata": {},
     "output_type": "execute_result"
    }
   ],
   "source": [
    "df_sel = pd.concat([df_sel.drop(cols_obj, axis=1), pd.get_dummies(df_sel[cols_obj])], axis=1)\n",
    "df_sel.head(5)"
   ]
  },
  {
   "cell_type": "code",
   "execution_count": 10,
   "metadata": {},
   "outputs": [
    {
     "data": {
      "text/html": [
       "<div>\n",
       "<style scoped>\n",
       "    .dataframe tbody tr th:only-of-type {\n",
       "        vertical-align: middle;\n",
       "    }\n",
       "\n",
       "    .dataframe tbody tr th {\n",
       "        vertical-align: top;\n",
       "    }\n",
       "\n",
       "    .dataframe thead th {\n",
       "        text-align: right;\n",
       "    }\n",
       "</style>\n",
       "<table border=\"1\" class=\"dataframe\">\n",
       "  <thead>\n",
       "    <tr style=\"text-align: right;\">\n",
       "      <th></th>\n",
       "      <th>loan_amnt</th>\n",
       "      <th>int_rate</th>\n",
       "      <th>annual_inc</th>\n",
       "      <th>dti</th>\n",
       "      <th>delinq_2yrs</th>\n",
       "      <th>inq_last_6mths</th>\n",
       "      <th>mths_since_last_delinq</th>\n",
       "      <th>mths_since_last_record</th>\n",
       "      <th>pub_rec</th>\n",
       "      <th>revol_bal</th>\n",
       "      <th>...</th>\n",
       "      <th>hardship_reason_REDUCED_HOURS</th>\n",
       "      <th>hardship_reason_UNEMPLOYMENT</th>\n",
       "      <th>hardship_status_ACTIVE</th>\n",
       "      <th>hardship_status_BROKEN</th>\n",
       "      <th>hardship_status_COMPLETED</th>\n",
       "      <th>hardship_loan_status_Current</th>\n",
       "      <th>hardship_loan_status_In Grace Period</th>\n",
       "      <th>hardship_loan_status_Issued</th>\n",
       "      <th>hardship_loan_status_Late (16-30 days)</th>\n",
       "      <th>hardship_loan_status_Late (31-120 days)</th>\n",
       "    </tr>\n",
       "  </thead>\n",
       "  <tbody>\n",
       "    <tr>\n",
       "      <th>2131378</th>\n",
       "      <td>3000</td>\n",
       "      <td>10.62</td>\n",
       "      <td>53000.0</td>\n",
       "      <td>19.83</td>\n",
       "      <td>1.0</td>\n",
       "      <td>0.0</td>\n",
       "      <td>5.0</td>\n",
       "      <td>0.0</td>\n",
       "      <td>0.0</td>\n",
       "      <td>20168</td>\n",
       "      <td>...</td>\n",
       "      <td>0</td>\n",
       "      <td>0</td>\n",
       "      <td>0</td>\n",
       "      <td>0</td>\n",
       "      <td>0</td>\n",
       "      <td>0</td>\n",
       "      <td>0</td>\n",
       "      <td>0</td>\n",
       "      <td>0</td>\n",
       "      <td>0</td>\n",
       "    </tr>\n",
       "    <tr>\n",
       "      <th>787458</th>\n",
       "      <td>10000</td>\n",
       "      <td>12.99</td>\n",
       "      <td>50000.0</td>\n",
       "      <td>8.03</td>\n",
       "      <td>0.0</td>\n",
       "      <td>1.0</td>\n",
       "      <td>0.0</td>\n",
       "      <td>0.0</td>\n",
       "      <td>0.0</td>\n",
       "      <td>7600</td>\n",
       "      <td>...</td>\n",
       "      <td>0</td>\n",
       "      <td>0</td>\n",
       "      <td>0</td>\n",
       "      <td>0</td>\n",
       "      <td>0</td>\n",
       "      <td>0</td>\n",
       "      <td>0</td>\n",
       "      <td>0</td>\n",
       "      <td>0</td>\n",
       "      <td>0</td>\n",
       "    </tr>\n",
       "    <tr>\n",
       "      <th>1866201</th>\n",
       "      <td>24000</td>\n",
       "      <td>12.39</td>\n",
       "      <td>80000.0</td>\n",
       "      <td>16.41</td>\n",
       "      <td>0.0</td>\n",
       "      <td>1.0</td>\n",
       "      <td>0.0</td>\n",
       "      <td>0.0</td>\n",
       "      <td>0.0</td>\n",
       "      <td>20812</td>\n",
       "      <td>...</td>\n",
       "      <td>0</td>\n",
       "      <td>0</td>\n",
       "      <td>0</td>\n",
       "      <td>0</td>\n",
       "      <td>0</td>\n",
       "      <td>0</td>\n",
       "      <td>0</td>\n",
       "      <td>0</td>\n",
       "      <td>0</td>\n",
       "      <td>0</td>\n",
       "    </tr>\n",
       "    <tr>\n",
       "      <th>1704833</th>\n",
       "      <td>31300</td>\n",
       "      <td>16.20</td>\n",
       "      <td>70000.0</td>\n",
       "      <td>33.45</td>\n",
       "      <td>0.0</td>\n",
       "      <td>0.0</td>\n",
       "      <td>0.0</td>\n",
       "      <td>0.0</td>\n",
       "      <td>0.0</td>\n",
       "      <td>29510</td>\n",
       "      <td>...</td>\n",
       "      <td>0</td>\n",
       "      <td>0</td>\n",
       "      <td>0</td>\n",
       "      <td>0</td>\n",
       "      <td>0</td>\n",
       "      <td>0</td>\n",
       "      <td>0</td>\n",
       "      <td>0</td>\n",
       "      <td>0</td>\n",
       "      <td>0</td>\n",
       "    </tr>\n",
       "    <tr>\n",
       "      <th>1018455</th>\n",
       "      <td>30000</td>\n",
       "      <td>11.53</td>\n",
       "      <td>118000.0</td>\n",
       "      <td>16.82</td>\n",
       "      <td>0.0</td>\n",
       "      <td>0.0</td>\n",
       "      <td>29.0</td>\n",
       "      <td>0.0</td>\n",
       "      <td>0.0</td>\n",
       "      <td>17625</td>\n",
       "      <td>...</td>\n",
       "      <td>0</td>\n",
       "      <td>0</td>\n",
       "      <td>0</td>\n",
       "      <td>0</td>\n",
       "      <td>0</td>\n",
       "      <td>0</td>\n",
       "      <td>0</td>\n",
       "      <td>0</td>\n",
       "      <td>0</td>\n",
       "      <td>0</td>\n",
       "    </tr>\n",
       "  </tbody>\n",
       "</table>\n",
       "<p>5 rows × 145 columns</p>\n",
       "</div>"
      ],
      "text/plain": [
       "         loan_amnt  int_rate  annual_inc    dti  delinq_2yrs  inq_last_6mths  \\\n",
       "2131378       3000     10.62     53000.0  19.83          1.0             0.0   \n",
       "787458       10000     12.99     50000.0   8.03          0.0             1.0   \n",
       "1866201      24000     12.39     80000.0  16.41          0.0             1.0   \n",
       "1704833      31300     16.20     70000.0  33.45          0.0             0.0   \n",
       "1018455      30000     11.53    118000.0  16.82          0.0             0.0   \n",
       "\n",
       "         mths_since_last_delinq  mths_since_last_record  pub_rec  revol_bal  \\\n",
       "2131378                     5.0                     0.0      0.0      20168   \n",
       "787458                      0.0                     0.0      0.0       7600   \n",
       "1866201                     0.0                     0.0      0.0      20812   \n",
       "1704833                     0.0                     0.0      0.0      29510   \n",
       "1018455                    29.0                     0.0      0.0      17625   \n",
       "\n",
       "         ...  hardship_reason_REDUCED_HOURS  hardship_reason_UNEMPLOYMENT  \\\n",
       "2131378  ...                              0                             0   \n",
       "787458   ...                              0                             0   \n",
       "1866201  ...                              0                             0   \n",
       "1704833  ...                              0                             0   \n",
       "1018455  ...                              0                             0   \n",
       "\n",
       "         hardship_status_ACTIVE  hardship_status_BROKEN  \\\n",
       "2131378                       0                       0   \n",
       "787458                        0                       0   \n",
       "1866201                       0                       0   \n",
       "1704833                       0                       0   \n",
       "1018455                       0                       0   \n",
       "\n",
       "         hardship_status_COMPLETED  hardship_loan_status_Current  \\\n",
       "2131378                          0                             0   \n",
       "787458                           0                             0   \n",
       "1866201                          0                             0   \n",
       "1704833                          0                             0   \n",
       "1018455                          0                             0   \n",
       "\n",
       "         hardship_loan_status_In Grace Period  hardship_loan_status_Issued  \\\n",
       "2131378                                     0                            0   \n",
       "787458                                      0                            0   \n",
       "1866201                                     0                            0   \n",
       "1704833                                     0                            0   \n",
       "1018455                                     0                            0   \n",
       "\n",
       "         hardship_loan_status_Late (16-30 days)  \\\n",
       "2131378                                       0   \n",
       "787458                                        0   \n",
       "1866201                                       0   \n",
       "1704833                                       0   \n",
       "1018455                                       0   \n",
       "\n",
       "         hardship_loan_status_Late (31-120 days)  \n",
       "2131378                                        0  \n",
       "787458                                         0  \n",
       "1866201                                        0  \n",
       "1704833                                        0  \n",
       "1018455                                        0  \n",
       "\n",
       "[5 rows x 145 columns]"
      ]
     },
     "execution_count": 10,
     "metadata": {},
     "output_type": "execute_result"
    }
   ],
   "source": [
    "# Using a sample size of 200,000 for modeling, due to Memory error when using all observations.\n",
    "df_sample = df_sel.sample(200000)\n",
    "df_sample.head()"
   ]
  },
  {
   "cell_type": "code",
   "execution_count": 11,
   "metadata": {},
   "outputs": [],
   "source": [
    "y = df_sample['loan_status']\n",
    "X = df_sample.drop(['loan_status'], axis=1)"
   ]
  },
  {
   "cell_type": "code",
   "execution_count": 12,
   "metadata": {},
   "outputs": [],
   "source": [
    "from sklearn.model_selection import train_test_split\n",
    "\n",
    "y = y.ravel()\n",
    "X_train, X_test, y_train, y_test = train_test_split(X, y, test_size=0.25, random_state=1)"
   ]
  },
  {
   "cell_type": "code",
   "execution_count": 13,
   "metadata": {},
   "outputs": [
    {
     "data": {
      "text/plain": [
       "array([[-0.77081154,  0.40552027, -1.09417137, ..., -0.002582  ,\n",
       "        -0.0435537 , -0.01154778],\n",
       "       [-0.47282651,  0.21752157, -0.26944229, ..., -0.002582  ,\n",
       "        -0.0435537 , -0.01154778],\n",
       "       [ 0.24233755, -0.48800165,  0.31271941, ..., -0.002582  ,\n",
       "        -0.0435537 , -0.01154778],\n",
       "       ...,\n",
       "       [ 1.2525068 , -1.27590632, -0.56052314, ..., -0.002582  ,\n",
       "        -0.0435537 , -0.01154778],\n",
       "       [-0.83040854, -0.27676715, -1.07800021, ..., -0.002582  ,\n",
       "        -0.0435537 , -0.01154778],\n",
       "       [-0.52050411, -1.28646805, -0.43115388, ..., -0.002582  ,\n",
       "        -0.0435537 , -0.01154778]])"
      ]
     },
     "execution_count": 13,
     "metadata": {},
     "output_type": "execute_result"
    }
   ],
   "source": [
    "from sklearn import preprocessing as ppg\n",
    "\n",
    "scaler = ppg.StandardScaler().fit(X_train)\n",
    "X_train_scaled=scaler.transform(X_train)\n",
    "X_train_scaled"
   ]
  },
  {
   "cell_type": "code",
   "execution_count": 14,
   "metadata": {},
   "outputs": [
    {
     "data": {
      "text/plain": [
       "array([[-1.10455477, -0.87244843, -0.85160399, ..., -0.002582  ,\n",
       "        -0.0435537 , -0.01154778],\n",
       "       [-0.23443849, -0.24930667, -0.26944229, ..., -0.002582  ,\n",
       "        -0.0435537 , -0.01154778],\n",
       "       [ 2.50702376,  0.96317934,  0.53911563, ..., -0.002582  ,\n",
       "        -0.0435537 , -0.01154778],\n",
       "       ...,\n",
       "       [-0.80656974, -1.08157059,  1.99451989, ..., -0.002582  ,\n",
       "        -0.0435537 , -0.01154778],\n",
       "       [-0.23443849,  0.28511661, -0.59286546, ..., -0.002582  ,\n",
       "        -0.0435537 , -0.01154778],\n",
       "       [ 0.62375839, -0.81752746,  0.79785416, ..., -0.002582  ,\n",
       "        -0.0435537 , -0.01154778]])"
      ]
     },
     "execution_count": 14,
     "metadata": {},
     "output_type": "execute_result"
    }
   ],
   "source": [
    "X_test_scaled = scaler.transform(X_test)\n",
    "X_test_scaled"
   ]
  },
  {
   "cell_type": "markdown",
   "metadata": {},
   "source": [
    "# Feature importance with Forest of Trees"
   ]
  },
  {
   "cell_type": "code",
   "execution_count": 15,
   "metadata": {},
   "outputs": [
    {
     "data": {
      "text/plain": [
       "(150000, 144)"
      ]
     },
     "execution_count": 15,
     "metadata": {},
     "output_type": "execute_result"
    }
   ],
   "source": [
    "X_train_scaled.shape"
   ]
  },
  {
   "cell_type": "code",
   "execution_count": 16,
   "metadata": {},
   "outputs": [
    {
     "name": "stdout",
     "output_type": "stream",
     "text": [
      "Feature ranking:\n",
      "1. feature 14 (0.188408)\n",
      "2. feature 12 (0.142152)\n",
      "3. feature 0 (0.068070)\n",
      "4. feature 13 (0.033810)\n",
      "5. feature 1 (0.025436)\n",
      "6. feature 63 (0.019018)\n",
      "7. feature 64 (0.018068)\n",
      "8. feature 2 (0.017481)\n",
      "9. feature 3 (0.017328)\n",
      "10. feature 9 (0.016809)\n",
      "11. feature 10 (0.016667)\n",
      "12. feature 47 (0.015883)\n",
      "13. feature 32 (0.015701)\n",
      "14. feature 28 (0.015390)\n",
      "15. feature 46 (0.015053)\n",
      "16. feature 21 (0.014825)\n",
      "17. feature 36 (0.014822)\n",
      "18. feature 31 (0.014821)\n",
      "19. feature 48 (0.014497)\n",
      "20. feature 43 (0.014283)\n",
      "21. feature 5 (0.012679)\n",
      "22. feature 42 (0.012529)\n",
      "23. feature 6 (0.012180)\n",
      "24. feature 65 (0.010552)\n",
      "25. feature 27 (0.010083)\n",
      "26. feature 37 (0.009816)\n",
      "27. feature 16 (0.008721)\n",
      "28. feature 35 (0.008385)\n",
      "29. feature 4 (0.008299)\n",
      "30. feature 20 (0.008119)\n",
      "31. feature 25 (0.007812)\n",
      "32. feature 38 (0.007782)\n",
      "33. feature 26 (0.007765)\n",
      "34. feature 7 (0.007019)\n",
      "35. feature 30 (0.006751)\n",
      "36. feature 66 (0.006719)\n",
      "37. feature 24 (0.006358)\n",
      "38. feature 22 (0.006293)\n",
      "39. feature 23 (0.006265)\n",
      "40. feature 8 (0.005972)\n",
      "41. feature 69 (0.005847)\n",
      "42. feature 118 (0.005810)\n",
      "43. feature 117 (0.005720)\n",
      "44. feature 29 (0.005691)\n",
      "45. feature 113 (0.005547)\n",
      "46. feature 115 (0.005535)\n",
      "47. feature 114 (0.005337)\n",
      "48. feature 112 (0.005288)\n",
      "49. feature 44 (0.005186)\n",
      "50. feature 108 (0.005170)\n",
      "51. feature 68 (0.005108)\n",
      "52. feature 41 (0.003798)\n",
      "53. feature 67 (0.003792)\n",
      "54. feature 111 (0.003790)\n",
      "55. feature 70 (0.003253)\n",
      "56. feature 45 (0.002688)\n",
      "57. feature 15 (0.002101)\n",
      "58. feature 83 (0.001866)\n",
      "59. feature 85 (0.001812)\n",
      "60. feature 84 (0.001802)\n",
      "61. feature 82 (0.001762)\n",
      "62. feature 86 (0.001759)\n",
      "63. feature 126 (0.001596)\n",
      "64. feature 58 (0.001592)\n",
      "65. feature 78 (0.001572)\n",
      "66. feature 79 (0.001523)\n",
      "67. feature 80 (0.001481)\n",
      "68. feature 89 (0.001424)\n",
      "69. feature 88 (0.001413)\n",
      "70. feature 87 (0.001389)\n",
      "71. feature 81 (0.001359)\n",
      "72. feature 77 (0.001304)\n",
      "73. feature 90 (0.001278)\n",
      "74. feature 72 (0.001260)\n",
      "75. feature 91 (0.001258)\n",
      "76. feature 76 (0.001101)\n",
      "77. feature 94 (0.001097)\n",
      "78. feature 93 (0.001058)\n",
      "79. feature 75 (0.001052)\n",
      "80. feature 33 (0.001046)\n",
      "81. feature 137 (0.001005)\n",
      "82. feature 73 (0.001003)\n",
      "83. feature 71 (0.000874)\n",
      "84. feature 92 (0.000853)\n",
      "85. feature 95 (0.000814)\n",
      "86. feature 96 (0.000762)\n",
      "87. feature 74 (0.000724)\n",
      "88. feature 60 (0.000678)\n",
      "89. feature 18 (0.000614)\n",
      "90. feature 17 (0.000557)\n",
      "91. feature 19 (0.000552)\n",
      "92. feature 142 (0.000532)\n",
      "93. feature 119 (0.000531)\n",
      "94. feature 120 (0.000518)\n",
      "95. feature 34 (0.000490)\n",
      "96. feature 97 (0.000483)\n",
      "97. feature 121 (0.000433)\n",
      "98. feature 59 (0.000424)\n",
      "99. feature 49 (0.000397)\n",
      "100. feature 98 (0.000397)\n",
      "101. feature 53 (0.000397)\n",
      "102. feature 99 (0.000394)\n",
      "103. feature 40 (0.000371)\n",
      "104. feature 52 (0.000368)\n",
      "105. feature 138 (0.000367)\n",
      "106. feature 50 (0.000346)\n",
      "107. feature 54 (0.000320)\n",
      "108. feature 100 (0.000288)\n",
      "109. feature 62 (0.000268)\n",
      "110. feature 101 (0.000258)\n",
      "111. feature 51 (0.000252)\n",
      "112. feature 57 (0.000221)\n",
      "113. feature 102 (0.000191)\n",
      "114. feature 122 (0.000189)\n",
      "115. feature 123 (0.000174)\n",
      "116. feature 135 (0.000172)\n",
      "117. feature 61 (0.000163)\n",
      "118. feature 103 (0.000152)\n",
      "119. feature 104 (0.000145)\n",
      "120. feature 56 (0.000139)\n",
      "121. feature 140 (0.000129)\n",
      "122. feature 133 (0.000121)\n",
      "123. feature 39 (0.000114)\n",
      "124. feature 105 (0.000107)\n",
      "125. feature 139 (0.000104)\n",
      "126. feature 106 (0.000084)\n",
      "127. feature 129 (0.000077)\n",
      "128. feature 110 (0.000074)\n",
      "129. feature 131 (0.000064)\n",
      "130. feature 132 (0.000056)\n",
      "131. feature 55 (0.000043)\n",
      "132. feature 134 (0.000030)\n",
      "133. feature 107 (0.000027)\n",
      "134. feature 109 (0.000021)\n",
      "135. feature 143 (0.000015)\n",
      "136. feature 128 (0.000015)\n",
      "137. feature 127 (0.000011)\n",
      "138. feature 130 (0.000010)\n",
      "139. feature 141 (0.000001)\n",
      "140. feature 124 (0.000000)\n",
      "141. feature 136 (0.000000)\n",
      "142. feature 125 (0.000000)\n",
      "143. feature 11 (0.000000)\n",
      "144. feature 116 (0.000000)\n"
     ]
    }
   ],
   "source": [
    "from sklearn.ensemble import ExtraTreesClassifier\n",
    "\n",
    "forest = ExtraTreesClassifier(n_estimators=250,\n",
    "                              random_state=0)\n",
    "\n",
    "forest = forest.fit(X_train_scaled, y_train)\n",
    "importances = forest.feature_importances_\n",
    "std = np.std([tree.feature_importances_ for tree in forest.estimators_],\n",
    "             axis=0)\n",
    "indices = np.argsort(importances)[::-1]\n",
    "\n",
    "# Print the feature ranking\n",
    "print(\"Feature ranking:\")\n",
    "\n",
    "for f in range(X_train_scaled.shape[1]):\n",
    "    print(\"%d. feature %d (%f)\" % (f + 1, indices[f], importances[indices[f]]))\n"
   ]
  },
  {
   "cell_type": "code",
   "execution_count": 17,
   "metadata": {},
   "outputs": [
    {
     "data": {
      "image/png": "[encoded data removed]",
      "text/plain": [
       "<Figure size 1440x1440 with 1 Axes>"
      ]
     },
     "metadata": {
      "needs_background": "light"
     },
     "output_type": "display_data"
    }
   ],
   "source": [
    "# Plot the impurity-based feature importances of the forest\n",
    "plt.figure(figsize=(20,20))\n",
    "plt.title(\"Feature importances\")\n",
    "plt.bar(range(X_train_scaled.shape[1]), importances[indices],\n",
    "        color=\"r\", yerr=std[indices], align=\"center\")\n",
    "plt.xticks(range(X_train_scaled.shape[1]), indices)\n",
    "plt.xlim([-1, X_train_scaled.shape[1]])\n",
    "plt.show()"
   ]
  },
  {
   "cell_type": "markdown",
   "metadata": {},
   "source": [
    "# Feature selection using SelectFromModel"
   ]
  },
  {
   "cell_type": "code",
   "execution_count": 265,
   "metadata": {},
   "outputs": [
    {
     "data": {
      "text/plain": [
       "(150000, 6)"
      ]
     },
     "execution_count": 265,
     "metadata": {},
     "output_type": "execute_result"
    }
   ],
   "source": [
    "# Feature selection based on the above feature importance\n",
    "from sklearn.feature_selection import SelectFromModel\n",
    "\n",
    "model = SelectFromModel(forest, prefit=True, threshold=0.019)\n",
    "X_train_new = model.transform(X_train_scaled)\n",
    "X_train_new.shape"
   ]
  },
  {
   "cell_type": "code",
   "execution_count": 266,
   "metadata": {},
   "outputs": [
    {
     "data": {
      "text/plain": [
       "(50000, 6)"
      ]
     },
     "execution_count": 266,
     "metadata": {},
     "output_type": "execute_result"
    }
   ],
   "source": [
    "X_test_new = model.transform(X_test_scaled)\n",
    "X_test_new.shape"
   ]
  },
  {
   "cell_type": "code",
   "execution_count": 267,
   "metadata": {},
   "outputs": [
    {
     "data": {
      "text/plain": [
       "array([ 0,  1, 12, 13, 14, 63], dtype=int64)"
      ]
     },
     "execution_count": 267,
     "metadata": {},
     "output_type": "execute_result"
    }
   ],
   "source": [
    "model.get_support(True)"
   ]
  },
  {
   "cell_type": "code",
   "execution_count": 268,
   "metadata": {},
   "outputs": [],
   "source": [
    "X_cols = X_test.columns"
   ]
  },
  {
   "cell_type": "code",
   "execution_count": 269,
   "metadata": {},
   "outputs": [
    {
     "name": "stdout",
     "output_type": "stream",
     "text": [
      "Features selected by scikit learn SelecFromModel are:\n",
      "\n",
      "loan_amnt\n",
      "int_rate\n",
      "total_pymnt\n",
      "total_rec_int\n",
      "last_pymnt_amnt\n",
      "term_ 36 months\n"
     ]
    }
   ],
   "source": [
    "print(\"Features selected by scikit learn SelecFromModel are:\\n\")\n",
    "for i in model.get_support(True):\n",
    "    print(X_cols[i])"
   ]
  },
  {
   "cell_type": "code",
   "execution_count": 270,
   "metadata": {},
   "outputs": [
    {
     "name": "stdout",
     "output_type": "stream",
     "text": [
      "Tuned Logistic Regression Parameters: {'C': 100}\n",
      "Best score is 0.9930866666666667\n",
      "Accuracy score is 0.9928\n"
     ]
    }
   ],
   "source": [
    "# Using K fold cross validation and Grid search to get the most accurate prediction\n",
    "\n",
    "from sklearn.linear_model import LogisticRegression\n",
    "from sklearn.metrics import accuracy_score\n",
    "from sklearn.model_selection import GridSearchCV\n",
    "\n",
    "#the grid of parameters to search over\n",
    "Cs = [0.001, 0.1, 1, 10, 100]\n",
    "\n",
    "param_grid = {'C': Cs}\n",
    "logreg = LogisticRegression()\n",
    "logreg_cv = GridSearchCV(logreg, param_grid, cv=5)\n",
    "logreg_cv.fit(X_train_new, y_train)\n",
    "print(\"Tuned Logistic Regression Parameters: {}\".format(logreg_cv.best_params_)) \n",
    "print(\"Best score is {}\".format(logreg_cv.best_score_))\n",
    "# Print the accuracy from the testing data.\n",
    "print(\"Accuracy score is {}\".format(accuracy_score(logreg_cv.predict(X_test_new), y_test)))\n"
   ]
  },
  {
   "cell_type": "markdown",
   "metadata": {},
   "source": [
    "# Review the results"
   ]
  },
  {
   "cell_type": "code",
   "execution_count": 271,
   "metadata": {},
   "outputs": [
    {
     "data": {
      "text/plain": [
       "array([[39883,    47],\n",
       "       [  313,  9757]], dtype=int64)"
      ]
     },
     "execution_count": 271,
     "metadata": {},
     "output_type": "execute_result"
    }
   ],
   "source": [
    "from sklearn.metrics import confusion_matrix\n",
    "\n",
    "y_pred_log = logreg_cv.predict(X_test_new)\n",
    "pl_log = confusion_matrix(y_test,y_pred_log)\n",
    "pl_log"
   ]
  },
  {
   "cell_type": "code",
   "execution_count": 272,
   "metadata": {},
   "outputs": [
    {
     "data": {
      "text/plain": [
       "array([40196,  9804], dtype=int64)"
      ]
     },
     "execution_count": 272,
     "metadata": {},
     "output_type": "execute_result"
    }
   ],
   "source": [
    "np.bincount(y_pred_log)"
   ]
  },
  {
   "cell_type": "markdown",
   "metadata": {},
   "source": [
    "0 - Fully paid <br>\n",
    "1 - Charges off"
   ]
  },
  {
   "cell_type": "code",
   "execution_count": 273,
   "metadata": {},
   "outputs": [
    {
     "data": {
      "text/plain": [
       "array([39930, 10070], dtype=int64)"
      ]
     },
     "execution_count": 273,
     "metadata": {},
     "output_type": "execute_result"
    }
   ],
   "source": [
    "np.bincount(y_test)"
   ]
  },
  {
   "cell_type": "code",
   "execution_count": null,
   "metadata": {},
   "outputs": [],
   "source": []
  },
  {
   "cell_type": "code",
   "execution_count": 274,
   "metadata": {},
   "outputs": [
    {
     "name": "stdout",
     "output_type": "stream",
     "text": [
      "              precision    recall  f1-score   support\n",
      "\n",
      "           0       0.99      1.00      1.00     39930\n",
      "           1       1.00      0.97      0.98     10070\n",
      "\n",
      "    accuracy                           0.99     50000\n",
      "   macro avg       0.99      0.98      0.99     50000\n",
      "weighted avg       0.99      0.99      0.99     50000\n",
      "\n"
     ]
    }
   ],
   "source": [
    "from sklearn.metrics import classification_report\n",
    "\n",
    "cl_rep_log = classification_report(y_test,y_pred_log)\n",
    "print(cl_rep_log)"
   ]
  },
  {
   "cell_type": "code",
   "execution_count": 275,
   "metadata": {},
   "outputs": [
    {
     "name": "stdout",
     "output_type": "stream",
     "text": [
      "Test Data Set Logistic Regression: Accuracy=0.993\n",
      "Test Data Set Logistic Regression: f1-score=0.993\n",
      "Test Data Set Logistic Regression: roc_auc_score=0.984\n"
     ]
    }
   ],
   "source": [
    "from sklearn.metrics import accuracy_score, f1_score, roc_auc_score\n",
    "\n",
    "ac = accuracy_score(y_test, y_pred_log)\n",
    "print('Test Data Set Logistic Regression: Accuracy=%.3f' % (ac))\n",
    "\n",
    "f1 = f1_score(y_test, y_pred_log, average='weighted')\n",
    "print('Test Data Set Logistic Regression: f1-score=%.3f' % (f1))\n",
    "\n",
    "roc_auc = roc_auc_score(y_test, y_pred_log)\n",
    "print('Test Data Set Logistic Regression: roc_auc_score=%.3f' % (roc_auc))"
   ]
  },
  {
   "cell_type": "markdown",
   "metadata": {},
   "source": [
    "# Logistic Regression Metrics for various Threshold values in feature selection\n",
    "\n",
    "| Threshold | # Features selected | Accuracy| f1_score|roc_auc_score|\n",
    "| --- | --- | --- | --- | --- |\n",
    "|  0 | 144 | 0.993 | 0.993 | 0.984 |\n",
    "|  0.001 | 82 | 0.993 | 0.993 | 0.984 |\n",
    "|  0.002 | 57 | 0.993 | 0.993 | 0.984 |\n",
    "|  0.003 | 55 | 0.993 | 0.993 | 0.984 |\n",
    "| 0.005 | 51 | 0.993 | 0.993 | 0.984 |\n",
    "| 0.006 | 39 | 0.993 | 0.993 | 0.984 |\n",
    "| 0.007 | 34 | 0.993 | 0.993 | 0.984 |\n",
    "| 0.008 | 30 | 0.993 | 0.993 | 0.984 |\n",
    "| 0.01 | 25 | 0.993 | 0.993 | 0.984 |\n",
    "| 0.015 | 15 | 0.993 | 0.993 | 0.984 |\n",
    "| 0.016 | 11 | 0.993 | 0.993 | 0.984 |\n",
    "| 0.017 | 9 | 0.993 | 0.993 | 0.984 |\n",
    "| 0.018 | 7 | 0.993 | 0.993 | 0.984 |\n",
    "| 0.019 | 6 | 0.993 | 0.993 | 0.984 |"
   ]
  },
  {
   "cell_type": "markdown",
   "metadata": {},
   "source": [
    "# Figures for data story"
   ]
  },
  {
   "cell_type": "markdown",
   "metadata": {},
   "source": [
    "ROC curve"
   ]
  },
  {
   "cell_type": "code",
   "execution_count": 276,
   "metadata": {},
   "outputs": [
    {
     "data": {
      "text/plain": [
       "<sklearn.metrics._plot.roc_curve.RocCurveDisplay at 0x23894d7fcf8>"
      ]
     },
     "execution_count": 276,
     "metadata": {},
     "output_type": "execute_result"
    },
    {
     "data": {
      "image/png": "[encoded data removed]",
      "text/plain": [
       "<Figure size 432x288 with 1 Axes>"
      ]
     },
     "metadata": {
      "needs_background": "light"
     },
     "output_type": "display_data"
    }
   ],
   "source": [
    "from sklearn.metrics import plot_roc_curve\n",
    "\n",
    "plot_roc_curve(logreg_cv, X_test_new, y_test)"
   ]
  },
  {
   "cell_type": "markdown",
   "metadata": {},
   "source": [
    "# Finalize code"
   ]
  },
  {
   "cell_type": "markdown",
   "metadata": {},
   "source": [
    "Save the model"
   ]
  },
  {
   "cell_type": "code",
   "execution_count": 277,
   "metadata": {},
   "outputs": [
    {
     "data": {
      "text/plain": [
       "['models/model_loan.joblib']"
      ]
     },
     "execution_count": 277,
     "metadata": {},
     "output_type": "execute_result"
    }
   ],
   "source": [
    "import pickle\n",
    "s = pickle.dumps(logreg_cv)\n",
    "from joblib import dump, load\n",
    "dump(logreg_cv, 'models/model_loan.joblib') "
   ]
  },
  {
   "cell_type": "markdown",
   "metadata": {},
   "source": [
    "# Finalize documentation"
   ]
  },
  {
   "cell_type": "code",
   "execution_count": 278,
   "metadata": {},
   "outputs": [
    {
     "data": {
      "text/plain": [
       "{'mean_fit_time': array([0.21673064, 0.38517141, 0.42622113, 0.44404702, 0.44890709]),\n",
       " 'std_fit_time': array([0.03134006, 0.02626616, 0.01961998, 0.03483612, 0.03295691]),\n",
       " 'mean_score_time': array([0.00572433, 0.00200229, 0.00339632, 0.0039259 , 0.00139408]),\n",
       " 'std_score_time': array([0.00575149, 0.0024523 , 0.00279753, 0.0060556 , 0.00173759]),\n",
       " 'param_C': masked_array(data=[0.001, 0.1, 1, 10, 100],\n",
       "              mask=[False, False, False, False, False],\n",
       "        fill_value='?',\n",
       "             dtype=object),\n",
       " 'params': [{'C': 0.001}, {'C': 0.1}, {'C': 1}, {'C': 10}, {'C': 100}],\n",
       " 'split0_test_score': array([0.9341    , 0.98646667, 0.99186667, 0.99323333, 0.9934    ]),\n",
       " 'split1_test_score': array([0.9357    , 0.98613333, 0.99143333, 0.99263333, 0.99303333]),\n",
       " 'split2_test_score': array([0.93273333, 0.98593333, 0.99093333, 0.99223333, 0.99253333]),\n",
       " 'split3_test_score': array([0.93646667, 0.98673333, 0.99203333, 0.99333333, 0.99356667]),\n",
       " 'split4_test_score': array([0.93373333, 0.9866    , 0.9911    , 0.99266667, 0.9929    ]),\n",
       " 'mean_test_score': array([0.93454667, 0.98637333, 0.99147333, 0.99282   , 0.99308667]),\n",
       " 'std_test_score': array([0.00135394, 0.00029695, 0.00042447, 0.00040912, 0.00036673]),\n",
       " 'rank_test_score': array([5, 4, 3, 2, 1])}"
      ]
     },
     "execution_count": 278,
     "metadata": {},
     "output_type": "execute_result"
    }
   ],
   "source": [
    "logreg_cv.cv_results_"
   ]
  },
  {
   "cell_type": "code",
   "execution_count": 279,
   "metadata": {},
   "outputs": [
    {
     "data": {
      "text/plain": [
       "{'C': 100}"
      ]
     },
     "execution_count": 279,
     "metadata": {},
     "output_type": "execute_result"
    }
   ],
   "source": [
    "logreg_cv.best_params_"
   ]
  },
  {
   "cell_type": "code",
   "execution_count": 280,
   "metadata": {},
   "outputs": [
    {
     "data": {
      "text/plain": [
       "0.9930866666666667"
      ]
     },
     "execution_count": 280,
     "metadata": {},
     "output_type": "execute_result"
    }
   ],
   "source": [
    "logreg_cv.best_score_"
   ]
  },
  {
   "cell_type": "code",
   "execution_count": 281,
   "metadata": {},
   "outputs": [
    {
     "data": {
      "text/plain": [
       "4"
      ]
     },
     "execution_count": 281,
     "metadata": {},
     "output_type": "execute_result"
    }
   ],
   "source": [
    "logreg_cv.best_index_"
   ]
  },
  {
   "cell_type": "code",
   "execution_count": 282,
   "metadata": {},
   "outputs": [
    {
     "data": {
      "text/html": [
       "<div>\n",
       "<style scoped>\n",
       "    .dataframe tbody tr th:only-of-type {\n",
       "        vertical-align: middle;\n",
       "    }\n",
       "\n",
       "    .dataframe tbody tr th {\n",
       "        vertical-align: top;\n",
       "    }\n",
       "\n",
       "    .dataframe thead th {\n",
       "        text-align: right;\n",
       "    }\n",
       "</style>\n",
       "<table border=\"1\" class=\"dataframe\">\n",
       "  <thead>\n",
       "    <tr style=\"text-align: right;\">\n",
       "      <th></th>\n",
       "      <th>mean_fit_time</th>\n",
       "      <th>std_fit_time</th>\n",
       "      <th>mean_score_time</th>\n",
       "      <th>std_score_time</th>\n",
       "      <th>param_C</th>\n",
       "      <th>params</th>\n",
       "      <th>split0_test_score</th>\n",
       "      <th>split1_test_score</th>\n",
       "      <th>split2_test_score</th>\n",
       "      <th>split3_test_score</th>\n",
       "      <th>split4_test_score</th>\n",
       "      <th>mean_test_score</th>\n",
       "      <th>std_test_score</th>\n",
       "      <th>rank_test_score</th>\n",
       "    </tr>\n",
       "  </thead>\n",
       "  <tbody>\n",
       "    <tr>\n",
       "      <th>0</th>\n",
       "      <td>0.216731</td>\n",
       "      <td>0.031340</td>\n",
       "      <td>0.005724</td>\n",
       "      <td>0.005751</td>\n",
       "      <td>0.001</td>\n",
       "      <td>{'C': 0.001}</td>\n",
       "      <td>0.934100</td>\n",
       "      <td>0.935700</td>\n",
       "      <td>0.932733</td>\n",
       "      <td>0.936467</td>\n",
       "      <td>0.933733</td>\n",
       "      <td>0.934547</td>\n",
       "      <td>0.001354</td>\n",
       "      <td>5</td>\n",
       "    </tr>\n",
       "    <tr>\n",
       "      <th>1</th>\n",
       "      <td>0.385171</td>\n",
       "      <td>0.026266</td>\n",
       "      <td>0.002002</td>\n",
       "      <td>0.002452</td>\n",
       "      <td>0.1</td>\n",
       "      <td>{'C': 0.1}</td>\n",
       "      <td>0.986467</td>\n",
       "      <td>0.986133</td>\n",
       "      <td>0.985933</td>\n",
       "      <td>0.986733</td>\n",
       "      <td>0.986600</td>\n",
       "      <td>0.986373</td>\n",
       "      <td>0.000297</td>\n",
       "      <td>4</td>\n",
       "    </tr>\n",
       "    <tr>\n",
       "      <th>2</th>\n",
       "      <td>0.426221</td>\n",
       "      <td>0.019620</td>\n",
       "      <td>0.003396</td>\n",
       "      <td>0.002798</td>\n",
       "      <td>1</td>\n",
       "      <td>{'C': 1}</td>\n",
       "      <td>0.991867</td>\n",
       "      <td>0.991433</td>\n",
       "      <td>0.990933</td>\n",
       "      <td>0.992033</td>\n",
       "      <td>0.991100</td>\n",
       "      <td>0.991473</td>\n",
       "      <td>0.000424</td>\n",
       "      <td>3</td>\n",
       "    </tr>\n",
       "    <tr>\n",
       "      <th>3</th>\n",
       "      <td>0.444047</td>\n",
       "      <td>0.034836</td>\n",
       "      <td>0.003926</td>\n",
       "      <td>0.006056</td>\n",
       "      <td>10</td>\n",
       "      <td>{'C': 10}</td>\n",
       "      <td>0.993233</td>\n",
       "      <td>0.992633</td>\n",
       "      <td>0.992233</td>\n",
       "      <td>0.993333</td>\n",
       "      <td>0.992667</td>\n",
       "      <td>0.992820</td>\n",
       "      <td>0.000409</td>\n",
       "      <td>2</td>\n",
       "    </tr>\n",
       "    <tr>\n",
       "      <th>4</th>\n",
       "      <td>0.448907</td>\n",
       "      <td>0.032957</td>\n",
       "      <td>0.001394</td>\n",
       "      <td>0.001738</td>\n",
       "      <td>100</td>\n",
       "      <td>{'C': 100}</td>\n",
       "      <td>0.993400</td>\n",
       "      <td>0.993033</td>\n",
       "      <td>0.992533</td>\n",
       "      <td>0.993567</td>\n",
       "      <td>0.992900</td>\n",
       "      <td>0.993087</td>\n",
       "      <td>0.000367</td>\n",
       "      <td>1</td>\n",
       "    </tr>\n",
       "  </tbody>\n",
       "</table>\n",
       "</div>"
      ],
      "text/plain": [
       "   mean_fit_time  std_fit_time  mean_score_time  std_score_time param_C  \\\n",
       "0       0.216731      0.031340         0.005724        0.005751   0.001   \n",
       "1       0.385171      0.026266         0.002002        0.002452     0.1   \n",
       "2       0.426221      0.019620         0.003396        0.002798       1   \n",
       "3       0.444047      0.034836         0.003926        0.006056      10   \n",
       "4       0.448907      0.032957         0.001394        0.001738     100   \n",
       "\n",
       "         params  split0_test_score  split1_test_score  split2_test_score  \\\n",
       "0  {'C': 0.001}           0.934100           0.935700           0.932733   \n",
       "1    {'C': 0.1}           0.986467           0.986133           0.985933   \n",
       "2      {'C': 1}           0.991867           0.991433           0.990933   \n",
       "3     {'C': 10}           0.993233           0.992633           0.992233   \n",
       "4    {'C': 100}           0.993400           0.993033           0.992533   \n",
       "\n",
       "   split3_test_score  split4_test_score  mean_test_score  std_test_score  \\\n",
       "0           0.936467           0.933733         0.934547        0.001354   \n",
       "1           0.986733           0.986600         0.986373        0.000297   \n",
       "2           0.992033           0.991100         0.991473        0.000424   \n",
       "3           0.993333           0.992667         0.992820        0.000409   \n",
       "4           0.993567           0.992900         0.993087        0.000367   \n",
       "\n",
       "   rank_test_score  \n",
       "0                5  \n",
       "1                4  \n",
       "2                3  \n",
       "3                2  \n",
       "4                1  "
      ]
     },
     "execution_count": 282,
     "metadata": {},
     "output_type": "execute_result"
    }
   ],
   "source": [
    "results_df = pd.DataFrame(logreg_cv.cv_results_)\n",
    "results_df"
   ]
  },
  {
   "cell_type": "markdown",
   "metadata": {},
   "source": [
    "Save model results"
   ]
  },
  {
   "cell_type": "code",
   "execution_count": 283,
   "metadata": {},
   "outputs": [],
   "source": [
    "results_df.to_csv('models/model_results.csv')"
   ]
  },
  {
   "cell_type": "code",
   "execution_count": null,
   "metadata": {},
   "outputs": [],
   "source": []
  }
 ],
 "metadata": {
  "kernelspec": {
   "display_name": "Python 3",
   "language": "python",
   "name": "python3"
  },
  "language_info": {
   "codemirror_mode": {
    "name": "ipython",
    "version": 3
   },
   "file_extension": ".py",
   "mimetype": "text/x-python",
   "name": "python",
   "nbconvert_exporter": "python",
   "pygments_lexer": "ipython3",
   "version": "3.7.3"
  }
 },
 "nbformat": 4,
 "nbformat_minor": 2
}
