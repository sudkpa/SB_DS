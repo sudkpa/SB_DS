{
 "cells": [
  {
   "cell_type": "markdown",
   "metadata": {},
   "source": [
    "# Capstone 2 - Lending Club Loan Paid or Charged Off Prediction\n",
    "\n",
    "# Documentation\n",
    "\n",
    "Documentation is the sixth step in the Data Science Method.  The following will be performed in this step:\n",
    "\n",
    "1. Review the Results\n",
    "2. Finalize Code\n",
    "3. Finalize Documentation\n",
    "4. Create a Project Report\n",
    "5. Create a Slide Deck for the Executive Audience"
   ]
  },
  {
   "cell_type": "code",
   "execution_count": 1,
   "metadata": {},
   "outputs": [],
   "source": [
    "#load python packages\n",
    "import os\n",
    "import pandas as pd\n",
    "import pandas.api.types as ptypes\n",
    "import datetime\n",
    "import seaborn as sns\n",
    "import matplotlib.pyplot as plt\n",
    "import numpy as np\n",
    "%matplotlib inline\n",
    "import warnings # For handling error messages.\n",
    "#warnings.simplefilter(action=\"ignore\", category=FutureWarning)\n",
    "warnings.filterwarnings('ignore')"
   ]
  },
  {
   "cell_type": "code",
   "execution_count": null,
   "metadata": {},
   "outputs": [],
   "source": []
  },
  {
   "cell_type": "markdown",
   "metadata": {},
   "source": [
    "# Best Model - Logistic Regression"
   ]
  },
  {
   "cell_type": "code",
   "execution_count": 2,
   "metadata": {},
   "outputs": [
    {
     "data": {
      "text/html": [
       "<div>\n",
       "<style scoped>\n",
       "    .dataframe tbody tr th:only-of-type {\n",
       "        vertical-align: middle;\n",
       "    }\n",
       "\n",
       "    .dataframe tbody tr th {\n",
       "        vertical-align: top;\n",
       "    }\n",
       "\n",
       "    .dataframe thead th {\n",
       "        text-align: right;\n",
       "    }\n",
       "</style>\n",
       "<table border=\"1\" class=\"dataframe\">\n",
       "  <thead>\n",
       "    <tr style=\"text-align: right;\">\n",
       "      <th></th>\n",
       "      <th>loan_amnt</th>\n",
       "      <th>int_rate</th>\n",
       "      <th>annual_inc</th>\n",
       "      <th>dti</th>\n",
       "      <th>delinq_2yrs</th>\n",
       "      <th>inq_last_6mths</th>\n",
       "      <th>mths_since_last_delinq</th>\n",
       "      <th>mths_since_last_record</th>\n",
       "      <th>pub_rec</th>\n",
       "      <th>revol_bal</th>\n",
       "      <th>...</th>\n",
       "      <th>initial_list_status</th>\n",
       "      <th>application_type</th>\n",
       "      <th>verification_status_joint</th>\n",
       "      <th>hardship_flag</th>\n",
       "      <th>hardship_type</th>\n",
       "      <th>hardship_reason</th>\n",
       "      <th>hardship_status</th>\n",
       "      <th>hardship_loan_status</th>\n",
       "      <th>debt_settlement_flag</th>\n",
       "      <th>settlement_status</th>\n",
       "    </tr>\n",
       "  </thead>\n",
       "  <tbody>\n",
       "    <tr>\n",
       "      <th>0</th>\n",
       "      <td>2500</td>\n",
       "      <td>13.56</td>\n",
       "      <td>55000.0</td>\n",
       "      <td>18.24</td>\n",
       "      <td>0.0</td>\n",
       "      <td>1.0</td>\n",
       "      <td>0.0</td>\n",
       "      <td>45.0</td>\n",
       "      <td>1.0</td>\n",
       "      <td>4341</td>\n",
       "      <td>...</td>\n",
       "      <td>w</td>\n",
       "      <td>Individual</td>\n",
       "      <td>NaN</td>\n",
       "      <td>N</td>\n",
       "      <td>NaN</td>\n",
       "      <td>NaN</td>\n",
       "      <td>NaN</td>\n",
       "      <td>NaN</td>\n",
       "      <td>N</td>\n",
       "      <td>NaN</td>\n",
       "    </tr>\n",
       "    <tr>\n",
       "      <th>1</th>\n",
       "      <td>30000</td>\n",
       "      <td>18.94</td>\n",
       "      <td>90000.0</td>\n",
       "      <td>26.52</td>\n",
       "      <td>0.0</td>\n",
       "      <td>0.0</td>\n",
       "      <td>71.0</td>\n",
       "      <td>75.0</td>\n",
       "      <td>1.0</td>\n",
       "      <td>12315</td>\n",
       "      <td>...</td>\n",
       "      <td>w</td>\n",
       "      <td>Individual</td>\n",
       "      <td>NaN</td>\n",
       "      <td>N</td>\n",
       "      <td>NaN</td>\n",
       "      <td>NaN</td>\n",
       "      <td>NaN</td>\n",
       "      <td>NaN</td>\n",
       "      <td>N</td>\n",
       "      <td>NaN</td>\n",
       "    </tr>\n",
       "    <tr>\n",
       "      <th>2</th>\n",
       "      <td>5000</td>\n",
       "      <td>17.97</td>\n",
       "      <td>59280.0</td>\n",
       "      <td>10.51</td>\n",
       "      <td>0.0</td>\n",
       "      <td>0.0</td>\n",
       "      <td>0.0</td>\n",
       "      <td>0.0</td>\n",
       "      <td>0.0</td>\n",
       "      <td>4599</td>\n",
       "      <td>...</td>\n",
       "      <td>w</td>\n",
       "      <td>Individual</td>\n",
       "      <td>NaN</td>\n",
       "      <td>N</td>\n",
       "      <td>NaN</td>\n",
       "      <td>NaN</td>\n",
       "      <td>NaN</td>\n",
       "      <td>NaN</td>\n",
       "      <td>N</td>\n",
       "      <td>NaN</td>\n",
       "    </tr>\n",
       "    <tr>\n",
       "      <th>3</th>\n",
       "      <td>4000</td>\n",
       "      <td>18.94</td>\n",
       "      <td>92000.0</td>\n",
       "      <td>16.74</td>\n",
       "      <td>0.0</td>\n",
       "      <td>0.0</td>\n",
       "      <td>0.0</td>\n",
       "      <td>0.0</td>\n",
       "      <td>0.0</td>\n",
       "      <td>5468</td>\n",
       "      <td>...</td>\n",
       "      <td>w</td>\n",
       "      <td>Individual</td>\n",
       "      <td>NaN</td>\n",
       "      <td>N</td>\n",
       "      <td>NaN</td>\n",
       "      <td>NaN</td>\n",
       "      <td>NaN</td>\n",
       "      <td>NaN</td>\n",
       "      <td>N</td>\n",
       "      <td>NaN</td>\n",
       "    </tr>\n",
       "    <tr>\n",
       "      <th>4</th>\n",
       "      <td>30000</td>\n",
       "      <td>16.14</td>\n",
       "      <td>57250.0</td>\n",
       "      <td>26.35</td>\n",
       "      <td>0.0</td>\n",
       "      <td>0.0</td>\n",
       "      <td>0.0</td>\n",
       "      <td>0.0</td>\n",
       "      <td>0.0</td>\n",
       "      <td>829</td>\n",
       "      <td>...</td>\n",
       "      <td>w</td>\n",
       "      <td>Individual</td>\n",
       "      <td>NaN</td>\n",
       "      <td>N</td>\n",
       "      <td>NaN</td>\n",
       "      <td>NaN</td>\n",
       "      <td>NaN</td>\n",
       "      <td>NaN</td>\n",
       "      <td>N</td>\n",
       "      <td>NaN</td>\n",
       "    </tr>\n",
       "  </tbody>\n",
       "</table>\n",
       "<p>5 rows × 87 columns</p>\n",
       "</div>"
      ],
      "text/plain": [
       "   loan_amnt  int_rate  annual_inc    dti  delinq_2yrs  inq_last_6mths  \\\n",
       "0       2500     13.56     55000.0  18.24          0.0             1.0   \n",
       "1      30000     18.94     90000.0  26.52          0.0             0.0   \n",
       "2       5000     17.97     59280.0  10.51          0.0             0.0   \n",
       "3       4000     18.94     92000.0  16.74          0.0             0.0   \n",
       "4      30000     16.14     57250.0  26.35          0.0             0.0   \n",
       "\n",
       "   mths_since_last_delinq  mths_since_last_record  pub_rec  revol_bal  ...  \\\n",
       "0                     0.0                    45.0      1.0       4341  ...   \n",
       "1                    71.0                    75.0      1.0      12315  ...   \n",
       "2                     0.0                     0.0      0.0       4599  ...   \n",
       "3                     0.0                     0.0      0.0       5468  ...   \n",
       "4                     0.0                     0.0      0.0        829  ...   \n",
       "\n",
       "   initial_list_status  application_type  verification_status_joint  \\\n",
       "0                    w        Individual                        NaN   \n",
       "1                    w        Individual                        NaN   \n",
       "2                    w        Individual                        NaN   \n",
       "3                    w        Individual                        NaN   \n",
       "4                    w        Individual                        NaN   \n",
       "\n",
       "   hardship_flag  hardship_type  hardship_reason  hardship_status  \\\n",
       "0              N            NaN              NaN              NaN   \n",
       "1              N            NaN              NaN              NaN   \n",
       "2              N            NaN              NaN              NaN   \n",
       "3              N            NaN              NaN              NaN   \n",
       "4              N            NaN              NaN              NaN   \n",
       "\n",
       "   hardship_loan_status  debt_settlement_flag  settlement_status  \n",
       "0                   NaN                     N                NaN  \n",
       "1                   NaN                     N                NaN  \n",
       "2                   NaN                     N                NaN  \n",
       "3                   NaN                     N                NaN  \n",
       "4                   NaN                     N                NaN  \n",
       "\n",
       "[5 rows x 87 columns]"
      ]
     },
     "execution_count": 2,
     "metadata": {},
     "output_type": "execute_result"
    }
   ],
   "source": [
    "# Read data output created in the EDA step\n",
    "df = pd.read_csv(\"../EDA/data/Cap2_step3_output.csv\", dtype={'verification_status_joint':object,'hardship_type':object, 'hardship_reason':object, 'hardship_status':object, 'hardship_loan_status':object, 'settlement_status':object}, index_col=\"Unnamed: 0\")\n",
    "df.head(5)"
   ]
  },
  {
   "cell_type": "code",
   "execution_count": 3,
   "metadata": {},
   "outputs": [
    {
     "data": {
      "text/plain": [
       "(2150627, 87)"
      ]
     },
     "execution_count": 3,
     "metadata": {},
     "output_type": "execute_result"
    }
   ],
   "source": [
    "df.shape"
   ]
  },
  {
   "cell_type": "code",
   "execution_count": 4,
   "metadata": {},
   "outputs": [],
   "source": [
    "# Drop unwanted columns\n",
    "df_sel = df.drop(['total_pymnt','acc_now_delinq', 'delinq_amnt', 'tot_coll_amt', 'title', 'zip_code', 'addr_state', 'recoveries', 'debt_settlement_flag', 'settlement_amount', 'settlement_percentage', 'settlement_term', 'settlement_status'], axis=1)"
   ]
  },
  {
   "cell_type": "code",
   "execution_count": 5,
   "metadata": {},
   "outputs": [
    {
     "data": {
      "text/plain": [
       "(1250411, 74)"
      ]
     },
     "execution_count": 5,
     "metadata": {},
     "output_type": "execute_result"
    }
   ],
   "source": [
    "# Drop irrelevant loan_status\n",
    "\n",
    "df_sel.reset_index()\n",
    "df_sel = df_sel[~(df_sel['loan_status'] == 'In Grace Period')]\n",
    "df_sel = df_sel[~(df_sel['loan_status'] == 'Current')]\n",
    "df_sel = df_sel[~(df_sel['loan_status'] == 'Late (31-120 days)')]\n",
    "df_sel = df_sel[~(df_sel['loan_status'] == 'Default')]\n",
    "df_sel = df_sel[~(df_sel['loan_status'] == 'Late (16-30 days)')]\n",
    "df_sel.shape"
   ]
  },
  {
   "cell_type": "code",
   "execution_count": 6,
   "metadata": {},
   "outputs": [],
   "source": [
    "# Loan status:\n",
    "# Setting '%Fully Paid' to 0\n",
    "# Setting '%Charges Off' to 1\n",
    "\n",
    "df_sel['loan_status'] = df_sel['loan_status'].replace(['Fully Paid', 'Does not meet the credit policy. Status:Fully Paid'], '0')\n",
    "df_sel['loan_status'] = df_sel['loan_status'].replace(['Charged Off', 'Does not meet the credit policy. Status:Charged Off'], '1')"
   ]
  },
  {
   "cell_type": "code",
   "execution_count": 7,
   "metadata": {},
   "outputs": [],
   "source": [
    "df_sel['loan_status'] = pd.to_numeric(df_sel['loan_status'])"
   ]
  },
  {
   "cell_type": "code",
   "execution_count": 8,
   "metadata": {},
   "outputs": [],
   "source": [
    "# Create a list of object columns.  \n",
    "cols_obj = []\n",
    "for col in df_sel.columns:\n",
    "    if df_sel[col].dtype == object:\n",
    "        cols_obj.append(col)"
   ]
  },
  {
   "cell_type": "code",
   "execution_count": 9,
   "metadata": {},
   "outputs": [
    {
     "data": {
      "text/html": [
       "<div>\n",
       "<style scoped>\n",
       "    .dataframe tbody tr th:only-of-type {\n",
       "        vertical-align: middle;\n",
       "    }\n",
       "\n",
       "    .dataframe tbody tr th {\n",
       "        vertical-align: top;\n",
       "    }\n",
       "\n",
       "    .dataframe thead th {\n",
       "        text-align: right;\n",
       "    }\n",
       "</style>\n",
       "<table border=\"1\" class=\"dataframe\">\n",
       "  <thead>\n",
       "    <tr style=\"text-align: right;\">\n",
       "      <th></th>\n",
       "      <th>loan_amnt</th>\n",
       "      <th>int_rate</th>\n",
       "      <th>annual_inc</th>\n",
       "      <th>dti</th>\n",
       "      <th>delinq_2yrs</th>\n",
       "      <th>inq_last_6mths</th>\n",
       "      <th>mths_since_last_delinq</th>\n",
       "      <th>mths_since_last_record</th>\n",
       "      <th>pub_rec</th>\n",
       "      <th>revol_bal</th>\n",
       "      <th>...</th>\n",
       "      <th>hardship_reason_REDUCED_HOURS</th>\n",
       "      <th>hardship_reason_UNEMPLOYMENT</th>\n",
       "      <th>hardship_status_ACTIVE</th>\n",
       "      <th>hardship_status_BROKEN</th>\n",
       "      <th>hardship_status_COMPLETED</th>\n",
       "      <th>hardship_loan_status_Current</th>\n",
       "      <th>hardship_loan_status_In Grace Period</th>\n",
       "      <th>hardship_loan_status_Issued</th>\n",
       "      <th>hardship_loan_status_Late (16-30 days)</th>\n",
       "      <th>hardship_loan_status_Late (31-120 days)</th>\n",
       "    </tr>\n",
       "  </thead>\n",
       "  <tbody>\n",
       "    <tr>\n",
       "      <th>100</th>\n",
       "      <td>30000</td>\n",
       "      <td>22.35</td>\n",
       "      <td>100000.0</td>\n",
       "      <td>30.46</td>\n",
       "      <td>0.0</td>\n",
       "      <td>0.0</td>\n",
       "      <td>51.0</td>\n",
       "      <td>84.0</td>\n",
       "      <td>1.0</td>\n",
       "      <td>15603</td>\n",
       "      <td>...</td>\n",
       "      <td>0</td>\n",
       "      <td>0</td>\n",
       "      <td>0</td>\n",
       "      <td>0</td>\n",
       "      <td>0</td>\n",
       "      <td>0</td>\n",
       "      <td>0</td>\n",
       "      <td>0</td>\n",
       "      <td>0</td>\n",
       "      <td>0</td>\n",
       "    </tr>\n",
       "    <tr>\n",
       "      <th>152</th>\n",
       "      <td>40000</td>\n",
       "      <td>16.14</td>\n",
       "      <td>45000.0</td>\n",
       "      <td>50.53</td>\n",
       "      <td>0.0</td>\n",
       "      <td>0.0</td>\n",
       "      <td>0.0</td>\n",
       "      <td>0.0</td>\n",
       "      <td>0.0</td>\n",
       "      <td>34971</td>\n",
       "      <td>...</td>\n",
       "      <td>0</td>\n",
       "      <td>0</td>\n",
       "      <td>0</td>\n",
       "      <td>0</td>\n",
       "      <td>0</td>\n",
       "      <td>0</td>\n",
       "      <td>0</td>\n",
       "      <td>0</td>\n",
       "      <td>0</td>\n",
       "      <td>0</td>\n",
       "    </tr>\n",
       "    <tr>\n",
       "      <th>170</th>\n",
       "      <td>20000</td>\n",
       "      <td>7.56</td>\n",
       "      <td>100000.0</td>\n",
       "      <td>18.92</td>\n",
       "      <td>0.0</td>\n",
       "      <td>0.0</td>\n",
       "      <td>48.0</td>\n",
       "      <td>0.0</td>\n",
       "      <td>0.0</td>\n",
       "      <td>25416</td>\n",
       "      <td>...</td>\n",
       "      <td>0</td>\n",
       "      <td>0</td>\n",
       "      <td>0</td>\n",
       "      <td>0</td>\n",
       "      <td>0</td>\n",
       "      <td>0</td>\n",
       "      <td>0</td>\n",
       "      <td>0</td>\n",
       "      <td>0</td>\n",
       "      <td>0</td>\n",
       "    </tr>\n",
       "    <tr>\n",
       "      <th>186</th>\n",
       "      <td>4500</td>\n",
       "      <td>11.31</td>\n",
       "      <td>38500.0</td>\n",
       "      <td>4.64</td>\n",
       "      <td>0.0</td>\n",
       "      <td>0.0</td>\n",
       "      <td>25.0</td>\n",
       "      <td>0.0</td>\n",
       "      <td>0.0</td>\n",
       "      <td>4472</td>\n",
       "      <td>...</td>\n",
       "      <td>0</td>\n",
       "      <td>0</td>\n",
       "      <td>0</td>\n",
       "      <td>0</td>\n",
       "      <td>0</td>\n",
       "      <td>0</td>\n",
       "      <td>0</td>\n",
       "      <td>0</td>\n",
       "      <td>0</td>\n",
       "      <td>0</td>\n",
       "    </tr>\n",
       "    <tr>\n",
       "      <th>269</th>\n",
       "      <td>20000</td>\n",
       "      <td>17.97</td>\n",
       "      <td>57000.0</td>\n",
       "      <td>22.18</td>\n",
       "      <td>0.0</td>\n",
       "      <td>0.0</td>\n",
       "      <td>0.0</td>\n",
       "      <td>0.0</td>\n",
       "      <td>0.0</td>\n",
       "      <td>33356</td>\n",
       "      <td>...</td>\n",
       "      <td>0</td>\n",
       "      <td>0</td>\n",
       "      <td>0</td>\n",
       "      <td>0</td>\n",
       "      <td>0</td>\n",
       "      <td>0</td>\n",
       "      <td>0</td>\n",
       "      <td>0</td>\n",
       "      <td>0</td>\n",
       "      <td>0</td>\n",
       "    </tr>\n",
       "  </tbody>\n",
       "</table>\n",
       "<p>5 rows × 141 columns</p>\n",
       "</div>"
      ],
      "text/plain": [
       "     loan_amnt  int_rate  annual_inc    dti  delinq_2yrs  inq_last_6mths  \\\n",
       "100      30000     22.35    100000.0  30.46          0.0             0.0   \n",
       "152      40000     16.14     45000.0  50.53          0.0             0.0   \n",
       "170      20000      7.56    100000.0  18.92          0.0             0.0   \n",
       "186       4500     11.31     38500.0   4.64          0.0             0.0   \n",
       "269      20000     17.97     57000.0  22.18          0.0             0.0   \n",
       "\n",
       "     mths_since_last_delinq  mths_since_last_record  pub_rec  revol_bal  ...  \\\n",
       "100                    51.0                    84.0      1.0      15603  ...   \n",
       "152                     0.0                     0.0      0.0      34971  ...   \n",
       "170                    48.0                     0.0      0.0      25416  ...   \n",
       "186                    25.0                     0.0      0.0       4472  ...   \n",
       "269                     0.0                     0.0      0.0      33356  ...   \n",
       "\n",
       "     hardship_reason_REDUCED_HOURS  hardship_reason_UNEMPLOYMENT  \\\n",
       "100                              0                             0   \n",
       "152                              0                             0   \n",
       "170                              0                             0   \n",
       "186                              0                             0   \n",
       "269                              0                             0   \n",
       "\n",
       "     hardship_status_ACTIVE  hardship_status_BROKEN  \\\n",
       "100                       0                       0   \n",
       "152                       0                       0   \n",
       "170                       0                       0   \n",
       "186                       0                       0   \n",
       "269                       0                       0   \n",
       "\n",
       "     hardship_status_COMPLETED  hardship_loan_status_Current  \\\n",
       "100                          0                             0   \n",
       "152                          0                             0   \n",
       "170                          0                             0   \n",
       "186                          0                             0   \n",
       "269                          0                             0   \n",
       "\n",
       "     hardship_loan_status_In Grace Period  hardship_loan_status_Issued  \\\n",
       "100                                     0                            0   \n",
       "152                                     0                            0   \n",
       "170                                     0                            0   \n",
       "186                                     0                            0   \n",
       "269                                     0                            0   \n",
       "\n",
       "     hardship_loan_status_Late (16-30 days)  \\\n",
       "100                                       0   \n",
       "152                                       0   \n",
       "170                                       0   \n",
       "186                                       0   \n",
       "269                                       0   \n",
       "\n",
       "     hardship_loan_status_Late (31-120 days)  \n",
       "100                                        0  \n",
       "152                                        0  \n",
       "170                                        0  \n",
       "186                                        0  \n",
       "269                                        0  \n",
       "\n",
       "[5 rows x 141 columns]"
      ]
     },
     "execution_count": 9,
     "metadata": {},
     "output_type": "execute_result"
    }
   ],
   "source": [
    "df_sel = pd.concat([df_sel.drop(cols_obj, axis=1), pd.get_dummies(df_sel[cols_obj])], axis=1)\n",
    "df_sel.head(5)"
   ]
  },
  {
   "cell_type": "code",
   "execution_count": 10,
   "metadata": {},
   "outputs": [
    {
     "data": {
      "text/html": [
       "<div>\n",
       "<style scoped>\n",
       "    .dataframe tbody tr th:only-of-type {\n",
       "        vertical-align: middle;\n",
       "    }\n",
       "\n",
       "    .dataframe tbody tr th {\n",
       "        vertical-align: top;\n",
       "    }\n",
       "\n",
       "    .dataframe thead th {\n",
       "        text-align: right;\n",
       "    }\n",
       "</style>\n",
       "<table border=\"1\" class=\"dataframe\">\n",
       "  <thead>\n",
       "    <tr style=\"text-align: right;\">\n",
       "      <th></th>\n",
       "      <th>loan_amnt</th>\n",
       "      <th>int_rate</th>\n",
       "      <th>annual_inc</th>\n",
       "      <th>dti</th>\n",
       "      <th>delinq_2yrs</th>\n",
       "      <th>inq_last_6mths</th>\n",
       "      <th>mths_since_last_delinq</th>\n",
       "      <th>mths_since_last_record</th>\n",
       "      <th>pub_rec</th>\n",
       "      <th>revol_bal</th>\n",
       "      <th>...</th>\n",
       "      <th>hardship_reason_REDUCED_HOURS</th>\n",
       "      <th>hardship_reason_UNEMPLOYMENT</th>\n",
       "      <th>hardship_status_ACTIVE</th>\n",
       "      <th>hardship_status_BROKEN</th>\n",
       "      <th>hardship_status_COMPLETED</th>\n",
       "      <th>hardship_loan_status_Current</th>\n",
       "      <th>hardship_loan_status_In Grace Period</th>\n",
       "      <th>hardship_loan_status_Issued</th>\n",
       "      <th>hardship_loan_status_Late (16-30 days)</th>\n",
       "      <th>hardship_loan_status_Late (31-120 days)</th>\n",
       "    </tr>\n",
       "  </thead>\n",
       "  <tbody>\n",
       "    <tr>\n",
<<<<<<< HEAD
       "      <th>1970870</th>\n",
       "      <td>18000</td>\n",
       "      <td>10.15</td>\n",
       "      <td>76000.0</td>\n",
       "      <td>17.40</td>\n",
       "      <td>3.0</td>\n",
       "      <td>0.0</td>\n",
       "      <td>15.0</td>\n",
       "      <td>0.0</td>\n",
       "      <td>0.0</td>\n",
       "      <td>12780</td>\n",
=======
       "      <th>703792</th>\n",
       "      <td>17500</td>\n",
       "      <td>11.99</td>\n",
       "      <td>35000.0</td>\n",
       "      <td>24.79</td>\n",
       "      <td>1.0</td>\n",
       "      <td>0.0</td>\n",
       "      <td>6.0</td>\n",
       "      <td>0.0</td>\n",
       "      <td>0.0</td>\n",
       "      <td>13078</td>\n",
>>>>>>> parent of 4371820... Model updates
       "      <td>...</td>\n",
       "      <td>0</td>\n",
       "      <td>0</td>\n",
       "      <td>0</td>\n",
       "      <td>0</td>\n",
       "      <td>0</td>\n",
       "      <td>0</td>\n",
       "      <td>0</td>\n",
       "      <td>0</td>\n",
       "      <td>0</td>\n",
       "      <td>0</td>\n",
       "    </tr>\n",
       "    <tr>\n",
<<<<<<< HEAD
       "      <th>1070667</th>\n",
       "      <td>18000</td>\n",
       "      <td>15.61</td>\n",
       "      <td>136000.0</td>\n",
       "      <td>33.25</td>\n",
       "      <td>0.0</td>\n",
       "      <td>1.0</td>\n",
       "      <td>68.0</td>\n",
       "      <td>0.0</td>\n",
       "      <td>0.0</td>\n",
       "      <td>32957</td>\n",
=======
       "      <th>1481584</th>\n",
       "      <td>30000</td>\n",
       "      <td>9.44</td>\n",
       "      <td>125000.0</td>\n",
       "      <td>25.64</td>\n",
       "      <td>2.0</td>\n",
       "      <td>1.0</td>\n",
       "      <td>16.0</td>\n",
       "      <td>84.0</td>\n",
       "      <td>1.0</td>\n",
       "      <td>8586</td>\n",
>>>>>>> parent of 4371820... Model updates
       "      <td>...</td>\n",
       "      <td>0</td>\n",
       "      <td>0</td>\n",
       "      <td>0</td>\n",
       "      <td>0</td>\n",
       "      <td>0</td>\n",
       "      <td>0</td>\n",
       "      <td>0</td>\n",
       "      <td>0</td>\n",
       "      <td>0</td>\n",
       "      <td>0</td>\n",
       "    </tr>\n",
       "    <tr>\n",
<<<<<<< HEAD
       "      <th>2054398</th>\n",
       "      <td>22400</td>\n",
       "      <td>9.67</td>\n",
       "      <td>100000.0</td>\n",
       "      <td>17.15</td>\n",
       "      <td>0.0</td>\n",
       "      <td>1.0</td>\n",
       "      <td>0.0</td>\n",
       "      <td>0.0</td>\n",
       "      <td>0.0</td>\n",
       "      <td>28461</td>\n",
=======
       "      <th>1667980</th>\n",
       "      <td>3000</td>\n",
       "      <td>18.99</td>\n",
       "      <td>27000.0</td>\n",
       "      <td>6.98</td>\n",
       "      <td>0.0</td>\n",
       "      <td>0.0</td>\n",
       "      <td>0.0</td>\n",
       "      <td>0.0</td>\n",
       "      <td>0.0</td>\n",
       "      <td>1034</td>\n",
>>>>>>> parent of 4371820... Model updates
       "      <td>...</td>\n",
       "      <td>0</td>\n",
       "      <td>0</td>\n",
       "      <td>0</td>\n",
       "      <td>0</td>\n",
       "      <td>0</td>\n",
       "      <td>0</td>\n",
       "      <td>0</td>\n",
       "      <td>0</td>\n",
       "      <td>0</td>\n",
       "      <td>0</td>\n",
       "    </tr>\n",
       "    <tr>\n",
<<<<<<< HEAD
       "      <th>1339590</th>\n",
       "      <td>30000</td>\n",
       "      <td>16.49</td>\n",
       "      <td>160000.0</td>\n",
       "      <td>16.76</td>\n",
       "      <td>0.0</td>\n",
       "      <td>1.0</td>\n",
       "      <td>0.0</td>\n",
       "      <td>0.0</td>\n",
       "      <td>0.0</td>\n",
       "      <td>22818</td>\n",
=======
       "      <th>651880</th>\n",
       "      <td>7200</td>\n",
       "      <td>11.47</td>\n",
       "      <td>43680.0</td>\n",
       "      <td>29.12</td>\n",
       "      <td>0.0</td>\n",
       "      <td>1.0</td>\n",
       "      <td>34.0</td>\n",
       "      <td>0.0</td>\n",
       "      <td>0.0</td>\n",
       "      <td>9404</td>\n",
>>>>>>> parent of 4371820... Model updates
       "      <td>...</td>\n",
       "      <td>0</td>\n",
       "      <td>0</td>\n",
       "      <td>0</td>\n",
       "      <td>0</td>\n",
       "      <td>0</td>\n",
       "      <td>0</td>\n",
       "      <td>0</td>\n",
       "      <td>0</td>\n",
       "      <td>0</td>\n",
       "      <td>0</td>\n",
       "    </tr>\n",
       "    <tr>\n",
<<<<<<< HEAD
       "      <th>1335482</th>\n",
       "      <td>19775</td>\n",
       "      <td>16.49</td>\n",
       "      <td>63000.0</td>\n",
       "      <td>37.68</td>\n",
       "      <td>3.0</td>\n",
       "      <td>1.0</td>\n",
       "      <td>2.0</td>\n",
       "      <td>0.0</td>\n",
       "      <td>0.0</td>\n",
       "      <td>11977</td>\n",
=======
       "      <th>603647</th>\n",
       "      <td>3000</td>\n",
       "      <td>8.99</td>\n",
       "      <td>93000.0</td>\n",
       "      <td>23.35</td>\n",
       "      <td>0.0</td>\n",
       "      <td>1.0</td>\n",
       "      <td>0.0</td>\n",
       "      <td>0.0</td>\n",
       "      <td>0.0</td>\n",
       "      <td>5945</td>\n",
>>>>>>> parent of 4371820... Model updates
       "      <td>...</td>\n",
       "      <td>0</td>\n",
       "      <td>0</td>\n",
       "      <td>0</td>\n",
       "      <td>0</td>\n",
       "      <td>0</td>\n",
       "      <td>0</td>\n",
       "      <td>0</td>\n",
       "      <td>0</td>\n",
       "      <td>0</td>\n",
       "      <td>0</td>\n",
       "    </tr>\n",
       "  </tbody>\n",
       "</table>\n",
       "<p>5 rows × 141 columns</p>\n",
       "</div>"
      ],
      "text/plain": [
       "         loan_amnt  int_rate  annual_inc    dti  delinq_2yrs  inq_last_6mths  \\\n",
<<<<<<< HEAD
       "1970870      18000     10.15     76000.0  17.40          3.0             0.0   \n",
       "1070667      18000     15.61    136000.0  33.25          0.0             1.0   \n",
       "2054398      22400      9.67    100000.0  17.15          0.0             1.0   \n",
       "1339590      30000     16.49    160000.0  16.76          0.0             1.0   \n",
       "1335482      19775     16.49     63000.0  37.68          3.0             1.0   \n",
       "\n",
       "         mths_since_last_delinq  mths_since_last_record  pub_rec  revol_bal  \\\n",
       "1970870                    15.0                     0.0      0.0      12780   \n",
       "1070667                    68.0                     0.0      0.0      32957   \n",
       "2054398                     0.0                     0.0      0.0      28461   \n",
       "1339590                     0.0                     0.0      0.0      22818   \n",
       "1335482                     2.0                     0.0      0.0      11977   \n",
       "\n",
       "         ...  hardship_reason_REDUCED_HOURS  hardship_reason_UNEMPLOYMENT  \\\n",
       "1970870  ...                              0                             0   \n",
       "1070667  ...                              0                             0   \n",
       "2054398  ...                              0                             0   \n",
       "1339590  ...                              0                             0   \n",
       "1335482  ...                              0                             0   \n",
       "\n",
       "         hardship_status_ACTIVE  hardship_status_BROKEN  \\\n",
       "1970870                       0                       0   \n",
       "1070667                       0                       0   \n",
       "2054398                       0                       0   \n",
       "1339590                       0                       0   \n",
       "1335482                       0                       0   \n",
       "\n",
       "         hardship_status_COMPLETED  hardship_loan_status_Current  \\\n",
       "1970870                          0                             0   \n",
       "1070667                          0                             0   \n",
       "2054398                          0                             0   \n",
       "1339590                          0                             0   \n",
       "1335482                          0                             0   \n",
       "\n",
       "         hardship_loan_status_In Grace Period  hardship_loan_status_Issued  \\\n",
       "1970870                                     0                            0   \n",
       "1070667                                     0                            0   \n",
       "2054398                                     0                            0   \n",
       "1339590                                     0                            0   \n",
       "1335482                                     0                            0   \n",
       "\n",
       "         hardship_loan_status_Late (16-30 days)  \\\n",
       "1970870                                       0   \n",
       "1070667                                       0   \n",
       "2054398                                       0   \n",
       "1339590                                       0   \n",
       "1335482                                       0   \n",
       "\n",
       "         hardship_loan_status_Late (31-120 days)  \n",
       "1970870                                        0  \n",
       "1070667                                        0  \n",
       "2054398                                        0  \n",
       "1339590                                        0  \n",
       "1335482                                        0  \n",
=======
       "703792       17500     11.99     35000.0  24.79          1.0             0.0   \n",
       "1481584      30000      9.44    125000.0  25.64          2.0             1.0   \n",
       "1667980       3000     18.99     27000.0   6.98          0.0             0.0   \n",
       "651880        7200     11.47     43680.0  29.12          0.0             1.0   \n",
       "603647        3000      8.99     93000.0  23.35          0.0             1.0   \n",
       "\n",
       "         mths_since_last_delinq  mths_since_last_record  pub_rec  revol_bal  \\\n",
       "703792                      6.0                     0.0      0.0      13078   \n",
       "1481584                    16.0                    84.0      1.0       8586   \n",
       "1667980                     0.0                     0.0      0.0       1034   \n",
       "651880                     34.0                     0.0      0.0       9404   \n",
       "603647                      0.0                     0.0      0.0       5945   \n",
       "\n",
       "         ...  hardship_reason_REDUCED_HOURS  hardship_reason_UNEMPLOYMENT  \\\n",
       "703792   ...                              0                             0   \n",
       "1481584  ...                              0                             0   \n",
       "1667980  ...                              0                             0   \n",
       "651880   ...                              0                             0   \n",
       "603647   ...                              0                             0   \n",
       "\n",
       "         hardship_status_ACTIVE  hardship_status_BROKEN  \\\n",
       "703792                        0                       0   \n",
       "1481584                       0                       0   \n",
       "1667980                       0                       0   \n",
       "651880                        0                       0   \n",
       "603647                        0                       0   \n",
       "\n",
       "         hardship_status_COMPLETED  hardship_loan_status_Current  \\\n",
       "703792                           0                             0   \n",
       "1481584                          0                             0   \n",
       "1667980                          0                             0   \n",
       "651880                           0                             0   \n",
       "603647                           0                             0   \n",
       "\n",
       "         hardship_loan_status_In Grace Period  hardship_loan_status_Issued  \\\n",
       "703792                                      0                            0   \n",
       "1481584                                     0                            0   \n",
       "1667980                                     0                            0   \n",
       "651880                                      0                            0   \n",
       "603647                                      0                            0   \n",
       "\n",
       "         hardship_loan_status_Late (16-30 days)  \\\n",
       "703792                                        0   \n",
       "1481584                                       0   \n",
       "1667980                                       0   \n",
       "651880                                        0   \n",
       "603647                                        0   \n",
       "\n",
       "         hardship_loan_status_Late (31-120 days)  \n",
       "703792                                         0  \n",
       "1481584                                        0  \n",
       "1667980                                        0  \n",
       "651880                                         0  \n",
       "603647                                         0  \n",
>>>>>>> parent of 4371820... Model updates
       "\n",
       "[5 rows x 141 columns]"
      ]
     },
     "execution_count": 10,
     "metadata": {},
     "output_type": "execute_result"
    }
   ],
   "source": [
    "# Using a sample size of 200,000 for modeling, due to Memory error when using all observations.\n",
    "df_sample = df_sel.sample(200000)\n",
    "df_sample.head()"
   ]
  },
  {
   "cell_type": "code",
   "execution_count": 11,
   "metadata": {},
   "outputs": [],
   "source": [
    "y = df_sample['loan_status']\n",
    "X = df_sample.drop(['loan_status'], axis=1)"
   ]
  },
  {
   "cell_type": "code",
   "execution_count": 12,
   "metadata": {},
   "outputs": [],
   "source": [
    "from sklearn.model_selection import train_test_split\n",
    "\n",
    "y = y.ravel()\n",
    "X_train, X_test, y_train, y_test = train_test_split(X, y, test_size=0.25, random_state=1)"
   ]
  },
  {
   "cell_type": "code",
   "execution_count": 13,
   "metadata": {},
   "outputs": [
    {
     "data": {
      "text/plain": [
<<<<<<< HEAD
       "array([[-1.19118730e+00, -2.76610628e-01, -1.17959581e+00, ...,\n",
       "        -2.58199750e-03, -4.24646423e-02, -1.31667529e-02],\n",
       "       [-3.61317997e-01,  9.57370013e-01, -6.00006314e-01, ...,\n",
       "        -2.58199750e-03, -4.24646423e-02, -1.31667529e-02],\n",
       "       [-9.53231947e-01, -1.34872328e+00, -1.24399464e+00, ...,\n",
       "        -2.58199750e-03, -4.24646423e-02, -1.31667529e-02],\n",
       "       ...,\n",
       "       [-2.98854716e-01, -6.63924610e-02, -4.06809816e-01, ...,\n",
       "        -2.58199750e-03, -4.24646423e-02, -1.31667529e-02],\n",
       "       [ 1.17567158e-01, -6.97046963e-01, -2.78012150e-01, ...,\n",
       "        -2.58199750e-03, -4.24646423e-02, -1.31667529e-02],\n",
       "       [ 3.49573631e-01,  2.63280881e+00, -3.83658435e-01, ...,\n",
       "        -2.58199750e-03, -4.24646423e-02, -1.31667529e-02]])"
=======
       "array([[ 0.11778192, -0.04515408, -0.11000308, ..., -0.00365151,\n",
       "        -0.04332262, -0.01183299],\n",
       "       [-0.12019216, -0.71828089,  1.02171368, ..., -0.00365151,\n",
       "        -0.04332262, -0.01183299],\n",
       "       [-0.59614032,  0.00548869, -0.75669838, ..., -0.00365151,\n",
       "        -0.04332262, -0.01183299],\n",
       "       ...,\n",
       "       [ 0.71271712, -1.23103894,  0.69836603, ..., -0.00365151,\n",
       "        -0.04332262, -0.01183299],\n",
       "       [ 3.0924579 ,  0.87485624, -1.24171985, ..., -0.00365151,\n",
       "        -0.04332262, -0.01183299],\n",
       "       [-1.19107551,  1.14495101, -1.4680632 , ..., -0.00365151,\n",
       "        -0.04332262, -0.01183299]])"
>>>>>>> parent of 4371820... Model updates
      ]
     },
     "execution_count": 13,
     "metadata": {},
     "output_type": "execute_result"
    }
   ],
   "source": [
    "from sklearn import preprocessing as ppg\n",
    "\n",
    "scaler = ppg.StandardScaler().fit(X_train)\n",
    "X_train_scaled=scaler.transform(X_train)\n",
    "X_train_scaled"
   ]
  },
  {
   "cell_type": "code",
   "execution_count": 14,
   "metadata": {},
   "outputs": [
    {
     "data": {
      "text/plain": [
<<<<<<< HEAD
       "array([[ 0.47450019,  0.68198421,  0.2049791 , ..., -0.002582  ,\n",
       "        -0.04246464, -0.01316675],\n",
       "       [-1.27744612, -1.48536509,  1.65395283, ..., -0.002582  ,\n",
       "        -0.04246464, -0.01316675],\n",
       "       [-0.47732123,  1.30843435, -0.7610034 , ..., -0.002582  ,\n",
       "        -0.04246464, -0.01316675],\n",
       "       ...,\n",
       "       [-1.23877837, -0.39223062, -0.27801215, ..., -0.002582  ,\n",
       "        -0.04246464, -0.01316675],\n",
       "       [-1.25067614, -0.80215605, -0.95419989, ..., -0.002582  ,\n",
       "        -0.04246464, -0.01316675],\n",
       "       [ 0.11756716, -1.43281055, -0.27801215, ..., -0.002582  ,\n",
       "        -0.04246464, -0.01316675]])"
=======
       "array([[-0.47715328, -0.80901586,  2.06690261, ..., -0.00365151,\n",
       "        -0.04332262, -0.01183299],\n",
       "       [-0.62588708,  0.41907131, -0.14233785, ..., -0.00365151,\n",
       "        -0.04332262, -0.01183299],\n",
       "       [-0.2391792 ,  1.59651571, -1.17705032, ..., -0.00365151,\n",
       "        -0.04332262, -0.01183299],\n",
       "       ...,\n",
       "       [-0.2391792 ,  0.27769358,  0.21334456, ..., -0.00365151,\n",
       "        -0.04332262, -0.01183299],\n",
       "       [-0.2391792 ,  0.53934789, -0.59502455, ..., -0.00365151,\n",
       "        -0.04332262, -0.01183299],\n",
       "       [ 0.47474304,  0.3494375 ,  0.76303556, ..., -0.00365151,\n",
       "        -0.04332262, -0.01183299]])"
>>>>>>> parent of 4371820... Model updates
      ]
     },
     "execution_count": 14,
     "metadata": {},
     "output_type": "execute_result"
    }
   ],
   "source": [
    "X_test_scaled = scaler.transform(X_test)\n",
    "X_test_scaled"
   ]
  },
  {
   "cell_type": "markdown",
   "metadata": {},
   "source": [
    "# Feature importance with Forest of Trees"
   ]
  },
  {
   "cell_type": "code",
   "execution_count": 15,
   "metadata": {},
   "outputs": [
    {
     "data": {
      "text/plain": [
       "(150000, 140)"
      ]
     },
     "execution_count": 15,
     "metadata": {},
     "output_type": "execute_result"
    }
   ],
   "source": [
    "X_train_scaled.shape"
   ]
  },
  {
   "cell_type": "code",
   "execution_count": 16,
   "metadata": {},
   "outputs": [
    {
     "name": "stdout",
     "output_type": "stream",
     "text": [
      "Feature ranking:\n",
<<<<<<< HEAD
      "1. feature 1 (0.038970)\n",
      "2. feature 12 (0.037950)\n",
      "3. feature 3 (0.034871)\n",
      "4. feature 0 (0.034489)\n",
      "5. feature 2 (0.033758)\n",
      "6. feature 10 (0.033104)\n",
      "7. feature 9 (0.032743)\n",
      "8. feature 28 (0.031179)\n",
      "9. feature 42 (0.030931)\n",
      "10. feature 17 (0.030268)\n",
      "11. feature 27 (0.030237)\n",
      "12. feature 41 (0.030174)\n",
      "13. feature 24 (0.030008)\n",
      "14. feature 31 (0.029697)\n",
      "15. feature 43 (0.029052)\n",
      "16. feature 38 (0.027787)\n",
      "17. feature 5 (0.024048)\n",
      "18. feature 6 (0.023151)\n",
      "19. feature 37 (0.022711)\n",
      "20. feature 32 (0.018412)\n",
      "21. feature 14 (0.016005)\n",
      "22. feature 23 (0.015525)\n",
      "23. feature 30 (0.015277)\n",
      "24. feature 4 (0.014913)\n",
      "25. feature 33 (0.014162)\n",
      "26. feature 22 (0.014042)\n",
      "27. feature 21 (0.013119)\n",
      "28. feature 26 (0.012579)\n",
      "29. feature 7 (0.012438)\n",
      "30. feature 20 (0.012347)\n",
      "31. feature 19 (0.012005)\n",
      "32. feature 18 (0.011800)\n",
      "33. feature 59 (0.011310)\n",
      "34. feature 25 (0.010795)\n",
      "35. feature 58 (0.010681)\n",
      "36. feature 8 (0.010192)\n",
      "37. feature 60 (0.009690)\n",
      "38. feature 109 (0.008995)\n",
      "39. feature 39 (0.008794)\n",
      "40. feature 110 (0.008787)\n",
      "41. feature 112 (0.008587)\n",
      "42. feature 113 (0.008573)\n",
      "43. feature 108 (0.007065)\n",
      "44. feature 107 (0.006656)\n",
      "45. feature 36 (0.006460)\n",
      "46. feature 61 (0.006231)\n",
      "47. feature 103 (0.006017)\n",
      "48. feature 64 (0.006015)\n",
      "49. feature 63 (0.005241)\n",
      "50. feature 106 (0.004808)\n",
      "51. feature 40 (0.004671)\n",
      "52. feature 62 (0.003738)\n",
      "53. feature 13 (0.003566)\n",
      "54. feature 65 (0.003145)\n",
      "55. feature 79 (0.002868)\n",
      "56. feature 80 (0.002810)\n",
      "57. feature 78 (0.002740)\n",
      "58. feature 81 (0.002687)\n",
      "59. feature 77 (0.002414)\n",
      "60. feature 83 (0.002355)\n",
      "61. feature 84 (0.002293)\n",
      "62. feature 85 (0.002221)\n",
      "63. feature 82 (0.002124)\n",
      "64. feature 86 (0.002039)\n",
      "65. feature 74 (0.001870)\n",
      "66. feature 75 (0.001828)\n",
      "67. feature 88 (0.001785)\n",
      "68. feature 29 (0.001778)\n",
      "69. feature 73 (0.001723)\n",
      "70. feature 76 (0.001717)\n",
      "71. feature 87 (0.001586)\n",
      "72. feature 72 (0.001553)\n",
      "73. feature 121 (0.001517)\n",
      "74. feature 53 (0.001481)\n",
      "75. feature 89 (0.001422)\n",
      "76. feature 91 (0.001390)\n",
      "77. feature 90 (0.001360)\n",
      "78. feature 66 (0.001334)\n",
      "79. feature 67 (0.001199)\n",
      "80. feature 70 (0.001188)\n",
      "81. feature 16 (0.001096)\n",
      "82. feature 15 (0.001000)\n",
      "83. feature 55 (0.000999)\n",
      "84. feature 71 (0.000994)\n",
      "85. feature 132 (0.000878)\n",
      "86. feature 35 (0.000830)\n",
      "87. feature 115 (0.000799)\n",
      "88. feature 114 (0.000783)\n",
      "89. feature 48 (0.000762)\n",
      "90. feature 116 (0.000756)\n",
      "91. feature 44 (0.000733)\n",
      "92. feature 68 (0.000733)\n",
      "93. feature 93 (0.000724)\n",
      "94. feature 92 (0.000716)\n",
      "95. feature 47 (0.000688)\n",
      "96. feature 69 (0.000684)\n",
      "97. feature 45 (0.000672)\n",
      "98. feature 49 (0.000668)\n",
      "99. feature 94 (0.000648)\n",
      "100. feature 95 (0.000611)\n",
      "101. feature 96 (0.000577)\n",
      "102. feature 46 (0.000489)\n",
      "103. feature 137 (0.000467)\n",
      "104. feature 52 (0.000460)\n",
      "105. feature 97 (0.000406)\n",
      "106. feature 54 (0.000401)\n",
      "107. feature 57 (0.000360)\n",
      "108. feature 117 (0.000356)\n",
      "109. feature 118 (0.000318)\n",
      "110. feature 98 (0.000310)\n",
      "111. feature 133 (0.000295)\n",
      "112. feature 51 (0.000275)\n",
      "113. feature 135 (0.000242)\n",
      "114. feature 99 (0.000240)\n",
      "115. feature 34 (0.000221)\n",
      "116. feature 100 (0.000220)\n",
      "117. feature 101 (0.000208)\n",
      "118. feature 128 (0.000201)\n",
      "119. feature 130 (0.000185)\n",
      "120. feature 56 (0.000184)\n",
      "121. feature 50 (0.000131)\n",
      "122. feature 134 (0.000121)\n",
      "123. feature 124 (0.000098)\n",
      "124. feature 127 (0.000089)\n",
      "125. feature 126 (0.000069)\n",
      "126. feature 105 (0.000053)\n",
      "127. feature 102 (0.000044)\n",
      "128. feature 104 (0.000043)\n",
      "129. feature 129 (0.000037)\n",
      "130. feature 138 (0.000026)\n",
      "131. feature 125 (0.000018)\n",
      "132. feature 123 (0.000012)\n",
      "133. feature 122 (0.000007)\n",
      "134. feature 136 (0.000003)\n",
      "135. feature 131 (0.000002)\n",
      "136. feature 120 (0.000002)\n",
      "137. feature 119 (0.000001)\n",
      "138. feature 11 (0.000000)\n",
      "139. feature 111 (0.000000)\n"
=======
      "1. feature 13 (0.202832)\n",
      "2. feature 0 (0.035845)\n",
      "3. feature 12 (0.034623)\n",
      "4. feature 1 (0.031623)\n",
      "5. feature 3 (0.025366)\n",
      "6. feature 2 (0.024655)\n",
      "7. feature 10 (0.024247)\n",
      "8. feature 9 (0.023988)\n",
      "9. feature 29 (0.022889)\n",
      "10. feature 43 (0.022666)\n",
      "11. feature 25 (0.022109)\n",
      "12. feature 42 (0.021963)\n",
      "13. feature 28 (0.021743)\n",
      "14. feature 32 (0.021698)\n",
      "15. feature 18 (0.021670)\n",
      "16. feature 44 (0.021049)\n",
      "17. feature 39 (0.020268)\n",
      "18. feature 5 (0.017995)\n",
      "19. feature 6 (0.017421)\n",
      "20. feature 38 (0.017336)\n",
      "21. feature 60 (0.014160)\n",
      "22. feature 59 (0.013984)\n",
      "23. feature 33 (0.013894)\n",
      "24. feature 24 (0.013122)\n",
      "25. feature 15 (0.012214)\n",
      "26. feature 31 (0.011694)\n",
      "27. feature 4 (0.011392)\n",
      "28. feature 34 (0.010800)\n",
      "29. feature 23 (0.010740)\n",
      "30. feature 22 (0.010577)\n",
      "31. feature 7 (0.009522)\n",
      "32. feature 61 (0.009345)\n",
      "33. feature 27 (0.009305)\n",
      "34. feature 21 (0.008953)\n",
      "35. feature 20 (0.008772)\n",
      "36. feature 19 (0.008657)\n",
      "37. feature 26 (0.007876)\n",
      "38. feature 8 (0.007857)\n",
      "39. feature 110 (0.007264)\n",
      "40. feature 111 (0.007172)\n",
      "41. feature 114 (0.007066)\n",
      "42. feature 113 (0.007051)\n",
      "43. feature 40 (0.006809)\n",
      "44. feature 62 (0.006376)\n",
      "45. feature 109 (0.006296)\n",
      "46. feature 65 (0.006180)\n",
      "47. feature 108 (0.005857)\n",
      "48. feature 64 (0.005663)\n",
      "49. feature 104 (0.005596)\n",
      "50. feature 37 (0.005084)\n",
      "51. feature 107 (0.004350)\n",
      "52. feature 63 (0.003967)\n",
      "53. feature 41 (0.003571)\n",
      "54. feature 66 (0.003222)\n",
      "55. feature 14 (0.002720)\n",
      "56. feature 79 (0.002426)\n",
      "57. feature 80 (0.002405)\n",
      "58. feature 81 (0.002327)\n",
      "59. feature 82 (0.002279)\n",
      "60. feature 78 (0.002128)\n",
      "61. feature 84 (0.001837)\n",
      "62. feature 75 (0.001792)\n",
      "63. feature 86 (0.001742)\n",
      "64. feature 83 (0.001724)\n",
      "65. feature 85 (0.001713)\n",
      "66. feature 76 (0.001690)\n",
      "67. feature 77 (0.001653)\n",
      "68. feature 122 (0.001641)\n",
      "69. feature 54 (0.001539)\n",
      "70. feature 73 (0.001533)\n",
      "71. feature 87 (0.001519)\n",
      "72. feature 74 (0.001509)\n",
      "73. feature 30 (0.001390)\n",
      "74. feature 89 (0.001256)\n",
      "75. feature 88 (0.001212)\n",
      "76. feature 67 (0.001170)\n",
      "77. feature 68 (0.001167)\n",
      "78. feature 72 (0.001116)\n",
      "79. feature 133 (0.001043)\n",
      "80. feature 71 (0.001041)\n",
      "81. feature 91 (0.001041)\n",
      "82. feature 90 (0.001041)\n",
      "83. feature 92 (0.000952)\n",
      "84. feature 69 (0.000858)\n",
      "85. feature 36 (0.000810)\n",
      "86. feature 17 (0.000775)\n",
      "87. feature 70 (0.000750)\n",
      "88. feature 16 (0.000713)\n",
      "89. feature 56 (0.000700)\n",
      "90. feature 115 (0.000643)\n",
      "91. feature 116 (0.000629)\n",
      "92. feature 93 (0.000583)\n",
      "93. feature 49 (0.000570)\n",
      "94. feature 117 (0.000542)\n",
      "95. feature 94 (0.000527)\n",
      "96. feature 48 (0.000504)\n",
      "97. feature 45 (0.000504)\n",
      "98. feature 50 (0.000485)\n",
      "99. feature 46 (0.000473)\n",
      "100. feature 96 (0.000468)\n",
      "101. feature 95 (0.000461)\n",
      "102. feature 138 (0.000444)\n",
      "103. feature 55 (0.000437)\n",
      "104. feature 97 (0.000400)\n",
      "105. feature 134 (0.000374)\n",
      "106. feature 53 (0.000349)\n",
      "107. feature 47 (0.000317)\n",
      "108. feature 58 (0.000313)\n",
      "109. feature 118 (0.000300)\n",
      "110. feature 99 (0.000300)\n",
      "111. feature 98 (0.000287)\n",
      "112. feature 136 (0.000254)\n",
      "113. feature 52 (0.000226)\n",
      "114. feature 119 (0.000200)\n",
      "115. feature 100 (0.000190)\n",
      "116. feature 57 (0.000189)\n",
      "117. feature 35 (0.000153)\n",
      "118. feature 129 (0.000144)\n",
      "119. feature 101 (0.000138)\n",
      "120. feature 135 (0.000128)\n",
      "121. feature 102 (0.000125)\n",
      "122. feature 131 (0.000119)\n",
      "123. feature 127 (0.000116)\n",
      "124. feature 125 (0.000115)\n",
      "125. feature 51 (0.000099)\n",
      "126. feature 106 (0.000082)\n",
      "127. feature 103 (0.000057)\n",
      "128. feature 128 (0.000055)\n",
      "129. feature 130 (0.000035)\n",
      "130. feature 126 (0.000020)\n",
      "131. feature 139 (0.000018)\n",
      "132. feature 105 (0.000018)\n",
      "133. feature 123 (0.000011)\n",
      "134. feature 124 (0.000009)\n",
      "135. feature 137 (0.000005)\n",
      "136. feature 11 (0.000000)\n",
      "137. feature 132 (0.000000)\n",
      "138. feature 121 (0.000000)\n",
      "139. feature 120 (0.000000)\n",
      "140. feature 112 (0.000000)\n"
>>>>>>> parent of 4371820... Model updates
     ]
    }
   ],
   "source": [
    "from sklearn.ensemble import ExtraTreesClassifier\n",
    "\n",
    "forest = ExtraTreesClassifier(n_estimators=250,\n",
    "                              random_state=0)\n",
    "\n",
    "forest = forest.fit(X_train_scaled, y_train)\n",
    "importances = forest.feature_importances_\n",
    "std = np.std([tree.feature_importances_ for tree in forest.estimators_],\n",
    "             axis=0)\n",
    "indices = np.argsort(importances)[::-1]\n",
    "\n",
    "# Print the feature ranking\n",
    "print(\"Feature ranking:\")\n",
    "\n",
    "for f in range(X_train_scaled.shape[1]):\n",
    "    print(\"%d. feature %d (%f)\" % (f + 1, indices[f], importances[indices[f]]))\n"
   ]
  },
  {
   "cell_type": "code",
   "execution_count": 17,
   "metadata": {},
   "outputs": [
    {
     "data": {
<<<<<<< HEAD
      "image/png": "iVBORw0KGgoAAAANSUhEUgAABIkAAARuCAYAAABX82diAAAABHNCSVQICAgIfAhkiAAAAAlwSFlzAAALEgAACxIB0t1+/AAAADh0RVh0U29mdHdhcmUAbWF0cGxvdGxpYiB2ZXJzaW9uMy4yLjIsIGh0dHA6Ly9tYXRwbG90bGliLm9yZy+WH4yJAAAgAElEQVR4nOzde6yteVnY8e/DHBCK4MTMkeIMOFTHKhovZMRpvXTVWxm8TNPUCK0S6GVKhKgJaq0xkd6CTdQqLWFKkUTEShWVTHUq2urRqsXMgIpFoBmnmBmYwgAyCigI/PrHXtjNYZ85e+bsc9a5fD7JztnvZa33WTv8Mfnye981a60AAAAAuLQ9aNcDAAAAALB7IhEAAAAAIhEAAAAAIhEAAAAAiUQAAAAAJBIBAAAAkEgEAPAXZua7Z+bFu54DAGAXZq216xkAgIvAzLy5elT1oX27P32t9dYzfM9/tNb6b2c23YVnZp5bfdpa6xt3PQsAcGmwkggAOEpfu9b6+H0/DzgQHYWZObbL6z9QF+rcAMCFTSQCAM6qmfmEmfmRmbl7Zt4yM/9qZi7bHvvUmfnlmXnnzLxjZn58Zi7fHvux6rHVf5mZ98zMd87MZmbuOun93zwzX7H9/bkz84qZednM/HH19Pu6/gGzPndmXrb9/eqZWTPzjJm5c2b+aGaeOTNfMDOvm5l3z8y/3/fap8/Mb8zMv5uZe2fmjTPz5fuOf/LM3Dwz75qZ22fmH5903f1zP7P67uobtp/9d7fnPWNm3jAzfzIzd8zMP9n3HpuZuWtmnjMzb99+3mfsO/6wmfmBmfnD7Xy/PjMP2x67bmZ+c/uZfndmNid9rju21/w/M/P37+f/BACAC4T/lwoAONt+tHpb9WnVw6ufq+6s/kM11fOqX6seWf109dzq29Za3zQzX9K+2832x4v7cEP19dXTqo+rfuI+rn8YX1hdU31pdXP1C9VXVA+ufntmfmqt9av7zn1FdUX1d6qfmZnHrbXetZ3j9dUnV59R/dLM3LHW+u+nmPuKPvZ2s7dXX1PdsZ3nv87MrWut126P/+XqE6orq6+sXjEzr1xr/VH1/dVnVX+9+r/bWT88M1dWP1990/azfXn10zPzGdX7qudXX7DWetPMPLr6xEP+3QCAC4yVRADAUXrldjXKu2fmlTPzqOr69qLPe9dab6/+bfWUqrXW7WutX1prvX+tdU/1g9XfOMMZ/uda65VrrQ+3F55Oef1D+pdrrT9ba/1i9d7qJ9Zab19rvaX6H9Xn7zv37dUPrbX+fK31n6s3VV89M4+pvrj6p9v3+p3qxe2FmY+Ze631pwcNstb6+bXWH6w9v1r9YvUl+0758+pfbK9/S/We6q/OzIOqf1B961rrLWutD621fnOt9f7qG6tb1lq3bK/9S9Vt1ZO37/nh6rNn5mFrrbvXWq+/H387AOACYiURAHCU/vb+h0zPzBPbW3Fz98x8ZPeD2lvJ08x8UnsrVb6kesT22B+d4Qx37vv9U+7r+of0tn2//+kB2x+/b/st66O/FeQP21s59MnVu9Zaf3LSsWtPMfeBZub66nurT2/vc/yl6vf2nfLOtdYH922/bzvfFdVDqz844G0/pfr6mfnaffseXP3KWuu9M/MN1bdXPzIzv1E9Z631xtPNCgBceKwkAgDOpjur91dXrLUu3/48cq31Wdvjz6tW9TlrrUe2t6pl9r3+5K9hfW97YaSq7bOFjp90zv7XnO76R+3K2Vej2num0lu3P584M4846dhbTjH3x2zPzMe1dzve91ePWmtdXt3SR/+9TuUd1Z9Vn3rAsTurH9v397l8rfXwtdb3Va21XrXW+srq0dUbq/94iOsBABcgkQgAOGvWWne3d0vUD8zMI2fmQduHVX/klrJHtHdL1Lu3z8b5jpPe4m3VX9m3/b+rh87MV8/Mg6vvae/5PQ/0+kftk6pvmZkHz8zXV5/Z3q1cd1a/WT1vZh46M59T/cPqx+/jvd5WXb29VazqIe191nuqD25XFX3VYYba3nr3kuoHtw/Qvmxm/to2PL2s+tqZ+Vvb/Q/dPgT7qpl51Mx83cw8vL3Y9p7qQ/fzbwIAXCBEIgDgbHtae4Hj99u7lewV7a1Kqfrn1ROqe9t7ePLPnPTa51Xfs33G0bevte6tvrm95/m8pb2VRXd13+7r+kftt9p7yPU7qn9d/d211ju3x55aXd3eqqKfrb53+/yfU/mp7b/vnJnXbm9V+5bqJ9v7HH+vvQdpH9a3t3dr2q3Vu6p/Uz1oG7BuaO/b1O5pb2XRd7T334kPqp6znfld7T0v6pvvxzUBgAvIfPRt8wAAPBAz8/T2vonti3c9CwDAA2ElEQAAAAAiEQAAAABuNwMAAAAgK4kAAAAASCQCAAAAoDq26wEOcsUVV6yrr75612MAAAAAXDRe85rXvGOtdfxUx8/LSHT11Vd322237XoMAAAAgIvGzPzhfR13uxkAAAAAIhEAAAAAIhEAAAAAiUQAAAAAJBIBAAAAkEgEAAAAQCIRAAAAAIlEAAAAACQSAQAAAJBIBAAAAEAiEQAAAACJRAAAAAAkEgEAAACQSAQAAABAIhEAAAAAiUQAAAAAJBIBAAAAkEgEAAAAQCIRAAAAAIlEAAAAACQSAQAAAJBIBAAAAEAiEQAAAACJRAAAAAAkEgEAAACQSAQAAABAIhEAAAAAiUQAAAAAJBIBAAAAkEgEAAAAQCIRAAAAAIlEAAAAACQSAQAAAJBIBAAAAEAiEQAAAACJRAAAAAAkEgEAAACQSAQAAABAIhEAAAAAiUQAAAAAJBIBAAAAkEgEAAAAQCIRAAAAAIlEAAAAAHTISDQzT5qZN83M7TPzXQccn5l5/vb462bmCfuOvXlmfm9mfmdmbjvK4QEAAAA4GsdOd8LMXFa9oPrK6q7q1pm5ea31+/tOu766ZvvzhdULt/9+xN9ca73jyKYGAAAA4EgdZiXRE6vb11p3rLU+UL28uuGkc26oXrr2vLq6fGYefcSzAgAAAHCWHCYSXVnduW/7ru2+w56zql+cmdfMzI2nusjM3Dgzt83Mbffcc88ph9lsNm02m0OMDQAAAMBhHSYSzQH71v0454vWWk9o75a0Z83Mlx50kbXWi9Za1661rj1+/PghxgIAAADgqBwmEt1VPWbf9lXVWw97zlrrI/++vfrZ9m5fAwAAAOA8cphIdGt1zcw8bmYeUj2luvmkc26unrb9lrPrqnvXWnfPzMNn5hFVM/Pw6quq/3WE8wMAAABwBE777WZrrQ/OzLOrV1WXVS9Za71+Zp65PX5TdUv15Or26n3VM7Yvf1T1szPzkWv9p7XWLxz5pwAAAADgjJw2ElWttW5pLwTt33fTvt9X9awDXndH9blnOCMAAAAAZ9lhbjcDAAAA4CInEgEAAAAgEgEAAAAgEgEAAACQSAQAAABAIhEAAAAAiUQAAAAAJBIBAAAAkEgEAAAAQCIRAAAAAIlEAAAAACQSAQAAAJBIBAAAAEAiEQAAAACJRAAAAAAkEgEAAACQSAQAAABAIhEAAAAAiUQAAAAAJBIBAAAAkEgEAAAAQCIRAAAAAIlEAAAAACQSAQAAAJBIBAAAAEAiEQAAAACJRAAAAAAkEgEAAACQSAQAAABAIhEAAAAAiUQAAAAAJBIBAAAAkEgEAAAAQCIRAAAAAIlEAAAAACQSAQAAAJBIBAAAAEAiEQAAAACJRAAAAAAkEgEAAACQSAQAAABAIhEAAAAAiUQAAAAAJBIBAAAAkEgEAAAAQCIRAAAAAIlEAAAAACQSAQAAAJBIBAAAAEAiEQAAAACJRAAAAAAkEgEAAACQSAQAAABAIhEAAAAAiUQAAAAAJBIBAAAAkEgEAAAAQCIRAAAAAIlEAAAAACQSAQAAAJBIBAAAAEAiEQAAAACJRAAAAAAkEgEAAACQSAQAAABAIhEAAAAAiUQAAAAAJBIBAAAAkEgEAAAAQCIRAAAAAIlEAAAAACQSAQAAAJBIBAAAAEAiEQAAAACJRAAAAAAkEgEAAACQSAQAAABAIhEAAAAAiUQAAAAAJBIBAAAAkEgEAAAAQCIRAAAAAIlEAAAAACQSAQAAAJBIBAAAAEAiEQAAAACJRAAAAAAkEgEAAACQSAQAAABAIhEAAAAAiUQAAAAAJBIBAAAAkEgEAAAAQCIRAAAAAIlEAAAAACQSAQAAAJBIBAAAAEAiEQAAAACJRAAAAAAkEgEAAACQSAQAAABAIhEAAAAAiUQAAAAAJBIBAAAAkEgEAAAAQCIRAAAAAIlEAAAAACQSAQAAAJBIBAAAAEAiEQAAAACJRAAAAAAkEgEAAACQSAQAAABAIhEAAAAAiUQAAAAAJBIBAAAAkEgEAAAAQCIRAAAAAIlEAAAAACQSAQAAAJBIBAAAAEAiEQAAAACJRAAAAAAkEgEAAACQSAQAAABAIhEAAAAAiUQAAAAAJBIBAAAAkEgEAAAAQCIRAAAAAIlEAAAAACQSAQAAAJBIBAAAAEAiEQAAAACJRAAAAAAkEgEAAACQSAQAAABAIhEAAAAAiUQAAAAAJBIBAAAAkEgEAAAAQCIRAAAAAIlEAAAAACQSAQAAAJBIBAAAAEAiEQAAAACJRAAAAAAkEgEAAACQSAQAAABAIhEAAAAAiUQAAAAAJBIBAAAAkEgEAAAAQCIRAAAAAIlEAAAAACQSAQAAAJBIBAAAAEAiEQAAAACJRAAAAAAkEgEAAACQSAQAAABAIhEAAAAAiUQAAAAAJBIBAAAAkEgEAAAAQCIRAAAAAIlEAAAAACQSAQAAAJBIBAAAAEAiEQAAAACJRAAAAAAkEgEAAACQSAQAAABAIhEAAAAAiUQAAAAAJBIBAAAAkEgEAAAAQCIRAAAAAIlEAAAAACQSAQAAAJBIBAAAAEAiEQAAAACJRAAAAAAkEgEAAACQSAQAAABAIhEAAAAAiUQAAAAAdMhINDNPmpk3zcztM/NdBxyfmXn+9vjrZuYJJx2/bGZ+e2Z+7qgGBwAAAODonDYSzcxl1Quq66vHV0+dmcefdNr11TXbnxurF550/FurN5zxtAAAAACcFYdZSfTE6va11h1rrQ9UL69uOOmcG6qXrj2vri6fmUdXzcxV1VdXLz7CuQEAAAA4QoeJRFdWd+7bvmu777Dn/FD1ndWH7+siM3PjzNw2M7fdc889hxgLAAAAgKNymEg0B+xbhzlnZr6mevta6zWnu8ha60VrrWvXWtceP378EGMBAAAAcFQOE4nuqh6zb/uq6q2HPOeLqq+bmTe3d5val83Myx7wtAAAAACcFYeJRLdW18zM42bmIdVTqptPOufm6mnbbzm7rrp3rXX3WuufrbWuWmtdvX3dL6+1vvEoPwAAAAAAZ+7Y6U5Ya31wZp5dvaq6rHrJWuv1M/PM7fGbqluqJ1e3V++rnnH2RgYAAADgqJ02ElWttW5pLwTt33fTvt9X9azTvMeJ6sT9nhAAAACAs+4wt5sBAAAAcJETiQAAAAAQiQAAAAAQiQAAAABIJAIAAAAgkQgAAACARCIAAAAAEokAAAAASCQCAAAAIJEIAAAAgEQiAAAAALoII9Fms2mz2ex6DAAAAIALykUXiQAAAAC4/0QiAAAAADq26wEOZebU+9Y6t7MAAAAAXISsJAIAAABAJAIAAABAJAIAAAAgkQgAAACARCIAAAAAEokAAAAASCQCAAAAIJEIAAAAgEQiAAAAABKJAAAAAEgkAgAAACCRCAAAAIBEIgAAAAASiQAAAABIJAIAAAAgkQgAAACARCIAAAAAEokAAAAASCQCAAAAoDq26wGOxMyp9611bmcBAAAAuABZSQQAAACASAQAAACASAQAAABAIhEAAAAAiUQAAAAAJBIBAAAAkEgEAAAAQCIRAAAAAIlEAAAAACQSAQAAAJBIBAAAAEAiEQAAAACJRAAAAAAkEgEAAACQSAQAAABAIhEAAAAAiUQAAAAAJBIBAAAAkEgEAAAAQCIRAAAAAIlEAAAAACQSAQAAAJBIBAAAAEB1bNcDHLUTux4AAAAA4AJkJREAAAAAIhEAAAAAIhEAAAAAiUQAAAAAJBIBAAAAkEgEAAAAQCIRAAAAAIlEAAAAACQSAQAAAJBIBAAAAEAiEQAAAACJRAAAAAAkEgEAAACQSAQAAABAIhEAAAAAiUQAAAAAdIlFos1m02az2fUYAAAAAOedSyoSAQAAAHAwkQgAAAAAkQgAAAAAkQgAAACARCIAAAAAEokAAAAASCT6KJvNps1ms+sxAAAAAM45kQgAAAAAkQgAAAAAkQgAAACARCIAAAAAEokAAAAASCQCAAAAIJEIAAAAgEQiAAAAABKJAAAAAEgkAgAAACCRCAAAAIBEIgAAAACqY7se4JyYOfX2Wod+m81mU9WJEyfOfCYAAACA84iVRAAAAACIRAAAAACIRAAAAAAkEgEAAACQSAQAAABAIhEAAAAA1bFdD3BemDn19lrndhYAAACAHbCSCAAAAACRCAAAAACRCAAAAIBEIgAAAAASiQAAAABIJAIAAAAgkQgAAACARKIjtdls2mw2ux4DAAAA4H4TiQAAAAAQiQAAAAAQiQAAAABIJAIAAACgOrbrAc6lE7seAAAAAOA8ZSXROeTbzwAAAIDz1SW1kugBmzn19lrndhYAAACAs8BKIgAAAABEIgAAAABEIgAAAAASiQAAAADIg6s/yoldDwAAAACwI1YSAQAAACASAQAAACASAQAAAJBIBAAAAEAiEQAAAACJRAAAAABUx3Y9wEVh5tTba53bWQAAAAAeACuJAAAAABCJAAAAABCJAAAAAEgkAgAAACCRCAAAAIBEIgAAAAASiQAAAACoju16gEvCzKm31zq3swAAAAAcwEoiAAAAAKwkuj9O7HoAAAAAgLPESiIAAAAARCIAAAAARCIAAAAAEokAAAAASCQCAAAAIJEIAAAAgEQiAAAAABKJAAAAAEgkOq9sNps2m82uxwAAAAAuQcd2PcDF5MSuBwAAAAB4gKwkAgAAAEAkAgAAAEAkAgAAACCRCAAAAIBEoguKbz8DAAAAzhaRCAAAAACRCAAAAIA6tusBLiUndj0AAAAAwClYSQQAAACASAQAAACASAQAAABAIhEAAAAAiUQAAAAAJBIBAAAAkEh0UdlsNm02m12PAQAAAFyARCIAAAAARKJLiZVGAAAAwKkc2/UAVDOn3l7r3M4CAAAAXJKsJAIAAABAJOL/czsaAAAAXLpEIgAAAABEIg7PSiMAAAC4eHlw9YXAg60BAACAs8xKIgAAAABEIgAAAABEIgAAAAASiQAAAABIJAIAAAAgkYgjtNls2mw2ux4DAAAAeABEIgAAAABEIgAAAABEIgAAAAASiQAAAABIJAIAAAAgkQgAAACA6tiuB+AIzBy8vda5nwUAAAC4IIlE55ETZ+uNRSQAAADgNA4ViWbmSdUPV5dVL15rfd9Jx2d7/MnV+6qnr7VeOzMPrX6t+rjttV6x1vreI5yfoyAiAQAAwCXvtM8kmpnLqhdU11ePr546M48/6bTrq2u2PzdWL9zuf3/1ZWutz60+r3rSzFx3RLMDAAAAcEQO8+DqJ1a3r7XuWGt9oHp5dcNJ59xQvXTteXV1+cw8erv9nu05D97+WJ4CAAAAcJ45zO1mV1Z37tu+q/rCQ5xzZXX3diXSa6pPq16w1vqtgy4yMze2twqpxz72sYca/lJzYlcXdjsaAAAAXPQOs5JoDth3ch045TlrrQ+ttT6vuqp64sx89kEXWWu9aK117Vrr2uPHjx9iLC40m82mzWaz6zEAAACAAxwmEt1VPWbf9lXVW+/vOWutd7e3GOZJ93tKAAAAAM6qw0SiW6trZuZxM/OQ6inVzSedc3P1tNlzXXXvWuvumTk+M5dXzczDqq+o3niE8wMAAABwBE77TKK11gdn5tnVq6rLqpestV4/M8/cHr+puqV6cnV79b7qGduXP7r60e1ziR5U/eRa6+eO/mMAAAAAcCYO8+Dq1lq3tBeC9u+7ad/vq3rWAa97XfX5ZzgjAAAAAGfZoSIR3CfffgYAAAAXvMM8kwgAAACAi5xIBAAAAIBIBAAAAIBIBAAAAEAiEQAAAACJRAAAAAAkEgEAAACQSAQAAABAdWzXA3D+OLHrAQAAAICdEYkuIifO8DgAAABw6XK7GQAAAAAiEQAAAABuN+N+OPFAXzhz8PZaZzANAAAAcJSsJAIAAABAJAIAAABAJAIAAAAgkQgAAACARCIAAAAA8u1mHKETZ/j6zWaz9z4nzvSdAAAAgPvLSiIAAAAARCIAAAAARCIAAAAAEokAAAAASCQCAAAAIJEIAAAAgEQiAAAAABKJAAAAAEgkAgAAACCRCAAAAIBEIgAAAACqY7segEvHiV0PAAAAAJySlUQAAAAAiEQAAAAAiEQAAAAAdAE+k+jErgcAAAAAuAhZSQQAAACASAQAAADABXi7GRehmYO31zr3swAAAMAlykoiAAAAAEQiAAAAAEQiAAAAABKJAAAAAEgkAgAAACCRCAAAAIBEIgAAAAASiQAAAABIJAIAAAAgkQgAAACARCIAAAAAEokAAAAASCQCAAAAIJEIAAAAgEQiAAAAABKJAAAAAEgkAgAAAKA6tusB4CNO7HoAAAAAuIRZSQQAAACASAQAAACASAQAAABAIhEAAAAAiUQAAAAAJBIBAAAAkEgEAAAAQCIRAAAAAIlEAAAAACQSAQAAAJBIBAAAAEAiEQAAAACJRAAAAAAkEgEAAACQSAQAAABAIhEAAAAAiUQAAAAAJBIBAAAAkEgEAAAAQCIRAAAAAIlEAAAAACQSAQAAAJBIBAAAAEAiEQAAAACJRAAAAAAkEgEAAACQSAQAAABAIhEAAAAAiUQAAAAAJBIBAAAAkEgEAAAAQCIRAAAAAIlEAAAAACQScQHZbDZtNptdjwEAAAAXJZEIAAAAAJEIAAAAAJEIAAAAgEQiAAAAABKJAAAAAEgkAgAAACCRCAAAAIBEIgAAAAASiQAAAABIJAIAAAAgkQgAAACARCIAAAAAEokAAAAASCQCAAAAIJEIAAAAgEQiAAAAABKJAAAAAEgkAgAAACCRCAAAAIBEIgAAAACqY7seAE5r5uDttc79LAAAAHCRspIIAAAAAJGIi8dms2mz2ex6DAAAALggiUQAAAAAiEQAAAAAiEQAAAAAJBIBAAAAkEgEAAAAQCIRAAAAAIlEAAAAACQSAQAAAJBIxCVks9m02Wx2PQYAAACcl0QiAAAAAEQiAAAAAEQiAAAAABKJAAAAAEgkAgAAAKA6tusB4IzNHLy91rmfBQAAAC5QVhIBAAAAIBIBAAAA4HYzLiAndj0AAAAAXMSsJAIAAABAJAIAAABAJAIAAAAgkQgAAACARCIAAAAA8u1mXApmDt5e69zPAgAAAOcpK4kAAAAAEIkAAAAAEIkAAAAASCQCAAAAIJEIAAAAgEQiAAAAAKpjux4AjsqJXQ8AAAAAFzAriYALwmazabPZ7HoMAACAi5ZIBAAAAIBIBAAAAIBIBAAAAEAiEQAAAACJRAAAAAAkEgEAAACQSAQAAABAdWzXA8C5cmLXAwAAAMB5zEoiAAAAAEQiAAAAAEQiAAAAABKJAAAAAEgkAgAAACCRCAAAAIBEIgAAAAASiQAAAABIJAIAAAAgkQgAAACARCIAAAAAEokAAAAASCQCAAAAIJEIAAAAgEQiAAAAABKJAAAAAEgkAgAAACCRCAAAAIBEIgAAAAASiYBLxGazabPZ7HoMAACA85ZIBAAAAIBIBAAAAIBIBAAAAEAiEQAAAACJRAAAAAAkEgEAAACQSAQAAABAIhEAAAAAiUQAAAAAJBIBAAAAkEgEAAAAQCIRAAAAAIlEAAAAAHTISDQzT5qZN83M7TPzXQccn5l5/vb462bmCdv9j5mZX5mZN8zM62fmW4/6AwAAAABw5k4biWbmsuoF1fXV46unzszjTzrt+uqa7c+N1Qu3+z9YPWet9ZnVddWzDngtAAAAADt2mJVET6xuX2vdsdb6QPXy6oaTzrmheuna8+rq8pl59Frr7rXWa6vWWn9SvaG68gjnBwAAAOAIHCYSXVnduW/7rj429Jz2nJm5uvr86rcOusjM3Dgzt83Mbffcc88hxgIAAADgqBwmEs0B+9b9OWdmPr766erb1lp/fNBF1lovWmtdu9a69vjx44cYCwAAAICjcphIdFf1mH3bV1VvPew5M/Pg9gLRj6+1fuaBjwoAAADA2XKYSHRrdc3MPG5mHlI9pbr5pHNurp62/Zaz66p711p3z8xUP1K9Ya31g0c6OQAAAABH5tjpTlhrfXBmnl29qrqsesla6/Uz88zt8ZuqW6onV7dX76uesX35F1XfVP3ezPzOdt93r7VuOdqPAQAAAMCZOG0kqtpGnVtO2nfTvt9X9awDXvfrHfy8IgAAAADOI4e53QwAAACAi5xIBAAAAIBIBAAAAIBIBAAAAEAiEQAAAACJRAAAAAAkEgEAAACQSAQAAABAIhEAAAAAiUQAAAAAJBIBAAAAkEgEAAAAQCIRAAAAAIlE8Bc2m02bzWbXYwAAAMBOiEQAAAAAiEQAAAAAiEQAAAAAJBIBAAAAkEgEAAAAQCIRAAAAAIlEAAAAACQSAQAAAJBIBAAAAEAiEQAAAACJRAAAAPy/9u49zJarrhP+t8jhGkQQYQghEKIBCcgLilxGgS0gA1HJIIOCCirjy4DyKiovr7yMGERHQJQRRfDCTZ3B8TYYBxRU2IIiEZAkBJJAAiG3ExNuyYSQhEDNH2vV6dXVtbs7p0+f3d3n83me85zuvXZVrVutWvu3V1UDJNm37AzA0nXd9O99f/jzAgAAAEtiJRHAJsxms8xms2VnAwAAYNsIEgEAAAAgSAQAAACAIBEAAAAAESQCAAAAIIJEAAAAAESQCAAAAIAIEgEAAAAQQSIAAAAAIkgEAAAAQASJAAAAAIggEQAAAABJ9i07A7BTzJedAQAAAFgiK4kAAAAAECQCAAAAQJAIAAAAgAgSAQAAABBBIgAAAAAiSAQAAABABIkAAAAAiCARAAAAABEkAgAAACCCRAAAAABEkJ4rJ9IAACAASURBVAgAAACACBIBAAAAEEEiAAAAACJIBAAAAEAEiQAAAACIIBEAAAAAESQCAAAAIIJEAAAAAESQCAAAAIAIEgEAAAAQQSIAAAAAIkgEmzabzTKbzZadDQAAANgWgkRwiAgiAQAAsJsJEgEAAAAgSAQAAACAIBEAAAAAESQCAAAAIIJEAAAAAESQCAAAAIAIEgEAAAAQQSIAAAAAIkgEAAAAQASJAAAAAEiyb9kZgB2v66Z/7/vDnxcAAADYJlYSAQAAACBIBAAAAIAgEQAAAAARJILDZjabZTabLTsbAAAAMEmQCAAAAABBIgAAAAAEiQAAAACIIBEAAAAAESQCAAAAIMm+ZWcAdr2um/6972/Sboa/fDafz7eeJwAAALiJrCQCAAAAQJAIAAAAALebwabNl50BAAAA2EZWEgEAAABgJRFsu0P0YGsAAADYTlYSAQAAACBIBAAAAIAgEQAAAAARJAIAAAAggkQAAAAARJAIAAAAgCT7lp0BOOJ13fTvfX+TdjObzZIk8/l863kCAADgiGMlEQAAAACCRAAAAAAIEsGuMZvNDtxSBgAAAIeaZxLBYTJfdgYAAABgHVYSAQAAACBIBAAAAIAgEQAAAAARJAIAAAAgHlwNh8x82RkAAACALbCSCAAAAABBIgAAAADcbgY7xnzZGQAAAOCIZiURAAAAAIJEAAAAALjdDHa+rpv+ve8Pf14AAADYs6wkAgAAAMBKItj1NrnSaDabJUnm8/n25wkAAIBdx0oiAAAAAASJAAAAABAkAgAAACCCRAAAAABEkAgAAACACBIBAAAAEEEiAAAAACJIBAAAAECSfcvOALA582VnAAAAgD3NSiIAAAAABIkAAAAAECQCAAAAIIJEQDWbzTKbzZadDQAAAJZEkAgAAAAAQSIAAAAABIkAAAAASLJv2RkADo35ko8/PM9oPp8vNR8AAAAcHEEi2Ou6bvr3vj/8eQEAAGDHcrsZsCn++hkAAMDeJkgEAAAAgCARAAAAAIJEAAAAAESQCAAAAIAIEgEAAAAQQSLgMPHX0QAAAHY2QSIAAAAABIkAAAAAECQCAAAAIMm+ZWcAWLKum/697w9/XgAAAFgaK4mAHcGDrQEAAJbLSiJgfVYaAQAAHBGsJAIAAADASiJgi6w0AgAA2BOsJAIAAABAkAgAAAAAt5vBEWO+7AwAAACwo1lJBAAAAIAgEQAAAACCRAAAAADEM4mA7dZ107/3/eHPCwAAAAtZSQQAAACAIBEAAAAAgkQAAAAAxDOJgGq+xfSDMn5eUfuaZxYBAAAcVlYSAQAAACBIBAAAAIAgEQAAAAARJAIAAAAgHlwNHCLzZWcAAACALbGSCAAAAABBImBvmM1mmc1my84GAADAriVIBAAAAIBnEgE7WNctfq3vD29eAAAA9jhBIuCwmC87AwAAAKzL7WYAAAAACBIBAAAAIEgEAAAAQDyTCNgh5svOwBbMZrMkyXw+X2o+AAAAtsJKIgAAAAAEiQAAAAAQJAIAAAAggkQAAAAARJAIIEl5+PTwAGoAAIAjkb9uBuxeXbf4tb4/vHnhoPnrcAAAsDNYSQQAAACAlUTAHrZLVhpZSQMAAOwEVhIBAAAAIEgEAAAAgCARAAAAABEkAgAAACCCRAAAAABEkAiALZrNZgf+QhsAALB7CRIBAAAAIEgEAAAAQLJv2RkAWJquW/xa3x/evAAAACzZplYSdV33uK7rzuu67vyu6352Ir3ruu5VNf2sruu+qUl7fdd1V3Rdd/ahzDhAa17/AQAAcHA2DBJ1XXdUklcneXySk5I8teu6k0Zve3ySE+u/ZyZ5TZP2xiSPOxSZBQAAAGB7bGYl0YOTnN/3/Sf6vr8hyR8lOWX0nlOS/H5fvC/J7buuOyZJ+r5/d5LPHspMAxxJ/PUwAADgcNhMkOjYJBc3v19SX7up71lX13XP7LruA13XfeDKK6+8KZsCAAAAsEWbCRJNPNk14ye6buY96+r7/nf6vn9Q3/cPutOd7nRTNgU4ollpBAAAHAqbCRJdkuS45ve7JbnsIN4DAAAAwA61mSDR+5Oc2HXdPbuuu0WSpyQ5bfSe05I8vf6Vs4cmuarv+/2HOK8AAAAAbJMNg0R939+Y5DlJ3p7knCR/3Pf9R7que1bXdc+qb3tbkk8kOT/J7yb5sWH7ruvenOSfkty767pLuq77j4e4DAAAAABs0b7NvKnv+7elBILa117b/Nwn+fEF2z51KxkEAAAAYPttKkgEcETqJp7JP7zW36Rn8wMAAOx4m3kmEQAAAAB7nCARAAAAAG43A0iS+bIzAAAAsGRWEgEAAAAgSAQAAACAIBHAtpvNZpnNZsvOBgAAwLoEiQAAAAAQJAIAAABAkAgAAACACBIBAAAAEEEiAAAAACJIBAAAAEAEiQAAAABIsm/ZGQDYtbpu8e99f3jzAgAAsEVWEgEAAAAgSAQAAACAIBEAAAAA8UwigO2z0TOLPNMIAADYQawkAgAAAECQCAAAAABBIgAAAADimUQAO9cheqbRbDZLkszn80ObPwAAYE+xkggAAAAAQSIAdrbZbHZgNRQAALB9BIkAAAAAECQCAAAAQJAI4Ijndi4AACARJAIAAAAgyb5lZwBgr5svOwMAAACbYCURAAAAAIJEAAAAAAgSAQAAABBBIgAAAAAiSAQAAABABIkAAAAAiCARAAAAABEkAgAAACCCRAAAAABEkAgAAACACBIBsM1ms1lms9myswEAAGxAkAgAAAAAQSIAAAAABIkAAAAAiCARAAAAABEkAgAAACCCRAAAAABEkAgAAACACBIBAAAAkGTfsjMAwNbMl50BAABgTxAkAtjh5svOAAAAcERwuxkAAAAAVhIB7Fldt/j3vj+8eQEAAHY8K4kAAAAAECQCAAAAwO1mAFs2X/L2AAAAh4KVRACsazabZTabLTsbAADANhMkAgAAAECQCAAAAABBIgAAAADiwdUAR66uW/x73x/evAAAAEtnJREAAAAAgkQAAAAACBIBAAAAEM8kAmCRRc8s8rwiAADYk6wkAgAAAECQCAAAAABBIgAAAADimUQAHCzPLAIAgD3FSiIAAAAABIkAAAAAcLsZABuYLzsDAADAYSFIBMD22OiZRZ5pBAAAO4rbzQAAAAAQJAKArZjNZpnNZsvOBgAAbJkgEQAAAACCRADsblbyAADAoSFIBAAAAIAgEQAAAACCRAAAAABEkAiAI5xnGgEAQLFv2RkAYHvNl50BAABgV7CSCAAAAABBIgAAAAAEiQAAAACIIBEAAAAAESQCAAAAIP66GQA7VddN/973hz8vAABwBLCSCAAAAABBIgAAAAAEiQAAAACIIBEAAAAA8eBqgCPefNkZ2Gaz2SxJMp/Pl5oPAADY6awkAgAAAECQCAAAAABBIgAAAADimUQA7FZdN/173x/+vAAAwB5gJREAAAAAgkQAAAAAuN0MgL3K7WgAAHCTWEkEAAAAgCARAAAAAIJEAAAAAESQCAAAAIB4cDUA22y+7AwAAACbIkgEwJ42X3YGAABgl3C7GQAAAACCRAAAAAAIEgEAAAAQQSIAAAAAIkgEAAAAQASJAAAAAIggEQAAAAARJAIAAAAggkQAAAAARJAIANY1m80ym82WnQ0AANh2+5adAQDYivmyMwAAAHuEIBEAR6aum/697w9/XgAAYAdwuxkAAAAAgkQAAAAAuN0MAKa5HQ0AgCOMlUQAAAAACBIBwHaazWaZzWbLzgYAAGxIkAgAlkgQCQCAnUKQCAAAAAAPrgaA9cyXfPxhldF8Pj+odAAA2CwriQAAdiC3IgIAh5sgEQAAAABuNwOAg9J107/3/eHPC0cktxoCAIealUQAAAAACBIBAAAAIEgEAHuahx8DALBZgkQAAAAACBIBAAAA4K+bAcD28NfPAADYZQSJAGAZdkgQyZ9RZ7voWwCw+wgSAcBOtEOCSAAAHDkEiQBgNzpMQSSrQQAAjhweXA0AAACAIBEAcPBms9mB1UYHkw4AwM4hSAQAwGEngAgAO48gEQCwZ201ECGQAQAcSQSJAIClEYQBANg5/HUzANiLDtNfP9tuG/11NX99DQDg0BEkAoAj0R4JIi3bVoNUuznItdPzvtPzBwA7kSARALCWIBIAwBFHkAgAttF82RkAAIBNEiQCgCWaLzsDB8tKIwCAPUeQCAB2sPmyM3CwBJEAAHYdQSIAtmS+7AwAB8WDnQGAMUEiANjF5svOwMGy0ggAYMcRJAJgR5svOwOwBVbr7FzaBgDWutmyMwAAsCyz2exAsABa+gYARyIriQDgCDbfYvq2cTsaAMBhJ0gEwBFtvuwM7HLzZR1YEAkA4JATJAKAPWy+7AwswziA1L7W9xun7xGeuQMA3FSCRAAALUGmJIJMe532BWCKB1cDAAAAYCURALB95svOAAAAmyZIBAAszXwvHv8IuR0NANh7BIkAAA6nm/rMo/Z3QSYAYBsJEgEA7CaCSADANhEkAgDYSwSR2AX8dTWAnUmQCADgSLJREEmQCQCOWIJEAMCONV92BlhLEAkA9ixBIgCWar7sDAA7ktuRAODwEyQCAHat+bIzAACwhwgSAQBsk/myM7AMB/vMo5t4q5qVRgBw6N1s2RkAAADYS2az2YFAJsBuYiURAMBBmi87A3vRIVppxNZYqQVwZBIkAtiE+bIzAByU+bIzsETzZWcA2DaCeMB2ESQCAFhgvuwMLNF82RlYZKOVRltNZ1MEKQD2JkEiAAB2nPmyM7CBjYIkW00HgGUQJAIAgMEOWWkkCLU1R3r97PXyAdtHkAgAgF1nvqwDu51tU7YapFh2kGPZxwdYFkEiAAA4XDxT6ZAQxAHYHoJEAABLMl92Bjho82VnYJHtDkIJUgHsaYJEAABHoPmyM7DHzbeYvmstO0i1R4JYVkoByyJIBAAAO8x8m9OPWIcoiCSIA+xVgkQAAMAhNd/m7be6/4UO00okQabF1A0s182WnQEAAAD2htlsdiDQA+w+VhIBR4T5sjMAAHvIfNkZWIbxKqP2tb7fevphstWVOlb6wN4mSAQAAKwyX3YGtmi+7AwcjB0SZBIE2hr1x24nSAQAWzBfdgYAuMnmu3z7STc1yNT+biUTUAkSAbvCfNkZAGCV+bIzANtovuwMLMNGQaStpu8QGwWZtpq+1ePDsgkSAQAAHCHmyzrwYQpCCcLA1ggSAQAAkGT7g0jbtv9FQaQhgLTs9E3a7pVOgmhsZFNBoq7rHpfk15McleT3+r5/6Si9q+knJ7k2yQ/3ff8vm9kWAACAFfNlZ2Ad82VnYAPzZWdgkUMURNpugkhsGCTquu6oJK9O8h1JLkny/q7rTuv7/qPN2x6f5MT67yFJXpPkIZvcFgAAADY03+btt7r/g7ZLVjqx921mJdGDk5zf9/0nkqTruj9KckqSNtBzSpLf7/u+T/K+rutu33XdMUmO38S2AAAA7AHzZWdgm823efut7v+gbTLINKvJ8+F9hyu9cjvd9ttMkOjYJBc3v1+Sslpoo/ccu8ltkyRd1z0zyTOT5O53v/vqxI2im9KlS9+d6Ts5b9KlS9+96Ts5bzclvU50M57objZ9u/O3Ufqy87/B/kevHv78LTt92eVb9vEPJv2mbDtVvkOZt432v93H38703dg32vRtzv98g/Stjn07Nr3aKPgjOLR1mwkSdROvjXvwovdsZtvyYt//TpLfSZIHPehBG5whAAAAsLMsO0ix7OOz+20mSHRJkuOa3++W5LJNvucWm9gWAAA4gvggyyL6BizXZoJE709yYtd190xyaZKnJPn+0XtOS/Kc+syhhyS5qu/7/V3XXbmJbQEAAPaMZQc6ln18YPfaMEjU9/2NXdc9J8nbU/6M/ev7vv9I13XPqumvTfK2JCcnOT/JtUl+ZL1tt6UkAABHkN3+IXCn53+n548jm/4JbJfNrCRK3/dvSwkEta+9tvm5T/Ljm90WAID1+RDIdtK/AJhys2VnAAAAAIDl29RKIgAA2E2slAGAm06QCACAQ06QBgB2H7ebAQAAACBIBAAAAIAgEQAAAAARJAIAAAAggkQAAAAARJAIAAAAgAgSAQAAABBBIgAAAAAiSAQAAABABIkAAAAAiCARAAAAABEkAgAAACCCRAAAAABEkAgAAACACBIBAAAAEEEiAAAAACJIBAAAAEAEiQAAAACIIBEAAAAAESQCAAAAIIJEAAAAAESQCAAAAIAIEgEAAAAQQSIAAAAAIkgEAAAAQASJAAAAAIggEQAAAAARJAIAAAAggkQAAAAARJAIAAAAgAgSAQAAABBBIgAAAAAiSAQAAABABIkAAAAAiCARAAAAABEkAgAAACCCRAAAAABEkAgAAACACBIBAAAAEEEiAAAAACJIBAAAAEAEiQAAAACIIBEAAAAAESQCAAAAIIJEAAAAAESQCAAAAIAIEgEAAAAQQSIAAAAAIkgEAAAAQJKu7/tl52GNruuuTPKpdd7ytUk+fZDpW9lWunTp0o0t0qVLP5zpOzlv0qVL373pOzlv0qVL3970e/R9f6eFqX3f77p/ST5wsOlb2Va6dOnSd+KxpUuXvnfTd3LepEuXvnvTd3LepEuXvr3pG/1zuxkAAAAAgkQAAAAA7N4g0e9sIX0r20qXLl36Tjy2dOnS9276Ts6bdOnSd2/6Ts6bdOnStzd9XTvywdUAAAAAHF67dSURAAAAAIfSVp56fTj/JXl9kiuSnL3Ba7+S5NwkZyX5n0luX1+/VZJ/TnJmko8kefHEMR6X5Lwk5yf52VHacUneleScuv1PLjj+1yT5myQfr//foUn7ySRn1+2fO7XP+r4HJHlfkjOSfKDm6X9NlO/CJFeOjv8/6nZnJLk4yf+e2H/7nguTXNvs/8n1vV9J8p1T+WuO9bNJ+qZML57Yx4OTfKjZ/0tq3s9MclV9X7vtuOwPbo53YZIPD2kT7Xf7JH9a6+fcJB8dt3dT9jOTXJ/ki6P0deu3OdZLatk/Nqrbjcq3Xv84aqirLOivzf4/kuSzdT/t8Yf8n1Pzft4ovW2bD0y1bZL/p9nu5UnunZX+ckaSq5OcOtU3mvJdleSGJB9t9vt/Jfmn2oYXjet2ou0vG7d3s49zU/6s47h8pya5tG5zQ23DdvvJ/pXkp+p+zk7y5lr/bX86J8lf1jxf07TfPafaM8lX1fd+Mcl1Sd6YMl58NuV8+3Dd39Ob9viLNONJkhck2Z/ST1elJ/mOJB9M8ql6jHH6g2sZP5wyBlxW6+XKmn7zJG9KOUeuqXXZ5v+Hk3yh7vuLKX39AaP+cU79v62fq2p5v5LkQVnQ32v+Ppzk8/X9Fyd5WNMXnlePedpo/1+o7z8jyTuSnDS1/6atv1DL/+EkxzTvfVetr2HfD8vGY+tw7p2R5J0p52m7/am1js+pdXZBVs6X52Z1/z+7vq/tb0NdXdjkud2+7bsXJfnEaPv23D4vq8/X52b1uP/Zmsd2+7Z859Z9HEifaJtzR9sP5T+j/v+pUXpbv2eNy9/0rU/UvP1rm//m+C+rxx/Xz0bHH+rvI3WbT2b12DG0z3kp/fis0f6H+jmnvnb2OH9ZOTf2p5xT7fGH+j8nZWz6YrP9+1L66vVZmbu8KtNzmTvWbb+c0kc/MNE/17Rf1va/j9byP3fi2vCKNHOViWvXmvNng7HhYRuU/7lZ59ox2vfnal2152bb9mek9J3xtWN4z9T5+b6sHbva+nxHkrvWejw3ZQy/LmVcfVTKdfvLTZlOHtVnOzYfX9/3yayMrQ8alfWo+t4bU863tyT5Un3/B1LGz3b/4+3HY9+t1hlXH5a1Y8sFo7Yf961zR+njeffXZPW8rx17LkoZ99vjt33zL1Ouve324/b9rlH6un17Yuw6J6vz3+7/kpQxeNX2WT0v+pWszNWGzwGXNenvzajv1H38QFb6/oHrataOjeNzs62/G7PSzz6woHwfHdJr/q5rtrkwK2PfuG/+QH1P2ze/v9n/zVPmpdeljFVD+Yd5zXDM1y0o/4NH5T+/br/huVe3P360/T+O2v/slPHhw7V8L27a5+ymfr4+K2PZgXlRM+/6RMr5c2lWz5vumDL23VCPs2qukJV51RVZGR8O5L/u/3O17q5L8rGJ/nVD3V/bfuN556809XNp6rWm2ddra11elum5zGR60/5D/vv6nrZ+7p/k/TU/17fpWRnbhnnn9WnG8pR56xk17bqa783m7RZJ3lDzNvSdA2Vv6v7Ketz9o+2HvA1l+8wofZgzD+kXjtKHOfcVKX191fGburkkK+dbm791+86COf+Dmnp5Y1Y+T5yZZJYyD70xzTUkC64LzfGvSfKb48+0i/4tPfiz6Ywmj0jyTaPONPXaY5PsayaTL6s/d0lu2wx0pyd56OiifEGSE2pnPDPJSU36MUm+qf78VSnBgadNHP/lqQGmlCDKcPz71Y5ymyT7kvxtkn87sc+TUgaVx9fXfzdlwvO/Jsr332rHWRPEaE6214z3P3rPvHbWYf/3SQkKzJP8u6n81d+PS/L2lAv+17Z1OtrHryX5783+b9e0x/NqHttt27KfnGTe5PXCJF+7Th95U5IfrT/fIsmx67R3lzIJf9Ho+BvWb1aCe/tr2du226h8k/2j/v7TQ11lQX9t9n9M3ddrR8d/bEr/Oqbm/WWj9KFt3pvkByb63ren9M1b1rQ7j8p+VJLLUy7kU3335bVcj6j1e2Wz7fuTPLL+/NKUvt2eO+O2v27c3sM+avlOTZlMtMc/NcnzFvWXiWPMkxybMim6dX39j1OCJOP+dHJ97fKm/U6fas8kP57kD+rPd02ZcDw7ZfD+RH39GUlek5Vz5f9OHU9qWc5Mueg8KuXi8Mwm/YF1v/dJmTBfP9p+GGdenuSXUi5sv5Pan5N8f5I/quk/V+tq0Xj5wNoWD03TP2pd/NSofr6ntsU8pY8sGg9vk+T3k/xobcsrktxxNLZck5VJ8rD/h2flgvoTKRf1qf3vS5lkvC3lfLpjysRqeO8Hk/xVs+/bZ4NzP/Xcqz+fnjo2Ndufmtr3Js6Xe2Sl7x6bMjH45VF/W1NXo+3fkeTxdfvLk7x7tH077j5ofPwmT8emTMp/YbT97Zr0zyT53Ta9aZt5ysTkbqPtT00Z8xadT8PYdGzKh8RfHaWvGXvG+c9K3/hUytjb1s9Gxx/q75iUCfk8q8eOdnx6RsrY0u6/bf+fSBl72/Qh//esx7/7uP6a7X815dozbP/kJD+Wlb79spQPhlNzmaNTrj0/k2ayt1H7ZaX/3S9lIvvLWZmLnJiV/vP+lAnwbUbpbf+cOn/WGxtuv0H575H1rx3tvh+R5NHJmiDR85rfL8zasX/Ve0bnx5Ozduyaau8uZd5215Tr8lkpY9cbkrxylKf2fGzH5uPr/2vO19Fc4KKUMex5KR/Mn1O3G65bk9tneuw7KovH1dtn5dy4X627d4/afuhb96v7/r1R+nje/Xdp5n2jsn0kyVtGxx+fe+/I6nnjuH1/epS+bt9uxo5/TPmQdtwo/6fWep6ap5+YtWPTi7IyV3tEyrX5mib9hHHfGffNJN+YlbnAMDbeL+Xa8Kvj/DfbX5XkpRP1OrTvjUnu1by+6nNS3ferMtE3R333u1PmHW3fen7K2H2blLHzi7V8/5TkwmZe9Z6p8tfthvIP1/1vzybOvaaerpton6H9u5R51kuyMm9+Vi3fuVm5dvxGVsay12ZlXjTMu341pR9fkOS3m/Sjk3xbkl9P8urxXCEr86rbNWU9tcn/SSn9764p14kLUs7Ndny7MMk3jNpvPO98ZZP+6ylfZrbt95762vMyPZfZKP2xKcHLT4zKty9lzHtDzccdR/VzfP1/cixPmUu+uqbdL+Wc2VTeUubUb6h1e+eUa9CrhrI3df/YlL55YUpwfZy3yXleVvrUY5PcLaVv/vcmfZhz367m/dK27pu6+bd133cc5W+jvjM1528XSbwyJaB7dlP+pyV5Ysrniwc15+7UdWE4/rNyE4JEu+Z2s77v350Srd7otXf0fX9j/fV9KY2dvrimvn7z+q9vNn1wkvP7vv9E3/c3pHS2U5r97u/7/l/qz8PqnMvHx6/bvKn+/KYk/77+fJ8k7+v7/tqav79P8m0T+zy25ut2XdfdLeVblrMXlO9PUy6wa3Rd16WsBPq1if0P77lbyge/X2n2f07f9+fVXz+zIH9J6bDPT4lWJk2dNvu4ZUqn/L1m/1fX//ustEHbHn3KSZgkX50yIdlQ13W3SxmQXlf3f0Pf95eO8zba7Ikp37K2ed9M/b4y5ZvP6+uxDtTNJso32T9qW3xnal0t6q/N/venRKP70fHf0ff9jTX9L1I+yLXpQ9vckPKtxbhtn50yARnKdsWo7I9OckHf9x9Y0DdOSfKmem7+QVbaMikD17vrz69OiYS3xm1/Y9a6d8qH4/0pbf2kqb69jkX9a1+SW3ddty/lYvH5rO1Pb0vpz5+v27wp5cIxdb6flDIhSX3/l1MmN3dP+RYiKd8IPbI53z6UlfHklCR/1Pf9WX3fvzPlgvGlIb3v+w/1fX9Z3/fnJHlryq3DZzfpwzhzSko/6JP8QkqQZaiHo2v6n6X0hzcO+R/1v6em9rXU/pGVD2v/dVQ//1L3NVg0Hu6reXldyrfzfcrkNynn14vrMf5wtP+Lm30fnXLhn9r/U1MmjK+o238myROSvKmOFXdK+UJg2PfnNzr3h3Ovbn9iSp87sH2mDefLp7K6/38pyROb/nbZgrpqt2/77s2TXNFuPxq7p47fOjrJaaPtr27Sj0py1Ch/SWmbX6o/32oifTA+ny4b1e+NSe4+2n5q7Bnnf7juDGP5ovKtOf5Qf3Xs+HTNUzt2tO3zN0me1O5/VD9H1/21xx/OjRvq8a+Zqp96bf7elGvPsP2fpHyoH7wvyY0L5jLDiqPr2wJvov2GcrzJYQAAGYxJREFU8t0nZSJ+SjMXeWLTf26TMmlv5ypPTO2fi86frD82HDg/FpT/U1n/2nGgb9T0C3JotPW/auyaau/qvX3fX5ZyDt5Yy3tJVsb1Yfv2fGzH9qn0A+pc4IdSPngPY/Dnmrd8dRaf78nE2Nf3/ZezeFz9fFbGlvukfDC8ZNQ3hrq4T8qHoy+N0ttz++NJ7ptm3teU7XYp/fD/HR2/Pfc+nORbp7Zv6uc7R+nr9u36nlemrHK6PskXJ9KH8o3n6U9M0//q8R+Zlbnau1OuLVc2Y9cnmn0OY8XYU1POgXZef5+ULz7uMpW/eu4cneTPJ/Y3jI2r9M3npObc+42N+mbKZ4/x/O+uWVnpd4uUD6d3qL8Pnye/Omuv033db3uODNf992QT5179+euTXDvRPsO8sE8J3D0pK/PmoXzHZOXa8fisXGtfnJV50Skpn/2+K2X8Oj9lZdvDa76+0Pf9P9R9Dnlq5wrDvOraJLdu6qVv9v+FJDf0ff/Juv8HZ3TtS7k+DXXx7qydd57c1M/lKXPLJEnXdf8+5XoxfG5cNZfZKL0e8x1ZGaPb9MemBkJSxurPpATBHp7VJsfyvu8/lOQxtQwfqfXziE3m7aQkf9f3/dV1bvD5lOvcUPah7t+Z0jdvSJnbrinb1Dxv6FO17MPntT9r0oc599U177dKCegOx39skrP6vn9vff9nUr7Mua7+vlHfmZrz37fJ+i1SFiekKf95dX9t+SavC83xrxunrWfXBIkO0jOS/NXwS9d1R3VdNywn+5u+709v3ntsVg9sl2TBh86u645P+XB4+kTyv6mT0OGD/J3r62cneUTXdXfsuu42KSf5cQv2+dyUwM3H6vaLnk7+jJRo4ZSHJ/nXvu8/vk6e/zBlQnDxeOOxdvuu656Q5NK+78+sye/KdJ1+fUok9SvNa+m67pe6rrs4ZWnjt422fW6SX6npr0hZfjfok7yj67oPdl33zFEWT0g5Yd/Qdd2Huq77va7rvmqd9n54ygqtP1mQnkzU70TZ19TtBuVb1D/+a1YH3Rb219H+X7ROf3xGkr/aoL+O83+vJA/vuu70ruv+vuu6bxm9/SmpE5sF2x8oX0p77GveenbKZCop39weM9r3uO0/m7XtPd7HcRPle07XdWelRPL/brT9mv7Vl2DiK1K+ud2fMgm6MGv709EpH45uTA60374F7XlmklNq+12ZMsBfnXJOf1Wb/0wbj0fX12NPeVLKh4kvtS92XfeQlHPwnUme1ff9JSnf4CXl4vSFrHwL94o6Mbxzs/3Q/56X5G21/90r5dz5x5T6PW1UP2OL+vsJKROpz6ZMlM5Kcsvh/KppX0nyGxP7v3PT/7sF+/+ZlInnS1P68/ObvJyQMrE6fp28T46tXdf9Ukob3irJ7Se2f07XdWd1Xff6ruvukNXny9lJnlD72+kpE9v9Sa6qE5Opumq3H64L70uZHD1+tP2UNedrkq9LCRrMx9vX8r0vZYLyvW16M/YNtwSdMXH856Rccy9Ncz61+avlvzzlm+o2fWrsOZD/qbF3onzrHX/NuT8aO9aMLeP9j8feUfpwbvx5yvl6yVT5s/raPNU+yWjuMvF7n3Jefm97LVyv/ZrynZ0SHDluai6SMi48cGKustH5s9mxYVH517t2rOobKd+2jh0491KCJFNzhfXOzzUm2nt8Xb4oZfz8ckpg5+ubfa/nnrVu/j7lQ3XrN2r+39i89tyUudC9s3ZeNLZm7NvEuDqMLa9KaZ+XjftG7VuvSqn7Vy7oO0n5MuI3M5r3Vf8h5dx44ej47bk3BH/G2w/X9fekrBRp09ft203535oydt9hIv/PSfKLSZ7cdd0Jo/QD/S/lQ9kbR8c/IcnR7dg11XeqPmWl1M9kdM2u+X9YkvcsqN+Hp/S117Z9ezQ29kn+ZME8edXngg18X9YGiV6XEhS6PKXvX5Uyp/iFJHcZja2Lyn+LlLnN+Un+rPnAvsqC7c9Lue6e1XXde2oej8vq/vO9KedJO29+TEpgc7h23Gl0rR3mRcO8axiLLknpL0P6lHauMMyr9mflToPvafJ/bEqbv6Prug+mBDWOzer+9W+S/MOo/cbzzjuP6ufXap0dneT/Swl8rcnfRukj35cyNrbp90rpXyckeWvXdc8f1V9SVkh9XZI/6rru4Vk7lg91+6SUceqOm8zbMKfe13Xdb6asvvruoexZXfcXpfTD7x2V7cC4W/O2quxd1z2k67qPpASqn5WyAneqbv40pe2e0hz/Xkn6ruve3nXd/q7rPp+mbRZoj7/RnP/MlFve0nXdPZN8cxZ/fjhk9myQqOu6F6acVP9teK3v+y/3ff+AlG/kHtx13f3aTSZ2syb633XdbVOii88dRbvXVT+AvSzlG8q/TmnwGxfs89kpAZw3ply41nw70JTvLQsOeeBbiqk8d133XSkn9us2ynu7fT3mC7N60P/2jOq07v+GlCWe47p4Yd/3x6W0zZ+Ptn12yjL141KeE9Pm71v7vv+mlA9HP9513SOatH0pS0pf0/f9A1MGi+ev095PTfLmRelT9Vsv2uOyH51R3W5QvjVqXV3R9/0HR/U02V9H+/+p8fEn8r+wv070jX0pk4CHpnzb98dd13X1vbdIuRD/yTrbr+cZKe32wZRAyXiCNG77Cyfae7yP4duC4fivSblAPSDlXu4PjrZf07/qhP6UlIvbXVPa9Luztj/97Abla70+ZYKRlIvAF+q+n5/ka0b5nzI1Hq19U9fdN2Vcmfrm4PSUe7+/JWXSdqsm+cEpk82rU8r9M13XnTDa/stJ/lPKSosTav8b+sePpKw4+OaUerqp9bMvZSL3uJSlu9+YMvEfzq99qfegT9T/FU3/v+VEnXxXyoehk1JWvfxjyreNw0RlGCuun2rb9cbWvu9fmPIt4y2TfGG0fdv39qd8s9ueL0PfPSPlGQqfS+1vXdf94IJ6ard/dkqfHe57/8B620+dr9UPpUxADvT3YftavvvX+ntNk/701Lap58vQ9u32Q/lnSe6S8tyTNfnruu4lKRPh40bpa8aeIf8Lxt6bj8q30fHH5/4bs3rsmBpbVtXfaOz9iVH6kP/HpbTtlVPlT732LGqf8dxlai6TstLi1JRvuQ9cC9dpvx8cypcyt3hvyjfdq+Yi1bUp3/Sumas05Zw6fzY7Nqxb/gXGfePVo/TxuffeiWvHRufnGqP2fk59bbguPybllvxX1H0/IuWD7/6U21UW2Z9yK+IDU26buk/KNWcYu45PCVZ8sdlmuIXmvKydFx2wYOx7Uso1Yr1xdTg3jkkJ0rwno7avdXFMykqNvx+n1+P/fso31cNqw7GTUz50j6+rw7l3flae19Ia2u6FKV8sPH2UvlHffmGSF9V5+FUpH/La9GH/w0qkfx6lD/3vJbXsvzA6/lH1Xzt2/edx36m+NaW+L0hZTdrOY4fbrp6Z6XPvqSkrTsZ9ux0bL08JlE3Nkw98LlhPV75gujalfVq3S3ne0UUpX+zcMaXv/mDK7VAH5lVT5071oL7vb51yvvxw13WPmcrDgu3/ISufQ4aVxDfL6rH7timrLIZ58/1T+sY44DVZ9KmsLHzz2rnCMK+6az3+lSkrRIf8dym3eQ/td58k35DV49uTUuYXU+23kqnV9TOcDy9OuRVtWIH46FH+NkofyjW0/ymj9H0pX3xfW/9/Ytd1j2423Z+yWv6arNwSetuJehvmrf+peXmjvA1z6g+kzB3+OmVuPZS9rft7poxBt2i2H4+7f1lfP1D2vu9P7/v+vilz5mGBw7hu7ptyDblvVtf9UDc/kDKWnJPyhc14rBr2M+47G835X59ybn9dyqKC92b6botDq9/kfWk74V/qPYWbeG1Yqnubdfb181l9j/PDkry9+f0FKasM2m1unnILyU8vOn7KRfyY+vMxSc5bcPz/kvIMgql9XpVyT/XwAL2vpJyUfzgu34Ly70tZJXO3qf3X97w05YS6OKXjHdh/TZ+n3Bu8avuUD3NXZOWhXjemXDDu0tZpzf/wULM1+6/vuceQ92HbWvauvtYluXpB/Z06ar+7pN4TXX9/eJK3TrV3Wz8L0ifrd0HZv5jk5xfkcap8a/rHqK0X1dWq/lpf+7qUIMC4bYf8326q7Zv2fcg4PWXgnTW/X5DyrUtSLhjv2OB8aMv3LSkfJKbq5l4pKxHac2dh24/bu752Ut1mTfnG5+aw/dQxUlYNvK7Z7ukp9z6v6U+1Ps5t2u+GcXsuyMtFKfdpt3m6V5J/Hp1vx6d8K7Zq/EmZGP/IaPu7pUwov3W8/bg9Ulb7/bua/7NTPmQ9rUl/fcrE9LxRvl+Z5P/PSv/966x8CL9w6B9N/Qz5H/IzOR5m7fn6LykT8+H8ujhlcjaMLav235xf14/3n3I+fSZlojKcT8M3/8fU/V3c5OXAWJENxtYm7xc3+Vg11jR971Npzpcm7ckpH0yHtn96kt+aqKtLs/p8uyqlzz455UPi1e32E2P3KePjp4x9n08JkGfB9k9OWXJ/dpM+rBa9sP7/laZtprb/H6Ptf6up3/OSvHF8/Kwde/Ynedc6Y++VaZ5Zt9Hxs/rcH24VWjR23Cvl3FrTfk3fW9W+WTk3hvYZzo22/O21eTyeHp9yHTgwd8k6c5mUbzl/M2uvhVPt91sT5Rv6339J8mPj/tP8PsxVhrFi8vzJBmPDJsq/8Nox0Tc+leScjcb9duzf6PzMaOyaaO92n8PY+3tZmTcM24+PP8/E2Nykfz7J0+rPw7zpxpT5WZ+VP7Ax7H98bTyQ30yPfR+pv1+YxePq5LU3o74xros2PaWvXlr/XZjRXKa2/ZVJLm72NZ6n/XLd7vrx9k36/pTr7qK50rhv/2QWz1mnynegnbLS94e+PczVvpTSj69NCUz9fZJPNvto502r+k59bbiunpqJeef43BufO6O+/XPrlO/UlOv28Sl9Z7z9PNPzhiF/86weC16d2lfr72emnANXN3U27p9ryt+kfTLlA++Qv1XH28T2n8ro+Uyj9v/5Wj+fzsofMrmxtt/963uOycq86AX13zDWvT3lS6ELRvXzwynPEFo1V5ion9dn9bPmxvO681NWDk7Ou5v2G887zxvVz3n1+O9p+sEXajl/qsnfuumj9v+TifI9JeXLlaF+fi4lYDqunyF9nnL9uX5UtgtS5q1t3W8qb81+3psSSBrKfqDuU86lK1KCl2u2r+lX1TxsOj3NnHui7p+S1fOan0sJVJ2XzfWdyTn/OmPTe1M+Ax2f5plEU9eF0es/nL34TKLN6rrucSlL1p7QN/e/dl13p67rbl9/vnXKt0DtKpf3Jzmx67p71m+4npLyTeSwfZcy8Tun7/v1lo+dltLBUv//i2Yfd67/3z3lG4M3L9jnZSkBq7sl+Y8p93i/s+/7H1xUvpGhbJeuk+d5kn/oSyT6KcP+J/a1avu+7z/c9/2d+74/PmUid1nKt4VXNcdN3/cvSDkJntDuv+u6E2sd3CllOeO5o/a4LOV+76Q8vGu4Xe7oruu+avg55f7P9llNlye5uOu6e9eXvjv1uQUT7f2YmnbNOH29+h2V/Z4p33a9qe/7A8sjN1G+Nf2j7/sX9H1/t7rfp6TcHvRTU/212X+X0n8ub9u2zX/KB4j1+uuLJtLfUus9XdfdKyUSP9wf3a5OW3Q+tOX7DymThyFvQ/+/WZL/nNXfjCer2/7krLTfgfYe7eMvk5w+Kv8xzTZPqdu0/WWqf12U5KFd192mluvRKUGLtj89OuUbtL/Nyj3EP5QSfFhzvnddd/eu6+5af/7OlFsK3p2VpbVDHbw2005L8pSu627ZlaWlt06Z7A/lvH3K5P4Ffd//43jjOo7tq/v5yZRVO9+asjogtcyPquk/mvIN1klN/u9UV4w8OeU5DkP/fUuSR9Xz7dMpF7lPN/UzVY6p8fDWqfXbdd09Um57++fh/Krj0vVJnlyPNez/+GbfT0iZUKw5n1Jus/tYfe1dNY/vSfJDdX83ZuUZGI9O8tGNxtbh3KvbD7cTtdu3t08Oz5Fob1UaboW7OGXZ8Oub/nbORF1dndXf+g5996K6zfmj7cemvjV+TMotxvcf9fdzhvLV/T8yyceb9D9vxr7vTqm/b0350DFsf0yz/SPqa+3+h/r9iSTfMj5+1o49X53ycPNVY2/NwyUp7Tk8VyIbHX+ov/raW1OeudeOHePx6XNZ3X5D/SSl791sVL9D/ofj3zIr58bQPo9JmexfkrXt88iU1b1P6Pv+2nXmMgeuhVl50ObZG7TfOaPy/WLKLSvtXKR1h/reNv20rHP+ZHNjw3rlX3jtyNq+cfOUIMpQJ+25932p1/rRtWPd83Nsor3PrePiPVL6z8+njKvnTuz77CxQ93FU/fmElLHw0qTMm/q+v2Xf9/tS6u3jKatELkwZo5NmXjS2YOzbn+T7NhhX2+vi96T0nQNtP6qL769lbtOHvvqAvu+PbecyzbzyMfVYF46vq83Y+MKUW7GendXzxmOa8r08ZYV2m75e3/790dgxzFlv0eS/bb+npfSXtu8PffsFtf4vT+lnQ/nekZXVYPfKSt9Pat+paUd35blMT065Fg59s5233ba+d3xuPqa261XDvur272/G5vum9KVvSvkCsZ0n3zYr595CtQ6HQPPYRUlO7op7p6yCeUPKB/LhltJhDBy05T+pmdd+Q8otNu+dyMOac6++fqeu6+5Sf/62lFUjv920/51TVqS8tpk3fyglEPax5trx21l5rs8PZWVedFpKv3pryoqlE1O+oBjSB9+YUsfjucJFSR7Vdd2JtX0emrLqZfjs8TdJvr/O605KCTr8VWr/qv3jgSl989qstN943jmMvUP9XJAkfd8/vJbxWXX7X+z7/pXDGzdKr3V4s5TgygMmyvf2lJWqb0v50vKRtXx/U7cdxrbTUgI8J9Z6Gu5guX3KKt1/qvPWA3W/Ud7qfOHoWrffkXINOikrz6cb6v5xKasTh78gNmx/p67cKvy4lOv7tWnmTcOcuUn/YpoV+s2c+1XNnPtA3Q9103XdN9a59yNT5vvj5+ct6jsbzflvU1/LUP6+76fm3IfWZqNJy/6XMlDuT4kuXpISPJl67fyUSfgZ9d/wVPn7pwwWZ6WcdC+aOMbJKYPwBUleOEr7tpRvYM5q9j2fOP4dU/6yw8fr/1/T7OM9Wfmz7I9esM+T6+sfrO87PeUb/uGvOLTlG/4U7IHj1/e8MeVEm9x/+57686zZ/xPrvq5PiWRObt/U6fVZ+dPhL5rYx7+mrBAY9v9n9b3Dxe6jo23HZf/m+voJ9bUz6/FeONF+D0hZinhWSqBl+HOiq9q7lv0lU/1hM/U76g8fGbXdRuVb2D/atsiC/trs//x6/I+Ojj/k/+M1/TOj9KFtbqjp/3uUfouUb8bOTgmUPKoe9zZ1X1+9zvlwclO+4c9ftufGT9Z6+VjN9/jcadv+jPq+Ve3d7OOiBcf/g5T7ic+t9f+R0faL+teLs/Invf8g5QNe25/ekrJE/fKUVRRfqmX4uqn2TLnl5Lr675qU2w/eXPPU1+3fltXnynWjOvvzerwv1fZq06+qP3+ypn1llP7ZlMnih1Mu0MOKvmF/l6YExs9N6eNXjvJ//1qmL2R1/2v7x/Bnrtv6GcaMvubxnQvq52kp4+y1KRfj09P8+fr6nstqu7b7H/4s7w017b5T+6/b/2Ctn6tTPli0597wbIlh33fIBud+Vs69s1K+OT5ztP3Q985KmUx8NvV8GfXdj6Usmx/3tzZ/75rYvu27l9SytduPx90b2u1H14ap/t6W77xaHwfSR/v5fM1nu31b/vMm0tv6vbzWcZve9q0PpfSfVflvjv+pifrZ6PhD/Q1j58ezeuxo2+cVaca70dh7Vsq5+7lRepv/4bkIq+qvqf/xePrmrPwp2xuy8ryPqbnMCfU9w2qTq1Imy+u236h8F6eZi0xct29IGbfa9I3On/XGhjusV/7R/qeuHe2+P1u3bdPbtv/blDF/fO1YeH7W+h+PXZc39fmXKR9o758yLn0lZSzan5U/6/6luu0XU25nWDS2fyZl/B3G7mFVyttHfXxW2+p5KR+khv1fn/Lt/fh8b1fCrxr7NhhX75DVY8vVKYHktu3bvvWZrFybh/Q18+4088pR24+vq3fI6r750pTVKAe2H7XdaSkrENr0dfv2qPzXpfTNNv/t/qfKt2ZelJW52vA5ZJgXfCrlQ/yqvtOcu+enXFvavtnW3zUpfXFV/mv9/eesMw/Oythw9pA+yt/nUs6X9eYdL6/1s6ZvpQSahof1XpcSbHlzSkBsGLs+kXIeT5X/p7Py58G/WOt0U+de3f5Jte6uS5k7jOeFF9b8Hpg3Z+3nxE+nBC+GsaydFw3zrk/W41w6kf7plHH3K7W8V2VlrjDMq66uedw/0f77s/KHB9446l/n1XJdMGq/8bzztKZ+Lq1lHn8OvqqmTc1l1kt/ec37ornQ76bMHYZ+2tbPMLadXevg2qzuW/+z7qsd46/YZN721+NcXY99zqjsQ91f3/zebj/kbbi+fWKU/tlR+idH6cOc+/NZ6b/7R3X/u03bXzHRNuv1nak5f3vunZaVOcJ1KY+ueE9WVpx+udb7eteFC2s5r6nvOWk8Po7/DctLAQAAADiC7bnbzQAAAAC46QSJAAAAABAkAgAAAECQCAAAAIAIEgEAAAAQQSIAAAAAIkgEAAAAQASJAAAAAEjyfwCVGzMQd+p7kgAAAABJRU5ErkJggg==\n",
=======
      "image/png": "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\n",
>>>>>>> parent of 4371820... Model updates
      "text/plain": [
       "<Figure size 1440x1440 with 1 Axes>"
      ]
     },
     "metadata": {
      "needs_background": "light"
     },
     "output_type": "display_data"
    }
   ],
   "source": [
    "# Plot the impurity-based feature importances of the forest\n",
    "plt.figure(figsize=(20,20))\n",
    "plt.title(\"Feature importances\")\n",
    "plt.bar(range(X_train_scaled.shape[1]), importances[indices],\n",
    "        color=\"r\", yerr=std[indices], align=\"center\")\n",
    "plt.xticks(range(X_train_scaled.shape[1]), indices)\n",
    "plt.xlim([-1, X_train_scaled.shape[1]])\n",
    "plt.show()"
   ]
  },
  {
   "cell_type": "markdown",
   "metadata": {},
   "source": [
    "# Feature selection using SelectFromModel"
   ]
  },
  {
   "cell_type": "code",
<<<<<<< HEAD
   "execution_count": 51,
=======
   "execution_count": 83,
>>>>>>> parent of 4371820... Model updates
   "metadata": {},
   "outputs": [
    {
     "data": {
      "text/plain": [
<<<<<<< HEAD
       "(150000, 36)"
      ]
     },
     "execution_count": 51,
=======
       "(150000, 17)"
      ]
     },
     "execution_count": 83,
>>>>>>> parent of 4371820... Model updates
     "metadata": {},
     "output_type": "execute_result"
    }
   ],
   "source": [
    "# Feature selection based on the above feature importance\n",
    "from sklearn.feature_selection import SelectFromModel\n",
    "\n",
<<<<<<< HEAD
    "model = SelectFromModel(forest, prefit=True, threshold=0.01)\n",
=======
    "model = SelectFromModel(forest, prefit=True, threshold=0.02)\n",
>>>>>>> parent of 4371820... Model updates
    "X_train_new = model.transform(X_train_scaled)\n",
    "X_train_new.shape"
   ]
  },
  {
   "cell_type": "code",
<<<<<<< HEAD
   "execution_count": 52,
=======
   "execution_count": 84,
>>>>>>> parent of 4371820... Model updates
   "metadata": {},
   "outputs": [
    {
     "data": {
      "text/plain": [
<<<<<<< HEAD
       "(50000, 36)"
      ]
     },
     "execution_count": 52,
=======
       "(50000, 17)"
      ]
     },
     "execution_count": 84,
>>>>>>> parent of 4371820... Model updates
     "metadata": {},
     "output_type": "execute_result"
    }
   ],
   "source": [
    "X_test_new = model.transform(X_test_scaled)\n",
    "X_test_new.shape"
   ]
  },
  {
   "cell_type": "code",
<<<<<<< HEAD
   "execution_count": 53,
=======
   "execution_count": 85,
>>>>>>> parent of 4371820... Model updates
   "metadata": {},
   "outputs": [
    {
     "data": {
      "text/plain": [
<<<<<<< HEAD
       "array([ 0,  1,  2,  3,  4,  5,  6,  7,  8,  9, 10, 12, 14, 17, 18, 19, 20,\n",
       "       21, 22, 23, 24, 25, 26, 27, 28, 30, 31, 32, 33, 37, 38, 41, 42, 43,\n",
       "       58, 59], dtype=int64)"
      ]
     },
     "execution_count": 53,
=======
       "array([ 0,  1,  2,  3,  9, 10, 12, 13, 18, 25, 28, 29, 32, 39, 42, 43, 44],\n",
       "      dtype=int64)"
      ]
     },
     "execution_count": 85,
>>>>>>> parent of 4371820... Model updates
     "metadata": {},
     "output_type": "execute_result"
    }
   ],
   "source": [
    "model.get_support(True)"
   ]
  },
  {
   "cell_type": "code",
<<<<<<< HEAD
   "execution_count": 54,
=======
   "execution_count": 86,
>>>>>>> parent of 4371820... Model updates
   "metadata": {},
   "outputs": [],
   "source": [
    "X_cols = X_test.columns"
   ]
  },
  {
   "cell_type": "code",
<<<<<<< HEAD
   "execution_count": 55,
=======
   "execution_count": 87,
>>>>>>> parent of 4371820... Model updates
   "metadata": {},
   "outputs": [
    {
     "name": "stdout",
     "output_type": "stream",
     "text": [
      "Features selected by scikit learn SelecFromModel are:\n",
      "\n",
      "loan_amnt\n",
      "int_rate\n",
      "annual_inc\n",
      "dti\n",
      "revol_bal\n",
      "revol_util\n",
      "total_rec_int\n",
<<<<<<< HEAD
      "mths_since_last_major_derog\n",
=======
      "last_pymnt_amnt\n",
>>>>>>> parent of 4371820... Model updates
      "tot_cur_bal\n",
      "total_rev_hi_lim\n",
      "avg_cur_bal\n",
      "bc_util\n",
<<<<<<< HEAD
      "mths_since_recent_bc_dlq\n",
      "mths_since_recent_inq\n",
      "mths_since_recent_revol_delinq\n",
      "num_accts_ever_120_pd\n",
      "pct_tl_nvr_dlq\n",
      "percent_bc_gt_75\n",
      "total_bal_ex_mort\n",
      "total_bc_limit\n",
      "total_il_high_credit_limit\n",
      "term_ 36 months\n",
      "term_ 60 months\n"
=======
      "mths_since_recent_inq\n",
      "percent_bc_gt_75\n",
      "total_bal_ex_mort\n",
      "total_bc_limit\n",
      "total_il_high_credit_limit\n"
>>>>>>> parent of 4371820... Model updates
     ]
    }
   ],
   "source": [
    "print(\"Features selected by scikit learn SelecFromModel are:\\n\")\n",
    "for i in model.get_support(True):\n",
    "    print(X_cols[i])"
   ]
  },
  {
   "cell_type": "code",
<<<<<<< HEAD
   "execution_count": 56,
=======
   "execution_count": 88,
>>>>>>> parent of 4371820... Model updates
   "metadata": {},
   "outputs": [
    {
     "name": "stdout",
     "output_type": "stream",
     "text": [
      "Tuned Random Forest Parameters: {'n_estimators': 50}\n",
<<<<<<< HEAD
      "Best score is 0.8001466666666666\n",
      "Accuracy score is 0.80004\n"
=======
      "Best score is 0.9320999999999999\n",
      "Accuracy score is 0.93206\n"
>>>>>>> parent of 4371820... Model updates
     ]
    }
   ],
   "source": [
    "# Using K fold cross validation and Grid search to get the most accurate prediction\n",
    "\n",
    "from sklearn.ensemble import RandomForestClassifier\n",
    "from sklearn.metrics import accuracy_score\n",
    "from sklearn.model_selection import GridSearchCV\n",
    "\n",
    "param_grid = {'n_estimators': [10,20,30,40,50]}\n",
    "clf = RandomForestClassifier(random_state = 1,n_jobs=-1)\n",
    "clf_cv = GridSearchCV(clf, param_grid, cv=5)\n",
    "clf_cv.fit(X_train_new, y_train)\n",
    "y_pred_ranf = clf_cv.predict(X_test_new)\n",
    "print(\"Tuned Random Forest Parameters: {}\".format(clf_cv.best_params_)) \n",
    "print(\"Best score is {}\".format(clf_cv.best_score_))\n",
    "print(\"Accuracy score is {}\".format(accuracy_score(y_test, y_pred_ranf)))"
   ]
  },
  {
   "cell_type": "markdown",
   "metadata": {},
   "source": [
    "# Review the results"
   ]
  },
  {
   "cell_type": "code",
<<<<<<< HEAD
   "execution_count": 57,
=======
   "execution_count": 89,
>>>>>>> parent of 4371820... Model updates
   "metadata": {},
   "outputs": [
    {
     "data": {
      "text/plain": [
<<<<<<< HEAD
       "array([[38847,   924],\n",
       "       [ 9074,  1155]], dtype=int64)"
      ]
     },
     "execution_count": 57,
=======
       "array([[38839,  1028],\n",
       "       [ 2369,  7764]], dtype=int64)"
      ]
     },
     "execution_count": 89,
>>>>>>> parent of 4371820... Model updates
     "metadata": {},
     "output_type": "execute_result"
    }
   ],
   "source": [
    "from sklearn.metrics import confusion_matrix\n",
    "\n",
    "pl_ranf = confusion_matrix(y_test,y_pred_ranf)\n",
    "pl_ranf"
   ]
  },
  {
   "cell_type": "code",
<<<<<<< HEAD
   "execution_count": 58,
=======
   "execution_count": 90,
>>>>>>> parent of 4371820... Model updates
   "metadata": {},
   "outputs": [
    {
     "data": {
      "text/plain": [
<<<<<<< HEAD
       "array([47921,  2079], dtype=int64)"
      ]
     },
     "execution_count": 58,
=======
       "array([41208,  8792], dtype=int64)"
      ]
     },
     "execution_count": 90,
>>>>>>> parent of 4371820... Model updates
     "metadata": {},
     "output_type": "execute_result"
    }
   ],
   "source": [
    "np.bincount(y_pred_ranf)"
   ]
  },
  {
   "cell_type": "markdown",
   "metadata": {},
   "source": [
    "0 - Fully paid <br>\n",
    "1 - Charges off"
   ]
  },
  {
   "cell_type": "code",
<<<<<<< HEAD
   "execution_count": 59,
=======
   "execution_count": 91,
>>>>>>> parent of 4371820... Model updates
   "metadata": {},
   "outputs": [
    {
     "data": {
      "text/plain": [
<<<<<<< HEAD
       "array([39771, 10229], dtype=int64)"
      ]
     },
     "execution_count": 59,
=======
       "array([39867, 10133], dtype=int64)"
      ]
     },
     "execution_count": 91,
>>>>>>> parent of 4371820... Model updates
     "metadata": {},
     "output_type": "execute_result"
    }
   ],
   "source": [
    "np.bincount(y_test)"
   ]
  },
  {
   "cell_type": "code",
   "execution_count": null,
   "metadata": {},
   "outputs": [],
   "source": []
  },
  {
   "cell_type": "code",
<<<<<<< HEAD
   "execution_count": 60,
=======
   "execution_count": 92,
>>>>>>> parent of 4371820... Model updates
   "metadata": {},
   "outputs": [
    {
     "name": "stdout",
     "output_type": "stream",
     "text": [
      "              precision    recall  f1-score   support\n",
      "\n",
<<<<<<< HEAD
      "           0       0.81      0.98      0.89     39771\n",
      "           1       0.56      0.11      0.19     10229\n",
      "\n",
      "    accuracy                           0.80     50000\n",
      "   macro avg       0.68      0.54      0.54     50000\n",
      "weighted avg       0.76      0.80      0.74     50000\n",
=======
      "           0       0.94      0.97      0.96     39867\n",
      "           1       0.88      0.77      0.82     10133\n",
      "\n",
      "    accuracy                           0.93     50000\n",
      "   macro avg       0.91      0.87      0.89     50000\n",
      "weighted avg       0.93      0.93      0.93     50000\n",
>>>>>>> parent of 4371820... Model updates
      "\n"
     ]
    }
   ],
   "source": [
    "from sklearn.metrics import classification_report\n",
    "\n",
    "cl_rep_ranf = classification_report(y_test,y_pred_ranf)\n",
    "print(cl_rep_ranf)"
   ]
  },
  {
   "cell_type": "code",
<<<<<<< HEAD
   "execution_count": 61,
=======
   "execution_count": 93,
>>>>>>> parent of 4371820... Model updates
   "metadata": {},
   "outputs": [
    {
     "name": "stdout",
     "output_type": "stream",
     "text": [
<<<<<<< HEAD
      "Test Data Set Random Forest: Accuracy=0.800\n",
      "Test Data Set Random Forest: f1-score=0.743\n",
      "Test Data Set Random Forest: roc_auc_score=0.545\n"
=======
      "Test Data Set Random Forest: Accuracy=0.932\n",
      "Test Data Set Random Forest: f1-score=0.930\n",
      "Test Data Set Random Forest: roc_auc_score=0.870\n"
>>>>>>> parent of 4371820... Model updates
     ]
    }
   ],
   "source": [
    "from sklearn.metrics import accuracy_score, f1_score, roc_auc_score\n",
    "\n",
    "ac = accuracy_score(y_test, y_pred_ranf)\n",
    "print('Test Data Set Random Forest: Accuracy=%.3f' % (ac))\n",
    "\n",
    "f1 = f1_score(y_test, y_pred_ranf, average='weighted')\n",
    "print('Test Data Set Random Forest: f1-score=%.3f' % (f1))\n",
    "\n",
    "roc_auc = roc_auc_score(y_test, y_pred_ranf)\n",
    "print('Test Data Set Random Forest: roc_auc_score=%.3f' % (roc_auc))"
   ]
  },
  {
   "cell_type": "markdown",
   "metadata": {},
   "source": [
    "# Random Forest Metrics for various Threshold values in feature selection\n",
    "\n",
    "| Threshold | # Features selected | Accuracy| f1_score|roc_auc_score|\n",
    "| --- | --- | --- | --- | --- |\n",
<<<<<<< HEAD
    "|  0 | 139 | 0.801 | 0.740 | 0.541 |\n",
    "| 0.001 | 83 | 0.801 | 0.741 | 0.542 |\n",
    "| 0.005 | 49 | 0.799 | 0.739 | 0.540 |\n",
    "| 0.01 | 36 | 0.800 | 0.743 | 0.545 |\n",
    "| 0.018 | 20 | 0.799 | 0.735 | 0.535 |"
=======
    "|  0 | 140 | 0.907 | 0.902 | 0.812 |\n",
    "| 0.005 | 50 | 0.921 | 0.918 | 0.846 |\n",
    "| 0.007 | 42 | 0.920 | 0.917 | 0.844 |\n",
    "| 0.01 | 30 | 0.925 | 0.923 | 0.855 |\n",
    "| 0.02 | 17 | 0.932 | 0.930 | 0.870 |"
>>>>>>> parent of 4371820... Model updates
   ]
  },
  {
   "cell_type": "markdown",
   "metadata": {},
   "source": [
    "# Figures for data story"
   ]
  },
  {
   "cell_type": "markdown",
   "metadata": {},
   "source": [
    "ROC curve"
   ]
  },
  {
   "cell_type": "code",
<<<<<<< HEAD
   "execution_count": 62,
=======
   "execution_count": 94,
>>>>>>> parent of 4371820... Model updates
   "metadata": {},
   "outputs": [
    {
     "data": {
      "text/plain": [
<<<<<<< HEAD
       "<sklearn.metrics._plot.roc_curve.RocCurveDisplay at 0x1ec0497a400>"
      ]
     },
     "execution_count": 62,
=======
       "<sklearn.metrics._plot.roc_curve.RocCurveDisplay at 0x27183477f28>"
      ]
     },
     "execution_count": 94,
>>>>>>> parent of 4371820... Model updates
     "metadata": {},
     "output_type": "execute_result"
    },
    {
     "data": {
<<<<<<< HEAD
      "image/png": "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\n",
=======
      "image/png": "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\n",
>>>>>>> parent of 4371820... Model updates
      "text/plain": [
       "<Figure size 432x288 with 1 Axes>"
      ]
     },
     "metadata": {
      "needs_background": "light"
     },
     "output_type": "display_data"
    }
   ],
   "source": [
    "from sklearn.metrics import plot_roc_curve\n",
    "\n",
    "plot_roc_curve(clf_cv, X_test_new, y_test)"
   ]
  },
  {
   "cell_type": "markdown",
   "metadata": {},
   "source": [
    "# Finalize code"
   ]
  },
  {
   "cell_type": "markdown",
   "metadata": {},
   "source": [
    "Save the model"
   ]
  },
  {
   "cell_type": "code",
<<<<<<< HEAD
   "execution_count": 63,
=======
   "execution_count": 96,
>>>>>>> parent of 4371820... Model updates
   "metadata": {},
   "outputs": [
    {
     "data": {
      "text/plain": [
       "['models/model_loan.joblib']"
      ]
     },
<<<<<<< HEAD
     "execution_count": 63,
=======
     "execution_count": 96,
>>>>>>> parent of 4371820... Model updates
     "metadata": {},
     "output_type": "execute_result"
    }
   ],
   "source": [
    "import pickle\n",
    "s = pickle.dumps(clf_cv)\n",
    "from joblib import dump, load\n",
    "dump(clf_cv, 'models/model_loan.joblib') "
   ]
  },
  {
   "cell_type": "markdown",
   "metadata": {},
   "source": [
    "# Finalize documentation"
   ]
  },
  {
   "cell_type": "code",
<<<<<<< HEAD
   "execution_count": 64,
=======
   "execution_count": 97,
>>>>>>> parent of 4371820... Model updates
   "metadata": {},
   "outputs": [
    {
     "data": {
      "text/plain": [
<<<<<<< HEAD
       "{'mean_fit_time': array([ 3.1067112 ,  5.87327981,  8.81523275, 11.28422914, 14.20874562]),\n",
       " 'std_fit_time': array([0.03671816, 0.14001859, 0.08955356, 0.09373458, 0.14521054]),\n",
       " 'mean_score_time': array([0.13108182, 0.24548545, 0.25324903, 0.23652315, 0.36291175]),\n",
       " 'std_score_time': array([0.00598295, 0.00723535, 0.01615311, 0.00415176, 0.01555881]),\n",
=======
       "{'mean_fit_time': array([ 3.68902397,  4.86860251,  7.28330579,  9.337921  , 11.66381598]),\n",
       " 'std_fit_time': array([1.81129791, 0.16314651, 0.15936443, 0.14470416, 0.17208633]),\n",
       " 'mean_score_time': array([0.12377152, 0.12159429, 0.24131956, 0.24430342, 0.24008799]),\n",
       " 'std_score_time': array([0.00741419, 0.00574105, 0.00640673, 0.00787452, 0.00739294]),\n",
>>>>>>> parent of 4371820... Model updates
       " 'param_n_estimators': masked_array(data=[10, 20, 30, 40, 50],\n",
       "              mask=[False, False, False, False, False],\n",
       "        fill_value='?',\n",
       "             dtype=object),\n",
       " 'params': [{'n_estimators': 10},\n",
       "  {'n_estimators': 20},\n",
       "  {'n_estimators': 30},\n",
       "  {'n_estimators': 40},\n",
       "  {'n_estimators': 50}],\n",
<<<<<<< HEAD
       " 'split0_test_score': array([0.79186667, 0.7966    , 0.79876667, 0.79973333, 0.8015    ]),\n",
       " 'split1_test_score': array([0.79153333, 0.79533333, 0.79703333, 0.79833333, 0.79996667]),\n",
       " 'split2_test_score': array([0.7917    , 0.79766667, 0.7997    , 0.7991    , 0.8002    ]),\n",
       " 'split3_test_score': array([0.79103333, 0.79426667, 0.79773333, 0.79866667, 0.79856667]),\n",
       " 'split4_test_score': array([0.78863333, 0.79456667, 0.7964    , 0.79923333, 0.8005    ]),\n",
       " 'mean_test_score': array([0.79095333, 0.79568667, 0.79792667, 0.79901333, 0.80014667]),\n",
       " 'std_test_score': array([0.00119305, 0.00127673, 0.0011846 , 0.00048102, 0.00094742]),\n",
       " 'rank_test_score': array([5, 4, 3, 2, 1])}"
      ]
     },
     "execution_count": 64,
=======
       " 'split0_test_score': array([0.92533333, 0.9272    , 0.92946667, 0.9302    , 0.9304    ]),\n",
       " 'split1_test_score': array([0.92363333, 0.927     , 0.93016667, 0.93256667, 0.93256667]),\n",
       " 'split2_test_score': array([0.92563333, 0.9306    , 0.93203333, 0.93316667, 0.93446667]),\n",
       " 'split3_test_score': array([0.9225    , 0.9288    , 0.9298    , 0.93293333, 0.93253333]),\n",
       " 'split4_test_score': array([0.9187    , 0.92886667, 0.9292    , 0.93066667, 0.93053333]),\n",
       " 'mean_test_score': array([0.92316   , 0.92849333, 0.93013333, 0.93190667, 0.9321    ]),\n",
       " 'std_test_score': array([0.00250567, 0.00130952, 0.00100377, 0.00122699, 0.00150673]),\n",
       " 'rank_test_score': array([5, 4, 3, 2, 1])}"
      ]
     },
     "execution_count": 97,
>>>>>>> parent of 4371820... Model updates
     "metadata": {},
     "output_type": "execute_result"
    }
   ],
   "source": [
    "clf_cv.cv_results_"
   ]
  },
  {
   "cell_type": "code",
<<<<<<< HEAD
   "execution_count": 65,
=======
   "execution_count": 98,
>>>>>>> parent of 4371820... Model updates
   "metadata": {},
   "outputs": [
    {
     "data": {
      "text/plain": [
       "{'n_estimators': 50}"
      ]
     },
<<<<<<< HEAD
     "execution_count": 65,
=======
     "execution_count": 98,
>>>>>>> parent of 4371820... Model updates
     "metadata": {},
     "output_type": "execute_result"
    }
   ],
   "source": [
    "clf_cv.best_params_"
   ]
  },
  {
   "cell_type": "code",
<<<<<<< HEAD
   "execution_count": 66,
=======
   "execution_count": 99,
>>>>>>> parent of 4371820... Model updates
   "metadata": {},
   "outputs": [
    {
     "data": {
      "text/plain": [
<<<<<<< HEAD
       "0.8001466666666666"
      ]
     },
     "execution_count": 66,
=======
       "0.9320999999999999"
      ]
     },
     "execution_count": 99,
>>>>>>> parent of 4371820... Model updates
     "metadata": {},
     "output_type": "execute_result"
    }
   ],
   "source": [
    "clf_cv.best_score_"
   ]
  },
  {
   "cell_type": "code",
<<<<<<< HEAD
   "execution_count": 67,
=======
   "execution_count": 100,
>>>>>>> parent of 4371820... Model updates
   "metadata": {},
   "outputs": [
    {
     "data": {
      "text/plain": [
       "4"
      ]
     },
<<<<<<< HEAD
     "execution_count": 67,
=======
     "execution_count": 100,
>>>>>>> parent of 4371820... Model updates
     "metadata": {},
     "output_type": "execute_result"
    }
   ],
   "source": [
    "clf_cv.best_index_"
   ]
  },
  {
   "cell_type": "code",
<<<<<<< HEAD
   "execution_count": 68,
=======
   "execution_count": 101,
>>>>>>> parent of 4371820... Model updates
   "metadata": {},
   "outputs": [
    {
     "data": {
      "text/html": [
       "<div>\n",
       "<style scoped>\n",
       "    .dataframe tbody tr th:only-of-type {\n",
       "        vertical-align: middle;\n",
       "    }\n",
       "\n",
       "    .dataframe tbody tr th {\n",
       "        vertical-align: top;\n",
       "    }\n",
       "\n",
       "    .dataframe thead th {\n",
       "        text-align: right;\n",
       "    }\n",
       "</style>\n",
       "<table border=\"1\" class=\"dataframe\">\n",
       "  <thead>\n",
       "    <tr style=\"text-align: right;\">\n",
       "      <th></th>\n",
       "      <th>mean_fit_time</th>\n",
       "      <th>std_fit_time</th>\n",
       "      <th>mean_score_time</th>\n",
       "      <th>std_score_time</th>\n",
       "      <th>param_n_estimators</th>\n",
       "      <th>params</th>\n",
       "      <th>split0_test_score</th>\n",
       "      <th>split1_test_score</th>\n",
       "      <th>split2_test_score</th>\n",
       "      <th>split3_test_score</th>\n",
       "      <th>split4_test_score</th>\n",
       "      <th>mean_test_score</th>\n",
       "      <th>std_test_score</th>\n",
       "      <th>rank_test_score</th>\n",
       "    </tr>\n",
       "  </thead>\n",
       "  <tbody>\n",
       "    <tr>\n",
       "      <th>0</th>\n",
<<<<<<< HEAD
       "      <td>3.106711</td>\n",
       "      <td>0.036718</td>\n",
       "      <td>0.131082</td>\n",
       "      <td>0.005983</td>\n",
       "      <td>10</td>\n",
       "      <td>{'n_estimators': 10}</td>\n",
       "      <td>0.791867</td>\n",
       "      <td>0.791533</td>\n",
       "      <td>0.791700</td>\n",
       "      <td>0.791033</td>\n",
       "      <td>0.788633</td>\n",
       "      <td>0.790953</td>\n",
       "      <td>0.001193</td>\n",
=======
       "      <td>3.689024</td>\n",
       "      <td>1.811298</td>\n",
       "      <td>0.123772</td>\n",
       "      <td>0.007414</td>\n",
       "      <td>10</td>\n",
       "      <td>{'n_estimators': 10}</td>\n",
       "      <td>0.925333</td>\n",
       "      <td>0.923633</td>\n",
       "      <td>0.925633</td>\n",
       "      <td>0.922500</td>\n",
       "      <td>0.918700</td>\n",
       "      <td>0.923160</td>\n",
       "      <td>0.002506</td>\n",
>>>>>>> parent of 4371820... Model updates
       "      <td>5</td>\n",
       "    </tr>\n",
       "    <tr>\n",
       "      <th>1</th>\n",
<<<<<<< HEAD
       "      <td>5.873280</td>\n",
       "      <td>0.140019</td>\n",
       "      <td>0.245485</td>\n",
       "      <td>0.007235</td>\n",
       "      <td>20</td>\n",
       "      <td>{'n_estimators': 20}</td>\n",
       "      <td>0.796600</td>\n",
       "      <td>0.795333</td>\n",
       "      <td>0.797667</td>\n",
       "      <td>0.794267</td>\n",
       "      <td>0.794567</td>\n",
       "      <td>0.795687</td>\n",
       "      <td>0.001277</td>\n",
=======
       "      <td>4.868603</td>\n",
       "      <td>0.163147</td>\n",
       "      <td>0.121594</td>\n",
       "      <td>0.005741</td>\n",
       "      <td>20</td>\n",
       "      <td>{'n_estimators': 20}</td>\n",
       "      <td>0.927200</td>\n",
       "      <td>0.927000</td>\n",
       "      <td>0.930600</td>\n",
       "      <td>0.928800</td>\n",
       "      <td>0.928867</td>\n",
       "      <td>0.928493</td>\n",
       "      <td>0.001310</td>\n",
>>>>>>> parent of 4371820... Model updates
       "      <td>4</td>\n",
       "    </tr>\n",
       "    <tr>\n",
       "      <th>2</th>\n",
<<<<<<< HEAD
       "      <td>8.815233</td>\n",
       "      <td>0.089554</td>\n",
       "      <td>0.253249</td>\n",
       "      <td>0.016153</td>\n",
       "      <td>30</td>\n",
       "      <td>{'n_estimators': 30}</td>\n",
       "      <td>0.798767</td>\n",
       "      <td>0.797033</td>\n",
       "      <td>0.799700</td>\n",
       "      <td>0.797733</td>\n",
       "      <td>0.796400</td>\n",
       "      <td>0.797927</td>\n",
       "      <td>0.001185</td>\n",
=======
       "      <td>7.283306</td>\n",
       "      <td>0.159364</td>\n",
       "      <td>0.241320</td>\n",
       "      <td>0.006407</td>\n",
       "      <td>30</td>\n",
       "      <td>{'n_estimators': 30}</td>\n",
       "      <td>0.929467</td>\n",
       "      <td>0.930167</td>\n",
       "      <td>0.932033</td>\n",
       "      <td>0.929800</td>\n",
       "      <td>0.929200</td>\n",
       "      <td>0.930133</td>\n",
       "      <td>0.001004</td>\n",
>>>>>>> parent of 4371820... Model updates
       "      <td>3</td>\n",
       "    </tr>\n",
       "    <tr>\n",
       "      <th>3</th>\n",
<<<<<<< HEAD
       "      <td>11.284229</td>\n",
       "      <td>0.093735</td>\n",
       "      <td>0.236523</td>\n",
       "      <td>0.004152</td>\n",
       "      <td>40</td>\n",
       "      <td>{'n_estimators': 40}</td>\n",
       "      <td>0.799733</td>\n",
       "      <td>0.798333</td>\n",
       "      <td>0.799100</td>\n",
       "      <td>0.798667</td>\n",
       "      <td>0.799233</td>\n",
       "      <td>0.799013</td>\n",
       "      <td>0.000481</td>\n",
=======
       "      <td>9.337921</td>\n",
       "      <td>0.144704</td>\n",
       "      <td>0.244303</td>\n",
       "      <td>0.007875</td>\n",
       "      <td>40</td>\n",
       "      <td>{'n_estimators': 40}</td>\n",
       "      <td>0.930200</td>\n",
       "      <td>0.932567</td>\n",
       "      <td>0.933167</td>\n",
       "      <td>0.932933</td>\n",
       "      <td>0.930667</td>\n",
       "      <td>0.931907</td>\n",
       "      <td>0.001227</td>\n",
>>>>>>> parent of 4371820... Model updates
       "      <td>2</td>\n",
       "    </tr>\n",
       "    <tr>\n",
       "      <th>4</th>\n",
<<<<<<< HEAD
       "      <td>14.208746</td>\n",
       "      <td>0.145211</td>\n",
       "      <td>0.362912</td>\n",
       "      <td>0.015559</td>\n",
       "      <td>50</td>\n",
       "      <td>{'n_estimators': 50}</td>\n",
       "      <td>0.801500</td>\n",
       "      <td>0.799967</td>\n",
       "      <td>0.800200</td>\n",
       "      <td>0.798567</td>\n",
       "      <td>0.800500</td>\n",
       "      <td>0.800147</td>\n",
       "      <td>0.000947</td>\n",
=======
       "      <td>11.663816</td>\n",
       "      <td>0.172086</td>\n",
       "      <td>0.240088</td>\n",
       "      <td>0.007393</td>\n",
       "      <td>50</td>\n",
       "      <td>{'n_estimators': 50}</td>\n",
       "      <td>0.930400</td>\n",
       "      <td>0.932567</td>\n",
       "      <td>0.934467</td>\n",
       "      <td>0.932533</td>\n",
       "      <td>0.930533</td>\n",
       "      <td>0.932100</td>\n",
       "      <td>0.001507</td>\n",
>>>>>>> parent of 4371820... Model updates
       "      <td>1</td>\n",
       "    </tr>\n",
       "  </tbody>\n",
       "</table>\n",
       "</div>"
      ],
      "text/plain": [
       "   mean_fit_time  std_fit_time  mean_score_time  std_score_time  \\\n",
<<<<<<< HEAD
       "0       3.106711      0.036718         0.131082        0.005983   \n",
       "1       5.873280      0.140019         0.245485        0.007235   \n",
       "2       8.815233      0.089554         0.253249        0.016153   \n",
       "3      11.284229      0.093735         0.236523        0.004152   \n",
       "4      14.208746      0.145211         0.362912        0.015559   \n",
       "\n",
       "  param_n_estimators                params  split0_test_score  \\\n",
       "0                 10  {'n_estimators': 10}           0.791867   \n",
       "1                 20  {'n_estimators': 20}           0.796600   \n",
       "2                 30  {'n_estimators': 30}           0.798767   \n",
       "3                 40  {'n_estimators': 40}           0.799733   \n",
       "4                 50  {'n_estimators': 50}           0.801500   \n",
       "\n",
       "   split1_test_score  split2_test_score  split3_test_score  split4_test_score  \\\n",
       "0           0.791533           0.791700           0.791033           0.788633   \n",
       "1           0.795333           0.797667           0.794267           0.794567   \n",
       "2           0.797033           0.799700           0.797733           0.796400   \n",
       "3           0.798333           0.799100           0.798667           0.799233   \n",
       "4           0.799967           0.800200           0.798567           0.800500   \n",
       "\n",
       "   mean_test_score  std_test_score  rank_test_score  \n",
       "0         0.790953        0.001193                5  \n",
       "1         0.795687        0.001277                4  \n",
       "2         0.797927        0.001185                3  \n",
       "3         0.799013        0.000481                2  \n",
       "4         0.800147        0.000947                1  "
      ]
     },
     "execution_count": 68,
=======
       "0       3.689024      1.811298         0.123772        0.007414   \n",
       "1       4.868603      0.163147         0.121594        0.005741   \n",
       "2       7.283306      0.159364         0.241320        0.006407   \n",
       "3       9.337921      0.144704         0.244303        0.007875   \n",
       "4      11.663816      0.172086         0.240088        0.007393   \n",
       "\n",
       "  param_n_estimators                params  split0_test_score  \\\n",
       "0                 10  {'n_estimators': 10}           0.925333   \n",
       "1                 20  {'n_estimators': 20}           0.927200   \n",
       "2                 30  {'n_estimators': 30}           0.929467   \n",
       "3                 40  {'n_estimators': 40}           0.930200   \n",
       "4                 50  {'n_estimators': 50}           0.930400   \n",
       "\n",
       "   split1_test_score  split2_test_score  split3_test_score  split4_test_score  \\\n",
       "0           0.923633           0.925633           0.922500           0.918700   \n",
       "1           0.927000           0.930600           0.928800           0.928867   \n",
       "2           0.930167           0.932033           0.929800           0.929200   \n",
       "3           0.932567           0.933167           0.932933           0.930667   \n",
       "4           0.932567           0.934467           0.932533           0.930533   \n",
       "\n",
       "   mean_test_score  std_test_score  rank_test_score  \n",
       "0         0.923160        0.002506                5  \n",
       "1         0.928493        0.001310                4  \n",
       "2         0.930133        0.001004                3  \n",
       "3         0.931907        0.001227                2  \n",
       "4         0.932100        0.001507                1  "
      ]
     },
     "execution_count": 101,
>>>>>>> parent of 4371820... Model updates
     "metadata": {},
     "output_type": "execute_result"
    }
   ],
   "source": [
    "results_df = pd.DataFrame(clf_cv.cv_results_)\n",
    "results_df"
   ]
  },
  {
   "cell_type": "markdown",
   "metadata": {},
   "source": [
    "Save model results"
   ]
  },
  {
   "cell_type": "code",
<<<<<<< HEAD
   "execution_count": 69,
=======
   "execution_count": 102,
>>>>>>> parent of 4371820... Model updates
   "metadata": {},
   "outputs": [],
   "source": [
    "results_df.to_csv('models/model_results.csv')"
   ]
  },
  {
   "cell_type": "code",
   "execution_count": null,
   "metadata": {},
   "outputs": [],
   "source": []
  }
 ],
 "metadata": {
  "kernelspec": {
   "display_name": "Python 3",
   "language": "python",
   "name": "python3"
  },
  "language_info": {
   "codemirror_mode": {
    "name": "ipython",
    "version": 3
   },
   "file_extension": ".py",
   "mimetype": "text/x-python",
   "name": "python",
   "nbconvert_exporter": "python",
   "pygments_lexer": "ipython3",
   "version": "3.7.3"
  }
 },
 "nbformat": 4,
 "nbformat_minor": 2
}
