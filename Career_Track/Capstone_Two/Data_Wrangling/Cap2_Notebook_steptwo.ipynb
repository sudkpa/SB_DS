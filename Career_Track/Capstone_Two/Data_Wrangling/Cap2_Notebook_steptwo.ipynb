{
 "cells": [
  {
   "cell_type": "markdown",
   "metadata": {},
   "source": [
    "# Capstone 2 - Lending Club Loan Defaults Prediction\n",
    "Sudha Kumar\n",
    "7/13/2020\n",
    "\n",
    "Data URL - https://www.kaggle.com/wendykan/lending-club-loan-data\n",
    "\n",
    "## Data Wrangling\n",
    "Data wrangling is the second step in the Data Science Method. This step consists of multiple components including Data Collection, Data Organization, Data Definitions, and Data Cleaning."
   ]
  },
  {
   "cell_type": "code",
   "execution_count": 1,
   "metadata": {},
   "outputs": [],
   "source": [
    "#load python packages\n",
    "import os\n",
    "import pandas as pd\n",
    "import pandas.api.types as ptypes\n",
    "import datetime\n",
    "import seaborn as sns\n",
    "import matplotlib.pyplot as plt\n",
    "import numpy as np\n",
    "%matplotlib inline"
   ]
  },
  {
   "cell_type": "markdown",
   "metadata": {},
   "source": [
    "### Data Collection \n",
    "Read data from \"loan.csv\" file."
   ]
  },
  {
   "cell_type": "code",
   "execution_count": 40,
   "metadata": {},
   "outputs": [
    {
     "name": "stderr",
     "output_type": "stream",
     "text": [
      "C:\\Users\\Umesh\\Anaconda3\\lib\\site-packages\\IPython\\core\\interactiveshell.py:3049: DtypeWarning: Columns (19,47,55,112,123,124,125,128,129,130,133,139,140,141) have mixed types.Specify dtype option on import or set low_memory=False.\n",
      "  interactivity=interactivity, compiler=compiler, result=result)\n"
     ]
    },
    {
     "data": {
      "text/html": [
       "<div>\n",
       "<style scoped>\n",
       "    .dataframe tbody tr th:only-of-type {\n",
       "        vertical-align: middle;\n",
       "    }\n",
       "\n",
       "    .dataframe tbody tr th {\n",
       "        vertical-align: top;\n",
       "    }\n",
       "\n",
       "    .dataframe thead th {\n",
       "        text-align: right;\n",
       "    }\n",
       "</style>\n",
       "<table border=\"1\" class=\"dataframe\">\n",
       "  <thead>\n",
       "    <tr style=\"text-align: right;\">\n",
       "      <th></th>\n",
       "      <th>id</th>\n",
       "      <th>member_id</th>\n",
       "      <th>loan_amnt</th>\n",
       "      <th>funded_amnt</th>\n",
       "      <th>funded_amnt_inv</th>\n",
       "      <th>term</th>\n",
       "      <th>int_rate</th>\n",
       "      <th>installment</th>\n",
       "      <th>grade</th>\n",
       "      <th>sub_grade</th>\n",
       "      <th>...</th>\n",
       "      <th>hardship_payoff_balance_amount</th>\n",
       "      <th>hardship_last_payment_amount</th>\n",
       "      <th>disbursement_method</th>\n",
       "      <th>debt_settlement_flag</th>\n",
       "      <th>debt_settlement_flag_date</th>\n",
       "      <th>settlement_status</th>\n",
       "      <th>settlement_date</th>\n",
       "      <th>settlement_amount</th>\n",
       "      <th>settlement_percentage</th>\n",
       "      <th>settlement_term</th>\n",
       "    </tr>\n",
       "  </thead>\n",
       "  <tbody>\n",
       "    <tr>\n",
       "      <th>0</th>\n",
       "      <td>NaN</td>\n",
       "      <td>NaN</td>\n",
       "      <td>2500</td>\n",
       "      <td>2500</td>\n",
       "      <td>2500.0</td>\n",
       "      <td>36 months</td>\n",
       "      <td>13.56</td>\n",
       "      <td>84.92</td>\n",
       "      <td>C</td>\n",
       "      <td>C1</td>\n",
       "      <td>...</td>\n",
       "      <td>NaN</td>\n",
       "      <td>NaN</td>\n",
       "      <td>Cash</td>\n",
       "      <td>N</td>\n",
       "      <td>NaN</td>\n",
       "      <td>NaN</td>\n",
       "      <td>NaN</td>\n",
       "      <td>NaN</td>\n",
       "      <td>NaN</td>\n",
       "      <td>NaN</td>\n",
       "    </tr>\n",
       "    <tr>\n",
       "      <th>1</th>\n",
       "      <td>NaN</td>\n",
       "      <td>NaN</td>\n",
       "      <td>30000</td>\n",
       "      <td>30000</td>\n",
       "      <td>30000.0</td>\n",
       "      <td>60 months</td>\n",
       "      <td>18.94</td>\n",
       "      <td>777.23</td>\n",
       "      <td>D</td>\n",
       "      <td>D2</td>\n",
       "      <td>...</td>\n",
       "      <td>NaN</td>\n",
       "      <td>NaN</td>\n",
       "      <td>Cash</td>\n",
       "      <td>N</td>\n",
       "      <td>NaN</td>\n",
       "      <td>NaN</td>\n",
       "      <td>NaN</td>\n",
       "      <td>NaN</td>\n",
       "      <td>NaN</td>\n",
       "      <td>NaN</td>\n",
       "    </tr>\n",
       "    <tr>\n",
       "      <th>2</th>\n",
       "      <td>NaN</td>\n",
       "      <td>NaN</td>\n",
       "      <td>5000</td>\n",
       "      <td>5000</td>\n",
       "      <td>5000.0</td>\n",
       "      <td>36 months</td>\n",
       "      <td>17.97</td>\n",
       "      <td>180.69</td>\n",
       "      <td>D</td>\n",
       "      <td>D1</td>\n",
       "      <td>...</td>\n",
       "      <td>NaN</td>\n",
       "      <td>NaN</td>\n",
       "      <td>Cash</td>\n",
       "      <td>N</td>\n",
       "      <td>NaN</td>\n",
       "      <td>NaN</td>\n",
       "      <td>NaN</td>\n",
       "      <td>NaN</td>\n",
       "      <td>NaN</td>\n",
       "      <td>NaN</td>\n",
       "    </tr>\n",
       "    <tr>\n",
       "      <th>3</th>\n",
       "      <td>NaN</td>\n",
       "      <td>NaN</td>\n",
       "      <td>4000</td>\n",
       "      <td>4000</td>\n",
       "      <td>4000.0</td>\n",
       "      <td>36 months</td>\n",
       "      <td>18.94</td>\n",
       "      <td>146.51</td>\n",
       "      <td>D</td>\n",
       "      <td>D2</td>\n",
       "      <td>...</td>\n",
       "      <td>NaN</td>\n",
       "      <td>NaN</td>\n",
       "      <td>Cash</td>\n",
       "      <td>N</td>\n",
       "      <td>NaN</td>\n",
       "      <td>NaN</td>\n",
       "      <td>NaN</td>\n",
       "      <td>NaN</td>\n",
       "      <td>NaN</td>\n",
       "      <td>NaN</td>\n",
       "    </tr>\n",
       "    <tr>\n",
       "      <th>4</th>\n",
       "      <td>NaN</td>\n",
       "      <td>NaN</td>\n",
       "      <td>30000</td>\n",
       "      <td>30000</td>\n",
       "      <td>30000.0</td>\n",
       "      <td>60 months</td>\n",
       "      <td>16.14</td>\n",
       "      <td>731.78</td>\n",
       "      <td>C</td>\n",
       "      <td>C4</td>\n",
       "      <td>...</td>\n",
       "      <td>NaN</td>\n",
       "      <td>NaN</td>\n",
       "      <td>Cash</td>\n",
       "      <td>N</td>\n",
       "      <td>NaN</td>\n",
       "      <td>NaN</td>\n",
       "      <td>NaN</td>\n",
       "      <td>NaN</td>\n",
       "      <td>NaN</td>\n",
       "      <td>NaN</td>\n",
       "    </tr>\n",
       "  </tbody>\n",
       "</table>\n",
       "<p>5 rows × 145 columns</p>\n",
       "</div>"
      ],
      "text/plain": [
       "   id  member_id  loan_amnt  funded_amnt  funded_amnt_inv        term  \\\n",
       "0 NaN        NaN       2500         2500           2500.0   36 months   \n",
       "1 NaN        NaN      30000        30000          30000.0   60 months   \n",
       "2 NaN        NaN       5000         5000           5000.0   36 months   \n",
       "3 NaN        NaN       4000         4000           4000.0   36 months   \n",
       "4 NaN        NaN      30000        30000          30000.0   60 months   \n",
       "\n",
       "   int_rate  installment grade sub_grade  ... hardship_payoff_balance_amount  \\\n",
       "0     13.56        84.92     C        C1  ...                            NaN   \n",
       "1     18.94       777.23     D        D2  ...                            NaN   \n",
       "2     17.97       180.69     D        D1  ...                            NaN   \n",
       "3     18.94       146.51     D        D2  ...                            NaN   \n",
       "4     16.14       731.78     C        C4  ...                            NaN   \n",
       "\n",
       "  hardship_last_payment_amount disbursement_method  debt_settlement_flag  \\\n",
       "0                          NaN                Cash                     N   \n",
       "1                          NaN                Cash                     N   \n",
       "2                          NaN                Cash                     N   \n",
       "3                          NaN                Cash                     N   \n",
       "4                          NaN                Cash                     N   \n",
       "\n",
       "  debt_settlement_flag_date settlement_status settlement_date  \\\n",
       "0                       NaN               NaN             NaN   \n",
       "1                       NaN               NaN             NaN   \n",
       "2                       NaN               NaN             NaN   \n",
       "3                       NaN               NaN             NaN   \n",
       "4                       NaN               NaN             NaN   \n",
       "\n",
       "  settlement_amount  settlement_percentage settlement_term  \n",
       "0               NaN                    NaN             NaN  \n",
       "1               NaN                    NaN             NaN  \n",
       "2               NaN                    NaN             NaN  \n",
       "3               NaN                    NaN             NaN  \n",
       "4               NaN                    NaN             NaN  \n",
       "\n",
       "[5 rows x 145 columns]"
      ]
     },
     "execution_count": 40,
     "metadata": {},
     "output_type": "execute_result"
    }
   ],
   "source": [
    "df = pd.read_csv(\"loan.csv\")\n",
    "df.head(5)"
   ]
  },
  {
   "cell_type": "markdown",
   "metadata": {},
   "source": [
    "#### Handle mixed data types in Columns (19,47,55,112,123,124,125,128,129,130,133,139,140,141)"
   ]
  },
  {
   "cell_type": "code",
   "execution_count": 41,
   "metadata": {},
   "outputs": [
    {
     "data": {
      "text/plain": [
       "Index(['id', 'member_id', 'loan_amnt', 'funded_amnt', 'funded_amnt_inv',\n",
       "       'term', 'int_rate', 'installment', 'grade', 'sub_grade',\n",
       "       ...\n",
       "       'hardship_payoff_balance_amount', 'hardship_last_payment_amount',\n",
       "       'disbursement_method', 'debt_settlement_flag',\n",
       "       'debt_settlement_flag_date', 'settlement_status', 'settlement_date',\n",
       "       'settlement_amount', 'settlement_percentage', 'settlement_term'],\n",
       "      dtype='object', length=145)"
      ]
     },
     "execution_count": 41,
     "metadata": {},
     "output_type": "execute_result"
    }
   ],
   "source": [
    "col_names = df.columns\n",
    "col_names"
   ]
  },
  {
   "cell_type": "code",
   "execution_count": 42,
   "metadata": {},
   "outputs": [
    {
     "data": {
      "text/plain": [
       "'desc'"
      ]
     },
     "execution_count": 42,
     "metadata": {},
     "output_type": "execute_result"
    }
   ],
   "source": [
    "col_names[19]"
   ]
  },
  {
   "cell_type": "code",
   "execution_count": 43,
   "metadata": {},
   "outputs": [
    {
     "data": {
      "text/plain": [
       "array([nan, ' ',\n",
       "       \"I currently have a loan out with CashCall. The interest rate is 96%! At the time I took out the loan, it helped with a family crisis, but now the interest is crazy to be paying. I'd rather be paying my $200 a month to pay down a loan rather than just the interest.   Also, the remainder of my debt has interest rates ranging from 20 - 24%. This includes credit cards, a student loan, and some personal loans. So, I would like to consolidate the rest of my debt and pay a lower interest rate of 15%.  By doing this, I could lower my interest and my monthly payments and save at least $4000 over the next few years.  I do have a bankruptcy that was discharged 3 years ago due to having $40,000 in debt from an uninsured hospital stay. However, I've not missed a payment on anything since.  My credit report does from time time to time relist things as collections and then I have to dispute them as included in bankruptcy and they go back to being listed that way. I'm not sure why the status gets messed up sometimes.   Thank you for your time and consideration! \",\n",
       "       ...,\n",
       "       'I need to pay $2,100 for fixing my Volvo :)  Any help appreciated!',\n",
       "       \"Hi,   I'm buying  a used car. Anybody on facebook wants to finance me?   Thanks\",\n",
       "       'I need to make several improvements around the house - fix garage, fix back fencing, and misc other.'],\n",
       "      dtype=object)"
      ]
     },
     "execution_count": 43,
     "metadata": {},
     "output_type": "execute_result"
    }
   ],
   "source": [
    "df['desc'].unique()"
   ]
  },
  {
   "cell_type": "code",
   "execution_count": 44,
   "metadata": {},
   "outputs": [
    {
     "data": {
      "text/plain": [
       "'next_pymnt_d'"
      ]
     },
     "execution_count": 44,
     "metadata": {},
     "output_type": "execute_result"
    }
   ],
   "source": [
    "col_names[47]"
   ]
  },
  {
   "cell_type": "code",
   "execution_count": 45,
   "metadata": {},
   "outputs": [
    {
     "data": {
      "text/plain": [
       "array(['Mar-2019', nan, 'Feb-2019', 'Apr-2019', 'Dec-2018', 'Sep-2018',\n",
       "       'Aug-2018', 'Feb-2018', 'Jan-2016', 'Sep-2013', 'Feb-2016',\n",
       "       'Feb-2014', 'May-2014', 'Jun-2013', 'Mar-2012', 'Apr-2012',\n",
       "       'May-2013', 'Aug-2012', 'Aug-2013', 'Jun-2012', 'Nov-2013',\n",
       "       'Feb-2012', 'Oct-2011', 'Jan-2013', 'Jan-2014', 'Jul-2013',\n",
       "       'Jul-2015', 'Jan-2012', 'Dec-2012', 'Jun-2011', 'Feb-2013',\n",
       "       'Nov-2011', 'Nov-2012', 'Dec-2011', 'Aug-2011', 'Sep-2011',\n",
       "       'Apr-2011', 'Mar-2014', 'Apr-2013', 'Mar-2011', 'Jul-2012',\n",
       "       'Aug-2014', 'Oct-2013', 'Sep-2012', 'May-2012', 'Apr-2015',\n",
       "       'Jul-2011', 'Dec-2015', 'Dec-2013', 'Jan-2011', 'Oct-2012',\n",
       "       'Nov-2014', 'Mar-2013', 'Aug-2015', 'Feb-2015', 'May-2015',\n",
       "       'Jul-2014', 'Nov-2015', 'Sep-2014', 'Oct-2015', 'May-2011',\n",
       "       'Feb-2011', 'Dec-2014', 'Jun-2015', 'Apr-2014', 'Jan-2015',\n",
       "       'Sep-2015', 'Jun-2014', 'Nov-2010', 'Oct-2010', 'Dec-2010',\n",
       "       'Mar-2015', 'Oct-2014', 'Jul-2010', 'Sep-2010', 'May-2010',\n",
       "       'Aug-2010', 'Mar-2010', 'Jun-2010', 'Apr-2010', 'Feb-2010',\n",
       "       'Dec-2009', 'Nov-2009', 'Oct-2009', 'Jan-2010', 'Sep-2009',\n",
       "       'Jun-2009', 'Aug-2009', 'Jul-2009', 'May-2009', 'Apr-2009',\n",
       "       'Jan-2009', 'Oct-2008', 'Feb-2009', 'Nov-2008', 'Sep-2008',\n",
       "       'Mar-2009', 'Dec-2008', 'Aug-2008', 'Jun-2008', 'Jul-2008',\n",
       "       'Apr-2008', 'May-2008', 'Feb-2008', 'Jan-2008', 'Mar-2008'],\n",
       "      dtype=object)"
      ]
     },
     "execution_count": 45,
     "metadata": {},
     "output_type": "execute_result"
    }
   ],
   "source": [
    "df['next_pymnt_d'].unique()"
   ]
  },
  {
   "cell_type": "code",
   "execution_count": 46,
   "metadata": {},
   "outputs": [
    {
     "data": {
      "text/plain": [
       "'verification_status_joint'"
      ]
     },
     "execution_count": 46,
     "metadata": {},
     "output_type": "execute_result"
    }
   ],
   "source": [
    "col_names[55]"
   ]
  },
  {
   "cell_type": "code",
   "execution_count": 47,
   "metadata": {},
   "outputs": [
    {
     "data": {
      "text/plain": [
       "array([nan, 'Verified', 'Not Verified', 'Source Verified'], dtype=object)"
      ]
     },
     "execution_count": 47,
     "metadata": {},
     "output_type": "execute_result"
    }
   ],
   "source": [
    "df['verification_status_joint'].unique()"
   ]
  },
  {
   "cell_type": "code",
   "execution_count": 48,
   "metadata": {},
   "outputs": [
    {
     "data": {
      "text/plain": [
       "'sec_app_earliest_cr_line'"
      ]
     },
     "execution_count": 48,
     "metadata": {},
     "output_type": "execute_result"
    }
   ],
   "source": [
    "col_names[112]"
   ]
  },
  {
   "cell_type": "code",
   "execution_count": 49,
   "metadata": {},
   "outputs": [
    {
     "data": {
      "text/plain": [
       "array([nan, 'May-2002', 'Aug-2003', 'May-2003', 'Oct-1999', 'Dec-1996',\n",
       "       'May-2007', 'Oct-2006', 'Nov-1996', 'Jul-1997', 'Apr-1990',\n",
       "       'Jul-2006', 'Jan-2005', 'Jan-2008', 'Jun-2003', 'Apr-2003',\n",
       "       'Mar-2008', 'Sep-2005', 'Nov-2001', 'Nov-2006', 'Jan-2016',\n",
       "       'Aug-1998', 'Sep-2004', 'Mar-2005', 'Jun-2002', 'Jan-2009',\n",
       "       'Jun-2013', 'Feb-1999', 'Sep-1985', 'Oct-1993', 'Oct-2004',\n",
       "       'Jun-2004', 'Feb-2004', 'Apr-2000', 'May-2006', 'Aug-1989',\n",
       "       'Sep-2011', 'Nov-2002', 'Feb-2015', 'Aug-1972', 'Jul-2008',\n",
       "       'Feb-1985', 'Feb-2008', 'Sep-2002', 'Jul-1998', 'Jan-1988',\n",
       "       'Dec-2005', 'Jun-1988', 'Feb-2009', 'May-2000', 'Feb-1992',\n",
       "       'Oct-1996', 'Sep-2006', 'Nov-2010', 'Nov-2003', 'Jun-2006',\n",
       "       'May-2011', 'Nov-1988', 'Jul-1991', 'Apr-1991', 'Dec-1998',\n",
       "       'Aug-2010', 'Mar-2007', 'Feb-2007', 'Nov-2008', 'Mar-2009',\n",
       "       'Mar-1997', 'Oct-2009', 'Oct-2007', 'Jan-1999', 'Dec-2002',\n",
       "       'Aug-2005', 'Jul-2010', 'Jul-2001', 'Sep-2016', 'Jan-2006',\n",
       "       'Apr-2006', 'Jun-2005', 'May-1996', 'Jan-2012', 'Dec-2000',\n",
       "       'Jul-1999', 'Jan-2001', 'Oct-2008', 'Aug-2011', 'Nov-2007',\n",
       "       'Apr-2007', 'Aug-2012', 'Jun-1986', 'Oct-2005', 'Feb-1995',\n",
       "       'Dec-2006', 'Dec-2001', 'Dec-2004', 'Aug-1993', 'Jul-2002',\n",
       "       'Sep-1997', 'Nov-1994', 'Sep-1995', 'Mar-2000', 'Dec-2011',\n",
       "       'Feb-2018', 'Aug-2007', 'Mar-2014', 'Jul-2007', 'Aug-2006',\n",
       "       'Sep-1996', 'Dec-1987', 'Mar-1989', 'Jul-1979', 'Jun-2001',\n",
       "       'Jan-2007', 'May-1994', 'Dec-1981', 'Nov-2005', 'Sep-2001',\n",
       "       'Oct-1992', 'Sep-2013', 'Feb-2011', 'Feb-1981', 'May-1993',\n",
       "       'Mar-2004', 'Sep-2003', 'Jul-2011', 'Jun-2000', 'Mar-1985',\n",
       "       'Sep-2007', 'Sep-2015', 'Aug-1999', 'May-2014', 'Oct-1990',\n",
       "       'Sep-2008', 'Sep-1999', 'Dec-2007', 'Nov-2000', 'Aug-2008',\n",
       "       'Aug-1988', 'Jan-1993', 'Apr-2001', 'Jan-2014', 'Mar-2013',\n",
       "       'Jun-1997', 'Nov-2015', 'Mar-1988', 'Jul-2004', 'Dec-1994',\n",
       "       'Oct-2002', 'Sep-2000', 'Feb-2006', 'May-1986', 'Jun-2008',\n",
       "       'Aug-2009', 'Apr-2005', 'Nov-1998', 'Feb-1996', 'Mar-1999',\n",
       "       'May-2005', 'Nov-1993', 'Aug-2002', 'Feb-2000', 'Jan-2011',\n",
       "       'Dec-2010', 'Oct-2000', 'Jun-1999', 'May-1987', 'Nov-2004',\n",
       "       'Aug-2000', 'Feb-1979', 'Jun-2007', 'Mar-2006', 'Jul-1995',\n",
       "       'Oct-2003', 'Apr-1996', 'Sep-2017', 'Oct-1997', 'Dec-2003',\n",
       "       'Apr-2011', 'Dec-1989', 'Jun-2015', 'Nov-1995', 'Jul-2005',\n",
       "       'Aug-1997', 'Sep-1988', 'Feb-2002', 'Jan-2015', 'Sep-1998',\n",
       "       'Nov-2013', 'Jul-2003', 'Jun-2010', 'May-2009', 'Jul-1990',\n",
       "       'May-1992', 'Jul-1996', 'Feb-1991', 'Oct-1987', 'Mar-1998',\n",
       "       'Oct-1981', 'Oct-2016', 'Nov-1985', 'Dec-1999', 'Aug-2001',\n",
       "       'Feb-2001', 'Mar-2001', 'Mar-1991', 'Nov-1990', 'Aug-2013',\n",
       "       'May-2012', 'Mar-2002', 'Jun-1995', 'Jul-1994', 'Apr-2010',\n",
       "       'May-1995', 'May-2008', 'Aug-1992', 'Nov-2009', 'Jun-1991',\n",
       "       'Oct-1995', 'Feb-2014', 'Nov-2016', 'Mar-1996', 'Aug-2016',\n",
       "       'Jul-2000', 'Dec-2008', 'Jan-1990', 'Apr-2009', 'Feb-2010',\n",
       "       'Mar-1976', 'Jan-1978', 'Mar-2010', 'Dec-2009', 'Feb-1998',\n",
       "       'Mar-2003', 'Dec-1986', 'Jan-2002', 'Nov-1987', 'Dec-1978',\n",
       "       'Oct-2013', 'Nov-1999', 'Oct-2001', 'Mar-1992', 'Jan-1989',\n",
       "       'Apr-2002', 'Feb-2003', 'Apr-2015', 'Apr-1988', 'Jun-1982',\n",
       "       'Sep-2012', 'May-1991', 'Nov-1989', 'Sep-2014', 'Jan-1994',\n",
       "       'Oct-1989', 'Oct-2010', 'May-2004', 'Oct-1994', 'Apr-2016',\n",
       "       'Oct-1991', 'May-1990', 'Jan-1984', 'Jun-1990', 'Apr-1997',\n",
       "       'Mar-2015', 'Jun-2011', 'Oct-2012', 'Dec-2016', 'Feb-2005',\n",
       "       'Mar-1969', 'Aug-1991', 'Jun-2012', 'Mar-1994', 'Feb-1994',\n",
       "       'Aug-2014', 'Mar-1993', 'May-2016', 'May-1982', 'Oct-2011',\n",
       "       'Apr-1993', 'Jan-2003', 'Sep-2009', 'Sep-1994', 'Dec-1984',\n",
       "       'Jan-1971', 'Jul-2012', 'Jun-1994', 'Dec-1988', 'Mar-1978',\n",
       "       'Apr-1977', 'Jan-1998', 'Feb-2012', 'May-2001', 'Dec-1997',\n",
       "       'Sep-1990', 'Nov-2017', 'Dec-2013', 'Jan-2018', 'Jul-1987',\n",
       "       'Nov-2014', 'May-1988', 'Aug-2004', 'Nov-2011', 'Apr-1995',\n",
       "       'Jul-2009', 'Jun-1979', 'Jan-2017', 'Dec-1995', 'Mar-2012',\n",
       "       'Apr-2013', 'Mar-2011', 'Jan-1996', 'Jul-1989', 'Mar-1995',\n",
       "       'Sep-1993', 'May-2015', 'Jun-2018', 'Jan-2004', 'Jul-2014',\n",
       "       'Apr-1986', 'Sep-1992', 'Nov-2012', 'May-1997', 'Nov-1997',\n",
       "       'May-1985', 'Apr-2004', 'Jun-1993', 'Jun-2014', 'Aug-1996',\n",
       "       'Feb-1997', 'Mar-1990', 'Apr-1999', 'Mar-1970', 'Dec-2012',\n",
       "       'Feb-2013', 'Jan-1981', 'Oct-1983', 'Jun-2009', 'Feb-1993',\n",
       "       'Apr-2014', 'Jan-1985', 'Jul-2016', 'Apr-1998', 'Sep-2010',\n",
       "       'Aug-1973', 'Apr-2018', 'Apr-1994', 'May-1999', 'Sep-1987',\n",
       "       'Oct-2015', 'Jun-2016', 'Jan-1974', 'Nov-1983', 'Dec-1991',\n",
       "       'Oct-1980', 'Mar-1974', 'Sep-1970', 'May-2010', 'Jan-2010',\n",
       "       'Sep-1984', 'Aug-1995', 'Apr-1992', 'Jun-1985', 'Aug-2015',\n",
       "       'May-2013', 'Jul-1993', 'Apr-2008', 'Jul-2013', 'Jan-1992',\n",
       "       'Mar-2018', 'Jun-1973', 'Oct-1998', 'Nov-1992', 'Aug-1994',\n",
       "       'Jul-1977', 'Aug-1990', 'Oct-1979', 'Jan-2000', 'Dec-1976',\n",
       "       'Jun-1998', 'Feb-1990', 'Jul-2017', 'Jun-1976', 'May-1984',\n",
       "       'Apr-1976', 'Dec-2014', 'Jan-1969', 'May-1998', 'Sep-1989',\n",
       "       'Dec-1972', 'Jun-1978', 'Feb-1989', 'Jun-2017', 'Jul-1974',\n",
       "       'Apr-2012', 'Jan-1997', 'Jun-1996', 'May-2017', 'Nov-1976',\n",
       "       'May-1977', 'Apr-1979', 'Aug-1983', 'Jul-1975', 'Oct-1985',\n",
       "       'Apr-1984', 'Oct-1986', 'Jan-1991', 'Jun-1981', 'Sep-1986',\n",
       "       'Oct-1982', 'Sep-1983', 'Jan-1995', 'May-1964', 'Jan-2013',\n",
       "       'May-2018', 'Nov-1984', 'Dec-1975', 'Dec-2015', 'Apr-1985',\n",
       "       'Apr-2017', 'May-1989', 'Feb-2017', 'Oct-2017', 'Nov-1991',\n",
       "       'Oct-1984', 'Dec-1980', 'Sep-1991', 'Jul-1986', 'Apr-1963',\n",
       "       'Jun-1987', 'Feb-1963', 'Feb-1976', 'Aug-1987', 'Jan-1986',\n",
       "       'Oct-1972', 'Mar-1982', 'Jun-1971', 'Jul-1985', 'Mar-1984',\n",
       "       'Aug-2017', 'Oct-2014', 'Feb-1983', 'Jan-1987', 'Dec-1992',\n",
       "       'Apr-1964', 'Jul-2015', 'Aug-1981', 'Nov-1981', 'Apr-1983',\n",
       "       'Nov-1975', 'Nov-1978', 'Mar-1986', 'Jun-1989', 'Dec-1993',\n",
       "       'Jul-1992', 'May-1978', 'Apr-1987', 'Jul-1988', 'Mar-1987',\n",
       "       'Apr-1989', 'Sep-1978', 'Jul-1973', 'Aug-1979', 'Jan-1982',\n",
       "       'Mar-2016', 'Dec-1990', 'Dec-1973', 'May-1973', 'Oct-1976',\n",
       "       'Aug-1986', 'Apr-1971', 'Aug-1978', 'Apr-1973', 'Jun-1983',\n",
       "       'Sep-1982', 'Nov-1982', 'Jun-1975', 'Feb-2016', 'Nov-1973',\n",
       "       'Feb-1987', 'Jan-1962', 'Feb-1986', 'Apr-1974', 'Jan-1983',\n",
       "       'Mar-2017', 'Nov-1986', 'Mar-1981', 'Mar-1983', 'Jun-1969',\n",
       "       'Jul-1983', 'May-1981', 'Apr-1981', 'Aug-1977', 'Oct-1988',\n",
       "       'May-1975', 'Feb-1975', 'Oct-1977', 'Dec-1983', 'Dec-1966',\n",
       "       'Nov-1977', 'May-1980', 'Jan-1980', 'Oct-1974', 'Jan-1959',\n",
       "       'Mar-1980', 'Feb-1978', 'Jul-1964', 'Jul-1972', 'Dec-1982',\n",
       "       'Apr-1982', 'Jun-1974', 'Sep-1979', 'Jun-1992', 'Dec-2017',\n",
       "       'Aug-1984', 'Aug-1985', 'Mar-1977', 'Apr-1980', 'Sep-1974',\n",
       "       'Sep-1975', 'Jul-1976', 'Feb-1982', 'Dec-1974', 'Aug-1967',\n",
       "       'Jul-1984', 'Sep-1980', 'Feb-1980', 'Nov-1979', 'Oct-1978',\n",
       "       'Dec-1979', 'Nov-1980', 'Aug-1982', 'Jun-1964', 'Jun-1984',\n",
       "       'Nov-1974', 'Mar-1979', 'Sep-1971', 'Aug-1968', 'Aug-1974',\n",
       "       'Oct-1969', 'Sep-1977', 'Mar-1968', 'Aug-1980', 'Dec-1985',\n",
       "       'Feb-1988', 'May-1983', 'Jan-1960', 'Nov-1972', 'Feb-1984',\n",
       "       'Jan-1970', 'Jun-1980', 'Sep-1981', 'Aug-1971', 'Sep-1973',\n",
       "       'Jun-1977', 'Aug-1964', 'Feb-1974', 'Feb-1973', 'Dec-1970',\n",
       "       'Aug-1975', 'Feb-1967', 'Mar-1973', 'Feb-1977', 'Oct-1973',\n",
       "       'May-1974', 'Dec-1971', 'May-1966', 'Jan-1979', 'Mar-1975',\n",
       "       'Jul-1981', 'Jan-1972', 'Jan-1975', 'Aug-1970', 'Aug-1969',\n",
       "       'Jan-1967', 'Dec-1977', 'Oct-1970', 'Apr-1975', 'Jan-1976',\n",
       "       'Nov-1970', 'Apr-1968', 'Aug-1976', 'Jul-1982', 'Oct-1966',\n",
       "       'Jul-1978', 'Apr-1970', 'Dec-1967', 'Jul-1980', 'May-1979',\n",
       "       'May-1972', 'Jul-1961', 'Jan-1973', 'Apr-1969', 'Apr-1972',\n",
       "       'Feb-1970', 'Jan-1966', 'Feb-1972', 'Apr-1978', 'Feb-1968',\n",
       "       'Jul-1970', 'Dec-1968', 'Jun-1958', 'Mar-1971', 'Jul-1968',\n",
       "       'Nov-1966', 'Oct-1962', 'Jan-1977', 'Jun-1966', 'Aug-1963',\n",
       "       'Aug-1965', 'May-1970', 'May-1976', 'Mar-1967', 'Oct-1963',\n",
       "       'Jun-1968', 'Nov-1965', 'Oct-1968', 'Oct-1975', 'Jan-1961',\n",
       "       'Apr-1965', 'Sep-1976', 'Dec-1969', 'Nov-1964', 'Jun-1965',\n",
       "       'Dec-1960', 'Jul-1969', 'Jul-1966', 'Oct-1964', 'Jun-1970',\n",
       "       'May-1971', 'Jan-1968', 'Jan-1965', 'Sep-1969', 'Mar-1966',\n",
       "       'Mar-1964', 'Aug-1966', 'May-1963', 'Jun-1967', 'Jul-1967',\n",
       "       'Nov-1971', 'Nov-1967', 'Oct-1971', 'Mar-1972', 'Dec-1964',\n",
       "       'Mar-1965', 'Dec-1954', 'Sep-1972', 'Dec-1963', 'Feb-1971',\n",
       "       'Apr-1966', 'Feb-1969', 'Dec-1965', 'Oct-1965', 'May-1969',\n",
       "       'Mar-1934', 'Jul-1963', 'Jan-1964', 'Nov-1969', 'Jul-1958',\n",
       "       'Jan-1951', 'Nov-1962', 'Jun-1972', 'Sep-1964', 'Sep-1967',\n",
       "       'Jul-1971', 'Jun-1959', 'Sep-1963'], dtype=object)"
      ]
     },
     "execution_count": 49,
     "metadata": {},
     "output_type": "execute_result"
    }
   ],
   "source": [
    "df['sec_app_earliest_cr_line'].unique()"
   ]
  },
  {
   "cell_type": "code",
   "execution_count": 50,
   "metadata": {},
   "outputs": [
    {
     "data": {
      "text/plain": [
       "'hardship_type'"
      ]
     },
     "execution_count": 50,
     "metadata": {},
     "output_type": "execute_result"
    }
   ],
   "source": [
    "col_names[123]"
   ]
  },
  {
   "cell_type": "code",
   "execution_count": 51,
   "metadata": {},
   "outputs": [
    {
     "data": {
      "text/plain": [
       "array([nan, 'INTEREST ONLY-3 MONTHS DEFERRAL'], dtype=object)"
      ]
     },
     "execution_count": 51,
     "metadata": {},
     "output_type": "execute_result"
    }
   ],
   "source": [
    "df['hardship_type'].unique()"
   ]
  },
  {
   "cell_type": "code",
   "execution_count": 52,
   "metadata": {},
   "outputs": [
    {
     "data": {
      "text/plain": [
       "'hardship_reason'"
      ]
     },
     "execution_count": 52,
     "metadata": {},
     "output_type": "execute_result"
    }
   ],
   "source": [
    "col_names[124]"
   ]
  },
  {
   "cell_type": "code",
   "execution_count": 53,
   "metadata": {},
   "outputs": [
    {
     "data": {
      "text/plain": [
       "array([nan, 'UNEMPLOYMENT', 'NATURAL_DISASTER', 'EXCESSIVE_OBLIGATIONS',\n",
       "       'MEDICAL', 'INCOME_CURTAILMENT', 'DISABILITY', 'REDUCED_HOURS',\n",
       "       'FAMILY_DEATH', 'DIVORCE'], dtype=object)"
      ]
     },
     "execution_count": 53,
     "metadata": {},
     "output_type": "execute_result"
    }
   ],
   "source": [
    "df['hardship_reason'].unique()"
   ]
  },
  {
   "cell_type": "code",
   "execution_count": 54,
   "metadata": {},
   "outputs": [
    {
     "data": {
      "text/plain": [
       "'hardship_status'"
      ]
     },
     "execution_count": 54,
     "metadata": {},
     "output_type": "execute_result"
    }
   ],
   "source": [
    "col_names[125]"
   ]
  },
  {
   "cell_type": "code",
   "execution_count": 55,
   "metadata": {},
   "outputs": [
    {
     "data": {
      "text/plain": [
       "array([nan, 'ACTIVE', 'COMPLETED', 'BROKEN'], dtype=object)"
      ]
     },
     "execution_count": 55,
     "metadata": {},
     "output_type": "execute_result"
    }
   ],
   "source": [
    "df['hardship_status'].unique()"
   ]
  },
  {
   "cell_type": "code",
   "execution_count": 56,
   "metadata": {},
   "outputs": [
    {
     "data": {
      "text/plain": [
       "'hardship_start_date'"
      ]
     },
     "execution_count": 56,
     "metadata": {},
     "output_type": "execute_result"
    }
   ],
   "source": [
    "col_names[128]"
   ]
  },
  {
   "cell_type": "code",
   "execution_count": 57,
   "metadata": {},
   "outputs": [
    {
     "data": {
      "text/plain": [
       "array([nan, 'Feb-2019', 'Oct-2018', 'Nov-2018', 'Sep-2018', 'Jan-2019',\n",
       "       'Dec-2018', 'Aug-2018', 'Jul-2018', 'May-2018', 'Sep-2017',\n",
       "       'Feb-2018', 'Dec-2017', 'Apr-2018', 'Aug-2017', 'Jan-2018',\n",
       "       'Mar-2018', 'Jun-2018', 'Oct-2017', 'Nov-2017', 'Jul-2017',\n",
       "       'Jun-2017', 'May-2017', 'Feb-2017', 'Apr-2017', 'Jan-2017',\n",
       "       'Mar-2017'], dtype=object)"
      ]
     },
     "execution_count": 57,
     "metadata": {},
     "output_type": "execute_result"
    }
   ],
   "source": [
    "df['hardship_start_date'].unique()"
   ]
  },
  {
   "cell_type": "code",
   "execution_count": 58,
   "metadata": {},
   "outputs": [
    {
     "data": {
      "text/plain": [
       "'hardship_end_date'"
      ]
     },
     "execution_count": 58,
     "metadata": {},
     "output_type": "execute_result"
    }
   ],
   "source": [
    "col_names[129]"
   ]
  },
  {
   "cell_type": "code",
   "execution_count": 59,
   "metadata": {},
   "outputs": [
    {
     "data": {
      "text/plain": [
       "array([nan, 'Apr-2019', 'Dec-2018', 'Jan-2019', 'Feb-2019', 'Oct-2018',\n",
       "       'May-2019', 'Mar-2019', 'Nov-2018', 'Aug-2018', 'Dec-2017',\n",
       "       'May-2018', 'Nov-2017', 'Mar-2018', 'Jul-2018', 'Apr-2018',\n",
       "       'Jun-2018', 'Sep-2017', 'Sep-2018', 'Oct-2017', 'Jan-2018',\n",
       "       'Feb-2018', 'Aug-2017', 'Jul-2017', 'Jun-2017', 'May-2017',\n",
       "       'Apr-2017', 'Mar-2017'], dtype=object)"
      ]
     },
     "execution_count": 59,
     "metadata": {},
     "output_type": "execute_result"
    }
   ],
   "source": [
    "df['hardship_end_date'].unique()"
   ]
  },
  {
   "cell_type": "code",
   "execution_count": 60,
   "metadata": {},
   "outputs": [
    {
     "data": {
      "text/plain": [
       "'payment_plan_start_date'"
      ]
     },
     "execution_count": 60,
     "metadata": {},
     "output_type": "execute_result"
    }
   ],
   "source": [
    "col_names[130]"
   ]
  },
  {
   "cell_type": "code",
   "execution_count": 61,
   "metadata": {},
   "outputs": [
    {
     "data": {
      "text/plain": [
       "array([nan, 'Feb-2019', 'Oct-2018', 'Nov-2018', 'Dec-2018', 'Jan-2019',\n",
       "       'Sep-2018', 'Mar-2019', 'Aug-2018', 'Jun-2018', 'Sep-2017',\n",
       "       'Oct-2017', 'Feb-2018', 'Dec-2017', 'May-2018', 'Aug-2017',\n",
       "       'Jan-2018', 'Mar-2018', 'Apr-2018', 'Nov-2017', 'Jul-2018',\n",
       "       'Jul-2017', 'Jun-2017', 'May-2017', 'Mar-2017', 'Feb-2017',\n",
       "       'Apr-2017'], dtype=object)"
      ]
     },
     "execution_count": 61,
     "metadata": {},
     "output_type": "execute_result"
    }
   ],
   "source": [
    "df['payment_plan_start_date'].unique()"
   ]
  },
  {
   "cell_type": "code",
   "execution_count": 62,
   "metadata": {},
   "outputs": [
    {
     "data": {
      "text/plain": [
       "'hardship_loan_status'"
      ]
     },
     "execution_count": 62,
     "metadata": {},
     "output_type": "execute_result"
    }
   ],
   "source": [
    "col_names[133]"
   ]
  },
  {
   "cell_type": "code",
   "execution_count": 63,
   "metadata": {},
   "outputs": [
    {
     "data": {
      "text/plain": [
       "array([nan, 'Late (16-30 days)', 'Issued', 'Current',\n",
       "       'Late (31-120 days)', 'In Grace Period'], dtype=object)"
      ]
     },
     "execution_count": 63,
     "metadata": {},
     "output_type": "execute_result"
    }
   ],
   "source": [
    "df['hardship_loan_status'].unique()"
   ]
  },
  {
   "cell_type": "code",
   "execution_count": 64,
   "metadata": {},
   "outputs": [
    {
     "data": {
      "text/plain": [
       "'debt_settlement_flag_date'"
      ]
     },
     "execution_count": 64,
     "metadata": {},
     "output_type": "execute_result"
    }
   ],
   "source": [
    "col_names[139]"
   ]
  },
  {
   "cell_type": "code",
   "execution_count": 65,
   "metadata": {},
   "outputs": [
    {
     "data": {
      "text/plain": [
       "array([nan, 'Feb-2019', 'Dec-2018', 'Jan-2019', 'Nov-2018', 'Oct-2018',\n",
       "       'Sep-2018', 'Aug-2018', 'Jul-2018', 'Jun-2018', 'Apr-2018',\n",
       "       'Dec-2017', 'Feb-2018', 'Sep-2017', 'May-2018', 'Mar-2018',\n",
       "       'Nov-2017', 'Jan-2018', 'Jun-2017', 'May-2017', 'Jul-2017',\n",
       "       'Aug-2017', 'Oct-2017', 'Apr-2017', 'Mar-2017', 'Jan-2017',\n",
       "       'Feb-2017', 'Dec-2016', 'Nov-2016', 'Aug-2016', 'Sep-2016',\n",
       "       'Jul-2016', 'Oct-2016', 'Jun-2016', 'May-2016', 'Apr-2016',\n",
       "       'Mar-2016', 'Feb-2016', 'Jan-2016', 'Dec-2015', 'Sep-2015',\n",
       "       'Oct-2015', 'Aug-2015', 'Jun-2015', 'Feb-2015', 'Nov-2015',\n",
       "       'May-2015', 'Nov-2014', 'Mar-2015', 'Apr-2015', 'Jul-2015',\n",
       "       'Jan-2015', 'Dec-2014', 'May-2014', 'Sep-2014', 'Jul-2014',\n",
       "       'Apr-2014', 'Jun-2014', 'Oct-2014', 'Aug-2014', 'Aug-2013',\n",
       "       'Mar-2014', 'Jan-2014', 'Nov-2013', 'Oct-2013', 'Feb-2014',\n",
       "       'Sep-2013', 'Mar-2013', 'Jun-2013', 'Nov-2012', 'Dec-2013',\n",
       "       'Oct-2012', 'Jun-2012', 'Apr-2013', 'Jul-2013', 'Feb-2012',\n",
       "       'Sep-2012', 'Feb-2011', 'Dec-2012', 'Oct-2011', 'Feb-2013',\n",
       "       'Nov-2011', 'Feb-2010'], dtype=object)"
      ]
     },
     "execution_count": 65,
     "metadata": {},
     "output_type": "execute_result"
    }
   ],
   "source": [
    "df['debt_settlement_flag_date'].unique()"
   ]
  },
  {
   "cell_type": "code",
   "execution_count": 66,
   "metadata": {},
   "outputs": [
    {
     "data": {
      "text/plain": [
       "'settlement_status'"
      ]
     },
     "execution_count": 66,
     "metadata": {},
     "output_type": "execute_result"
    }
   ],
   "source": [
    "col_names[140]"
   ]
  },
  {
   "cell_type": "code",
   "execution_count": 67,
   "metadata": {},
   "outputs": [
    {
     "data": {
      "text/plain": [
       "array([nan, 'ACTIVE', 'COMPLETE', 'BROKEN'], dtype=object)"
      ]
     },
     "execution_count": 67,
     "metadata": {},
     "output_type": "execute_result"
    }
   ],
   "source": [
    "df['settlement_status'].unique()"
   ]
  },
  {
   "cell_type": "code",
   "execution_count": 68,
   "metadata": {},
   "outputs": [
    {
     "data": {
      "text/plain": [
       "'settlement_date'"
      ]
     },
     "execution_count": 68,
     "metadata": {},
     "output_type": "execute_result"
    }
   ],
   "source": [
    "col_names[141]"
   ]
  },
  {
   "cell_type": "code",
   "execution_count": 69,
   "metadata": {
    "scrolled": true
   },
   "outputs": [
    {
     "data": {
      "text/plain": [
       "array([nan, 'Feb-2019', 'Dec-2018', 'Jan-2019', 'Nov-2018', 'Oct-2018',\n",
       "       'Sep-2018', 'Aug-2018', 'Jul-2018', 'Jun-2018', 'Apr-2018',\n",
       "       'Aug-2017', 'Nov-2017', 'Jan-2018', 'Jun-2017', 'May-2018',\n",
       "       'Jul-2017', 'Feb-2018', 'Mar-2018', 'Dec-2017', 'May-2017',\n",
       "       'Sep-2017', 'Oct-2017', 'Feb-2017', 'Jan-2017', 'Mar-2017',\n",
       "       'Apr-2017', 'Dec-2016', 'Nov-2016', 'Oct-2016', 'Sep-2016',\n",
       "       'Aug-2016', 'Jul-2016', 'Jun-2016', 'Apr-2016', 'May-2016',\n",
       "       'Mar-2016', 'Feb-2016', 'Jan-2016', 'Dec-2015', 'Oct-2015',\n",
       "       'Sep-2015', 'Aug-2015', 'Nov-2015', 'Jun-2015', 'Jul-2015',\n",
       "       'May-2015', 'Sep-2014', 'Apr-2015', 'Oct-2014', 'Jan-2015',\n",
       "       'Mar-2015', 'Feb-2015', 'Nov-2014', 'Aug-2014', 'Dec-2014',\n",
       "       'Jul-2014', 'Apr-2014', 'Jun-2014', 'Mar-2014', 'May-2014',\n",
       "       'Feb-2014', 'Jan-2014', 'Nov-2013', 'Oct-2013', 'Dec-2013',\n",
       "       'Jul-2013', 'Aug-2013', 'Sep-2013', 'Jun-2013', 'Feb-2013',\n",
       "       'Mar-2013', 'May-2013', 'Nov-2012', 'Dec-2012', 'Apr-2013',\n",
       "       'Oct-2012', 'May-2012', 'Jun-2012', 'Aug-2012', 'Jan-2012',\n",
       "       'Sep-2012', 'Oct-2011', 'Feb-2012', 'Jul-2012', 'Feb-2011',\n",
       "       'Jul-2011', 'Mar-2012', 'Feb-2010', 'Mar-2009'], dtype=object)"
      ]
     },
     "execution_count": 69,
     "metadata": {},
     "output_type": "execute_result"
    }
   ],
   "source": [
    "df['settlement_date'].unique()"
   ]
  },
  {
   "cell_type": "markdown",
   "metadata": {},
   "source": [
    "#### Re-read data from \"loan.csv\" by handling mixed data type in Columns (19,47,55,112,123,124,125,128,129,130,133,139,140,141)"
   ]
  },
  {
   "cell_type": "markdown",
   "metadata": {},
   "source": [
    "# Note: Run notebook from here"
   ]
  },
  {
   "cell_type": "code",
   "execution_count": 1,
   "metadata": {},
   "outputs": [],
   "source": [
    "#load python packages\n",
    "import os\n",
    "import pandas as pd\n",
    "import pandas.api.types as ptypes\n",
    "import datetime\n",
    "import seaborn as sns\n",
    "import matplotlib.pyplot as plt\n",
    "import numpy as np\n",
    "%matplotlib inline"
   ]
  },
  {
   "cell_type": "code",
   "execution_count": 2,
   "metadata": {},
   "outputs": [
    {
     "data": {
      "text/html": [
       "<div>\n",
       "<style scoped>\n",
       "    .dataframe tbody tr th:only-of-type {\n",
       "        vertical-align: middle;\n",
       "    }\n",
       "\n",
       "    .dataframe tbody tr th {\n",
       "        vertical-align: top;\n",
       "    }\n",
       "\n",
       "    .dataframe thead th {\n",
       "        text-align: right;\n",
       "    }\n",
       "</style>\n",
       "<table border=\"1\" class=\"dataframe\">\n",
       "  <thead>\n",
       "    <tr style=\"text-align: right;\">\n",
       "      <th></th>\n",
       "      <th>id</th>\n",
       "      <th>member_id</th>\n",
       "      <th>loan_amnt</th>\n",
       "      <th>funded_amnt</th>\n",
       "      <th>funded_amnt_inv</th>\n",
       "      <th>term</th>\n",
       "      <th>int_rate</th>\n",
       "      <th>installment</th>\n",
       "      <th>grade</th>\n",
       "      <th>sub_grade</th>\n",
       "      <th>...</th>\n",
       "      <th>hardship_payoff_balance_amount</th>\n",
       "      <th>hardship_last_payment_amount</th>\n",
       "      <th>disbursement_method</th>\n",
       "      <th>debt_settlement_flag</th>\n",
       "      <th>debt_settlement_flag_date</th>\n",
       "      <th>settlement_status</th>\n",
       "      <th>settlement_date</th>\n",
       "      <th>settlement_amount</th>\n",
       "      <th>settlement_percentage</th>\n",
       "      <th>settlement_term</th>\n",
       "    </tr>\n",
       "  </thead>\n",
       "  <tbody>\n",
       "    <tr>\n",
       "      <th>0</th>\n",
       "      <td>NaN</td>\n",
       "      <td>NaN</td>\n",
       "      <td>2500</td>\n",
       "      <td>2500</td>\n",
       "      <td>2500.0</td>\n",
       "      <td>36 months</td>\n",
       "      <td>13.56</td>\n",
       "      <td>84.92</td>\n",
       "      <td>C</td>\n",
       "      <td>C1</td>\n",
       "      <td>...</td>\n",
       "      <td>NaN</td>\n",
       "      <td>NaN</td>\n",
       "      <td>Cash</td>\n",
       "      <td>N</td>\n",
       "      <td>NaN</td>\n",
       "      <td>NaN</td>\n",
       "      <td>NaN</td>\n",
       "      <td>NaN</td>\n",
       "      <td>NaN</td>\n",
       "      <td>NaN</td>\n",
       "    </tr>\n",
       "    <tr>\n",
       "      <th>1</th>\n",
       "      <td>NaN</td>\n",
       "      <td>NaN</td>\n",
       "      <td>30000</td>\n",
       "      <td>30000</td>\n",
       "      <td>30000.0</td>\n",
       "      <td>60 months</td>\n",
       "      <td>18.94</td>\n",
       "      <td>777.23</td>\n",
       "      <td>D</td>\n",
       "      <td>D2</td>\n",
       "      <td>...</td>\n",
       "      <td>NaN</td>\n",
       "      <td>NaN</td>\n",
       "      <td>Cash</td>\n",
       "      <td>N</td>\n",
       "      <td>NaN</td>\n",
       "      <td>NaN</td>\n",
       "      <td>NaN</td>\n",
       "      <td>NaN</td>\n",
       "      <td>NaN</td>\n",
       "      <td>NaN</td>\n",
       "    </tr>\n",
       "    <tr>\n",
       "      <th>2</th>\n",
       "      <td>NaN</td>\n",
       "      <td>NaN</td>\n",
       "      <td>5000</td>\n",
       "      <td>5000</td>\n",
       "      <td>5000.0</td>\n",
       "      <td>36 months</td>\n",
       "      <td>17.97</td>\n",
       "      <td>180.69</td>\n",
       "      <td>D</td>\n",
       "      <td>D1</td>\n",
       "      <td>...</td>\n",
       "      <td>NaN</td>\n",
       "      <td>NaN</td>\n",
       "      <td>Cash</td>\n",
       "      <td>N</td>\n",
       "      <td>NaN</td>\n",
       "      <td>NaN</td>\n",
       "      <td>NaN</td>\n",
       "      <td>NaN</td>\n",
       "      <td>NaN</td>\n",
       "      <td>NaN</td>\n",
       "    </tr>\n",
       "    <tr>\n",
       "      <th>3</th>\n",
       "      <td>NaN</td>\n",
       "      <td>NaN</td>\n",
       "      <td>4000</td>\n",
       "      <td>4000</td>\n",
       "      <td>4000.0</td>\n",
       "      <td>36 months</td>\n",
       "      <td>18.94</td>\n",
       "      <td>146.51</td>\n",
       "      <td>D</td>\n",
       "      <td>D2</td>\n",
       "      <td>...</td>\n",
       "      <td>NaN</td>\n",
       "      <td>NaN</td>\n",
       "      <td>Cash</td>\n",
       "      <td>N</td>\n",
       "      <td>NaN</td>\n",
       "      <td>NaN</td>\n",
       "      <td>NaN</td>\n",
       "      <td>NaN</td>\n",
       "      <td>NaN</td>\n",
       "      <td>NaN</td>\n",
       "    </tr>\n",
       "    <tr>\n",
       "      <th>4</th>\n",
       "      <td>NaN</td>\n",
       "      <td>NaN</td>\n",
       "      <td>30000</td>\n",
       "      <td>30000</td>\n",
       "      <td>30000.0</td>\n",
       "      <td>60 months</td>\n",
       "      <td>16.14</td>\n",
       "      <td>731.78</td>\n",
       "      <td>C</td>\n",
       "      <td>C4</td>\n",
       "      <td>...</td>\n",
       "      <td>NaN</td>\n",
       "      <td>NaN</td>\n",
       "      <td>Cash</td>\n",
       "      <td>N</td>\n",
       "      <td>NaN</td>\n",
       "      <td>NaN</td>\n",
       "      <td>NaN</td>\n",
       "      <td>NaN</td>\n",
       "      <td>NaN</td>\n",
       "      <td>NaN</td>\n",
       "    </tr>\n",
       "  </tbody>\n",
       "</table>\n",
       "<p>5 rows × 145 columns</p>\n",
       "</div>"
      ],
      "text/plain": [
       "   id  member_id  loan_amnt  funded_amnt  funded_amnt_inv        term  \\\n",
       "0 NaN        NaN       2500         2500           2500.0   36 months   \n",
       "1 NaN        NaN      30000        30000          30000.0   60 months   \n",
       "2 NaN        NaN       5000         5000           5000.0   36 months   \n",
       "3 NaN        NaN       4000         4000           4000.0   36 months   \n",
       "4 NaN        NaN      30000        30000          30000.0   60 months   \n",
       "\n",
       "   int_rate  installment grade sub_grade  ... hardship_payoff_balance_amount  \\\n",
       "0     13.56        84.92     C        C1  ...                            NaN   \n",
       "1     18.94       777.23     D        D2  ...                            NaN   \n",
       "2     17.97       180.69     D        D1  ...                            NaN   \n",
       "3     18.94       146.51     D        D2  ...                            NaN   \n",
       "4     16.14       731.78     C        C4  ...                            NaN   \n",
       "\n",
       "  hardship_last_payment_amount disbursement_method  debt_settlement_flag  \\\n",
       "0                          NaN                Cash                     N   \n",
       "1                          NaN                Cash                     N   \n",
       "2                          NaN                Cash                     N   \n",
       "3                          NaN                Cash                     N   \n",
       "4                          NaN                Cash                     N   \n",
       "\n",
       "  debt_settlement_flag_date settlement_status settlement_date  \\\n",
       "0                       NaN               NaN             NaN   \n",
       "1                       NaN               NaN             NaN   \n",
       "2                       NaN               NaN             NaN   \n",
       "3                       NaN               NaN             NaN   \n",
       "4                       NaN               NaN             NaN   \n",
       "\n",
       "  settlement_amount  settlement_percentage settlement_term  \n",
       "0               NaN                    NaN             NaN  \n",
       "1               NaN                    NaN             NaN  \n",
       "2               NaN                    NaN             NaN  \n",
       "3               NaN                    NaN             NaN  \n",
       "4               NaN                    NaN             NaN  \n",
       "\n",
       "[5 rows x 145 columns]"
      ]
     },
     "execution_count": 2,
     "metadata": {},
     "output_type": "execute_result"
    }
   ],
   "source": [
    "df = pd.read_csv(\"loan.csv\", dtype={'desc':object, 'next_pymnt_d':object, 'verification_status_joint':object, 'sec_app_earliest_cr_line':object, 'hardship_type':object, 'hardship_reason':object, 'hardship_status':object, 'hardship_start_date':object, 'hardship_end_date':object, 'payment_plan_start_date':object, 'hardship_loan_status':object, 'debt_settlement_flag_date':object, 'settlement_status':object, 'settlement_date':object})\n",
    "df.head(5)"
   ]
  },
  {
   "cell_type": "markdown",
   "metadata": {},
   "source": [
    "### Data Definition"
   ]
  },
  {
   "cell_type": "markdown",
   "metadata": {},
   "source": [
    "#### Check column names"
   ]
  },
  {
   "cell_type": "code",
   "execution_count": 3,
   "metadata": {},
   "outputs": [],
   "source": [
    "columns = df.columns"
   ]
  },
  {
   "cell_type": "code",
   "execution_count": 4,
   "metadata": {},
   "outputs": [
    {
     "data": {
      "text/plain": [
       "Index(['id', 'member_id', 'loan_amnt', 'funded_amnt', 'funded_amnt_inv',\n",
       "       'term', 'int_rate', 'installment', 'grade', 'sub_grade', 'emp_title',\n",
       "       'emp_length', 'home_ownership', 'annual_inc', 'verification_status',\n",
       "       'issue_d', 'loan_status', 'pymnt_plan', 'url', 'desc', 'purpose',\n",
       "       'title', 'zip_code', 'addr_state', 'dti', 'delinq_2yrs',\n",
       "       'earliest_cr_line', 'inq_last_6mths', 'mths_since_last_delinq',\n",
       "       'mths_since_last_record', 'open_acc', 'pub_rec', 'revol_bal',\n",
       "       'revol_util', 'total_acc', 'initial_list_status', 'out_prncp',\n",
       "       'out_prncp_inv', 'total_pymnt', 'total_pymnt_inv'],\n",
       "      dtype='object')"
      ]
     },
     "execution_count": 4,
     "metadata": {},
     "output_type": "execute_result"
    }
   ],
   "source": [
    "columns[:40]"
   ]
  },
  {
   "cell_type": "code",
   "execution_count": 5,
   "metadata": {},
   "outputs": [
    {
     "data": {
      "text/plain": [
       "Index(['total_rec_prncp', 'total_rec_int', 'total_rec_late_fee', 'recoveries',\n",
       "       'collection_recovery_fee', 'last_pymnt_d', 'last_pymnt_amnt',\n",
       "       'next_pymnt_d', 'last_credit_pull_d', 'collections_12_mths_ex_med',\n",
       "       'mths_since_last_major_derog', 'policy_code', 'application_type',\n",
       "       'annual_inc_joint', 'dti_joint', 'verification_status_joint',\n",
       "       'acc_now_delinq', 'tot_coll_amt', 'tot_cur_bal', 'open_acc_6m',\n",
       "       'open_act_il', 'open_il_12m', 'open_il_24m', 'mths_since_rcnt_il',\n",
       "       'total_bal_il', 'il_util', 'open_rv_12m', 'open_rv_24m', 'max_bal_bc',\n",
       "       'all_util', 'total_rev_hi_lim', 'inq_fi', 'total_cu_tl', 'inq_last_12m',\n",
       "       'acc_open_past_24mths', 'avg_cur_bal', 'bc_open_to_buy', 'bc_util',\n",
       "       'chargeoff_within_12_mths', 'delinq_amnt'],\n",
       "      dtype='object')"
      ]
     },
     "execution_count": 5,
     "metadata": {},
     "output_type": "execute_result"
    }
   ],
   "source": [
    "columns[40:80]"
   ]
  },
  {
   "cell_type": "code",
   "execution_count": 6,
   "metadata": {},
   "outputs": [
    {
     "data": {
      "text/plain": [
       "Index(['mo_sin_old_il_acct', 'mo_sin_old_rev_tl_op', 'mo_sin_rcnt_rev_tl_op',\n",
       "       'mo_sin_rcnt_tl', 'mort_acc', 'mths_since_recent_bc',\n",
       "       'mths_since_recent_bc_dlq', 'mths_since_recent_inq',\n",
       "       'mths_since_recent_revol_delinq', 'num_accts_ever_120_pd',\n",
       "       'num_actv_bc_tl', 'num_actv_rev_tl', 'num_bc_sats', 'num_bc_tl',\n",
       "       'num_il_tl', 'num_op_rev_tl', 'num_rev_accts', 'num_rev_tl_bal_gt_0',\n",
       "       'num_sats', 'num_tl_120dpd_2m', 'num_tl_30dpd', 'num_tl_90g_dpd_24m',\n",
       "       'num_tl_op_past_12m', 'pct_tl_nvr_dlq', 'percent_bc_gt_75',\n",
       "       'pub_rec_bankruptcies', 'tax_liens', 'tot_hi_cred_lim',\n",
       "       'total_bal_ex_mort', 'total_bc_limit', 'total_il_high_credit_limit',\n",
       "       'revol_bal_joint', 'sec_app_earliest_cr_line', 'sec_app_inq_last_6mths',\n",
       "       'sec_app_mort_acc', 'sec_app_open_acc', 'sec_app_revol_util',\n",
       "       'sec_app_open_act_il', 'sec_app_num_rev_accts',\n",
       "       'sec_app_chargeoff_within_12_mths'],\n",
       "      dtype='object')"
      ]
     },
     "execution_count": 6,
     "metadata": {},
     "output_type": "execute_result"
    }
   ],
   "source": [
    "columns[80:120]"
   ]
  },
  {
   "cell_type": "code",
   "execution_count": 7,
   "metadata": {},
   "outputs": [
    {
     "data": {
      "text/plain": [
       "Index(['sec_app_collections_12_mths_ex_med',\n",
       "       'sec_app_mths_since_last_major_derog', 'hardship_flag', 'hardship_type',\n",
       "       'hardship_reason', 'hardship_status', 'deferral_term',\n",
       "       'hardship_amount', 'hardship_start_date', 'hardship_end_date',\n",
       "       'payment_plan_start_date', 'hardship_length', 'hardship_dpd',\n",
       "       'hardship_loan_status', 'orig_projected_additional_accrued_interest',\n",
       "       'hardship_payoff_balance_amount', 'hardship_last_payment_amount',\n",
       "       'disbursement_method', 'debt_settlement_flag',\n",
       "       'debt_settlement_flag_date', 'settlement_status', 'settlement_date',\n",
       "       'settlement_amount', 'settlement_percentage', 'settlement_term'],\n",
       "      dtype='object')"
      ]
     },
     "execution_count": 7,
     "metadata": {},
     "output_type": "execute_result"
    }
   ],
   "source": [
    "columns[120:]"
   ]
  },
  {
   "cell_type": "markdown",
   "metadata": {},
   "source": [
    "All column names look good."
   ]
  },
  {
   "cell_type": "markdown",
   "metadata": {},
   "source": [
    "#### Data types"
   ]
  },
  {
   "cell_type": "code",
   "execution_count": 8,
   "metadata": {},
   "outputs": [
    {
     "name": "stdout",
     "output_type": "stream",
     "text": [
      "<class 'pandas.core.frame.DataFrame'>\n",
      "RangeIndex: 2260668 entries, 0 to 2260667\n",
      "Columns: 145 entries, id to settlement_term\n",
      "dtypes: float64(105), int64(4), object(36)\n",
      "memory usage: 2.4+ GB\n"
     ]
    }
   ],
   "source": [
    "df.info()"
   ]
  },
  {
   "cell_type": "code",
   "execution_count": 9,
   "metadata": {},
   "outputs": [
    {
     "data": {
      "text/plain": [
       "id                       float64\n",
       "member_id                float64\n",
       "loan_amnt                  int64\n",
       "funded_amnt                int64\n",
       "funded_amnt_inv          float64\n",
       "                          ...   \n",
       "settlement_status         object\n",
       "settlement_date           object\n",
       "settlement_amount        float64\n",
       "settlement_percentage    float64\n",
       "settlement_term          float64\n",
       "Length: 145, dtype: object"
      ]
     },
     "execution_count": 9,
     "metadata": {},
     "output_type": "execute_result"
    }
   ],
   "source": [
    "df.dtypes"
   ]
  },
  {
   "cell_type": "markdown",
   "metadata": {},
   "source": [
    "#### Data description"
   ]
  },
  {
   "cell_type": "markdown",
   "metadata": {},
   "source": [
    "Unique values, Percent of unique values"
   ]
  },
  {
   "cell_type": "code",
   "execution_count": 10,
   "metadata": {},
   "outputs": [
    {
     "data": {
      "text/plain": [
       "2260668"
      ]
     },
     "execution_count": 10,
     "metadata": {},
     "output_type": "execute_result"
    }
   ],
   "source": [
    "len(df)"
   ]
  },
  {
   "cell_type": "code",
   "execution_count": 11,
   "metadata": {},
   "outputs": [
    {
     "name": "stdout",
     "output_type": "stream",
     "text": [
      "Percentage of unique values for all numeric columns\n",
      "\n",
      "id 4.4234712925560056e-07\n",
      "member_id 4.4234712925560056e-07\n",
      "loan_amnt 0.0006953696871898041\n",
      "funded_amnt 0.0006953696871898041\n",
      "funded_amnt_inv 0.004448685078923575\n",
      "int_rate 0.0002976996179890192\n",
      "installment 0.04126921777103051\n",
      "annual_inc 0.03953212059444377\n",
      "url 4.4234712925560056e-07\n",
      "dti 0.004797696963906244\n",
      "delinq_2yrs 1.680919091171282e-05\n",
      "inq_last_6mths 1.2828066748412415e-05\n",
      "mths_since_last_delinq 7.69684004904745e-05\n",
      "mths_since_last_record 5.750512680322807e-05\n",
      "open_acc 4.069593589151525e-05\n",
      "pub_rec 1.9463273687246426e-05\n",
      "revol_bal 0.045230436313514415\n",
      "revol_util 0.0006329987419647644\n",
      "total_acc 6.767911077610689e-05\n",
      "out_prncp 0.1611908515536116\n",
      "out_prncp_inv 0.16692101626598863\n",
      "total_pymnt 0.7114145022621632\n",
      "total_pymnt_inv 0.5746482897975289\n",
      "total_rec_prncp 0.2156119341716696\n",
      "total_rec_int 0.27860570415470115\n",
      "total_rec_late_fee 0.00795826720243751\n",
      "recoveries 0.056585044774376425\n",
      "collection_recovery_fee 0.06212721195681984\n",
      "last_pymnt_amnt 0.30635192783725873\n",
      "collections_12_mths_ex_med 7.51990119734521e-06\n",
      "mths_since_last_major_derog 8.13918717830305e-05\n",
      "policy_code 4.4234712925560056e-07\n",
      "annual_inc_joint 0.00780034927729326\n",
      "dti_joint 0.0017777931124782586\n",
      "acc_now_delinq 4.423471292556006e-06\n",
      "tot_coll_amt 0.006889556538155979\n",
      "tot_cur_bal 0.2157278291195346\n",
      "open_acc_6m 8.846942585112011e-06\n",
      "open_act_il 2.4329092109058032e-05\n",
      "open_il_12m 8.846942585112011e-06\n",
      "open_il_24m 1.4155108136179218e-05\n",
      "mths_since_rcnt_il 0.00017959293447777382\n",
      "total_bal_il 0.0717708217217212\n",
      "il_util 0.00012429954332082377\n",
      "open_rv_12m 1.3270413877668016e-05\n",
      "open_rv_24m 2.255970359203563e-05\n",
      "max_bal_bc 0.01491904162840364\n",
      "all_util 8.36036074293085e-05\n",
      "total_rev_hi_lim 0.015137561110255906\n",
      "inq_fi 1.503980239469042e-05\n",
      "total_cu_tl 2.7867869143102835e-05\n",
      "inq_last_12m 2.1675009333524427e-05\n",
      "acc_open_past_24mths 2.565613349682483e-05\n",
      "avg_cur_bal 0.0391910709577877\n",
      "bc_open_to_buy 0.040475204674016704\n",
      "bc_util 0.0006613089582371228\n",
      "chargeoff_within_12_mths 5.3081655510672065e-06\n",
      "delinq_amnt 0.0011580647843911624\n",
      "mo_sin_old_il_acct 0.00025081082228792554\n",
      "mo_sin_old_rev_tl_op 0.00034856953785341325\n",
      "mo_sin_rcnt_rev_tl_op 0.0001477439411713706\n",
      "mo_sin_rcnt_tl 0.00010306688111655493\n",
      "mort_acc 2.1232662204268826e-05\n",
      "mths_since_recent_bc 0.0002419638797028135\n",
      "mths_since_recent_bc_dlq 7.87377890074969e-05\n",
      "mths_since_recent_inq 1.1943372489901215e-05\n",
      "mths_since_recent_revol_delinq 7.96224832660081e-05\n",
      "num_accts_ever_120_pd 1.9905620816502023e-05\n",
      "num_actv_bc_tl 1.9020926557990825e-05\n",
      "num_actv_rev_tl 2.565613349682483e-05\n",
      "num_bc_sats 2.6983174884591633e-05\n",
      "num_bc_tl 3.406072895268124e-05\n",
      "num_il_tl 5.440869689843887e-05\n",
      "num_op_rev_tl 3.627246459895925e-05\n",
      "num_rev_accts 5.219696125216086e-05\n",
      "num_rev_tl_bal_gt_0 2.255970359203563e-05\n",
      "num_sats 4.069593589151525e-05\n",
      "num_tl_120dpd_2m 3.5387770340448045e-06\n",
      "num_tl_30dpd 2.6540827755336032e-06\n",
      "num_tl_90g_dpd_24m 1.548214952394602e-05\n",
      "num_tl_op_past_12m 1.503980239469042e-05\n",
      "pct_tl_nvr_dlq 0.00030566186631562\n",
      "percent_bc_gt_75 0.00012606893183784616\n",
      "pub_rec_bankruptcies 5.750512680322807e-06\n",
      "tax_liens 1.9020926557990825e-05\n",
      "tot_hi_cred_lim 0.2344320351329784\n",
      "total_bal_ex_mort 0.09412173746874818\n",
      "total_bc_limit 0.008984070195181248\n",
      "total_il_high_credit_limit 0.08587638697942378\n",
      "revol_bal_joint 0.025158935323541538\n",
      "sec_app_inq_last_6mths 3.5387770340448045e-06\n",
      "sec_app_mort_acc 1.0616331102134413e-05\n",
      "sec_app_open_acc 3.007960478938084e-05\n",
      "sec_app_revol_util 0.0005383364563040659\n",
      "sec_app_open_act_il 1.8136232299479624e-05\n",
      "sec_app_num_rev_accts 3.848420024523725e-05\n",
      "sec_app_chargeoff_within_12_mths 1.0173983972878812e-05\n",
      "sec_app_collections_12_mths_ex_med 8.40459545585641e-06\n",
      "sec_app_mths_since_last_major_derog 6.237094522503968e-05\n",
      "deferral_term 8.846942585112011e-07\n",
      "hardship_amount 0.00395944915396688\n",
      "hardship_length 8.846942585112011e-07\n",
      "hardship_dpd 1.548214952394602e-05\n",
      "orig_projected_additional_accrued_interest 0.0032353269033754623\n",
      "hardship_payoff_balance_amount 0.004685340793075321\n",
      "hardship_last_payment_amount 0.0038908853489322626\n",
      "settlement_amount 0.009519310221580524\n",
      "settlement_percentage 0.0009050422264569588\n",
      "settlement_term 1.8136232299479624e-05\n"
     ]
    }
   ],
   "source": [
    "from pandas.api.types import is_numeric_dtype\n",
    "\n",
    "column_list = columns.values.tolist()\n",
    "df_len = len(df)\n",
    "print(\"Percentage of unique values for all numeric columns\\n\")\n",
    "for column_name in column_list:\n",
    "    if is_numeric_dtype(df[column_name]):\n",
    "        print(column_name, df[column_name].unique().size / df_len)"
   ]
  },
  {
   "cell_type": "markdown",
   "metadata": {},
   "source": [
    "Verified that \n",
    "id,member_id,url have only one unique value null.  \n",
    "policy_code has only one value 1.\n",
    "deferral_term, hardship_length have a lot of missing values."
   ]
  },
  {
   "cell_type": "markdown",
   "metadata": {},
   "source": [
    "Checking value_counts for 'total_pymnt', 'total_pymnt_inv', 'total_rec_prncp', 'total_rec_int', 'last_pymnt_amnt', 'tot_cur_bal', 'tot_hi_cred_lim'.  Percent of unique values in these numeric column > 0.2."
   ]
  },
  {
   "cell_type": "code",
   "execution_count": 12,
   "metadata": {},
   "outputs": [
    {
     "data": {
      "text/plain": [
       "0.000000        1008\n",
       "1215.490000      195\n",
       "1257.300000      176\n",
       "11258.436374     167\n",
       "1246.160000      158\n",
       "                ... \n",
       "14894.884647       1\n",
       "10406.139186       1\n",
       "21227.130000       1\n",
       "2128.678965        1\n",
       "15228.956199       1\n",
       "Name: total_pymnt, Length: 1608272, dtype: int64"
      ]
     },
     "execution_count": 12,
     "metadata": {},
     "output_type": "execute_result"
    }
   ],
   "source": [
    "df['total_pymnt'].value_counts(dropna=False)"
   ]
  },
  {
   "cell_type": "code",
   "execution_count": 13,
   "metadata": {},
   "outputs": [
    {
     "data": {
      "text/plain": [
       "0.00        1286\n",
       "11431.12     266\n",
       "11784.23     265\n",
       "11258.44     234\n",
       "11471.31     218\n",
       "            ... \n",
       "4886.31        1\n",
       "6199.97        1\n",
       "30880.54       1\n",
       "42733.27       1\n",
       "11658.44       1\n",
       "Name: total_pymnt_inv, Length: 1299089, dtype: int64"
      ]
     },
     "execution_count": 13,
     "metadata": {},
     "output_type": "execute_result"
    }
   ],
   "source": [
    "df['total_pymnt_inv'].value_counts(dropna=False)"
   ]
  },
  {
   "cell_type": "code",
   "execution_count": 14,
   "metadata": {},
   "outputs": [
    {
     "data": {
      "text/plain": [
       "10000.00    78590\n",
       "12000.00    57687\n",
       "15000.00    54801\n",
       "20000.00    53752\n",
       "5000.00     39524\n",
       "            ...  \n",
       "6820.25         1\n",
       "7233.53         1\n",
       "14953.95        1\n",
       "2665.43         1\n",
       "16168.43        1\n",
       "Name: total_rec_prncp, Length: 487427, dtype: int64"
      ]
     },
     "execution_count": 14,
     "metadata": {},
     "output_type": "execute_result"
    }
   ],
   "source": [
    "df['total_rec_prncp'].value_counts(dropna=False)"
   ]
  },
  {
   "cell_type": "code",
   "execution_count": 15,
   "metadata": {},
   "outputs": [
    {
     "data": {
      "text/plain": [
       "0.00        2657\n",
       "1431.12      316\n",
       "1784.23      310\n",
       "1955.40      246\n",
       "956.78       245\n",
       "            ... \n",
       "11894.31       1\n",
       "9150.00        1\n",
       "9150.25        1\n",
       "4353.91        1\n",
       "15609.32       1\n",
       "Name: total_rec_int, Length: 629835, dtype: int64"
      ]
     },
     "execution_count": 15,
     "metadata": {},
     "output_type": "execute_result"
    }
   ],
   "source": [
    "df['total_rec_int'].value_counts(dropna=False)"
   ]
  },
  {
   "cell_type": "code",
   "execution_count": 16,
   "metadata": {},
   "outputs": [
    {
     "data": {
      "text/plain": [
       "50.00       3082\n",
       "0.00        2876\n",
       "100.00      2061\n",
       "301.15      1967\n",
       "332.10      1911\n",
       "            ... \n",
       "15769.68       1\n",
       "1328.35        1\n",
       "1343.65        1\n",
       "16441.58       1\n",
       "16103.18       1\n",
       "Name: last_pymnt_amnt, Length: 692560, dtype: int64"
      ]
     },
     "execution_count": 16,
     "metadata": {},
     "output_type": "execute_result"
    }
   ],
   "source": [
    "df['last_pymnt_amnt'].value_counts(dropna=False)"
   ]
  },
  {
   "cell_type": "code",
   "execution_count": 17,
   "metadata": {},
   "outputs": [
    {
     "data": {
      "text/plain": [
       "NaN         70276\n",
       "0.0           959\n",
       "14186.0        41\n",
       "23772.0        39\n",
       "20275.0        39\n",
       "            ...  \n",
       "667152.0        1\n",
       "438541.0        1\n",
       "438542.0        1\n",
       "244760.0        1\n",
       "548896.0        1\n",
       "Name: tot_cur_bal, Length: 487689, dtype: int64"
      ]
     },
     "execution_count": 17,
     "metadata": {},
     "output_type": "execute_result"
    }
   ],
   "source": [
    "df['tot_cur_bal'].value_counts(dropna=False)"
   ]
  },
  {
   "cell_type": "code",
   "execution_count": 18,
   "metadata": {},
   "outputs": [
    {
     "data": {
      "text/plain": [
       "NaN         70276\n",
       "12500.0       716\n",
       "15000.0       712\n",
       "15500.0       697\n",
       "19000.0       696\n",
       "            ...  \n",
       "455948.0        1\n",
       "455953.0        1\n",
       "455958.0        1\n",
       "455964.0        1\n",
       "426543.0        1\n",
       "Name: tot_hi_cred_lim, Length: 529973, dtype: int64"
      ]
     },
     "execution_count": 18,
     "metadata": {},
     "output_type": "execute_result"
    }
   ],
   "source": [
    "df['tot_hi_cred_lim'].value_counts(dropna=False)"
   ]
  },
  {
   "cell_type": "code",
   "execution_count": 19,
   "metadata": {},
   "outputs": [
    {
     "data": {
      "text/plain": [
       "NaN    2250055\n",
       "3.0      10613\n",
       "Name: deferral_term, dtype: int64"
      ]
     },
     "execution_count": 19,
     "metadata": {},
     "output_type": "execute_result"
    }
   ],
   "source": [
    "df['deferral_term'].value_counts(dropna=False)"
   ]
  },
  {
   "cell_type": "code",
   "execution_count": 20,
   "metadata": {},
   "outputs": [
    {
     "data": {
      "text/plain": [
       "NaN    2250055\n",
       "3.0      10613\n",
       "Name: hardship_length, dtype: int64"
      ]
     },
     "execution_count": 20,
     "metadata": {},
     "output_type": "execute_result"
    }
   ],
   "source": [
    "df['hardship_length'].value_counts(dropna=False)"
   ]
  },
  {
   "cell_type": "markdown",
   "metadata": {},
   "source": [
    "Describe data."
   ]
  },
  {
   "cell_type": "markdown",
   "metadata": {},
   "source": [
    "Check for data validity."
   ]
  },
  {
   "cell_type": "code",
   "execution_count": 21,
   "metadata": {},
   "outputs": [],
   "source": [
    "data_desc = df.describe()"
   ]
  },
  {
   "cell_type": "markdown",
   "metadata": {},
   "source": [
    "The description includes all float64 and int64 data.\n",
    "Dropping id, member_id columns."
   ]
  },
  {
   "cell_type": "code",
   "execution_count": 22,
   "metadata": {},
   "outputs": [],
   "source": [
    "data_desc.drop(['id','member_id'], axis=1, inplace=True)"
   ]
  },
  {
   "cell_type": "code",
   "execution_count": 23,
   "metadata": {},
   "outputs": [],
   "source": [
    "data_desc = data_desc.T"
   ]
  },
  {
   "cell_type": "code",
   "execution_count": 24,
   "metadata": {},
   "outputs": [
    {
     "data": {
      "text/html": [
       "<div>\n",
       "<style scoped>\n",
       "    .dataframe tbody tr th:only-of-type {\n",
       "        vertical-align: middle;\n",
       "    }\n",
       "\n",
       "    .dataframe tbody tr th {\n",
       "        vertical-align: top;\n",
       "    }\n",
       "\n",
       "    .dataframe thead th {\n",
       "        text-align: right;\n",
       "    }\n",
       "</style>\n",
       "<table border=\"1\" class=\"dataframe\">\n",
       "  <thead>\n",
       "    <tr style=\"text-align: right;\">\n",
       "      <th></th>\n",
       "      <th>count</th>\n",
       "      <th>mean</th>\n",
       "      <th>std</th>\n",
       "      <th>min</th>\n",
       "      <th>25%</th>\n",
       "      <th>50%</th>\n",
       "      <th>75%</th>\n",
       "      <th>max</th>\n",
       "    </tr>\n",
       "  </thead>\n",
       "  <tbody>\n",
       "    <tr>\n",
       "      <th>loan_amnt</th>\n",
       "      <td>2260668.0</td>\n",
       "      <td>15046.931228</td>\n",
       "      <td>9190.245488</td>\n",
       "      <td>500.00</td>\n",
       "      <td>8000.00</td>\n",
       "      <td>12900.000</td>\n",
       "      <td>20000.0000</td>\n",
       "      <td>40000.00</td>\n",
       "    </tr>\n",
       "    <tr>\n",
       "      <th>funded_amnt</th>\n",
       "      <td>2260668.0</td>\n",
       "      <td>15041.664057</td>\n",
       "      <td>9188.413022</td>\n",
       "      <td>500.00</td>\n",
       "      <td>8000.00</td>\n",
       "      <td>12875.000</td>\n",
       "      <td>20000.0000</td>\n",
       "      <td>40000.00</td>\n",
       "    </tr>\n",
       "    <tr>\n",
       "      <th>funded_amnt_inv</th>\n",
       "      <td>2260668.0</td>\n",
       "      <td>15023.437624</td>\n",
       "      <td>9192.331807</td>\n",
       "      <td>0.00</td>\n",
       "      <td>8000.00</td>\n",
       "      <td>12800.000</td>\n",
       "      <td>20000.0000</td>\n",
       "      <td>40000.00</td>\n",
       "    </tr>\n",
       "    <tr>\n",
       "      <th>int_rate</th>\n",
       "      <td>2260668.0</td>\n",
       "      <td>13.092913</td>\n",
       "      <td>4.832114</td>\n",
       "      <td>5.31</td>\n",
       "      <td>9.49</td>\n",
       "      <td>12.620</td>\n",
       "      <td>15.9900</td>\n",
       "      <td>30.99</td>\n",
       "    </tr>\n",
       "    <tr>\n",
       "      <th>installment</th>\n",
       "      <td>2260668.0</td>\n",
       "      <td>445.807646</td>\n",
       "      <td>267.173725</td>\n",
       "      <td>4.93</td>\n",
       "      <td>251.65</td>\n",
       "      <td>377.990</td>\n",
       "      <td>593.3200</td>\n",
       "      <td>1719.83</td>\n",
       "    </tr>\n",
       "    <tr>\n",
       "      <th>...</th>\n",
       "      <td>...</td>\n",
       "      <td>...</td>\n",
       "      <td>...</td>\n",
       "      <td>...</td>\n",
       "      <td>...</td>\n",
       "      <td>...</td>\n",
       "      <td>...</td>\n",
       "      <td>...</td>\n",
       "    </tr>\n",
       "    <tr>\n",
       "      <th>hardship_payoff_balance_amount</th>\n",
       "      <td>10613.0</td>\n",
       "      <td>11628.036442</td>\n",
       "      <td>7615.161123</td>\n",
       "      <td>55.73</td>\n",
       "      <td>5628.73</td>\n",
       "      <td>10044.220</td>\n",
       "      <td>16114.9400</td>\n",
       "      <td>40306.41</td>\n",
       "    </tr>\n",
       "    <tr>\n",
       "      <th>hardship_last_payment_amount</th>\n",
       "      <td>10613.0</td>\n",
       "      <td>193.606331</td>\n",
       "      <td>198.694368</td>\n",
       "      <td>0.01</td>\n",
       "      <td>43.78</td>\n",
       "      <td>132.890</td>\n",
       "      <td>284.1800</td>\n",
       "      <td>1407.86</td>\n",
       "    </tr>\n",
       "    <tr>\n",
       "      <th>settlement_amount</th>\n",
       "      <td>33056.0</td>\n",
       "      <td>5030.606922</td>\n",
       "      <td>3692.027842</td>\n",
       "      <td>44.21</td>\n",
       "      <td>2227.00</td>\n",
       "      <td>4172.855</td>\n",
       "      <td>6870.7825</td>\n",
       "      <td>33601.00</td>\n",
       "    </tr>\n",
       "    <tr>\n",
       "      <th>settlement_percentage</th>\n",
       "      <td>33056.0</td>\n",
       "      <td>47.775600</td>\n",
       "      <td>7.336379</td>\n",
       "      <td>0.20</td>\n",
       "      <td>45.00</td>\n",
       "      <td>45.000</td>\n",
       "      <td>50.0000</td>\n",
       "      <td>521.35</td>\n",
       "    </tr>\n",
       "    <tr>\n",
       "      <th>settlement_term</th>\n",
       "      <td>33056.0</td>\n",
       "      <td>13.148596</td>\n",
       "      <td>8.192319</td>\n",
       "      <td>0.00</td>\n",
       "      <td>6.00</td>\n",
       "      <td>14.000</td>\n",
       "      <td>18.0000</td>\n",
       "      <td>181.00</td>\n",
       "    </tr>\n",
       "  </tbody>\n",
       "</table>\n",
       "<p>107 rows × 8 columns</p>\n",
       "</div>"
      ],
      "text/plain": [
       "                                    count          mean          std     min  \\\n",
       "loan_amnt                       2260668.0  15046.931228  9190.245488  500.00   \n",
       "funded_amnt                     2260668.0  15041.664057  9188.413022  500.00   \n",
       "funded_amnt_inv                 2260668.0  15023.437624  9192.331807    0.00   \n",
       "int_rate                        2260668.0     13.092913     4.832114    5.31   \n",
       "installment                     2260668.0    445.807646   267.173725    4.93   \n",
       "...                                   ...           ...          ...     ...   \n",
       "hardship_payoff_balance_amount    10613.0  11628.036442  7615.161123   55.73   \n",
       "hardship_last_payment_amount      10613.0    193.606331   198.694368    0.01   \n",
       "settlement_amount                 33056.0   5030.606922  3692.027842   44.21   \n",
       "settlement_percentage             33056.0     47.775600     7.336379    0.20   \n",
       "settlement_term                   33056.0     13.148596     8.192319    0.00   \n",
       "\n",
       "                                    25%        50%         75%       max  \n",
       "loan_amnt                       8000.00  12900.000  20000.0000  40000.00  \n",
       "funded_amnt                     8000.00  12875.000  20000.0000  40000.00  \n",
       "funded_amnt_inv                 8000.00  12800.000  20000.0000  40000.00  \n",
       "int_rate                           9.49     12.620     15.9900     30.99  \n",
       "installment                      251.65    377.990    593.3200   1719.83  \n",
       "...                                 ...        ...         ...       ...  \n",
       "hardship_payoff_balance_amount  5628.73  10044.220  16114.9400  40306.41  \n",
       "hardship_last_payment_amount      43.78    132.890    284.1800   1407.86  \n",
       "settlement_amount               2227.00   4172.855   6870.7825  33601.00  \n",
       "settlement_percentage             45.00     45.000     50.0000    521.35  \n",
       "settlement_term                    6.00     14.000     18.0000    181.00  \n",
       "\n",
       "[107 rows x 8 columns]"
      ]
     },
     "execution_count": 24,
     "metadata": {},
     "output_type": "execute_result"
    }
   ],
   "source": [
    "data_desc"
   ]
  },
  {
   "cell_type": "markdown",
   "metadata": {},
   "source": [
    "Calculate range."
   ]
  },
  {
   "cell_type": "code",
   "execution_count": 25,
   "metadata": {},
   "outputs": [
    {
     "data": {
      "text/html": [
       "<div>\n",
       "<style scoped>\n",
       "    .dataframe tbody tr th:only-of-type {\n",
       "        vertical-align: middle;\n",
       "    }\n",
       "\n",
       "    .dataframe tbody tr th {\n",
       "        vertical-align: top;\n",
       "    }\n",
       "\n",
       "    .dataframe thead th {\n",
       "        text-align: right;\n",
       "    }\n",
       "</style>\n",
       "<table border=\"1\" class=\"dataframe\">\n",
       "  <thead>\n",
       "    <tr style=\"text-align: right;\">\n",
       "      <th></th>\n",
       "      <th>count</th>\n",
       "      <th>mean</th>\n",
       "      <th>std</th>\n",
       "      <th>min</th>\n",
       "      <th>25%</th>\n",
       "      <th>50%</th>\n",
       "      <th>75%</th>\n",
       "      <th>max</th>\n",
       "      <th>range</th>\n",
       "    </tr>\n",
       "  </thead>\n",
       "  <tbody>\n",
       "    <tr>\n",
       "      <th>loan_amnt</th>\n",
       "      <td>2260668.0</td>\n",
       "      <td>15046.931228</td>\n",
       "      <td>9190.245488</td>\n",
       "      <td>500.00</td>\n",
       "      <td>8000.00</td>\n",
       "      <td>12900.000</td>\n",
       "      <td>20000.0000</td>\n",
       "      <td>40000.00</td>\n",
       "      <td>39500.00</td>\n",
       "    </tr>\n",
       "    <tr>\n",
       "      <th>funded_amnt</th>\n",
       "      <td>2260668.0</td>\n",
       "      <td>15041.664057</td>\n",
       "      <td>9188.413022</td>\n",
       "      <td>500.00</td>\n",
       "      <td>8000.00</td>\n",
       "      <td>12875.000</td>\n",
       "      <td>20000.0000</td>\n",
       "      <td>40000.00</td>\n",
       "      <td>39500.00</td>\n",
       "    </tr>\n",
       "    <tr>\n",
       "      <th>funded_amnt_inv</th>\n",
       "      <td>2260668.0</td>\n",
       "      <td>15023.437624</td>\n",
       "      <td>9192.331807</td>\n",
       "      <td>0.00</td>\n",
       "      <td>8000.00</td>\n",
       "      <td>12800.000</td>\n",
       "      <td>20000.0000</td>\n",
       "      <td>40000.00</td>\n",
       "      <td>40000.00</td>\n",
       "    </tr>\n",
       "    <tr>\n",
       "      <th>int_rate</th>\n",
       "      <td>2260668.0</td>\n",
       "      <td>13.092913</td>\n",
       "      <td>4.832114</td>\n",
       "      <td>5.31</td>\n",
       "      <td>9.49</td>\n",
       "      <td>12.620</td>\n",
       "      <td>15.9900</td>\n",
       "      <td>30.99</td>\n",
       "      <td>25.68</td>\n",
       "    </tr>\n",
       "    <tr>\n",
       "      <th>installment</th>\n",
       "      <td>2260668.0</td>\n",
       "      <td>445.807646</td>\n",
       "      <td>267.173725</td>\n",
       "      <td>4.93</td>\n",
       "      <td>251.65</td>\n",
       "      <td>377.990</td>\n",
       "      <td>593.3200</td>\n",
       "      <td>1719.83</td>\n",
       "      <td>1714.90</td>\n",
       "    </tr>\n",
       "    <tr>\n",
       "      <th>...</th>\n",
       "      <td>...</td>\n",
       "      <td>...</td>\n",
       "      <td>...</td>\n",
       "      <td>...</td>\n",
       "      <td>...</td>\n",
       "      <td>...</td>\n",
       "      <td>...</td>\n",
       "      <td>...</td>\n",
       "      <td>...</td>\n",
       "    </tr>\n",
       "    <tr>\n",
       "      <th>hardship_payoff_balance_amount</th>\n",
       "      <td>10613.0</td>\n",
       "      <td>11628.036442</td>\n",
       "      <td>7615.161123</td>\n",
       "      <td>55.73</td>\n",
       "      <td>5628.73</td>\n",
       "      <td>10044.220</td>\n",
       "      <td>16114.9400</td>\n",
       "      <td>40306.41</td>\n",
       "      <td>40250.68</td>\n",
       "    </tr>\n",
       "    <tr>\n",
       "      <th>hardship_last_payment_amount</th>\n",
       "      <td>10613.0</td>\n",
       "      <td>193.606331</td>\n",
       "      <td>198.694368</td>\n",
       "      <td>0.01</td>\n",
       "      <td>43.78</td>\n",
       "      <td>132.890</td>\n",
       "      <td>284.1800</td>\n",
       "      <td>1407.86</td>\n",
       "      <td>1407.85</td>\n",
       "    </tr>\n",
       "    <tr>\n",
       "      <th>settlement_amount</th>\n",
       "      <td>33056.0</td>\n",
       "      <td>5030.606922</td>\n",
       "      <td>3692.027842</td>\n",
       "      <td>44.21</td>\n",
       "      <td>2227.00</td>\n",
       "      <td>4172.855</td>\n",
       "      <td>6870.7825</td>\n",
       "      <td>33601.00</td>\n",
       "      <td>33556.79</td>\n",
       "    </tr>\n",
       "    <tr>\n",
       "      <th>settlement_percentage</th>\n",
       "      <td>33056.0</td>\n",
       "      <td>47.775600</td>\n",
       "      <td>7.336379</td>\n",
       "      <td>0.20</td>\n",
       "      <td>45.00</td>\n",
       "      <td>45.000</td>\n",
       "      <td>50.0000</td>\n",
       "      <td>521.35</td>\n",
       "      <td>521.15</td>\n",
       "    </tr>\n",
       "    <tr>\n",
       "      <th>settlement_term</th>\n",
       "      <td>33056.0</td>\n",
       "      <td>13.148596</td>\n",
       "      <td>8.192319</td>\n",
       "      <td>0.00</td>\n",
       "      <td>6.00</td>\n",
       "      <td>14.000</td>\n",
       "      <td>18.0000</td>\n",
       "      <td>181.00</td>\n",
       "      <td>181.00</td>\n",
       "    </tr>\n",
       "  </tbody>\n",
       "</table>\n",
       "<p>107 rows × 9 columns</p>\n",
       "</div>"
      ],
      "text/plain": [
       "                                    count          mean          std     min  \\\n",
       "loan_amnt                       2260668.0  15046.931228  9190.245488  500.00   \n",
       "funded_amnt                     2260668.0  15041.664057  9188.413022  500.00   \n",
       "funded_amnt_inv                 2260668.0  15023.437624  9192.331807    0.00   \n",
       "int_rate                        2260668.0     13.092913     4.832114    5.31   \n",
       "installment                     2260668.0    445.807646   267.173725    4.93   \n",
       "...                                   ...           ...          ...     ...   \n",
       "hardship_payoff_balance_amount    10613.0  11628.036442  7615.161123   55.73   \n",
       "hardship_last_payment_amount      10613.0    193.606331   198.694368    0.01   \n",
       "settlement_amount                 33056.0   5030.606922  3692.027842   44.21   \n",
       "settlement_percentage             33056.0     47.775600     7.336379    0.20   \n",
       "settlement_term                   33056.0     13.148596     8.192319    0.00   \n",
       "\n",
       "                                    25%        50%         75%       max  \\\n",
       "loan_amnt                       8000.00  12900.000  20000.0000  40000.00   \n",
       "funded_amnt                     8000.00  12875.000  20000.0000  40000.00   \n",
       "funded_amnt_inv                 8000.00  12800.000  20000.0000  40000.00   \n",
       "int_rate                           9.49     12.620     15.9900     30.99   \n",
       "installment                      251.65    377.990    593.3200   1719.83   \n",
       "...                                 ...        ...         ...       ...   \n",
       "hardship_payoff_balance_amount  5628.73  10044.220  16114.9400  40306.41   \n",
       "hardship_last_payment_amount      43.78    132.890    284.1800   1407.86   \n",
       "settlement_amount               2227.00   4172.855   6870.7825  33601.00   \n",
       "settlement_percentage             45.00     45.000     50.0000    521.35   \n",
       "settlement_term                    6.00     14.000     18.0000    181.00   \n",
       "\n",
       "                                   range  \n",
       "loan_amnt                       39500.00  \n",
       "funded_amnt                     39500.00  \n",
       "funded_amnt_inv                 40000.00  \n",
       "int_rate                           25.68  \n",
       "installment                      1714.90  \n",
       "...                                  ...  \n",
       "hardship_payoff_balance_amount  40250.68  \n",
       "hardship_last_payment_amount     1407.85  \n",
       "settlement_amount               33556.79  \n",
       "settlement_percentage             521.15  \n",
       "settlement_term                   181.00  \n",
       "\n",
       "[107 rows x 9 columns]"
      ]
     },
     "execution_count": 25,
     "metadata": {},
     "output_type": "execute_result"
    }
   ],
   "source": [
    "data_desc['range'] = data_desc['max'] - data_desc['min']\n",
    "data_desc"
   ]
  },
  {
   "cell_type": "markdown",
   "metadata": {},
   "source": [
    "### Data Cleaning"
   ]
  },
  {
   "cell_type": "code",
   "execution_count": 26,
   "metadata": {},
   "outputs": [
    {
     "data": {
      "text/plain": [
       "\"\\nDropping the following columns\\n'id' - Has all null values\\n'member_id' - Has all null values\\n'url' - Has all null values\\n'policy_code' - Has only one value '1' for all observations\\n'desc' - Text descriptions\\n'emp_title' - Title of employee\\n'emp_length' - Employment length\\n'disbursement method' - Cash or Card\\n'purpose' - Text describing purpose of loan\\n'earliest_cr_line' - The month the borrower's earliest credit line was opened\\n'total_rec_late_fee'\\n'collection_recovery_fee'\\n'mths_since_rcnt_il'\\n'open_il_12m'\\n'open_il_24m'\\n'open_rv_12m'\\n'open_rv_24m'\\n'total_cu_tl'\\n'acc_open_past_24mths'\\n'bc_open_to_buy'\\n'mo_sin_old_il_acct'\\n'mo_sin_old_rev_tl_op'\\n'mo_sin_rcnt_rev_tl_op'\\n'mo_sin_rcnt_tl'\\n'mths_since_recent_bc'\\n'num_actv_bc_tl'\\n'num_actv_rev_tl'\\n'num_bc_sats'\\n'num_bc_tl'\\n'num_il_tl'\\n'num_op_rev_tl'\\n'num_rev_accts'\\n'num_rev_tl_bal_gt_0'\\n'num_sats'\\n'num_tl_op_past_12m'\\n'open_acc'\\n'total_acc'\\n'mort_acc'\\n'issue_d'\\n\""
      ]
     },
     "execution_count": 26,
     "metadata": {},
     "output_type": "execute_result"
    }
   ],
   "source": [
    "\"\"\"\n",
    "Dropping the following columns\n",
    "'id' - Has all null values\n",
    "'member_id' - Has all null values\n",
    "'url' - Has all null values\n",
    "'policy_code' - Has only one value '1' for all observations\n",
    "'desc' - Text descriptions\n",
    "'emp_title' - Title of employee\n",
    "'emp_length' - Employment length\n",
    "'disbursement method' - Cash or Card\n",
    "'purpose' - Text describing purpose of loan\n",
    "'earliest_cr_line' - The month the borrower's earliest credit line was opened\n",
    "'total_rec_late_fee'\n",
    "'collection_recovery_fee'\n",
    "'mths_since_rcnt_il'\n",
    "'open_il_12m'\n",
    "'open_il_24m'\n",
    "'open_rv_12m'\n",
    "'open_rv_24m'\n",
    "'total_cu_tl'\n",
    "'acc_open_past_24mths'\n",
    "'bc_open_to_buy'\n",
    "'mo_sin_old_il_acct'\n",
    "'mo_sin_old_rev_tl_op'\n",
    "'mo_sin_rcnt_rev_tl_op'\n",
    "'mo_sin_rcnt_tl'\n",
    "'mths_since_recent_bc'\n",
    "'num_actv_bc_tl'\n",
    "'num_actv_rev_tl'\n",
    "'num_bc_sats'\n",
    "'num_bc_tl'\n",
    "'num_il_tl'\n",
    "'num_op_rev_tl'\n",
    "'num_rev_accts'\n",
    "'num_rev_tl_bal_gt_0'\n",
    "'num_sats'\n",
    "'num_tl_op_past_12m'\n",
    "'open_acc'\n",
    "'total_acc'\n",
    "'mort_acc'\n",
    "'issue_d'\n",
    "\"\"\""
   ]
  },
  {
   "cell_type": "code",
   "execution_count": 27,
   "metadata": {},
   "outputs": [],
   "source": [
    "df.drop(['id','member_id','url','policy_code','desc','emp_title','emp_length','disbursement_method','purpose','earliest_cr_line','total_rec_late_fee','collection_recovery_fee','mths_since_rcnt_il','open_il_12m','open_il_24m','open_rv_12m','open_rv_24m','total_cu_tl','acc_open_past_24mths','bc_open_to_buy','mo_sin_old_il_acct','mo_sin_old_rev_tl_op','mo_sin_rcnt_rev_tl_op','mo_sin_rcnt_tl','mths_since_recent_bc','num_actv_bc_tl','num_actv_rev_tl','num_bc_sats','num_bc_tl','num_il_tl','num_op_rev_tl','num_rev_accts','num_rev_tl_bal_gt_0','num_sats','num_tl_op_past_12m','open_acc','total_acc','mort_acc','issue_d'], axis=1, inplace=True)"
   ]
  },
  {
   "cell_type": "code",
   "execution_count": 28,
   "metadata": {},
   "outputs": [
    {
     "data": {
      "text/html": [
       "<div>\n",
       "<style scoped>\n",
       "    .dataframe tbody tr th:only-of-type {\n",
       "        vertical-align: middle;\n",
       "    }\n",
       "\n",
       "    .dataframe tbody tr th {\n",
       "        vertical-align: top;\n",
       "    }\n",
       "\n",
       "    .dataframe thead th {\n",
       "        text-align: right;\n",
       "    }\n",
       "</style>\n",
       "<table border=\"1\" class=\"dataframe\">\n",
       "  <thead>\n",
       "    <tr style=\"text-align: right;\">\n",
       "      <th></th>\n",
       "      <th>loan_amnt</th>\n",
       "      <th>funded_amnt</th>\n",
       "      <th>funded_amnt_inv</th>\n",
       "      <th>term</th>\n",
       "      <th>int_rate</th>\n",
       "      <th>installment</th>\n",
       "      <th>grade</th>\n",
       "      <th>sub_grade</th>\n",
       "      <th>home_ownership</th>\n",
       "      <th>annual_inc</th>\n",
       "      <th>...</th>\n",
       "      <th>orig_projected_additional_accrued_interest</th>\n",
       "      <th>hardship_payoff_balance_amount</th>\n",
       "      <th>hardship_last_payment_amount</th>\n",
       "      <th>debt_settlement_flag</th>\n",
       "      <th>debt_settlement_flag_date</th>\n",
       "      <th>settlement_status</th>\n",
       "      <th>settlement_date</th>\n",
       "      <th>settlement_amount</th>\n",
       "      <th>settlement_percentage</th>\n",
       "      <th>settlement_term</th>\n",
       "    </tr>\n",
       "  </thead>\n",
       "  <tbody>\n",
       "    <tr>\n",
       "      <th>0</th>\n",
       "      <td>2500</td>\n",
       "      <td>2500</td>\n",
       "      <td>2500.0</td>\n",
       "      <td>36 months</td>\n",
       "      <td>13.56</td>\n",
       "      <td>84.92</td>\n",
       "      <td>C</td>\n",
       "      <td>C1</td>\n",
       "      <td>RENT</td>\n",
       "      <td>55000.0</td>\n",
       "      <td>...</td>\n",
       "      <td>NaN</td>\n",
       "      <td>NaN</td>\n",
       "      <td>NaN</td>\n",
       "      <td>N</td>\n",
       "      <td>NaN</td>\n",
       "      <td>NaN</td>\n",
       "      <td>NaN</td>\n",
       "      <td>NaN</td>\n",
       "      <td>NaN</td>\n",
       "      <td>NaN</td>\n",
       "    </tr>\n",
       "    <tr>\n",
       "      <th>1</th>\n",
       "      <td>30000</td>\n",
       "      <td>30000</td>\n",
       "      <td>30000.0</td>\n",
       "      <td>60 months</td>\n",
       "      <td>18.94</td>\n",
       "      <td>777.23</td>\n",
       "      <td>D</td>\n",
       "      <td>D2</td>\n",
       "      <td>MORTGAGE</td>\n",
       "      <td>90000.0</td>\n",
       "      <td>...</td>\n",
       "      <td>NaN</td>\n",
       "      <td>NaN</td>\n",
       "      <td>NaN</td>\n",
       "      <td>N</td>\n",
       "      <td>NaN</td>\n",
       "      <td>NaN</td>\n",
       "      <td>NaN</td>\n",
       "      <td>NaN</td>\n",
       "      <td>NaN</td>\n",
       "      <td>NaN</td>\n",
       "    </tr>\n",
       "    <tr>\n",
       "      <th>2</th>\n",
       "      <td>5000</td>\n",
       "      <td>5000</td>\n",
       "      <td>5000.0</td>\n",
       "      <td>36 months</td>\n",
       "      <td>17.97</td>\n",
       "      <td>180.69</td>\n",
       "      <td>D</td>\n",
       "      <td>D1</td>\n",
       "      <td>MORTGAGE</td>\n",
       "      <td>59280.0</td>\n",
       "      <td>...</td>\n",
       "      <td>NaN</td>\n",
       "      <td>NaN</td>\n",
       "      <td>NaN</td>\n",
       "      <td>N</td>\n",
       "      <td>NaN</td>\n",
       "      <td>NaN</td>\n",
       "      <td>NaN</td>\n",
       "      <td>NaN</td>\n",
       "      <td>NaN</td>\n",
       "      <td>NaN</td>\n",
       "    </tr>\n",
       "    <tr>\n",
       "      <th>3</th>\n",
       "      <td>4000</td>\n",
       "      <td>4000</td>\n",
       "      <td>4000.0</td>\n",
       "      <td>36 months</td>\n",
       "      <td>18.94</td>\n",
       "      <td>146.51</td>\n",
       "      <td>D</td>\n",
       "      <td>D2</td>\n",
       "      <td>MORTGAGE</td>\n",
       "      <td>92000.0</td>\n",
       "      <td>...</td>\n",
       "      <td>NaN</td>\n",
       "      <td>NaN</td>\n",
       "      <td>NaN</td>\n",
       "      <td>N</td>\n",
       "      <td>NaN</td>\n",
       "      <td>NaN</td>\n",
       "      <td>NaN</td>\n",
       "      <td>NaN</td>\n",
       "      <td>NaN</td>\n",
       "      <td>NaN</td>\n",
       "    </tr>\n",
       "    <tr>\n",
       "      <th>4</th>\n",
       "      <td>30000</td>\n",
       "      <td>30000</td>\n",
       "      <td>30000.0</td>\n",
       "      <td>60 months</td>\n",
       "      <td>16.14</td>\n",
       "      <td>731.78</td>\n",
       "      <td>C</td>\n",
       "      <td>C4</td>\n",
       "      <td>MORTGAGE</td>\n",
       "      <td>57250.0</td>\n",
       "      <td>...</td>\n",
       "      <td>NaN</td>\n",
       "      <td>NaN</td>\n",
       "      <td>NaN</td>\n",
       "      <td>N</td>\n",
       "      <td>NaN</td>\n",
       "      <td>NaN</td>\n",
       "      <td>NaN</td>\n",
       "      <td>NaN</td>\n",
       "      <td>NaN</td>\n",
       "      <td>NaN</td>\n",
       "    </tr>\n",
       "  </tbody>\n",
       "</table>\n",
       "<p>5 rows × 106 columns</p>\n",
       "</div>"
      ],
      "text/plain": [
       "   loan_amnt  funded_amnt  funded_amnt_inv        term  int_rate  installment  \\\n",
       "0       2500         2500           2500.0   36 months     13.56        84.92   \n",
       "1      30000        30000          30000.0   60 months     18.94       777.23   \n",
       "2       5000         5000           5000.0   36 months     17.97       180.69   \n",
       "3       4000         4000           4000.0   36 months     18.94       146.51   \n",
       "4      30000        30000          30000.0   60 months     16.14       731.78   \n",
       "\n",
       "  grade sub_grade home_ownership  annual_inc  ...  \\\n",
       "0     C        C1           RENT     55000.0  ...   \n",
       "1     D        D2       MORTGAGE     90000.0  ...   \n",
       "2     D        D1       MORTGAGE     59280.0  ...   \n",
       "3     D        D2       MORTGAGE     92000.0  ...   \n",
       "4     C        C4       MORTGAGE     57250.0  ...   \n",
       "\n",
       "  orig_projected_additional_accrued_interest hardship_payoff_balance_amount  \\\n",
       "0                                        NaN                            NaN   \n",
       "1                                        NaN                            NaN   \n",
       "2                                        NaN                            NaN   \n",
       "3                                        NaN                            NaN   \n",
       "4                                        NaN                            NaN   \n",
       "\n",
       "  hardship_last_payment_amount debt_settlement_flag debt_settlement_flag_date  \\\n",
       "0                          NaN                    N                       NaN   \n",
       "1                          NaN                    N                       NaN   \n",
       "2                          NaN                    N                       NaN   \n",
       "3                          NaN                    N                       NaN   \n",
       "4                          NaN                    N                       NaN   \n",
       "\n",
       "  settlement_status  settlement_date  settlement_amount  \\\n",
       "0               NaN              NaN                NaN   \n",
       "1               NaN              NaN                NaN   \n",
       "2               NaN              NaN                NaN   \n",
       "3               NaN              NaN                NaN   \n",
       "4               NaN              NaN                NaN   \n",
       "\n",
       "   settlement_percentage  settlement_term  \n",
       "0                    NaN              NaN  \n",
       "1                    NaN              NaN  \n",
       "2                    NaN              NaN  \n",
       "3                    NaN              NaN  \n",
       "4                    NaN              NaN  \n",
       "\n",
       "[5 rows x 106 columns]"
      ]
     },
     "execution_count": 28,
     "metadata": {},
     "output_type": "execute_result"
    }
   ],
   "source": [
    "df.head()"
   ]
  },
  {
   "cell_type": "code",
   "execution_count": 29,
   "metadata": {},
   "outputs": [
    {
     "data": {
      "text/plain": [
       "(2260668, 106)"
      ]
     },
     "execution_count": 29,
     "metadata": {},
     "output_type": "execute_result"
    }
   ],
   "source": [
    "df.shape"
   ]
  },
  {
   "cell_type": "markdown",
   "metadata": {},
   "source": [
    "#### Handle missing values"
   ]
  },
  {
   "cell_type": "code",
   "execution_count": 30,
   "metadata": {},
   "outputs": [],
   "source": [
    "# If a column has more than 95% missing values, drop that column\n",
    "#column_list = df.columns.values.tolist()\n",
    "#df_len = len(df)\n",
    "#threshold = round(0.05 * df_len) # 5% non null values\n",
    "#drop_list = []\n",
    "\n",
    "#for column_name in column_list:\n",
    "#    if df[column_name].count() < threshold:\n",
    "#        drop_list.append(column_name)"
   ]
  },
  {
   "cell_type": "code",
   "execution_count": 31,
   "metadata": {},
   "outputs": [],
   "source": [
    "#print(\"Columns having more than 95% missing values\\n\\n\" + str(drop_list) + \"\\n\")"
   ]
  },
  {
   "cell_type": "code",
   "execution_count": 32,
   "metadata": {},
   "outputs": [],
   "source": [
    "# len(drop_list)"
   ]
  },
  {
   "cell_type": "markdown",
   "metadata": {},
   "source": [
    "# Note:  There are 31 columns with >95% missing values.  But, many of these columns appear to be related to loan defaults.  Hence, decided to keep all columns."
   ]
  },
  {
   "cell_type": "code",
   "execution_count": 33,
   "metadata": {},
   "outputs": [],
   "source": [
    "#df.drop(drop_list, axis=1, inplace=True)"
   ]
  },
  {
   "cell_type": "code",
   "execution_count": 34,
   "metadata": {},
   "outputs": [],
   "source": [
    "#df.shape"
   ]
  },
  {
   "cell_type": "code",
   "execution_count": null,
   "metadata": {},
   "outputs": [],
   "source": []
  },
  {
   "cell_type": "code",
   "execution_count": null,
   "metadata": {},
   "outputs": [],
   "source": []
  },
  {
   "cell_type": "markdown",
   "metadata": {},
   "source": [
    "#### Check for duplicate rows"
   ]
  },
  {
   "cell_type": "code",
   "execution_count": 35,
   "metadata": {},
   "outputs": [
    {
     "data": {
      "text/html": [
       "<div>\n",
       "<style scoped>\n",
       "    .dataframe tbody tr th:only-of-type {\n",
       "        vertical-align: middle;\n",
       "    }\n",
       "\n",
       "    .dataframe tbody tr th {\n",
       "        vertical-align: top;\n",
       "    }\n",
       "\n",
       "    .dataframe thead th {\n",
       "        text-align: right;\n",
       "    }\n",
       "</style>\n",
       "<table border=\"1\" class=\"dataframe\">\n",
       "  <thead>\n",
       "    <tr style=\"text-align: right;\">\n",
       "      <th></th>\n",
       "      <th>loan_amnt</th>\n",
       "      <th>funded_amnt</th>\n",
       "      <th>funded_amnt_inv</th>\n",
       "      <th>term</th>\n",
       "      <th>int_rate</th>\n",
       "      <th>installment</th>\n",
       "      <th>grade</th>\n",
       "      <th>sub_grade</th>\n",
       "      <th>home_ownership</th>\n",
       "      <th>annual_inc</th>\n",
       "      <th>...</th>\n",
       "      <th>orig_projected_additional_accrued_interest</th>\n",
       "      <th>hardship_payoff_balance_amount</th>\n",
       "      <th>hardship_last_payment_amount</th>\n",
       "      <th>debt_settlement_flag</th>\n",
       "      <th>debt_settlement_flag_date</th>\n",
       "      <th>settlement_status</th>\n",
       "      <th>settlement_date</th>\n",
       "      <th>settlement_amount</th>\n",
       "      <th>settlement_percentage</th>\n",
       "      <th>settlement_term</th>\n",
       "    </tr>\n",
       "  </thead>\n",
       "  <tbody>\n",
       "  </tbody>\n",
       "</table>\n",
       "<p>0 rows × 106 columns</p>\n",
       "</div>"
      ],
      "text/plain": [
       "Empty DataFrame\n",
       "Columns: [loan_amnt, funded_amnt, funded_amnt_inv, term, int_rate, installment, grade, sub_grade, home_ownership, annual_inc, verification_status, loan_status, pymnt_plan, title, zip_code, addr_state, dti, delinq_2yrs, inq_last_6mths, mths_since_last_delinq, mths_since_last_record, pub_rec, revol_bal, revol_util, initial_list_status, out_prncp, out_prncp_inv, total_pymnt, total_pymnt_inv, total_rec_prncp, total_rec_int, recoveries, last_pymnt_d, last_pymnt_amnt, next_pymnt_d, last_credit_pull_d, collections_12_mths_ex_med, mths_since_last_major_derog, application_type, annual_inc_joint, dti_joint, verification_status_joint, acc_now_delinq, tot_coll_amt, tot_cur_bal, open_acc_6m, open_act_il, total_bal_il, il_util, max_bal_bc, all_util, total_rev_hi_lim, inq_fi, inq_last_12m, avg_cur_bal, bc_util, chargeoff_within_12_mths, delinq_amnt, mths_since_recent_bc_dlq, mths_since_recent_inq, mths_since_recent_revol_delinq, num_accts_ever_120_pd, num_tl_120dpd_2m, num_tl_30dpd, num_tl_90g_dpd_24m, pct_tl_nvr_dlq, percent_bc_gt_75, pub_rec_bankruptcies, tax_liens, tot_hi_cred_lim, total_bal_ex_mort, total_bc_limit, total_il_high_credit_limit, revol_bal_joint, sec_app_earliest_cr_line, sec_app_inq_last_6mths, sec_app_mort_acc, sec_app_open_acc, sec_app_revol_util, sec_app_open_act_il, sec_app_num_rev_accts, sec_app_chargeoff_within_12_mths, sec_app_collections_12_mths_ex_med, sec_app_mths_since_last_major_derog, hardship_flag, hardship_type, hardship_reason, hardship_status, deferral_term, hardship_amount, hardship_start_date, hardship_end_date, payment_plan_start_date, hardship_length, hardship_dpd, hardship_loan_status, orig_projected_additional_accrued_interest, hardship_payoff_balance_amount, hardship_last_payment_amount, debt_settlement_flag, ...]\n",
       "Index: []\n",
       "\n",
       "[0 rows x 106 columns]"
      ]
     },
     "execution_count": 35,
     "metadata": {},
     "output_type": "execute_result"
    }
   ],
   "source": [
    "duplicatedRowsDF = df[df.duplicated()]\n",
    "duplicatedRowsDF"
   ]
  },
  {
   "cell_type": "code",
   "execution_count": 36,
   "metadata": {},
   "outputs": [
    {
     "data": {
      "text/html": [
       "<div>\n",
       "<style scoped>\n",
       "    .dataframe tbody tr th:only-of-type {\n",
       "        vertical-align: middle;\n",
       "    }\n",
       "\n",
       "    .dataframe tbody tr th {\n",
       "        vertical-align: top;\n",
       "    }\n",
       "\n",
       "    .dataframe thead th {\n",
       "        text-align: right;\n",
       "    }\n",
       "</style>\n",
       "<table border=\"1\" class=\"dataframe\">\n",
       "  <thead>\n",
       "    <tr style=\"text-align: right;\">\n",
       "      <th></th>\n",
       "      <th>count</th>\n",
       "      <th>mean</th>\n",
       "      <th>std</th>\n",
       "      <th>min</th>\n",
       "      <th>25%</th>\n",
       "      <th>50%</th>\n",
       "      <th>75%</th>\n",
       "      <th>max</th>\n",
       "    </tr>\n",
       "  </thead>\n",
       "  <tbody>\n",
       "    <tr>\n",
       "      <th>loan_amnt</th>\n",
       "      <td>2260668.0</td>\n",
       "      <td>15046.931228</td>\n",
       "      <td>9190.245488</td>\n",
       "      <td>500.00</td>\n",
       "      <td>8000.00</td>\n",
       "      <td>12900.000</td>\n",
       "      <td>20000.0000</td>\n",
       "      <td>40000.00</td>\n",
       "    </tr>\n",
       "    <tr>\n",
       "      <th>funded_amnt</th>\n",
       "      <td>2260668.0</td>\n",
       "      <td>15041.664057</td>\n",
       "      <td>9188.413022</td>\n",
       "      <td>500.00</td>\n",
       "      <td>8000.00</td>\n",
       "      <td>12875.000</td>\n",
       "      <td>20000.0000</td>\n",
       "      <td>40000.00</td>\n",
       "    </tr>\n",
       "    <tr>\n",
       "      <th>funded_amnt_inv</th>\n",
       "      <td>2260668.0</td>\n",
       "      <td>15023.437624</td>\n",
       "      <td>9192.331807</td>\n",
       "      <td>0.00</td>\n",
       "      <td>8000.00</td>\n",
       "      <td>12800.000</td>\n",
       "      <td>20000.0000</td>\n",
       "      <td>40000.00</td>\n",
       "    </tr>\n",
       "    <tr>\n",
       "      <th>int_rate</th>\n",
       "      <td>2260668.0</td>\n",
       "      <td>13.092913</td>\n",
       "      <td>4.832114</td>\n",
       "      <td>5.31</td>\n",
       "      <td>9.49</td>\n",
       "      <td>12.620</td>\n",
       "      <td>15.9900</td>\n",
       "      <td>30.99</td>\n",
       "    </tr>\n",
       "    <tr>\n",
       "      <th>installment</th>\n",
       "      <td>2260668.0</td>\n",
       "      <td>445.807646</td>\n",
       "      <td>267.173725</td>\n",
       "      <td>4.93</td>\n",
       "      <td>251.65</td>\n",
       "      <td>377.990</td>\n",
       "      <td>593.3200</td>\n",
       "      <td>1719.83</td>\n",
       "    </tr>\n",
       "    <tr>\n",
       "      <th>...</th>\n",
       "      <td>...</td>\n",
       "      <td>...</td>\n",
       "      <td>...</td>\n",
       "      <td>...</td>\n",
       "      <td>...</td>\n",
       "      <td>...</td>\n",
       "      <td>...</td>\n",
       "      <td>...</td>\n",
       "    </tr>\n",
       "    <tr>\n",
       "      <th>hardship_payoff_balance_amount</th>\n",
       "      <td>10613.0</td>\n",
       "      <td>11628.036442</td>\n",
       "      <td>7615.161123</td>\n",
       "      <td>55.73</td>\n",
       "      <td>5628.73</td>\n",
       "      <td>10044.220</td>\n",
       "      <td>16114.9400</td>\n",
       "      <td>40306.41</td>\n",
       "    </tr>\n",
       "    <tr>\n",
       "      <th>hardship_last_payment_amount</th>\n",
       "      <td>10613.0</td>\n",
       "      <td>193.606331</td>\n",
       "      <td>198.694368</td>\n",
       "      <td>0.01</td>\n",
       "      <td>43.78</td>\n",
       "      <td>132.890</td>\n",
       "      <td>284.1800</td>\n",
       "      <td>1407.86</td>\n",
       "    </tr>\n",
       "    <tr>\n",
       "      <th>settlement_amount</th>\n",
       "      <td>33056.0</td>\n",
       "      <td>5030.606922</td>\n",
       "      <td>3692.027842</td>\n",
       "      <td>44.21</td>\n",
       "      <td>2227.00</td>\n",
       "      <td>4172.855</td>\n",
       "      <td>6870.7825</td>\n",
       "      <td>33601.00</td>\n",
       "    </tr>\n",
       "    <tr>\n",
       "      <th>settlement_percentage</th>\n",
       "      <td>33056.0</td>\n",
       "      <td>47.775600</td>\n",
       "      <td>7.336379</td>\n",
       "      <td>0.20</td>\n",
       "      <td>45.00</td>\n",
       "      <td>45.000</td>\n",
       "      <td>50.0000</td>\n",
       "      <td>521.35</td>\n",
       "    </tr>\n",
       "    <tr>\n",
       "      <th>settlement_term</th>\n",
       "      <td>33056.0</td>\n",
       "      <td>13.148596</td>\n",
       "      <td>8.192319</td>\n",
       "      <td>0.00</td>\n",
       "      <td>6.00</td>\n",
       "      <td>14.000</td>\n",
       "      <td>18.0000</td>\n",
       "      <td>181.00</td>\n",
       "    </tr>\n",
       "  </tbody>\n",
       "</table>\n",
       "<p>77 rows × 8 columns</p>\n",
       "</div>"
      ],
      "text/plain": [
       "                                    count          mean          std     min  \\\n",
       "loan_amnt                       2260668.0  15046.931228  9190.245488  500.00   \n",
       "funded_amnt                     2260668.0  15041.664057  9188.413022  500.00   \n",
       "funded_amnt_inv                 2260668.0  15023.437624  9192.331807    0.00   \n",
       "int_rate                        2260668.0     13.092913     4.832114    5.31   \n",
       "installment                     2260668.0    445.807646   267.173725    4.93   \n",
       "...                                   ...           ...          ...     ...   \n",
       "hardship_payoff_balance_amount    10613.0  11628.036442  7615.161123   55.73   \n",
       "hardship_last_payment_amount      10613.0    193.606331   198.694368    0.01   \n",
       "settlement_amount                 33056.0   5030.606922  3692.027842   44.21   \n",
       "settlement_percentage             33056.0     47.775600     7.336379    0.20   \n",
       "settlement_term                   33056.0     13.148596     8.192319    0.00   \n",
       "\n",
       "                                    25%        50%         75%       max  \n",
       "loan_amnt                       8000.00  12900.000  20000.0000  40000.00  \n",
       "funded_amnt                     8000.00  12875.000  20000.0000  40000.00  \n",
       "funded_amnt_inv                 8000.00  12800.000  20000.0000  40000.00  \n",
       "int_rate                           9.49     12.620     15.9900     30.99  \n",
       "installment                      251.65    377.990    593.3200   1719.83  \n",
       "...                                 ...        ...         ...       ...  \n",
       "hardship_payoff_balance_amount  5628.73  10044.220  16114.9400  40306.41  \n",
       "hardship_last_payment_amount      43.78    132.890    284.1800   1407.86  \n",
       "settlement_amount               2227.00   4172.855   6870.7825  33601.00  \n",
       "settlement_percentage             45.00     45.000     50.0000    521.35  \n",
       "settlement_term                    6.00     14.000     18.0000    181.00  \n",
       "\n",
       "[77 rows x 8 columns]"
      ]
     },
     "execution_count": 36,
     "metadata": {},
     "output_type": "execute_result"
    }
   ],
   "source": [
    "df_desc = df.describe()\n",
    "df_desc = df_desc.T\n",
    "df_desc"
   ]
  },
  {
   "cell_type": "code",
   "execution_count": 37,
   "metadata": {},
   "outputs": [
    {
     "name": "stdout",
     "output_type": "stream",
     "text": [
      "<class 'pandas.core.frame.DataFrame'>\n",
      "RangeIndex: 2260668 entries, 0 to 2260667\n",
      "Columns: 106 entries, loan_amnt to settlement_term\n",
      "dtypes: float64(74), int64(3), object(29)\n",
      "memory usage: 1.8+ GB\n"
     ]
    }
   ],
   "source": [
    "df.info()"
   ]
  },
  {
   "cell_type": "code",
   "execution_count": 38,
   "metadata": {},
   "outputs": [],
   "source": [
    "column_list = df.columns.values.tolist()\n",
    "df_len = len(df)"
   ]
  },
  {
   "cell_type": "code",
   "execution_count": 39,
   "metadata": {},
   "outputs": [
    {
     "name": "stdout",
     "output_type": "stream",
     "text": [
      "Filling NaNs with 0 for all numeric columns\n",
      "\n"
     ]
    }
   ],
   "source": [
    "print(\"Filling NaNs with 0 for all numeric columns\\n\")\n",
    "for column_name in column_list:\n",
    "    if is_numeric_dtype(df[column_name]):\n",
    "        df[column_name].fillna(0, inplace=True)"
   ]
  },
  {
   "cell_type": "code",
   "execution_count": 40,
   "metadata": {},
   "outputs": [
    {
     "name": "stdout",
     "output_type": "stream",
     "text": [
      "Value counts for object type columns:\n",
      "Column = term:\n",
      "  36 months    1609754\n",
      " 60 months     650914\n",
      "Name: term, dtype: int64 \n",
      "\n",
      "Column = grade:\n",
      " B    663557\n",
      "C    650053\n",
      "A    433027\n",
      "D    324424\n",
      "E    135639\n",
      "F     41800\n",
      "G     12168\n",
      "Name: grade, dtype: int64 \n",
      "\n",
      "Column = sub_grade:\n",
      " C1    145903\n",
      "B5    140288\n",
      "B4    139793\n",
      "B3    131514\n",
      "C2    131116\n",
      "C3    129193\n",
      "C4    127115\n",
      "B2    126621\n",
      "B1    125341\n",
      "C5    116726\n",
      "A5    107617\n",
      "A4     95874\n",
      "A1     86790\n",
      "D1     81787\n",
      "A3     73184\n",
      "D2     72899\n",
      "A2     69562\n",
      "D3     64819\n",
      "D4     56896\n",
      "D5     48023\n",
      "E1     33573\n",
      "E2     29924\n",
      "E3     26708\n",
      "E4     22763\n",
      "E5     22671\n",
      "F1     13413\n",
      "F2      9305\n",
      "F3      7791\n",
      "F4      6124\n",
      "F5      5167\n",
      "G1      4106\n",
      "G2      2688\n",
      "G3      2094\n",
      "G4      1712\n",
      "G5      1568\n",
      "Name: sub_grade, dtype: int64 \n",
      "\n",
      "Column = home_ownership:\n",
      " MORTGAGE    1111450\n",
      "RENT         894929\n",
      "OWN          253057\n",
      "ANY             996\n",
      "OTHER           182\n",
      "NONE             54\n",
      "Name: home_ownership, dtype: int64 \n",
      "\n",
      "Column = verification_status:\n",
      " Source Verified    886231\n",
      "Not Verified       744806\n",
      "Verified           629631\n",
      "Name: verification_status, dtype: int64 \n",
      "\n",
      "Column = loan_status:\n",
      " Fully Paid                                             1041952\n",
      "Current                                                 919695\n",
      "Charged Off                                             261655\n",
      "Late (31-120 days)                                       21897\n",
      "In Grace Period                                           8952\n",
      "Late (16-30 days)                                         3737\n",
      "Does not meet the credit policy. Status:Fully Paid        1988\n",
      "Does not meet the credit policy. Status:Charged Off        761\n",
      "Default                                                     31\n",
      "Name: loan_status, dtype: int64 \n",
      "\n",
      "Column = pymnt_plan:\n",
      " n    2259986\n",
      "y        682\n",
      "Name: pymnt_plan, dtype: int64 \n",
      "\n",
      "Column = title:\n",
      " Debt consolidation               1153293\n",
      "Credit card refinancing           469691\n",
      "Home improvement                  137437\n",
      "Other                             127714\n",
      "Major purchase                     44840\n",
      "                                  ...   \n",
      "Visa card reduction                    1\n",
      "cleanslatebill                         1\n",
      "spacialvaction                         1\n",
      "Pay off higher interest bills          1\n",
      "planb consolidation                    1\n",
      "Name: title, Length: 63155, dtype: int64 \n",
      "\n",
      "Column = zip_code:\n",
      " 112xx    23908\n",
      "945xx    23782\n",
      "750xx    23649\n",
      "606xx    21192\n",
      "300xx    20497\n",
      "         ...  \n",
      "429xx        1\n",
      "889xx        1\n",
      "509xx        1\n",
      "885xx        1\n",
      "202xx        1\n",
      "Name: zip_code, Length: 956, dtype: int64 \n",
      "\n",
      "Column = addr_state:\n",
      " CA    314533\n",
      "NY    186389\n",
      "TX    186335\n",
      "FL    161991\n",
      "IL     91173\n",
      "NJ     83132\n",
      "PA     76939\n",
      "OH     75132\n",
      "GA     74196\n",
      "VA     62954\n",
      "NC     62730\n",
      "MI     58770\n",
      "MD     54008\n",
      "AZ     53777\n",
      "MA     51784\n",
      "CO     48183\n",
      "WA     47060\n",
      "MN     39517\n",
      "IN     37515\n",
      "MO     36084\n",
      "CT     35785\n",
      "TN     35483\n",
      "NV     32657\n",
      "WI     29877\n",
      "SC     28003\n",
      "AL     27284\n",
      "OR     26789\n",
      "LA     25759\n",
      "KY     21887\n",
      "OK     20691\n",
      "KS     19109\n",
      "AR     17074\n",
      "UT     14993\n",
      "MS     12639\n",
      "NM     11986\n",
      "NH     11142\n",
      "HI     10668\n",
      "RI     10005\n",
      "WV      8351\n",
      "NE      7819\n",
      "DE      6458\n",
      "MT      6299\n",
      "DC      5356\n",
      "AK      5231\n",
      "ME      4974\n",
      "VT      4937\n",
      "WY      4748\n",
      "SD      4549\n",
      "ID      4308\n",
      "ND      3591\n",
      "IA        14\n",
      "Name: addr_state, dtype: int64 \n",
      "\n",
      "Column = initial_list_status:\n",
      " w    1535467\n",
      "f     725201\n",
      "Name: initial_list_status, dtype: int64 \n",
      "\n",
      "Column = last_pymnt_d:\n",
      " Feb-2019    934725\n",
      "Jan-2019     52576\n",
      "Aug-2018     39615\n",
      "Mar-2018     38269\n",
      "Oct-2018     37468\n",
      "             ...  \n",
      "Jun-2008        20\n",
      "Mar-2008        18\n",
      "Jan-2008        11\n",
      "Feb-2008         8\n",
      "Dec-2007         2\n",
      "Name: last_pymnt_d, Length: 135, dtype: int64 \n",
      "\n",
      "Column = next_pymnt_d:\n",
      " Mar-2019    953821\n",
      "Feb-2019       406\n",
      "Mar-2011       107\n",
      "Apr-2011       101\n",
      "Feb-2011        91\n",
      "             ...  \n",
      "Aug-2014         2\n",
      "Feb-2018         1\n",
      "May-2008         1\n",
      "Mar-2015         1\n",
      "Aug-2018         1\n",
      "Name: next_pymnt_d, Length: 105, dtype: int64 \n",
      "\n",
      "Column = last_credit_pull_d:\n",
      " Feb-2019    1398266\n",
      "Jan-2019      78011\n",
      "Jul-2018      56612\n",
      "Dec-2018      52077\n",
      "Oct-2018      51366\n",
      "             ...   \n",
      "Dec-2007          2\n",
      "Feb-2008          2\n",
      "Jun-2008          1\n",
      "Jul-2007          1\n",
      "Jul-2008          1\n",
      "Name: last_credit_pull_d, Length: 140, dtype: int64 \n",
      "\n",
      "Column = application_type:\n",
      " Individual    2139958\n",
      "Joint App      120710\n",
      "Name: application_type, dtype: int64 \n",
      "\n",
      "Column = verification_status_joint:\n",
      " Not Verified       57403\n",
      "Source Verified    34827\n",
      "Verified           23500\n",
      "Name: verification_status_joint, dtype: int64 \n",
      "\n",
      "Column = sec_app_earliest_cr_line:\n",
      " Aug-2006    998\n",
      "Aug-2005    894\n",
      "Sep-2006    894\n",
      "Sep-2005    889\n",
      "Sep-2004    848\n",
      "           ... \n",
      "Dec-1969      1\n",
      "Dec-1954      1\n",
      "Feb-1963      1\n",
      "Oct-1962      1\n",
      "Jul-1968      1\n",
      "Name: sec_app_earliest_cr_line, Length: 663, dtype: int64 \n",
      "\n",
      "Column = hardship_flag:\n",
      " N    2259783\n",
      "Y        885\n",
      "Name: hardship_flag, dtype: int64 \n",
      "\n",
      "Column = hardship_type:\n",
      " INTEREST ONLY-3 MONTHS DEFERRAL    10613\n",
      "Name: hardship_type, dtype: int64 \n",
      "\n",
      "Column = hardship_reason:\n",
      " NATURAL_DISASTER         2965\n",
      "EXCESSIVE_OBLIGATIONS    2079\n",
      "UNEMPLOYMENT             1834\n",
      "INCOME_CURTAILMENT       1279\n",
      "MEDICAL                  1249\n",
      "REDUCED_HOURS             629\n",
      "DIVORCE                   218\n",
      "FAMILY_DEATH              206\n",
      "DISABILITY                154\n",
      "Name: hardship_reason, dtype: int64 \n",
      "\n",
      "Column = hardship_status:\n",
      " COMPLETED    7541\n",
      "BROKEN       2187\n",
      "ACTIVE        885\n",
      "Name: hardship_status, dtype: int64 \n",
      "\n",
      "Column = hardship_start_date:\n",
      " Sep-2017    2444\n",
      "Oct-2017    1077\n",
      "Oct-2018     594\n",
      "Nov-2017     466\n",
      "Aug-2018     463\n",
      "Jan-2019     431\n",
      "Sep-2018     422\n",
      "Nov-2018     420\n",
      "Jun-2017     400\n",
      "May-2017     373\n",
      "Aug-2017     360\n",
      "Dec-2017     359\n",
      "Jul-2018     359\n",
      "Jan-2018     348\n",
      "Dec-2018     339\n",
      "Feb-2019     297\n",
      "Jul-2017     271\n",
      "Jun-2018     260\n",
      "Feb-2018     242\n",
      "Mar-2018     238\n",
      "May-2018     216\n",
      "Apr-2018     205\n",
      "Feb-2017      11\n",
      "Apr-2017       9\n",
      "Mar-2017       6\n",
      "Jan-2017       3\n",
      "Name: hardship_start_date, dtype: int64 \n",
      "\n",
      "Column = hardship_end_date:\n",
      " Dec-2017    1756\n",
      "Nov-2017    1325\n",
      "Jan-2018     749\n",
      "Jan-2019     518\n",
      "Dec-2018     509\n",
      "Feb-2019     471\n",
      "Nov-2018     413\n",
      "Feb-2018     401\n",
      "Oct-2018     397\n",
      "Oct-2017     396\n",
      "Aug-2017     386\n",
      "Sep-2017     368\n",
      "Apr-2019     367\n",
      "Mar-2018     356\n",
      "Mar-2019     315\n",
      "Sep-2018     299\n",
      "Apr-2018     295\n",
      "Aug-2018     266\n",
      "May-2018     253\n",
      "Jul-2018     212\n",
      "Jun-2018     210\n",
      "Jul-2017     174\n",
      "May-2019     101\n",
      "Jun-2017      50\n",
      "May-2017      16\n",
      "Apr-2017       6\n",
      "Mar-2017       4\n",
      "Name: hardship_end_date, dtype: int64 \n",
      "\n",
      "Column = payment_plan_start_date:\n",
      " Sep-2017    1715\n",
      "Oct-2017    1629\n",
      "Nov-2017     640\n",
      "Oct-2018     538\n",
      "Nov-2018     481\n",
      "Aug-2018     456\n",
      "Sep-2018     416\n",
      "Dec-2017     413\n",
      "Jun-2017     394\n",
      "Feb-2019     387\n",
      "Dec-2018     379\n",
      "Jan-2019     368\n",
      "Jul-2017     343\n",
      "Jan-2018     329\n",
      "Feb-2018     307\n",
      "Jul-2018     297\n",
      "Aug-2017     294\n",
      "Jun-2018     231\n",
      "Apr-2018     218\n",
      "Mar-2018     218\n",
      "May-2017     217\n",
      "May-2018     216\n",
      "Mar-2019     102\n",
      "Mar-2017      11\n",
      "Feb-2017       9\n",
      "Apr-2017       5\n",
      "Name: payment_plan_start_date, dtype: int64 \n",
      "\n",
      "Column = hardship_loan_status:\n",
      " Late (16-30 days)     4622\n",
      "In Grace Period       2806\n",
      "Current               2737\n",
      "Late (31-120 days)     433\n",
      "Issued                  15\n",
      "Name: hardship_loan_status, dtype: int64 \n",
      "\n",
      "Column = debt_settlement_flag:\n",
      " N    2227612\n",
      "Y      33056\n",
      "Name: debt_settlement_flag, dtype: int64 \n",
      "\n",
      "Column = debt_settlement_flag_date:\n",
      " Feb-2019    2730\n",
      "Jan-2019    2617\n",
      "Oct-2018    2426\n",
      "Dec-2018    2317\n",
      "Nov-2018    2277\n",
      "            ... \n",
      "Dec-2012       1\n",
      "Jan-2014       1\n",
      "Feb-2011       1\n",
      "Oct-2011       1\n",
      "Nov-2011       1\n",
      "Name: debt_settlement_flag_date, Length: 82, dtype: int64 \n",
      "\n",
      "Column = settlement_status:\n",
      " ACTIVE      14811\n",
      "COMPLETE    13517\n",
      "BROKEN       4728\n",
      "Name: settlement_status, dtype: int64 \n",
      "\n",
      "Column = settlement_date:\n",
      " Jan-2019    1725\n",
      "Oct-2018    1532\n",
      "Mar-2018    1407\n",
      "Sep-2018    1406\n",
      "Nov-2018    1400\n",
      "            ... \n",
      "Mar-2012       1\n",
      "Feb-2010       1\n",
      "Jul-2011       1\n",
      "Mar-2009       1\n",
      "Jan-2012       1\n",
      "Name: settlement_date, Length: 89, dtype: int64 \n",
      "\n"
     ]
    }
   ],
   "source": [
    "from pandas.api.types import is_string_dtype\n",
    "\n",
    "obj_list = []\n",
    "\n",
    "print(\"Value counts for object type columns:\")\n",
    "for column_name in column_list:\n",
    "    if is_string_dtype(df[column_name]):\n",
    "        obj_list.append(column_name)\n",
    "        print(\"Column = \" + column_name + \":\\n\", df[column_name].value_counts(), \"\\n\")\n",
    "        \n"
   ]
  },
  {
   "cell_type": "code",
   "execution_count": 41,
   "metadata": {},
   "outputs": [
    {
     "name": "stdout",
     "output_type": "stream",
     "text": [
      "Dropping last_pymnt_d, next_pymnt_d, last_credit_pull_d, sec_app_earliest_cr_line, hardship_start_date, hardship_end_date, payment_plan_start_date, debt_settlement_flag_date, settlement_date\n"
     ]
    }
   ],
   "source": [
    "print(\"Dropping last_pymnt_d, next_pymnt_d, last_credit_pull_d, sec_app_earliest_cr_line, hardship_start_date, hardship_end_date, payment_plan_start_date, debt_settlement_flag_date, settlement_date\")\n",
    "df.drop(['last_pymnt_d','next_pymnt_d','last_credit_pull_d','sec_app_earliest_cr_line','hardship_start_date','hardship_end_date','payment_plan_start_date','debt_settlement_flag_date','settlement_date'], axis=1, inplace=True)"
   ]
  },
  {
   "cell_type": "code",
   "execution_count": 42,
   "metadata": {},
   "outputs": [
    {
     "data": {
      "text/plain": [
       "(2260668, 97)"
      ]
     },
     "execution_count": 42,
     "metadata": {},
     "output_type": "execute_result"
    }
   ],
   "source": [
    "df.shape"
   ]
  },
  {
   "cell_type": "code",
   "execution_count": 43,
   "metadata": {},
   "outputs": [],
   "source": [
    "df.to_csv(\"data\\Cap2_step2_output.csv\")"
   ]
  },
  {
   "cell_type": "code",
   "execution_count": null,
   "metadata": {},
   "outputs": [],
   "source": []
  }
 ],
 "metadata": {
  "kernelspec": {
   "display_name": "Python 3",
   "language": "python",
   "name": "python3"
  },
  "language_info": {
   "codemirror_mode": {
    "name": "ipython",
    "version": 3
   },
   "file_extension": ".py",
   "mimetype": "text/x-python",
   "name": "python",
   "nbconvert_exporter": "python",
   "pygments_lexer": "ipython3",
   "version": "3.7.3"
  }
 },
 "nbformat": 4,
 "nbformat_minor": 2
}
